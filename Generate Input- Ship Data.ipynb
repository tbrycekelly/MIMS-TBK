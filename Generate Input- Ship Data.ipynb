{
 "cells": [
  {
   "cell_type": "code",
   "execution_count": 1,
   "metadata": {
    "scrolled": false
   },
   "outputs": [
    {
     "name": "stdout",
     "output_type": "stream",
     "text": [
      "Packages Loaded:\n",
      "ncdf4 R.matlab openxlsx RColorBrewer compiler lattice geosphere readxl data.table rworldmap rworldxtra\n"
     ]
    },
    {
     "name": "stderr",
     "output_type": "stream",
     "text": [
      "Loading required package: ncdf4\n",
      "Loading required package: R.matlab\n",
      "Warning message:\n",
      "\"package 'R.matlab' was built under R version 3.4.3\"R.matlab v3.6.1 (2016-10-19) successfully loaded. See ?R.matlab for help.\n",
      "\n",
      "Attaching package: 'R.matlab'\n",
      "\n",
      "The following objects are masked from 'package:base':\n",
      "\n",
      "    getOption, isOpen\n",
      "\n",
      "Loading required package: openxlsx\n",
      "Warning message:\n",
      "\"package 'openxlsx' was built under R version 3.4.3\"Loading required package: RColorBrewer\n",
      "Loading required package: compiler\n",
      "Loading required package: lattice\n",
      "Warning message:\n",
      "\"package 'lattice' was built under R version 3.4.3\"Loading required package: geosphere\n",
      "Warning message:\n",
      "\"package 'geosphere' was built under R version 3.4.3\"Loading required package: readxl\n",
      "Loading required package: data.table\n",
      "Warning message:\n",
      "\"package 'data.table' was built under R version 3.4.3\"Loading required package: rworldmap\n",
      "Warning message:\n",
      "\"package 'rworldmap' was built under R version 3.4.3\"Loading required package: sp\n",
      "Warning message:\n",
      "\"package 'sp' was built under R version 3.4.3\"### Welcome to rworldmap ###\n",
      "For a short introduction type : \t vignette('rworldmap')\n",
      "Loading required package: rworldxtra\n",
      "Warning message:\n",
      "\"package 'rworldxtra' was built under R version 3.4.3\""
     ]
    }
   ],
   "source": [
    "source('source.r')\n",
    "\n",
    "#library(openxl)\n",
    "#read.xlsx = openxl::read_excel"
   ]
  },
  {
   "cell_type": "markdown",
   "metadata": {},
   "source": [
    "---\n",
    "# 2. Load and prepare ship data\n",
    "This section deals with the loading of the met-merge data. Once loaded and the structure is verified, a 2 minute average is taken for all parameters. Once completed, the next section will add the NCEP wind data and MLD to the data frame.The file structure which this script is looking for is as follows where Vars are in any order but with the proper abbreviations.\n",
    "\n",
    "``Datetime  Var1   Var2  Var3 ...``\n",
    "\n",
    "Variable Descriptions and Abbreviations\n",
    "* __DT -- Date Time__\n",
    "* __TW -- True Wind__\n",
    "* TI  -- Wind Dir\n",
    "* __LA -- Latitude__\n",
    "* __LO -- Longitude__\n",
    "* __AT -- Atm Temp__\n",
    "* __BP -- Pressure__\n",
    "* PA -- PAR\n",
    "* __TT (TT2*)  -- Water Temp__\n",
    "* __SA -- Salinity__\n",
    "* __OS -- Oxygen__\n",
    "* FL -- Fluorometer\n",
    "* BT -- Bottom Depth\n",
    "\n",
    "___NB___: Bold identies required columns while the others are used for additional analyses."
   ]
  },
  {
   "cell_type": "code",
   "execution_count": 2,
   "metadata": {},
   "outputs": [],
   "source": [
    "read.ship.data = function(path) {\n",
    "    ## Load the data file\n",
    "    data = read.xlsx(path)\n",
    "    ## Trim data to the following columns:\n",
    "    keep = c('DT', 'TW', 'TI', 'LA', 'LO', 'AT', 'BP', 'PA', 'TT', 'SA', 'OS', 'OX', 'FL', 'BT')\n",
    "    data = data[, which(names(data) %in% keep)]\n",
    "\n",
    "    # Convert excel datetime numbers to actual datetimes.\n",
    "    #data$DT = conv_excel_time(data$DT, tz='GMT')\n",
    "\n",
    "    # Calculated from Thomas et al.\n",
    "    data$TW = data$TW * 0.942  \n",
    "\n",
    "    ## Convert all columns (except date/time to numeric)\n",
    "    #for (i in 2:ncol(data)) {\n",
    "    #    data[,i] = as.numeric(data[,i])\n",
    "    #}\n",
    "\n",
    "    ## Check that it loaded properly/correct data type (num)\n",
    "    print(paste('Do the number of names in keep match the number of columns now?', ncol(data) == length(keep)))\n",
    "    \n",
    "    data\n",
    "}"
   ]
  },
  {
   "cell_type": "code",
   "execution_count": 3,
   "metadata": {},
   "outputs": [
    {
     "name": "stdout",
     "output_type": "stream",
     "text": [
      "[1] \"Do the number of names in keep match the number of columns now? FALSE\"\n"
     ]
    }
   ],
   "source": [
    "options(warn = -1)\n",
    "ship.data = read.ship.data('Raw Data/MET/met-merge-final.xlsx')\n",
    "options(warn = 0)"
   ]
  },
  {
   "cell_type": "code",
   "execution_count": 4,
   "metadata": {},
   "outputs": [
    {
     "name": "stdout",
     "output_type": "stream",
     "text": [
      "'data.frame':\t186490 obs. of  17 variables:\n",
      " $ DT  : num  42886 42886 42886 42886 42886 ...\n",
      " $ TW  : num  2.54 2.17 2.83 3.01 3.01 ...\n",
      " $ TI  : num  209 214 216 224 226 ...\n",
      " $ TT  : num  19.4 19.4 19.4 19.4 19.4 ...\n",
      " $ SA  : num  33.2 33.2 33.2 33.2 33.2 ...\n",
      " $ OS  : num  5 5 5 5 5 ...\n",
      " $ FL  : num  0.079 0.08 0.077 0.076 0.076 0.077 0.076 0.076 0.076 0.074 ...\n",
      " $ AT  : num  16.7 16.7 16.7 16.8 16.8 ...\n",
      " $ BP  : num  1010 1010 1010 1010 1010 ...\n",
      " $ PA  : num  925 930 918 915 913 ...\n",
      " $ SA.1: num  33.2 33.2 33.2 33.2 33.2 ...\n",
      " $ OX  : num  -99 -99 -99 -99 -99 -99 -99 -99 -99 -99 ...\n",
      " $ OS.1: num  5 5 5 5 5 ...\n",
      " $ FL.1: num  0.079 0.08 0.077 0.076 0.076 0.077 0.076 0.076 0.076 0.074 ...\n",
      " $ BT  : chr  \"-99\" \"-99\" \"-99\" \"-99\" ...\n",
      " $ LA  : num  32.7 32.7 32.7 32.7 32.7 ...\n",
      " $ LO  : chr  \"-117.2362\" \"-117.236199\" \"-117.23620099999999\" \"-117.23620099999999\" ...\n"
     ]
    }
   ],
   "source": [
    "str(ship.data)"
   ]
  },
  {
   "cell_type": "markdown",
   "metadata": {},
   "source": [
    "#### Remove bad wind data\n",
    "Here we simply remove the rows there wind speed is less than zero (TW < 0). We also report the number of rows affected (should be a relatively small amount)."
   ]
  },
  {
   "cell_type": "code",
   "execution_count": 5,
   "metadata": {},
   "outputs": [
    {
     "data": {
      "text/html": [
       "618"
      ],
      "text/latex": [
       "618"
      ],
      "text/markdown": [
       "618"
      ],
      "text/plain": [
       "[1] 618"
      ]
     },
     "metadata": {},
     "output_type": "display_data"
    }
   ],
   "source": [
    "bad.wind = which(ship.data$TW < 0)\n",
    "length(bad.wind)\n",
    "\n",
    "## Remove bad wind entries\n",
    "ship.data = ship.data[-bad.wind,]"
   ]
  },
  {
   "cell_type": "markdown",
   "metadata": {},
   "source": [
    "### The N minute average:\n",
    "1. Start with the first row, set ___current.time___ to that row's time\n",
    "2. Find all rows with times >= to the current time\n",
    "3. Remove all rows with times more than N minutes away from the ___current.time___.\n",
    "4. Take the column average of those rows and replace the current row.\n",
    "5. Remove all the other rows\n",
    "6. Repeat process on the next row."
   ]
  },
  {
   "cell_type": "markdown",
   "metadata": {},
   "source": [
    "__NB This will take a while.__"
   ]
  },
  {
   "cell_type": "code",
   "execution_count": 20,
   "metadata": {},
   "outputs": [
    {
     "name": "stdout",
     "output_type": "stream",
     "text": [
      "[1] \"The number of rows before was 185872 and now there are 38854\"\n"
     ]
    }
   ],
   "source": [
    "ship.data = take.avg(ship.data, c.time = 1, nc.skip = 1, n = 60, )"
   ]
  },
  {
   "cell_type": "markdown",
   "metadata": {},
   "source": [
    "## Save Results"
   ]
  },
  {
   "cell_type": "code",
   "execution_count": 21,
   "metadata": {},
   "outputs": [],
   "source": [
    "## Save point after loading ship data and averaging. \n",
    "save(ship.data, file='./RStates/ship.1min.avg.rdata')\n",
    "#write.xlsx(ship.data, file='./Input Data/Shipdata - Averaged.xlsx')\n",
    "\n",
    "#gc() # Free up memory"
   ]
  },
  {
   "cell_type": "code",
   "execution_count": null,
   "metadata": {
    "collapsed": true
   },
   "outputs": [],
   "source": []
  }
 ],
 "metadata": {
  "anaconda-cloud": {},
  "kernelspec": {
   "display_name": "R",
   "language": "R",
   "name": "ir"
  },
  "language_info": {
   "codemirror_mode": "r",
   "file_extension": ".r",
   "mimetype": "text/x-r-source",
   "name": "R",
   "pygments_lexer": "r",
   "version": "3.4.2"
  }
 },
 "nbformat": 4,
 "nbformat_minor": 2
}
