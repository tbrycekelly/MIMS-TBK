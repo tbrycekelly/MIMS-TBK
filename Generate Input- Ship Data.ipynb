{
 "cells": [
  {
   "cell_type": "code",
   "execution_count": 11,
   "metadata": {},
   "outputs": [
    {
     "name": "stderr",
     "output_type": "stream",
     "text": [
      "Warning message:\n",
      "\"package 'Rtools' is not available (for R version 3.4.1)\""
     ]
    },
    {
     "data": {
      "text/html": [
       "3"
      ],
      "text/latex": [
       "3"
      ],
      "text/markdown": [
       "3"
      ],
      "text/plain": [
       "[1] 3"
      ]
     },
     "metadata": {},
     "output_type": "display_data"
    }
   ],
   "source": [
    "## Install the package if needed:\n",
    "#install.packages('Rtools', repos='http://cran.us.r-project.org')\n",
    "\n",
    "## Load the relevent packages\n",
    "library(ncdf4)  # For reading in the NCEP wind fields\n",
    "#library(R.matlab)  # If you need to read in matlab .mat files\n",
    "library(openxlsx)  # If you need to read in .xlsx files\n",
    "#library(rNOMADS)  # For reading grib2 data files (NOMADS data for instance)\n",
    "#library(rGDAL)  #\n",
    "library(RColorBrewer)\n",
    "library(compiler)  # required for JIT (below)\n",
    "\n",
    "## Enable compilation (speed gain?)\n",
    "enableJIT(3)\n",
    "\n",
    "## Helper function for converting the date time stamps.\n",
    "conv_excel_time = function(x, tz='US/Pacific') {\n",
    "    as.POSIXct(as.Date(x,origin=\"1899-12-30\", tz=tz))\n",
    "}\n",
    "\n",
    "get.qual.pal = function(n=100, pal='Accent') {\n",
    "    colorRampPalette(brewer.pal(8, pal))(n)\n",
    "}\n",
    "\n",
    "get.seq.pal = function(n=100, pal='YlOrRd') {\n",
    "    colorRampPalette(rev(brewer.pal(11, pal)))(n)\n",
    "}\n",
    "\n",
    "get.div.pal = function(n=100, pal='Spectral') {\n",
    "    colorRampPalette(rev(brewer.pal(11, pal)))(n)\n",
    "}\n",
    "\n",
    "make.div.pal = function(x=100, n, pal='Spectral') {\n",
    "    get.div.pal(n, pal=pal)[as.numeric(cut(x, breaks = n))]\n",
    "}"
   ]
  },
  {
   "cell_type": "markdown",
   "metadata": {},
   "source": [
    "---\n",
    "# 2. Load and prepare ship data\n",
    "This section deals with the loading of the met-merge data. Once loaded and the structure is verified, a 2 minute average is taken for all parameters. Once completed, the next section will add the NCEP wind data and MLD to the data frame.The file structure which this script is looking for is as follows where Vars are in any order but with the proper abbreviations.\n",
    "\n",
    "``Datetime  Var1   Var2  Var3 ...``\n",
    "\n",
    "Variable Descriptions and Abbreviations\n",
    "* __DT -- Date Time__\n",
    "* __TW -- True Wind__\n",
    "* TI  -- Wind Dir\n",
    "* __LA -- Latitude__\n",
    "* __LO -- Longitude__\n",
    "* __AT -- Atm Temp__\n",
    "* __BP -- Pressure__\n",
    "* PA -- PAR\n",
    "* __TT (TT2*)  -- Water Temp__\n",
    "* __SA -- Salinity__\n",
    "* __OS -- Oxygen__\n",
    "* FL -- Fluorometer\n",
    "* BT -- Bottom Depth\n",
    "\n",
    "___NB___: Bold identies required columns while the others are used for additional analyses."
   ]
  },
  {
   "cell_type": "code",
   "execution_count": 6,
   "metadata": {},
   "outputs": [
    {
     "data": {
      "text/html": [
       "<ol class=list-inline>\n",
       "\t<li>'DT'</li>\n",
       "\t<li>'TW'</li>\n",
       "\t<li>'TI'</li>\n",
       "\t<li>'TT'</li>\n",
       "\t<li>'TT-2'</li>\n",
       "\t<li>'SA'</li>\n",
       "\t<li>'OS'</li>\n",
       "\t<li>'FL'</li>\n",
       "\t<li>'AT'</li>\n",
       "\t<li>'BP'</li>\n",
       "\t<li>'BS'</li>\n",
       "\t<li>'PR'</li>\n",
       "\t<li>'RH'</li>\n",
       "\t<li>'RT'</li>\n",
       "\t<li>'DP'</li>\n",
       "\t<li>'LD'</li>\n",
       "\t<li>'LB'</li>\n",
       "\t<li>'LT'</li>\n",
       "\t<li>'LW'</li>\n",
       "\t<li>'SW'</li>\n",
       "\t<li>'PA'</li>\n",
       "\t<li>'WS'</li>\n",
       "\t<li>'WD'</li>\n",
       "\t<li>'WS-2'</li>\n",
       "\t<li>'WD-2'</li>\n",
       "\t<li>'TW-2'</li>\n",
       "\t<li>'TI-2'</li>\n",
       "\t<li>'TC'</li>\n",
       "\t<li>'SA'</li>\n",
       "\t<li>'SD'</li>\n",
       "\t<li>'SV'</li>\n",
       "\t<li>'TG'</li>\n",
       "\t<li>'FI'</li>\n",
       "\t<li>'TC-2'</li>\n",
       "\t<li>'SA-2'</li>\n",
       "\t<li>'SD-2'</li>\n",
       "\t<li>'SV-2'</li>\n",
       "\t<li>'TG-2'</li>\n",
       "\t<li>'OC'</li>\n",
       "\t<li>'OT'</li>\n",
       "\t<li>'OX'</li>\n",
       "\t<li>'OS'</li>\n",
       "\t<li>'FL'</li>\n",
       "\t<li>'FI-2'</li>\n",
       "\t<li>'VP'</li>\n",
       "\t<li>'VR'</li>\n",
       "\t<li>'VH'</li>\n",
       "\t<li>'VX'</li>\n",
       "\t<li>'VY'</li>\n",
       "\t<li>'GY'</li>\n",
       "\t<li>'MB'</li>\n",
       "\t<li>'BT'</li>\n",
       "\t<li>'LF'</li>\n",
       "\t<li>'HF'</li>\n",
       "\t<li>'LA'</li>\n",
       "\t<li>'LO'</li>\n",
       "\t<li>'GT'</li>\n",
       "\t<li>'CR'</li>\n",
       "\t<li>'SP'</li>\n",
       "\t<li>'ZD'</li>\n",
       "\t<li>'GA'</li>\n",
       "\t<li>'GS'</li>\n",
       "\t<li>'ZO'</li>\n",
       "\t<li>'ZS'</li>\n",
       "\t<li>'ZT'</li>\n",
       "\t<li>'ZI'</li>\n",
       "\t<li>'ZO-2'</li>\n",
       "\t<li>'ZS-2'</li>\n",
       "\t<li>'ZT-2'</li>\n",
       "\t<li>'ZI-2'</li>\n",
       "\t<li>'ZO-3'</li>\n",
       "\t<li>'ZS-3'</li>\n",
       "\t<li>'ZT-3'</li>\n",
       "\t<li>'ZI-3'</li>\n",
       "\t<li>'PZ'</li>\n",
       "\t<li>'PZ-2'</li>\n",
       "\t<li>'IP'</li>\n",
       "\t<li>'IV'</li>\n",
       "\t<li>'IA'</li>\n",
       "\t<li>'MG'</li>\n",
       "\t<li>'MD'</li>\n",
       "\t<li>'MS'</li>\n",
       "\t<li>'MG-2'</li>\n",
       "\t<li>'MD-2'</li>\n",
       "\t<li>'MS-2'</li>\n",
       "\t<li>'GC'</li>\n",
       "\t<li>'TT-3'</li>\n",
       "\t<li>'TC-3'</li>\n",
       "\t<li>'SA-3'</li>\n",
       "\t<li>'TT-4'</li>\n",
       "\t<li>'TC-4'</li>\n",
       "\t<li>'SA-4'</li>\n",
       "\t<li>'SH'</li>\n",
       "\t<li>'SM'</li>\n",
       "\t<li>'SR'</li>\n",
       "\t<li>'SL'</li>\n",
       "\t<li>'SX'</li>\n",
       "</ol>\n"
      ],
      "text/latex": [
       "\\begin{enumerate*}\n",
       "\\item 'DT'\n",
       "\\item 'TW'\n",
       "\\item 'TI'\n",
       "\\item 'TT'\n",
       "\\item 'TT-2'\n",
       "\\item 'SA'\n",
       "\\item 'OS'\n",
       "\\item 'FL'\n",
       "\\item 'AT'\n",
       "\\item 'BP'\n",
       "\\item 'BS'\n",
       "\\item 'PR'\n",
       "\\item 'RH'\n",
       "\\item 'RT'\n",
       "\\item 'DP'\n",
       "\\item 'LD'\n",
       "\\item 'LB'\n",
       "\\item 'LT'\n",
       "\\item 'LW'\n",
       "\\item 'SW'\n",
       "\\item 'PA'\n",
       "\\item 'WS'\n",
       "\\item 'WD'\n",
       "\\item 'WS-2'\n",
       "\\item 'WD-2'\n",
       "\\item 'TW-2'\n",
       "\\item 'TI-2'\n",
       "\\item 'TC'\n",
       "\\item 'SA'\n",
       "\\item 'SD'\n",
       "\\item 'SV'\n",
       "\\item 'TG'\n",
       "\\item 'FI'\n",
       "\\item 'TC-2'\n",
       "\\item 'SA-2'\n",
       "\\item 'SD-2'\n",
       "\\item 'SV-2'\n",
       "\\item 'TG-2'\n",
       "\\item 'OC'\n",
       "\\item 'OT'\n",
       "\\item 'OX'\n",
       "\\item 'OS'\n",
       "\\item 'FL'\n",
       "\\item 'FI-2'\n",
       "\\item 'VP'\n",
       "\\item 'VR'\n",
       "\\item 'VH'\n",
       "\\item 'VX'\n",
       "\\item 'VY'\n",
       "\\item 'GY'\n",
       "\\item 'MB'\n",
       "\\item 'BT'\n",
       "\\item 'LF'\n",
       "\\item 'HF'\n",
       "\\item 'LA'\n",
       "\\item 'LO'\n",
       "\\item 'GT'\n",
       "\\item 'CR'\n",
       "\\item 'SP'\n",
       "\\item 'ZD'\n",
       "\\item 'GA'\n",
       "\\item 'GS'\n",
       "\\item 'ZO'\n",
       "\\item 'ZS'\n",
       "\\item 'ZT'\n",
       "\\item 'ZI'\n",
       "\\item 'ZO-2'\n",
       "\\item 'ZS-2'\n",
       "\\item 'ZT-2'\n",
       "\\item 'ZI-2'\n",
       "\\item 'ZO-3'\n",
       "\\item 'ZS-3'\n",
       "\\item 'ZT-3'\n",
       "\\item 'ZI-3'\n",
       "\\item 'PZ'\n",
       "\\item 'PZ-2'\n",
       "\\item 'IP'\n",
       "\\item 'IV'\n",
       "\\item 'IA'\n",
       "\\item 'MG'\n",
       "\\item 'MD'\n",
       "\\item 'MS'\n",
       "\\item 'MG-2'\n",
       "\\item 'MD-2'\n",
       "\\item 'MS-2'\n",
       "\\item 'GC'\n",
       "\\item 'TT-3'\n",
       "\\item 'TC-3'\n",
       "\\item 'SA-3'\n",
       "\\item 'TT-4'\n",
       "\\item 'TC-4'\n",
       "\\item 'SA-4'\n",
       "\\item 'SH'\n",
       "\\item 'SM'\n",
       "\\item 'SR'\n",
       "\\item 'SL'\n",
       "\\item 'SX'\n",
       "\\end{enumerate*}\n"
      ],
      "text/markdown": [
       "1. 'DT'\n",
       "2. 'TW'\n",
       "3. 'TI'\n",
       "4. 'TT'\n",
       "5. 'TT-2'\n",
       "6. 'SA'\n",
       "7. 'OS'\n",
       "8. 'FL'\n",
       "9. 'AT'\n",
       "10. 'BP'\n",
       "11. 'BS'\n",
       "12. 'PR'\n",
       "13. 'RH'\n",
       "14. 'RT'\n",
       "15. 'DP'\n",
       "16. 'LD'\n",
       "17. 'LB'\n",
       "18. 'LT'\n",
       "19. 'LW'\n",
       "20. 'SW'\n",
       "21. 'PA'\n",
       "22. 'WS'\n",
       "23. 'WD'\n",
       "24. 'WS-2'\n",
       "25. 'WD-2'\n",
       "26. 'TW-2'\n",
       "27. 'TI-2'\n",
       "28. 'TC'\n",
       "29. 'SA'\n",
       "30. 'SD'\n",
       "31. 'SV'\n",
       "32. 'TG'\n",
       "33. 'FI'\n",
       "34. 'TC-2'\n",
       "35. 'SA-2'\n",
       "36. 'SD-2'\n",
       "37. 'SV-2'\n",
       "38. 'TG-2'\n",
       "39. 'OC'\n",
       "40. 'OT'\n",
       "41. 'OX'\n",
       "42. 'OS'\n",
       "43. 'FL'\n",
       "44. 'FI-2'\n",
       "45. 'VP'\n",
       "46. 'VR'\n",
       "47. 'VH'\n",
       "48. 'VX'\n",
       "49. 'VY'\n",
       "50. 'GY'\n",
       "51. 'MB'\n",
       "52. 'BT'\n",
       "53. 'LF'\n",
       "54. 'HF'\n",
       "55. 'LA'\n",
       "56. 'LO'\n",
       "57. 'GT'\n",
       "58. 'CR'\n",
       "59. 'SP'\n",
       "60. 'ZD'\n",
       "61. 'GA'\n",
       "62. 'GS'\n",
       "63. 'ZO'\n",
       "64. 'ZS'\n",
       "65. 'ZT'\n",
       "66. 'ZI'\n",
       "67. 'ZO-2'\n",
       "68. 'ZS-2'\n",
       "69. 'ZT-2'\n",
       "70. 'ZI-2'\n",
       "71. 'ZO-3'\n",
       "72. 'ZS-3'\n",
       "73. 'ZT-3'\n",
       "74. 'ZI-3'\n",
       "75. 'PZ'\n",
       "76. 'PZ-2'\n",
       "77. 'IP'\n",
       "78. 'IV'\n",
       "79. 'IA'\n",
       "80. 'MG'\n",
       "81. 'MD'\n",
       "82. 'MS'\n",
       "83. 'MG-2'\n",
       "84. 'MD-2'\n",
       "85. 'MS-2'\n",
       "86. 'GC'\n",
       "87. 'TT-3'\n",
       "88. 'TC-3'\n",
       "89. 'SA-3'\n",
       "90. 'TT-4'\n",
       "91. 'TC-4'\n",
       "92. 'SA-4'\n",
       "93. 'SH'\n",
       "94. 'SM'\n",
       "95. 'SR'\n",
       "96. 'SL'\n",
       "97. 'SX'\n",
       "\n",
       "\n"
      ],
      "text/plain": [
       " [1] \"DT\"   \"TW\"   \"TI\"   \"TT\"   \"TT-2\" \"SA\"   \"OS\"   \"FL\"   \"AT\"   \"BP\"  \n",
       "[11] \"BS\"   \"PR\"   \"RH\"   \"RT\"   \"DP\"   \"LD\"   \"LB\"   \"LT\"   \"LW\"   \"SW\"  \n",
       "[21] \"PA\"   \"WS\"   \"WD\"   \"WS-2\" \"WD-2\" \"TW-2\" \"TI-2\" \"TC\"   \"SA\"   \"SD\"  \n",
       "[31] \"SV\"   \"TG\"   \"FI\"   \"TC-2\" \"SA-2\" \"SD-2\" \"SV-2\" \"TG-2\" \"OC\"   \"OT\"  \n",
       "[41] \"OX\"   \"OS\"   \"FL\"   \"FI-2\" \"VP\"   \"VR\"   \"VH\"   \"VX\"   \"VY\"   \"GY\"  \n",
       "[51] \"MB\"   \"BT\"   \"LF\"   \"HF\"   \"LA\"   \"LO\"   \"GT\"   \"CR\"   \"SP\"   \"ZD\"  \n",
       "[61] \"GA\"   \"GS\"   \"ZO\"   \"ZS\"   \"ZT\"   \"ZI\"   \"ZO-2\" \"ZS-2\" \"ZT-2\" \"ZI-2\"\n",
       "[71] \"ZO-3\" \"ZS-3\" \"ZT-3\" \"ZI-3\" \"PZ\"   \"PZ-2\" \"IP\"   \"IV\"   \"IA\"   \"MG\"  \n",
       "[81] \"MD\"   \"MS\"   \"MG-2\" \"MD-2\" \"MS-2\" \"GC\"   \"TT-3\" \"TC-3\" \"SA-3\" \"TT-4\"\n",
       "[91] \"TC-4\" \"SA-4\" \"SH\"   \"SM\"   \"SR\"   \"SL\"   \"SX\"  "
      ]
     },
     "metadata": {},
     "output_type": "display_data"
    }
   ],
   "source": [
    "## Load the xlsx file\n",
    "ship.data = read.xlsx('Raw Data/MET/met-merge-final.xlsx')\n",
    "colnames(ship.data)"
   ]
  },
  {
   "cell_type": "code",
   "execution_count": 7,
   "metadata": {},
   "outputs": [
    {
     "name": "stderr",
     "output_type": "stream",
     "text": [
      "Warning message in eval(expr, envir, enclos):\n",
      "\"NAs introduced by coercion\"Warning message in eval(expr, envir, enclos):\n",
      "\"NAs introduced by coercion\""
     ]
    },
    {
     "name": "stdout",
     "output_type": "stream",
     "text": [
      "[1] \"Do the number of names in keep match the number of columns now? FALSE\"\n",
      "'data.frame':\t186490 obs. of  17 variables:\n",
      " $ DT  : POSIXct, format: \"2017-05-30 20:01:00\" \"2017-05-30 20:01:00\" ...\n",
      " $ TW  : num  2.54 2.17 2.83 3.01 3.01 ...\n",
      " $ TI  : num  209 214 216 224 226 ...\n",
      " $ TT  : num  19.4 19.4 19.4 19.4 19.4 ...\n",
      " $ SA  : num  33.2 33.2 33.2 33.2 33.2 ...\n",
      " $ OS  : num  5 5 5 5 5 ...\n",
      " $ FL  : num  0.079 0.08 0.077 0.076 0.076 0.077 0.076 0.076 0.076 0.074 ...\n",
      " $ AT  : num  16.7 16.7 16.7 16.8 16.8 ...\n",
      " $ BP  : num  1010 1010 1010 1010 1010 ...\n",
      " $ PA  : num  925 930 918 915 913 ...\n",
      " $ SA.1: num  33.2 33.2 33.2 33.2 33.2 ...\n",
      " $ OX  : num  -99 -99 -99 -99 -99 -99 -99 -99 -99 -99 ...\n",
      " $ OS.1: num  5 5 5 5 5 ...\n",
      " $ FL.1: num  0.079 0.08 0.077 0.076 0.076 0.077 0.076 0.076 0.076 0.074 ...\n",
      " $ BT  : num  -99 -99 -99 -99 -99 -99 -99 -99 -99 -99 ...\n",
      " $ LA  : num  32.7 32.7 32.7 32.7 32.7 ...\n",
      " $ LO  : num  -117 -117 -117 -117 -117 ...\n"
     ]
    }
   ],
   "source": [
    "## Trim data to the following columns:\n",
    "keep = c('DT', 'TW', 'TI', 'LA', 'LO', 'AT', 'BP', 'PA', 'TT', 'SA', 'OS', 'OX', 'FL', 'BT')\n",
    "# This call finds which columns match the names in keep and keeps them.\n",
    "ship.data = ship.data[, which(names(ship.data) %in% keep)]\n",
    "\n",
    "# Convert excel datetime numbers to actual datetimes.\n",
    "ship.data$DT = conv_excel_time(ship.data$DT)\n",
    "\n",
    "# Calculated from Thomas et al.\n",
    "ship.data$TW = ship.data$TW * 0.942  \n",
    "\n",
    "## Convert all columns (except date/time to numeric)\n",
    "for (i in 2:ncol(ship.data)) {\n",
    "    ship.data[,i] = as.numeric(ship.data[,i])\n",
    "}\n",
    "\n",
    "## Check that it loaded properly/correct data type (num)\n",
    "print(paste('Do the number of names in keep match the number of columns now?', ncol(ship.data) == length(keep)))\n",
    "str(ship.data)"
   ]
  },
  {
   "cell_type": "markdown",
   "metadata": {},
   "source": [
    "#### Remove bad wind data\n",
    "Here we simply remove the rows there wind speed is less than zero (TW < 0). We also report the number of rows affected (should be a relatively small amount)."
   ]
  },
  {
   "cell_type": "code",
   "execution_count": 8,
   "metadata": {},
   "outputs": [
    {
     "data": {
      "text/html": [
       "618"
      ],
      "text/latex": [
       "618"
      ],
      "text/markdown": [
       "618"
      ],
      "text/plain": [
       "[1] 618"
      ]
     },
     "metadata": {},
     "output_type": "display_data"
    }
   ],
   "source": [
    "bad.wind = which(ship.data$TW < 0)\n",
    "length(bad.wind)\n",
    "\n",
    "## Remove bad wind entries\n",
    "ship.data = ship.data[-bad.wind,]"
   ]
  },
  {
   "cell_type": "markdown",
   "metadata": {},
   "source": [
    "### The N minute average:\n",
    "1. Start with the first row, set ___current.time___ to that row's time\n",
    "2. Find all rows with times >= to the current time\n",
    "3. Remove all rows with times more than N minutes away from the ___current.time___.\n",
    "4. Take the column average of those rows and replace the current row.\n",
    "5. Remove all the other rows\n",
    "6. Repeat process on the next row."
   ]
  },
  {
   "cell_type": "code",
   "execution_count": 9,
   "metadata": {},
   "outputs": [
    {
     "name": "stdout",
     "output_type": "stream",
     "text": [
      "[1] \"The number of rows before was 185872 and now there are 21209\"\n"
     ]
    }
   ],
   "source": [
    "### N Minute Averaging section\n",
    "avg.length = 2  # minutes to avg\n",
    "\n",
    "before = nrow(ship.data)\n",
    "i = 1\n",
    "nc = ncol(ship.data)\n",
    "\n",
    "while (i < nrow(ship.data)) {  # Loop through each row in ship.data\n",
    "    current.time = ship.data$DT[i]\n",
    "    \n",
    "    ## Determine which rows are within N minutes of the current row\n",
    "    in.range = which(ship.data$DT[1:(i+100)] >= current.time &\n",
    "                     difftime(ship.data$DT[1:(i+100)], current.time, units='mins') < avg.length)\n",
    "    \n",
    "    ##  Average the column values together ignoring the first one (time)\n",
    "    ship.data[i, 2:nc] = apply(ship.data[in.range, 2:nc], 2, function(x) {mean(x, na.rm = TRUE)})\n",
    "    \n",
    "    ## Remove all rows used to make average except for row i\n",
    "    in.range = in.range[in.range != i]\n",
    "    if (length(in.range) > 0) {\n",
    "        ship.data = ship.data[-in.range,]\n",
    "    }\n",
    "    i = i + 1\n",
    "}\n",
    "\n",
    "print(paste('The number of rows before was', before, 'and now there are', nrow(ship.data)))"
   ]
  },
  {
   "cell_type": "code",
   "execution_count": null,
   "metadata": {
    "collapsed": true
   },
   "outputs": [],
   "source": []
  },
  {
   "cell_type": "markdown",
   "metadata": {},
   "source": [
    "## Save Results"
   ]
  },
  {
   "cell_type": "code",
   "execution_count": 10,
   "metadata": {},
   "outputs": [
    {
     "ename": "ERROR",
     "evalue": "Error: zipping up workbook failed. Please make sure Rtools is installed or a zip application is available to R.\n         Try installr::install.rtools() on Windows. If the \"Rtools\\bin\" directory does not appear in Sys.getenv(\"PATH\") please add it to the system PATH \n         or set this within the R session with Sys.setenv(\"R_ZIPCMD\" = \"path/to/zip.exe\")\n",
     "output_type": "error",
     "traceback": [
      "Error: zipping up workbook failed. Please make sure Rtools is installed or a zip application is available to R.\n         Try installr::install.rtools() on Windows. If the \"Rtools\\bin\" directory does not appear in Sys.getenv(\"PATH\") please add it to the system PATH \n         or set this within the R session with Sys.setenv(\"R_ZIPCMD\" = \"path/to/zip.exe\")\nTraceback:\n",
      "1. write.xlsx(ship.data, file = \"./Input Data/Shipdata - Averaged.xlsx\")",
      "2. saveWorkbook(wb = wb, file = file, overwrite = overwrite)",
      "3. wb$saveWorkbook(quiet = TRUE)",
      "4. zipWorkbook(tmpFile, list.files(tmpDir, recursive = TRUE, include.dirs = TRUE, \n .     all.files = TRUE), quiet = quiet)",
      "5. stop(\"zipping up workbook failed. Please make sure Rtools is installed or a zip application is available to R.\\n         Try installr::install.rtools() on Windows. If the \\\"Rtools\\\\bin\\\" directory does not appear in Sys.getenv(\\\"PATH\\\") please add it to the system PATH \\n         or set this within the R session with Sys.setenv(\\\"R_ZIPCMD\\\" = \\\"path/to/zip.exe\\\")\", \n .     call. = FALSE)"
     ]
    }
   ],
   "source": [
    "## Save point after loading ship data and averaging. \n",
    "save(ship.data, file='./RStates/ship.avg.rdata')\n",
    "write.xlsx(ship.data, file='./Input Data/Shipdata - Averaged.xlsx')\n",
    "\n",
    "gc() # Free up memory"
   ]
  },
  {
   "cell_type": "code",
   "execution_count": 12,
   "metadata": {},
   "outputs": [
    {
     "data": {
      "image/png": "[encoded data removed]",
      "text/plain": [
       "plot without title"
      ]
     },
     "metadata": {},
     "output_type": "display_data"
    }
   ],
   "source": [
    "plot(ship.data$DT, ship.data$OX / ship.data$OS, ylim=c(0,2))"
   ]
  },
  {
   "cell_type": "code",
   "execution_count": null,
   "metadata": {
    "collapsed": true
   },
   "outputs": [],
   "source": []
  },
  {
   "cell_type": "code",
   "execution_count": null,
   "metadata": {
    "collapsed": true
   },
   "outputs": [],
   "source": []
  }
 ],
 "metadata": {
  "anaconda-cloud": {},
  "kernelspec": {
   "display_name": "R",
   "language": "R",
   "name": "ir"
  },
  "language_info": {
   "codemirror_mode": "r",
   "file_extension": ".r",
   "mimetype": "text/x-r-source",
   "name": "R",
   "pygments_lexer": "r",
   "version": "3.4.1"
  }
 },
 "nbformat": 4,
 "nbformat_minor": 2
}
