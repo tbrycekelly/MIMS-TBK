{
 "cells": [
  {
   "cell_type": "code",
   "execution_count": 13,
   "metadata": {},
   "outputs": [
    {
     "data": {
      "text/html": [
       "3"
      ],
      "text/latex": [
       "3"
      ],
      "text/markdown": [
       "3"
      ],
      "text/plain": [
       "[1] 3"
      ]
     },
     "metadata": {},
     "output_type": "display_data"
    }
   ],
   "source": [
    "## Install the package if needed:\n",
    "#install.packages('Rtools', repos='http://cran.us.r-project.org')\n",
    "\n",
    "## Load the relevent packages\n",
    "library(ncdf4)  # For reading in the NCEP wind fields\n",
    "#library(R.matlab)  # If you need to read in matlab .mat files\n",
    "library(openxlsx)  # If you need to read in .xlsx files\n",
    "#library(rNOMADS)  # For reading grib2 data files (NOMADS data for instance)\n",
    "#library(rGDAL)  #\n",
    "library(RColorBrewer)\n",
    "library(compiler)  # required for JIT (below)\n",
    "\n",
    "## Enable compilation (speed gain?)\n",
    "enableJIT(3)\n",
    "\n",
    "## Helper function for converting the date time stamps.\n",
    "conv_excel_time = function(x, tz='GMT') {\n",
    "    as.POSIXct(as.Date(x,origin=\"1899-12-30\", tz=tz))\n",
    "}\n",
    "\n",
    "get.qual.pal = function(n=100, pal='Accent') {\n",
    "    colorRampPalette(brewer.pal(8, pal))(n)\n",
    "}\n",
    "\n",
    "get.seq.pal = function(n=100, pal='YlOrRd') {\n",
    "    colorRampPalette(rev(brewer.pal(11, pal)))(n)\n",
    "}\n",
    "\n",
    "get.div.pal = function(n=100, pal='Spectral') {\n",
    "    colorRampPalette(rev(brewer.pal(11, pal)))(n)\n",
    "}\n",
    "\n",
    "make.div.pal = function(x=100, n, pal='Spectral') {\n",
    "    get.div.pal(n, pal=pal)[as.numeric(cut(x, breaks = n))]\n",
    "}"
   ]
  },
  {
   "cell_type": "markdown",
   "metadata": {},
   "source": [
    "---\n",
    "# 2. Load and prepare ship data\n",
    "This section deals with the loading of the met-merge data. Once loaded and the structure is verified, a 2 minute average is taken for all parameters. Once completed, the next section will add the NCEP wind data and MLD to the data frame.The file structure which this script is looking for is as follows where Vars are in any order but with the proper abbreviations.\n",
    "\n",
    "``Datetime  Var1   Var2  Var3 ...``\n",
    "\n",
    "Variable Descriptions and Abbreviations\n",
    "* __DT -- Date Time__\n",
    "* __TW -- True Wind__\n",
    "* TI  -- Wind Dir\n",
    "* __LA -- Latitude__\n",
    "* __LO -- Longitude__\n",
    "* __AT -- Atm Temp__\n",
    "* __BP -- Pressure__\n",
    "* PA -- PAR\n",
    "* __TT (TT2*)  -- Water Temp__\n",
    "* __SA -- Salinity__\n",
    "* __OS -- Oxygen__\n",
    "* FL -- Fluorometer\n",
    "* BT -- Bottom Depth\n",
    "\n",
    "___NB___: Bold identies required columns while the others are used for additional analyses."
   ]
  },
  {
   "cell_type": "code",
   "execution_count": 1,
   "metadata": {},
   "outputs": [],
   "source": [
    "read.ship.data = function(path) {\n",
    "    ## Load the data file\n",
    "    data = read.xlsx(path)\n",
    "    \n",
    "    ## Trim data to the following columns:\n",
    "    keep = c('DT', 'TW', 'TI', 'LA', 'LO', 'AT', 'BP', 'PA', 'TT', 'SA', 'OS', 'OX', 'FL', 'BT')\n",
    "    data = data[, which(names(data) %in% keep)]\n",
    "\n",
    "    # Convert excel datetime numbers to actual datetimes.\n",
    "    data$DT = conv_excel_time(data$DT, tz='GMT')\n",
    "\n",
    "    # Calculated from Thomas et al.\n",
    "    data$TW = data$TW * 0.942  \n",
    "\n",
    "    ## Convert all columns (except date/time to numeric)\n",
    "    for (i in 2:ncol(data)) {\n",
    "        data[,i] = as.numeric(data[,i])\n",
    "    }\n",
    "\n",
    "    ## Check that it loaded properly/correct data type (num)\n",
    "    print(paste('Do the number of names in keep match the number of columns now?', ncol(data) == length(keep)))\n",
    "    \n",
    "    data\n",
    "}"
   ]
  },
  {
   "cell_type": "code",
   "execution_count": null,
   "metadata": {
    "collapsed": true
   },
   "outputs": [],
   "source": [
    "ship.data = read.ship.data('Raw Data/MET/met-merge-final.xlsx')"
   ]
  },
  {
   "cell_type": "markdown",
   "metadata": {},
   "source": [
    "#### Remove bad wind data\n",
    "Here we simply remove the rows there wind speed is less than zero (TW < 0). We also report the number of rows affected (should be a relatively small amount)."
   ]
  },
  {
   "cell_type": "code",
   "execution_count": 23,
   "metadata": {},
   "outputs": [
    {
     "data": {
      "text/html": [
       "618"
      ],
      "text/latex": [
       "618"
      ],
      "text/markdown": [
       "618"
      ],
      "text/plain": [
       "[1] 618"
      ]
     },
     "metadata": {},
     "output_type": "display_data"
    }
   ],
   "source": [
    "bad.wind = which(ship.data$TW < 0)\n",
    "length(bad.wind)\n",
    "\n",
    "## Remove bad wind entries\n",
    "ship.data = ship.data[-bad.wind,]"
   ]
  },
  {
   "cell_type": "markdown",
   "metadata": {},
   "source": [
    "### The N minute average:\n",
    "1. Start with the first row, set ___current.time___ to that row's time\n",
    "2. Find all rows with times >= to the current time\n",
    "3. Remove all rows with times more than N minutes away from the ___current.time___.\n",
    "4. Take the column average of those rows and replace the current row.\n",
    "5. Remove all the other rows\n",
    "6. Repeat process on the next row."
   ]
  },
  {
   "cell_type": "code",
   "execution_count": 17,
   "metadata": {},
   "outputs": [
    {
     "name": "stdout",
     "output_type": "stream",
     "text": [
      "[1] \"The number of rows before was 185872 and now there are 21209\"\n"
     ]
    }
   ],
   "source": [
    "take.avg = function(data, n = 2) {\n",
    "    ### N Minute Averaging section\n",
    "\n",
    "    before = nrow(data)\n",
    "    i = 1\n",
    "    nc = ncol(data)\n",
    "\n",
    "    while (i < nrow(data)) {  # Loop through each row in ship.data\n",
    "        current.time = \n",
    "        \n",
    "        ## Determine which rows are within N minutes of the current row\n",
    "        in.range = which(data$DT[1:(i+100)] >= data$DT[i] &\n",
    "                         difftime(data$DT[1:(i+100)], data$DT[i], units='mins') < n)\n",
    "\n",
    "        ##  Average the column values together ignoring the first one (time)\n",
    "        data[i, 2:nc] = apply(data[in.range, 2:nc], 2, function(x) {mean(x, na.rm = TRUE)})\n",
    "\n",
    "        ## Remove all rows used to make average except for row i\n",
    "        in.range = in.range[in.range != i]\n",
    "        if (length(in.range) > 0) {\n",
    "            data = data[-in.range,]\n",
    "        }\n",
    "        i = i + 1\n",
    "    }\n",
    "\n",
    "    print(paste('The number of rows before was', before, 'and now there are', nrow(data)))\n",
    "    data\n",
    "}"
   ]
  },
  {
   "cell_type": "code",
   "execution_count": null,
   "metadata": {
    "collapsed": true
   },
   "outputs": [],
   "source": [
    "ship.data = take.avg(ship.data)"
   ]
  },
  {
   "cell_type": "markdown",
   "metadata": {},
   "source": [
    "## Save Results"
   ]
  },
  {
   "cell_type": "code",
   "execution_count": 18,
   "metadata": {},
   "outputs": [
    {
     "ename": "ERROR",
     "evalue": "Error: zipping up workbook failed. Please make sure Rtools is installed or a zip application is available to R.\n         Try installr::install.rtools() on Windows. If the \"Rtools\\bin\" directory does not appear in Sys.getenv(\"PATH\") please add it to the system PATH \n         or set this within the R session with Sys.setenv(\"R_ZIPCMD\" = \"path/to/zip.exe\")\n",
     "output_type": "error",
     "traceback": [
      "Error: zipping up workbook failed. Please make sure Rtools is installed or a zip application is available to R.\n         Try installr::install.rtools() on Windows. If the \"Rtools\\bin\" directory does not appear in Sys.getenv(\"PATH\") please add it to the system PATH \n         or set this within the R session with Sys.setenv(\"R_ZIPCMD\" = \"path/to/zip.exe\")\nTraceback:\n",
      "1. write.xlsx(ship.data, file = \"./Input Data/Shipdata - Averaged.xlsx\")",
      "2. saveWorkbook(wb = wb, file = file, overwrite = overwrite)",
      "3. wb$saveWorkbook(quiet = TRUE)",
      "4. zipWorkbook(tmpFile, list.files(tmpDir, recursive = TRUE, include.dirs = TRUE, \n .     all.files = TRUE), quiet = quiet)",
      "5. stop(\"zipping up workbook failed. Please make sure Rtools is installed or a zip application is available to R.\\n         Try installr::install.rtools() on Windows. If the \\\"Rtools\\\\bin\\\" directory does not appear in Sys.getenv(\\\"PATH\\\") please add it to the system PATH \\n         or set this within the R session with Sys.setenv(\\\"R_ZIPCMD\\\" = \\\"path/to/zip.exe\\\")\", \n .     call. = FALSE)"
     ]
    }
   ],
   "source": [
    "## Save point after loading ship data and averaging. \n",
    "save(ship.data, file='./RStates/ship.avg.rdata')\n",
    "write.xlsx(ship.data, file='./Input Data/Shipdata - Averaged.xlsx')\n",
    "\n",
    "gc() # Free up memory"
   ]
  }
 ],
 "metadata": {
  "anaconda-cloud": {},
  "kernelspec": {
   "display_name": "R",
   "language": "R",
   "name": "ir"
  },
  "language_info": {
   "codemirror_mode": "r",
   "file_extension": ".r",
   "mimetype": "text/x-r-source",
   "name": "R",
   "pygments_lexer": "r",
   "version": "3.4.1"
  }
 },
 "nbformat": 4,
 "nbformat_minor": 2
}
