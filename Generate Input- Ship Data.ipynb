{
 "cells": [
  {
   "cell_type": "code",
   "execution_count": null,
   "metadata": {
    "collapsed": true
   },
   "outputs": [],
   "source": [
    "## Install the package if needed:\n",
    "#install.packages('Mcomp', repos='http://cran.us.r-project.org')\n",
    "\n",
    "## Load the relevent packages\n",
    "library(ncdf4)  # For reading in the NCEP wind fields\n",
    "#library(R.matlab)  # If you need to read in matlab .mat files\n",
    "library(openxlsx)  # If you need to read in .xlsx files\n",
    "#library(rNOMADS)  # For reading grib2 data files (NOMADS data for instance)\n",
    "#library(rGDAL)  #\n",
    "library(RColorBrewer)\n",
    "library(compiler)  # required for JIT (below)\n",
    "\n",
    "## Enable compilation (speed gain?)\n",
    "enableJIT(3)\n",
    "\n",
    "## Helper function for converting the date time stamps.\n",
    "conv_excel_time = function(x, tz='US/Pacific') {\n",
    "    as.POSIXct(as.Date(x,origin=\"1899-12-30\", tz=tz))\n",
    "}\n",
    "\n",
    "get.qual.pal = function(n=100, pal='Accent') {\n",
    "    colorRampPalette(brewer.pal(8, pal))(n)\n",
    "}\n",
    "\n",
    "get.seq.pal = function(n=100, pal='YlOrRd') {\n",
    "    colorRampPalette(rev(brewer.pal(11, pal)))(n)\n",
    "}\n",
    "\n",
    "get.div.pal = function(n=100, pal='Spectral') {\n",
    "    colorRampPalette(rev(brewer.pal(11, pal)))(n)\n",
    "}\n",
    "\n",
    "make.div.pal = function(x=100, n, pal='Spectral') {\n",
    "    get.div.pal(n, pal=pal)[as.numeric(cut(x, breaks = n))]\n",
    "}"
   ]
  },
  {
   "cell_type": "markdown",
   "metadata": {},
   "source": [
    "---\n",
    "# 2. Load and prepare ship data\n",
    "This section deals with the loading of the met-merge data. Once loaded and the structure is verified, a 2 minute average is taken for all parameters. Once completed, the next section will add the NCEP wind data and MLD to the data frame.The file structure which this script is looking for is as follows where Vars are in any order but with the proper abbreviations.\n",
    "\n",
    "``Datetime  Var1   Var2  Var3 ...``\n",
    "\n",
    "Variable Descriptions and Abbreviations\n",
    "* __DT -- Date Time__\n",
    "* __TW -- True Wind__\n",
    "* TI  -- Wind Dir\n",
    "* __LA -- Latitude__\n",
    "* __LO -- Longitude__\n",
    "* __AT -- Atm Temp__\n",
    "* __BP -- Pressure__\n",
    "* PA -- PAR\n",
    "* __TT (TT2*)  -- Water Temp__\n",
    "* __SA -- Salinity__\n",
    "* __OS -- Oxygen__\n",
    "* FL -- Fluorometer\n",
    "* BT -- Bottom Depth\n",
    "\n",
    "___NB___: Bold identies required columns while the others are used for additional analyses."
   ]
  },
  {
   "cell_type": "code",
   "execution_count": null,
   "metadata": {
    "collapsed": true
   },
   "outputs": [],
   "source": [
    "## Load the xlsx file\n",
    "ship.data = read.xlsx('../Met-data - merged/merge 063100702-corrected.xlsx', )\n",
    "\n",
    "## Trim data to the following columns:\n",
    "keep = c('DT', 'TW', 'TI', 'LA', 'LO', 'AT', 'BP', 'PA', 'TT', 'SA', 'OS', 'FL', 'BT')\n",
    "# This call finds which columns match the names in keep and keeps them.\n",
    "ship.data = ship.data[, which(names(ship.data) %in% keep)]\n",
    "\n",
    "# Convert excel datetime numbers to actual datetimes.\n",
    "ship.data$DT = conv_excel_time(ship.data$DT)\n",
    "\n",
    "# Calculated from Thomas et al.\n",
    "ship.data$TW = ship.data$TW * 0.942  \n",
    "\n",
    "## Convert all columns (except date/time to numeric)\n",
    "for (i in 2:ncol(ship.data)) {\n",
    "    ship.data[,i] = as.numeric(ship.data[,i])\n",
    "}\n",
    "\n",
    "## Check that it loaded properly/correct data type (num)\n",
    "print(paste('Do the number of names in keep match the number of columns now?', ncol(ship.data) == length(keep)))\n",
    "str(ship.data)"
   ]
  },
  {
   "cell_type": "markdown",
   "metadata": {},
   "source": [
    "#### Remove bad wind data\n",
    "Here we simply remove the rows there wind speed is less than zero (TW < 0). We also report the number of rows affected (should be a relatively small amount)."
   ]
  },
  {
   "cell_type": "code",
   "execution_count": null,
   "metadata": {
    "collapsed": true
   },
   "outputs": [],
   "source": [
    "bad.wind = which(ship.data$TW < 0)\n",
    "length(bad.wind)\n",
    "\n",
    "## Remove bad wind entries\n",
    "ship.data = ship.data[-bad.wind,]"
   ]
  },
  {
   "cell_type": "markdown",
   "metadata": {},
   "source": [
    "### The N minute average:\n",
    "1. Start with the first row, set ___current.time___ to that row's time\n",
    "2. Find all rows with times >= to the current time\n",
    "3. Remove all rows with times more than N minutes away from the ___current.time___.\n",
    "4. Take the column average of those rows and replace the current row.\n",
    "5. Remove all the other rows\n",
    "6. Repeat process on the next row."
   ]
  },
  {
   "cell_type": "code",
   "execution_count": null,
   "metadata": {
    "collapsed": true
   },
   "outputs": [],
   "source": [
    "### N Minute Averaging section\n",
    "avg.length = 2  # minutes to avg\n",
    "\n",
    "before = nrow(ship.data)\n",
    "i = 1\n",
    "nc = ncol(ship.data)\n",
    "\n",
    "while (i < nrow(ship.data)) {  # Loop through each row in ship.data\n",
    "    current.time = ship.data$DT[i]\n",
    "    \n",
    "    ## Determine which rows are within N minutes of the current row\n",
    "    in.range = which(ship.data$DT[1:(i+100)] >= current.time & difftime(ship.data$DT[1:(i+100)], current.time, units='mins') < avg.length)\n",
    "    \n",
    "    ##  Average the column values together ignoring the first one (time)\n",
    "    ship.data[i, 2:nc] = apply(ship.data[in.range, 2:nc], 2, function(x) {mean(x, na.rm = TRUE)})\n",
    "    \n",
    "    ## Remove all rows used to make average except for row i\n",
    "    in.range = in.range[in.range != i]\n",
    "    ship.data = ship.data[-in.range,]\n",
    "    i = i + 1\n",
    "}\n",
    "\n",
    "print(paste('The number of rows before was', before, 'and now there are', nrow(ship.data)))"
   ]
  },
  {
   "cell_type": "code",
   "execution_count": null,
   "metadata": {
    "collapsed": true
   },
   "outputs": [],
   "source": []
  },
  {
   "cell_type": "markdown",
   "metadata": {},
   "source": [
    "## Save Results"
   ]
  },
  {
   "cell_type": "code",
   "execution_count": null,
   "metadata": {
    "collapsed": true
   },
   "outputs": [],
   "source": [
    "## Save point after loading ship data and averaging. \n",
    "save(ship.data, file='./RStates/ship.avg.rdata')\n",
    "write.xlsx(ship.data, file='./Input Data/Shipdata - Averaged.xlsx')\n",
    "\n",
    "gc() # Free up memory"
   ]
  },
  {
   "cell_type": "code",
   "execution_count": null,
   "metadata": {
    "collapsed": true
   },
   "outputs": [],
   "source": []
  },
  {
   "cell_type": "code",
   "execution_count": null,
   "metadata": {
    "collapsed": true
   },
   "outputs": [],
   "source": []
  },
  {
   "cell_type": "code",
   "execution_count": null,
   "metadata": {
    "collapsed": true
   },
   "outputs": [],
   "source": []
  }
 ],
 "metadata": {
  "anaconda-cloud": {},
  "kernelspec": {
   "display_name": "R",
   "language": "R",
   "name": "ir"
  },
  "language_info": {
   "codemirror_mode": "r",
   "file_extension": ".r",
   "mimetype": "text/x-r-source",
   "name": "R",
   "pygments_lexer": "r",
   "version": "3.3.2"
  }
 },
 "nbformat": 4,
 "nbformat_minor": 2
}
