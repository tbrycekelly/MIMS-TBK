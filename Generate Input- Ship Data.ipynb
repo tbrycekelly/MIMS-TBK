{
 "cells": [
  {
   "cell_type": "code",
   "execution_count": 1,
   "metadata": {
    "collapsed": false,
    "scrolled": false
   },
   "outputs": [
    {
     "name": "stdout",
     "output_type": "stream",
     "text": [
      "Packages Loaded:\n",
      "ncdf4 R.matlab openxlsx RColorBrewer compiler lattice geosphere readxl data.table rworldmap rworldxtra\n"
     ]
    },
    {
     "name": "stderr",
     "output_type": "stream",
     "text": [
      "Loading required package: ncdf4\n",
      "Loading required package: R.matlab\n",
      "Warning message in library(package, lib.loc = lib.loc, character.only = TRUE, logical.return = TRUE, :\n",
      "“there is no package called ‘R.matlab’”Loading required package: openxlsx\n",
      "Loading required package: RColorBrewer\n",
      "Loading required package: compiler\n",
      "Loading required package: lattice\n",
      "Loading required package: geosphere\n",
      "Warning message in library(package, lib.loc = lib.loc, character.only = TRUE, logical.return = TRUE, :\n",
      "“there is no package called ‘geosphere’”Loading required package: readxl\n",
      "Loading required package: data.table\n",
      "Loading required package: rworldmap\n",
      "Loading required package: sp\n",
      "### Welcome to rworldmap ###\n",
      "For a short introduction type : \t vignette('rworldmap')\n",
      "Loading required package: rworldxtra\n"
     ]
    },
    {
     "name": "stdout",
     "output_type": "stream",
     "text": [
      "Packages Loaded:\n",
      "openxl\n"
     ]
    },
    {
     "name": "stderr",
     "output_type": "stream",
     "text": [
      "Loading required package: openxl\n",
      "Warning message in library(package, lib.loc = lib.loc, character.only = TRUE, logical.return = TRUE, :\n",
      "“there is no package called ‘openxl’”"
     ]
    },
    {
     "data": {
      "text/html": [
       "<ol>\n",
       "\t<li>FALSE</li>\n",
       "</ol>\n"
      ],
      "text/latex": [
       "\\begin{enumerate}\n",
       "\\item FALSE\n",
       "\\end{enumerate}\n"
      ],
      "text/markdown": [
       "1. FALSE\n",
       "\n",
       "\n"
      ],
      "text/plain": [
       "[[1]]\n",
       "[1] FALSE\n"
      ]
     },
     "metadata": {},
     "output_type": "display_data"
    }
   ],
   "source": [
    "#install.packages('openxl', repos='http://cran.us.r-project.org')\n",
    "source('source.r')\n",
    "\n",
    "load.library('openxl')\n",
    "read.xlsx = read_excel"
   ]
  },
  {
   "cell_type": "markdown",
   "metadata": {},
   "source": [
    "---\n",
    "# 2. Load and prepare ship data\n",
    "This section deals with the loading of the met-merge data. Once loaded and the structure is verified, a 2 minute average is taken for all parameters. Once completed, the next section will add the NCEP wind data and MLD to the data frame.The file structure which this script is looking for is as follows where Vars are in any order but with the proper abbreviations.\n",
    "\n",
    "``Datetime  Var1   Var2  Var3 ...``\n",
    "\n",
    "Variable Descriptions and Abbreviations\n",
    "* __DT -- Date Time__\n",
    "* __TW -- True Wind__\n",
    "* TI  -- Wind Dir\n",
    "* __LA -- Latitude__\n",
    "* __LO -- Longitude__\n",
    "* __AT -- Atm Temp__\n",
    "* __BP -- Pressure__\n",
    "* PA -- PAR\n",
    "* __TT (TT2*)  -- Water Temp__\n",
    "* __SA -- Salinity__\n",
    "* __OS -- Oxygen__\n",
    "* FL -- Fluorometer\n",
    "* BT -- Bottom Depth\n",
    "\n",
    "___NB___: Bold identies required columns while the others are used for additional analyses."
   ]
  },
  {
   "cell_type": "code",
   "execution_count": 2,
   "metadata": {
    "collapsed": true
   },
   "outputs": [],
   "source": [
    "read.ship.data = function(path) {\n",
    "    ## Load the data file\n",
    "    data = read.xlsx(path)\n",
    "    ## Trim data to the following columns:\n",
    "    keep = c('DT', 'TW', 'TI', 'LA', 'LO', 'AT', 'BP', 'PA', 'TT', 'SA', 'OS', 'OX', 'FL', 'BT')\n",
    "    data = data[, which(names(data) %in% keep)]\n",
    "\n",
    "    # Convert excel datetime numbers to actual datetimes.\n",
    "    #data$DT = conv_excel_time(data$DT, tz='GMT')\n",
    "\n",
    "    # Calculated from Thomas et al.\n",
    "    data$TW = data$TW * 0.942  \n",
    "\n",
    "    ## Convert all columns (except date/time to numeric)\n",
    "    #for (i in 2:ncol(data)) {\n",
    "    #    data[,i] = as.numeric(data[,i])\n",
    "    #}\n",
    "\n",
    "    ## Check that it loaded properly/correct data type (num)\n",
    "    print(paste('Do the number of names in keep match the number of columns now?', ncol(data) == length(keep)))\n",
    "    \n",
    "    data\n",
    "}"
   ]
  },
  {
   "cell_type": "code",
   "execution_count": 3,
   "metadata": {
    "collapsed": false
   },
   "outputs": [
    {
     "name": "stdout",
     "output_type": "stream",
     "text": [
      "[1] \"Do the number of names in keep match the number of columns now? FALSE\"\n"
     ]
    }
   ],
   "source": [
    "options(warn = -1)\n",
    "ship.data = read.ship.data('./Raw Data/MET/met-merge-final.xlsx')\n",
    "options(warn = 0)"
   ]
  },
  {
   "cell_type": "code",
   "execution_count": 10,
   "metadata": {
    "collapsed": false
   },
   "outputs": [
    {
     "name": "stdout",
     "output_type": "stream",
     "text": [
      "Classes ‘tbl_df’, ‘tbl’ and 'data.frame':\t185872 obs. of  17 variables:\n",
      " $ DT  : POSIXct, format: \"2017-05-31 00:01:00\" \"2017-05-31 00:01:00\" ...\n",
      " $ TW  : num  2.54 2.17 2.83 3.01 3.01 ...\n",
      " $ TI  : num  209 214 216 224 226 ...\n",
      " $ TT  : num  19.4 19.4 19.4 19.4 19.4 ...\n",
      " $ SA  : num  33.2 33.2 33.2 33.2 33.2 ...\n",
      " $ OS  : num  5 5 5 5 5 ...\n",
      " $ FL  : num  0.079 0.08 0.077 0.076 0.076 0.077 0.076 0.076 0.076 0.074 ...\n",
      " $ AT  : num  16.7 16.7 16.7 16.8 16.8 ...\n",
      " $ BP  : num  1010 1010 1010 1010 1010 ...\n",
      " $ PA  : num  925 930 918 915 913 ...\n",
      " $ SA.1: num  33.2 33.2 33.2 33.2 33.2 ...\n",
      " $ OX  : num  -99 -99 -99 -99 -99 -99 -99 -99 -99 -99 ...\n",
      " $ OS.1: num  5 5 5 5 5 ...\n",
      " $ FL.1: num  0.079 0.08 0.077 0.076 0.076 0.077 0.076 0.076 0.076 0.074 ...\n",
      " $ BT  : num  -99 -99 -99 -99 -99 -99 -99 -99 -99 -99 ...\n",
      " $ LA  : num  32.7 32.7 32.7 32.7 32.7 ...\n",
      " $ LO  : num  -117 -117 -117 -117 -117 ...\n"
     ]
    },
    {
     "data": {
      "text/plain": [
       "Time differences in secs\n",
       " [1]   0   0   0  60  60  60  60 120 120 120"
      ]
     },
     "metadata": {},
     "output_type": "display_data"
    }
   ],
   "source": [
    "str(ship.data)\n",
    "difftime(ship.data$DT[1:10], ship.data$DT[1])"
   ]
  },
  {
   "cell_type": "markdown",
   "metadata": {},
   "source": [
    "#### Remove bad wind data\n",
    "Here we simply remove the rows there wind speed is less than zero (TW < 0). We also report the number of rows affected (should be a relatively small amount)."
   ]
  },
  {
   "cell_type": "code",
   "execution_count": 5,
   "metadata": {
    "collapsed": false
   },
   "outputs": [
    {
     "data": {
      "text/html": [
       "618"
      ],
      "text/latex": [
       "618"
      ],
      "text/markdown": [
       "618"
      ],
      "text/plain": [
       "[1] 618"
      ]
     },
     "metadata": {},
     "output_type": "display_data"
    }
   ],
   "source": [
    "bad.wind = which(ship.data$TW < 0)\n",
    "length(bad.wind)\n",
    "\n",
    "## Remove bad wind entries\n",
    "ship.data = ship.data[-bad.wind,]"
   ]
  },
  {
   "cell_type": "markdown",
   "metadata": {},
   "source": [
    "### The N minute average:\n",
    "1. Start with the first row, set ___current.time___ to that row's time\n",
    "2. Find all rows with times >= to the current time\n",
    "3. Remove all rows with times more than N minutes away from the ___current.time___.\n",
    "4. Take the column average of those rows and replace the current row.\n",
    "5. Remove all the other rows\n",
    "6. Repeat process on the next row."
   ]
  },
  {
   "cell_type": "code",
   "execution_count": 8,
   "metadata": {
    "collapsed": true
   },
   "outputs": [],
   "source": [
    "take.avg = function(data, n = 120) {\n",
    "    ### N Minute Averaging section\n",
    "\n",
    "    before = nrow(data)\n",
    "    i = 1\n",
    "    nc = ncol(data)\n",
    "\n",
    "    while (i < nrow(data)) {  # Loop through each row in ship.data\n",
    "        current.time = data$DT[i]\n",
    "        \n",
    "        ## Determine which rows are within N minutes of the current row\n",
    "        in.range = which(data$DT[1:(i+100)] >= data$DT[i] &\n",
    "                         difftime(data$DT[1:(i+100)], data$DT[i], units='secs') < n)\n",
    "\n",
    "        ##  Average the column values together ignoring the first one (time)\n",
    "        data[i, 2:nc] = apply(data[in.range, 2:nc], 2, function(x) {mean(x, na.rm = TRUE)})\n",
    "\n",
    "        ## Remove all rows used to make average except for row i\n",
    "        in.range = in.range[in.range != i]\n",
    "        if (length(in.range) > 0) {\n",
    "            data = data[-in.range,]\n",
    "        }\n",
    "        i = i + 1\n",
    "    }\n",
    "\n",
    "    print(paste('The number of rows before was', before, 'and now there are', nrow(data)))\n",
    "    data\n",
    "}"
   ]
  },
  {
   "cell_type": "markdown",
   "metadata": {},
   "source": [
    "__NB This will take a while.__"
   ]
  },
  {
   "cell_type": "code",
   "execution_count": null,
   "metadata": {
    "collapsed": true
   },
   "outputs": [],
   "source": [
    "ship.data = take.avg(ship.data, 60)"
   ]
  },
  {
   "cell_type": "markdown",
   "metadata": {},
   "source": [
    "## Save Results"
   ]
  },
  {
   "cell_type": "code",
   "execution_count": 17,
   "metadata": {
    "collapsed": false
   },
   "outputs": [
    {
     "data": {
      "text/html": [
       "<table>\n",
       "<thead><tr><th></th><th scope=col>used</th><th scope=col>(Mb)</th><th scope=col>gc trigger</th><th scope=col>(Mb)</th><th scope=col>max used</th><th scope=col>(Mb)</th></tr></thead>\n",
       "<tbody>\n",
       "\t<tr><th scope=row>Ncells</th><td> 760758  </td><td>40.7     </td><td> 1442291 </td><td>77.1     </td><td>  1442291</td><td> 77.1    </td></tr>\n",
       "\t<tr><th scope=row>Vcells</th><td>3810957  </td><td>29.1     </td><td>12860792 </td><td>98.2     </td><td>100950280</td><td>770.2    </td></tr>\n",
       "</tbody>\n",
       "</table>\n"
      ],
      "text/latex": [
       "\\begin{tabular}{r|llllll}\n",
       "  & used & (Mb) & gc trigger & (Mb) & max used & (Mb)\\\\\n",
       "\\hline\n",
       "\tNcells &  760758   & 40.7      &  1442291  & 77.1      &   1442291 &  77.1    \\\\\n",
       "\tVcells & 3810957   & 29.1      & 12860792  & 98.2      & 100950280 & 770.2    \\\\\n",
       "\\end{tabular}\n"
      ],
      "text/markdown": [
       "\n",
       "| <!--/--> | used | (Mb) | gc trigger | (Mb) | max used | (Mb) | \n",
       "|---|---|\n",
       "| Ncells |  760758   | 40.7      |  1442291  | 77.1      |   1442291 |  77.1     | \n",
       "| Vcells | 3810957   | 29.1      | 12860792  | 98.2      | 100950280 | 770.2     | \n",
       "\n",
       "\n"
      ],
      "text/plain": [
       "       used    (Mb) gc trigger (Mb) max used  (Mb) \n",
       "Ncells  760758 40.7  1442291   77.1   1442291  77.1\n",
       "Vcells 3810957 29.1 12860792   98.2 100950280 770.2"
      ]
     },
     "metadata": {},
     "output_type": "display_data"
    }
   ],
   "source": [
    "## Save point after loading ship data and averaging. \n",
    "save(ship.data, file='./RStates/ship.avg.rdata')\n",
    "write.xlsx(ship.data, file='./Input Data/Shipdata - Averaged.xlsx')\n",
    "\n",
    "gc() # Free up memory"
   ]
  },
  {
   "cell_type": "code",
   "execution_count": null,
   "metadata": {
    "collapsed": true
   },
   "outputs": [],
   "source": []
  }
 ],
 "metadata": {
  "anaconda-cloud": {},
  "kernelspec": {
   "display_name": "R",
   "language": "R",
   "name": "ir"
  },
  "language_info": {
   "codemirror_mode": "r",
   "file_extension": ".r",
   "mimetype": "text/x-r-source",
   "name": "R",
   "pygments_lexer": "r",
   "version": "3.3.2"
  }
 },
 "nbformat": 4,
 "nbformat_minor": 2
}
