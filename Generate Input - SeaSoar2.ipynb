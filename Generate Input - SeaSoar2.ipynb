{
 "cells": [
  {
   "cell_type": "markdown",
   "metadata": {},
   "source": [
    "# SeaSoar Processing\n",
    "\n",
    "1. Load data\n",
    "2. Identify upcasts and downcasts\n",
    "3. Flag spurious pressure/data points by moving median filter\n",
    "4. Bin sensor data to regular pressures\n",
    "5. Flag outliers in signals"
   ]
  },
  {
   "cell_type": "code",
   "execution_count": 25,
   "metadata": {
    "ExecuteTime": {
     "end_time": "2018-02-05T19:50:00.423822Z",
     "start_time": "2018-02-05T19:49:58.664Z"
    },
    "cell_style": "center"
   },
   "outputs": [
    {
     "name": "stdout",
     "output_type": "stream",
     "text": [
      "Packages Loaded:\n",
      "ncdf4 R.matlab openxlsx RColorBrewer compiler lattice geosphere readxl data.table rworldmap rworldxtra\n"
     ]
    }
   ],
   "source": [
    "source('source.r')"
   ]
  },
  {
   "cell_type": "code",
   "execution_count": 26,
   "metadata": {
    "ExecuteTime": {
     "end_time": "2018-02-05T19:50:00.928488Z",
     "start_time": "2018-02-05T19:50:00.812Z"
    },
    "cell_style": "center"
   },
   "outputs": [
    {
     "data": {
      "text/html": [
       "46"
      ],
      "text/latex": [
       "46"
      ],
      "text/markdown": [
       "46"
      ],
      "text/plain": [
       "[1] 46"
      ]
     },
     "metadata": {},
     "output_type": "display_data"
    }
   ],
   "source": [
    "input.dir = '../../Models/SeaSoar/SeaSoar2/'\n",
    "\n",
    "files = list.files(input.dir)\n",
    "files = files[grepl('.mat', files)]\n",
    "files = files[!grepl('.rdata', files)]\n",
    "length(files)"
   ]
  },
  {
   "cell_type": "code",
   "execution_count": 27,
   "metadata": {
    "ExecuteTime": {
     "end_time": "2018-02-05T19:50:07.324717Z",
     "start_time": "2018-02-05T19:50:07.142Z"
    }
   },
   "outputs": [],
   "source": [
    "get.data = function(input.dir, file) {\n",
    "    data = readMat(paste0(input.dir, file), fixNames = TRUE)\n",
    "    names = unlist(dimnames(data$data)[1])\n",
    "\n",
    "    ## Partition up datea\n",
    "    eng = as.data.frame(data$data[2:12])\n",
    "    sensor = as.data.frame(data$data[13:36])\n",
    "    colnames(sensor) = names[13:36]\n",
    "    colnames(eng) = names[2:12]\n",
    "    \n",
    "    sensor$time = seq(from = eng$time[1], by = 1/24, length.out = nrow(sensor))\n",
    "    \n",
    "    return(list(eng = eng, sensor = sensor))\n",
    "}\n",
    "\n",
    "#### Flag Outliers in pressure\n",
    "flag.p.outliers = function(data, dp = 0.5, verbose = TRUE, window = 25) {\n",
    "    l = which(abs(data$sensor$p - runmed(data$sensor$p, window)) > dp)\n",
    "    \n",
    "    data$sensor$p.FLAG = 1 # keep\n",
    "    data$sensor$p.FLAG[l] = 3 # reject\n",
    "    \n",
    "    if (verbose) {\n",
    "        n = length(l)\n",
    "        perc = floor(length(l) / nrow(data$sensor)*1000)/10\n",
    "        \n",
    "        print(paste0('Flagging identified ', n, ' (', perc, '%) outliers.'))\n",
    "    }\n",
    "    data\n",
    "}\n",
    "\n",
    "#### Bin Data by pressure and time\n",
    "bin.pt = function(data, dp = 1, secs = 10) {\n",
    "    i = 1\n",
    "    while (i < nrow(data$sensor)) {\n",
    "        l = which(abs(data$sensor$p - data$sensor$p[i]) + abs(data$sensor$time - data$sensor$time[i]) / secs < dp / 2 &\n",
    "                 data$sensor$p.FLAG == 1)\n",
    "        temp = apply(data$sensor[l,], 2, function(x) {mean(x, na.rm = TRUE)})\n",
    "        \n",
    "        if (length(l) > 1) {\n",
    "            data$sensor[i,] = temp\n",
    "            l = l[l != i]\n",
    "            \n",
    "            data$sensor = data$sensor[-l,]\n",
    "        }\n",
    "        i = i + 1\n",
    "    }\n",
    "    \n",
    "    data\n",
    "}\n",
    "\n",
    "#### Bin Data by pressure\n",
    "bin.p = function(data, dp = 1) {\n",
    "    data$sensor = data$sensor[which(data$sensor$p.FLAG == 1),]\n",
    "    data$sensor$p = floor((data$sensor$p + 0.5) / dp)\n",
    "    data$sensor$n.bin = 1\n",
    "    \n",
    "    i = 1\n",
    "    while (i < nrow(data$sensor)) {\n",
    "        delta.p = abs(diff(data$sensor$p[i:nrow(data$sensor)]))  # i refenced\n",
    "        \n",
    "        ## Find entries to average across\n",
    "        l = which(cumsum(delta.p) == 0)\n",
    "        l = c(i, l + i)\n",
    "        \n",
    "        temp = as.numeric(apply(data$sensor[l,], 2, function(x) {median(x, na.rm = TRUE)}))\n",
    "        \n",
    "        ## Update values and some housekepping\n",
    "        if (length(l) > 1 & length(temp) == ncol(data$sensor)) { ## Need to update values\n",
    "            data$sensor[i,] = temp\n",
    "            data$sensor$n.bin[i] = length(l)\n",
    "            \n",
    "            l = l[l != i]\n",
    "            data$sensor = data$sensor[-l,] ## Remove other values\n",
    "            delta.p = delta.p[-l]\n",
    "        }\n",
    "        i = i + 1\n",
    "    }\n",
    "    ## Finalize and return averaged data\n",
    "    data$sensor$p = data$sensor$p * dp\n",
    "    data\n",
    "}"
   ]
  },
  {
   "cell_type": "code",
   "execution_count": 4,
   "metadata": {
    "ExecuteTime": {
     "end_time": "2018-02-05T19:50:51.534380Z",
     "start_time": "2018-02-05T19:50:51.510Z"
    }
   },
   "outputs": [],
   "source": [
    "check.bin = function(data, l = c(1000:135000)) {\n",
    "    plot(data$sensor$time[l], data$sensor$p[l], type='l', ylab='Pressure', xlab='Time', ylim=c(100,0), yaxs='i')\n",
    "    points(bin.data$sensor$time, bin.data$sensor$p, pch=4, cex=1.5, col='blue')\n",
    "}"
   ]
  },
  {
   "cell_type": "code",
   "execution_count": 30,
   "metadata": {
    "ExecuteTime": {
     "end_time": "2018-02-05T19:50:59.746394Z",
     "start_time": "2018-02-05T19:50:59.718Z"
    }
   },
   "outputs": [],
   "source": [
    "preprocess.files = function(input.dir, files, verbose = FALSE) {\n",
    "    for (f in 1:length(files)) {\n",
    "        if (verbose) {\n",
    "            print(paste0('Starting file: ', files[f], ' (', f, ' of ', length(files), ')'))\n",
    "        }\n",
    "        \n",
    "        data = get.data(input.dir, files[f])\n",
    "        data = flag.p.outliers(data)\n",
    "        n.before = nrow(data$sensor)\n",
    "        \n",
    "        if (verbose) {print('Binning the data.')}\n",
    "        data = bin.p(data, 5)\n",
    "        \n",
    "        if (verbose) {print('Checkpoint Saved.')}\n",
    "        if (verbose) {print('')}\n",
    "        \n",
    "        save(data, file = paste0('RStates/SeaSoar/Seasoar2-binned-low-', files[f], '.rdata'))\n",
    "        \n",
    "        if (verbose) {\n",
    "            print(paste0('Number of Sensor Records before binning: ', n.before))\n",
    "            print(paste0('Number of Sensor Records after binning: ', nrow(data$sensor)))\n",
    "            print(paste0('(', floor(nrow(data$sensor)/n.before * 1000) / 10, '%)'))\n",
    "        }\n",
    "        print('')\n",
    "    }\n",
    "}\n",
    "\n",
    "load.rstate = function(input.dir, files, verbose = TRUE) {\n",
    "    compiled.data = NULL\n",
    "    \n",
    "    for (f in 1:length(files)) {\n",
    "        if (verbose) {print(paste0('Starting file: ', files[f], ' (', f, ' of ', length(files), ')'))}\n",
    "        load(file = paste0('RStates/SeaSoar/Seasoar2-binned-low-', files[f], '.rdata'))\n",
    "        \n",
    "        if (is.null(compiled.data)) {\n",
    "            compiled.data = data\n",
    "        } else {\n",
    "            compiled.data$sensor = rbind(compiled.data$sensor, data$sensor)\n",
    "            compiled.data$eng = rbind(compiled.data$eng, data$eng)\n",
    "        }\n",
    "        print(nrow(data$sensor))\n",
    "    }\n",
    "    compiled.data\n",
    "}"
   ]
  },
  {
   "cell_type": "code",
   "execution_count": null,
   "metadata": {
    "ExecuteTime": {
     "end_time": "2018-01-31T21:16:34.245848Z",
     "start_time": "2018-01-30T21:56:10.483Z"
    },
    "scrolled": true
   },
   "outputs": [
    {
     "name": "stdout",
     "output_type": "stream",
     "text": [
      "[1] \"Starting file: FLT_DAT001.mat (1 of 46)\"\n",
      "[1] \"Flagging identified 4808 (3%) outliers.\"\n",
      "[1] \"Binning the data.\"\n",
      "[1] \"Checkpoint Saved.\"\n",
      "[1] \"\"\n",
      "[1] \"Number of Sensor Records before binning: 155856\"\n",
      "[1] \"Number of Sensor Records after binning: 5193\"\n",
      "[1] \"(3.3%)\"\n",
      "[1] \"\"\n",
      "[1] \"Starting file: FLT_DAT002.mat (2 of 46)\"\n",
      "[1] \"Flagging identified 4492 (2.8%) outliers.\"\n",
      "[1] \"Binning the data.\"\n",
      "[1] \"Checkpoint Saved.\"\n",
      "[1] \"\"\n",
      "[1] \"Number of Sensor Records before binning: 155856\"\n",
      "[1] \"Number of Sensor Records after binning: 6394\"\n",
      "[1] \"(4.1%)\"\n",
      "[1] \"\"\n",
      "[1] \"Starting file: FLT_DAT003.mat (3 of 46)\"\n",
      "[1] \"Flagging identified 3356 (2.1%) outliers.\"\n",
      "[1] \"Binning the data.\"\n",
      "[1] \"Checkpoint Saved.\"\n",
      "[1] \"\"\n",
      "[1] \"Number of Sensor Records before binning: 155856\"\n",
      "[1] \"Number of Sensor Records after binning: 6421\"\n",
      "[1] \"(4.1%)\"\n",
      "[1] \"\"\n",
      "[1] \"Starting file: FLT_DAT004.mat (4 of 46)\"\n",
      "[1] \"Flagging identified 7082 (4.5%) outliers.\"\n",
      "[1] \"Binning the data.\"\n",
      "[1] \"Checkpoint Saved.\"\n",
      "[1] \"\"\n",
      "[1] \"Number of Sensor Records before binning: 155856\"\n",
      "[1] \"Number of Sensor Records after binning: 6054\"\n",
      "[1] \"(3.8%)\"\n",
      "[1] \"\"\n",
      "[1] \"Starting file: FLT_DAT005.mat (5 of 46)\"\n",
      "[1] \"Flagging identified 12468 (7.9%) outliers.\"\n",
      "[1] \"Binning the data.\"\n",
      "[1] \"Checkpoint Saved.\"\n",
      "[1] \"\"\n",
      "[1] \"Number of Sensor Records before binning: 155856\"\n",
      "[1] \"Number of Sensor Records after binning: 6870\"\n",
      "[1] \"(4.4%)\"\n",
      "[1] \"\"\n",
      "[1] \"Starting file: FLT_DAT006.mat (6 of 46)\"\n",
      "[1] \"Flagging identified 12243 (7.8%) outliers.\"\n",
      "[1] \"Binning the data.\"\n",
      "[1] \"Checkpoint Saved.\"\n",
      "[1] \"\"\n",
      "[1] \"Number of Sensor Records before binning: 155856\"\n",
      "[1] \"Number of Sensor Records after binning: 7146\"\n",
      "[1] \"(4.5%)\"\n",
      "[1] \"\"\n",
      "[1] \"Starting file: FLT_DAT007.mat (7 of 46)\"\n",
      "[1] \"Flagging identified 10480 (6.7%) outliers.\"\n",
      "[1] \"Binning the data.\"\n",
      "[1] \"Checkpoint Saved.\"\n",
      "[1] \"\"\n",
      "[1] \"Number of Sensor Records before binning: 155856\"\n",
      "[1] \"Number of Sensor Records after binning: 6902\"\n",
      "[1] \"(4.4%)\"\n",
      "[1] \"\"\n",
      "[1] \"Starting file: FLT_DAT008.mat (8 of 46)\"\n",
      "[1] \"Flagging identified 5586 (3.5%) outliers.\"\n",
      "[1] \"Binning the data.\"\n",
      "[1] \"Checkpoint Saved.\"\n",
      "[1] \"\"\n",
      "[1] \"Number of Sensor Records before binning: 155856\"\n",
      "[1] \"Number of Sensor Records after binning: 6327\"\n",
      "[1] \"(4%)\"\n",
      "[1] \"\"\n",
      "[1] \"Starting file: FLT_DAT009.mat (9 of 46)\"\n",
      "[1] \"Flagging identified 8715 (5.5%) outliers.\"\n",
      "[1] \"Binning the data.\"\n",
      "[1] \"Checkpoint Saved.\"\n",
      "[1] \"\"\n",
      "[1] \"Number of Sensor Records before binning: 155856\"\n",
      "[1] \"Number of Sensor Records after binning: 6427\"\n",
      "[1] \"(4.1%)\"\n",
      "[1] \"\"\n",
      "[1] \"Starting file: FLT_DAT00A.mat (10 of 46)\"\n",
      "[1] \"Flagging identified 8645 (5.5%) outliers.\"\n",
      "[1] \"Binning the data.\"\n",
      "[1] \"Checkpoint Saved.\"\n",
      "[1] \"\"\n",
      "[1] \"Number of Sensor Records before binning: 155856\"\n",
      "[1] \"Number of Sensor Records after binning: 6593\"\n",
      "[1] \"(4.2%)\"\n",
      "[1] \"\"\n",
      "[1] \"Starting file: FLT_DAT00B.mat (11 of 46)\"\n",
      "[1] \"Flagging identified 5197 (3.3%) outliers.\"\n",
      "[1] \"Binning the data.\"\n",
      "[1] \"Checkpoint Saved.\"\n",
      "[1] \"\"\n",
      "[1] \"Number of Sensor Records before binning: 155856\"\n",
      "[1] \"Number of Sensor Records after binning: 6742\"\n",
      "[1] \"(4.3%)\"\n",
      "[1] \"\"\n",
      "[1] \"Starting file: FLT_DAT00C.mat (12 of 46)\"\n",
      "[1] \"Flagging identified 5667 (3.6%) outliers.\"\n",
      "[1] \"Binning the data.\"\n",
      "[1] \"Checkpoint Saved.\"\n",
      "[1] \"\"\n",
      "[1] \"Number of Sensor Records before binning: 155856\"\n",
      "[1] \"Number of Sensor Records after binning: 6904\"\n",
      "[1] \"(4.4%)\"\n",
      "[1] \"\"\n",
      "[1] \"Starting file: FLT_DAT00D.mat (13 of 46)\"\n",
      "[1] \"Flagging identified 3223 (2%) outliers.\"\n",
      "[1] \"Binning the data.\"\n",
      "[1] \"Checkpoint Saved.\"\n",
      "[1] \"\"\n",
      "[1] \"Number of Sensor Records before binning: 155856\"\n",
      "[1] \"Number of Sensor Records after binning: 5671\"\n",
      "[1] \"(3.6%)\"\n",
      "[1] \"\"\n",
      "[1] \"Starting file: FLT_DAT00E.mat (14 of 46)\"\n",
      "[1] \"Flagging identified 9246 (5.9%) outliers.\"\n",
      "[1] \"Binning the data.\"\n",
      "[1] \"Checkpoint Saved.\"\n",
      "[1] \"\"\n",
      "[1] \"Number of Sensor Records before binning: 155856\"\n",
      "[1] \"Number of Sensor Records after binning: 6562\"\n",
      "[1] \"(4.2%)\"\n",
      "[1] \"\"\n",
      "[1] \"Starting file: FLT_DAT00F.mat (15 of 46)\"\n",
      "[1] \"Flagging identified 1642 (1%) outliers.\"\n",
      "[1] \"Binning the data.\"\n",
      "[1] \"Checkpoint Saved.\"\n",
      "[1] \"\"\n",
      "[1] \"Number of Sensor Records before binning: 155856\"\n",
      "[1] \"Number of Sensor Records after binning: 6323\"\n",
      "[1] \"(4%)\"\n",
      "[1] \"\"\n",
      "[1] \"Starting file: FLT_DAT010.mat (16 of 46)\"\n",
      "[1] \"Flagging identified 1512 (0.9%) outliers.\"\n",
      "[1] \"Binning the data.\"\n",
      "[1] \"Checkpoint Saved.\"\n",
      "[1] \"\"\n",
      "[1] \"Number of Sensor Records before binning: 155856\"\n",
      "[1] \"Number of Sensor Records after binning: 5258\"\n",
      "[1] \"(3.3%)\"\n",
      "[1] \"\"\n",
      "[1] \"Starting file: FLT_DAT011.mat (17 of 46)\"\n",
      "[1] \"Flagging identified 1440 (0.9%) outliers.\"\n",
      "[1] \"Binning the data.\"\n",
      "[1] \"Checkpoint Saved.\"\n",
      "[1] \"\"\n",
      "[1] \"Number of Sensor Records before binning: 155856\"\n",
      "[1] \"Number of Sensor Records after binning: 5512\"\n",
      "[1] \"(3.5%)\"\n",
      "[1] \"\"\n",
      "[1] \"Starting file: FLT_DAT012.mat (18 of 46)\"\n",
      "[1] \"Flagging identified 1321 (0.8%) outliers.\"\n",
      "[1] \"Binning the data.\"\n",
      "[1] \"Checkpoint Saved.\"\n",
      "[1] \"\"\n",
      "[1] \"Number of Sensor Records before binning: 155856\"\n",
      "[1] \"Number of Sensor Records after binning: 5255\"\n",
      "[1] \"(3.3%)\"\n",
      "[1] \"\"\n",
      "[1] \"Starting file: FLT_DAT013.mat (19 of 46)\"\n",
      "[1] \"Flagging identified 941 (0.6%) outliers.\"\n",
      "[1] \"Binning the data.\"\n",
      "[1] \"Checkpoint Saved.\"\n",
      "[1] \"\"\n",
      "[1] \"Number of Sensor Records before binning: 155856\"\n",
      "[1] \"Number of Sensor Records after binning: 4075\"\n",
      "[1] \"(2.6%)\"\n",
      "[1] \"\"\n",
      "[1] \"Starting file: FLT_DAT014.mat (20 of 46)\"\n",
      "[1] \"Flagging identified 1291 (0.8%) outliers.\"\n",
      "[1] \"Binning the data.\"\n",
      "[1] \"Checkpoint Saved.\"\n",
      "[1] \"\"\n",
      "[1] \"Number of Sensor Records before binning: 155856\"\n",
      "[1] \"Number of Sensor Records after binning: 4466\"\n",
      "[1] \"(2.8%)\"\n",
      "[1] \"\"\n",
      "[1] \"Starting file: FLT_DAT015.mat (21 of 46)\"\n",
      "[1] \"Flagging identified 953 (0.6%) outliers.\"\n",
      "[1] \"Binning the data.\"\n",
      "[1] \"Checkpoint Saved.\"\n",
      "[1] \"\"\n",
      "[1] \"Number of Sensor Records before binning: 155856\"\n",
      "[1] \"Number of Sensor Records after binning: 4121\"\n",
      "[1] \"(2.6%)\"\n",
      "[1] \"\"\n",
      "[1] \"Starting file: FLT_DAT016.mat (22 of 46)\"\n",
      "[1] \"Flagging identified 1386 (0.8%) outliers.\"\n",
      "[1] \"Binning the data.\"\n",
      "[1] \"Checkpoint Saved.\"\n",
      "[1] \"\"\n",
      "[1] \"Number of Sensor Records before binning: 155856\"\n",
      "[1] \"Number of Sensor Records after binning: 4529\"\n",
      "[1] \"(2.9%)\"\n",
      "[1] \"\"\n",
      "[1] \"Starting file: FLT_DAT017.mat (23 of 46)\"\n",
      "[1] \"Flagging identified 1880 (1.2%) outliers.\"\n",
      "[1] \"Binning the data.\"\n",
      "[1] \"Checkpoint Saved.\"\n",
      "[1] \"\"\n",
      "[1] \"Number of Sensor Records before binning: 155856\"\n",
      "[1] \"Number of Sensor Records after binning: 4877\"\n",
      "[1] \"(3.1%)\"\n",
      "[1] \"\"\n",
      "[1] \"Starting file: FLT_DAT018.mat (24 of 46)\"\n",
      "[1] \"Flagging identified 1989 (1.2%) outliers.\"\n",
      "[1] \"Binning the data.\"\n",
      "[1] \"Checkpoint Saved.\"\n",
      "[1] \"\"\n",
      "[1] \"Number of Sensor Records before binning: 155856\"\n",
      "[1] \"Number of Sensor Records after binning: 5743\"\n",
      "[1] \"(3.6%)\"\n",
      "[1] \"\"\n",
      "[1] \"Starting file: FLT_DAT019.mat (25 of 46)\"\n",
      "[1] \"Flagging identified 1538 (0.9%) outliers.\"\n",
      "[1] \"Binning the data.\"\n",
      "[1] \"Checkpoint Saved.\"\n",
      "[1] \"\"\n",
      "[1] \"Number of Sensor Records before binning: 155856\"\n",
      "[1] \"Number of Sensor Records after binning: 5233\"\n",
      "[1] \"(3.3%)\"\n",
      "[1] \"\"\n",
      "[1] \"Starting file: FLT_DAT01A.mat (26 of 46)\"\n",
      "[1] \"Flagging identified 1874 (1.2%) outliers.\"\n",
      "[1] \"Binning the data.\"\n",
      "[1] \"Checkpoint Saved.\"\n",
      "[1] \"\"\n",
      "[1] \"Number of Sensor Records before binning: 155856\"\n",
      "[1] \"Number of Sensor Records after binning: 5806\"\n",
      "[1] \"(3.7%)\"\n",
      "[1] \"\"\n",
      "[1] \"Starting file: FLT_DAT01B.mat (27 of 46)\"\n",
      "[1] \"Flagging identified 2104 (1.3%) outliers.\"\n",
      "[1] \"Binning the data.\"\n",
      "[1] \"Checkpoint Saved.\"\n",
      "[1] \"\"\n",
      "[1] \"Number of Sensor Records before binning: 155856\"\n",
      "[1] \"Number of Sensor Records after binning: 5763\"\n",
      "[1] \"(3.6%)\"\n",
      "[1] \"\"\n",
      "[1] \"Starting file: FLT_DAT01C.mat (28 of 46)\"\n",
      "[1] \"Flagging identified 1903 (1.6%) outliers.\"\n",
      "[1] \"Binning the data.\"\n",
      "[1] \"Checkpoint Saved.\"\n",
      "[1] \"\"\n",
      "[1] \"Number of Sensor Records before binning: 117432\"\n",
      "[1] \"Number of Sensor Records after binning: 3833\"\n",
      "[1] \"(3.2%)\"\n",
      "[1] \"\"\n",
      "[1] \"Starting file: FLT_DAT01D.mat (29 of 46)\"\n",
      "[1] \"Flagging identified 7715 (4.9%) outliers.\"\n",
      "[1] \"Binning the data.\"\n",
      "[1] \"Checkpoint Saved.\"\n",
      "[1] \"\"\n",
      "[1] \"Number of Sensor Records before binning: 155856\"\n",
      "[1] \"Number of Sensor Records after binning: 6239\"\n",
      "[1] \"(4%)\"\n",
      "[1] \"\"\n",
      "[1] \"Starting file: FLT_DAT01E.mat (30 of 46)\"\n",
      "[1] \"Flagging identified 4725 (3%) outliers.\"\n",
      "[1] \"Binning the data.\"\n"
     ]
    },
    {
     "name": "stderr",
     "output_type": "stream",
     "text": [
      "Warning message in bin.p(data, 5):\n",
      "\"imaginary parts discarded in coercion\"Warning message in bin.p(data, 5):\n",
      "\"imaginary parts discarded in coercion\"Warning message in bin.p(data, 5):\n",
      "\"imaginary parts discarded in coercion\""
     ]
    },
    {
     "name": "stdout",
     "output_type": "stream",
     "text": [
      "[1] \"Checkpoint Saved.\"\n",
      "[1] \"\"\n",
      "[1] \"Number of Sensor Records before binning: 155856\"\n",
      "[1] \"Number of Sensor Records after binning: 6431\"\n",
      "[1] \"(4.1%)\"\n",
      "[1] \"\"\n",
      "[1] \"Starting file: FLT_DAT01F.mat (31 of 46)\"\n",
      "[1] \"Flagging identified 2921 (1.8%) outliers.\"\n",
      "[1] \"Binning the data.\"\n"
     ]
    },
    {
     "name": "stderr",
     "output_type": "stream",
     "text": [
      "Warning message in bin.p(data, 5):\n",
      "\"imaginary parts discarded in coercion\"Warning message in bin.p(data, 5):\n",
      "\"imaginary parts discarded in coercion\"Warning message in bin.p(data, 5):\n",
      "\"imaginary parts discarded in coercion\"Warning message in bin.p(data, 5):\n",
      "\"imaginary parts discarded in coercion\"Warning message in bin.p(data, 5):\n",
      "\"imaginary parts discarded in coercion\"Warning message in bin.p(data, 5):\n",
      "\"imaginary parts discarded in coercion\"Warning message in bin.p(data, 5):\n",
      "\"imaginary parts discarded in coercion\"Warning message in bin.p(data, 5):\n",
      "\"imaginary parts discarded in coercion\"Warning message in bin.p(data, 5):\n",
      "\"imaginary parts discarded in coercion\"Warning message in bin.p(data, 5):\n",
      "\"imaginary parts discarded in coercion\"Warning message in bin.p(data, 5):\n",
      "\"imaginary parts discarded in coercion\"Warning message in bin.p(data, 5):\n",
      "\"imaginary parts discarded in coercion\"Warning message in bin.p(data, 5):\n",
      "\"imaginary parts discarded in coercion\"Warning message in bin.p(data, 5):\n",
      "\"imaginary parts discarded in coercion\"Warning message in bin.p(data, 5):\n",
      "\"imaginary parts discarded in coercion\"Warning message in bin.p(data, 5):\n",
      "\"imaginary parts discarded in coercion\"Warning message in bin.p(data, 5):\n",
      "\"imaginary parts discarded in coercion\"Warning message in bin.p(data, 5):\n",
      "\"imaginary parts discarded in coercion\"Warning message in bin.p(data, 5):\n",
      "\"imaginary parts discarded in coercion\"Warning message in bin.p(data, 5):\n",
      "\"imaginary parts discarded in coercion\"Warning message in bin.p(data, 5):\n",
      "\"imaginary parts discarded in coercion\"Warning message in bin.p(data, 5):\n",
      "\"imaginary parts discarded in coercion\"Warning message in bin.p(data, 5):\n",
      "\"imaginary parts discarded in coercion\"Warning message in bin.p(data, 5):\n",
      "\"imaginary parts discarded in coercion\"Warning message in bin.p(data, 5):\n",
      "\"imaginary parts discarded in coercion\"Warning message in bin.p(data, 5):\n",
      "\"imaginary parts discarded in coercion\"Warning message in bin.p(data, 5):\n",
      "\"imaginary parts discarded in coercion\"Warning message in bin.p(data, 5):\n",
      "\"imaginary parts discarded in coercion\"Warning message in bin.p(data, 5):\n",
      "\"imaginary parts discarded in coercion\"Warning message in bin.p(data, 5):\n",
      "\"imaginary parts discarded in coercion\"Warning message in bin.p(data, 5):\n",
      "\"imaginary parts discarded in coercion\"Warning message in bin.p(data, 5):\n",
      "\"imaginary parts discarded in coercion\"Warning message in bin.p(data, 5):\n",
      "\"imaginary parts discarded in coercion\"Warning message in bin.p(data, 5):\n",
      "\"imaginary parts discarded in coercion\"Warning message in bin.p(data, 5):\n",
      "\"imaginary parts discarded in coercion\"Warning message in bin.p(data, 5):\n",
      "\"imaginary parts discarded in coercion\"Warning message in bin.p(data, 5):\n",
      "\"imaginary parts discarded in coercion\"Warning message in bin.p(data, 5):\n",
      "\"imaginary parts discarded in coercion\"Warning message in bin.p(data, 5):\n",
      "\"imaginary parts discarded in coercion\"Warning message in bin.p(data, 5):\n",
      "\"imaginary parts discarded in coercion\"Warning message in bin.p(data, 5):\n",
      "\"imaginary parts discarded in coercion\"Warning message in bin.p(data, 5):\n",
      "\"imaginary parts discarded in coercion\"Warning message in bin.p(data, 5):\n",
      "\"imaginary parts discarded in coercion\"Warning message in bin.p(data, 5):\n",
      "\"imaginary parts discarded in coercion\"Warning message in bin.p(data, 5):\n",
      "\"imaginary parts discarded in coercion\"Warning message in bin.p(data, 5):\n",
      "\"imaginary parts discarded in coercion\"Warning message in bin.p(data, 5):\n",
      "\"imaginary parts discarded in coercion\""
     ]
    }
   ],
   "source": [
    "preprocess.files(input.dir, files, verbose = TRUE)"
   ]
  },
  {
   "cell_type": "code",
   "execution_count": 7,
   "metadata": {
    "scrolled": true
   },
   "outputs": [
    {
     "name": "stdout",
     "output_type": "stream",
     "text": [
      "[1] \"Starting file: FLT_DAT001.mat (1 of 46)\"\n",
      "[1] 25636\n",
      "[1] \"Starting file: FLT_DAT002.mat (2 of 46)\"\n",
      "[1] 32904\n",
      "[1] \"Starting file: FLT_DAT003.mat (3 of 46)\"\n",
      "[1] 31622\n",
      "[1] \"Starting file: FLT_DAT004.mat (4 of 46)\"\n",
      "[1] 30884\n",
      "[1] \"Starting file: FLT_DAT005.mat (5 of 46)\"\n",
      "[1] 33684\n",
      "[1] \"Starting file: FLT_DAT006.mat (6 of 46)\"\n",
      "[1] 35406\n",
      "[1] \"Starting file: FLT_DAT007.mat (7 of 46)\"\n",
      "[1] 33722\n",
      "[1] \"Starting file: FLT_DAT008.mat (8 of 46)\"\n",
      "[1] 31938\n",
      "[1] \"Starting file: FLT_DAT009.mat (9 of 46)\"\n",
      "[1] 33452\n",
      "[1] \"Starting file: FLT_DAT00A.mat (10 of 46)\"\n",
      "[1] 32679\n",
      "[1] \"Starting file: FLT_DAT00B.mat (11 of 46)\"\n",
      "[1] 30926\n",
      "[1] \"Starting file: FLT_DAT00C.mat (12 of 46)\"\n",
      "[1] 32338\n",
      "[1] \"Starting file: FLT_DAT00D.mat (13 of 46)\"\n",
      "[1] 29354\n",
      "[1] \"Starting file: FLT_DAT00E.mat (14 of 46)\"\n",
      "[1] 34393\n",
      "[1] \"Starting file: FLT_DAT00F.mat (15 of 46)\"\n",
      "[1] 28879\n",
      "[1] \"Starting file: FLT_DAT010.mat (16 of 46)\"\n",
      "[1] 27748\n",
      "[1] \"Starting file: FLT_DAT011.mat (17 of 46)\"\n",
      "[1] 26983\n",
      "[1] \"Starting file: FLT_DAT012.mat (18 of 46)\"\n",
      "[1] 25827\n",
      "[1] \"Starting file: FLT_DAT013.mat (19 of 46)\"\n",
      "[1] 21148\n",
      "[1] \"Starting file: FLT_DAT014.mat (20 of 46)\"\n",
      "[1] 22595\n",
      "[1] \"Starting file: FLT_DAT015.mat (21 of 46)\"\n",
      "[1] 20707\n",
      "[1] \"Starting file: FLT_DAT016.mat (22 of 46)\"\n",
      "[1] 22600\n",
      "[1] \"Starting file: FLT_DAT017.mat (23 of 46)\"\n",
      "[1] 24528\n",
      "[1] \"Starting file: FLT_DAT018.mat (24 of 46)\"\n",
      "[1] 28048\n",
      "[1] \"Starting file: FLT_DAT019.mat (25 of 46)\"\n",
      "[1] 24809\n",
      "[1] \"Starting file: FLT_DAT01A.mat (26 of 46)\"\n",
      "[1] 27987\n",
      "[1] \"Starting file: FLT_DAT01B.mat (27 of 46)\"\n",
      "[1] 29070\n",
      "[1] \"Starting file: FLT_DAT01C.mat (28 of 46)\"\n",
      "[1] 20258\n",
      "[1] \"Starting file: FLT_DAT01D.mat (29 of 46)\"\n",
      "[1] 31048\n",
      "[1] \"Starting file: FLT_DAT01E.mat (30 of 46)\"\n",
      "[1] 31802\n",
      "[1] \"Starting file: FLT_DAT01F.mat (31 of 46)\"\n",
      "[1] 30218\n",
      "[1] \"Starting file: FLT_DAT020.mat (32 of 46)\"\n",
      "[1] 30303\n",
      "[1] \"Starting file: FLT_DAT021.mat (33 of 46)\"\n",
      "[1] 32038\n",
      "[1] \"Starting file: FLT_DAT022.mat (34 of 46)\"\n",
      "[1] 31821\n",
      "[1] \"Starting file: FLT_DAT023.mat (35 of 46)\"\n",
      "[1] 26835\n",
      "[1] \"Starting file: FLT_DAT024.mat (36 of 46)\"\n",
      "[1] 21507\n",
      "[1] \"Starting file: FLT_DAT025.mat (37 of 46)\"\n",
      "[1] 21337\n",
      "[1] \"Starting file: FLT_DAT026.mat (38 of 46)\"\n",
      "[1] 20707\n",
      "[1] \"Starting file: FLT_DAT027.mat (39 of 46)\"\n",
      "[1] 22958\n",
      "[1] \"Starting file: FLT_DAT028.mat (40 of 46)\"\n",
      "[1] 22303\n",
      "[1] \"Starting file: FLT_DAT029.mat (41 of 46)\"\n",
      "[1] 19583\n",
      "[1] \"Starting file: FLT_DAT02A.mat (42 of 46)\"\n",
      "[1] 20971\n",
      "[1] \"Starting file: FLT_DAT02B.mat (43 of 46)\"\n",
      "[1] 18215\n",
      "[1] \"Starting file: FLT_DAT02C.mat (44 of 46)\"\n",
      "[1] 17731\n",
      "[1] \"Starting file: FLT_DAT02D.mat (45 of 46)\"\n",
      "[1] 11724\n",
      "[1] \"Starting file: FLT_DAT02E.mat (46 of 46)\"\n",
      "[1] 2749\n"
     ]
    }
   ],
   "source": [
    "data = load.rstate(input.dir, files)"
   ]
  },
  {
   "cell_type": "code",
   "execution_count": 8,
   "metadata": {},
   "outputs": [],
   "source": [
    "conv.time = function(x, tz = 'UTC') {\n",
    "    as.POSIXct(x, origin=\"1970-01-01\", tz = tz)\n",
    "}\n",
    "\n",
    "add.times = function(data, tz = 'UTC') {\n",
    "    data$sensor$time.real = as.POSIXct(data$sensor$time, origin=\"1970-01-01\", tz = tz)\n",
    "    data$eng$time.real = as.POSIXct(data$eng$time, origin=\"1970-01-01\", tz = tz)\n",
    "    \n",
    "    data\n",
    "}"
   ]
  },
  {
   "cell_type": "code",
   "execution_count": 9,
   "metadata": {},
   "outputs": [
    {
     "name": "stderr",
     "output_type": "stream",
     "text": [
      "Warning message in eval(expr, envir, enclos):\n",
      "\"imaginary parts discarded in coercion\"Warning message in eval(expr, envir, enclos):\n",
      "\"imaginary parts discarded in coercion\"Warning message in eval(expr, envir, enclos):\n",
      "\"imaginary parts discarded in coercion\"Warning message in eval(expr, envir, enclos):\n",
      "\"imaginary parts discarded in coercion\"Warning message in eval(expr, envir, enclos):\n",
      "\"imaginary parts discarded in coercion\"Warning message in eval(expr, envir, enclos):\n",
      "\"imaginary parts discarded in coercion\""
     ]
    },
    {
     "name": "stdout",
     "output_type": "stream",
     "text": [
      "List of 2\n",
      " $ eng   :'data.frame':\t294146 obs. of  11 variables:\n",
      "  ..$ lat        : num [1:294146] 33.5 33.5 33.5 33.5 33.5 ...\n",
      "  ..$ lon        : num [1:294146] -123 -123 -123 -123 -123 ...\n",
      "  ..$ time       : num [1:294146] 1.5e+09 1.5e+09 1.5e+09 1.5e+09 1.5e+09 ...\n",
      "  ..$ cog        : num [1:294146] 342 340 339 338 338 ...\n",
      "  ..$ sog        : num [1:294146] 1.6 1.5 1.5 1.5 1.7 1.7 1.8 1.7 1.6 1.5 ...\n",
      "  ..$ heading    : num [1:294146] 345 345 345 345 345 ...\n",
      "  ..$ sow        : num [1:294146] -99 -99 -99 -99 -99 -99 -99 -99 -99 -99 ...\n",
      "  ..$ bottomdepth: num [1:294146] 3277 3277 3277 3277 3277 ...\n",
      "  ..$ moogdrive  : num [1:294146] 42 42 42 42 42 42 42 42 42 42 ...\n",
      "  ..$ moogmonitor: num [1:294146] -108 -108 -108 -108 -108 ...\n",
      "  ..$ tension    : num [1:294146] 4572 5199 5437 5502 5502 ...\n",
      " $ sensor:'data.frame':\t1213975 obs. of  27 variables:\n",
      "  ..$ t1         : num [1:1213975] 17.2 17.2 17.2 17.2 17.2 ...\n",
      "  ..$ t2         : num [1:1213975] 17.2 17.2 17.3 17.3 17.2 ...\n",
      "  ..$ p          : num [1:1213975] 7 6 7 6 7 6 7 6 7 6 ...\n",
      "  ..$ c1         : num [1:1213975] 4.3 4.3 4.3 4.3 4.3 ...\n",
      "  ..$ c2         : num [1:1213975] 4.3 4.3 4.3 4.3 4.3 ...\n",
      "  ..$ trans      : num [1:1213975] 1.01 1.01 1.01 1.01 1.01 ...\n",
      "  ..$ fl         : num [1:1213975] 0.379 0.342 1.197 1.087 0.623 ...\n",
      "  ..$ oxy        : num [1:1213975] 1.58 1.58 1.58 1.58 1.58 ...\n",
      "  ..$ oxyt       : num [1:1213975] 1.58 1.58 1.58 1.58 1.58 ...\n",
      "  ..$ v5         : num [1:1213975] 1.94 1.94 1.94 1.94 1.94 ...\n",
      "  ..$ v6         : num [1:1213975] 3.97 3.97 3.97 3.96 3.96 ...\n",
      "  ..$ wingpitch  : num [1:1213975] 71.7 71.6 71.5 71.5 71.3 ...\n",
      "  ..$ roll       : num [1:1213975] 1.4 1.46 1.54 1.68 1.76 ...\n",
      "  ..$ fishpitch  : num [1:1213975] 54.1 54 53.8 53.8 53.7 ...\n",
      "  ..$ proprpm    : num [1:1213975] 0.611 0.611 0.916 0.611 0.763 ...\n",
      "  ..$ modcount   : num [1:1213975] 76 77 78.5 80 81.5 83 85.5 88 90.5 93 ...\n",
      "  ..$ s1         : num [1:1213975] 33.1 33.1 33.1 33.1 33.1 ...\n",
      "  ..$ s2         : num [1:1213975] 33.2 33.2 33.2 33.2 33.2 ...\n",
      "  ..$ theta1     : num [1:1213975] 17.2 17.2 17.2 17.2 17.2 ...\n",
      "  ..$ theta2     : num [1:1213975] 17.2 17.2 17.3 17.3 17.2 ...\n",
      "  ..$ sigma1     : num [1:1213975] 1024 1024 1024 1024 1024 ...\n",
      "  ..$ sigma2     : num [1:1213975] 1024 1024 1024 1024 1024 ...\n",
      "  ..$ soundspeed1: num [1:1213975] 1511 1511 1511 1511 1512 ...\n",
      "  ..$ soundspeed2: num [1:1213975] 1512 1512 1512 1512 1512 ...\n",
      "  ..$ time       : num [1:1213975] 1.5e+09 1.5e+09 1.5e+09 1.5e+09 1.5e+09 ...\n",
      "  ..$ p.FLAG     : num [1:1213975] 1 1 1 1 1 1 1 1 1 1 ...\n",
      "  ..$ n.bin      : num [1:1213975] 1 1 2 1 2 1 4 1 4 1 ...\n"
     ]
    }
   ],
   "source": [
    "for (i in 1:ncol(data$sensor)) {\n",
    "    data$sensor[,i] = as.numeric(data$sensor[,i])\n",
    "}\n",
    "str(data)"
   ]
  },
  {
   "cell_type": "code",
   "execution_count": 10,
   "metadata": {},
   "outputs": [],
   "source": [
    "data = add.times(data)"
   ]
  },
  {
   "cell_type": "code",
   "execution_count": 11,
   "metadata": {},
   "outputs": [],
   "source": [
    "add.direction = function(data, p.min = 8, p.max = 250) {\n",
    "    ## value codes\n",
    "    ##   -1 = downcast\n",
    "    ##   +1 = upcast\n",
    "    ##    0 = ambiguous/outside bounds\n",
    "    \n",
    "    data$sensor$direction = 0\n",
    "    dp = diff(data$sensor$p)\n",
    "    \n",
    "    l = which(dp < 0) # getting shallower\n",
    "    data$sensor$direction[l+1] = 1\n",
    "    \n",
    "    l = which(dp > 0) # getting depper\n",
    "    data$sensor$direction[l+1] = -1\n",
    "    \n",
    "    data\n",
    "}"
   ]
  },
  {
   "cell_type": "code",
   "execution_count": 12,
   "metadata": {},
   "outputs": [],
   "source": [
    "data = add.direction(data)"
   ]
  },
  {
   "cell_type": "code",
   "execution_count": 13,
   "metadata": {},
   "outputs": [],
   "source": [
    "align.seasoar = function(data) {\n",
    "    data$sensor$lat = 0\n",
    "    data$sensor$lon = 0\n",
    "    \n",
    "    for (i in 1:nrow(data$sensor)) {\n",
    "        l = which.min(abs(data$sensor$time[i] - data$eng$time))\n",
    "        data$sensor$lat[i] = data$eng$lat[l]\n",
    "        data$sensor$lon[i] = data$eng$lon[l]\n",
    "    }\n",
    "    data\n",
    "}"
   ]
  },
  {
   "cell_type": "code",
   "execution_count": 14,
   "metadata": {},
   "outputs": [],
   "source": [
    "data = align.seasoar(data)"
   ]
  },
  {
   "cell_type": "code",
   "execution_count": 18,
   "metadata": {},
   "outputs": [
    {
     "data": {
      "image/png": "[encoded data removed]",
      "text/plain": [
       "plot without title"
      ]
     },
     "metadata": {},
     "output_type": "display_data"
    }
   ],
   "source": [
    "plot.map(data$sensor$lat, lon = data$sensor$lon, pch=20, cex=0.2, col='black')"
   ]
  },
  {
   "cell_type": "code",
   "execution_count": 13,
   "metadata": {
    "ExecuteTime": {
     "end_time": "2018-01-31T21:36:43.303791Z",
     "start_time": "2018-01-31T21:36:41.783Z"
    }
   },
   "outputs": [],
   "source": [
    "get.mld = function(data, rho = 0.1) {\n",
    "    mld = data.frame(time = 0, lat = 0, lon = 0, mld = 0, stringsAsFactors = FALSE)\n",
    "    \n",
    "    ## Trim data to between 5db and 100db\n",
    "    data$sensor = data$sensor[data$sensor$p > 5 & data$sensor$p < 100,]\n",
    "    \n",
    "    ## Find all the 10meter points on the downcast\n",
    "    l = which(data$sensor$p == 10 & data$sensor$direction == -1)\n",
    "    \n",
    "    ## l should only include entries from different casts: here 10 minutes apart.\n",
    "    dt = as.numeric(difftime(data$sensor$time.real[l], data$sensor$time.real[l[1]], units='mins'))\n",
    "    l = l[c(1, which(diff(dt) > 10))]\n",
    "    \n",
    "    print(length(l))\n",
    "    \n",
    "    ## calculate mld and add to dataframe\n",
    "    for (i in 1:length(l)) {\n",
    "        t.10 = data$sensor$time.real[l[i]]\n",
    "        rho.10 = data$sensor$sigma2[l[i]]\n",
    "        \n",
    "        ## define cast as within 3 minutes, downcast, pressure > 10, and afterwards\n",
    "        l.time = which(as.numeric(difftime(data$sensor$time.real, t.10, unit='mins')) < 5 &\n",
    "                       data$sensor$direction == -1 & data$sensor$p > 10 &\n",
    "                       as.numeric(difftime(data$sensor$time.real, t.10, unit='mins')) > 0)\n",
    "        \n",
    "        if (length(l.time) > 15) {\n",
    "            l.mld = min(which(data$sensor$sigma2[l.time] > rho.10 + rho))\n",
    "            t.mld = data$sensor$time.real[l.time[l.mld]]\n",
    "\n",
    "            eng = which.min(as.numeric(difftime(data$eng$time.real, t.10, units = 'mins'))^2)\n",
    "            mld = rbind(mld, c(t.mld, data$eng$lat[eng], data$eng$lon[eng], data$sensor$p[l.time[l.mld]]))\n",
    "        }\n",
    "    }\n",
    "    \n",
    "    mld = mld[-1,]\n",
    "    mld$time = conv.time(mld$time)\n",
    "    mld\n",
    "}"
   ]
  },
  {
   "cell_type": "code",
   "execution_count": 14,
   "metadata": {},
   "outputs": [
    {
     "name": "stdout",
     "output_type": "stream",
     "text": [
      "[1] 92\n",
      "[1] 92\n"
     ]
    },
    {
     "name": "stderr",
     "output_type": "stream",
     "text": [
      "Warning message in min(which(data$sensor$sigma2[l.time] > rho.10 + rho)):\n",
      "\"no non-missing arguments to min; returning Inf\""
     ]
    }
   ],
   "source": [
    "mld = get.mld(data, 0.1)\n",
    "mld2 = get.mld(data, 0.2)"
   ]
  },
  {
   "cell_type": "code",
   "execution_count": 15,
   "metadata": {},
   "outputs": [
    {
     "data": {
      "image/png": "[encoded data removed]",
      "text/plain": [
       "plot without title"
      ]
     },
     "metadata": {},
     "output_type": "display_data"
    }
   ],
   "source": [
    "#plot(data$sensor$time.real, data$sensor$p, cex=0.1, pch=20, col=get.qual.pal(3)[data$sensor$direction+2],\n",
    "#     ylim=c(300,0), yaxs='i', ylab='Depth', xlab='')\n",
    "plot(data$sensor$time.real[c(1, nrow(data$sensor))], data$sensor$p[c(1, nrow(data$sensor))], cex=0.1, pch=20, col='white',\n",
    "     ylim=c(100,0), yaxs='i', ylab='Depth', xlab='')\n",
    "\n",
    "points(mld$time, mld$mld, pch=15, col='dark red')\n",
    "points(mld2$time, mld2$mld, pch=16, col='dark blue', cex=0.5)\n",
    "lines(c(min(mld$time), max(mld$time)), c(10,10), lty=2)"
   ]
  },
  {
   "cell_type": "code",
   "execution_count": 88,
   "metadata": {},
   "outputs": [
    {
     "data": {
      "image/png": "[encoded data removed]",
      "text/plain": [
       "plot without title"
      ]
     },
     "metadata": {},
     "output_type": "display_data"
    }
   ],
   "source": [
    "plot.map(lon = mld$lon, lat = mld$lat, main = 'SeaSoar MLDs', col = make.div.pal(mld$mld, 100), cex=1, pch=15)"
   ]
  },
  {
   "cell_type": "code",
   "execution_count": 17,
   "metadata": {},
   "outputs": [],
   "source": [
    "seasoar2 = mld\n",
    "save(seasoar2, file = 'RStates/SeaSoar2.MLD (0.1).rdata')"
   ]
  },
  {
   "cell_type": "code",
   "execution_count": 18,
   "metadata": {},
   "outputs": [],
   "source": [
    "save(data, file='RStates/SeaSoar2.final.rdata')"
   ]
  },
  {
   "cell_type": "markdown",
   "metadata": {},
   "source": [
    "---\n",
    "# Review"
   ]
  },
  {
   "cell_type": "code",
   "execution_count": 19,
   "metadata": {},
   "outputs": [],
   "source": [
    "plot.mld = function(mld, i, window = 3) {\n",
    "    l = which(as.numeric(difftime(data$sensor$time.real, mld$time[i], units = 'mins')) < window &\n",
    "              as.numeric(difftime(data$sensor$time.real, mld$time[i], units = 'mins')) >= -window &\n",
    "             data$sensor$direction == -1)\n",
    "    \n",
    "    plot(data$sensor$sigma2[l], data$sensor$p[l], ylim=c(100,0), xlim=c(1023,1027), yaxs='i',\n",
    "         pch=20, col='#00000050', cex=1, main=paste0(i, ' - ', length(l)), ylab='Depth', xlab='Density')\n",
    "    \n",
    "    lines(c(0,10000), rep(mld$mld[i], 2), lty=2, col='red')\n",
    "    #lines(c(0,10000), rep(mld2$mld[i], 2), lty=1, col='red')\n",
    "    lines(c(0,10000), rep(10, 2), lty=2, col='blue')\n",
    "    \n",
    "    text(1023, 80, mld$mld[i])\n",
    "}"
   ]
  },
  {
   "cell_type": "code",
   "execution_count": 22,
   "metadata": {
    "scrolled": false
   },
   "outputs": [
    {
     "data": {
      "text/html": [
       "<strong>png:</strong> 2"
      ],
      "text/latex": [
       "\\textbf{png:} 2"
      ],
      "text/markdown": [
       "**png:** 2"
      ],
      "text/plain": [
       "png \n",
       "  2 "
      ]
     },
     "metadata": {},
     "output_type": "display_data"
    }
   ],
   "source": [
    "pdf('Output/SeaSoar1 - MLD Review (0.2).pdf')\n",
    "\n",
    "par(mfrow=c(2,2))\n",
    "for(i in 1:nrow(mld2)) {\n",
    "    plot.mld(mld2, i)\n",
    "}\n",
    "\n",
    "dev.off()"
   ]
  },
  {
   "cell_type": "code",
   "execution_count": 29,
   "metadata": {},
   "outputs": [
    {
     "data": {
      "image/png": "[encoded data removed]",
      "text/plain": [
       "plot without title"
      ]
     },
     "metadata": {},
     "output_type": "display_data"
    }
   ],
   "source": [
    "l = c(1:10000)\n",
    "\n",
    "par(mfrow=c(2,2))\n",
    "plot(data$sensor$trans[l], data$sensor$p[l], pch=20, cex=0.1, ylim=c(200,0), yaxs='i', ylab='Depth', xlab='Transmission')\n",
    "plot(data$sensor$time[l], data$sensor$trans[l], pch=20, cex=0.1)\n",
    "\n",
    "plot(data$sensor$fl[l], data$sensor$p[l], pch=20, cex=0.1, ylim=c(200,0), yaxs='i', ylab='Depth', xlab='Fluorometer')\n",
    "plot(data$sensor$time[l], data$sensor$fl[l], pch=20, cex=0.1)"
   ]
  },
  {
   "cell_type": "code",
   "execution_count": 82,
   "metadata": {},
   "outputs": [],
   "source": [
    "l = which(abs(data$sensor$p - 20) < 0.5)\n",
    "lat = c()\n",
    "lon = c()\n",
    "\n",
    "for (i in 1:length(l)) {\n",
    "    k = which.min(abs(data$eng$time - data$sensor$time[l[i]]))\n",
    "    lat = c(lat, data$eng$lat[k])\n",
    "    lon = c(lon, data$eng$lon[k])\n",
    "}\n"
   ]
  },
  {
   "cell_type": "code",
   "execution_count": 57,
   "metadata": {},
   "outputs": [],
   "source": [
    "## Check value at 35PSU, 10C\n",
    "#### 274.61\n",
    "\n",
    "O2sol = function(S=35, T=10) { ## umol Kg-1\n",
    "    \n",
    "    # convert T to scaled temperature\n",
    "    Ts = log((298.15 - T) / (273.15 + T))\n",
    "\n",
    "    # constants from Table 1 of Garcia & Gordon for the fit to Benson and Krause (1984)\n",
    "    A.0 = 5.80871\n",
    "    A.1 = 3.20291\n",
    "    A.2 = 4.17887\n",
    "    A.3 = 5.10006\n",
    "    A.4 = -9.86643e-2\n",
    "    A.5 = 3.80369\n",
    "    \n",
    "    B.0 = -7.01577e-3\n",
    "    B.1 = -7.70028e-3\n",
    "    B.2 = -1.13864e-2\n",
    "    B.3 = -9.51519e-3\n",
    "    \n",
    "    C.0 = -2.75915e-7\n",
    "\n",
    "    A.calc = A.0 + A.1*Ts + A.2*Ts^2 + A.3*Ts^3 + A.4*Ts^4 + A.5*Ts^5\n",
    "    B.calc = B.0 + B.1*Ts + B.2*Ts^2 + B.3*Ts^3\n",
    "    \n",
    "    ## (umol / kg)\n",
    "    exp(A.calc + S * B.calc + C.0 * S^2)\n",
    "}"
   ]
  },
  {
   "cell_type": "code",
   "execution_count": 84,
   "metadata": {},
   "outputs": [
    {
     "data": {
      "image/png": "[encoded data removed]",
      "text/plain": [
       "Plot with title \"Oxygen\""
      ]
     },
     "metadata": {},
     "output_type": "display_data"
    },
    {
     "data": {
      "text/html": [
       "<strong>null device:</strong> 1"
      ],
      "text/latex": [
       "\\textbf{null device:} 1"
      ],
      "text/markdown": [
       "**null device:** 1"
      ],
      "text/plain": [
       "null device \n",
       "          1 "
      ]
     },
     "metadata": {},
     "output_type": "display_data"
    },
    {
     "data": {
      "image/png": "[encoded data removed]",
      "text/plain": [
       "Plot with title \"Temperature\""
      ]
     },
     "metadata": {},
     "output_type": "display_data"
    }
   ],
   "source": [
    "#pdf('Output/Seasoar - Values at depth (20m).pdf')\n",
    "par(mfrow = c(2,2))\n",
    "\n",
    "####\n",
    "plot(data$sensor$time.real[l], runmed(data$sensor$fl[l],21), pch=20, cex=0.1, ylab='Fluor', xlab='',\n",
    "     yaxs='i', main='Fluor')\n",
    "plot.map(lon = lon, lat = lat, main='Fluor', col = make.div.pal(runmed(data$sensor$fl[l], 21), 100),\n",
    "         pch=15, cex=0.5, zoom = 0)\n",
    "\n",
    "####\n",
    "plot(data$sensor$time.real[l], runmed(data$sensor$oxy[l],21),\n",
    "     pch=20, cex=0.1, ylab='O2', xlab='', yaxs='i', main='Oxygen')\n",
    "plot.map(lon = lon, lat = lat, main='Oxy',\n",
    "         col = make.div.pal(runmed(data$sensor$oxy[l], 21), 100),\n",
    "         pch=15, cex=0.5, zoom = 0)\n",
    "\n",
    "####\n",
    "plot(data$sensor$time.real[l], runmed(data$sensor$trans[l],21), pch=20, cex=0.1, ylab='Trans', xlab='',\n",
    "     yaxs='i', main = 'Trans')\n",
    "plot.map(lon = lon, lat = lat, main='Trans', col = make.div.pal(runmed(data$sensor$trans[l], 21), 100),\n",
    "         pch=15, cex=0.5, zoom = 0)\n",
    "\n",
    "\n",
    "####\n",
    "plot(data$sensor$time.real[l], runmed(data$sensor$t1[l],21), pch=20, cex=0.1, ylab='T', xlab='',\n",
    "     yaxs='i', main='Temperature')\n",
    "plot.map(lon = lon, lat = lat, main='Temp', col = make.div.pal(runmed(data$sensor$t1[l], 21), 100),\n",
    "         pch=15, cex=0.5, zoom = 0)\n",
    "\n",
    "dev.off()"
   ]
  },
  {
   "cell_type": "code",
   "execution_count": 23,
   "metadata": {},
   "outputs": [
    {
     "name": "stdout",
     "output_type": "stream",
     "text": [
      "'data.frame':\t606813 obs. of  6 variables:\n",
      " $ Time : num  1.5e+09 1.5e+09 1.5e+09 1.5e+09 1.5e+09 ...\n",
      " $ Lat  : num  33.5 33.5 33.5 33.5 33.5 ...\n",
      " $ Lon  : num  -123 -123 -123 -123 -123 ...\n",
      " $ Depth: num  7 7 7 7 7 7 7 7 7 7 ...\n",
      " $ T    : num  17.2 17.2 17.2 17.2 17.2 ...\n",
      " $ S    : num  33.1 33.1 33.1 33.1 33.1 ...\n"
     ]
    }
   ],
   "source": [
    "l = which(data$sensor$direction == -1)\n",
    "\n",
    "out = data.frame(Time = data$sensor$time[l], Lat = data$sensor$lat[l], Lon = data$sensor$lon[l], Depth = data$sensor$p[l],\n",
    "                T = data$sensor$t1[l], S = data$sensor$s1[l])\n",
    "\n",
    "str(out)"
   ]
  },
  {
   "cell_type": "code",
   "execution_count": 24,
   "metadata": {},
   "outputs": [],
   "source": [
    "write.table(x = out, '../../Data/CCELTER_P1706 Seasoar2 (physical).csv')"
   ]
  },
  {
   "cell_type": "code",
   "execution_count": 21,
   "metadata": {},
   "outputs": [
    {
     "data": {
      "text/html": [
       "<table>\n",
       "<thead><tr><th scope=col>Time</th><th scope=col>Lat</th><th scope=col>Lon</th><th scope=col>Depth</th><th scope=col>T</th><th scope=col>S</th></tr></thead>\n",
       "<tbody>\n",
       "\t<tr><td>1498507112</td><td>33.52615  </td><td>-123.0551 </td><td>7         </td><td>17.22221  </td><td>33.13953  </td></tr>\n",
       "\t<tr><td>1498507112</td><td>33.52615  </td><td>-123.0551 </td><td>6         </td><td>17.22239  </td><td>33.14069  </td></tr>\n",
       "\t<tr><td>1498507112</td><td>33.52615  </td><td>-123.0551 </td><td>7         </td><td>17.22386  </td><td>33.13994  </td></tr>\n",
       "\t<tr><td>1498507112</td><td>33.52615  </td><td>-123.0551 </td><td>6         </td><td>17.22442  </td><td>33.13807  </td></tr>\n",
       "\t<tr><td>1498507112</td><td>33.52615  </td><td>-123.0551 </td><td>7         </td><td>17.24611  </td><td>33.11990  </td></tr>\n",
       "\t<tr><td>1498507112</td><td>33.52615  </td><td>-123.0551 </td><td>6         </td><td>17.25529  </td><td>33.11332  </td></tr>\n",
       "</tbody>\n",
       "</table>\n"
      ],
      "text/latex": [
       "\\begin{tabular}{r|llllll}\n",
       " Time & Lat & Lon & Depth & T & S\\\\\n",
       "\\hline\n",
       "\t 1498507112 & 33.52615   & -123.0551  & 7          & 17.22221   & 33.13953  \\\\\n",
       "\t 1498507112 & 33.52615   & -123.0551  & 6          & 17.22239   & 33.14069  \\\\\n",
       "\t 1498507112 & 33.52615   & -123.0551  & 7          & 17.22386   & 33.13994  \\\\\n",
       "\t 1498507112 & 33.52615   & -123.0551  & 6          & 17.22442   & 33.13807  \\\\\n",
       "\t 1498507112 & 33.52615   & -123.0551  & 7          & 17.24611   & 33.11990  \\\\\n",
       "\t 1498507112 & 33.52615   & -123.0551  & 6          & 17.25529   & 33.11332  \\\\\n",
       "\\end{tabular}\n"
      ],
      "text/markdown": [
       "\n",
       "Time | Lat | Lon | Depth | T | S | \n",
       "|---|---|---|---|---|---|\n",
       "| 1498507112 | 33.52615   | -123.0551  | 7          | 17.22221   | 33.13953   | \n",
       "| 1498507112 | 33.52615   | -123.0551  | 6          | 17.22239   | 33.14069   | \n",
       "| 1498507112 | 33.52615   | -123.0551  | 7          | 17.22386   | 33.13994   | \n",
       "| 1498507112 | 33.52615   | -123.0551  | 6          | 17.22442   | 33.13807   | \n",
       "| 1498507112 | 33.52615   | -123.0551  | 7          | 17.24611   | 33.11990   | \n",
       "| 1498507112 | 33.52615   | -123.0551  | 6          | 17.25529   | 33.11332   | \n",
       "\n",
       "\n"
      ],
      "text/plain": [
       "  Time       Lat      Lon       Depth T        S       \n",
       "1 1498507112 33.52615 -123.0551 7     17.22221 33.13953\n",
       "2 1498507112 33.52615 -123.0551 6     17.22239 33.14069\n",
       "3 1498507112 33.52615 -123.0551 7     17.22386 33.13994\n",
       "4 1498507112 33.52615 -123.0551 6     17.22442 33.13807\n",
       "5 1498507112 33.52615 -123.0551 7     17.24611 33.11990\n",
       "6 1498507112 33.52615 -123.0551 6     17.25529 33.11332"
      ]
     },
     "metadata": {},
     "output_type": "display_data"
    }
   ],
   "source": [
    "head(out)"
   ]
  },
  {
   "cell_type": "code",
   "execution_count": null,
   "metadata": {},
   "outputs": [],
   "source": []
  }
 ],
 "metadata": {
  "kernelspec": {
   "display_name": "R",
   "language": "R",
   "name": "ir"
  },
  "language_info": {
   "codemirror_mode": "r",
   "file_extension": ".r",
   "mimetype": "text/x-r-source",
   "name": "R",
   "pygments_lexer": "r",
   "version": "3.4.2"
  },
  "toc": {
   "nav_menu": {},
   "number_sections": true,
   "sideBar": true,
   "skip_h1_title": false,
   "toc_cell": false,
   "toc_position": {},
   "toc_section_display": "block",
   "toc_window_display": false
  },
  "varInspector": {
   "cols": {
    "lenName": 16,
    "lenType": 16,
    "lenVar": 40
   },
   "kernels_config": {
    "python": {
     "delete_cmd_postfix": "",
     "delete_cmd_prefix": "del ",
     "library": "var_list.py",
     "varRefreshCmd": "print(var_dic_list())"
    },
    "r": {
     "delete_cmd_postfix": ") ",
     "delete_cmd_prefix": "rm(",
     "library": "var_list.r",
     "varRefreshCmd": "cat(var_dic_list()) "
    }
   },
   "types_to_exclude": [
    "module",
    "function",
    "builtin_function_or_method",
    "instance",
    "_Feature"
   ],
   "window_display": false
  }
 },
 "nbformat": 4,
 "nbformat_minor": 2
}
