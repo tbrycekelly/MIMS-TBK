{
 "cells": [
  {
   "cell_type": "markdown",
   "metadata": {},
   "source": [
    "\n",
    "# Determine MLD\n",
    "This section reads in the CTD downcast files and identifies the 0.03 density change to calculate the MLD. THe MLD is then linearly interpolated onto the ship's track."
   ]
  },
  {
   "cell_type": "code",
   "execution_count": 1,
   "metadata": {},
   "outputs": [
    {
     "data": {
      "text/html": [
       "3"
      ],
      "text/latex": [
       "3"
      ],
      "text/markdown": [
       "3"
      ],
      "text/plain": [
       "[1] 3"
      ]
     },
     "metadata": {},
     "output_type": "display_data"
    }
   ],
   "source": [
    "## Install the package if needed:\n",
    "#install.packages('Mcomp', repos='http://cran.us.r-project.org')\n",
    "\n",
    "## Load the relevent packages\n",
    "library(ncdf4)  # For reading in the NCEP wind fields\n",
    "#library(R.matlab)  # If you need to read in matlab .mat files\n",
    "library(openxlsx)  # If you need to read in .xlsx files\n",
    "#library(rNOMADS)  # For reading grib2 data files (NOMADS data for instance)\n",
    "#library(rGDAL)  #\n",
    "library(RColorBrewer)\n",
    "library(compiler)  # required for JIT (below)\n",
    "\n",
    "## Enable compilation (speed gain?)\n",
    "enableJIT(3)\n",
    "\n",
    "## Helper function for converting the date time stamps.\n",
    "conv_excel_time = function(x, tz='US/Pacific') {\n",
    "    as.POSIXct(as.Date(x,origin=\"1899-12-30\", tz=tz))\n",
    "}\n",
    "\n",
    "get.qual.pal = function(n=100, pal='Accent') {\n",
    "    colorRampPalette(brewer.pal(8, pal))(n)\n",
    "}\n",
    "\n",
    "get.seq.pal = function(n=100, pal='YlOrRd') {\n",
    "    colorRampPalette(rev(brewer.pal(11, pal)))(n)\n",
    "}\n",
    "\n",
    "get.div.pal = function(n=100, pal='Spectral') {\n",
    "    colorRampPalette(rev(brewer.pal(11, pal)))(n)\n",
    "}\n",
    "\n",
    "make.div.pal = function(x=100, n, pal='Spectral') {\n",
    "    get.div.pal(n, pal=pal)[as.numeric(cut(x, breaks = n))]\n",
    "}"
   ]
  },
  {
   "cell_type": "markdown",
   "metadata": {},
   "source": [
    "__Load the CTD data:__"
   ]
  },
  {
   "cell_type": "code",
   "execution_count": 2,
   "metadata": {
    "collapsed": true
   },
   "outputs": [],
   "source": [
    "ctd.path = './Raw Data/CTD/DataZoo - P1706 CTD Downcast Data.xlsx'\n",
    "log.path = './Raw Data/CTD/DataZoo - P1706 CTD Cast Log.xlsx'\n",
    "\n",
    "## Read in the data files and convert the excel time\n",
    "log = read.xlsx(log.path, sheet = 'Data')\n",
    "ctd = read.xlsx(ctd.path)"
   ]
  },
  {
   "cell_type": "code",
   "execution_count": 3,
   "metadata": {
    "collapsed": true
   },
   "outputs": [],
   "source": [
    "calc.mld = function(ctd.path, log.path, delta.rho = 0.1, real.time = TRUE) {\n",
    "    \n",
    "\n",
    "    \n",
    "    ## this section calculates the mld for each cast\n",
    "    mld = data.frame(time = 0, Lat = 0, Long = 0, mld = 0, Cast = 0)\n",
    "    #mld.times = c()\n",
    "\n",
    "    ctd = ctd[ctd$Pressure >= 10,] ## Remove shallow data since mld will be defined as > 10m\n",
    "\n",
    "    ## Go through each cast and determine the MLD and then save that depth to a table.\n",
    "    for (i in unique(ctd$Cast)){\n",
    "\n",
    "        ## Select the relevent density profile\n",
    "        l = which(ctd$Cast == i)\n",
    "        rho = ctd$Sigma_00[l]\n",
    "        if (all(is.na(rho))) {\n",
    "            rho = ctd$Sigma_11[l]\n",
    "        }\n",
    "\n",
    "        if (length(l) > 5) { ## make sure it was a real cast (i.e. more than 10 data points)\n",
    "\n",
    "            l.log = which(log$Cast == i)[1]  # Which entry is this cast in the ctd log?\n",
    "            rho.10 = rho[ctd$Pressure[l] == 10]  # density at 10 meters depth\n",
    "\n",
    "            ll = which.min(abs(rho - (rho.10 + delta.rho)))# What is the closest density to rho10 + 0.03?\n",
    "\n",
    "            # Save the Data\n",
    "            mld = rbind(mld, c(ctd$DateTime_GMT[l[1]], log$Lat[l.log], log$Long[l.log], ctd$Pressure[l[ll]], i) )\n",
    "            #mld.times = c(mld.times, ctd$DateTime_GMT[l[1]])\n",
    "        }\n",
    "    }\n",
    "    if (real.time) {\n",
    "        mld$time = conv_excel_time(mld$time)\n",
    "    }\n",
    "    \n",
    "    mld = mld[-1,]\n",
    "    mld\n",
    "}"
   ]
  },
  {
   "cell_type": "markdown",
   "metadata": {},
   "source": [
    "__Run the Interpolation:__"
   ]
  },
  {
   "cell_type": "code",
   "execution_count": 4,
   "metadata": {
    "collapsed": true
   },
   "outputs": [],
   "source": [
    "## Choose a delta rho from rho.10\n",
    "#delta.rho = 0.03\n",
    "#delta.rho = 0.05\n",
    "delta.rho = 0.1\n",
    "#delta.rho = 0.125\n",
    "\n",
    "mld = calc.mld(ctd, log, delta.rho)"
   ]
  },
  {
   "cell_type": "markdown",
   "metadata": {},
   "source": [
    "---\n",
    "# Save the results"
   ]
  },
  {
   "cell_type": "code",
   "execution_count": 41,
   "metadata": {
    "collapsed": true
   },
   "outputs": [],
   "source": [
    "save(mld, file=paste0('./RStates/mld-', delta.rho ,'.rdata'))"
   ]
  },
  {
   "cell_type": "markdown",
   "metadata": {},
   "source": [
    "---\n",
    "# Plots"
   ]
  },
  {
   "cell_type": "code",
   "execution_count": 42,
   "metadata": {
    "collapsed": true
   },
   "outputs": [],
   "source": [
    "#par(mfrow=c(2,2))\n",
    "#hist(mld$mld, breaks = 20)"
   ]
  },
  {
   "cell_type": "code",
   "execution_count": 6,
   "metadata": {
    "collapsed": true
   },
   "outputs": [],
   "source": [
    "plot.cast = function(ctd, mld, target.time, d.max = 100, save.plots = FALSE, dir = 'Output/') {\n",
    "    ctd$DateTime_GMT = conv_excel_time(ctd$DateTime_GMT)\n",
    "    \n",
    "    cast = ctd$Cast[which.min(as.numeric(difftime(ctd$DateTime_GMT, target.time, units='hours'))^2)]\n",
    "    name = paste(\"Cast -\", cast)\n",
    "\n",
    "\n",
    "    if (save.plots) {\n",
    "        pdf(paste0(dir, 'CTD Profile + MLD-', name, '.pdf'))\n",
    "    }\n",
    "    par(mfrow=c(2,2))\n",
    "\n",
    "    l = which(ctd$Cast == cast)\n",
    "    plot(ctd$T190C[l], ctd$Pressure[l], pch=20, ylim=c(d.max,0), ylab='Depth(m)', xlab='Temperature', main=name)\n",
    "    lines(c(0,1e3), rep(mld$mld[which(mld$Cast == cast)], 2), lty=2)\n",
    "\n",
    "    plot(ctd$OxymicroM[l], ctd$Pressure[l], pch=20, ylim=c(d.max,0), ylab='Depth(m)', xlab='uM Oxygen', main=name)\n",
    "    lines(c(0,1e3), rep(mld$mld[which(mld$Cast == cast)], 2), lty=2)\n",
    "\n",
    "    plot(ctd$Sigma_11[l], ctd$Pressure[l], pch=20, ylim=c(d.max,0), ylab='Depth(m)', xlab='Density', main=name)\n",
    "    lines(c(0,1e3), rep(mld$mld[which(mld$Cast == cast)], 2), lty=2)\n",
    "\n",
    "    plot(ctd$Fluor[l], ctd$Pressure[l], pch=20, ylim=c(d.max,0), ylab='Depth(m)', xlab='Fluorometer', main=name)\n",
    "    lines(c(0,1e3), rep(mld$mld[which(mld$Cast == cast)], 2), lty=2)\n",
    "    \n",
    "    if (save.plots) {\n",
    "        dev.off()\n",
    "    }\n",
    "}"
   ]
  },
  {
   "cell_type": "code",
   "execution_count": 7,
   "metadata": {},
   "outputs": [
    {
     "data": {
      "image/png": "[encoded data removed]",
      "text/plain": [
       "Plot with title \"Cast - 57\""
      ]
     },
     "metadata": {},
     "output_type": "display_data"
    }
   ],
   "source": [
    "#target.time = strptime(\"2017/06/18 05:15\", format=\"%Y/%m/%d %H:%M\", tz='UTC')\n",
    "target.time = strptime(\"2017/06/22 20:05\", format=\"%Y/%m/%d %H:%M\", tz='UTC')\n",
    "#target.time = strptime(\"2017/06/18 05:15\", format=\"%Y/%m/%d %H:%M\", tz='UTC')\n",
    "\n",
    "plot.cast(ctd, mld, target.time, save.plots = FALSE)"
   ]
  },
  {
   "cell_type": "code",
   "execution_count": 11,
   "metadata": {},
   "outputs": [
    {
     "name": "stderr",
     "output_type": "stream",
     "text": [
      "Warning message in min(x):\n",
      "\"no non-missing arguments to min; returning Inf\"Warning message in max(x):\n",
      "\"no non-missing arguments to max; returning -Inf\"Warning message in min(x):\n",
      "\"no non-missing arguments to min; returning Inf\"Warning message in max(x):\n",
      "\"no non-missing arguments to max; returning -Inf\"Warning message in min(x):\n",
      "\"no non-missing arguments to min; returning Inf\"Warning message in max(x):\n",
      "\"no non-missing arguments to max; returning -Inf\"Warning message in min(x):\n",
      "\"no non-missing arguments to min; returning Inf\"Warning message in max(x):\n",
      "\"no non-missing arguments to max; returning -Inf\"Warning message in min(x):\n",
      "\"no non-missing arguments to min; returning Inf\"Warning message in max(x):\n",
      "\"no non-missing arguments to max; returning -Inf\"Warning message in min(x):\n",
      "\"no non-missing arguments to min; returning Inf\"Warning message in max(x):\n",
      "\"no non-missing arguments to max; returning -Inf\"Warning message in min(x):\n",
      "\"no non-missing arguments to min; returning Inf\"Warning message in max(x):\n",
      "\"no non-missing arguments to max; returning -Inf\"Warning message in min(x):\n",
      "\"no non-missing arguments to min; returning Inf\"Warning message in max(x):\n",
      "\"no non-missing arguments to max; returning -Inf\"Warning message in min(x):\n",
      "\"no non-missing arguments to min; returning Inf\"Warning message in max(x):\n",
      "\"no non-missing arguments to max; returning -Inf\"Warning message in min(x):\n",
      "\"no non-missing arguments to min; returning Inf\"Warning message in max(x):\n",
      "\"no non-missing arguments to max; returning -Inf\"Warning message in min(x):\n",
      "\"no non-missing arguments to min; returning Inf\"Warning message in max(x):\n",
      "\"no non-missing arguments to max; returning -Inf\""
     ]
    }
   ],
   "source": [
    "for (i in unique(log$DateTime_GMT)) {\n",
    "    try({plot.cast(ctd, mld, conv_excel_time(i), save.plots = TRUE, dir = 'Output/CTD/')})\n",
    "}"
   ]
  },
  {
   "cell_type": "code",
   "execution_count": 9,
   "metadata": {},
   "outputs": [
    {
     "data": {
      "text/html": [
       "<ol class=list-inline>\n",
       "\t<li>42887.8863310185</li>\n",
       "\t<li>42888.6741898148</li>\n",
       "\t<li>42892.9271875</li>\n",
       "\t<li>42894.0639583333</li>\n",
       "\t<li>42894.1343518519</li>\n",
       "\t<li>42894.1806828704</li>\n",
       "\t<li>42894.2358333333</li>\n",
       "\t<li>42894.2909953704</li>\n",
       "\t<li>42894.3593171296</li>\n",
       "\t<li>42894.4314467593</li>\n",
       "</ol>\n"
      ],
      "text/latex": [
       "\\begin{enumerate*}\n",
       "\\item 42887.8863310185\n",
       "\\item 42888.6741898148\n",
       "\\item 42892.9271875\n",
       "\\item 42894.0639583333\n",
       "\\item 42894.1343518519\n",
       "\\item 42894.1806828704\n",
       "\\item 42894.2358333333\n",
       "\\item 42894.2909953704\n",
       "\\item 42894.3593171296\n",
       "\\item 42894.4314467593\n",
       "\\end{enumerate*}\n"
      ],
      "text/markdown": [
       "1. 42887.8863310185\n",
       "2. 42888.6741898148\n",
       "3. 42892.9271875\n",
       "4. 42894.0639583333\n",
       "5. 42894.1343518519\n",
       "6. 42894.1806828704\n",
       "7. 42894.2358333333\n",
       "8. 42894.2909953704\n",
       "9. 42894.3593171296\n",
       "10. 42894.4314467593\n",
       "\n",
       "\n"
      ],
      "text/plain": [
       " [1] 42887.89 42888.67 42892.93 42894.06 42894.13 42894.18 42894.24 42894.29\n",
       " [9] 42894.36 42894.43"
      ]
     },
     "metadata": {},
     "output_type": "display_data"
    }
   ],
   "source": [
    "log$DateTime_GMT[1:10]"
   ]
  },
  {
   "cell_type": "code",
   "execution_count": null,
   "metadata": {
    "collapsed": true
   },
   "outputs": [],
   "source": []
  }
 ],
 "metadata": {
  "kernelspec": {
   "display_name": "R",
   "language": "R",
   "name": "ir"
  },
  "language_info": {
   "codemirror_mode": "r",
   "file_extension": ".r",
   "mimetype": "text/x-r-source",
   "name": "R",
   "pygments_lexer": "r",
   "version": "3.4.1"
  }
 },
 "nbformat": 4,
 "nbformat_minor": 2
}
