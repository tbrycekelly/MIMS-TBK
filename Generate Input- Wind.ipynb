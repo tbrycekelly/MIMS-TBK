{
 "cells": [
  {
   "cell_type": "markdown",
   "metadata": {},
   "source": [
    "---\n",
    "# 1. Reading in the NCEP wind data (.nc files)\n",
    "This section will load in the wind data from two .nc files (u and v components). Once loaded, we need to determine how the x,y,z dimentions of the data matrix correspond to the lat, lon, time dimensions--this is done easily from the metadata contained within the file. Nothing else is required to complete this section.\n",
    "\n",
    "Wind data is available from a variety of sources with variable resolution (spatial and temporal) and difficulty in integrating with this script (easy to import .nc to custom binary formats).\n",
    "\n",
    "*  ~0.3 degree, 3hr, .nc format (N. America only) -- [NARR](https://www.esrl.noaa.gov/psd/data/gridded/data.narr.monolevel.html)\n",
    "* 2.5 degree, 6hr, .nc format -- [NCEP](https://www.esrl.noaa.gov/psd/data/gridded/data.ncep.reanalysis.derived.surface.html)\n",
    "* 0.25 degree, 6hr, .nc format (inc. cloud cover) -- [NCSS](https://www.ncei.noaa.gov/thredds/ncss/uv/6h_agg_rt/Preliminary_Aggregation_best.ncd/dataset.html)\n",
    "* 0.25 degree, hourly, .D binary format -- [NAVGEM](ftp://ftp.hycom.org/datasets/force/NAVGEM/navgem1.4_0.281c/1hourly/)"
   ]
  },
  {
   "cell_type": "code",
   "execution_count": null,
   "metadata": {},
   "outputs": [],
   "source": [
    "source('source.r')"
   ]
  },
  {
   "cell_type": "code",
   "execution_count": 3,
   "metadata": {
    "collapsed": true
   },
   "outputs": [],
   "source": [
    "## If there are saved datasets, then run this to load them\n",
    "\n",
    "load('./RStates/wind.lat.rdata')\n",
    "load('./RStates/wind.lon.rdata')\n",
    "load('./RStates/wind.ncep.rdata')\n",
    "load('./RStates/time.actual.rdata')"
   ]
  },
  {
   "cell_type": "code",
   "execution_count": 2,
   "metadata": {
    "collapsed": true
   },
   "outputs": [],
   "source": [
    "get.info = function(path) {\n",
    "    u.nc = nc_open(path, write=FALSE)\n",
    "    ## Use the file metadata to populate ranges and coordinate mappings\n",
    "    u.nc\n",
    "    nc_close(u.nc)\n",
    "}\n",
    "\n",
    "read.wind = function(path.u, path.v, time.bounds, real.time = TRUE) {\n",
    "    ## Open the nc files (adapt as needed)\n",
    "    u.nc = nc_open(path.u, write=FALSE)\n",
    "    v.nc = nc_open(path.v, write=FALSE)\n",
    "\n",
    "    ## Load the data into u,v, lat, lon\n",
    "    wind.u = ncvar_get(u.nc, varid = 'uwnd')\n",
    "    wind.v = ncvar_get(v.nc, varid = 'vwnd')\n",
    "    wind.lat = ncvar_get(u.nc, varid = 'lat')\n",
    "    wind.lon = ncvar_get(u.nc, varid = 'lon')\n",
    "    \n",
    "    ## Clsoe the files\n",
    "    nc_close(u.nc)\n",
    "    nc_close(v.nc)\n",
    "\n",
    "    dims = dim(wind.u)\n",
    "    \n",
    "    if (real.time) {\n",
    "        ## Calculate the actual times\n",
    "        time.actual = seq(time.bounds[1]*3600, time.bounds[2]*3600, length.out = dims[3])\n",
    "        time.actual = as.POSIXct(time.actual, origin='1800-01-01 00:00:00')  # orgin is in the file metadata above\n",
    "    }\n",
    "\n",
    "    ## Check on time format/range\n",
    "    summary(time.actual)\n",
    "}\n"
   ]
  },
  {
   "cell_type": "code",
   "execution_count": null,
   "metadata": {
    "collapsed": true
   },
   "outputs": [],
   "source": [
    "read.wind(path.u = 'C:/Users/Tom/Downloads/uwnd.10m.2017.nc',\n",
    "          path.v = 'C:/Users/Tom/Downloads/vwnd.10m.2017.nc',\n",
    "          time.bounds = c(1902192, 1906533))"
   ]
  },
  {
   "cell_type": "markdown",
   "metadata": {},
   "source": [
    "### Flatten the lat/lon dimensions\n",
    "Instead of sticking with the (i, j, t) -> (lat,lon, time) coordinate mapping setup, let's flatten it out to make a simpler structure so that we have:\n",
    "\n",
    "`(i, t) - > (lat, lon, time)`   --- convert a 3-D matrix into a 2-D one (easier to manage)\n",
    "\n",
    "Therefore we can simply the x-y grid to i = 1,2,3,4,5,6,7,8,..., x*y"
   ]
  },
  {
   "cell_type": "code",
   "execution_count": null,
   "metadata": {
    "collapsed": true
   },
   "outputs": [],
   "source": [
    "## Calculate wind speed & Flatten\n",
    "wind.ncep = array(NA, dim=c(dim(wind.u)[1] * dim(wind.u)[2], dim(wind.u)[3]))\n",
    "for (i in 1:dim(wind.u)[3]) {\n",
    "    wind.ncep[,i] = sqrt(as.numeric(wind.u[,,i]^2 + wind.v[,,i]^2))\n",
    "}\n",
    "\n",
    "## Flatten the lat and lon arrays as well\n",
    "wind.lat = as.numeric(wind.lat) # x,y -> i\n",
    "wind.lom = as.numeric(wind.lon) # x,y -> i"
   ]
  },
  {
   "cell_type": "markdown",
   "metadata": {},
   "source": [
    "### Trim the data\n",
    "Take the time now to trim the data  to a more reasonable domain to speed up later computations (looping is expensive)."
   ]
  },
  {
   "cell_type": "code",
   "execution_count": null,
   "metadata": {
    "collapsed": true
   },
   "outputs": [],
   "source": [
    "## First, check the domains of the data\n",
    "print(paste('The minimum and maximum latitude in the NCEP data is', min(wind.lat), max(wind.lat)))\n",
    "print(paste('The minimum and maximum longitude in the NCEP data is', min(wind.lon), max(wind.lon)))\n",
    "print(paste('The minimum date in the NCEP data is', min(time.actual)))\n",
    "print(paste('The minimum date in the NCEP data is', max(time.actual)))"
   ]
  },
  {
   "cell_type": "code",
   "execution_count": null,
   "metadata": {
    "collapsed": true
   },
   "outputs": [],
   "source": [
    "## First set some generic bounds\n",
    "lats = c(30, 40)\n",
    "lons = c(-126, -118)\n",
    "\n",
    "## Calcualte which entries should be kept (latitude)\n",
    "keep.lat = wind.lat > lats[1] & wind.lat < lats[2] # Which col to keep\n",
    "keep.lon = wind.lon > lons[1] & wind.lon < lons[2] # Which row to keep\n",
    "keepers = keep.lat & keep.lon\n",
    "\n",
    "## update all required variables\n",
    "before = length(wind.ncep)\n",
    "\n",
    "wind.lat = wind.lat[keepers]\n",
    "wind.lon = wind.lon[keepers]\n",
    "wind.ncep = wind.ncep[keepers, ]\n",
    "\n",
    "print(paste(\"This cut removed\", 100-length(wind.ncep)/before*100, '% of the data.'))"
   ]
  },
  {
   "cell_type": "code",
   "execution_count": 4,
   "metadata": {
    "collapsed": true
   },
   "outputs": [],
   "source": [
    "## Save wind data here -- can reload directly\n",
    "\n",
    "wind = list(ncep = wind.ncep, lat = wind.lat, lon = wind.lon, time = time.actual)\n",
    "save(wind, file = 'RStates/wind.rdata')"
   ]
  },
  {
   "cell_type": "code",
   "execution_count": null,
   "metadata": {
    "collapsed": true
   },
   "outputs": [],
   "source": []
  }
 ],
 "metadata": {
  "kernelspec": {
   "display_name": "R",
   "language": "R",
   "name": "ir"
  },
  "language_info": {
   "codemirror_mode": "r",
   "file_extension": ".r",
   "mimetype": "text/x-r-source",
   "name": "R",
   "pygments_lexer": "r",
   "version": "3.4.2"
  },
  "toc": {
   "nav_menu": {},
   "number_sections": true,
   "sideBar": true,
   "skip_h1_title": false,
   "toc_cell": false,
   "toc_position": {},
   "toc_section_display": "block",
   "toc_window_display": false
  }
 },
 "nbformat": 4,
 "nbformat_minor": 2
}
