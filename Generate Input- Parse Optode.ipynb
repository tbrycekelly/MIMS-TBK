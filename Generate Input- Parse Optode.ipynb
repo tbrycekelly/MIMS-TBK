{
 "cells": [
  {
   "cell_type": "markdown",
   "metadata": {},
   "source": [
    "# Parse Optode\n"
   ]
  },
  {
   "cell_type": "code",
   "execution_count": 40,
   "metadata": {},
   "outputs": [
    {
     "data": {
      "text/html": [
       "3"
      ],
      "text/latex": [
       "3"
      ],
      "text/markdown": [
       "3"
      ],
      "text/plain": [
       "[1] 3"
      ]
     },
     "metadata": {},
     "output_type": "display_data"
    }
   ],
   "source": [
    "## Install the package if needed:\n",
    "#install.packages('geosphere', repos='http://cran.us.r-project.org')\n",
    "\n",
    "## Load the relevent packages\n",
    "library(ncdf4)  # For reading in the NCEP wind fields\n",
    "library(R.matlab)  # If you need to read in matlab .mat files\n",
    "library(openxlsx)  # If you need to read in .xlsx files\n",
    "#library(rNOMADS)  # For reading grib2 data files (NOMADS data for instance)\n",
    "#library(rGDAL)  #\n",
    "library(RColorBrewer)\n",
    "library(compiler)  # required for JIT (below)\n",
    "library(lattice)\n",
    "library(geosphere)\n",
    "library(data.table)\n",
    "\n",
    "## Enable compilation (speed gain?)\n",
    "enableJIT(3)\n",
    "\n",
    "\n",
    "## Moving Average function (for smoothing)\n",
    "ma <- function(x, n=5){\n",
    "    as.numeric(filter(x,rep(1/n,n), sides=2))\n",
    "}\n",
    "\n",
    "\n",
    "## Helper function for converting the date time stamps.\n",
    "conv_excel_time = function(x, tz='GMT') {\n",
    "    as.POSIXct(as.Date(x, origin=\"1899-12-30\", tz=tz))\n",
    "}\n",
    "\n",
    "conv_roms_time = function(x, tz='UTC') {\n",
    "    as.POSIXct(x, origin=\"1900-01-01\")\n",
    "}\n",
    "\n",
    "get.qual.pal = function(n=100, pal='Accent') {\n",
    "    colorRampPalette(brewer.pal(8, pal))(n)\n",
    "}\n",
    "\n",
    "get.seq.pal = function(n=100, pal='YlOrRd') {\n",
    "    colorRampPalette(rev(brewer.pal(9, pal)))(n)\n",
    "}\n",
    "\n",
    "get.div.pal = function(n=100, pal='Spectral') {\n",
    "    colorRampPalette(rev(brewer.pal(11, pal)))(n)\n",
    "}\n",
    "\n",
    "make.div.pal = function(x=100, n, pal='Spectral') {\n",
    "    get.div.pal(n, pal=pal)[as.numeric(cut(x, breaks = n))]\n",
    "}"
   ]
  },
  {
   "cell_type": "code",
   "execution_count": 2,
   "metadata": {},
   "outputs": [
    {
     "data": {
      "text/html": [
       "44"
      ],
      "text/latex": [
       "44"
      ],
      "text/markdown": [
       "44"
      ],
      "text/plain": [
       "[1] 44"
      ]
     },
     "metadata": {},
     "output_type": "display_data"
    }
   ],
   "source": [
    "input.dir = 'Raw Data/O2-optode MIMS/'\n",
    "\n",
    "file.list = list.files(input.dir)\n",
    "file.list = file.list[!grepl('.xlsx', file.list)]\n",
    "file.list = file.list[grepl('.txt', file.list)]\n",
    "length(file.list)"
   ]
  },
  {
   "cell_type": "code",
   "execution_count": 135,
   "metadata": {},
   "outputs": [],
   "source": [
    "process.file = function(input.dir, file) {\n",
    "    data = data.frame(Date = '', Time = '', Rel.Time = '',\n",
    "                      Oxy.ch1 = 0, Oxy.ch2 = 0, Oxy.ch3 = 0, Oxy.ch4 = 0,\n",
    "                      Temp.ch1 = 0, Temp.ch2 = 0, Temp.ch3 = 0, Temp.ch4 = 0, Pressure = 0, stringsAsFactors = FALSE)\n",
    "    \n",
    "    temp = fread(paste0(input.dir, file), skip = 20, sep = '\\t')[,c(1:3, 5:13)]\n",
    "    colnames(temp) = colnames(data)\n",
    "    data = rbind(data, temp)\n",
    "    data = data[-1,]\n",
    "    data = data[,-3]\n",
    "    data = as.data.frame(data)\n",
    "    data$Time = add.time(data$Date, data$Time)\n",
    "    data\n",
    "}\n",
    "\n",
    "add.time = function(dates, times) {\n",
    "    ans = as.POSIXct('5/16/2017 14:07:10', format = '%m/%d/%Y %H:%M:%S', tz = 'GMT')\n",
    "    if (grepl('2017', dates[2])) {\n",
    "        format = '%m/%d/%Y %H:%M:%S'\n",
    "    } else {\n",
    "        format = '%m/%d/%y %H:%M:%S'\n",
    "    }\n",
    "    for (i in 1:length(dates)) {\n",
    "        ans = c(ans, as.POSIXct(paste(dates[i], times[i]), format = format, tz = 'GMT'))\n",
    "    }\n",
    "    ans = ans[-1]\n",
    "    ans\n",
    "}\n",
    "\n",
    "avg.data = function(data, N = 120, time.as.char = FALSE) {\n",
    "    i = 1\n",
    "    \n",
    "    for (j in 3:ncol(data)) {\n",
    "        data[,j] = as.numeric(data[,j])\n",
    "    }\n",
    "    \n",
    "    while (i < nrow(data)) {\n",
    "        dt = as.numeric(difftime(data$Time, data$Time[i], unit = 'secs'))\n",
    "        l = which(dt >= 0 & dt < N)\n",
    "        \n",
    "        ## Dataset to be averaged.\n",
    "        temp = data[l,]\n",
    "        \n",
    "        ## Take average of each field (couldn't find a more elegant solution)\n",
    "        temp$Oxy.ch1 = mean(temp$Oxy.ch1[temp$Oxy.ch1.flag == 1], na.rm = TRUE)\n",
    "        temp$Oxy.ch2 = mean(temp$Oxy.ch2[temp$Oxy.ch2.flag == 1], na.rm = TRUE)\n",
    "        temp$Oxy.ch3 = mean(temp$Oxy.ch3[temp$Oxy.ch3.flag == 1], na.rm = TRUE)\n",
    "        temp$Oxy.ch4 = mean(temp$Oxy.ch4[temp$Oxy.ch4.flag == 1], na.rm = TRUE)\n",
    "        \n",
    "        temp$Temp.ch1 = mean(temp$Temp.ch1[temp$Temp.ch1.flag == 1], na.rm = TRUE)\n",
    "        temp$Temp.ch2 = mean(temp$Temp.ch2[temp$Temp.ch2.flag == 1], na.rm = TRUE)\n",
    "        temp$Temp.ch3 = mean(temp$Temp.ch3[temp$Temp.ch3.flag == 1], na.rm = TRUE)\n",
    "        temp$Temp.ch4 = mean(temp$Temp.ch4[temp$Temp.ch4.flag == 1], na.rm = TRUE)\n",
    "        \n",
    "        temp$Pressure = mean(temp$Pressure[temp$Pressure.flag == 1], na.rm = TRUE)\n",
    "\n",
    "        ## Save average value\n",
    "        data[i,] = temp[1,]\n",
    "        \n",
    "        if (length(l) > 1) {\n",
    "            l = l[l != i]\n",
    "            if (length(l) > 0) {\n",
    "                data = data[-l,]\n",
    "            }\n",
    "        }\n",
    "        i = i + 1\n",
    "    }\n",
    "    if (time.as.char) {\n",
    "        data$Time = as.character(data$Time, tz = 'GMT')\n",
    "    }\n",
    "    data\n",
    "}\n",
    "\n",
    "filter.outliers = function(x, n = 30, tol = 3, algo = 'median') {\n",
    "    ## Assume all points are outliers (deals with NAs this way)\n",
    "    res = rep(2, length(x)) # invalid\n",
    "    \n",
    "    ## Determine smoothing model and get tollerance\n",
    "    if (algo == 'mean')\n",
    "        model = ma(x, n)\n",
    "    if (algo == 'median')\n",
    "        model = runmed(x, n+1)\n",
    "    \n",
    "    ## Apply model\n",
    "    l = which((x - model)^2 < tol^2)\n",
    "    res[l] = 1 ## Good data\n",
    "    res\n",
    "}"
   ]
  },
  {
   "cell_type": "code",
   "execution_count": 112,
   "metadata": {},
   "outputs": [
    {
     "name": "stdout",
     "output_type": "stream",
     "text": [
      "'data.frame':\t53687 obs. of  12 variables:\n",
      " $ Date    : chr  \"6/5/2017\" \"6/5/2017\" \"6/5/2017\" \"6/5/2017\" ...\n",
      " $ Time    : POSIXct, format: \"2017-06-04 22:57:21\" \"2017-06-04 22:57:22\" ...\n",
      " $ Rel.Time: chr  \"0\" \"1.4\" \"2.5\" \"3.77\" ...\n",
      " $ Oxy.ch1 : num  101 101 101 101 101 ...\n",
      " $ Oxy.ch2 : num  99.2 99.3 99.3 99.3 99.3 ...\n",
      " $ Oxy.ch3 : num  99.9 100.1 100.2 100.2 100.2 ...\n",
      " $ Oxy.ch4 : num  98.5 98.5 98.4 98.4 98.4 ...\n",
      " $ Temp.ch1: num  13.8 13.8 13.8 13.8 13.8 ...\n",
      " $ Temp.ch2: num  13.8 13.8 13.8 13.8 13.8 ...\n",
      " $ Temp.ch3: num  13.8 13.8 13.8 13.8 13.8 ...\n",
      " $ Temp.ch4: num  13.8 13.8 13.8 13.8 13.8 ...\n",
      " $ Pressure: num  1014 1014 1014 1014 1014 ...\n"
     ]
    }
   ],
   "source": [
    "data = process.file(input.dir, file.list[10])\n",
    "str(data)"
   ]
  },
  {
   "cell_type": "code",
   "execution_count": 134,
   "metadata": {
    "collapsed": true
   },
   "outputs": [],
   "source": [
    "add.filter.flags = function(data) {\n",
    "    data$Oxy.ch1.flag = filter.outliers(data$Oxy.ch1, n = 60, tol = 3)\n",
    "    data$Oxy.ch2.flag = filter.outliers(data$Oxy.ch2, n = 60, tol = 3)\n",
    "    data$Oxy.ch3.flag = filter.outliers(data$Oxy.ch3, n = 60, tol = 3)\n",
    "    data$Oxy.ch4.flag = filter.outliers(data$Oxy.ch4, n = 60, tol = 3)\n",
    "\n",
    "    data$Temp.ch1.flag = filter.outliers(data$Temp.ch1, n = 60, tol = 0.2)\n",
    "    data$Temp.ch2.flag = filter.outliers(data$Temp.ch2, n = 60, tol = 0.2)\n",
    "    data$Temp.ch3.flag = filter.outliers(data$Temp.ch3, n = 60, tol = 0.2)\n",
    "    data$Temp.ch4.flag = filter.outliers(data$Temp.ch4, n = 60, tol = 0.2)\n",
    "    \n",
    "    data$Pressure.flag = filter.outliers(data$Pressure, n = 60, tol = 0.4)\n",
    "    \n",
    "    ## Return\n",
    "    data\n",
    "}"
   ]
  },
  {
   "cell_type": "code",
   "execution_count": null,
   "metadata": {
    "collapsed": true
   },
   "outputs": [],
   "source": [
    "data = add.filter.flags(data)"
   ]
  },
  {
   "cell_type": "code",
   "execution_count": 118,
   "metadata": {
    "scrolled": false
   },
   "outputs": [
    {
     "name": "stdout",
     "output_type": "stream",
     "text": [
      "[1] \"Percent removed (Ch1): 1\"\n",
      "[1] \"Percent removed (Ch2): 0\"\n"
     ]
    },
    {
     "data": {
      "image/png": "[encoded data removed]",
      "text/plain": [
       "Plot with title \"Ch2\""
      ]
     },
     "metadata": {},
     "output_type": "display_data"
    }
   ],
   "source": [
    "#plot(data$Time, data$Oxy.ch1, type='l')\n",
    "#lines(data$Time, data$Oxy.ch1.ma, col='red')\n",
    "par(mfrow=c(2,2))\n",
    "l = c(2000:4000)\n",
    "\n",
    "plot(data$Time, data$Oxy.ch1, pch=20, cex=0.2, col = data$Oxy.ch1.flag, main = 'Ch1')\n",
    "plot(data$Time[l], data$Oxy.ch1[l], pch=20, cex=0.2, col = data$Oxy.ch1.flag[l], main='Ch1')\n",
    "\n",
    "plot(data$Time, data$Oxy.ch2, pch=20, cex=0.2, col = data$Oxy.ch2.flag, main = 'Ch2')\n",
    "plot(data$Time[l], data$Oxy.ch2[l], pch=20, cex=0.2, col = data$Oxy.ch2.flag[l], main='Ch2')\n",
    "\n",
    "## Percentages\n",
    "ch1 = length(which(data$Oxy.ch1.flag == 2)) / nrow(data)\n",
    "ch2 = length(which(data$Oxy.ch2.flag == 2)) / nrow(data)\n",
    "\n",
    "print(paste('Percent removed (Ch1):', floor(ch1*100)))\n",
    "print(paste('Percent removed (Ch2):', floor(ch2*100)))"
   ]
  },
  {
   "cell_type": "code",
   "execution_count": 126,
   "metadata": {},
   "outputs": [
    {
     "name": "stdout",
     "output_type": "stream",
     "text": [
      "[1] \"Percent removed (Ch1): 1\"\n",
      "[1] \"Percent removed (Ch2): 1\"\n"
     ]
    },
    {
     "data": {
      "image/png": "[encoded data removed]",
      "text/plain": [
       "Plot with title \"Ch2\""
      ]
     },
     "metadata": {},
     "output_type": "display_data"
    }
   ],
   "source": [
    "#plot(data$Time, data$Oxy.ch1, type='l')\n",
    "#lines(data$Time, data$Oxy.ch1.ma, col='red')\n",
    "par(mfrow=c(2,2))\n",
    "l = c(2000:4000)\n",
    "\n",
    "plot(data$Time, data$Temp.ch1, pch=20, cex=0.2, col = data$Temp.ch1.flag, main = 'Ch1')\n",
    "plot(data$Time[l], data$Temp.ch1[l], pch=20, cex=0.2, col = data$Temp.ch1.flag[l], main='Ch1')\n",
    "\n",
    "plot(data$Time, data$Temp.ch2, pch=20, cex=0.2, col = data$Temp.ch2.flag, main = 'Ch2')\n",
    "plot(data$Time[l], data$Temp.ch2[l], pch=20, cex=0.2, col = data$Temp.ch2.flag[l], main='Ch2')\n",
    "\n",
    "## Percentages\n",
    "ch1 = length(which(data$Temp.ch1.flag == 2)) / nrow(data)\n",
    "ch2 = length(which(data$Temp.ch2.flag == 2)) / nrow(data)\n",
    "\n",
    "print(paste('Percent removed (Ch1):', floor(ch1*100)))\n",
    "print(paste('Percent removed (Ch2):', floor(ch2*100)))"
   ]
  },
  {
   "cell_type": "code",
   "execution_count": 133,
   "metadata": {},
   "outputs": [
    {
     "data": {
      "image/png": "[encoded data removed]",
      "text/plain": [
       "plot without title"
      ]
     },
     "metadata": {},
     "output_type": "display_data"
    }
   ],
   "source": [
    "plot(data$Time, data$Pressure - runmed(data$Pressure, 61))"
   ]
  },
  {
   "cell_type": "markdown",
   "metadata": {},
   "source": [
    "---\n",
    "# Automate and run"
   ]
  },
  {
   "cell_type": "code",
   "execution_count": 136,
   "metadata": {
    "collapsed": true
   },
   "outputs": [],
   "source": [
    "run = function(input.dir, file.list, write.xlsx = FALSE, output.dir = '') {\n",
    "    data = process.file(input.dir, file.list[10])\n",
    "    data = add.filter.flags(data)\n",
    "    data = avg.data(data)\n",
    "    \n",
    "    if (write.xlsx) {\n",
    "        write.xlsx(file = paste0(input.dir, output.dir, file.list[1], '-parsed-avg.xlsx'), data)\n",
    "    }\n",
    "\n",
    "    for (i in 2:length(file.list)) {\n",
    "        temp = process.file(input.dir, file.list[i])\n",
    "        temp = add.filter.flags(temp)\n",
    "        temp = avg.data(temp)\n",
    "        \n",
    "        if (write.xlsx) {\n",
    "            write.xlsx(file = paste0(input.dir, output.dir, file.list[i], '-parsed-avg.xlsx'), temp)\n",
    "        }\n",
    "\n",
    "        data = rbind(data, temp)\n",
    "    }\n",
    "    ## Return\n",
    "    data\n",
    "}"
   ]
  },
  {
   "cell_type": "code",
   "execution_count": null,
   "metadata": {},
   "outputs": [],
   "source": [
    "data = run(input.dir, file.list)"
   ]
  },
  {
   "cell_type": "code",
   "execution_count": null,
   "metadata": {},
   "outputs": [],
   "source": [
    "str(data)"
   ]
  },
  {
   "cell_type": "markdown",
   "metadata": {},
   "source": [
    "---\n",
    "# Ancillary Tasks\n",
    "## Run the parser to generate intermediate input files."
   ]
  },
  {
   "cell_type": "code",
   "execution_count": 4,
   "metadata": {},
   "outputs": [
    {
     "name": "stderr",
     "output_type": "stream",
     "text": [
      "Warning message in fread(paste0(input.dir, file), skip = 20, sep = \"\\t\"):\n",
      "\"Bumped column 5 to type character on data row 5599, field contains '---'. Coercing previously read values in this column from logical, integer or numeric back to character which may not be lossless; e.g., if '00' and '000' occurred before they will now be just '0', and there may be inconsistencies with treatment of ',,' and ',NA,' too (if they occurred in this column before the bump). If this matters please rerun and set 'colClasses' to 'character' for this column. Please note that column type detection uses a sample of 1,000 rows (100 rows at 10 points) so hopefully this message should be very rare. If reporting to datatable-help, please rerun and include the output from verbose=TRUE.\"Warning message in avg.data(process.file(input.dir, i), 20):\n",
      "\"NAs introduced by coercion\"Warning message in avg.data(process.file(input.dir, i), 20):\n",
      "\"NAs introduced by coercion\"Warning message in avg.data(process.file(input.dir, i), 20):\n",
      "\"NAs introduced by coercion\"Warning message in avg.data(process.file(input.dir, i), 20):\n",
      "\"NAs introduced by coercion\"Warning message in avg.data(process.file(input.dir, i), 20):\n",
      "\"NAs introduced by coercion\"Warning message in avg.data(process.file(input.dir, i), 20):\n",
      "\"NAs introduced by coercion\"Warning message in avg.data(process.file(input.dir, i), 20):\n",
      "\"NAs introduced by coercion\"Warning message in avg.data(process.file(input.dir, i), 20):\n",
      "\"NAs introduced by coercion\"Warning message in avg.data(process.file(input.dir, i), 20):\n",
      "\"NAs introduced by coercion\"Warning message in avg.data(process.file(input.dir, i), 20):\n",
      "\"NAs introduced by coercion\""
     ]
    },
    {
     "name": "stdout",
     "output_type": "stream",
     "text": [
      "\r",
      "Read 86.8% of 138276 rows\r",
      "Read 138276 rows and 30 (of 30) columns from 0.026 GB file in 00:00:03\n",
      "\r",
      "Read 83.8% of 143132 rows\r",
      "Read 143132 rows and 30 (of 30) columns from 0.027 GB file in 00:00:03\n",
      "\r",
      "Read 80.5% of 111745 rows\r",
      "Read 111745 rows and 30 (of 30) columns from 0.021 GB file in 00:00:03\n",
      "\r",
      "Read 83.3% of 120064 rows\r",
      "Read 120064 rows and 30 (of 30) columns from 0.022 GB file in 00:00:03\n",
      "\r",
      "Read 75.5% of 132479 rows\r",
      "Read 132479 rows and 30 (of 30) columns from 0.025 GB file in 00:00:03\n",
      "\r",
      "Read 71.2% of 126417 rows\r",
      "Read 126417 rows and 30 (of 30) columns from 0.024 GB file in 00:00:03\n",
      "\r",
      "Read 50.9% of 196537 rows\r",
      "Read 126417 rows and 30 (of 30) columns from 0.036 GB file in 00:00:03\n"
     ]
    },
    {
     "name": "stderr",
     "output_type": "stream",
     "text": [
      "Warning message in fread(paste0(input.dir, file), skip = 20, sep = \"\\t\"):\n",
      "\"Stopped reading at empty line 126438 but text exists afterwards (discarded): ***********\t*************\t*************\t**************\t*************\t*************\t*************\t*************\t*************\t*************\t*************\t*************\t*************\t*************\"Warning message in avg.data(process.file(input.dir, i), 20):\n",
      "\"NAs introduced by coercion\"Warning message in avg.data(process.file(input.dir, i), 20):\n",
      "\"NAs introduced by coercion\""
     ]
    },
    {
     "name": "stdout",
     "output_type": "stream",
     "text": [
      "\r",
      "Read 80.0% of 137575 rows\r",
      "Read 137575 rows and 30 (of 30) columns from 0.025 GB file in 00:00:03\n"
     ]
    },
    {
     "name": "stderr",
     "output_type": "stream",
     "text": [
      "Warning message in avg.data(process.file(input.dir, i), 20):\n",
      "\"NAs introduced by coercion\"Warning message in avg.data(process.file(input.dir, i), 20):\n",
      "\"NAs introduced by coercion\"Warning message in avg.data(process.file(input.dir, i), 20):\n",
      "\"NAs introduced by coercion\"Warning message in avg.data(process.file(input.dir, i), 20):\n",
      "\"NAs introduced by coercion\"Warning message in avg.data(process.file(input.dir, i), 20):\n",
      "\"NAs introduced by coercion\"Warning message in avg.data(process.file(input.dir, i), 20):\n",
      "\"NAs introduced by coercion\"Warning message in avg.data(process.file(input.dir, i), 20):\n",
      "\"NAs introduced by coercion\"Warning message in avg.data(process.file(input.dir, i), 20):\n",
      "\"NAs introduced by coercion\"Warning message in avg.data(process.file(input.dir, i), 20):\n",
      "\"NAs introduced by coercion\""
     ]
    }
   ],
   "source": [
    "for (i in file.list[1:length(file.list)]) {\n",
    "    temp = 0\n",
    "    try({temp = avg.data(process.file(input.dir, i), 20)})\n",
    "    write.xlsx(temp, paste0(input.dir, 'avg/', i, '-parsed.xlsx'))\n",
    "}"
   ]
  },
  {
   "cell_type": "code",
   "execution_count": 24,
   "metadata": {},
   "outputs": [
    {
     "name": "stdout",
     "output_type": "stream",
     "text": [
      "'data.frame':\t9275 obs. of  12 variables:\n",
      " $ Date    : chr  \"6/2/2017\" \"6/2/2017\" \"6/2/2017\" \"6/2/2017\" ...\n",
      " $ Time    : chr  \"09:56:01\" \"09:56:03\" \"09:56:04\" \"09:56:05\" ...\n",
      " $ Rel.Time: chr  \"0\" \"1.31\" \"2.4\" \"3.54\" ...\n",
      " $ Oxy.ch1 : num  91.1 91.1 91.1 91.1 91.1 ...\n",
      " $ Oxy.ch2 : num  99.7 99.7 99.7 99.6 99.6 ...\n",
      " $ Oxy.ch3 : chr  \"---\" \"---\" \"---\" \"---\" ...\n",
      " $ Oxy.ch4 : chr  \"---\" \"---\" \"---\" \"---\" ...\n",
      " $ Temp.ch1: num  13 13 13 13 13 ...\n",
      " $ Temp.ch2: num  13 13 13 13 13 ...\n",
      " $ Temp.ch3: num  20 20 20 20 20 20 20 20 20 20 ...\n",
      " $ Temp.ch4: num  20 20 20 20 20 20 20 20 20 20 ...\n",
      " $ Pressure: num  1013 1013 1013 1013 1013 ...\n"
     ]
    }
   ],
   "source": [
    "temp = process.file(input.dir, file.list[4])\n",
    "str(temp)"
   ]
  },
  {
   "cell_type": "markdown",
   "metadata": {
    "collapsed": true
   },
   "source": [
    "## Helper scripts for data parsing (misc)"
   ]
  },
  {
   "cell_type": "code",
   "execution_count": 67,
   "metadata": {
    "collapsed": true
   },
   "outputs": [],
   "source": [
    "parse.to.csv = function(input.dir, file) {\n",
    "    data = data.frame(text = '', stringsAsFactors = FALSE)\n",
    "    con = file(paste0(input.dir, file), \"r\")\n",
    "    while ( TRUE ) {\n",
    "        line = readLines(con, n = 1)\n",
    "        if ( length(line) == 0 ) {\n",
    "          break\n",
    "        }\n",
    "        data = rbind(data, gsub(\"\\t\", \",\", line))\n",
    "      }\n",
    "    write.table(data, file = paste0(input.dir, 'csv/', file, '.csv'), row.names = FALSE,\n",
    "                col.names = FALSE, quote = FALSE)\n",
    "    close(con)\n",
    "}"
   ]
  },
  {
   "cell_type": "code",
   "execution_count": 68,
   "metadata": {},
   "outputs": [
    {
     "name": "stderr",
     "output_type": "stream",
     "text": [
      "Warning message in readLines(con, n = 1):\n",
      "\"incomplete final line found on 'Raw Data/O2-optode MIMS/060217-Revelle-155pm.txt'\"Warning message in readLines(con, n = 1):\n",
      "\"incomplete final line found on 'Raw Data/O2-optode MIMS/060217-Revelle-446pm.txt'\"Warning message in readLines(con, n = 1):\n",
      "\"incomplete final line found on 'Raw Data/O2-optode MIMS/060217-Revelle-628pm.txt'\"Warning message in readLines(con, n = 1):\n",
      "\"incomplete final line found on 'Raw Data/O2-optode MIMS/060317-Revelle-157pm.txt'\""
     ]
    }
   ],
   "source": [
    "for (i in file.list) {\n",
    "    parse.to.csv(input.dir, i)\n",
    "}"
   ]
  },
  {
   "cell_type": "code",
   "execution_count": null,
   "metadata": {
    "collapsed": true
   },
   "outputs": [],
   "source": []
  },
  {
   "cell_type": "markdown",
   "metadata": {},
   "source": [
    "# Save output file"
   ]
  },
  {
   "cell_type": "code",
   "execution_count": null,
   "metadata": {
    "collapsed": true
   },
   "outputs": [],
   "source": []
  },
  {
   "cell_type": "code",
   "execution_count": 8,
   "metadata": {},
   "outputs": [
    {
     "name": "stdout",
     "output_type": "stream",
     "text": [
      "'data.frame':\t126206 obs. of  14 variables:\n",
      " $ File     : chr  \"Macintosh HD:Users:Sven:Dropbox:CCE-shipdata:MIMS-TBK:Raw Data:O2-optode MIMS:avg:060117-1-Revelle-1405.txt-parsed.xlsx\" \"Macintosh HD:Users:Sven:Dropbox:CCE-shipdata:MIMS-TBK:Raw Data:O2-optode MIMS:avg:060117-1-Revelle-1405.txt-parsed.xlsx\" \"Macintosh HD:Users:Sven:Dropbox:CCE-shipdata:MIMS-TBK:Raw Data:O2-optode MIMS:avg:060117-1-Revelle-1405.txt-parsed.xlsx\" \"Macintosh HD:Users:Sven:Dropbox:CCE-shipdata:MIMS-TBK:Raw Data:O2-optode MIMS:avg:060117-1-Revelle-1405.txt-parsed.xlsx\" ...\n",
      " $ Date     : num  42887 42887 42887 42887 42887 ...\n",
      " $ Starttime: POSIXct, format: \"2017-06-01 06:05:59\" \"2017-06-01 06:06:18\" ...\n",
      " $ Endtime  : POSIXct, format: \"2017-06-01 10:05:44\" \"2017-06-01 10:06:04\" ...\n",
      " $ Reltime  : num  29.2 49.3 69.9 90 109.9 ...\n",
      " $ Oxy1     : num  111 111 111 111 111 ...\n",
      " $ Oxy2     : num  115 115 115 115 115 ...\n",
      " $ Oxy3     : num  NA NA NA NA NA NA NA NA NA NA ...\n",
      " $ Oxy4     : num  NA NA NA NA NA NA NA NA NA NA ...\n",
      " $ T1       : num  18.3 18.3 18.3 18.3 18.3 ...\n",
      " $ T2       : num  18.3 18.3 18.3 18.3 18.3 ...\n",
      " $ T3       : num  20 20 20 20 20 20 20 20 20 20 ...\n",
      " $ T4       : num  20 20 20 20 20 20 20 20 20 20 ...\n",
      " $ Pressure : num  1013 1013 1013 1013 1013 ...\n"
     ]
    }
   ],
   "source": [
    "optode = as.data.frame(read.xlsx('Raw Data/O2-optode MIMS/avg/_merge-chrono.xlsx'))\n",
    "colnames(optode) = c('File', 'Date', 'Starttime', 'Endtime', 'Reltime', 'Oxy1', 'Oxy2', 'Oxy3', 'Oxy4',\n",
    "                     'T1', 'T2', 'T3', 'T4', 'Pressure')\n",
    "\n",
    "optode$Starttime = conv_excel_time(optode$Starttime, tz = 'GMT')\n",
    "optode$Endtime = conv_excel_time(optode$Endtime, tz = 'GMT')\n",
    "str(optode)"
   ]
  },
  {
   "cell_type": "code",
   "execution_count": 10,
   "metadata": {
    "collapsed": true
   },
   "outputs": [],
   "source": [
    "save(optode, file = 'RStates/Optode 12.04.17.rdata')"
   ]
  },
  {
   "cell_type": "code",
   "execution_count": null,
   "metadata": {
    "collapsed": true
   },
   "outputs": [],
   "source": []
  }
 ],
 "metadata": {
  "kernelspec": {
   "display_name": "R",
   "language": "R",
   "name": "ir"
  },
  "language_info": {
   "codemirror_mode": "r",
   "file_extension": ".r",
   "mimetype": "text/x-r-source",
   "name": "R",
   "pygments_lexer": "r",
   "version": "3.4.1"
  }
 },
 "nbformat": 4,
 "nbformat_minor": 2
}
