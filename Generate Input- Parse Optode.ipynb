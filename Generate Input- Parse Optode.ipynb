{
 "cells": [
  {
   "cell_type": "markdown",
   "metadata": {},
   "source": [
    "# Parse Optode\n"
   ]
  },
  {
   "cell_type": "code",
   "execution_count": 2,
   "metadata": {},
   "outputs": [
    {
     "name": "stdout",
     "output_type": "stream",
     "text": [
      "Packages Loaded:\n",
      "ncdf4 R.matlab openxlsx RColorBrewer compiler lattice geosphere readxl data.table\n"
     ]
    },
    {
     "name": "stderr",
     "output_type": "stream",
     "text": [
      "Loading required package: ncdf4\n",
      "Loading required package: R.matlab\n",
      "Warning message:\n",
      "\"package 'R.matlab' was built under R version 3.4.2\"R.matlab v3.6.1 (2016-10-19) successfully loaded. See ?R.matlab for help.\n",
      "\n",
      "Attaching package: 'R.matlab'\n",
      "\n",
      "The following objects are masked from 'package:base':\n",
      "\n",
      "    getOption, isOpen\n",
      "\n",
      "Loading required package: openxlsx\n",
      "Loading required package: RColorBrewer\n",
      "Loading required package: compiler\n",
      "Loading required package: lattice\n",
      "Loading required package: geosphere\n",
      "Warning message:\n",
      "\"package 'geosphere' was built under R version 3.4.2\"Loading required package: readxl\n",
      "Loading required package: data.table\n"
     ]
    }
   ],
   "source": [
    "source('source.r')"
   ]
  },
  {
   "cell_type": "code",
   "execution_count": 3,
   "metadata": {},
   "outputs": [
    {
     "data": {
      "text/html": [
       "44"
      ],
      "text/latex": [
       "44"
      ],
      "text/markdown": [
       "44"
      ],
      "text/plain": [
       "[1] 44"
      ]
     },
     "metadata": {},
     "output_type": "display_data"
    }
   ],
   "source": [
    "input.dir = 'Raw Data/O2-optode MIMS/'\n",
    "\n",
    "file.list = list.files(input.dir)\n",
    "file.list = file.list[!grepl('.xlsx', file.list)]\n",
    "file.list = file.list[grepl('.txt', file.list)]\n",
    "length(file.list)"
   ]
  },
  {
   "cell_type": "code",
   "execution_count": 23,
   "metadata": {},
   "outputs": [],
   "source": [
    "process.file = function(input.dir, file) {\n",
    "    data = data.frame(Date = '', Time = '', Rel.Time = '',\n",
    "                      Oxy.ch1 = 0, Oxy.ch2 = 0, Oxy.ch3 = 0, Oxy.ch4 = 0,\n",
    "                      Temp.ch1 = 0, Temp.ch2 = 0, Temp.ch3 = 0, Temp.ch4 = 0, Pressure = 0, stringsAsFactors = FALSE)\n",
    "    \n",
    "    temp = fread(paste0(input.dir, file), skip = 20, sep = '\\t')[,c(1:3, 5:13)]\n",
    "    colnames(temp) = colnames(data)\n",
    "    data = rbind(data, temp)\n",
    "    data = data[-1,]\n",
    "    data = data[,-3]\n",
    "    data = as.data.frame(data)\n",
    "    \n",
    "    for (i in 3:ncol(data)) {\n",
    "        data[,i] = as.numeric(data[,i])\n",
    "    }\n",
    "    \n",
    "    data$Time = add.time(data$Date, data$Time)\n",
    "    data\n",
    "}\n",
    "\n",
    "add.time = function(dates, times) {\n",
    "    ans = as.POSIXct('5/16/2017 14:07:10', format = '%m/%d/%Y %H:%M:%S', tz = 'GMT')\n",
    "    if (grepl('2017', dates[2])) {\n",
    "        format = '%m/%d/%Y %H:%M:%S'\n",
    "    } else {\n",
    "        format = '%m/%d/%y %H:%M:%S'\n",
    "    }\n",
    "    for (i in 1:length(dates)) {\n",
    "        ans = c(ans, as.POSIXct(paste(dates[i], times[i]), format = format, tz = 'GMT'))\n",
    "    }\n",
    "    ans = ans[-1]\n",
    "    ans\n",
    "}\n",
    "\n",
    "avg.data = function(data, N = 120, time.as.char = FALSE) {\n",
    "    i = 1\n",
    "    \n",
    "    #for (j in 2:ncol(data)) {\n",
    "    #    data[,j] = as.numeric(data[,j])\n",
    "    #}\n",
    "    \n",
    "    while (i < nrow(data)) {\n",
    "        dt = as.numeric(difftime(data$Time, data$Time[i], unit = 'secs'))\n",
    "        l = which(dt >= 0 & dt < N)\n",
    "        \n",
    "        ## Dataset to be averaged.\n",
    "        temp = data[l,]\n",
    "        \n",
    "        ## Take average of each field (couldn't find a more elegant solution)\n",
    "        temp$Oxy.ch1 = mean(temp$Oxy.ch1[temp$Oxy.ch1.flag == 1], na.rm = TRUE)\n",
    "        temp$Oxy.ch2 = mean(temp$Oxy.ch2[temp$Oxy.ch2.flag == 1], na.rm = TRUE)\n",
    "        temp$Oxy.ch3 = mean(temp$Oxy.ch3[temp$Oxy.ch3.flag == 1], na.rm = TRUE)\n",
    "        temp$Oxy.ch4 = mean(temp$Oxy.ch4[temp$Oxy.ch4.flag == 1], na.rm = TRUE)\n",
    "        \n",
    "        temp$Temp.ch1 = mean(temp$Temp.ch1[temp$Temp.ch1.flag == 1], na.rm = TRUE)\n",
    "        temp$Temp.ch2 = mean(temp$Temp.ch2[temp$Temp.ch2.flag == 1], na.rm = TRUE)\n",
    "        temp$Temp.ch3 = mean(temp$Temp.ch3[temp$Temp.ch3.flag == 1], na.rm = TRUE)\n",
    "        temp$Temp.ch4 = mean(temp$Temp.ch4[temp$Temp.ch4.flag == 1], na.rm = TRUE)\n",
    "        \n",
    "        temp$Pressure = mean(temp$Pressure[temp$Pressure.flag == 1], na.rm = TRUE)\n",
    "\n",
    "        ## Save average value\n",
    "        data[i,] = temp[1,]\n",
    "        \n",
    "        if (length(l) > 1) {\n",
    "            l = l[l != i]\n",
    "            if (length(l) > 0) {\n",
    "                data = data[-l,]\n",
    "            }\n",
    "        }\n",
    "        i = i + 1\n",
    "    }\n",
    "    if (time.as.char) {\n",
    "        data$Time = as.character(data$Time, tz = 'GMT')\n",
    "    }\n",
    "    data\n",
    "}\n",
    "\n",
    "plot.flags = function(data, file) {\n",
    "    \n",
    "    data[is.na(data)] = 0\n",
    "    pdf(file)\n",
    "    \n",
    "    par(mfrow=c(2,2))\n",
    "    plot(data$Time, data$Oxy.ch1, pch=20, cex=0.1, col = data$Oxy.ch1.flag, main = 'Ch 1 Oxygen', ylab='', xlab='')\n",
    "    plot(data$Time, data$Oxy.ch2, pch=20, cex=0.1, col = data$Oxy.ch2.flag, main = 'Ch 2 Oxygen', ylab='', xlab='')\n",
    "    plot(data$Time, data$Oxy.ch3, pch=20, cex=0.1, col = data$Oxy.ch3.flag, main = 'Ch 3 Oxygen', ylab='', xlab='')\n",
    "    plot(data$Time, data$Oxy.ch4, pch=20, cex=0.1, col = data$Oxy.ch4.flag, main = 'Ch 4 Oxygen', ylab='', xlab='')\n",
    "    \n",
    "    plot(data$Time, data$Temp.ch1, pch=20, cex=0.1, col = data$Temp.ch1.flag, main = 'Ch 1 Temperature',\n",
    "         ylab='', xlab='')\n",
    "    plot(data$Time, data$Temp.ch2, pch=20, cex=0.1, col = data$Temp.ch2.flag, main = 'Ch 2 Temperature',\n",
    "         ylab='', xlab='')\n",
    "    plot(data$Time, data$Temp.ch3, pch=20, cex=0.1, col = data$Temp.ch3.flag, main = 'Ch 3 Temperature',\n",
    "         ylab='', xlab='')\n",
    "    plot(data$Time, data$Temp.ch4, pch=20, cex=0.1, col = data$Temp.ch4.flag, main = 'Ch 4 Temperature',\n",
    "         ylab='', xlab='')\n",
    "    dev.off()\n",
    "}\n",
    "\n",
    "\n",
    "\n",
    "add.filter.flags = function(data) {\n",
    "    data$Oxy.ch1.flag = filter.outliers(data$Oxy.ch1, n = 60, tol = 3)\n",
    "    data$Oxy.ch2.flag = filter.outliers(data$Oxy.ch2, n = 60, tol = 3)\n",
    "    data$Oxy.ch3.flag = filter.outliers(data$Oxy.ch3, n = 60, tol = 3)\n",
    "    data$Oxy.ch4.flag = filter.outliers(data$Oxy.ch4, n = 60, tol = 3)\n",
    "\n",
    "    data$Temp.ch1.flag = filter.outliers(data$Temp.ch1, n = 60, tol = 0.2)\n",
    "    data$Temp.ch2.flag = filter.outliers(data$Temp.ch2, n = 60, tol = 0.2)\n",
    "    data$Temp.ch3.flag = filter.outliers(data$Temp.ch3, n = 60, tol = 0.2)\n",
    "    data$Temp.ch4.flag = filter.outliers(data$Temp.ch4, n = 60, tol = 0.2)\n",
    "    \n",
    "    data$Pressure.flag = filter.outliers(data$Pressure, n = 60, tol = 0.4)\n",
    "    \n",
    "    ## Return\n",
    "    data\n",
    "}\n",
    "        \n",
    "make.calibration = function(path) {\n",
    "    cals = make.calibration.sequence(42894, 42917)\n",
    "\n",
    "    cal.file = read.xlsx(path, sheet = 'Sheet2')\n",
    "    cal.file$start = conv_excel_time(cal.file$start)\n",
    "    cal.file$stop = conv_excel_time(cal.file$stop)\n",
    "\n",
    "    rbind(cals, cal.file)\n",
    "}\n",
    "\n",
    "make.calibration.sequence = function(t1, t2) {\n",
    "    cals = c(t1:t2)\n",
    "    cals = c(cals + 0.0423, cals + 0.1674,\n",
    "             cals + 0.2785, cals + 0.4175,\n",
    "             cals + 0.5425, cals + 0.6676,\n",
    "             cals + 0.7926, cals + 0.917)\n",
    "    cals = data.frame(start = cals, stop = cals + 20/(24*60))\n",
    "    cals$start = conv_excel_time(cals$start)\n",
    "    cals$stop = conv_excel_time(cals$stop)\n",
    "    cals\n",
    "}\n",
    "\n",
    "get.cals.filter = function(t, cals = NA) {\n",
    "    res = rep(TRUE, length(x))\n",
    "    if (!is.na(cals)) {\n",
    "        for (i in 1:nrow(cals)) {\n",
    "            dt.start = as.numeric(difftime(t, cals$start))\n",
    "            dt.end = as.numeric(difftime(t, cals$stop))\n",
    "            l = which(dt.start >= 0 & dt.end <= 0)\n",
    "            res[l] = FALSE\n",
    "        }\n",
    "    }\n",
    "    res\n",
    "}"
   ]
  },
  {
   "cell_type": "code",
   "execution_count": 5,
   "metadata": {},
   "outputs": [
    {
     "name": "stderr",
     "output_type": "stream",
     "text": [
      "Warning message in process.file(input.dir, file.list[2]):\n",
      "\"NAs introduced by coercion\"Warning message in process.file(input.dir, file.list[2]):\n",
      "\"NAs introduced by coercion\""
     ]
    },
    {
     "name": "stdout",
     "output_type": "stream",
     "text": [
      "'data.frame':\t65326 obs. of  11 variables:\n",
      " $ Date    : chr  \"6/1/2017\" \"6/1/2017\" \"6/1/2017\" \"6/1/2017\" ...\n",
      " $ Time    : POSIXct, format: \"2017-06-01 10:05:39\" \"2017-06-01 10:05:40\" ...\n",
      " $ Oxy.ch1 : num  111 111 111 111 111 ...\n",
      " $ Oxy.ch2 : num  115 115 115 115 115 ...\n",
      " $ Oxy.ch3 : num  NA NA NA NA NA NA NA NA NA NA ...\n",
      " $ Oxy.ch4 : num  NA NA NA NA NA NA NA NA NA NA ...\n",
      " $ Temp.ch1: num  18.3 18.3 18.3 18.3 18.3 ...\n",
      " $ Temp.ch2: num  18.3 18.3 18.3 18.3 18.3 ...\n",
      " $ Temp.ch3: num  20 20 20 20 20 20 20 20 20 20 ...\n",
      " $ Temp.ch4: num  20 20 20 20 20 20 20 20 20 20 ...\n",
      " $ Pressure: num  1013 1013 1013 1013 1013 ...\n"
     ]
    }
   ],
   "source": [
    "data = process.file(input.dir, file.list[2])\n",
    "\n",
    "str(data)"
   ]
  },
  {
   "cell_type": "code",
   "execution_count": 24,
   "metadata": {},
   "outputs": [
    {
     "name": "stdout",
     "output_type": "stream",
     "text": [
      "'data.frame':\t252 obs. of  2 variables:\n",
      " $ start: POSIXct, format: \"2017-06-07 21:00:54\" \"2017-06-08 21:00:54\" ...\n",
      " $ stop : POSIXct, format: \"2017-06-07 21:20:54\" \"2017-06-08 21:20:54\" ...\n"
     ]
    }
   ],
   "source": [
    "cals = make.calibration('Raw Data/MIMS/Calibration MIMS hand readout.xlsx')\n",
    "str(cals)"
   ]
  },
  {
   "cell_type": "code",
   "execution_count": 8,
   "metadata": {},
   "outputs": [
    {
     "data": {
      "text/html": [
       "<strong>png:</strong> 2"
      ],
      "text/latex": [
       "\\textbf{png:} 2"
      ],
      "text/markdown": [
       "**png:** 2"
      ],
      "text/plain": [
       "png \n",
       "  2 "
      ]
     },
     "metadata": {},
     "output_type": "display_data"
    }
   ],
   "source": [
    "data = add.filter.flags(data)\n",
    "\n",
    "plot.flags(data, 'Output/Optode/test.pdf')"
   ]
  },
  {
   "cell_type": "code",
   "execution_count": 118,
   "metadata": {
    "scrolled": false
   },
   "outputs": [
    {
     "name": "stdout",
     "output_type": "stream",
     "text": [
      "[1] \"Percent removed (Ch1): 1\"\n",
      "[1] \"Percent removed (Ch2): 0\"\n"
     ]
    },
    {
     "data": {
      "image/png": "[encoded data removed]",
      "text/plain": [
       "Plot with title \"Ch2\""
      ]
     },
     "metadata": {},
     "output_type": "display_data"
    }
   ],
   "source": [
    "#plot(data$Time, data$Oxy.ch1, type='l')\n",
    "#lines(data$Time, data$Oxy.ch1.ma, col='red')\n",
    "par(mfrow=c(2,2))\n",
    "l = c(2000:4000)\n",
    "\n",
    "plot(data$Time, data$Oxy.ch1, pch=20, cex=0.2, col = data$Oxy.ch1.flag, main = 'Ch1')\n",
    "plot(data$Time[l], data$Oxy.ch1[l], pch=20, cex=0.2, col = data$Oxy.ch1.flag[l], main='Ch1')\n",
    "\n",
    "plot(data$Time, data$Oxy.ch2, pch=20, cex=0.2, col = data$Oxy.ch2.flag, main = 'Ch2')\n",
    "plot(data$Time[l], data$Oxy.ch2[l], pch=20, cex=0.2, col = data$Oxy.ch2.flag[l], main='Ch2')\n",
    "\n",
    "## Percentages\n",
    "ch1 = length(which(data$Oxy.ch1.flag == 2)) / nrow(data)\n",
    "ch2 = length(which(data$Oxy.ch2.flag == 2)) / nrow(data)\n",
    "\n",
    "print(paste('Percent removed (Ch1):', floor(ch1*100)))\n",
    "print(paste('Percent removed (Ch2):', floor(ch2*100)))"
   ]
  },
  {
   "cell_type": "code",
   "execution_count": 126,
   "metadata": {},
   "outputs": [
    {
     "name": "stdout",
     "output_type": "stream",
     "text": [
      "[1] \"Percent removed (Ch1): 1\"\n",
      "[1] \"Percent removed (Ch2): 1\"\n"
     ]
    },
    {
     "data": {
      "image/png": "[encoded data removed]",
      "text/plain": [
       "Plot with title \"Ch2\""
      ]
     },
     "metadata": {},
     "output_type": "display_data"
    }
   ],
   "source": [
    "#plot(data$Time, data$Oxy.ch1, type='l')\n",
    "#lines(data$Time, data$Oxy.ch1.ma, col='red')\n",
    "par(mfrow=c(2,2))\n",
    "l = c(2000:4000)\n",
    "\n",
    "plot(data$Time, data$Temp.ch1, pch=20, cex=0.2, col = data$Temp.ch1.flag, main = 'Ch1')\n",
    "plot(data$Time[l], data$Temp.ch1[l], pch=20, cex=0.2, col = data$Temp.ch1.flag[l], main='Ch1')\n",
    "\n",
    "plot(data$Time, data$Temp.ch2, pch=20, cex=0.2, col = data$Temp.ch2.flag, main = 'Ch2')\n",
    "plot(data$Time[l], data$Temp.ch2[l], pch=20, cex=0.2, col = data$Temp.ch2.flag[l], main='Ch2')\n",
    "\n",
    "## Percentages\n",
    "ch1 = length(which(data$Temp.ch1.flag == 2)) / nrow(data)\n",
    "ch2 = length(which(data$Temp.ch2.flag == 2)) / nrow(data)\n",
    "\n",
    "print(paste('Percent removed (Ch1):', floor(ch1*100)))\n",
    "print(paste('Percent removed (Ch2):', floor(ch2*100)))"
   ]
  },
  {
   "cell_type": "markdown",
   "metadata": {},
   "source": [
    "---\n",
    "# Automate and run"
   ]
  },
  {
   "cell_type": "code",
   "execution_count": 9,
   "metadata": {},
   "outputs": [
    {
     "data": {
      "text/html": [
       "<ol class=list-inline>\n",
       "\t<li>'02log.txt'</li>\n",
       "\t<li>'060117-Revelle-1405.txt'</li>\n",
       "\t<li>'060217-Revelle-155pm.txt'</li>\n",
       "\t<li>'060217-Revelle-446pm.txt'</li>\n",
       "\t<li>'060217-Revelle-628pm.txt'</li>\n",
       "\t<li>'060317-Revelle-157pm.txt'</li>\n",
       "\t<li>'060317-Revelle-814pm.txt'</li>\n",
       "\t<li>'060417-Revelle-200pm.txt'</li>\n",
       "\t<li>'060417-Revelle-445am.txt'</li>\n",
       "\t<li>'060517-Revelle-300am.txt'</li>\n",
       "\t<li>'060517-Revelle-705pm.txt'</li>\n",
       "\t<li>'060517-Revelle-710pm.txt'</li>\n",
       "\t<li>'060617-Revelle-300am after calibration.txt'</li>\n",
       "\t<li>'060717-revelle-843pm.txt'</li>\n",
       "\t<li>'060817-Revelle-423pm.txt'</li>\n",
       "\t<li>'061017-Revelle-1126am.txt'</li>\n",
       "\t<li>'061017-Revelle-219am.txt'</li>\n",
       "\t<li>'061217-Revelle-406am.txt'</li>\n",
       "\t<li>'061317-Revelle-808am.txt'</li>\n",
       "\t<li>'061417-Revelle-1144am.txt'</li>\n",
       "\t<li>'061517-Revelle-525am.txt'</li>\n",
       "\t<li>'061519-Revelle-705am-start cycle3.txt'</li>\n",
       "\t<li>'061520-Revelle-238pm.txt'</li>\n",
       "\t<li>'061617-Revelle-300am- depth profile.txt'</li>\n",
       "\t<li>'061617-Revelle-337pm- depth profile.txt'</li>\n",
       "\t<li>'061717-Revelle-149pm.txt'</li>\n",
       "\t<li>'061717-Revelle-658pm toward cycle 3.txt'</li>\n",
       "\t<li>'062017-Revelle-500am.txt'</li>\n",
       "\t<li>'062217-Revelle-1056am after recali and after cycle3.txt'</li>\n",
       "\t<li>'062217-Revelle-1200am.txt'</li>\n",
       "\t<li>'062317-Revelle-117pm end of cycle 3.txt'</li>\n",
       "\t<li>'062417-Revelle-249PM.txt'</li>\n",
       "\t<li>'062517-Revelle-218PM.txt'</li>\n",
       "\t<li>'062617-Revelle-1000pm.txt'</li>\n",
       "\t<li>'062617-Revelle-1234am.txt'</li>\n",
       "\t<li>'062717-Revelle-450pm.txt'</li>\n",
       "\t<li>'062817-Revelle-530pm.txt'</li>\n",
       "\t<li>'062917-Revelle-240pm.txt'</li>\n",
       "\t<li>'070117-Revelle-440am.txt'</li>\n",
       "\t<li>'MergedFile.txt'</li>\n",
       "\t<li>'rEVELLE-TEST1.txt'</li>\n",
       "\t<li>'rEVELLE-TEST2.txt'</li>\n",
       "\t<li>'seagrass.txt'</li>\n",
       "\t<li>'thallassia.txt'</li>\n",
       "</ol>\n"
      ],
      "text/latex": [
       "\\begin{enumerate*}\n",
       "\\item '02log.txt'\n",
       "\\item '060117-Revelle-1405.txt'\n",
       "\\item '060217-Revelle-155pm.txt'\n",
       "\\item '060217-Revelle-446pm.txt'\n",
       "\\item '060217-Revelle-628pm.txt'\n",
       "\\item '060317-Revelle-157pm.txt'\n",
       "\\item '060317-Revelle-814pm.txt'\n",
       "\\item '060417-Revelle-200pm.txt'\n",
       "\\item '060417-Revelle-445am.txt'\n",
       "\\item '060517-Revelle-300am.txt'\n",
       "\\item '060517-Revelle-705pm.txt'\n",
       "\\item '060517-Revelle-710pm.txt'\n",
       "\\item '060617-Revelle-300am after calibration.txt'\n",
       "\\item '060717-revelle-843pm.txt'\n",
       "\\item '060817-Revelle-423pm.txt'\n",
       "\\item '061017-Revelle-1126am.txt'\n",
       "\\item '061017-Revelle-219am.txt'\n",
       "\\item '061217-Revelle-406am.txt'\n",
       "\\item '061317-Revelle-808am.txt'\n",
       "\\item '061417-Revelle-1144am.txt'\n",
       "\\item '061517-Revelle-525am.txt'\n",
       "\\item '061519-Revelle-705am-start cycle3.txt'\n",
       "\\item '061520-Revelle-238pm.txt'\n",
       "\\item '061617-Revelle-300am- depth profile.txt'\n",
       "\\item '061617-Revelle-337pm- depth profile.txt'\n",
       "\\item '061717-Revelle-149pm.txt'\n",
       "\\item '061717-Revelle-658pm toward cycle 3.txt'\n",
       "\\item '062017-Revelle-500am.txt'\n",
       "\\item '062217-Revelle-1056am after recali and after cycle3.txt'\n",
       "\\item '062217-Revelle-1200am.txt'\n",
       "\\item '062317-Revelle-117pm end of cycle 3.txt'\n",
       "\\item '062417-Revelle-249PM.txt'\n",
       "\\item '062517-Revelle-218PM.txt'\n",
       "\\item '062617-Revelle-1000pm.txt'\n",
       "\\item '062617-Revelle-1234am.txt'\n",
       "\\item '062717-Revelle-450pm.txt'\n",
       "\\item '062817-Revelle-530pm.txt'\n",
       "\\item '062917-Revelle-240pm.txt'\n",
       "\\item '070117-Revelle-440am.txt'\n",
       "\\item 'MergedFile.txt'\n",
       "\\item 'rEVELLE-TEST1.txt'\n",
       "\\item 'rEVELLE-TEST2.txt'\n",
       "\\item 'seagrass.txt'\n",
       "\\item 'thallassia.txt'\n",
       "\\end{enumerate*}\n"
      ],
      "text/markdown": [
       "1. '02log.txt'\n",
       "2. '060117-Revelle-1405.txt'\n",
       "3. '060217-Revelle-155pm.txt'\n",
       "4. '060217-Revelle-446pm.txt'\n",
       "5. '060217-Revelle-628pm.txt'\n",
       "6. '060317-Revelle-157pm.txt'\n",
       "7. '060317-Revelle-814pm.txt'\n",
       "8. '060417-Revelle-200pm.txt'\n",
       "9. '060417-Revelle-445am.txt'\n",
       "10. '060517-Revelle-300am.txt'\n",
       "11. '060517-Revelle-705pm.txt'\n",
       "12. '060517-Revelle-710pm.txt'\n",
       "13. '060617-Revelle-300am after calibration.txt'\n",
       "14. '060717-revelle-843pm.txt'\n",
       "15. '060817-Revelle-423pm.txt'\n",
       "16. '061017-Revelle-1126am.txt'\n",
       "17. '061017-Revelle-219am.txt'\n",
       "18. '061217-Revelle-406am.txt'\n",
       "19. '061317-Revelle-808am.txt'\n",
       "20. '061417-Revelle-1144am.txt'\n",
       "21. '061517-Revelle-525am.txt'\n",
       "22. '061519-Revelle-705am-start cycle3.txt'\n",
       "23. '061520-Revelle-238pm.txt'\n",
       "24. '061617-Revelle-300am- depth profile.txt'\n",
       "25. '061617-Revelle-337pm- depth profile.txt'\n",
       "26. '061717-Revelle-149pm.txt'\n",
       "27. '061717-Revelle-658pm toward cycle 3.txt'\n",
       "28. '062017-Revelle-500am.txt'\n",
       "29. '062217-Revelle-1056am after recali and after cycle3.txt'\n",
       "30. '062217-Revelle-1200am.txt'\n",
       "31. '062317-Revelle-117pm end of cycle 3.txt'\n",
       "32. '062417-Revelle-249PM.txt'\n",
       "33. '062517-Revelle-218PM.txt'\n",
       "34. '062617-Revelle-1000pm.txt'\n",
       "35. '062617-Revelle-1234am.txt'\n",
       "36. '062717-Revelle-450pm.txt'\n",
       "37. '062817-Revelle-530pm.txt'\n",
       "38. '062917-Revelle-240pm.txt'\n",
       "39. '070117-Revelle-440am.txt'\n",
       "40. 'MergedFile.txt'\n",
       "41. 'rEVELLE-TEST1.txt'\n",
       "42. 'rEVELLE-TEST2.txt'\n",
       "43. 'seagrass.txt'\n",
       "44. 'thallassia.txt'\n",
       "\n",
       "\n"
      ],
      "text/plain": [
       " [1] \"02log.txt\"                                              \n",
       " [2] \"060117-Revelle-1405.txt\"                                \n",
       " [3] \"060217-Revelle-155pm.txt\"                               \n",
       " [4] \"060217-Revelle-446pm.txt\"                               \n",
       " [5] \"060217-Revelle-628pm.txt\"                               \n",
       " [6] \"060317-Revelle-157pm.txt\"                               \n",
       " [7] \"060317-Revelle-814pm.txt\"                               \n",
       " [8] \"060417-Revelle-200pm.txt\"                               \n",
       " [9] \"060417-Revelle-445am.txt\"                               \n",
       "[10] \"060517-Revelle-300am.txt\"                               \n",
       "[11] \"060517-Revelle-705pm.txt\"                               \n",
       "[12] \"060517-Revelle-710pm.txt\"                               \n",
       "[13] \"060617-Revelle-300am after calibration.txt\"             \n",
       "[14] \"060717-revelle-843pm.txt\"                               \n",
       "[15] \"060817-Revelle-423pm.txt\"                               \n",
       "[16] \"061017-Revelle-1126am.txt\"                              \n",
       "[17] \"061017-Revelle-219am.txt\"                               \n",
       "[18] \"061217-Revelle-406am.txt\"                               \n",
       "[19] \"061317-Revelle-808am.txt\"                               \n",
       "[20] \"061417-Revelle-1144am.txt\"                              \n",
       "[21] \"061517-Revelle-525am.txt\"                               \n",
       "[22] \"061519-Revelle-705am-start cycle3.txt\"                  \n",
       "[23] \"061520-Revelle-238pm.txt\"                               \n",
       "[24] \"061617-Revelle-300am- depth profile.txt\"                \n",
       "[25] \"061617-Revelle-337pm- depth profile.txt\"                \n",
       "[26] \"061717-Revelle-149pm.txt\"                               \n",
       "[27] \"061717-Revelle-658pm toward cycle 3.txt\"                \n",
       "[28] \"062017-Revelle-500am.txt\"                               \n",
       "[29] \"062217-Revelle-1056am after recali and after cycle3.txt\"\n",
       "[30] \"062217-Revelle-1200am.txt\"                              \n",
       "[31] \"062317-Revelle-117pm end of cycle 3.txt\"                \n",
       "[32] \"062417-Revelle-249PM.txt\"                               \n",
       "[33] \"062517-Revelle-218PM.txt\"                               \n",
       "[34] \"062617-Revelle-1000pm.txt\"                              \n",
       "[35] \"062617-Revelle-1234am.txt\"                              \n",
       "[36] \"062717-Revelle-450pm.txt\"                               \n",
       "[37] \"062817-Revelle-530pm.txt\"                               \n",
       "[38] \"062917-Revelle-240pm.txt\"                               \n",
       "[39] \"070117-Revelle-440am.txt\"                               \n",
       "[40] \"MergedFile.txt\"                                         \n",
       "[41] \"rEVELLE-TEST1.txt\"                                      \n",
       "[42] \"rEVELLE-TEST2.txt\"                                      \n",
       "[43] \"seagrass.txt\"                                           \n",
       "[44] \"thallassia.txt\"                                         "
      ]
     },
     "metadata": {},
     "output_type": "display_data"
    }
   ],
   "source": [
    "file.list"
   ]
  },
  {
   "cell_type": "code",
   "execution_count": 9,
   "metadata": {
    "collapsed": true
   },
   "outputs": [],
   "source": [
    "run = function(input.dir, file.list, write.xlsx = FALSE, output.dir = '') {\n",
    "    data = process.file(input.dir, file.list[5])\n",
    "    data = add.filter.flags(data)\n",
    "    try({plot.flags(data, paste0('Output/Optode/', file.list[5], '-.pdf'))})\n",
    "    data = avg.data(data)\n",
    "    \n",
    "    if (write.xlsx) {\n",
    "        write.xlsx(file = paste0(input.dir, output.dir, file.list[1], '-parsed-avg.xlsx'), data)\n",
    "    }\n",
    "\n",
    "    for (i in 6:length(file.list)) {\n",
    "        temp = process.file(input.dir, file.list[i])\n",
    "        temp = add.filter.flags(temp)\n",
    "        try({plot.flags(temp, paste0('Output/Optode/', file.list[i], '-.pdf'))})\n",
    "        temp = avg.data(temp)\n",
    "        \n",
    "        \n",
    "        if (write.xlsx) {\n",
    "            write.xlsx(file = paste0(input.dir, output.dir, file.list[i], '-parsed-avg.xlsx'), temp)\n",
    "        }\n",
    "\n",
    "        data = rbind(data, temp)\n",
    "    }\n",
    "    ## Return\n",
    "    data\n",
    "}"
   ]
  },
  {
   "cell_type": "code",
   "execution_count": 6,
   "metadata": {},
   "outputs": [
    {
     "name": "stdout",
     "output_type": "stream",
     "text": [
      "Read 138276 rows and 30 (of 30) columns from 0.026 GB file in 00:00:03\n",
      "Read 143132 rows and 30 (of 30) columns from 0.027 GB file in 00:00:03\n",
      "Read 120064 rows and 30 (of 30) columns from 0.022 GB file in 00:00:03\n",
      "Read 132479 rows and 30 (of 30) columns from 0.025 GB file in 00:00:03\n",
      "Read 126417 rows and 30 (of 30) columns from 0.036 GB file in 00:00:03\n"
     ]
    },
    {
     "name": "stderr",
     "output_type": "stream",
     "text": [
      "Warning message in fread(paste0(input.dir, file), skip = 20, sep = \"\\t\"):\n",
      "\"Stopped reading at empty line 126438 but text exists afterwards (discarded): ***********\t*************\t*************\t**************\t*************\t*************\t*************\t*************\t*************\t*************\t*************\t*************\t*************\t*************\"Warning message in process.file(input.dir, file.list[i]):\n",
      "\"NAs introduced by coercion\"Warning message in process.file(input.dir, file.list[i]):\n",
      "\"NAs introduced by coercion\""
     ]
    },
    {
     "name": "stdout",
     "output_type": "stream",
     "text": [
      "\r",
      "Read 58.2% of 137575 rows\r",
      "Read 137575 rows and 30 (of 30) columns from 0.025 GB file in 00:00:03\n"
     ]
    },
    {
     "name": "stderr",
     "output_type": "stream",
     "text": [
      "Warning message in process.file(input.dir, file.list[i]):\n",
      "\"NAs introduced by coercion\"Warning message in process.file(input.dir, file.list[i]):\n",
      "\"NAs introduced by coercion\"Warning message in process.file(input.dir, file.list[i]):\n",
      "\"NAs introduced by coercion\"Warning message in process.file(input.dir, file.list[i]):\n",
      "\"NAs introduced by coercion\"Warning message in process.file(input.dir, file.list[i]):\n",
      "\"NAs introduced by coercion\"Warning message in process.file(input.dir, file.list[i]):\n",
      "\"NAs introduced by coercion\"Warning message in process.file(input.dir, file.list[i]):\n",
      "\"NAs introduced by coercion\"Warning message in process.file(input.dir, file.list[i]):\n",
      "\"NAs introduced by coercion\"Warning message in process.file(input.dir, file.list[i]):\n",
      "\"NAs introduced by coercion\""
     ]
    }
   ],
   "source": [
    "data = run(input.dir, file.list)"
   ]
  },
  {
   "cell_type": "code",
   "execution_count": 20,
   "metadata": {},
   "outputs": [
    {
     "data": {
      "image/png": "[encoded data removed]",
      "text/plain": [
       "plot without title"
      ]
     },
     "metadata": {},
     "output_type": "display_data"
    }
   ],
   "source": [
    "plot(data$Time, data$Oxy.ch1, pch=16, cex=0.2)\n",
    "points(data$Time, data$Oxy.ch2-25, col='red', pch=16, cex=0.2)\n",
    "points(data$Time, data$Oxy.ch3-60, col='green', pch=16, cex=0.2)\n",
    "points(data$Time, data$Oxy.ch4-75, col='blue', pch=16, cex=0.2)"
   ]
  },
  {
   "cell_type": "markdown",
   "metadata": {},
   "source": [
    "# Save"
   ]
  },
  {
   "cell_type": "code",
   "execution_count": 13,
   "metadata": {
    "collapsed": true
   },
   "outputs": [],
   "source": [
    "optode = data\n",
    "save(optode, file='RStates/Optode-12.07.17.rdata')"
   ]
  },
  {
   "cell_type": "code",
   "execution_count": null,
   "metadata": {
    "collapsed": true
   },
   "outputs": [],
   "source": []
  },
  {
   "cell_type": "code",
   "execution_count": null,
   "metadata": {
    "collapsed": true
   },
   "outputs": [],
   "source": []
  },
  {
   "cell_type": "markdown",
   "metadata": {},
   "source": [
    "---\n",
    "# Ancillary Tasks\n",
    "## Run the parser to generate intermediate input files."
   ]
  },
  {
   "cell_type": "code",
   "execution_count": null,
   "metadata": {},
   "outputs": [],
   "source": [
    "for (i in file.list[1:length(file.list)]) {\n",
    "    temp = 0\n",
    "    try({temp = avg.data(process.file(input.dir, i), 20)})\n",
    "    write.xlsx(temp, paste0(input.dir, 'avg/', i, '-parsed.xlsx'))\n",
    "}"
   ]
  },
  {
   "cell_type": "code",
   "execution_count": 24,
   "metadata": {},
   "outputs": [
    {
     "name": "stdout",
     "output_type": "stream",
     "text": [
      "'data.frame':\t9275 obs. of  12 variables:\n",
      " $ Date    : chr  \"6/2/2017\" \"6/2/2017\" \"6/2/2017\" \"6/2/2017\" ...\n",
      " $ Time    : chr  \"09:56:01\" \"09:56:03\" \"09:56:04\" \"09:56:05\" ...\n",
      " $ Rel.Time: chr  \"0\" \"1.31\" \"2.4\" \"3.54\" ...\n",
      " $ Oxy.ch1 : num  91.1 91.1 91.1 91.1 91.1 ...\n",
      " $ Oxy.ch2 : num  99.7 99.7 99.7 99.6 99.6 ...\n",
      " $ Oxy.ch3 : chr  \"---\" \"---\" \"---\" \"---\" ...\n",
      " $ Oxy.ch4 : chr  \"---\" \"---\" \"---\" \"---\" ...\n",
      " $ Temp.ch1: num  13 13 13 13 13 ...\n",
      " $ Temp.ch2: num  13 13 13 13 13 ...\n",
      " $ Temp.ch3: num  20 20 20 20 20 20 20 20 20 20 ...\n",
      " $ Temp.ch4: num  20 20 20 20 20 20 20 20 20 20 ...\n",
      " $ Pressure: num  1013 1013 1013 1013 1013 ...\n"
     ]
    }
   ],
   "source": [
    "temp = process.file(input.dir, file.list[4])\n",
    "str(temp)"
   ]
  },
  {
   "cell_type": "markdown",
   "metadata": {
    "collapsed": true
   },
   "source": [
    "## Helper scripts for data parsing (misc)"
   ]
  },
  {
   "cell_type": "code",
   "execution_count": 67,
   "metadata": {
    "collapsed": true
   },
   "outputs": [],
   "source": [
    "parse.to.csv = function(input.dir, file) {\n",
    "    data = data.frame(text = '', stringsAsFactors = FALSE)\n",
    "    con = file(paste0(input.dir, file), \"r\")\n",
    "    while ( TRUE ) {\n",
    "        line = readLines(con, n = 1)\n",
    "        if ( length(line) == 0 ) {\n",
    "          break\n",
    "        }\n",
    "        data = rbind(data, gsub(\"\\t\", \",\", line))\n",
    "      }\n",
    "    write.table(data, file = paste0(input.dir, 'csv/', file, '.csv'), row.names = FALSE,\n",
    "                col.names = FALSE, quote = FALSE)\n",
    "    close(con)\n",
    "}"
   ]
  },
  {
   "cell_type": "code",
   "execution_count": 68,
   "metadata": {},
   "outputs": [
    {
     "name": "stderr",
     "output_type": "stream",
     "text": [
      "Warning message in readLines(con, n = 1):\n",
      "\"incomplete final line found on 'Raw Data/O2-optode MIMS/060217-Revelle-155pm.txt'\"Warning message in readLines(con, n = 1):\n",
      "\"incomplete final line found on 'Raw Data/O2-optode MIMS/060217-Revelle-446pm.txt'\"Warning message in readLines(con, n = 1):\n",
      "\"incomplete final line found on 'Raw Data/O2-optode MIMS/060217-Revelle-628pm.txt'\"Warning message in readLines(con, n = 1):\n",
      "\"incomplete final line found on 'Raw Data/O2-optode MIMS/060317-Revelle-157pm.txt'\""
     ]
    }
   ],
   "source": [
    "for (i in file.list) {\n",
    "    parse.to.csv(input.dir, i)\n",
    "}"
   ]
  },
  {
   "cell_type": "code",
   "execution_count": null,
   "metadata": {
    "collapsed": true
   },
   "outputs": [],
   "source": []
  },
  {
   "cell_type": "markdown",
   "metadata": {},
   "source": [
    "# Save output file"
   ]
  },
  {
   "cell_type": "code",
   "execution_count": null,
   "metadata": {
    "collapsed": true
   },
   "outputs": [],
   "source": []
  },
  {
   "cell_type": "code",
   "execution_count": 8,
   "metadata": {},
   "outputs": [
    {
     "name": "stdout",
     "output_type": "stream",
     "text": [
      "'data.frame':\t126206 obs. of  14 variables:\n",
      " $ File     : chr  \"Macintosh HD:Users:Sven:Dropbox:CCE-shipdata:MIMS-TBK:Raw Data:O2-optode MIMS:avg:060117-1-Revelle-1405.txt-parsed.xlsx\" \"Macintosh HD:Users:Sven:Dropbox:CCE-shipdata:MIMS-TBK:Raw Data:O2-optode MIMS:avg:060117-1-Revelle-1405.txt-parsed.xlsx\" \"Macintosh HD:Users:Sven:Dropbox:CCE-shipdata:MIMS-TBK:Raw Data:O2-optode MIMS:avg:060117-1-Revelle-1405.txt-parsed.xlsx\" \"Macintosh HD:Users:Sven:Dropbox:CCE-shipdata:MIMS-TBK:Raw Data:O2-optode MIMS:avg:060117-1-Revelle-1405.txt-parsed.xlsx\" ...\n",
      " $ Date     : num  42887 42887 42887 42887 42887 ...\n",
      " $ Starttime: POSIXct, format: \"2017-06-01 06:05:59\" \"2017-06-01 06:06:18\" ...\n",
      " $ Endtime  : POSIXct, format: \"2017-06-01 10:05:44\" \"2017-06-01 10:06:04\" ...\n",
      " $ Reltime  : num  29.2 49.3 69.9 90 109.9 ...\n",
      " $ Oxy1     : num  111 111 111 111 111 ...\n",
      " $ Oxy2     : num  115 115 115 115 115 ...\n",
      " $ Oxy3     : num  NA NA NA NA NA NA NA NA NA NA ...\n",
      " $ Oxy4     : num  NA NA NA NA NA NA NA NA NA NA ...\n",
      " $ T1       : num  18.3 18.3 18.3 18.3 18.3 ...\n",
      " $ T2       : num  18.3 18.3 18.3 18.3 18.3 ...\n",
      " $ T3       : num  20 20 20 20 20 20 20 20 20 20 ...\n",
      " $ T4       : num  20 20 20 20 20 20 20 20 20 20 ...\n",
      " $ Pressure : num  1013 1013 1013 1013 1013 ...\n"
     ]
    }
   ],
   "source": [
    "optode = as.data.frame(read.xlsx('Raw Data/O2-optode MIMS/avg/_merge-chrono.xlsx'))\n",
    "colnames(optode) = c('File', 'Date', 'Starttime', 'Endtime', 'Reltime', 'Oxy1', 'Oxy2', 'Oxy3', 'Oxy4',\n",
    "                     'T1', 'T2', 'T3', 'T4', 'Pressure')\n",
    "\n",
    "optode$Starttime = conv_excel_time(optode$Starttime, tz = 'GMT')\n",
    "optode$Endtime = conv_excel_time(optode$Endtime, tz = 'GMT')\n",
    "str(optode)"
   ]
  },
  {
   "cell_type": "code",
   "execution_count": 10,
   "metadata": {
    "collapsed": true
   },
   "outputs": [],
   "source": [
    "save(optode, file = 'RStates/Optode 12.04.17.rdata')"
   ]
  },
  {
   "cell_type": "code",
   "execution_count": null,
   "metadata": {
    "collapsed": true
   },
   "outputs": [],
   "source": []
  }
 ],
 "metadata": {
  "kernelspec": {
   "display_name": "R",
   "language": "R",
   "name": "ir"
  },
  "language_info": {
   "codemirror_mode": "r",
   "file_extension": ".r",
   "mimetype": "text/x-r-source",
   "name": "R",
   "pygments_lexer": "r",
   "version": "3.4.1"
  }
 },
 "nbformat": 4,
 "nbformat_minor": 2
}
