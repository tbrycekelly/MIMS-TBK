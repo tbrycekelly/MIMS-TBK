{
 "cells": [
  {
   "cell_type": "code",
   "execution_count": 4,
   "metadata": {},
   "outputs": [
    {
     "data": {
      "text/html": [
       "3"
      ],
      "text/latex": [
       "3"
      ],
      "text/markdown": [
       "3"
      ],
      "text/plain": [
       "[1] 3"
      ]
     },
     "metadata": {},
     "output_type": "display_data"
    }
   ],
   "source": [
    "## Install the package if needed:\n",
    "#install.packages('geosphere', repos='http://cran.us.r-project.org')\n",
    "\n",
    "## Load the relevent packages\n",
    "library(ncdf4)  # For reading in the NCEP wind fields\n",
    "#library(R.matlab)  # If you need to read in matlab .mat files\n",
    "library(openxlsx)  # If you need to read in .xlsx files\n",
    "#library(rNOMADS)  # For reading grib2 data files (NOMADS data for instance)\n",
    "#library(rGDAL)  #\n",
    "library(RColorBrewer)\n",
    "library(compiler)  # required for JIT (below)\n",
    "#library(lattice)\n",
    "#library(geosphere)\n",
    "library(data.table)\n",
    "\n",
    "## Enable compilation (speed gain?)\n",
    "enableJIT(3)\n",
    "\n",
    "## Helper function for converting the date time stamps.\n",
    "conv_excel_time = function(x, tz='GMT') {\n",
    "    as.POSIXct(as.Date(x, origin=\"1899-12-30\", tz=tz))\n",
    "}\n",
    "\n",
    "conv_roms_time = function(x, tz='UTC') {\n",
    "    as.POSIXct(x, origin=\"1900-01-01\")\n",
    "}\n",
    "\n",
    "get.qual.pal = function(n=100, pal='Accent') {\n",
    "    colorRampPalette(brewer.pal(8, pal))(n)\n",
    "}\n",
    "\n",
    "get.seq.pal = function(n=100, pal='YlOrRd') {\n",
    "    colorRampPalette(rev(brewer.pal(9, pal)))(n)\n",
    "}\n",
    "\n",
    "get.div.pal = function(n=100, pal='Spectral') {\n",
    "    colorRampPalette(rev(brewer.pal(11, pal)))(n)\n",
    "}\n",
    "\n",
    "make.div.pal = function(x=100, n, pal='Spectral') {\n",
    "    get.div.pal(n, pal=pal)[as.numeric(cut(x, breaks = n))]\n",
    "}"
   ]
  },
  {
   "cell_type": "code",
   "execution_count": 5,
   "metadata": {},
   "outputs": [
    {
     "data": {
      "text/html": [
       "44"
      ],
      "text/latex": [
       "44"
      ],
      "text/markdown": [
       "44"
      ],
      "text/plain": [
       "[1] 44"
      ]
     },
     "metadata": {},
     "output_type": "display_data"
    }
   ],
   "source": [
    "input.dir = 'Raw Data/O2-optode MIMS/'\n",
    "\n",
    "file.list = list.files(input.dir)\n",
    "length(file.list)"
   ]
  },
  {
   "cell_type": "code",
   "execution_count": 70,
   "metadata": {},
   "outputs": [],
   "source": [
    "process.file = function(input.dir, file) {\n",
    "    data = data.frame(Date = '', Time = '', Rel.Time = '',\n",
    "                      Oxy.ch1 = 0, Oxy.ch2 = 0, Oxy.ch3 = 0, Oxy.ch4 = 0,\n",
    "                      Temp.ch1 = 0, Temp.ch2 = 0, Temp.ch3 = 0, Temp.ch4 = 0, Pressure = 0, stringsAsFactors = FALSE)\n",
    "    temp = fread(paste0(input.dir, file.list[1]), skip = 20)[,c(1:3, 5:13)]\n",
    "    colnames(temp) = colnames(data)\n",
    "    data = rbind(data, temp)\n",
    "    data = data[-1,]\n",
    "    data = as.data.frame(data)\n",
    "    data$Time = add.time(data$Date, data$Time)\n",
    "    data\n",
    "}\n",
    "\n",
    "add.time = function(dates, times) {\n",
    "    ans = as.POSIXct('5/16/2017 14:07:10', format = '%m/%d/%Y %H:%M:%S', tz = 'GMT')\n",
    "    for (i in 1:length(dates)) {\n",
    "        ans = c(ans, as.POSIXct(paste(dates[i], times[i]), format = '%m/%d/%Y %H:%M:%S', tz = 'GMT'))\n",
    "    }\n",
    "    ans = ans[-1]\n",
    "    ans\n",
    "}\n",
    "\n",
    "avg.data = function(data, N = 120) {\n",
    "    i = 1\n",
    "    \n",
    "    for (j in 3:ncol(data)) {\n",
    "        data[,j] = as.numeric(data[,j])\n",
    "    }\n",
    "    \n",
    "    while (i < nrow(data)) {\n",
    "        dt = as.numeric(difftime(data$Time, data$Time[i], unit = 'secs'))\n",
    "        \n",
    "        l = which(dt >= 0 & dt < N)\n",
    "        \n",
    "        temp = apply(data[l, 3:ncol(data)], 2, function(x) {mean(x, na.rm = TRUE)})\n",
    "        \n",
    "        data[i, 3:ncol(data)] = temp\n",
    "        \n",
    "        if (length(l) > 1) {\n",
    "            l = l[l != i]\n",
    "            if (length(l) > 0) {\n",
    "                data = data[-l,]\n",
    "            }\n",
    "        }\n",
    "        i = i + 1\n",
    "    }\n",
    "    data\n",
    "}"
   ]
  },
  {
   "cell_type": "code",
   "execution_count": null,
   "metadata": {},
   "outputs": [
    {
     "name": "stderr",
     "output_type": "stream",
     "text": [
      "Warning message in fread(paste0(input.dir, file.list[1]), skip = 20):\n",
      "\"Bumped column 5 to type character on data row 5599, field contains '---'. Coercing previously read values in this column from logical, integer or numeric back to character which may not be lossless; e.g., if '00' and '000' occurred before they will now be just '0', and there may be inconsistencies with treatment of ',,' and ',NA,' too (if they occurred in this column before the bump). If this matters please rerun and set 'colClasses' to 'character' for this column. Please note that column type detection uses a sample of 1,000 rows (100 rows at 10 points) so hopefully this message should be very rare. If reporting to datatable-help, please rerun and include the output from verbose=TRUE.\""
     ]
    }
   ],
   "source": [
    "for (i in file.list[2:length(file.list)]) {\n",
    "    temp = 0\n",
    "    try({temp = avg.data(process.file(input.dir, i))})\n",
    "    write.xlsx(temp, paste0(input.dir, i, '-parsed.xlsx'))\n",
    "}"
   ]
  },
  {
   "cell_type": "code",
   "execution_count": 72,
   "metadata": {},
   "outputs": [
    {
     "name": "stdout",
     "output_type": "stream",
     "text": [
      "'data.frame':\t70560 obs. of  12 variables:\n",
      " $ Date    : chr  \"5/16/2017\" \"5/16/2017\" \"5/16/2017\" \"5/16/2017\" ...\n",
      " $ Time    : POSIXct, format: \"2017-05-16 10:07:10\" \"2017-05-16 10:07:11\" ...\n",
      " $ Rel.Time: chr  \"0\" \"0.94\" \"1.88\" \"2.83\" ...\n",
      " $ Oxy.ch1 : chr  \"19.59200\" \"19.43400\" \"19.59100\" \"19.55400\" ...\n",
      " $ Oxy.ch2 : chr  \"---\" \"---\" \"---\" \"---\" ...\n",
      " $ Oxy.ch3 : chr  \"---\" \"---\" \"---\" \"---\" ...\n",
      " $ Oxy.ch4 : chr  \"---\" \"---\" \"---\" \"---\" ...\n",
      " $ Temp.ch1: num  20 20 20 20 20 20 20 20 20 20 ...\n",
      " $ Temp.ch2: num  20 20 20 20 20 20 20 20 20 20 ...\n",
      " $ Temp.ch3: num  20 20 20 20 20 20 20 20 20 20 ...\n",
      " $ Temp.ch4: num  20 20 20 20 20 20 20 20 20 20 ...\n",
      " $ Pressure: num  1012 1012 1012 1012 1012 ...\n"
     ]
    }
   ],
   "source": [
    "str(temp)"
   ]
  },
  {
   "cell_type": "code",
   "execution_count": 59,
   "metadata": {},
   "outputs": [
    {
     "ename": "ERROR",
     "evalue": "Error in eval(expr, envir, enclos): object 'l' not found\n",
     "output_type": "error",
     "traceback": [
      "Error in eval(expr, envir, enclos): object 'l' not found\nTraceback:\n"
     ]
    }
   ],
   "source": [
    "l"
   ]
  },
  {
   "cell_type": "code",
   "execution_count": null,
   "metadata": {
    "collapsed": true
   },
   "outputs": [],
   "source": []
  }
 ],
 "metadata": {
  "kernelspec": {
   "display_name": "R",
   "language": "R",
   "name": "ir"
  },
  "language_info": {
   "codemirror_mode": "r",
   "file_extension": ".r",
   "mimetype": "text/x-r-source",
   "name": "R",
   "pygments_lexer": "r",
   "version": "3.4.1"
  }
 },
 "nbformat": 4,
 "nbformat_minor": 2
}
