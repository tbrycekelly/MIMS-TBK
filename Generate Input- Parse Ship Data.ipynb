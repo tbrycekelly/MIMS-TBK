{
 "cells": [
  {
   "cell_type": "markdown",
   "metadata": {},
   "source": [
    "# Generate Input- Parse Ship Met data\n",
    "\n",
    "This script will read in the raw _.MET_ data files to generate a merged dataset for use in the rest of the model.\n",
    "\n",
    "After this script is run, please run the ___Merge Ship Data___."
   ]
  },
  {
   "cell_type": "code",
   "execution_count": null,
   "metadata": {
    "collapsed": true
   },
   "outputs": [],
   "source": [
    "## Install the package if needed:\n",
    "#install.packages('Mcomp', repos='http://cran.us.r-project.org')\n",
    "\n",
    "## Load the relevent packages\n",
    "library(ncdf4)  # For reading in the NCEP wind fields\n",
    "#library(R.matlab)  # If you need to read in matlab .mat files\n",
    "library(openxlsx)  # If you need to read in .xlsx files\n",
    "#library(rNOMADS)  # For reading grib2 data files (NOMADS data for instance)\n",
    "#library(rGDAL)  #\n",
    "library(RColorBrewer)\n",
    "library(compiler)  # required for JIT (below)\n",
    "\n",
    "## Enable compilation (speed gain?)\n",
    "enableJIT(3)\n",
    "\n",
    "## Helper function for converting the date time stamps.\n",
    "conv_excel_time = function(x, tz='US/Pacific') {\n",
    "    as.POSIXct(as.Date(x,origin=\"1899-12-30\", tz=tz))\n",
    "}\n",
    "\n",
    "get.qual.pal = function(n=100, pal='Accent') {\n",
    "    colorRampPalette(brewer.pal(8, pal))(n)\n",
    "}\n",
    "\n",
    "get.seq.pal = function(n=100, pal='YlOrRd') {\n",
    "    colorRampPalette(rev(brewer.pal(11, pal)))(n)\n",
    "}\n",
    "\n",
    "get.div.pal = function(n=100, pal='Spectral') {\n",
    "    colorRampPalette(rev(brewer.pal(11, pal)))(n)\n",
    "}\n",
    "\n",
    "make.div.pal = function(x=100, n, pal='Spectral') {\n",
    "    get.div.pal(n, pal=pal)[as.numeric(cut(x, breaks = n))]\n",
    "}"
   ]
  },
  {
   "cell_type": "markdown",
   "metadata": {},
   "source": [
    "## Setup file information"
   ]
  },
  {
   "cell_type": "code",
   "execution_count": 53,
   "metadata": {},
   "outputs": [
    {
     "name": "stdout",
     "output_type": "stream",
     "text": [
      "[1] \"Number of files in file.list: 33\"\n"
     ]
    }
   ],
   "source": [
    "input.dir = 'Raw Data/MET/'\n",
    "\n",
    "dt.format = \"%m/%d/%y %I:%M %p\"\n",
    "\n",
    "## Generate list of files in the directory\n",
    "file.list = list.files(input.dir)\n",
    "file.list = file.list[grepl('.MET', file.list)]\n",
    "\n",
    "## Print total number of files in each category\n",
    "print(paste('Number of files in file.list:', length(file.list)))"
   ]
  },
  {
   "cell_type": "code",
   "execution_count": 54,
   "metadata": {
    "collapsed": true
   },
   "outputs": [],
   "source": [
    "processFile = function(filepath) {\n",
    "    con = file(filepath, \"r\")\n",
    "    i = 0\n",
    "    \n",
    "    while ( TRUE ) {\n",
    "        i = i + 1\n",
    "        line = readLines(con, n = 1)\n",
    "        if ( length(line) == 0 ) {\n",
    "          break\n",
    "        }\n",
    "        \n",
    "        ## Get the header\n",
    "        if (i == 4) {\n",
    "            line = substring(line, 2)\n",
    "            header = strsplit(line, split = ' ')[[1]]\n",
    "            header = header[which(sapply(header, function(x) {nchar(x) > 0}))]\n",
    "        }\n",
    "        if (i > 4) {\n",
    "            if (nchar(line) > 5) {\n",
    "                s = strsplit(line, split = ' ')[[1]]\n",
    "                s = s[which(sapply(s, function(x) {nchar(x) > 0}))]\n",
    "                if(exists('dat')) {\n",
    "                    dat = rbind(dat, as.numeric(s))\n",
    "                } else {\n",
    "                    dat = data.frame(t(as.numeric(s)))\n",
    "                }\n",
    "            }\n",
    "        }\n",
    "    }\n",
    "    colnames(dat) = header\n",
    "    close(con)\n",
    "    return(dat)\n",
    "}"
   ]
  },
  {
   "cell_type": "markdown",
   "metadata": {},
   "source": [
    "## Read in the data"
   ]
  },
  {
   "cell_type": "code",
   "execution_count": 55,
   "metadata": {},
   "outputs": [],
   "source": [
    "data = processFile(paste0(input.dir, file.list[1]))"
   ]
  },
  {
   "cell_type": "code",
   "execution_count": 56,
   "metadata": {},
   "outputs": [],
   "source": [
    "for (i in file.list[2:length(file.list)]) {\n",
    "    temp = processFile(paste0(input.dir, file.list[1]))\n",
    "    \n",
    "    if (all(names(data) == names(temp))) {\n",
    "        data = rbind(data, temp)\n",
    "    }\n",
    "    else {\n",
    "        print(i)\n",
    "    }\n",
    "}"
   ]
  },
  {
   "cell_type": "markdown",
   "metadata": {},
   "source": [
    "## Trim the data columns"
   ]
  },
  {
   "cell_type": "code",
   "execution_count": null,
   "metadata": {
    "collapsed": true
   },
   "outputs": [],
   "source": []
  }
 ],
 "metadata": {
  "kernelspec": {
   "display_name": "R",
   "language": "R",
   "name": "ir"
  },
  "language_info": {
   "codemirror_mode": "r",
   "file_extension": ".r",
   "mimetype": "text/x-r-source",
   "name": "R",
   "pygments_lexer": "r",
   "version": "3.4.1"
  }
 },
 "nbformat": 4,
 "nbformat_minor": 2
}
