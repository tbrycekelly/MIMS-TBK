{
 "cells": [
  {
   "cell_type": "code",
   "execution_count": 2,
   "metadata": {},
   "outputs": [
    {
     "name": "stdout",
     "output_type": "stream",
     "text": [
      "Packages Loaded:\n",
      "ncdf4 R.matlab openxlsx RColorBrewer compiler lattice geosphere readxl data.table rworldmap rworldxtra\n"
     ]
    }
   ],
   "source": [
    "source('source.r')"
   ]
  },
  {
   "cell_type": "markdown",
   "metadata": {},
   "source": [
    "# Diurnal Signal Module"
   ]
  },
  {
   "cell_type": "code",
   "execution_count": 12,
   "metadata": {},
   "outputs": [],
   "source": [
    "load(file='./RStates/ship.ncp.2min.rdata')\n",
    "\n",
    "#dd = sqrt((ship.data$LA - ship.data$Drifter.lat)^2 + (ship.data$LO - ship.data$Drifter.lon)^2)\n",
    "#l = which(dd < 6/65)\n",
    "#ship.data = ship.data[l,]\n",
    "\n",
    "#ship.data$NCP.EIMS = runmed(ship.data$NCP.EIMS, 15)\n",
    "#ship.data$NCP.MIMS = runmed(ship.data$NCP.MIMS, 15)"
   ]
  },
  {
   "cell_type": "code",
   "execution_count": 83,
   "metadata": {},
   "outputs": [],
   "source": [
    "plot.diurnal = function(cycle, max.distance = 5, ylim=c(-0.1, 0.4)) {\n",
    "    l.other = which(ship.data$Cycle == cycle & ship.data$EIMS.O2.Ar.FLAG == 1 & ship.data$MIMS.O2.Ar.FLAG == 1)\n",
    "    l.eims = which(ship.data$Cycle == cycle & ship.data$EIMS.O2.Ar.FLAG == 1 &\n",
    "                   ship.data$Dist.to.Drifter < max.distance)\n",
    "    l.mims = which(ship.data$Cycle == cycle & ship.data$MIMS.O2.Ar.FLAG == 1 &\n",
    "                   ship.data$Dist.to.Drifter < max.distance)\n",
    "\n",
    "    plot(ship.data$DT[l.eims], ship.data$BOS.EIMS[l.eims], pch=16, cex=0.5, ylim=ylim, main=cycle,\n",
    "        ylab='NCP (mmol O2 m-2 d-1)', xlab='')\n",
    "    \n",
    "    points(ship.data$DT[l.mims], ship.data$BOS.MIMS[l.mims], pch=16, cex=0.5, col='red')\n",
    "    points(ship.data$DT[l.other], ship.data$BOS.MIMS[l.other], pch=16, cex=0.5, col='#aa000010')\n",
    "    points(ship.data$DT[l.other], ship.data$BOS.EIMS[l.other], pch=16, cex=0.5, col='#11111110')\n",
    "    \n",
    "    ## Add PAR\n",
    "    points(ship.data$DT, ship.data$PA/30000+0.25, pch=20, cex=0.4, col='grey')\n",
    "    axis(4, at = c(0.25, 0.35), labels = c(0, 3000),\n",
    "         col.ticks = 'dark grey', col.axis='dark grey', las=1)\n",
    "    \n",
    "    ## Add Wind\n",
    "    points(ship.data$DT, ship.data$NCEP*0.01+0.25, pch=20, cex=0.1, col='#0000ff05')\n",
    "    axis(2, at = c(0.25, 0.35), labels = c(0, 10), col='blue', las=1, col.axis='blue')\n",
    "    lines(c(min(ship.data$DT[l.eims]), max(ship.data$DT[l.eims])), rep(0.25,2), col='blue', lty = 2)\n",
    "    \n",
    "    ## Add ship fluorometer\n",
    "    points(ship.data$DT, ship.data$FL/100-0.1, col='green', pch=8, cex=0.1)\n",
    "    axis(4, at = c(-0.1, 0), labels = c(0, 10),\n",
    "         col.ticks = 'green', col.axis='green', las=1)\n",
    "    \n",
    "    add.daynight()\n",
    "}"
   ]
  },
  {
   "cell_type": "code",
   "execution_count": 85,
   "metadata": {
    "scrolled": false
   },
   "outputs": [
    {
     "data": {
      "text/html": [
       "<strong>png:</strong> 2"
      ],
      "text/latex": [
       "\\textbf{png:} 2"
      ],
      "text/markdown": [
       "**png:** 2"
      ],
      "text/plain": [
       "png \n",
       "  2 "
      ]
     },
     "metadata": {},
     "output_type": "display_data"
    }
   ],
   "source": [
    "pdf('Output/Module Diurnal - Cycle 1 2.pdf')\n",
    "\n",
    "#par(mfrow=c(2,2))\n",
    "\n",
    "plot.diurnal('Cycle1')\n",
    "plot.diurnal('Cycle2')\n",
    "plot.diurnal('Cycle3')\n",
    "plot.diurnal('Cycle4')\n",
    "\n",
    "dev.off()"
   ]
  },
  {
   "cell_type": "code",
   "execution_count": 62,
   "metadata": {},
   "outputs": [],
   "source": [
    "plot.diurnal2 = function(cycle, max.distance = 5, ylim=c(-50, 150)) {\n",
    "    l.other = which(ship.data$Cycle == cycle & ship.data$EIMS.O2.Ar.FLAG == 1 & ship.data$MIMS.O2.Ar.FLAG == 1)\n",
    "    l.eims = which(ship.data$Cycle == cycle & ship.data$EIMS.O2.Ar.FLAG == 1 &\n",
    "                   ship.data$Dist.to.Drifter < max.distance)\n",
    "    l.mims = which(ship.data$Cycle == cycle & ship.data$MIMS.O2.Ar.FLAG == 1 &\n",
    "                   ship.data$Dist.to.Drifter < max.distance)\n",
    "\n",
    "    plot(ship.data$DT[l.eims], ship.data$NCP.EIMS[l.eims], pch=16, cex=0.5, ylim=ylim, main=paste('EIMS -',cycle),\n",
    "        ylab='NCP (mmol O2 m-2 d-1)', xlab='')\n",
    "    \n",
    "    low = lowess(ship.data$DT[l.eims], ship.data$NCP.EIMS[l.eims], f=0.04)\n",
    "    lines(low, lwd=2, col='blue')\n",
    "    #lines(ship.data$DT[l.eims], ma(ship.data$NCP.EIMS[l.eims], 21), lwd=2, col='blue')\n",
    "    add.daynight()\n",
    "    \n",
    "    #### MIMS\n",
    "    plot(ship.data$DT[l.mims], ship.data$NCP.MIMS[l.mims], pch=16, cex=0.5, ylim=ylim, main=paste('MIMS -',cycle),\n",
    "        ylab='NCP (mmol O2 m-2 d-1)', xlab='', col='red')\n",
    "    \n",
    "    low = lowess(ship.data$DT[l.mims], ship.data$NCP.MIMS[l.mims], f = 0.04)\n",
    "    lines(low, lwd=2, col='blue')\n",
    "    \n",
    "    add.daynight()\n",
    "}"
   ]
  },
  {
   "cell_type": "code",
   "execution_count": 134,
   "metadata": {},
   "outputs": [],
   "source": [
    "#par(mfrow=c(2,1))\n",
    "#plot.diurnal2('Cycle1')"
   ]
  },
  {
   "cell_type": "markdown",
   "metadata": {
    "collapsed": true
   },
   "source": [
    "# GPP"
   ]
  },
  {
   "cell_type": "code",
   "execution_count": 100,
   "metadata": {},
   "outputs": [],
   "source": [
    "load('RStates/CTD.pos.rdata')\n",
    "load('RStates/ship.final.2min.rdata')"
   ]
  },
  {
   "cell_type": "code",
   "execution_count": 88,
   "metadata": {},
   "outputs": [
    {
     "data": {
      "text/plain": [
       "   Min. 1st Qu.  Median    Mean 3rd Qu.    Max. \n",
       "  65.88   98.81   99.43   98.68   99.68   99.92 "
      ]
     },
     "metadata": {},
     "output_type": "display_data"
    }
   ],
   "source": [
    "summary(ctd$Trans)"
   ]
  },
  {
   "cell_type": "code",
   "execution_count": 101,
   "metadata": {},
   "outputs": [],
   "source": [
    "get.ship = function(time) {\n",
    "    dt = as.numeric(difftime(time, ship.data$DT, units = 'days'))\n",
    "    l = which(dt >= 0 & dt < 1)\n",
    "    ship.data[l,]\n",
    "}\n",
    "\n",
    "calculate.gpp = function(time) {\n",
    "    ## Load FRRF data\n",
    "    fit = load.frrf(time)\n",
    "    #ctd = get.ctd(time)\n",
    "    \n",
    "    ## Get ship.data\n",
    "    ship = get.ship(time)\n",
    "    mld = median(ship$MLD, na.rm = TRUE)\n",
    "    \n",
    "    trans = 0.94\n",
    "    \n",
    "    GPP = 0\n",
    "    delta.d = 1\n",
    "    \n",
    "    for (t in 2:nrow(ship)) {\n",
    "        for (i in seq(0, mld, delta.d)) {\n",
    "            light = ship$PA[t] * (trans ^ i)^2\n",
    "            j = which.min(abs(fit$pred$x - light))\n",
    "            jvp = fit$pred$y[j]\n",
    "            GPP = GPP + jvp * delta.d / (4 * 1.4) * as.numeric(difftime(ship$DT[t], ship$DT[t-1], units = 'sec'))\n",
    "        }\n",
    "    }\n",
    "    if(length(GPP) < 1) {\n",
    "        return(0)\n",
    "    }\n",
    "    GPP\n",
    "}"
   ]
  },
  {
   "cell_type": "code",
   "execution_count": 102,
   "metadata": {},
   "outputs": [],
   "source": [
    "frrf.path = 'RStates/FRRF/'\n",
    "frrf.files = list.files(path = 'RStates/FRRF')\n",
    "\n",
    "frrf.times = lapply(frrf.files,\n",
    "                    function(x) {\n",
    "                        as.POSIXct(as.numeric(strsplit(x, '.rdata')[[1]]), origin=\"1970-01-01\", tz = 'GMT')\n",
    "                    }\n",
    "                   )\n",
    "\n",
    "\n",
    "\n",
    "load.frrf = function(time) {\n",
    "    dt = abs(as.numeric(frrf.times) - as.numeric(time))\n",
    "    i = which.min(dt)\n",
    "    load(paste0(frrf.path, frrf.files[i]))\n",
    "    \n",
    "    fit\n",
    "}\n",
    "\n",
    "get.ctd = function(time) {\n",
    "    dt = abs(as.numeric(difftime(ctd.times), time, unit='hours'))\n",
    "    i = which.min(dt)\n",
    "    \n",
    "    ctd[which(ctd$Cast == ctd.casts[i]),]\n",
    "}"
   ]
  },
  {
   "cell_type": "code",
   "execution_count": null,
   "metadata": {},
   "outputs": [],
   "source": [
    "ship.data$GPP = 0\n",
    "\n",
    "for (i in 1:nrow(ship.data)) {\n",
    "    ship.data$GPP[i] = calculate.gpp(ship.data$DT[i])\n",
    "}\n"
   ]
  },
  {
   "cell_type": "code",
   "execution_count": 99,
   "metadata": {},
   "outputs": [
    {
     "data": {
      "image/png": "[encoded data removed]",
      "text/plain": [
       "Plot with title \"Predicted 24h GPP\""
      ]
     },
     "metadata": {},
     "output_type": "display_data"
    },
    {
     "data": {
      "image/png": "[encoded data removed]",
      "text/plain": [
       "plot without title"
      ]
     },
     "metadata": {},
     "output_type": "display_data"
    }
   ],
   "source": [
    "#png('Output/Diurnal Module - GPP.pdf')\n",
    "\n",
    "plot(ship.data$DT, ship.data$GPP, pch=16, cex=0.5, ylab='GPP', xlab='', main='Predicted 24h GPP')\n",
    "plot(x = ship.data$GPP, y = ship.data$, pch=20, cex=0.2, ylab='Biological Oxygen Signal', xlab='24hr GPP')\n",
    "#dev.off()"
   ]
  },
  {
   "cell_type": "code",
   "execution_count": null,
   "metadata": {},
   "outputs": [],
   "source": []
  },
  {
   "cell_type": "code",
   "execution_count": 105,
   "metadata": {},
   "outputs": [
    {
     "data": {
      "image/png": "[encoded data removed]",
      "text/plain": [
       "plot without title"
      ]
     },
     "metadata": {},
     "output_type": "display_data"
    }
   ],
   "source": [
    "plot(ship.data$DT, ship.data$MIMS.N2Ar)\n",
    "plot(ship.data$DT, ship.data$EIMS)"
   ]
  }
 ],
 "metadata": {
  "kernelspec": {
   "display_name": "R",
   "language": "R",
   "name": "ir"
  },
  "language_info": {
   "codemirror_mode": "r",
   "file_extension": ".r",
   "mimetype": "text/x-r-source",
   "name": "R",
   "pygments_lexer": "r",
   "version": "3.4.2"
  }
 },
 "nbformat": 4,
 "nbformat_minor": 2
}
