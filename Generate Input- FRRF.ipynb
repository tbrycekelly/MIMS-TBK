{
 "cells": [
  {
   "cell_type": "code",
   "execution_count": 1,
   "metadata": {},
   "outputs": [
    {
     "name": "stdout",
     "output_type": "stream",
     "text": [
      "Packages Loaded:\n",
      "ncdf4 R.matlab openxlsx RColorBrewer compiler lattice geosphere readxl data.table rworldmap rworldxtra\n"
     ]
    },
    {
     "name": "stderr",
     "output_type": "stream",
     "text": [
      "Loading required package: ncdf4\n",
      "Loading required package: R.matlab\n",
      "Warning message:\n",
      "\"package 'R.matlab' was built under R version 3.4.3\"R.matlab v3.6.1 (2016-10-19) successfully loaded. See ?R.matlab for help.\n",
      "\n",
      "Attaching package: 'R.matlab'\n",
      "\n",
      "The following objects are masked from 'package:base':\n",
      "\n",
      "    getOption, isOpen\n",
      "\n",
      "Loading required package: openxlsx\n",
      "Warning message:\n",
      "\"package 'openxlsx' was built under R version 3.4.3\"Loading required package: RColorBrewer\n",
      "Loading required package: compiler\n",
      "Loading required package: lattice\n",
      "Warning message:\n",
      "\"package 'lattice' was built under R version 3.4.3\"Loading required package: geosphere\n",
      "Warning message:\n",
      "\"package 'geosphere' was built under R version 3.4.3\"Loading required package: readxl\n",
      "Loading required package: data.table\n",
      "Warning message:\n",
      "\"package 'data.table' was built under R version 3.4.3\"Loading required package: rworldmap\n",
      "Warning message:\n",
      "\"package 'rworldmap' was built under R version 3.4.3\"Loading required package: sp\n",
      "Warning message:\n",
      "\"package 'sp' was built under R version 3.4.3\"### Welcome to rworldmap ###\n",
      "For a short introduction type : \t vignette('rworldmap')\n",
      "Loading required package: rworldxtra\n",
      "Warning message:\n",
      "\"package 'rworldxtra' was built under R version 3.4.3\""
     ]
    }
   ],
   "source": [
    "source('source.r')"
   ]
  },
  {
   "cell_type": "code",
   "execution_count": 8,
   "metadata": {},
   "outputs": [
    {
     "data": {
      "text/html": [
       "929"
      ],
      "text/latex": [
       "929"
      ],
      "text/markdown": [
       "929"
      ],
      "text/plain": [
       "[1] 929"
      ]
     },
     "metadata": {},
     "output_type": "display_data"
    }
   ],
   "source": [
    "input.dir = 'Raw Data/FRRF/'\n",
    "\n",
    "frrf.files = list.files(input.dir, pattern = '*.csv')\n",
    "\n",
    "length(frrf.files)"
   ]
  },
  {
   "cell_type": "code",
   "execution_count": 26,
   "metadata": {},
   "outputs": [],
   "source": [
    "get.data = function(input.dir, file.name) {\n",
    "    file = paste0(input.dir, file.name)\n",
    "    \n",
    "    year = substr(file.name, 1, 4)\n",
    "    month = substr(file.name, 5, 6)\n",
    "    day = substr(file.name, 7, 8)\n",
    "    hour = substr(file.name, 10, 11)\n",
    "    minute = substr(file.name, 12, 13)\n",
    "    second = substr(file.name, 14, 15)\n",
    "    \n",
    "    datetime = as.POSIXct(paste0(year, '-', month, '-', day, ' ', hour, ':', minute, ':', second))\n",
    "    \n",
    "    data.a = fread(file, sep = ',', skip = 29, nrows = 21, showProgress = FALSE)\n",
    "    data.a = data.a[,-c(1, 23, 31)]\n",
    "    \n",
    "    #data.b = fread(file, sep = ',', skip = 53, nrows = 21)\n",
    "    #data.b = data.b[,-c(1, 23, 31)]\n",
    "    \n",
    "    #data.c = fread(file, sep = ',', skip = 77, nrows = 21)\n",
    "    #data.c = data.c[,-c(1, 23, 31)]\n",
    "    \n",
    "    #data.d = fread(file, sep = ',', skip = 101, nrows = 21)\n",
    "    #data.d = data.d[,-c(1, 23, 31)]\n",
    "    \n",
    "    data.s = fread(file, sep = ',', skip = 1, nrows = 6)\n",
    "    \n",
    "    #list(Time = datetime, A = data.a, B = data.b, C = data.c, D = data.d, S = data.s)\n",
    "    list(Time = datetime, A = data.a, S = data.s)\n",
    "}"
   ]
  },
  {
   "cell_type": "code",
   "execution_count": 15,
   "metadata": {
    "scrolled": false
   },
   "outputs": [],
   "source": [
    "data = get.data(input.dir, frrf.files[1])"
   ]
  },
  {
   "cell_type": "code",
   "execution_count": 37,
   "metadata": {},
   "outputs": [
    {
     "data": {
      "image/png": "[encoded data removed]",
      "text/plain": [
       "plot without title"
      ]
     },
     "metadata": {},
     "output_type": "display_data"
    }
   ],
   "source": [
    "plot(data$A$E, data$A$rP, pch = 16)\n",
    "points(data$B$E, data$B$rP, pch = 16, col='blue')\n",
    "points(data$C$E, data$C$rP, pch = 16, col='dark red')\n",
    "points(data$D$E, data$D$rP, pch = 16, col='dark green')"
   ]
  },
  {
   "cell_type": "code",
   "execution_count": 16,
   "metadata": {},
   "outputs": [],
   "source": [
    "load('RStates/ship.ncp.rdata')"
   ]
  },
  {
   "cell_type": "code",
   "execution_count": 59,
   "metadata": {},
   "outputs": [],
   "source": [
    "get.chl = function() {\n",
    "    temp = get.data(input.dir = input.dir, file = frrf.files[1])\n",
    "    chl = data.frame(Date = as.numeric(temp$Time), Chl = temp$A[1,5])\n",
    "    \n",
    "    for (i in 2:length(frrf.files)) {\n",
    "        temp = get.data(input.dir = input.dir, file = frrf.files[i])\n",
    "        chl = rbind(chl, data.frame(Date = as.numeric(temp$Time), Chl = temp$A[1,5]))\n",
    "    }\n",
    "    chl\n",
    "}"
   ]
  },
  {
   "cell_type": "code",
   "execution_count": 74,
   "metadata": {},
   "outputs": [
    {
     "name": "stdout",
     "output_type": "stream",
     "text": [
      "'data.frame':\t929 obs. of  2 variables:\n",
      " $ Date  : POSIXct, format: \"2017-05-31 17:52:36\" \"2017-05-31 18:42:02\" ...\n",
      " $ X.Chl.: num  12.08 21.06 8.21 3.97 4.12 ...\n"
     ]
    }
   ],
   "source": [
    "\n",
    "chl = get.chl()\n",
    "chl$Date = as.POSIXct(chl$Date, origin = '1970-01-01 00:00:00', tz = 'UTC')\n",
    "str(chl)"
   ]
  },
  {
   "cell_type": "code",
   "execution_count": 75,
   "metadata": {},
   "outputs": [],
   "source": [
    "chl$ship = 0\n",
    "for (i in 1:nrow(chl)) {\n",
    "    chl$ship[i] = median(ship.data$FL[which(as.numeric(difftime(chl$Date[i], ship.data$DT, units = 'mins'))^2 < 15^2)], na.rm = TRUE)\n",
    "}"
   ]
  },
  {
   "cell_type": "code",
   "execution_count": 76,
   "metadata": {
    "scrolled": false
   },
   "outputs": [
    {
     "data": {
      "image/png": "[encoded data removed]",
      "text/plain": [
       "plot without title"
      ]
     },
     "metadata": {},
     "output_type": "display_data"
    }
   ],
   "source": [
    "options(warn=-1)\n",
    "\n",
    "#plot(ship.data$DT, ship.data$FL, pch=20, cex=0.1, ylim=c(0,100), yaxs='i')\n",
    "#points(chl$Date, chl$X.Chl., pch=15, col='dark green', cex=0.3)\n",
    "plot(chl$X.Chl., chl$ship, pch=16, cex=0.5, ylab='Ship Fluor', xlab='FRRF')"
   ]
  },
  {
   "cell_type": "code",
   "execution_count": 17,
   "metadata": {},
   "outputs": [
    {
     "name": "stdout",
     "output_type": "stream",
     "text": [
      "Classes 'data.table' and 'data.frame':\t21 obs. of  34 variables:\n",
      " $ Saq         : int  1 2 3 4 5 6 7 8 9 10 ...\n",
      " $ E           : int  0 20 42 69 100 135 177 226 282 348 ...\n",
      " $ Start       : chr  \"00:16\" \"06:19\" \"07:22\" \"08:25\" ...\n",
      " $ s           : int  16 379 442 505 568 631 694 757 820 884 ...\n",
      " $ [Chl]       : num  12.1 13 13.5 13.6 13.1 ...\n",
      " $ ADC         : int  46 48 48 47 47 46 46 46 46 48 ...\n",
      " $ rP          : num  0 7.74 15.45 24.27 33.53 ...\n",
      " $ rP          : num  0 7.54 15.37 24.34 33.84 ...\n",
      " $ JPII        : num  0 95.7 197.5 319.7 452.4 ...\n",
      " $ JVPII       : num  0 0.0381 0.076 0.119 0.165 0.214 0.254 0.314 0.354 0.419 ...\n",
      " $ F'          : num  2.01 2.17 2.25 2.27 2.17 ...\n",
      " $ Fm'         : num  3.45 3.54 3.55 3.5 3.27 ...\n",
      " $ Fq'/Fm'     : num  0.417 0.387 0.368 0.352 0.335 0.323 0.292 0.282 0.255 0.245 ...\n",
      " $ C           : num  NA 0.066 0.113 0.144 0.151 0.19 0.26 0.27 0.342 0.389 ...\n",
      " $ p           : num  0.18 0.165 0.291 0.249 0.233 0.221 0.337 0.25 0.303 0.327 ...\n",
      " $ RSigma      : num  0.0822 0.0795 0.0781 0.0769 0.0751 0.0726 0.0686 0.0665 0.0717 0.0696 ...\n",
      " $ Sigma       : num  8.22 7.95 7.81 7.69 7.51 ...\n",
      " $ CSQ         : num  0.901 0.894 0.716 0.84 0.824 0.768 0.66 0.75 0.933 0.688 ...\n",
      " $ TauES       : num  989 989 1232 1040 989 ...\n",
      " $ NPQ         : num  0.028 0.003 0 0.016 0.085 0.07 0.088 0.123 0.118 0.059 ...\n",
      " $ NSV         : num  1.45 1.41 1.41 1.43 1.53 ...\n",
      " $ QR          : num  65.8 27.4 22.8 24.3 24.6 ...\n",
      " $ Qo          : num  2.1 2.24 2.29 2.31 2.22 ...\n",
      " $ Qm          : num  3.31 3.42 3.43 3.39 3.19 ...\n",
      " $ QoSE        : num  0.0151 0.0267 0.0394 0.0314 0.0268 0.0354 0.0311 0.0258 0.0174 0.0258 ...\n",
      " $ QmSE        : num  0.0105 0.0341 0.0302 0.0315 0.029 0.0279 0.0322 0.0276 0.0285 0.0293 ...\n",
      " $ QSE         : num  0.0184 0.0434 0.0496 0.0445 0.0395 0.0451 0.0448 0.0378 0.0334 0.0391 ...\n",
      " $ QSE ratio   : num  1.444 0.784 1.307 0.998 0.922 ...\n",
      " $ Qo points   : int  12 12 12 12 12 14 12 12 12 13 ...\n",
      " $ Qo slope    : num  0.0623 0.0626 0.0543 0.0519 0.0455 0.0451 0.0383 0.0402 0.0354 0.0359 ...\n",
      " $ Qo intercept: num  2.1 2.24 2.29 2.31 2.22 ...\n",
      " $ Qm points   : int  36 36 36 36 36 36 36 36 36 36 ...\n",
      " $ Qm slope    : num  -0.000518 -0.000185 -0.000736 -0.000311 0.000138 -0.000142 0.000042 0.000201 -0.00011 0.000194 ...\n",
      " $ Qm intercept: num  3.33 3.43 3.45 3.4 3.18 ...\n",
      " - attr(*, \".internal.selfref\")=<externalptr> \n"
     ]
    }
   ],
   "source": [
    "str(data$A)"
   ]
  },
  {
   "cell_type": "code",
   "execution_count": 42,
   "metadata": {},
   "outputs": [
    {
     "data": {
      "text/html": [
       "<table>\n",
       "<thead><tr><th scope=col>Saq</th><th scope=col>E</th><th scope=col>Start</th><th scope=col>s</th><th scope=col>[Chl]</th><th scope=col>ADC</th><th scope=col>rP</th><th scope=col>rP.1</th><th scope=col>JPII</th><th scope=col>JVPII</th><th scope=col>...</th><th scope=col>QoSE</th><th scope=col>QmSE</th><th scope=col>QSE</th><th scope=col>QSE ratio</th><th scope=col>Qo points</th><th scope=col>Qo slope</th><th scope=col>Qo intercept</th><th scope=col>Qm points</th><th scope=col>Qm slope</th><th scope=col>Qm intercept</th></tr></thead>\n",
       "<tbody>\n",
       "\t<tr><td> 1       </td><td>   0     </td><td>00:50    </td><td>  50     </td><td>121.1    </td><td>44       </td><td>  0.000  </td><td>  0.000  </td><td>   0.00  </td><td>0.000    </td><td>...      </td><td>0.0257   </td><td>0.0298   </td><td>0.0394   </td><td>0.864    </td><td>12       </td><td>0.4450   </td><td>20.50    </td><td>36       </td><td>-0.001258</td><td>33.34    </td></tr>\n",
       "\t<tr><td> 2       </td><td>  22     </td><td>12:08    </td><td> 728     </td><td>127.3    </td><td>48       </td><td>  8.967  </td><td>  9.056  </td><td>  71.59  </td><td>0.451    </td><td>...      </td><td>0.0801   </td><td>0.1150   </td><td>0.1400   </td><td>0.699    </td><td>12       </td><td>0.4510   </td><td>21.64    </td><td>36       </td><td> 0.000984</td><td>34.93    </td></tr>\n",
       "\t<tr><td> 3       </td><td>  49     </td><td>13:11    </td><td> 791     </td><td>131.6    </td><td>49       </td><td> 19.530  </td><td> 19.560  </td><td> 152.40  </td><td>0.982    </td><td>...      </td><td>0.0978   </td><td>0.1100   </td><td>0.1470   </td><td>0.886    </td><td>12       </td><td>0.4470   </td><td>22.27    </td><td>36       </td><td> 0.000458</td><td>35.51    </td></tr>\n",
       "\t<tr><td> 4       </td><td>  81     </td><td>14:14    </td><td> 854     </td><td>136.7    </td><td>50       </td><td> 30.710  </td><td> 31.190  </td><td> 244.10  </td><td>1.544    </td><td>...      </td><td>0.0872   </td><td>0.1070   </td><td>0.1380   </td><td>0.812    </td><td>12       </td><td>0.4250   </td><td>22.93    </td><td>36       </td><td> 0.002902</td><td>35.77    </td></tr>\n",
       "\t<tr><td> 5       </td><td> 118     </td><td>15:17    </td><td> 917     </td><td>138.0    </td><td>50       </td><td> 44.020  </td><td> 43.610  </td><td> 378.80  </td><td>2.213    </td><td>...      </td><td>0.0488   </td><td>0.1330   </td><td>0.1410   </td><td>0.368    </td><td>12       </td><td>0.4320   </td><td>23.34    </td><td>36       </td><td> 0.002022</td><td>35.92    </td></tr>\n",
       "\t<tr><td> 6       </td><td> 163     </td><td>16:20    </td><td> 980     </td><td>140.2    </td><td>50       </td><td> 58.930  </td><td> 57.350  </td><td> 522.00  </td><td>2.963    </td><td>...      </td><td>0.0831   </td><td>0.1360   </td><td>0.1600   </td><td>0.609    </td><td>12       </td><td>0.4160   </td><td>23.80    </td><td>36       </td><td> 0.004406</td><td>35.82    </td></tr>\n",
       "\t<tr><td> 7       </td><td> 216     </td><td>17:23    </td><td>1043     </td><td>145.2    </td><td>50       </td><td> 71.900  </td><td> 71.800  </td><td> 658.80  </td><td>3.615    </td><td>...      </td><td>0.0656   </td><td>0.0954   </td><td>0.1160   </td><td>0.687    </td><td>12       </td><td>0.3980   </td><td>24.10    </td><td>36       </td><td> 0.004708</td><td>35.49    </td></tr>\n",
       "\t<tr><td> 8       </td><td> 279     </td><td>18:27    </td><td>1107     </td><td>146.4    </td><td>49       </td><td> 87.380  </td><td> 86.830  </td><td> 862.50  </td><td>4.393    </td><td>...      </td><td>0.0833   </td><td>0.1100   </td><td>0.1380   </td><td>0.758    </td><td>12       </td><td>0.3610   </td><td>24.49    </td><td>36       </td><td> 0.008837</td><td>34.75    </td></tr>\n",
       "\t<tr><td> 9       </td><td> 353     </td><td>19:30    </td><td>1170     </td><td>146.6    </td><td>48       </td><td>103.100  </td><td>101.900  </td><td>1037.00  </td><td>5.186    </td><td>...      </td><td>0.1230   </td><td>0.1110   </td><td>0.1660   </td><td>1.114    </td><td>14       </td><td>0.3170   </td><td>24.46    </td><td>36       </td><td> 0.007729</td><td>33.71    </td></tr>\n",
       "\t<tr><td>10       </td><td> 442     </td><td>20:33    </td><td>1233     </td><td>145.5    </td><td>46       </td><td>115.600  </td><td>116.600  </td><td>1339.00  </td><td>5.809    </td><td>...      </td><td>0.0854   </td><td>0.0875   </td><td>0.1220   </td><td>0.976    </td><td>13       </td><td>0.2800   </td><td>24.23    </td><td>36       </td><td> 0.005190</td><td>32.32    </td></tr>\n",
       "\t<tr><td>11       </td><td> 547     </td><td>21:36    </td><td>1296     </td><td>142.1    </td><td>45       </td><td>133.100  </td><td>127.100  </td><td>1651.00  </td><td>6.691    </td><td>...      </td><td>0.1250   </td><td>0.1040   </td><td>0.1620   </td><td>1.203    </td><td>13       </td><td>0.2360   </td><td>23.83    </td><td>36       </td><td> 0.005720</td><td>30.83    </td></tr>\n",
       "\t<tr><td>12       </td><td> 671     </td><td>22:39    </td><td>1359     </td><td>138.8    </td><td>43       </td><td>147.400  </td><td>135.900  </td><td>2021.00  </td><td>7.412    </td><td>...      </td><td>0.0707   </td><td>0.1130   </td><td>0.1340   </td><td>0.623    </td><td>12       </td><td>0.1970   </td><td>23.40    </td><td>36       </td><td> 0.004858</td><td>29.20    </td></tr>\n",
       "\t<tr><td>13       </td><td> 819     </td><td>23:42    </td><td>1422     </td><td>136.9    </td><td>41       </td><td>149.600  </td><td>142.400  </td><td>2354.00  </td><td>7.522    </td><td>...      </td><td>0.1090   </td><td>0.1110   </td><td>0.1560   </td><td>0.984    </td><td>12       </td><td>0.1550   </td><td>22.89    </td><td>36       </td><td> 0.003763</td><td>27.58    </td></tr>\n",
       "\t<tr><td>14       </td><td> 995     </td><td>24:45    </td><td>1485     </td><td>132.6    </td><td>40       </td><td>151.700  </td><td>146.300  </td><td>2824.00  </td><td>7.626    </td><td>...      </td><td>0.0772   </td><td>0.1180   </td><td>0.1410   </td><td>0.655    </td><td>12       </td><td>0.1350   </td><td>22.04    </td><td>36       </td><td> 0.006703</td><td>25.81    </td></tr>\n",
       "\t<tr><td>15       </td><td>1204     </td><td>25:48    </td><td>1548     </td><td>126.7    </td><td>38       </td><td>148.900  </td><td>147.500  </td><td>3592.00  </td><td>7.487    </td><td>...      </td><td>0.1180   </td><td>0.0997   </td><td>0.1540   </td><td>1.181    </td><td>12       </td><td>0.0930   </td><td>21.17    </td><td>36       </td><td> 0.003777</td><td>23.91    </td></tr>\n",
       "\t<tr><td>16       </td><td>1451     </td><td>26:51    </td><td>1611     </td><td>120.7    </td><td>36       </td><td>151.300  </td><td>146.000  </td><td>3479.00  </td><td>7.609    </td><td>...      </td><td>0.0785   </td><td>0.1100   </td><td>0.1350   </td><td>0.717    </td><td>14       </td><td>0.0700   </td><td>20.11    </td><td>36       </td><td> 0.004834</td><td>22.25    </td></tr>\n",
       "\t<tr><td>17       </td><td>1745     </td><td>27:54    </td><td>1674     </td><td>116.3    </td><td>35       </td><td>143.400  </td><td>142.300  </td><td>4205.00  </td><td>7.207    </td><td>...      </td><td>0.0984   </td><td>0.0967   </td><td>0.1380   </td><td>1.018    </td><td>17       </td><td>0.0443   </td><td>19.41    </td><td>36       </td><td> 0.001687</td><td>20.92    </td></tr>\n",
       "\t<tr><td>18       </td><td>2094     </td><td>28:57    </td><td>1737     </td><td>113.6    </td><td>34       </td><td>125.400  </td><td>136.800  </td><td>3449.00  </td><td>6.305    </td><td>...      </td><td>0.0951   </td><td>0.0817   </td><td>0.1250   </td><td>1.164    </td><td>12       </td><td>0.0379   </td><td>18.86    </td><td>36       </td><td> 0.006625</td><td>19.86    </td></tr>\n",
       "\t<tr><td>19       </td><td>2508     </td><td>30:00    </td><td>1800     </td><td>110.2    </td><td>34       </td><td>133.100  </td><td>130.200  </td><td>6380.00  </td><td>6.693    </td><td>...      </td><td>0.0741   </td><td>0.1000   </td><td>0.1250   </td><td>0.738    </td><td>14       </td><td>0.0276   </td><td>18.42    </td><td>36       </td><td> 0.001658</td><td>19.32    </td></tr>\n",
       "\t<tr><td>20       </td><td>3000     </td><td>31:04    </td><td>1864     </td><td>108.6    </td><td>34       </td><td>118.700  </td><td>123.000  </td><td>     NA  </td><td>5.967    </td><td>...      </td><td>0.0802   </td><td>0.1250   </td><td>0.1490   </td><td>0.641    </td><td>22       </td><td>0.0186   </td><td>18.11    </td><td>36       </td><td> 0.001949</td><td>18.78    </td></tr>\n",
       "\t<tr><td>21       </td><td>   0     </td><td>32:06    </td><td>1926     </td><td>102.0    </td><td>30       </td><td>  0.000  </td><td>  0.000  </td><td>   0.00  </td><td>0.000    </td><td>...      </td><td>0.0489   </td><td>0.0426   </td><td>0.0649   </td><td>1.149    </td><td>12       </td><td>0.2950   </td><td>17.25    </td><td>36       </td><td> 0.000618</td><td>25.89    </td></tr>\n",
       "</tbody>\n",
       "</table>\n"
      ],
      "text/latex": [
       "\\begin{tabular}{r|llllllllllllllllllllllllllllllllll}\n",
       " Saq & E & Start & s & {[}Chl{]} & ADC & rP & rP.1 & JPII & JVPII & ... & QoSE & QmSE & QSE & QSE ratio & Qo points & Qo slope & Qo intercept & Qm points & Qm slope & Qm intercept\\\\\n",
       "\\hline\n",
       "\t  1        &    0      & 00:50     &   50      & 121.1     & 44        &   0.000   &   0.000   &    0.00   & 0.000     & ...       & 0.0257    & 0.0298    & 0.0394    & 0.864     & 12        & 0.4450    & 20.50     & 36        & -0.001258 & 33.34    \\\\\n",
       "\t  2        &   22      & 12:08     &  728      & 127.3     & 48        &   8.967   &   9.056   &   71.59   & 0.451     & ...       & 0.0801    & 0.1150    & 0.1400    & 0.699     & 12        & 0.4510    & 21.64     & 36        &  0.000984 & 34.93    \\\\\n",
       "\t  3        &   49      & 13:11     &  791      & 131.6     & 49        &  19.530   &  19.560   &  152.40   & 0.982     & ...       & 0.0978    & 0.1100    & 0.1470    & 0.886     & 12        & 0.4470    & 22.27     & 36        &  0.000458 & 35.51    \\\\\n",
       "\t  4        &   81      & 14:14     &  854      & 136.7     & 50        &  30.710   &  31.190   &  244.10   & 1.544     & ...       & 0.0872    & 0.1070    & 0.1380    & 0.812     & 12        & 0.4250    & 22.93     & 36        &  0.002902 & 35.77    \\\\\n",
       "\t  5        &  118      & 15:17     &  917      & 138.0     & 50        &  44.020   &  43.610   &  378.80   & 2.213     & ...       & 0.0488    & 0.1330    & 0.1410    & 0.368     & 12        & 0.4320    & 23.34     & 36        &  0.002022 & 35.92    \\\\\n",
       "\t  6        &  163      & 16:20     &  980      & 140.2     & 50        &  58.930   &  57.350   &  522.00   & 2.963     & ...       & 0.0831    & 0.1360    & 0.1600    & 0.609     & 12        & 0.4160    & 23.80     & 36        &  0.004406 & 35.82    \\\\\n",
       "\t  7        &  216      & 17:23     & 1043      & 145.2     & 50        &  71.900   &  71.800   &  658.80   & 3.615     & ...       & 0.0656    & 0.0954    & 0.1160    & 0.687     & 12        & 0.3980    & 24.10     & 36        &  0.004708 & 35.49    \\\\\n",
       "\t  8        &  279      & 18:27     & 1107      & 146.4     & 49        &  87.380   &  86.830   &  862.50   & 4.393     & ...       & 0.0833    & 0.1100    & 0.1380    & 0.758     & 12        & 0.3610    & 24.49     & 36        &  0.008837 & 34.75    \\\\\n",
       "\t  9        &  353      & 19:30     & 1170      & 146.6     & 48        & 103.100   & 101.900   & 1037.00   & 5.186     & ...       & 0.1230    & 0.1110    & 0.1660    & 1.114     & 14        & 0.3170    & 24.46     & 36        &  0.007729 & 33.71    \\\\\n",
       "\t 10        &  442      & 20:33     & 1233      & 145.5     & 46        & 115.600   & 116.600   & 1339.00   & 5.809     & ...       & 0.0854    & 0.0875    & 0.1220    & 0.976     & 13        & 0.2800    & 24.23     & 36        &  0.005190 & 32.32    \\\\\n",
       "\t 11        &  547      & 21:36     & 1296      & 142.1     & 45        & 133.100   & 127.100   & 1651.00   & 6.691     & ...       & 0.1250    & 0.1040    & 0.1620    & 1.203     & 13        & 0.2360    & 23.83     & 36        &  0.005720 & 30.83    \\\\\n",
       "\t 12        &  671      & 22:39     & 1359      & 138.8     & 43        & 147.400   & 135.900   & 2021.00   & 7.412     & ...       & 0.0707    & 0.1130    & 0.1340    & 0.623     & 12        & 0.1970    & 23.40     & 36        &  0.004858 & 29.20    \\\\\n",
       "\t 13        &  819      & 23:42     & 1422      & 136.9     & 41        & 149.600   & 142.400   & 2354.00   & 7.522     & ...       & 0.1090    & 0.1110    & 0.1560    & 0.984     & 12        & 0.1550    & 22.89     & 36        &  0.003763 & 27.58    \\\\\n",
       "\t 14        &  995      & 24:45     & 1485      & 132.6     & 40        & 151.700   & 146.300   & 2824.00   & 7.626     & ...       & 0.0772    & 0.1180    & 0.1410    & 0.655     & 12        & 0.1350    & 22.04     & 36        &  0.006703 & 25.81    \\\\\n",
       "\t 15        & 1204      & 25:48     & 1548      & 126.7     & 38        & 148.900   & 147.500   & 3592.00   & 7.487     & ...       & 0.1180    & 0.0997    & 0.1540    & 1.181     & 12        & 0.0930    & 21.17     & 36        &  0.003777 & 23.91    \\\\\n",
       "\t 16        & 1451      & 26:51     & 1611      & 120.7     & 36        & 151.300   & 146.000   & 3479.00   & 7.609     & ...       & 0.0785    & 0.1100    & 0.1350    & 0.717     & 14        & 0.0700    & 20.11     & 36        &  0.004834 & 22.25    \\\\\n",
       "\t 17        & 1745      & 27:54     & 1674      & 116.3     & 35        & 143.400   & 142.300   & 4205.00   & 7.207     & ...       & 0.0984    & 0.0967    & 0.1380    & 1.018     & 17        & 0.0443    & 19.41     & 36        &  0.001687 & 20.92    \\\\\n",
       "\t 18        & 2094      & 28:57     & 1737      & 113.6     & 34        & 125.400   & 136.800   & 3449.00   & 6.305     & ...       & 0.0951    & 0.0817    & 0.1250    & 1.164     & 12        & 0.0379    & 18.86     & 36        &  0.006625 & 19.86    \\\\\n",
       "\t 19        & 2508      & 30:00     & 1800      & 110.2     & 34        & 133.100   & 130.200   & 6380.00   & 6.693     & ...       & 0.0741    & 0.1000    & 0.1250    & 0.738     & 14        & 0.0276    & 18.42     & 36        &  0.001658 & 19.32    \\\\\n",
       "\t 20        & 3000      & 31:04     & 1864      & 108.6     & 34        & 118.700   & 123.000   &      NA   & 5.967     & ...       & 0.0802    & 0.1250    & 0.1490    & 0.641     & 22        & 0.0186    & 18.11     & 36        &  0.001949 & 18.78    \\\\\n",
       "\t 21        &    0      & 32:06     & 1926      & 102.0     & 30        &   0.000   &   0.000   &    0.00   & 0.000     & ...       & 0.0489    & 0.0426    & 0.0649    & 1.149     & 12        & 0.2950    & 17.25     & 36        &  0.000618 & 25.89    \\\\\n",
       "\\end{tabular}\n"
      ],
      "text/markdown": [
       "\n",
       "Saq | E | Start | s | [Chl] | ADC | rP | rP.1 | JPII | JVPII | ... | QoSE | QmSE | QSE | QSE ratio | Qo points | Qo slope | Qo intercept | Qm points | Qm slope | Qm intercept | \n",
       "|---|---|---|---|---|---|---|---|---|---|---|---|---|---|---|---|---|---|---|---|---|\n",
       "|  1        |    0      | 00:50     |   50      | 121.1     | 44        |   0.000   |   0.000   |    0.00   | 0.000     | ...       | 0.0257    | 0.0298    | 0.0394    | 0.864     | 12        | 0.4450    | 20.50     | 36        | -0.001258 | 33.34     | \n",
       "|  2        |   22      | 12:08     |  728      | 127.3     | 48        |   8.967   |   9.056   |   71.59   | 0.451     | ...       | 0.0801    | 0.1150    | 0.1400    | 0.699     | 12        | 0.4510    | 21.64     | 36        |  0.000984 | 34.93     | \n",
       "|  3        |   49      | 13:11     |  791      | 131.6     | 49        |  19.530   |  19.560   |  152.40   | 0.982     | ...       | 0.0978    | 0.1100    | 0.1470    | 0.886     | 12        | 0.4470    | 22.27     | 36        |  0.000458 | 35.51     | \n",
       "|  4        |   81      | 14:14     |  854      | 136.7     | 50        |  30.710   |  31.190   |  244.10   | 1.544     | ...       | 0.0872    | 0.1070    | 0.1380    | 0.812     | 12        | 0.4250    | 22.93     | 36        |  0.002902 | 35.77     | \n",
       "|  5        |  118      | 15:17     |  917      | 138.0     | 50        |  44.020   |  43.610   |  378.80   | 2.213     | ...       | 0.0488    | 0.1330    | 0.1410    | 0.368     | 12        | 0.4320    | 23.34     | 36        |  0.002022 | 35.92     | \n",
       "|  6        |  163      | 16:20     |  980      | 140.2     | 50        |  58.930   |  57.350   |  522.00   | 2.963     | ...       | 0.0831    | 0.1360    | 0.1600    | 0.609     | 12        | 0.4160    | 23.80     | 36        |  0.004406 | 35.82     | \n",
       "|  7        |  216      | 17:23     | 1043      | 145.2     | 50        |  71.900   |  71.800   |  658.80   | 3.615     | ...       | 0.0656    | 0.0954    | 0.1160    | 0.687     | 12        | 0.3980    | 24.10     | 36        |  0.004708 | 35.49     | \n",
       "|  8        |  279      | 18:27     | 1107      | 146.4     | 49        |  87.380   |  86.830   |  862.50   | 4.393     | ...       | 0.0833    | 0.1100    | 0.1380    | 0.758     | 12        | 0.3610    | 24.49     | 36        |  0.008837 | 34.75     | \n",
       "|  9        |  353      | 19:30     | 1170      | 146.6     | 48        | 103.100   | 101.900   | 1037.00   | 5.186     | ...       | 0.1230    | 0.1110    | 0.1660    | 1.114     | 14        | 0.3170    | 24.46     | 36        |  0.007729 | 33.71     | \n",
       "| 10        |  442      | 20:33     | 1233      | 145.5     | 46        | 115.600   | 116.600   | 1339.00   | 5.809     | ...       | 0.0854    | 0.0875    | 0.1220    | 0.976     | 13        | 0.2800    | 24.23     | 36        |  0.005190 | 32.32     | \n",
       "| 11        |  547      | 21:36     | 1296      | 142.1     | 45        | 133.100   | 127.100   | 1651.00   | 6.691     | ...       | 0.1250    | 0.1040    | 0.1620    | 1.203     | 13        | 0.2360    | 23.83     | 36        |  0.005720 | 30.83     | \n",
       "| 12        |  671      | 22:39     | 1359      | 138.8     | 43        | 147.400   | 135.900   | 2021.00   | 7.412     | ...       | 0.0707    | 0.1130    | 0.1340    | 0.623     | 12        | 0.1970    | 23.40     | 36        |  0.004858 | 29.20     | \n",
       "| 13        |  819      | 23:42     | 1422      | 136.9     | 41        | 149.600   | 142.400   | 2354.00   | 7.522     | ...       | 0.1090    | 0.1110    | 0.1560    | 0.984     | 12        | 0.1550    | 22.89     | 36        |  0.003763 | 27.58     | \n",
       "| 14        |  995      | 24:45     | 1485      | 132.6     | 40        | 151.700   | 146.300   | 2824.00   | 7.626     | ...       | 0.0772    | 0.1180    | 0.1410    | 0.655     | 12        | 0.1350    | 22.04     | 36        |  0.006703 | 25.81     | \n",
       "| 15        | 1204      | 25:48     | 1548      | 126.7     | 38        | 148.900   | 147.500   | 3592.00   | 7.487     | ...       | 0.1180    | 0.0997    | 0.1540    | 1.181     | 12        | 0.0930    | 21.17     | 36        |  0.003777 | 23.91     | \n",
       "| 16        | 1451      | 26:51     | 1611      | 120.7     | 36        | 151.300   | 146.000   | 3479.00   | 7.609     | ...       | 0.0785    | 0.1100    | 0.1350    | 0.717     | 14        | 0.0700    | 20.11     | 36        |  0.004834 | 22.25     | \n",
       "| 17        | 1745      | 27:54     | 1674      | 116.3     | 35        | 143.400   | 142.300   | 4205.00   | 7.207     | ...       | 0.0984    | 0.0967    | 0.1380    | 1.018     | 17        | 0.0443    | 19.41     | 36        |  0.001687 | 20.92     | \n",
       "| 18        | 2094      | 28:57     | 1737      | 113.6     | 34        | 125.400   | 136.800   | 3449.00   | 6.305     | ...       | 0.0951    | 0.0817    | 0.1250    | 1.164     | 12        | 0.0379    | 18.86     | 36        |  0.006625 | 19.86     | \n",
       "| 19        | 2508      | 30:00     | 1800      | 110.2     | 34        | 133.100   | 130.200   | 6380.00   | 6.693     | ...       | 0.0741    | 0.1000    | 0.1250    | 0.738     | 14        | 0.0276    | 18.42     | 36        |  0.001658 | 19.32     | \n",
       "| 20        | 3000      | 31:04     | 1864      | 108.6     | 34        | 118.700   | 123.000   |      NA   | 5.967     | ...       | 0.0802    | 0.1250    | 0.1490    | 0.641     | 22        | 0.0186    | 18.11     | 36        |  0.001949 | 18.78     | \n",
       "| 21        |    0      | 32:06     | 1926      | 102.0     | 30        |   0.000   |   0.000   |    0.00   | 0.000     | ...       | 0.0489    | 0.0426    | 0.0649    | 1.149     | 12        | 0.2950    | 17.25     | 36        |  0.000618 | 25.89     | \n",
       "\n",
       "\n"
      ],
      "text/plain": [
       "   Saq E    Start s    [Chl] ADC rP      rP.1    JPII    JVPII ... QoSE  \n",
       "1   1     0 00:50   50 121.1 44    0.000   0.000    0.00 0.000 ... 0.0257\n",
       "2   2    22 12:08  728 127.3 48    8.967   9.056   71.59 0.451 ... 0.0801\n",
       "3   3    49 13:11  791 131.6 49   19.530  19.560  152.40 0.982 ... 0.0978\n",
       "4   4    81 14:14  854 136.7 50   30.710  31.190  244.10 1.544 ... 0.0872\n",
       "5   5   118 15:17  917 138.0 50   44.020  43.610  378.80 2.213 ... 0.0488\n",
       "6   6   163 16:20  980 140.2 50   58.930  57.350  522.00 2.963 ... 0.0831\n",
       "7   7   216 17:23 1043 145.2 50   71.900  71.800  658.80 3.615 ... 0.0656\n",
       "8   8   279 18:27 1107 146.4 49   87.380  86.830  862.50 4.393 ... 0.0833\n",
       "9   9   353 19:30 1170 146.6 48  103.100 101.900 1037.00 5.186 ... 0.1230\n",
       "10 10   442 20:33 1233 145.5 46  115.600 116.600 1339.00 5.809 ... 0.0854\n",
       "11 11   547 21:36 1296 142.1 45  133.100 127.100 1651.00 6.691 ... 0.1250\n",
       "12 12   671 22:39 1359 138.8 43  147.400 135.900 2021.00 7.412 ... 0.0707\n",
       "13 13   819 23:42 1422 136.9 41  149.600 142.400 2354.00 7.522 ... 0.1090\n",
       "14 14   995 24:45 1485 132.6 40  151.700 146.300 2824.00 7.626 ... 0.0772\n",
       "15 15  1204 25:48 1548 126.7 38  148.900 147.500 3592.00 7.487 ... 0.1180\n",
       "16 16  1451 26:51 1611 120.7 36  151.300 146.000 3479.00 7.609 ... 0.0785\n",
       "17 17  1745 27:54 1674 116.3 35  143.400 142.300 4205.00 7.207 ... 0.0984\n",
       "18 18  2094 28:57 1737 113.6 34  125.400 136.800 3449.00 6.305 ... 0.0951\n",
       "19 19  2508 30:00 1800 110.2 34  133.100 130.200 6380.00 6.693 ... 0.0741\n",
       "20 20  3000 31:04 1864 108.6 34  118.700 123.000      NA 5.967 ... 0.0802\n",
       "21 21     0 32:06 1926 102.0 30    0.000   0.000    0.00 0.000 ... 0.0489\n",
       "   QmSE   QSE    QSE ratio Qo points Qo slope Qo intercept Qm points Qm slope \n",
       "1  0.0298 0.0394 0.864     12        0.4450   20.50        36        -0.001258\n",
       "2  0.1150 0.1400 0.699     12        0.4510   21.64        36         0.000984\n",
       "3  0.1100 0.1470 0.886     12        0.4470   22.27        36         0.000458\n",
       "4  0.1070 0.1380 0.812     12        0.4250   22.93        36         0.002902\n",
       "5  0.1330 0.1410 0.368     12        0.4320   23.34        36         0.002022\n",
       "6  0.1360 0.1600 0.609     12        0.4160   23.80        36         0.004406\n",
       "7  0.0954 0.1160 0.687     12        0.3980   24.10        36         0.004708\n",
       "8  0.1100 0.1380 0.758     12        0.3610   24.49        36         0.008837\n",
       "9  0.1110 0.1660 1.114     14        0.3170   24.46        36         0.007729\n",
       "10 0.0875 0.1220 0.976     13        0.2800   24.23        36         0.005190\n",
       "11 0.1040 0.1620 1.203     13        0.2360   23.83        36         0.005720\n",
       "12 0.1130 0.1340 0.623     12        0.1970   23.40        36         0.004858\n",
       "13 0.1110 0.1560 0.984     12        0.1550   22.89        36         0.003763\n",
       "14 0.1180 0.1410 0.655     12        0.1350   22.04        36         0.006703\n",
       "15 0.0997 0.1540 1.181     12        0.0930   21.17        36         0.003777\n",
       "16 0.1100 0.1350 0.717     14        0.0700   20.11        36         0.004834\n",
       "17 0.0967 0.1380 1.018     17        0.0443   19.41        36         0.001687\n",
       "18 0.0817 0.1250 1.164     12        0.0379   18.86        36         0.006625\n",
       "19 0.1000 0.1250 0.738     14        0.0276   18.42        36         0.001658\n",
       "20 0.1250 0.1490 0.641     22        0.0186   18.11        36         0.001949\n",
       "21 0.0426 0.0649 1.149     12        0.2950   17.25        36         0.000618\n",
       "   Qm intercept\n",
       "1  33.34       \n",
       "2  34.93       \n",
       "3  35.51       \n",
       "4  35.77       \n",
       "5  35.92       \n",
       "6  35.82       \n",
       "7  35.49       \n",
       "8  34.75       \n",
       "9  33.71       \n",
       "10 32.32       \n",
       "11 30.83       \n",
       "12 29.20       \n",
       "13 27.58       \n",
       "14 25.81       \n",
       "15 23.91       \n",
       "16 22.25       \n",
       "17 20.92       \n",
       "18 19.86       \n",
       "19 19.32       \n",
       "20 18.78       \n",
       "21 25.89       "
      ]
     },
     "metadata": {},
     "output_type": "display_data"
    }
   ],
   "source": [
    "temp$A"
   ]
  },
  {
   "cell_type": "code",
   "execution_count": null,
   "metadata": {},
   "outputs": [],
   "source": []
  }
 ],
 "metadata": {
  "kernelspec": {
   "display_name": "R",
   "language": "R",
   "name": "ir"
  },
  "language_info": {
   "codemirror_mode": "r",
   "file_extension": ".r",
   "mimetype": "text/x-r-source",
   "name": "R",
   "pygments_lexer": "r",
   "version": "3.4.2"
  }
 },
 "nbformat": 4,
 "nbformat_minor": 2
}
