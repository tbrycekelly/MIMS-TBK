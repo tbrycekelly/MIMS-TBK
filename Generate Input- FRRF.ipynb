{
 "cells": [
  {
   "cell_type": "code",
   "execution_count": 1,
   "metadata": {},
   "outputs": [
    {
     "name": "stdout",
     "output_type": "stream",
     "text": [
      "Packages Loaded:\n",
      "ncdf4 R.matlab openxlsx RColorBrewer compiler lattice geosphere readxl data.table rworldmap rworldxtra\n"
     ]
    },
    {
     "name": "stderr",
     "output_type": "stream",
     "text": [
      "Loading required package: ncdf4\n",
      "Loading required package: R.matlab\n",
      "Warning message:\n",
      "\"package 'R.matlab' was built under R version 3.4.3\"R.matlab v3.6.1 (2016-10-19) successfully loaded. See ?R.matlab for help.\n",
      "\n",
      "Attaching package: 'R.matlab'\n",
      "\n",
      "The following objects are masked from 'package:base':\n",
      "\n",
      "    getOption, isOpen\n",
      "\n",
      "Loading required package: openxlsx\n",
      "Warning message:\n",
      "\"package 'openxlsx' was built under R version 3.4.3\"Loading required package: RColorBrewer\n",
      "Loading required package: compiler\n",
      "Loading required package: lattice\n",
      "Loading required package: geosphere\n",
      "Warning message in library(package, lib.loc = lib.loc, character.only = TRUE, logical.return = TRUE, :\n",
      "\"there is no package called 'geosphere'\"Loading required package: readxl\n",
      "Loading required package: data.table\n",
      "Loading required package: rworldmap\n",
      "Warning message:\n",
      "\"package 'rworldmap' was built under R version 3.4.3\"Loading required package: sp\n",
      "Warning message:\n",
      "\"package 'sp' was built under R version 3.4.3\"### Welcome to rworldmap ###\n",
      "For a short introduction type : \t vignette('rworldmap')\n",
      "Loading required package: rworldxtra\n",
      "Warning message:\n",
      "\"package 'rworldxtra' was built under R version 3.4.3\""
     ]
    }
   ],
   "source": [
    "source('source.r')"
   ]
  },
  {
   "cell_type": "code",
   "execution_count": 2,
   "metadata": {},
   "outputs": [
    {
     "data": {
      "text/html": [
       "930"
      ],
      "text/latex": [
       "930"
      ],
      "text/markdown": [
       "930"
      ],
      "text/plain": [
       "[1] 930"
      ]
     },
     "metadata": {},
     "output_type": "display_data"
    }
   ],
   "source": [
    "input.dir = 'Raw Data/FRRF/'\n",
    "\n",
    "frrf.files = list.files(input.dir)\n",
    "length(frrf.files)"
   ]
  },
  {
   "cell_type": "code",
   "execution_count": 27,
   "metadata": {},
   "outputs": [],
   "source": [
    "get.data = function(input.dir, file) {\n",
    "    file = paste0(input.dir, file)\n",
    "    \n",
    "    data.a = fread(file, sep = ',', skip = 29, nrows = 21)\n",
    "    data.a = data.a[,-c(1, 23, 31)]\n",
    "    \n",
    "    data.b = fread(file, sep = ',', skip = 53, nrows = 21)\n",
    "    data.b = data.b[,-c(1, 23, 31)]\n",
    "    \n",
    "    data.c = fread(file, sep = ',', skip = 77, nrows = 21)\n",
    "    data.c = data.c[,-c(1, 23, 31)]\n",
    "    \n",
    "    data.d = fread(file, sep = ',', skip = 101, nrows = 21)\n",
    "    data.d = data.d[,-c(1, 23, 31)]\n",
    "    \n",
    "    data.s = fread(file, sep = ',', skip = 1, nrows = 6)\n",
    "    \n",
    "    list(A = data.a, B = data.b, C = data.c, D = data.d, S = data.s)\n",
    "}"
   ]
  },
  {
   "cell_type": "code",
   "execution_count": 31,
   "metadata": {
    "scrolled": false
   },
   "outputs": [],
   "source": [
    "data = get.data(input.dir, frrf.files[1])"
   ]
  },
  {
   "cell_type": "code",
   "execution_count": 37,
   "metadata": {},
   "outputs": [
    {
     "data": {
      "image/png": "[encoded data removed]",
      "text/plain": [
       "plot without title"
      ]
     },
     "metadata": {},
     "output_type": "display_data"
    }
   ],
   "source": [
    "plot(data$A$E, data$A$rP, pch = 16)\n",
    "points(data$B$E, data$B$rP, pch = 16, col='blue')\n",
    "points(data$C$E, data$C$rP, pch = 16, col='dark red')\n",
    "points(data$D$E, data$D$rP, pch = 16, col='dark green')"
   ]
  }
 ],
 "metadata": {
  "kernelspec": {
   "display_name": "R",
   "language": "R",
   "name": "ir"
  },
  "language_info": {
   "codemirror_mode": "r",
   "file_extension": ".r",
   "mimetype": "text/x-r-source",
   "name": "R",
   "pygments_lexer": "r",
   "version": "3.4.2"
  }
 },
 "nbformat": 4,
 "nbformat_minor": 2
}
