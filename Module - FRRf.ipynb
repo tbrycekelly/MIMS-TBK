{
 "cells": [
  {
   "cell_type": "code",
   "execution_count": 2,
   "metadata": {},
   "outputs": [
    {
     "name": "stdout",
     "output_type": "stream",
     "text": [
      "Packages Loaded:\n",
      "ncdf4 R.matlab openxlsx RColorBrewer compiler lattice geosphere readxl data.table rworldmap rworldxtra\n"
     ]
    }
   ],
   "source": [
    "source('source.equations.r')\n",
    "source('source.r')"
   ]
  },
  {
   "cell_type": "code",
   "execution_count": 15,
   "metadata": {},
   "outputs": [],
   "source": [
    "load('RStates/ship.ncp.2min.rdata')"
   ]
  },
  {
   "cell_type": "code",
   "execution_count": 3,
   "metadata": {},
   "outputs": [],
   "source": [
    "frrf.path = 'RStates/FRRF/'\n",
    "frrf.files = list.files(path = 'RStates/FRRF')\n",
    "\n",
    "frrf.times = lapply(frrf.files,\n",
    "                    function(x) {\n",
    "                        as.POSIXct(as.numeric(strsplit(x, '.rdata')[[1]]), origin=\"1970-01-01\", tz = 'GMT')\n",
    "                    }\n",
    "                   )\n",
    "\n",
    "\n",
    "\n",
    "load.frrf = function(time) {\n",
    "    dt = abs(as.numeric(frrf.times) - as.numeric(time))\n",
    "    i = which.min(dt)\n",
    "    load(paste0(frrf.path, frrf.files[i]))\n",
    "    \n",
    "    fit\n",
    "}"
   ]
  },
  {
   "cell_type": "code",
   "execution_count": 4,
   "metadata": {},
   "outputs": [],
   "source": [
    "load(paste0(frrf.path, frrf.files[1]))"
   ]
  },
  {
   "cell_type": "code",
   "execution_count": 20,
   "metadata": {},
   "outputs": [
    {
     "name": "stdout",
     "output_type": "stream",
     "text": [
      " POSIXct[1:1], format: \"2017-05-31 17:52:36\"\n"
     ]
    }
   ],
   "source": [
    "str(frrf.times[[1]])"
   ]
  },
  {
   "cell_type": "code",
   "execution_count": 21,
   "metadata": {},
   "outputs": [],
   "source": [
    "results = data.frame(time = frrf.times[1], FvFm = 0, sigmaPSII = 0, PAR = 0)\n",
    "\n",
    "for (i in 1:length(frrf.files)) {\n",
    "    par = ship.data$PA[which.min(abs(as.numeric(difftime(ship.data$DT, frrf.times[[i]], units='mins'))))]\n",
    "    \n",
    "    load(paste0(frrf.path, frrf.files[i]))\n",
    "    results[i,] = data.frame(time = frrf.times[i], FvFm = fit$data$A$Fv.Fm[1], sigmaPSII = fit$data$A$Sigma[1], PAR = par)\n",
    "}\n",
    "colnames(results) = c('time', 'FvFm', 'sigmaPSII', 'PAR')"
   ]
  },
  {
   "cell_type": "code",
   "execution_count": 37,
   "metadata": {},
   "outputs": [
    {
     "data": {
      "text/html": [
       "<strong>png:</strong> 2"
      ],
      "text/latex": [
       "\\textbf{png:} 2"
      ],
      "text/markdown": [
       "**png:** 2"
      ],
      "text/plain": [
       "png \n",
       "  2 "
      ]
     },
     "metadata": {},
     "output_type": "display_data"
    }
   ],
   "source": [
    "pdf('Output/FRRF - FvFm for Cruise (dark).pdf')\n",
    "\n",
    "plot(results$time, results$FvFm, pch=16, cex=0.5, col='#00000010', ylim=c(0,0.7), ylab='Fv/Fm', xlab='', yaxs='i')\n",
    "\n",
    "l = which(results$PAR < 10)\n",
    "points(results$time[l], results$FvFm[l], pch=15, cex=0.6, col='#000000')\n",
    "\n",
    "add.poly = function(name, col) {\n",
    "    col = paste0(col, '40')\n",
    "    polygon(x = c(min(ship.data$DT[ship.data$Cycle == name]), min(ship.data$DT[ship.data$Cycle == name]),\n",
    "                  max(ship.data$DT[ship.data$Cycle == name]), max(ship.data$DT[ship.data$Cycle == name])),\n",
    "           y = c(0,100,100,0), col=col, border=FALSE)\n",
    "    \n",
    "    text(median(ship.data$DT[ship.data$Cycle == name]), 0.1, name, cex=0.8)\n",
    "}\n",
    "\n",
    "pal = brewer.pal(n = 6, name = 'Set2')\n",
    "\n",
    "add.poly('SeaSoar1', pal[1])\n",
    "add.poly('Cycle1', pal[2])\n",
    "add.poly('Cycle2', pal[3])\n",
    "add.poly('Cycle3', pal[4])\n",
    "add.poly('Cycle4', pal[5])\n",
    "add.poly('SeaSoar2', pal[6])\n",
    "\n",
    "dev.off()"
   ]
  },
  {
   "cell_type": "code",
   "execution_count": 38,
   "metadata": {},
   "outputs": [
    {
     "data": {
      "text/html": [
       "<strong>png:</strong> 2"
      ],
      "text/latex": [
       "\\textbf{png:} 2"
      ],
      "text/markdown": [
       "**png:** 2"
      ],
      "text/plain": [
       "png \n",
       "  2 "
      ]
     },
     "metadata": {},
     "output_type": "display_data"
    }
   ],
   "source": [
    "pdf('Output/FRRF - Sigma for Cruise (dark).pdf')\n",
    "\n",
    "plot(results$time, results$sigmaPSII, pch=16, cex=0.5, col='#00000010', ylab='Sigma PSII', xlab='', yaxs='i', ylim=c(0,10))\n",
    "\n",
    "l = which(results$PAR < 10)\n",
    "points(results$time[l], results$sigmaPSII[l], pch=15, cex=0.6, col='#000000')\n",
    "\n",
    "add.poly = function(name, col) {\n",
    "    col = paste0(col, '40')\n",
    "    polygon(x = c(min(ship.data$DT[ship.data$Cycle == name]), min(ship.data$DT[ship.data$Cycle == name]),\n",
    "                  max(ship.data$DT[ship.data$Cycle == name]), max(ship.data$DT[ship.data$Cycle == name])),\n",
    "           y = c(0,100,100,0), col=col, border=FALSE)\n",
    "    \n",
    "    text(median(ship.data$DT[ship.data$Cycle == name]), 0.5, name, cex=0.8)\n",
    "}\n",
    "\n",
    "pal = brewer.pal(n = 6, name = 'Set2')\n",
    "\n",
    "add.poly('SeaSoar1', pal[1])\n",
    "add.poly('Cycle1', pal[2])\n",
    "add.poly('Cycle2', pal[3])\n",
    "add.poly('Cycle3', pal[4])\n",
    "add.poly('Cycle4', pal[5])\n",
    "add.poly('SeaSoar2', pal[6])\n",
    "\n",
    "dev.off()"
   ]
  },
  {
   "cell_type": "code",
   "execution_count": null,
   "metadata": {},
   "outputs": [],
   "source": []
  }
 ],
 "metadata": {
  "kernelspec": {
   "display_name": "R",
   "language": "R",
   "name": "ir"
  },
  "language_info": {
   "codemirror_mode": "r",
   "file_extension": ".r",
   "mimetype": "text/x-r-source",
   "name": "R",
   "pygments_lexer": "r",
   "version": "3.4.2"
  }
 },
 "nbformat": 4,
 "nbformat_minor": 2
}
