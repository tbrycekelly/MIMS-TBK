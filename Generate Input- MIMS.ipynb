{
 "cells": [
  {
   "cell_type": "markdown",
   "metadata": {},
   "source": [
    "# Generate Input - MIMS\n",
    "\n",
    "This script manages all the requirements of the raw MIMS data processing. The raw data files are _.xlh_. The script first loads the individual _.xlh_ files via __processFile()__. Next the calibration periods are pulled out leading to two datasets: _data.main_ and _data.cal_. The datasets are averaged and then saved for use in the ___Main Data Merge___ script.\n",
    "\n",
    "### Steps:\n",
    "\n",
    "1. __Setup__\n",
    " * 1b. Calibration\n",
    "\n",
    "2. __Run__\n",
    " * Load the data\n",
    " * Filter and average\n",
    "\n",
    "3. __Save__\n",
    "\n",
    "4. __Visualize__\n",
    " * Plot signal and calibrations\n",
    "\n",
    "5. __Vertical Profiles__\n",
    " * Load and parse vertical profiles\n",
    " * Load Log files\n",
    " * 5b. save\n",
    " \n",
    " \n",
    " \n",
    "---\n",
    "### Functions:\n",
    "__make.calibration.sequence(__t1, t2__)__\n",
    "- Takes two integers (excel date codes) and generates a regular sequence of calibration periods. Useful when calibrations are on a timer or otherwise very predictable.\n",
    "\n",
    "__processFile(__filepath, file, cals, make.img = FALSE, rm.cals = FALSE__)__\n",
    "\n",
    "__take.avg(__x, n = 60__)__\n",
    "\n"
   ]
  },
  {
   "cell_type": "code",
   "execution_count": 1,
   "metadata": {},
   "outputs": [
    {
     "name": "stdout",
     "output_type": "stream",
     "text": [
      "Packages Loaded:\n",
      "ncdf4 R.matlab openxlsx RColorBrewer compiler lattice geosphere readxl data.table rworldmap rworldxtra\n"
     ]
    },
    {
     "name": "stderr",
     "output_type": "stream",
     "text": [
      "Loading required package: ncdf4\n",
      "Loading required package: R.matlab\n",
      "Warning message:\n",
      "\"package 'R.matlab' was built under R version 3.4.3\"R.matlab v3.6.1 (2016-10-19) successfully loaded. See ?R.matlab for help.\n",
      "\n",
      "Attaching package: 'R.matlab'\n",
      "\n",
      "The following objects are masked from 'package:base':\n",
      "\n",
      "    getOption, isOpen\n",
      "\n",
      "Loading required package: openxlsx\n",
      "Warning message:\n",
      "\"package 'openxlsx' was built under R version 3.4.3\"Loading required package: RColorBrewer\n",
      "Loading required package: compiler\n",
      "Loading required package: lattice\n",
      "Warning message:\n",
      "\"package 'lattice' was built under R version 3.4.3\"Loading required package: geosphere\n",
      "Warning message:\n",
      "\"package 'geosphere' was built under R version 3.4.3\"Loading required package: readxl\n",
      "Loading required package: data.table\n",
      "Warning message:\n",
      "\"package 'data.table' was built under R version 3.4.3\"Loading required package: rworldmap\n",
      "Warning message:\n",
      "\"package 'rworldmap' was built under R version 3.4.3\"Loading required package: sp\n",
      "Warning message:\n",
      "\"package 'sp' was built under R version 3.4.3\"### Welcome to rworldmap ###\n",
      "For a short introduction type : \t vignette('rworldmap')\n",
      "Loading required package: rworldxtra\n",
      "Warning message:\n",
      "\"package 'rworldxtra' was built under R version 3.4.3\""
     ]
    }
   ],
   "source": [
    "source('source.r')"
   ]
  },
  {
   "cell_type": "markdown",
   "metadata": {},
   "source": [
    "---\n",
    "# 1. Setup"
   ]
  },
  {
   "cell_type": "code",
   "execution_count": 2,
   "metadata": {},
   "outputs": [
    {
     "data": {
      "text/html": [
       "74"
      ],
      "text/latex": [
       "74"
      ],
      "text/markdown": [
       "74"
      ],
      "text/plain": [
       "[1] 74"
      ]
     },
     "metadata": {},
     "output_type": "display_data"
    }
   ],
   "source": [
    "input.dir = 'Raw data/MIMS/'\n",
    "\n",
    "## Generate list of files in the directory\n",
    "file.list = list.files(input.dir)\n",
    "\n",
    "## split file.list into usable lists\n",
    "file.list = file.list[grepl('.xlh', file.list)]\n",
    "file.list = file.list[!grepl('profile', file.list)]\n",
    "file.list = file.list[!grepl('csv', file.list)]\n",
    "file.list = file.list[!grepl('not', file.list)]\n",
    "length(file.list)"
   ]
  },
  {
   "cell_type": "code",
   "execution_count": 30,
   "metadata": {},
   "outputs": [],
   "source": [
    "make.calibration.sequence = function(t1, t2) {\n",
    "    cals = c(t1:t2)\n",
    "    cals = c(cals + 0.0423, cals + 0.1674,\n",
    "             cals + 0.2785, cals + 0.4175,\n",
    "             cals + 0.5425, cals + 0.6676,\n",
    "             cals + 0.7926, cals + 0.917)\n",
    "    cals = data.frame(start = cals, stop = cals + 20/(24*60))\n",
    "    cals$start = conv_excel_time(cals$start)\n",
    "    cals$stop = conv_excel_time(cals$stop)\n",
    "    cals\n",
    "}\n",
    "\n",
    "processFile = function(filepath, file, cals, cuts, make.img = FALSE, rm.cals = FALSE) {\n",
    "    \n",
    "    ## Empty dataframe to ensure consistency\n",
    "    dat = data.frame(cycle = 0, time = 0, X18 = 0, X28 = 0, X32 = 0, X40 = 0, X44 = 0, \n",
    "                      X45 = 0, TP = 0, N2.Ar = 0, O2.Ar = 0, N2.O2 = 0, BK.v = 0, BK.a = 0, BK.w = 0)\n",
    "    \n",
    "    temp = fread(paste0(input.dir, file), skip=9)\n",
    "    colnames(temp) = colnames(dat)\n",
    "    dat = rbind(dat, temp)\n",
    "\n",
    "    dat$Flag = 1\n",
    "    dat = dat[-1,]\n",
    "    dat$time = conv_excel_time(dat$time)\n",
    "\n",
    "    #### Flag values\n",
    "    ## \n",
    "    ## 1: default\n",
    "    ## 2: calibration period \n",
    "    ## 3: Rejected with N minutes of switch.\n",
    "    ##\n",
    "    dat$Flag[dat$N2.Ar > 58] = 3\n",
    "    dat$Flag[dat$N2.Ar < 35] = 3\n",
    "    \n",
    "    for (j in 1:nrow(cals)) {\n",
    "        dt = as.numeric(difftime(dat$time, cals$start[j], units='mins'))\n",
    "        dt2 = as.numeric(difftime(dat$time, cals$stop[j], units='mins'))\n",
    "        \n",
    "        l = which(dt > 0 & dt2 < 0)\n",
    "        dat$Flag[l] = 2 # cal\n",
    "        \n",
    "        l = which(abs(dt) < 4)\n",
    "        dat$Flag[l] = 3 # reject\n",
    "        \n",
    "        l = which(abs(dt2) < 4)\n",
    "        dat$Flag[l] = 3 # reject  \n",
    "    }\n",
    "    \n",
    "    ## Remove cuts, flag after calibrations (!! Priority !!)\n",
    "    for (j in 1:nrow(cuts)) {\n",
    "        dt = as.numeric(difftime(dat$time, cuts$Start.Cut[j], units='mins'))\n",
    "        dt2 = as.numeric(difftime(dat$time, cuts$End.Cut[j], units='mins'))\n",
    "        \n",
    "        l = which(dt > 0 & dt2 < 0)\n",
    "        dat$Flag[l] = 3 # cal\n",
    "        \n",
    "        l = which(abs(dt) < 4)\n",
    "        dat$Flag[l] = 3 # reject\n",
    "        \n",
    "        l = which(abs(dt2) < 4)\n",
    "        dat$Flag[l] = 3 # reject\n",
    "    }\n",
    "    \n",
    "    ## Optional output of images for visual inspection, color coded by flag value\n",
    "    if (make.img) {\n",
    "        cols = c('black', 'orange', 'red')\n",
    "    \n",
    "        png(paste0('Output/MIMS/', file, '.png'))\n",
    "        plot(dat$time, dat$O2.Ar, col=cols[dat$Flag], pch=20, ylab='O2/Ar', xlab='', main=file, cex=0.4, ylim=c(0, 40))\n",
    "        dev.off()\n",
    "    }\n",
    "    \n",
    "    ## Removes the samples located at the start or end of a calibration cycle.\n",
    "    if (rm.cals) {\n",
    "        dat = dat[dat$Flag < 3,]\n",
    "    }\n",
    "    \n",
    "    ## Can conv time to excel time if useful \n",
    "    #dat$time = abs(as.numeric(difftime(as.POSIXct(as.Date(0, origin=\"1899-12-30\", tz=tz)), dat$time, units = 'days')))\n",
    "    \n",
    "    return(dat)\n",
    "}"
   ]
  },
  {
   "cell_type": "markdown",
   "metadata": {},
   "source": [
    "## 1b. Make calibration"
   ]
  },
  {
   "cell_type": "code",
   "execution_count": 31,
   "metadata": {},
   "outputs": [],
   "source": [
    "make.calibration = function(path) {\n",
    "    cals = make.calibration.sequence(42894, 42917)\n",
    "\n",
    "    cal.file = read.xlsx(path, sheet = 'Sheet2')\n",
    "    cal.file$start = conv_excel_time(cal.file$start)\n",
    "    cal.file$stop = conv_excel_time(cal.file$stop)\n",
    "\n",
    "    rbind(cals, cal.file)\n",
    "}\n",
    "\n",
    "cals = make.calibration('Raw Data/MIMS/Calibration MIMS hand readout.xlsx')"
   ]
  },
  {
   "cell_type": "code",
   "execution_count": 32,
   "metadata": {},
   "outputs": [],
   "source": [
    "make.cuts = function(path) {\n",
    "    cuts = read.xlsx(path)\n",
    "    \n",
    "    ## Convert Times\n",
    "    cuts$Start.Cut = conv_excel_time(cuts$Start.Cut)\n",
    "    cuts$End.Cut = conv_excel_time(cuts$End.Cut)\n",
    "    \n",
    "    cuts\n",
    "}\n",
    "\n",
    "cuts = make.cuts('Raw Data/MIMS/Manual Cut File.xlsx')"
   ]
  },
  {
   "cell_type": "code",
   "execution_count": 33,
   "metadata": {},
   "outputs": [
    {
     "name": "stdout",
     "output_type": "stream",
     "text": [
      "Classes 'data.table' and 'data.frame':\t4926 obs. of  16 variables:\n",
      " $ cycle: num  94745 94746 94747 94748 94749 ...\n",
      " $ time : POSIXct, format: \"2017-06-10 20:00:49\" \"2017-06-10 20:00:50\" ...\n",
      " $ X18  : num  2.29e-08 2.29e-08 2.29e-08 2.29e-08 2.29e-08 ...\n",
      " $ X28  : num  3.58e-08 3.59e-08 3.60e-08 3.60e-08 3.60e-08 ...\n",
      " $ X32  : num  2.32e-08 2.32e-08 2.32e-08 2.33e-08 2.32e-08 ...\n",
      " $ X40  : num  7.29e-10 7.33e-10 7.34e-10 7.35e-10 7.32e-10 ...\n",
      " $ X44  : num  3.98e-10 3.98e-10 3.96e-10 3.97e-10 3.96e-10 ...\n",
      " $ X45  : num  4.92e-12 4.77e-12 5.11e-12 5.08e-12 5.30e-12 ...\n",
      " $ TP   : num  2.64e-06 2.64e-06 2.64e-06 2.64e-06 2.64e-06 ...\n",
      " $ N2.Ar: num  49.1 49 49 49 49.1 ...\n",
      " $ O2.Ar: num  31.8 31.6 31.7 31.7 31.7 ...\n",
      " $ N2.O2: num  1.55 1.55 1.55 1.55 1.55 ...\n",
      " $ BK.v : num  0 0 0 0 0 0 0 0 0 0 ...\n",
      " $ BK.a : num  0 0 0 0 0 0 0 0 0 0 ...\n",
      " $ BK.w : num  0 0 0 0 0 0 0 0 0 0 ...\n",
      " $ Flag : num  1 1 1 1 1 1 1 1 1 1 ...\n",
      " - attr(*, \".internal.selfref\")=<externalptr> \n"
     ]
    }
   ],
   "source": [
    "data = processFile(input.dir, file.list[25], cals, cuts, make.img = TRUE)\n",
    "str(data)"
   ]
  },
  {
   "cell_type": "markdown",
   "metadata": {},
   "source": [
    "# 2. Test and Run\n",
    "First time through, let's load the data, apply calibration filter and plot the results. Are we getting it right?\n",
    "\n",
    "Then we can run it for a data merge, removing data between calibration and non-calibration periods."
   ]
  },
  {
   "cell_type": "code",
   "execution_count": 34,
   "metadata": {},
   "outputs": [],
   "source": [
    "run = function(file.list, cals, cuts, compile = FALSE, make.img = FALSE, rm.cals = FALSE, from.rdata = FALSE) {\n",
    "    \n",
    "    if (from.rdata) {\n",
    "        load(paste0('RStates/MIMS/', file.list[1], '.rdata'))\n",
    "        new.data = data\n",
    "        \n",
    "        for (i in 2:length(file.list)) {\n",
    "            load(paste0('RStates/MIMS/', file.list[i], '.rdata'))\n",
    "            new.data = rbind(new.data, data)\n",
    "        }\n",
    "        return(new.data)\n",
    "    }\n",
    "    \n",
    "    data = processFile(input.dir, file.list[1], cals, cuts, make.img = make.img, rm.cals = rm.cals)\n",
    "    if (!compile) {\n",
    "        save(data, file=paste0('RStates/MIMS/', file.list[1], '.rdata'))\n",
    "    }\n",
    "    \n",
    "    for (i in 2:length(file.list)) {\n",
    "        if (compile) {\n",
    "            data = rbind(data, processFile(input.dir, file.list[i], cals, cuts, make.img = FALSE, rm.cals = rm.cals))\n",
    "        } else {\n",
    "            data = processFile(input.dir, file.list[i], cals, cuts, make.img = make.img, rm.cals = rm.cals)\n",
    "            save(data, file=paste0('RStates/MIMS/', file.list[i], '.rdata'))\n",
    "        }\n",
    "    }\n",
    "    if (compile){\n",
    "        return(data)\n",
    "    }\n",
    "    return(0)\n",
    "}"
   ]
  },
  {
   "cell_type": "code",
   "execution_count": 35,
   "metadata": {},
   "outputs": [
    {
     "data": {
      "text/html": [
       "0"
      ],
      "text/latex": [
       "0"
      ],
      "text/markdown": [
       "0"
      ],
      "text/plain": [
       "[1] 0"
      ]
     },
     "metadata": {},
     "output_type": "display_data"
    }
   ],
   "source": [
    "run(file.list, cals, cuts, make.img = TRUE, compile = FALSE)"
   ]
  },
  {
   "cell_type": "code",
   "execution_count": 36,
   "metadata": {},
   "outputs": [],
   "source": [
    "data = run(file.list, cals, cuts, compile = TRUE, rm.cals = TRUE)"
   ]
  },
  {
   "cell_type": "code",
   "execution_count": 37,
   "metadata": {},
   "outputs": [],
   "source": [
    "data = run(file.list, cals, cuts, compile = TRUE, rm.cals = TRUE, from.rdata = TRUE, make.img = FALSE)"
   ]
  },
  {
   "cell_type": "code",
   "execution_count": 38,
   "metadata": {},
   "outputs": [
    {
     "data": {
      "text/html": [
       "1670673"
      ],
      "text/latex": [
       "1670673"
      ],
      "text/markdown": [
       "1670673"
      ],
      "text/plain": [
       "[1] 1670673"
      ]
     },
     "metadata": {},
     "output_type": "display_data"
    },
    {
     "data": {
      "text/html": [
       "1179780"
      ],
      "text/latex": [
       "1179780"
      ],
      "text/markdown": [
       "1179780"
      ],
      "text/plain": [
       "[1] 1179780"
      ]
     },
     "metadata": {},
     "output_type": "display_data"
    },
    {
     "data": {
      "text/html": [
       "85246"
      ],
      "text/latex": [
       "85246"
      ],
      "text/markdown": [
       "85246"
      ],
      "text/plain": [
       "[1] 85246"
      ]
     },
     "metadata": {},
     "output_type": "display_data"
    }
   ],
   "source": [
    "nrow(data)\n",
    "length(which(data$Flag == 1))\n",
    "length(which(data$Flag == 2))"
   ]
  },
  {
   "cell_type": "markdown",
   "metadata": {},
   "source": [
    "__Apply averaging__ : This will take a while!"
   ]
  },
  {
   "cell_type": "code",
   "execution_count": 39,
   "metadata": {},
   "outputs": [
    {
     "name": "stdout",
     "output_type": "stream",
     "text": [
      "'data.frame':\t1670673 obs. of  16 variables:\n",
      " $ cycle: num  0 1 2 3 4 5 6 7 8 9 ...\n",
      " $ time : POSIXct, format: \"2017-05-31 13:19:56\" \"2017-05-31 13:19:57\" ...\n",
      " $ X18  : num  2.05e-07 2.04e-07 2.04e-07 2.03e-07 2.02e-07 ...\n",
      " $ X28  : num  2.60e-07 2.58e-07 2.57e-07 2.56e-07 2.56e-07 ...\n",
      " $ X32  : num  1.39e-07 1.37e-07 1.37e-07 1.37e-07 1.37e-07 ...\n",
      " $ X40  : num  4.84e-09 4.80e-09 4.78e-09 4.77e-09 4.77e-09 ...\n",
      " $ X44  : num  3.82e-09 3.80e-09 3.79e-09 3.77e-09 3.76e-09 ...\n",
      " $ X45  : num  6.34e-11 6.27e-11 6.21e-11 6.22e-11 6.16e-11 ...\n",
      " $ TP   : num  4.39e-06 4.39e-06 4.39e-06 4.41e-06 4.43e-06 ...\n",
      " $ N2.Ar: num  53.7 53.8 53.8 53.6 53.7 ...\n",
      " $ O2.Ar: num  28.7 28.6 28.6 28.7 28.7 ...\n",
      " $ N2.O2: num  1.87 1.88 1.88 1.87 1.87 ...\n",
      " $ BK.v : num  0 0 0 0 0 0 0 0 0 0 ...\n",
      " $ BK.a : num  0 0 0 0 0 0 0 0 0 0 ...\n",
      " $ BK.w : num  0 0 0 0 0 0 0 0 0 0 ...\n",
      " $ Flag : num  1 1 1 1 1 1 1 1 1 1 ...\n"
     ]
    }
   ],
   "source": [
    "data = as.data.frame(data)\n",
    "str(data)"
   ]
  },
  {
   "cell_type": "code",
   "execution_count": 40,
   "metadata": {},
   "outputs": [
    {
     "name": "stdout",
     "output_type": "stream",
     "text": [
      "[1] \"Starting Main Averaging:\"\n",
      "[1] \"The number of rows before was 1179780 and now there are 15102\"\n",
      "[1] \"Done. Main has 15102 rows.\"\n"
     ]
    }
   ],
   "source": [
    "print('Starting Main Averaging:')\n",
    "data.main = take.avg(data[data$Flag == 1,], n = 2*60, type = 2, c.time = 2, nc.skip = 2) \n",
    "\n",
    "print(paste('Done. Main has', nrow(data.main), 'rows.'))"
   ]
  },
  {
   "cell_type": "code",
   "execution_count": 41,
   "metadata": {},
   "outputs": [
    {
     "name": "stdout",
     "output_type": "stream",
     "text": [
      "[1] \"Starting Cal Averaging:\"\n",
      "[1] \"The number of rows before was 85246 and now there are 206\"\n"
     ]
    }
   ],
   "source": [
    "print('Starting Cal Averaging:')\n",
    "data.cal = take.avg(data[data$Flag == 2,], n = 60*120, type = 2, c.time = 2, nc.skip = 2) \n",
    "#print(paste('Done. Calibration has', nrow(data.cal), 'rows.'))"
   ]
  },
  {
   "cell_type": "code",
   "execution_count": 42,
   "metadata": {
    "scrolled": false
   },
   "outputs": [],
   "source": [
    "dt = abs(as.numeric(difftime(data.main$time[1], data.main$time, units = 'days')))\n",
    "\n",
    "par(mfrow=c(2,2))\n",
    "for (i in 1:max(dt, na.rm = TRUE)) {\n",
    "    filename = paste0('Output/MIMS/Day Summary - ', i , '.pdf')\n",
    "    pdf(filename)\n",
    "    \n",
    "    l = which(dt >= i-1 & dt < i)\n",
    "    if (length(l) > 1) {\n",
    "        plot(data.main$time[l], data.main$O2.Ar[l], pch=16, cex=0.3, ylab='O2/Ar',\n",
    "             main = paste(filename, min(data.main$time[l])), xlab='')\n",
    "        points(data$time[data$Flag == 2], data$O2.Ar[data$Flag == 2], pch=20, cex=0.1, col='orange')\n",
    "        points(data.cal$time, data.cal$O2.Ar, pch=4, col='dark red', cex=0.8)\n",
    "\n",
    "        dev.off()\n",
    "    }\n",
    "}"
   ]
  },
  {
   "cell_type": "code",
   "execution_count": 43,
   "metadata": {},
   "outputs": [],
   "source": [
    "mims = list(sample = data.main, cal = data.cal)\n",
    "mims$cal = mims$cal[mims$cal$O2.Ar > 15,]"
   ]
  },
  {
   "cell_type": "code",
   "execution_count": 51,
   "metadata": {},
   "outputs": [
    {
     "data": {
      "text/html": [
       "<strong>pdf:</strong> 3"
      ],
      "text/latex": [
       "\\textbf{pdf:} 3"
      ],
      "text/markdown": [
       "**pdf:** 3"
      ],
      "text/plain": [
       "pdf \n",
       "  3 "
      ]
     },
     "metadata": {},
     "output_type": "display_data"
    },
    {
     "data": {
      "image/png": "[encoded data removed]",
      "text/plain": [
       "Plot with title \"MIMS Calibration Filter\""
      ]
     },
     "metadata": {},
     "output_type": "display_data"
    }
   ],
   "source": [
    "#pdf('Output/Generate MIMS - Calibration Filter - post.pdf')\n",
    "\n",
    "plot(mims$cal$time, mims$cal$O2.Ar, pch=20, ylab='O2/Ar', xlab='', main='MIMS Calibration Filter')\n",
    "lines(mims$cal$time, runmed(mims$cal$O2.Ar, 5), col='red', lwd=2)\n",
    "\n",
    "delta = abs(runmed(mims$cal$O2.Ar, 5) - mims$cal$O2.Ar)\n",
    "l = which(delta > 0.1)\n",
    "points(mims$cal$time[l], mims$cal$O2.Ar[l], pch=16, col='red')\n",
    "\n",
    "lines(mims$cal$time[-l], runmed(mims$cal$O2.Ar[-l], 5))\n",
    "\n",
    "dev.off()"
   ]
  },
  {
   "cell_type": "code",
   "execution_count": 49,
   "metadata": {},
   "outputs": [
    {
     "name": "stdout",
     "output_type": "stream",
     "text": [
      "'data.frame':\t108 obs. of  16 variables:\n",
      " $ cycle: num  14745 21222 27686 34166 1242 ...\n",
      " $ time : POSIXct, format: \"2017-06-01 22:36:08\" \"2017-06-02 01:16:13\" ...\n",
      " $ X18  : num  8.97e-08 9.37e-08 9.34e-08 9.47e-08 4.40e-08 ...\n",
      " $ X28  : num  1.10e-07 1.07e-07 1.08e-07 1.08e-07 6.34e-08 ...\n",
      " $ X32  : num  5.93e-08 5.77e-08 5.89e-08 5.86e-08 3.63e-08 ...\n",
      " $ X40  : num  2.06e-09 2.02e-09 2.05e-09 2.04e-09 1.25e-09 ...\n",
      " $ X44  : num  1.18e-09 1.21e-09 1.21e-09 1.22e-09 7.07e-10 ...\n",
      " $ X45  : num  1.79e-11 1.85e-11 1.87e-11 1.89e-11 1.03e-11 ...\n",
      " $ TP   : num  3.59e-06 3.09e-06 3.46e-06 3.56e-06 3.22e-06 ...\n",
      " $ N2.Ar: num  53.4 52.9 52.7 52.8 50.9 ...\n",
      " $ O2.Ar: num  28.8 28.6 28.7 28.7 29.2 ...\n",
      " $ N2.O2: num  1.86 1.85 1.83 1.84 1.75 ...\n",
      " $ BK.v : num  0 0 0 0 0 0 0 0 0 0 ...\n",
      " $ BK.a : num  0 0 0 0 0 0 0 0 0 0 ...\n",
      " $ BK.w : num  0 0 0 0 0 0 0 0 0 0 ...\n",
      " $ Flag : num  2 2 2 2 2 2 2 2 2 2 ...\n"
     ]
    }
   ],
   "source": [
    "mims$cal = mims$cal[-l,]\n",
    "str(mims$cal)"
   ]
  },
  {
   "cell_type": "markdown",
   "metadata": {},
   "source": [
    "---\n",
    "# 3. Save"
   ]
  },
  {
   "cell_type": "code",
   "execution_count": 52,
   "metadata": {},
   "outputs": [],
   "source": [
    "## Write rdata files\n",
    "#save(mims, file='RStates/MIMS.10sec.120min.rdata')\n",
    "save(mims, file='RStates/MIMS.2min.60min.rdata')\n",
    "\n",
    "## Write human-readable xlsx files\n",
    "#write.xlsx(mims, 'Input Data/MIMS-Preliminary.xlsx')"
   ]
  },
  {
   "cell_type": "code",
   "execution_count": 112,
   "metadata": {
    "collapsed": true
   },
   "outputs": [],
   "source": [
    "load(file='RStates/MIMS.rdata')"
   ]
  },
  {
   "cell_type": "markdown",
   "metadata": {},
   "source": [
    "---\n",
    "# 4. Visualize Data"
   ]
  },
  {
   "cell_type": "code",
   "execution_count": 60,
   "metadata": {},
   "outputs": [
    {
     "data": {
      "text/html": [
       "<strong>pdf:</strong> 3"
      ],
      "text/latex": [
       "\\textbf{pdf:} 3"
      ],
      "text/markdown": [
       "**pdf:** 3"
      ],
      "text/plain": [
       "pdf \n",
       "  3 "
      ]
     },
     "metadata": {},
     "output_type": "display_data"
    },
    {
     "data": {
      "image/png": "[encoded data removed]",
      "text/plain": [
       "plot without title"
      ]
     },
     "metadata": {},
     "output_type": "display_data"
    }
   ],
   "source": [
    "#pdf('Output/MIMS Module - Overview.pdf')\n",
    "\n",
    "par(mfrow=c(2,1))\n",
    "plot(data.main$time, data.main$O2.Ar, pch=16, cex=0.2, ylab='O2/Ar', xlab='', ylim=c(10,40))\n",
    "points(data.cal$time, data.cal$O2.Ar, col='green', pch=16, cex=0.2)\n",
    "\n",
    "plot(data.main$time, data.main$TP, pch=16, cex=0.2, ylab='Pressure', xlab='')\n",
    "\n",
    "dev.off()"
   ]
  },
  {
   "cell_type": "code",
   "execution_count": 7,
   "metadata": {},
   "outputs": [],
   "source": [
    "load('RStates/MIMS.2min.60min.rdata')"
   ]
  },
  {
   "cell_type": "code",
   "execution_count": 61,
   "metadata": {
    "scrolled": false
   },
   "outputs": [
    {
     "data": {
      "text/html": [
       "<strong>png:</strong> 2"
      ],
      "text/latex": [
       "\\textbf{png:} 2"
      ],
      "text/markdown": [
       "**png:** 2"
      ],
      "text/plain": [
       "png \n",
       "  2 "
      ]
     },
     "metadata": {},
     "output_type": "display_data"
    }
   ],
   "source": [
    "pdf('Output/MIMS/Input Module - X32 X40 Daily Summaries.pdf')\n",
    "\n",
    "dt = floor(as.numeric(difftime(mims$sample$time, mims$sample$time[1], units = 'days')))\n",
    "\n",
    "par(mfrow=c(2,2))\n",
    "for (i in min(dt, na.rm = TRUE):max(dt, na.rm = TRUE)) {\n",
    "    l = which(dt == i)\n",
    "    \n",
    "    #col=rep('black', length(l))\n",
    "    col = get.qual.pal(4)\n",
    "    \n",
    "    col[which(mims$sample$X32[l] > 2e-7)] = 'red'\n",
    "    plot(mims$sample$time[l], mims$sample$X32[l], xlab='', ylab='X32', pch=20, cex=0.1, col=col[mims$sample$Flag[l]],\n",
    "         main=mims$sample$time[l[1]], ylim=c(0, 2e-7))\n",
    "    points(mims$cal$time, mims$cal$X32, pch=4, col='black')\n",
    "    \n",
    "    plot(mims$sample$time[l], mims$sample$X40[l], xlab='', ylab='X40', pch=20, cex=0.1, col=col[mims$sample$Flag[l]],\n",
    "         main='Argon', ylim=c(0, 0.6e-8))\n",
    "    points(mims$cal$time, mims$cal$X40, pch=4, col='black')\n",
    "}\n",
    "\n",
    "dev.off()"
   ]
  },
  {
   "cell_type": "code",
   "execution_count": 62,
   "metadata": {},
   "outputs": [
    {
     "data": {
      "text/html": [
       "<strong>png:</strong> 2"
      ],
      "text/latex": [
       "\\textbf{png:} 2"
      ],
      "text/markdown": [
       "**png:** 2"
      ],
      "text/plain": [
       "png \n",
       "  2 "
      ]
     },
     "metadata": {},
     "output_type": "display_data"
    }
   ],
   "source": [
    "pdf('Output/Input MIMS - 24hr O2Ar Summaries.pdf')\n",
    "\n",
    "dt = floor(as.numeric(difftime(mims$sample$time, mims$sample$time[1], units = 'days')))\n",
    "\n",
    "par(mfrow=c(2,2))\n",
    "for (i in min(dt, na.rm = TRUE):max(dt, na.rm = TRUE)) {\n",
    "    l = which(dt == i)\n",
    "    \n",
    "    #col=rep('black', length(l))\n",
    "    col = get.qual.pal(4)\n",
    "    \n",
    "    plot(mims$sample$time[l], mims$sample$O2.Ar[l], xlab='', ylab='X32', pch=20, cex=0.1, col=col[mims$sample$Flag[l]],\n",
    "         main=paste('Day', i, ' - ', mims$sample$time[l[1]]), ylim=c(15, 35))\n",
    "    \n",
    "    points(mims$cal$time, mims$cal$O2.Ar, pch=4, col='black')\n",
    "}\n",
    "\n",
    "dev.off()"
   ]
  }
 ],
 "metadata": {
  "anaconda-cloud": {},
  "kernelspec": {
   "display_name": "R",
   "language": "R",
   "name": "ir"
  },
  "language_info": {
   "codemirror_mode": "r",
   "file_extension": ".r",
   "mimetype": "text/x-r-source",
   "name": "R",
   "pygments_lexer": "r",
   "version": "3.4.2"
  },
  "toc": {
   "nav_menu": {},
   "number_sections": true,
   "sideBar": true,
   "skip_h1_title": false,
   "toc_cell": false,
   "toc_position": {},
   "toc_section_display": "block",
   "toc_window_display": false
  }
 },
 "nbformat": 4,
 "nbformat_minor": 1
}
