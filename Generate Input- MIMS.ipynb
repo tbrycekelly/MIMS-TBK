{
 "cells": [
  {
   "cell_type": "markdown",
   "metadata": {},
   "source": [
    "# Generate Input - MIMS\n",
    "\n",
    "This script manages all the requirements of the raw MIMS data processing. The raw data files are _.xlh_. The script first loads the individual _.xlh_ files via __processFile()__. Next the calibration periods are pulled out leading to two datasets: _data.main_ and _data.cal_. The datasets are averaged and then saved for use in the ___Main Data Merge___ script.\n",
    "\n",
    "### Steps:\n",
    "\n",
    "1. __Setup__\n",
    " * 1b. Calibration\n",
    "\n",
    "2. __Run__\n",
    " * Load the data\n",
    " * Filter and average\n",
    "\n",
    "3. __Save__\n",
    "\n",
    "4. __Visualize__\n",
    " * Plot signal and calibrations\n",
    "\n",
    "5. __Vertical Profiles__\n",
    " * Load and parse vertical profiles\n",
    " * Load Log files\n",
    " * 5b. save\n",
    " \n",
    " \n",
    " \n",
    "---\n",
    "### Functions:\n",
    "__make.calibration.sequence(__t1, t2__)__\n",
    "- Takes two integers (excel date codes) and generates a regular sequence of calibration periods. Useful when calibrations are on a timer or otherwise very predictable.\n",
    "\n",
    "__processFile(__filepath, file, cals, make.img = FALSE, rm.cals = FALSE__)__\n",
    "\n",
    "__take.avg(__x, n = 60__)__\n",
    "\n"
   ]
  },
  {
   "cell_type": "code",
   "execution_count": 1,
   "metadata": {},
   "outputs": [
    {
     "name": "stdout",
     "output_type": "stream",
     "text": [
      "Packages Loaded:\n",
      "ncdf4 R.matlab openxlsx RColorBrewer compiler lattice geosphere readxl data.table rworldmap\n"
     ]
    },
    {
     "name": "stderr",
     "output_type": "stream",
     "text": [
      "Loading required package: ncdf4\n",
      "Loading required package: R.matlab\n",
      "Warning message:\n",
      "\"package 'R.matlab' was built under R version 3.4.2\"R.matlab v3.6.1 (2016-10-19) successfully loaded. See ?R.matlab for help.\n",
      "\n",
      "Attaching package: 'R.matlab'\n",
      "\n",
      "The following objects are masked from 'package:base':\n",
      "\n",
      "    getOption, isOpen\n",
      "\n",
      "Loading required package: openxlsx\n",
      "Loading required package: RColorBrewer\n",
      "Loading required package: compiler\n",
      "Loading required package: lattice\n",
      "Loading required package: geosphere\n",
      "Warning message:\n",
      "\"package 'geosphere' was built under R version 3.4.2\"Loading required package: readxl\n",
      "Loading required package: data.table\n",
      "Loading required package: rworldmap\n",
      "Warning message:\n",
      "\"package 'rworldmap' was built under R version 3.4.3\"Loading required package: sp\n",
      "Warning message:\n",
      "\"package 'sp' was built under R version 3.4.2\"### Welcome to rworldmap ###\n",
      "For a short introduction type : \t vignette('rworldmap')\n"
     ]
    }
   ],
   "source": [
    "source('source.r')"
   ]
  },
  {
   "cell_type": "markdown",
   "metadata": {},
   "source": [
    "---\n",
    "# 1. Setup"
   ]
  },
  {
   "cell_type": "code",
   "execution_count": 2,
   "metadata": {},
   "outputs": [
    {
     "data": {
      "text/html": [
       "75"
      ],
      "text/latex": [
       "75"
      ],
      "text/markdown": [
       "75"
      ],
      "text/plain": [
       "[1] 75"
      ]
     },
     "metadata": {},
     "output_type": "display_data"
    }
   ],
   "source": [
    "input.dir = 'Raw data/MIMS/'\n",
    "\n",
    "## Generate list of files in the directory\n",
    "file.list = list.files(input.dir)\n",
    "\n",
    "## split file.list into usable lists\n",
    "file.list = file.list[grepl('.xlh', file.list)]\n",
    "file.list = file.list[!grepl('profile', file.list)]\n",
    "file.list = file.list[!grepl('csv', file.list)]\n",
    "length(file.list)"
   ]
  },
  {
   "cell_type": "code",
   "execution_count": 22,
   "metadata": {
    "collapsed": true
   },
   "outputs": [],
   "source": [
    "make.calibration.sequence = function(t1, t2) {\n",
    "    cals = c(t1:t2)\n",
    "    cals = c(cals + 0.0423, cals + 0.1674,\n",
    "             cals + 0.2785, cals + 0.4175,\n",
    "             cals + 0.5425, cals + 0.6676,\n",
    "             cals + 0.7926, cals + 0.917)\n",
    "    cals = data.frame(start = cals, stop = cals + 20/(24*60))\n",
    "    cals$start = conv_excel_time(cals$start)\n",
    "    cals$stop = conv_excel_time(cals$stop)\n",
    "    cals\n",
    "}\n",
    "\n",
    "processFile = function(filepath, file, cals, make.img = FALSE, rm.cals = FALSE) {\n",
    "    \n",
    "    ## Empty dataframe to ensure consistency\n",
    "    dat = data.frame(cycle = 0, time = 0, X18 = 0, X28 = 0, X32 = 0, X40 = 0, X44 = 0, \n",
    "                      X45 = 0, TP = 0, N2.Ar = 0, O2.Ar = 0, N2.O2 = 0, BK.v = 0, BK.a = 0, BK.w = 0)\n",
    "    \n",
    "    temp = fread(paste0(input.dir, file), skip=9)\n",
    "    colnames(temp) = colnames(dat)\n",
    "    dat = rbind(dat, temp)\n",
    "\n",
    "    dat$Flag = 1\n",
    "    dat = dat[-1,]\n",
    "    dat$time = conv_excel_time(dat$time)\n",
    "\n",
    "    #### Flag values\n",
    "    ## \n",
    "    ## 1: default\n",
    "    ## 2: calibration period \n",
    "    ## 3: Rejected with N minutes of switch.\n",
    "    ##\n",
    "    for (j in 1:nrow(cals)) {\n",
    "        dt = as.numeric(difftime(dat$time, cals$start[j], units='mins'))\n",
    "        dt2 = as.numeric(difftime(dat$time, cals$stop[j], units='mins'))\n",
    "        \n",
    "        l = which(dt > 0 & dt2 < 0)\n",
    "        dat$Flag[l] = 2 # cal\n",
    "        \n",
    "        l = which(abs(dt) < 4)\n",
    "        dat$Flag[l] = 3 # reject\n",
    "        \n",
    "        l = which(abs(dt2) < 4)\n",
    "        dat$Flag[l] = 3 # reject\n",
    "        \n",
    "    }\n",
    "    \n",
    "    ## Optional output of images for visual inspection, color coded by flag value\n",
    "    if (make.img) {\n",
    "        cols = c('black', 'orange', 'red')\n",
    "    \n",
    "        png(paste0('Output/MIMS/', file, '.png'))\n",
    "        plot(dat$time, dat$O2.Ar, col=cols[dat$Flag], pch=20, ylab='O2/Ar', xlab='', main=file, cex=0.4)\n",
    "        dev.off()\n",
    "    }\n",
    "    \n",
    "    ## Removes the samples located at the start or end of a calibration cycle.\n",
    "    if (rm.cals) {\n",
    "        dat = dat[dat$Flag < 3,]\n",
    "    }\n",
    "    \n",
    "    ## Can conv time to excel time if useful \n",
    "    #dat$time = abs(as.numeric(difftime(as.POSIXct(as.Date(0, origin=\"1899-12-30\", tz=tz)), dat$time, units = 'days')))\n",
    "    \n",
    "    return(dat)\n",
    "}\n",
    "\n",
    "#### take.avg\n",
    "##\n",
    "## This Function accepts a data.frame (x) and returns a 30 second averaged output.\n",
    "## It assumes only columns 3 and up should be averaged (e.g. column 2 is time). It\n",
    "## Also removes gross outliers (O2/Ar ratios over 40 and less than 10).\n",
    "\n",
    "take.avg = function(x, n = 60) {\n",
    "    i = 1\n",
    "    \n",
    "    ## Trim the data\n",
    "    x = as.data.frame(x[x$O2.Ar > 10 & x$O2.Ar < 40,])\n",
    "    \n",
    "    ## Averaging Loop\n",
    "    while (i < nrow(x)) {\n",
    "        dt = as.numeric(difftime(x$time[i], x$time, units = 'sec'))\n",
    "        \n",
    "        ## Determine which entries to average\n",
    "        l = which(dt > dt[i] & dt - dt[i] <= n)\n",
    "        temp = apply(x[l, 3:ncol(x)], 2, function(t) {mean(t, na.rm = TRUE)})\n",
    "        \n",
    "        ## Replace with average then remove all other lines\n",
    "        if (length(l) > 1) {\n",
    "            x[i, c(3:ncol(x))] = temp\n",
    "            l = l[l != i]\n",
    "            if (length(l) > 1) {\n",
    "                x = x[-l,]\n",
    "            }\n",
    "            if (max(dt[l]) < n/2) {\n",
    "                x$Flag[l] = 3\n",
    "            }\n",
    "        } else {\n",
    "            x$Flag[l] = 3\n",
    "        }\n",
    "        i = i + 1\n",
    "    }\n",
    "    x\n",
    "}"
   ]
  },
  {
   "cell_type": "markdown",
   "metadata": {},
   "source": [
    "## 1b. Make calibration"
   ]
  },
  {
   "cell_type": "code",
   "execution_count": 23,
   "metadata": {
    "collapsed": true
   },
   "outputs": [],
   "source": [
    "make.calibration = function(path) {\n",
    "    cals = make.calibration.sequence(42894, 42917)\n",
    "\n",
    "    cal.file = read.xlsx(path, sheet = 'Sheet2')\n",
    "    cal.file$start = conv_excel_time(cal.file$start)\n",
    "    cal.file$stop = conv_excel_time(cal.file$stop)\n",
    "\n",
    "    rbind(cals, cal.file)\n",
    "}\n",
    "\n",
    "cals = make.calibration('Raw Data/MIMS/Calibration MIMS hand readout.xlsx')"
   ]
  },
  {
   "cell_type": "code",
   "execution_count": 24,
   "metadata": {},
   "outputs": [
    {
     "name": "stdout",
     "output_type": "stream",
     "text": [
      "Classes 'data.table' and 'data.frame':\t20965 obs. of  16 variables:\n",
      " $ cycle: num  279439 279440 279441 279442 279443 ...\n",
      " $ time : POSIXct, format: \"2017-06-08 20:00:39\" \"2017-06-08 20:00:40\" ...\n",
      " $ X18  : num  2.87e-08 2.88e-08 2.87e-08 2.87e-08 2.87e-08 ...\n",
      " $ X28  : num  4.86e-08 4.87e-08 4.85e-08 4.85e-08 4.86e-08 ...\n",
      " $ X32  : num  3.07e-08 3.07e-08 3.05e-08 3.06e-08 3.06e-08 ...\n",
      " $ X40  : num  9.79e-10 9.79e-10 9.75e-10 9.75e-10 9.78e-10 ...\n",
      " $ X44  : num  5.22e-10 5.22e-10 5.18e-10 5.18e-10 5.22e-10 ...\n",
      " $ X45  : num  7.05e-12 7.11e-12 7.00e-12 7.21e-12 6.64e-12 ...\n",
      " $ TP   : num  2.79e-06 2.77e-06 2.77e-06 2.77e-06 2.77e-06 ...\n",
      " $ N2.Ar: num  49.7 49.8 49.7 49.7 49.7 ...\n",
      " $ O2.Ar: num  31.4 31.3 31.3 31.3 31.3 ...\n",
      " $ N2.O2: num  1.58 1.59 1.59 1.59 1.59 ...\n",
      " $ BK.v : num  0 0 0 0 0 0 0 0 0 0 ...\n",
      " $ BK.a : num  0 0 0 0 0 0 0 0 0 0 ...\n",
      " $ BK.w : num  0 0 0 0 0 0 0 0 0 0 ...\n",
      " $ Flag : num  1 1 1 1 1 1 1 1 1 1 ...\n",
      " - attr(*, \".internal.selfref\")=<externalptr> \n"
     ]
    }
   ],
   "source": [
    "data = processFile(input.dir, file.list[20], cals, make.img = TRUE)\n",
    "str(data)"
   ]
  },
  {
   "cell_type": "markdown",
   "metadata": {},
   "source": [
    "# 2. Test and Run\n",
    "First time through, let's load the data, apply calibration filter and plot the results. Are we getting it right?\n",
    "\n",
    "Then we can run it for a data merge, removing data between calibration and non-calibration periods."
   ]
  },
  {
   "cell_type": "code",
   "execution_count": 25,
   "metadata": {
    "collapsed": true
   },
   "outputs": [],
   "source": [
    "run = function(file.list, cals, compile = FALSE, make.img = FALSE, rm.cals = FALSE, from.rdata = FALSE) {\n",
    "    \n",
    "    if (from.rdata) {\n",
    "        load(paste0('RStates/MIMS/', file.list[1], '.rdata'))\n",
    "        new.data = data\n",
    "        \n",
    "        for (i in 2:length(file.list)) {\n",
    "            load(paste0('RStates/MIMS/', file.list[i], '.rdata'))\n",
    "            new.data = rbind(new.data, data)\n",
    "        }\n",
    "        return(new.data)\n",
    "    }\n",
    "    \n",
    "    data = processFile(input.dir, file.list[1], cals, make.img = make.img, rm.cals = rm.cals)\n",
    "    if (!compile) {\n",
    "        save(data, file=paste0('RStates/MIMS/', file.list[1], '.rdata'))\n",
    "    }\n",
    "    \n",
    "    for (i in 2:length(file.list)) {\n",
    "        if (compile) {\n",
    "            data = rbind(data, processFile(input.dir, file.list[i], cals, make.img = FALSE, rm.cals = rm.cals))\n",
    "        } else {\n",
    "            data = processFile(input.dir, file.list[i], cals, make.img = make.img, rm.cals = rm.cals)\n",
    "            save(data, file=paste0('RStates/MIMS/', file.list[i], '.rdata'))\n",
    "        }\n",
    "    }\n",
    "    if (compile){\n",
    "        return(data)\n",
    "    }\n",
    "    return(0)\n",
    "}"
   ]
  },
  {
   "cell_type": "code",
   "execution_count": 26,
   "metadata": {},
   "outputs": [
    {
     "data": {
      "text/html": [
       "0"
      ],
      "text/latex": [
       "0"
      ],
      "text/markdown": [
       "0"
      ],
      "text/plain": [
       "[1] 0"
      ]
     },
     "metadata": {},
     "output_type": "display_data"
    }
   ],
   "source": [
    "run(file.list, cals, make.img = TRUE, compile = FALSE)"
   ]
  },
  {
   "cell_type": "code",
   "execution_count": 9,
   "metadata": {
    "collapsed": true
   },
   "outputs": [],
   "source": [
    "data = run(file.list, cals, compile = TRUE, rm.cals = TRUE)"
   ]
  },
  {
   "cell_type": "code",
   "execution_count": 27,
   "metadata": {
    "collapsed": true
   },
   "outputs": [],
   "source": [
    "data = run(file.list, cals, compile = TRUE, rm.cals = TRUE, from.rdata = TRUE)"
   ]
  },
  {
   "cell_type": "markdown",
   "metadata": {},
   "source": [
    "__Apply averaging__ : This will take a while!"
   ]
  },
  {
   "cell_type": "code",
   "execution_count": 28,
   "metadata": {},
   "outputs": [
    {
     "name": "stdout",
     "output_type": "stream",
     "text": [
      "[1] \"Starting Main Averaging:\"\n",
      "[1] \"Done.\"\n",
      "[1] \"Starting Cal Averaging:\"\n",
      "[1] \"Done.\"\n"
     ]
    }
   ],
   "source": [
    "print('Starting Main Averaging:')\n",
    "data.main = take.avg(data[data$Flag == 1,], n = 10)\n",
    "\n",
    "print('Done.')\n",
    "print('Starting Cal Averaging:')\n",
    "data.cal = take.avg(data[data$Flag == 2,], n = 60)\n",
    "print('Done.')"
   ]
  },
  {
   "cell_type": "code",
   "execution_count": 29,
   "metadata": {},
   "outputs": [
    {
     "name": "stdout",
     "output_type": "stream",
     "text": [
      "Classes 'data.table' and 'data.frame':\t1699810 obs. of  16 variables:\n",
      " $ cycle: num  0 1 2 3 4 5 6 7 8 9 ...\n",
      " $ time : POSIXct, format: \"2017-05-31 13:19:56\" \"2017-05-31 13:19:57\" ...\n",
      " $ X18  : num  2.05e-07 2.04e-07 2.04e-07 2.03e-07 2.02e-07 ...\n",
      " $ X28  : num  2.60e-07 2.58e-07 2.57e-07 2.56e-07 2.56e-07 ...\n",
      " $ X32  : num  1.39e-07 1.37e-07 1.37e-07 1.37e-07 1.37e-07 ...\n",
      " $ X40  : num  4.84e-09 4.80e-09 4.78e-09 4.77e-09 4.77e-09 ...\n",
      " $ X44  : num  3.82e-09 3.80e-09 3.79e-09 3.77e-09 3.76e-09 ...\n",
      " $ X45  : num  6.34e-11 6.27e-11 6.21e-11 6.22e-11 6.16e-11 ...\n",
      " $ TP   : num  4.39e-06 4.39e-06 4.39e-06 4.41e-06 4.43e-06 ...\n",
      " $ N2.Ar: num  53.7 53.8 53.8 53.6 53.7 ...\n",
      " $ O2.Ar: num  28.7 28.6 28.6 28.7 28.7 ...\n",
      " $ N2.O2: num  1.87 1.88 1.88 1.87 1.87 ...\n",
      " $ BK.v : num  0 0 0 0 0 0 0 0 0 0 ...\n",
      " $ BK.a : num  0 0 0 0 0 0 0 0 0 0 ...\n",
      " $ BK.w : num  0 0 0 0 0 0 0 0 0 0 ...\n",
      " $ Flag : num  1 1 1 1 1 1 1 1 1 1 ...\n",
      " - attr(*, \".internal.selfref\")=<externalptr> \n"
     ]
    }
   ],
   "source": [
    "str(data)"
   ]
  },
  {
   "cell_type": "markdown",
   "metadata": {},
   "source": [
    "---\n",
    "# 3. Save"
   ]
  },
  {
   "cell_type": "code",
   "execution_count": 30,
   "metadata": {
    "collapsed": true
   },
   "outputs": [],
   "source": [
    "## Write rdata files\n",
    "mims = list(sample = data.main, cal = data.cal)\n",
    "save(mims, file='RStates/MIMS.10sec.1min.rdata')\n",
    "\n",
    "## Write human-readable xlsx files\n",
    "#write.xlsx(mims, 'Input Data/MIMS-Preliminary.xlsx')"
   ]
  },
  {
   "cell_type": "code",
   "execution_count": 112,
   "metadata": {
    "collapsed": true
   },
   "outputs": [],
   "source": [
    "load(file='RStates/MIMS.rdata')"
   ]
  },
  {
   "cell_type": "markdown",
   "metadata": {},
   "source": [
    "---\n",
    "# 4. Visualize Data"
   ]
  },
  {
   "cell_type": "code",
   "execution_count": 31,
   "metadata": {},
   "outputs": [
    {
     "data": {
      "image/png": "[encoded data removed]",
      "text/plain": [
       "plot without title"
      ]
     },
     "metadata": {},
     "output_type": "display_data"
    },
    {
     "data": {
      "image/png": "[encoded data removed]",
      "text/plain": [
       "plot without title"
      ]
     },
     "metadata": {},
     "output_type": "display_data"
    }
   ],
   "source": [
    "#pdf('Output/MIMS Module - Overview.pdf')\n",
    "\n",
    "par(mfrow=c(2,1))\n",
    "plot(data.main$time, data.main$O2.Ar, pch=16, cex=0.2, ylab='O2/Ar', xlab='')\n",
    "points(data.cal$time, data.cal$O2.Ar, col='green', pch=16, cex=0.2)\n",
    "\n",
    "plot(data.main$time, data.main$TP, pch=16, cex=0.2, ylab='Pressure', xlab='')\n",
    "\n",
    "l = c(21000:21600)\n",
    "plot(data$time[l], c(0, diff(data$X18[l]))*1e9, pch=16, cex=0.2, ylab='X18', xlab='')\n",
    "\n",
    "plot(data$time[l], data$TP[l], pch=16, cex=0.2, ylab='Pressure', xlab='')\n",
    "\n",
    "#dev.off()"
   ]
  },
  {
   "cell_type": "markdown",
   "metadata": {
    "collapsed": true
   },
   "source": [
    "---\n",
    "# 5. Vertical Profiles"
   ]
  },
  {
   "cell_type": "code",
   "execution_count": 5,
   "metadata": {},
   "outputs": [
    {
     "data": {
      "text/html": [
       "6"
      ],
      "text/latex": [
       "6"
      ],
      "text/markdown": [
       "6"
      ],
      "text/plain": [
       "[1] 6"
      ]
     },
     "metadata": {},
     "output_type": "display_data"
    }
   ],
   "source": [
    "input.dir = 'Raw data/MIMS/'\n",
    "\n",
    "## Generate list of files in the directory\n",
    "file.list = list.files(input.dir)\n",
    "\n",
    "## split file.list into usable lists\n",
    "file.list = file.list[grepl('.xlh', file.list)]\n",
    "file.list = file.list[grepl('profile', file.list)]\n",
    "file.list = file.list[!grepl('csv', file.list)]\n",
    "length(file.list)"
   ]
  },
  {
   "cell_type": "code",
   "execution_count": 6,
   "metadata": {
    "collapsed": true
   },
   "outputs": [],
   "source": [
    "v.cals = make.calibration('Raw Data/MIMS/Calibration MIMS hand readout.xlsx')"
   ]
  },
  {
   "cell_type": "code",
   "execution_count": 14,
   "metadata": {
    "collapsed": true
   },
   "outputs": [],
   "source": [
    "data1 = processFile(input.dir, file.list[1], cals = v.cals, make.img = TRUE, rm.cals = FALSE)\n",
    "#data2 = processFile(input.dir, file.list[2], cals = v.cals, make.img = TRUE, rm.cals = FALSE)\n",
    "data3 = processFile(input.dir, file.list[3], cals = v.cals, make.img = TRUE, rm.cals = FALSE)\n",
    "\n",
    "#write.xlsx(data1, file=paste0(input.dir, file.list[1], '.xlsx'))\n",
    "#write.xlsx(data2, file=paste0(input.dir, file.list[2], '.xlsx'))\n",
    "#write.xlsx(data3, file=paste0(input.dir, file.list[3], '.xlsx'))"
   ]
  },
  {
   "cell_type": "code",
   "execution_count": 15,
   "metadata": {},
   "outputs": [
    {
     "data": {
      "image/png": "[encoded data removed]",
      "text/plain": [
       "plot without title"
      ]
     },
     "metadata": {},
     "output_type": "display_data"
    }
   ],
   "source": [
    "par(mfrow=c(2,2))\n",
    "cols = get.qual.pal(4)\n",
    "plot(data1$time, data1$O2.Ar, pch=20, col=cols[data1$Flag])\n",
    "#plot(data2$time, data2$O2.Ar, pch=20)\n",
    "plot(data3$time, data3$O2.Ar, pch=20, col=cols[data1$Flag])"
   ]
  },
  {
   "cell_type": "markdown",
   "metadata": {
    "collapsed": true
   },
   "source": [
    "#### "
   ]
  },
  {
   "cell_type": "code",
   "execution_count": null,
   "metadata": {
    "collapsed": true
   },
   "outputs": [],
   "source": []
  },
  {
   "cell_type": "markdown",
   "metadata": {},
   "source": [
    "## 5b. Save"
   ]
  },
  {
   "cell_type": "code",
   "execution_count": null,
   "metadata": {
    "collapsed": true
   },
   "outputs": [],
   "source": []
  }
 ],
 "metadata": {
  "anaconda-cloud": {},
  "kernelspec": {
   "display_name": "R",
   "language": "R",
   "name": "ir"
  },
  "language_info": {
   "codemirror_mode": "r",
   "file_extension": ".r",
   "mimetype": "text/x-r-source",
   "name": "R",
   "pygments_lexer": "r",
   "version": "3.4.1"
  }
 },
 "nbformat": 4,
 "nbformat_minor": 1
}
