{
 "cells": [
  {
   "cell_type": "markdown",
   "metadata": {},
   "source": [
    "# EIMS Data\n",
    "This script will read in the individual EIMS data files from the given directory and compile/prase the data for the model."
   ]
  },
  {
   "cell_type": "code",
   "execution_count": 1,
   "metadata": {
    "ExecuteTime": {
     "end_time": "2018-01-31T16:41:50.521929Z",
     "start_time": "2018-01-31T16:41:48.446Z"
    }
   },
   "outputs": [
    {
     "name": "stdout",
     "output_type": "stream",
     "text": [
      "Packages Loaded:\n",
      "ncdf4 R.matlab openxlsx RColorBrewer compiler lattice geosphere readxl data.table rworldmap rworldxtra\n"
     ]
    },
    {
     "name": "stderr",
     "output_type": "stream",
     "text": [
      "Loading required package: ncdf4\n",
      "Loading required package: R.matlab\n",
      "Warning message:\n",
      "\"package 'R.matlab' was built under R version 3.4.3\"R.matlab v3.6.1 (2016-10-19) successfully loaded. See ?R.matlab for help.\n",
      "\n",
      "Attaching package: 'R.matlab'\n",
      "\n",
      "The following objects are masked from 'package:base':\n",
      "\n",
      "    getOption, isOpen\n",
      "\n",
      "Loading required package: openxlsx\n",
      "Warning message:\n",
      "\"package 'openxlsx' was built under R version 3.4.3\"Loading required package: RColorBrewer\n",
      "Loading required package: compiler\n",
      "Loading required package: lattice\n",
      "Warning message:\n",
      "\"package 'lattice' was built under R version 3.4.3\"Loading required package: geosphere\n",
      "Warning message:\n",
      "\"package 'geosphere' was built under R version 3.4.3\"Loading required package: readxl\n",
      "Loading required package: data.table\n",
      "Warning message:\n",
      "\"package 'data.table' was built under R version 3.4.3\"Loading required package: rworldmap\n",
      "Warning message:\n",
      "\"package 'rworldmap' was built under R version 3.4.3\"Loading required package: sp\n",
      "Warning message:\n",
      "\"package 'sp' was built under R version 3.4.3\"### Welcome to rworldmap ###\n",
      "For a short introduction type : \t vignette('rworldmap')\n",
      "Loading required package: rworldxtra\n",
      "Warning message:\n",
      "\"package 'rworldxtra' was built under R version 3.4.3\""
     ]
    }
   ],
   "source": [
    "source('source.r')"
   ]
  },
  {
   "cell_type": "markdown",
   "metadata": {},
   "source": [
    "# File Input\n",
    "\n",
    "First we need to set the directory and file name criteria of the data to load. We also set the date-time format that the parser will be expecting."
   ]
  },
  {
   "cell_type": "code",
   "execution_count": 2,
   "metadata": {},
   "outputs": [
    {
     "name": "stdout",
     "output_type": "stream",
     "text": [
      "[1] \"Number of files in file.list: 177\"\n",
      "[1] \"Number of files in file.list.2: 76\"\n",
      "[1] \"Number of files in file.list.nu: 5\"\n"
     ]
    }
   ],
   "source": [
    "input.dir = 'Raw Data/EIMS/'\n",
    "output.dir = 'RStates/EIMS/'\n",
    "dt.format = \"%m/%d/%y %I:%M %p\"\n",
    "dt.format2 = \"%m/%d/%y %I:%M\"\n",
    "\n",
    "## Generate list of files in the directory\n",
    "file.list = list.files(input.dir)\n",
    "\n",
    "## split file.list into usable lists\n",
    "file.list.nu = file.list[grepl('not usable', file.list)] # not usable\n",
    "file.list.2 = file.list[grepl('corr.txt', file.list)] # usable\n",
    "\n",
    "## Print total number of files in each category\n",
    "print(paste('Number of files in file.list:', length(file.list)))\n",
    "print(paste('Number of files in file.list.2:', length(file.list.2)))\n",
    "print(paste('Number of files in file.list.nu:', length(file.list.nu)))\n"
   ]
  },
  {
   "cell_type": "code",
   "execution_count": 3,
   "metadata": {},
   "outputs": [
    {
     "data": {
      "text/html": [
       "<ol class=list-inline>\n",
       "\t<li>'2017-0601-1200 MID-valve corr.txt'</li>\n",
       "\t<li>'2017-0601-2031 MID-valve corr.txt'</li>\n",
       "\t<li>'2017-0602-0000 MID-valve corr.txt'</li>\n",
       "\t<li>'2017-0602-1200 MID-valve corr.txt'</li>\n",
       "\t<li>'2017-0602-1449 MID-valve corr.txt'</li>\n",
       "\t<li>'2017-0603-1200 MID-valve corr.txt'</li>\n",
       "\t<li>'2017-0603-1347 MID-valve corr.txt'</li>\n",
       "\t<li>'2017-0603-1548 MID-valve corr.txt'</li>\n",
       "\t<li>'2017-0603-2102 MID-valve corr.txt'</li>\n",
       "\t<li>'2017-0604-0000 MID-valve corr.txt'</li>\n",
       "\t<li>'2017-0604-0448 MID-valve corr.txt'</li>\n",
       "\t<li>'2017-0604-1200 MID-valve corr.txt'</li>\n",
       "\t<li>'2017-0605-0000 MID-valve corr.txt'</li>\n",
       "\t<li>'2017-0605-0440 MID-valve corr.txt'</li>\n",
       "\t<li>'2017-0605-0528 MID-valve corr.txt'</li>\n",
       "\t<li>'2017-0605-1200 MID-valve corr.txt'</li>\n",
       "\t<li>'2017-0606-0000 MID-valve corr.txt'</li>\n",
       "\t<li>'2017-0606-1200 MID-valve corr.txt'</li>\n",
       "\t<li>'2017-0606-1243 MID-valve corr.txt'</li>\n",
       "\t<li>'2017-0606-1259 MID-valve corr.txt'</li>\n",
       "\t<li>'2017-0607-0000 MID-valve corr.txt'</li>\n",
       "\t<li>'2017-0607-1200 MID-valve corr.txt'</li>\n",
       "\t<li>'2017-0608-0000 MID-valve corr.txt'</li>\n",
       "\t<li>'2017-0608-1200 MID-valve-corr.txt'</li>\n",
       "\t<li>'2017-0609-0000 MID-valve corr.txt'</li>\n",
       "\t<li>'2017-0609-1200 MID-valve corr.txt'</li>\n",
       "\t<li>'2017-0610-0000 MID-valve corr.txt'</li>\n",
       "\t<li>'2017-0610-1200 MID-valve corr.txt'</li>\n",
       "\t<li>'2017-0611-0000 MID-valve corr.txt'</li>\n",
       "\t<li>'2017-0611-1200 MID-valve corr.txt'</li>\n",
       "\t<li>'2017-0611-1326 MID-valve corr.txt'</li>\n",
       "\t<li>'2017-0611-1342 MID-valve corr.txt'</li>\n",
       "\t<li>'2017-0612-0000 MID-valve corr.txt'</li>\n",
       "\t<li>'2017-0612-1200 MID-valve corr.txt'</li>\n",
       "\t<li>'2017-0613-0000 MID-valve corr.txt'</li>\n",
       "\t<li>'2017-0613-1200 MID-valve corr.txt'</li>\n",
       "\t<li>'2017-0614-0000 MID-valve corr.txt'</li>\n",
       "\t<li>'2017-0614-1200 MID-valve corr.txt'</li>\n",
       "\t<li>'2017-0614-2001 MID-valve corr.txt'</li>\n",
       "\t<li>'2017-0615-0000 MID-valve corr.txt'</li>\n",
       "\t<li>'2017-0615-1200 MID-valve corr.txt'</li>\n",
       "\t<li>'2017-0616-1200 MID-valve corr.txt'</li>\n",
       "\t<li>'2017-0617-1200 MID-valve corr.txt'</li>\n",
       "\t<li>'2017-0618-0000 MID-valve corr.txt'</li>\n",
       "\t<li>'2017-0618-0620 MID-valve corr.txt'</li>\n",
       "\t<li>'2017-0618-0722 MID-valve corr.txt'</li>\n",
       "\t<li>'2017-0618-1200 MID-valve corr.txt'</li>\n",
       "\t<li>'2017-0619-0000 MID-valve corr.txt'</li>\n",
       "\t<li>'2017-0619-1200 MID-valve corr.txt'</li>\n",
       "\t<li>'2017-0620-0000 MID valve corr.txt'</li>\n",
       "\t<li>'2017-0620-1200 MID-vave corr.txt'</li>\n",
       "\t<li>'2017-0621-0000 MID-valve corr.txt'</li>\n",
       "\t<li>'2017-0621-1200 MID-valve corr.txt'</li>\n",
       "\t<li>'2017-0622-0000 MID-valve corr.txt'</li>\n",
       "\t<li>'2017-0622-1200 MID-valve corr.txt'</li>\n",
       "\t<li>'2017-0623-0000 MID-valve corr.txt'</li>\n",
       "\t<li>'2017-0623-1200 MID-valve corr.txt'</li>\n",
       "\t<li>'2017-0624-0000 MID-valve corr.txt'</li>\n",
       "\t<li>'2017-0624-1200 MID-valve corr.txt'</li>\n",
       "\t<li>'2017-0625-0000 MID-valve corr.txt'</li>\n",
       "\t<li>'2017-0625-0647 MID-valve corr.txt'</li>\n",
       "\t<li>'2017-0625-1200 MID-valve corr.txt'</li>\n",
       "\t<li>'2017-0626-0000 MID-valve corr.txt'</li>\n",
       "\t<li>'2017-0626-1200 MID-valve corr.txt'</li>\n",
       "\t<li>'2017-0627-0000 MID-valve corr.txt'</li>\n",
       "\t<li>'2017-0627-1200 MID-valve corr.txt'</li>\n",
       "\t<li>'2017-0628-0000 MID-valve corr.txt'</li>\n",
       "\t<li>'2017-0628-1200 MID-valve corr.txt'</li>\n",
       "\t<li>'2017-0629-0000 MID-valve corr.txt'</li>\n",
       "\t<li>'2017-0629-1200 MID-valve corr.txt'</li>\n",
       "\t<li>'2017-0630-0000 MID-valve corr.txt'</li>\n",
       "\t<li>'2017-0630-1200 MID-valve corr.txt'</li>\n",
       "\t<li>'2017-0701-0000 MID-valve corr.txt'</li>\n",
       "\t<li>'2017-0701-1200 MID-valve corr.txt'</li>\n",
       "\t<li>'2017-0701-2058 MID-valve corr.txt'</li>\n",
       "\t<li>'2017-0702-0000 MID-valve corr.txt'</li>\n",
       "</ol>\n"
      ],
      "text/latex": [
       "\\begin{enumerate*}\n",
       "\\item '2017-0601-1200 MID-valve corr.txt'\n",
       "\\item '2017-0601-2031 MID-valve corr.txt'\n",
       "\\item '2017-0602-0000 MID-valve corr.txt'\n",
       "\\item '2017-0602-1200 MID-valve corr.txt'\n",
       "\\item '2017-0602-1449 MID-valve corr.txt'\n",
       "\\item '2017-0603-1200 MID-valve corr.txt'\n",
       "\\item '2017-0603-1347 MID-valve corr.txt'\n",
       "\\item '2017-0603-1548 MID-valve corr.txt'\n",
       "\\item '2017-0603-2102 MID-valve corr.txt'\n",
       "\\item '2017-0604-0000 MID-valve corr.txt'\n",
       "\\item '2017-0604-0448 MID-valve corr.txt'\n",
       "\\item '2017-0604-1200 MID-valve corr.txt'\n",
       "\\item '2017-0605-0000 MID-valve corr.txt'\n",
       "\\item '2017-0605-0440 MID-valve corr.txt'\n",
       "\\item '2017-0605-0528 MID-valve corr.txt'\n",
       "\\item '2017-0605-1200 MID-valve corr.txt'\n",
       "\\item '2017-0606-0000 MID-valve corr.txt'\n",
       "\\item '2017-0606-1200 MID-valve corr.txt'\n",
       "\\item '2017-0606-1243 MID-valve corr.txt'\n",
       "\\item '2017-0606-1259 MID-valve corr.txt'\n",
       "\\item '2017-0607-0000 MID-valve corr.txt'\n",
       "\\item '2017-0607-1200 MID-valve corr.txt'\n",
       "\\item '2017-0608-0000 MID-valve corr.txt'\n",
       "\\item '2017-0608-1200 MID-valve-corr.txt'\n",
       "\\item '2017-0609-0000 MID-valve corr.txt'\n",
       "\\item '2017-0609-1200 MID-valve corr.txt'\n",
       "\\item '2017-0610-0000 MID-valve corr.txt'\n",
       "\\item '2017-0610-1200 MID-valve corr.txt'\n",
       "\\item '2017-0611-0000 MID-valve corr.txt'\n",
       "\\item '2017-0611-1200 MID-valve corr.txt'\n",
       "\\item '2017-0611-1326 MID-valve corr.txt'\n",
       "\\item '2017-0611-1342 MID-valve corr.txt'\n",
       "\\item '2017-0612-0000 MID-valve corr.txt'\n",
       "\\item '2017-0612-1200 MID-valve corr.txt'\n",
       "\\item '2017-0613-0000 MID-valve corr.txt'\n",
       "\\item '2017-0613-1200 MID-valve corr.txt'\n",
       "\\item '2017-0614-0000 MID-valve corr.txt'\n",
       "\\item '2017-0614-1200 MID-valve corr.txt'\n",
       "\\item '2017-0614-2001 MID-valve corr.txt'\n",
       "\\item '2017-0615-0000 MID-valve corr.txt'\n",
       "\\item '2017-0615-1200 MID-valve corr.txt'\n",
       "\\item '2017-0616-1200 MID-valve corr.txt'\n",
       "\\item '2017-0617-1200 MID-valve corr.txt'\n",
       "\\item '2017-0618-0000 MID-valve corr.txt'\n",
       "\\item '2017-0618-0620 MID-valve corr.txt'\n",
       "\\item '2017-0618-0722 MID-valve corr.txt'\n",
       "\\item '2017-0618-1200 MID-valve corr.txt'\n",
       "\\item '2017-0619-0000 MID-valve corr.txt'\n",
       "\\item '2017-0619-1200 MID-valve corr.txt'\n",
       "\\item '2017-0620-0000 MID valve corr.txt'\n",
       "\\item '2017-0620-1200 MID-vave corr.txt'\n",
       "\\item '2017-0621-0000 MID-valve corr.txt'\n",
       "\\item '2017-0621-1200 MID-valve corr.txt'\n",
       "\\item '2017-0622-0000 MID-valve corr.txt'\n",
       "\\item '2017-0622-1200 MID-valve corr.txt'\n",
       "\\item '2017-0623-0000 MID-valve corr.txt'\n",
       "\\item '2017-0623-1200 MID-valve corr.txt'\n",
       "\\item '2017-0624-0000 MID-valve corr.txt'\n",
       "\\item '2017-0624-1200 MID-valve corr.txt'\n",
       "\\item '2017-0625-0000 MID-valve corr.txt'\n",
       "\\item '2017-0625-0647 MID-valve corr.txt'\n",
       "\\item '2017-0625-1200 MID-valve corr.txt'\n",
       "\\item '2017-0626-0000 MID-valve corr.txt'\n",
       "\\item '2017-0626-1200 MID-valve corr.txt'\n",
       "\\item '2017-0627-0000 MID-valve corr.txt'\n",
       "\\item '2017-0627-1200 MID-valve corr.txt'\n",
       "\\item '2017-0628-0000 MID-valve corr.txt'\n",
       "\\item '2017-0628-1200 MID-valve corr.txt'\n",
       "\\item '2017-0629-0000 MID-valve corr.txt'\n",
       "\\item '2017-0629-1200 MID-valve corr.txt'\n",
       "\\item '2017-0630-0000 MID-valve corr.txt'\n",
       "\\item '2017-0630-1200 MID-valve corr.txt'\n",
       "\\item '2017-0701-0000 MID-valve corr.txt'\n",
       "\\item '2017-0701-1200 MID-valve corr.txt'\n",
       "\\item '2017-0701-2058 MID-valve corr.txt'\n",
       "\\item '2017-0702-0000 MID-valve corr.txt'\n",
       "\\end{enumerate*}\n"
      ],
      "text/markdown": [
       "1. '2017-0601-1200 MID-valve corr.txt'\n",
       "2. '2017-0601-2031 MID-valve corr.txt'\n",
       "3. '2017-0602-0000 MID-valve corr.txt'\n",
       "4. '2017-0602-1200 MID-valve corr.txt'\n",
       "5. '2017-0602-1449 MID-valve corr.txt'\n",
       "6. '2017-0603-1200 MID-valve corr.txt'\n",
       "7. '2017-0603-1347 MID-valve corr.txt'\n",
       "8. '2017-0603-1548 MID-valve corr.txt'\n",
       "9. '2017-0603-2102 MID-valve corr.txt'\n",
       "10. '2017-0604-0000 MID-valve corr.txt'\n",
       "11. '2017-0604-0448 MID-valve corr.txt'\n",
       "12. '2017-0604-1200 MID-valve corr.txt'\n",
       "13. '2017-0605-0000 MID-valve corr.txt'\n",
       "14. '2017-0605-0440 MID-valve corr.txt'\n",
       "15. '2017-0605-0528 MID-valve corr.txt'\n",
       "16. '2017-0605-1200 MID-valve corr.txt'\n",
       "17. '2017-0606-0000 MID-valve corr.txt'\n",
       "18. '2017-0606-1200 MID-valve corr.txt'\n",
       "19. '2017-0606-1243 MID-valve corr.txt'\n",
       "20. '2017-0606-1259 MID-valve corr.txt'\n",
       "21. '2017-0607-0000 MID-valve corr.txt'\n",
       "22. '2017-0607-1200 MID-valve corr.txt'\n",
       "23. '2017-0608-0000 MID-valve corr.txt'\n",
       "24. '2017-0608-1200 MID-valve-corr.txt'\n",
       "25. '2017-0609-0000 MID-valve corr.txt'\n",
       "26. '2017-0609-1200 MID-valve corr.txt'\n",
       "27. '2017-0610-0000 MID-valve corr.txt'\n",
       "28. '2017-0610-1200 MID-valve corr.txt'\n",
       "29. '2017-0611-0000 MID-valve corr.txt'\n",
       "30. '2017-0611-1200 MID-valve corr.txt'\n",
       "31. '2017-0611-1326 MID-valve corr.txt'\n",
       "32. '2017-0611-1342 MID-valve corr.txt'\n",
       "33. '2017-0612-0000 MID-valve corr.txt'\n",
       "34. '2017-0612-1200 MID-valve corr.txt'\n",
       "35. '2017-0613-0000 MID-valve corr.txt'\n",
       "36. '2017-0613-1200 MID-valve corr.txt'\n",
       "37. '2017-0614-0000 MID-valve corr.txt'\n",
       "38. '2017-0614-1200 MID-valve corr.txt'\n",
       "39. '2017-0614-2001 MID-valve corr.txt'\n",
       "40. '2017-0615-0000 MID-valve corr.txt'\n",
       "41. '2017-0615-1200 MID-valve corr.txt'\n",
       "42. '2017-0616-1200 MID-valve corr.txt'\n",
       "43. '2017-0617-1200 MID-valve corr.txt'\n",
       "44. '2017-0618-0000 MID-valve corr.txt'\n",
       "45. '2017-0618-0620 MID-valve corr.txt'\n",
       "46. '2017-0618-0722 MID-valve corr.txt'\n",
       "47. '2017-0618-1200 MID-valve corr.txt'\n",
       "48. '2017-0619-0000 MID-valve corr.txt'\n",
       "49. '2017-0619-1200 MID-valve corr.txt'\n",
       "50. '2017-0620-0000 MID valve corr.txt'\n",
       "51. '2017-0620-1200 MID-vave corr.txt'\n",
       "52. '2017-0621-0000 MID-valve corr.txt'\n",
       "53. '2017-0621-1200 MID-valve corr.txt'\n",
       "54. '2017-0622-0000 MID-valve corr.txt'\n",
       "55. '2017-0622-1200 MID-valve corr.txt'\n",
       "56. '2017-0623-0000 MID-valve corr.txt'\n",
       "57. '2017-0623-1200 MID-valve corr.txt'\n",
       "58. '2017-0624-0000 MID-valve corr.txt'\n",
       "59. '2017-0624-1200 MID-valve corr.txt'\n",
       "60. '2017-0625-0000 MID-valve corr.txt'\n",
       "61. '2017-0625-0647 MID-valve corr.txt'\n",
       "62. '2017-0625-1200 MID-valve corr.txt'\n",
       "63. '2017-0626-0000 MID-valve corr.txt'\n",
       "64. '2017-0626-1200 MID-valve corr.txt'\n",
       "65. '2017-0627-0000 MID-valve corr.txt'\n",
       "66. '2017-0627-1200 MID-valve corr.txt'\n",
       "67. '2017-0628-0000 MID-valve corr.txt'\n",
       "68. '2017-0628-1200 MID-valve corr.txt'\n",
       "69. '2017-0629-0000 MID-valve corr.txt'\n",
       "70. '2017-0629-1200 MID-valve corr.txt'\n",
       "71. '2017-0630-0000 MID-valve corr.txt'\n",
       "72. '2017-0630-1200 MID-valve corr.txt'\n",
       "73. '2017-0701-0000 MID-valve corr.txt'\n",
       "74. '2017-0701-1200 MID-valve corr.txt'\n",
       "75. '2017-0701-2058 MID-valve corr.txt'\n",
       "76. '2017-0702-0000 MID-valve corr.txt'\n",
       "\n",
       "\n"
      ],
      "text/plain": [
       " [1] \"2017-0601-1200 MID-valve corr.txt\" \"2017-0601-2031 MID-valve corr.txt\"\n",
       " [3] \"2017-0602-0000 MID-valve corr.txt\" \"2017-0602-1200 MID-valve corr.txt\"\n",
       " [5] \"2017-0602-1449 MID-valve corr.txt\" \"2017-0603-1200 MID-valve corr.txt\"\n",
       " [7] \"2017-0603-1347 MID-valve corr.txt\" \"2017-0603-1548 MID-valve corr.txt\"\n",
       " [9] \"2017-0603-2102 MID-valve corr.txt\" \"2017-0604-0000 MID-valve corr.txt\"\n",
       "[11] \"2017-0604-0448 MID-valve corr.txt\" \"2017-0604-1200 MID-valve corr.txt\"\n",
       "[13] \"2017-0605-0000 MID-valve corr.txt\" \"2017-0605-0440 MID-valve corr.txt\"\n",
       "[15] \"2017-0605-0528 MID-valve corr.txt\" \"2017-0605-1200 MID-valve corr.txt\"\n",
       "[17] \"2017-0606-0000 MID-valve corr.txt\" \"2017-0606-1200 MID-valve corr.txt\"\n",
       "[19] \"2017-0606-1243 MID-valve corr.txt\" \"2017-0606-1259 MID-valve corr.txt\"\n",
       "[21] \"2017-0607-0000 MID-valve corr.txt\" \"2017-0607-1200 MID-valve corr.txt\"\n",
       "[23] \"2017-0608-0000 MID-valve corr.txt\" \"2017-0608-1200 MID-valve-corr.txt\"\n",
       "[25] \"2017-0609-0000 MID-valve corr.txt\" \"2017-0609-1200 MID-valve corr.txt\"\n",
       "[27] \"2017-0610-0000 MID-valve corr.txt\" \"2017-0610-1200 MID-valve corr.txt\"\n",
       "[29] \"2017-0611-0000 MID-valve corr.txt\" \"2017-0611-1200 MID-valve corr.txt\"\n",
       "[31] \"2017-0611-1326 MID-valve corr.txt\" \"2017-0611-1342 MID-valve corr.txt\"\n",
       "[33] \"2017-0612-0000 MID-valve corr.txt\" \"2017-0612-1200 MID-valve corr.txt\"\n",
       "[35] \"2017-0613-0000 MID-valve corr.txt\" \"2017-0613-1200 MID-valve corr.txt\"\n",
       "[37] \"2017-0614-0000 MID-valve corr.txt\" \"2017-0614-1200 MID-valve corr.txt\"\n",
       "[39] \"2017-0614-2001 MID-valve corr.txt\" \"2017-0615-0000 MID-valve corr.txt\"\n",
       "[41] \"2017-0615-1200 MID-valve corr.txt\" \"2017-0616-1200 MID-valve corr.txt\"\n",
       "[43] \"2017-0617-1200 MID-valve corr.txt\" \"2017-0618-0000 MID-valve corr.txt\"\n",
       "[45] \"2017-0618-0620 MID-valve corr.txt\" \"2017-0618-0722 MID-valve corr.txt\"\n",
       "[47] \"2017-0618-1200 MID-valve corr.txt\" \"2017-0619-0000 MID-valve corr.txt\"\n",
       "[49] \"2017-0619-1200 MID-valve corr.txt\" \"2017-0620-0000 MID valve corr.txt\"\n",
       "[51] \"2017-0620-1200 MID-vave corr.txt\"  \"2017-0621-0000 MID-valve corr.txt\"\n",
       "[53] \"2017-0621-1200 MID-valve corr.txt\" \"2017-0622-0000 MID-valve corr.txt\"\n",
       "[55] \"2017-0622-1200 MID-valve corr.txt\" \"2017-0623-0000 MID-valve corr.txt\"\n",
       "[57] \"2017-0623-1200 MID-valve corr.txt\" \"2017-0624-0000 MID-valve corr.txt\"\n",
       "[59] \"2017-0624-1200 MID-valve corr.txt\" \"2017-0625-0000 MID-valve corr.txt\"\n",
       "[61] \"2017-0625-0647 MID-valve corr.txt\" \"2017-0625-1200 MID-valve corr.txt\"\n",
       "[63] \"2017-0626-0000 MID-valve corr.txt\" \"2017-0626-1200 MID-valve corr.txt\"\n",
       "[65] \"2017-0627-0000 MID-valve corr.txt\" \"2017-0627-1200 MID-valve corr.txt\"\n",
       "[67] \"2017-0628-0000 MID-valve corr.txt\" \"2017-0628-1200 MID-valve corr.txt\"\n",
       "[69] \"2017-0629-0000 MID-valve corr.txt\" \"2017-0629-1200 MID-valve corr.txt\"\n",
       "[71] \"2017-0630-0000 MID-valve corr.txt\" \"2017-0630-1200 MID-valve corr.txt\"\n",
       "[73] \"2017-0701-0000 MID-valve corr.txt\" \"2017-0701-1200 MID-valve corr.txt\"\n",
       "[75] \"2017-0701-2058 MID-valve corr.txt\" \"2017-0702-0000 MID-valve corr.txt\""
      ]
     },
     "metadata": {},
     "output_type": "display_data"
    }
   ],
   "source": [
    "file.list.2"
   ]
  },
  {
   "cell_type": "code",
   "execution_count": 4,
   "metadata": {},
   "outputs": [
    {
     "data": {
      "text/html": [
       "'2017-0604-0000 MID-valve corr.txt'"
      ],
      "text/latex": [
       "'2017-0604-0000 MID-valve corr.txt'"
      ],
      "text/markdown": [
       "'2017-0604-0000 MID-valve corr.txt'"
      ],
      "text/plain": [
       "[1] \"2017-0604-0000 MID-valve corr.txt\""
      ]
     },
     "metadata": {},
     "output_type": "display_data"
    },
    {
     "data": {
      "text/plain": [
       "[1] \"2021-06-05 04:26:00 UTC\""
      ]
     },
     "metadata": {},
     "output_type": "display_data"
    }
   ],
   "source": [
    "## Read in first data file and configure formatting around it\n",
    "data = read.csv(paste0(input.dir, file.list.2[12]), sep='\\t')\n",
    "file.list.2[10]\n",
    "data$time = strptime(data$time, format = dt.format2, tz='UTC')\n",
    "\n",
    "data$time[10] # Sample value"
   ]
  },
  {
   "cell_type": "markdown",
   "metadata": {},
   "source": [
    "# Main Functions\n",
    "\n",
    "These functions will do the heavy lifting for the EIMS preparation. The __avg.eims()__ generates the average of N minutes of samples while __filter.eims()__ goes QC type of work by removing high/low pressure samples and handles missing values."
   ]
  },
  {
   "cell_type": "code",
   "execution_count": 5,
   "metadata": {},
   "outputs": [],
   "source": [
    "## Average\n",
    "avg.eims = function(x, N, flag = 1) {\n",
    "    i = 1\n",
    "    \n",
    "    while (i < nrow(x)) {\n",
    "        dt = as.numeric(difftime(x$time, x$time[i], unit='secs'))\n",
    "        l = which(dt >= 0 & dt < N*60)\n",
    "        \n",
    "        ## Calculate the mean of the relevant columns, removing na's\n",
    "        if (flag == 1) {\n",
    "            x[i, 3:ncol(x)] = apply(x[l, 3:ncol(x)], 2, function(x) {mean(x, na.rm = TRUE)})\n",
    "        } else {\n",
    "            x[i, 3:ncol(x)] = apply(x[l, 3:ncol(x)], 2, function(x) {median(x, na.rm = TRUE)})\n",
    "        }\n",
    "        \n",
    "        if (max(dt[l], na.rm = TRUE, 0) <= N / 2) {\n",
    "            x$Flag[i] = 3\n",
    "        }\n",
    "    \n",
    "        if (length(l) > 1) {\n",
    "            l = l[l != i]\n",
    "            if (length(l) > 1) {\n",
    "                x = x[-l,]\n",
    "            }\n",
    "        }\n",
    "        i = i + 1\n",
    "    }\n",
    "    x\n",
    "}\n",
    "\n",
    "## Prepare filter function\n",
    "filter.eims = function(x) {\n",
    "    x$Flag = 1\n",
    "    \n",
    "    ## Remove entries where flow not within 5% of 100\n",
    "    x$Flag[x$flow > 105 | x$flow < 95] = 3 # Reject\n",
    "    x$Flag[x$O2.Ar > 35 | x$O2.Ar < 16] = 3 # Reject\n",
    "    \n",
    "    ## Remove first 2 minute (safer to remove bad data than to keep it)\n",
    "    l = which(as.numeric(difftime(x$time, x$time[1], unit='mins'))^2 < 2)\n",
    "    x$Flag[l] = 3 # Reject\n",
    "    \n",
    "    ## Remove last 2 minute (safer to remove bad data than to keep it)\n",
    "    l = which(as.numeric(difftime(x$time, x$time[nrow(x)], unit='mins'))^2 < 2)\n",
    "    x$Flag[l] = 3 # Reject\n",
    "    \n",
    "    ## find all valve switches and remove all entries within a miute of it.\n",
    "    l = which(diff(x$Valve) != 0)\n",
    "    for (i in l) {\n",
    "        dt = abs(as.numeric(difftime(x$time[i], x$time, unit='mins')))     \n",
    "        x$Flag[which(dt <= 1)] = 3 # Reject\n",
    "    }\n",
    "    ## Remove NA O2Ar entries\n",
    "    x$Flag[is.na(x$O2.Ar)] = 3 # Reject\n",
    "    \n",
    "    x$Flag[x$Valve == 2] = 2 # Calibration\n",
    "    #x$Flag[is.na(x$Valve)] = 3 # Reject unknown valve\n",
    "    \n",
    "    x\n",
    "}"
   ]
  },
  {
   "cell_type": "markdown",
   "metadata": {},
   "source": [
    "## Check the filter and avg functions"
   ]
  },
  {
   "cell_type": "code",
   "execution_count": 6,
   "metadata": {
    "scrolled": true
   },
   "outputs": [
    {
     "data": {
      "image/png": "[encoded data removed]",
      "text/plain": [
       "Plot with title \"Flag Values\""
      ]
     },
     "metadata": {},
     "output_type": "display_data"
    },
    {
     "data": {
      "image/png": "[encoded data removed]",
      "text/plain": [
       "Plot with title \"Averaging\""
      ]
     },
     "metadata": {},
     "output_type": "display_data"
    }
   ],
   "source": [
    "## Copy of data to run through filter (for tuning the filter parameters)\n",
    "temp = data\n",
    "temp = filter.eims(temp)\n",
    "temp.avg = avg.eims(temp[temp$Flag == 1,], 120, flag = 1) # N = 2 min = 120 seconds\n",
    "temp.cal = avg.eims(temp[temp$Flag == 2,], 120, flag = 2) # N = 2 min = 120 seconds\n",
    "\n",
    "## Plot preliminary figures for visual check.\n",
    "plot(temp$time, temp$O2.Ar, col = temp$Flag, pch=20, ylab='O2/Ar', xlab='', yaxs='i', main='Flag Values')\n",
    "\n",
    "plot(temp.avg$time, temp.avg$O2.Ar, col = \"blue\", pch=16, ylab='O2/Ar', xlab='', yaxs='i', main='Averaging')\n",
    "points(temp$time, temp$O2.Ar, col = \"#00000020\", pch=20, cex=0.3)\n",
    "points(temp.cal$time, temp.cal$O2.Ar, col = \"red\", pch=20, cex=1.5)"
   ]
  },
  {
   "cell_type": "code",
   "execution_count": 6,
   "metadata": {
    "scrolled": false
   },
   "outputs": [],
   "source": [
    "read.eims = function(valve = 1, input.dir, file.list, N = 2, verbose = FALSE, template = data, make.img = FALSE) {\n",
    "    ## Create template data structure to add new entries to:\n",
    "    dat = template[1,] # valve = 1\n",
    "    dat$Flag = 0\n",
    "    \n",
    "    for (i in file.list) {\n",
    "        \n",
    "        #### load file and parse the time and filter the values\n",
    "        data = read.csv(paste0(input.dir, i), sep='\\t')\n",
    "        if (grepl('M', data$time[1])) {\n",
    "            data$time = strptime(data$time, format = dt.format, tz='GMT')\n",
    "        } else {\n",
    "            data$time = strptime(data$time, format = dt.format2, tz='GMT')\n",
    "        }\n",
    "        \n",
    "        data$Flag = 0\n",
    "        \n",
    "        ## Filter\n",
    "        data = filter.eims(data)\n",
    "        \n",
    "        if (make.img) {\n",
    "            cols = c('black', 'orange', 'red')\n",
    "    \n",
    "            png(file = paste0('Output/EIMS/', i, '-valve-', valve, '.png'))\n",
    "            try({plot(data$time, data$O2.Ar, col=cols[data$Flag], pch=20, ylab='O2/Ar', xlab='', main=i, cex=0.2)})\n",
    "            \n",
    "        }\n",
    "        \n",
    "        ## Verbose\n",
    "        if (verbose) { print(paste(\"Loaded file:\", i)) }\n",
    "        \n",
    "        #### determine valve  \n",
    "        l = which(data$Valve == valve)\n",
    "        temp = avg.eims(data[l,], N, valve)\n",
    "        #temp = data[l,]\n",
    "        \n",
    "        if (make.img) {\n",
    "            if (valve == 2) {\n",
    "                points(temp$time, temp$O2.Ar, pch=7)\n",
    "                lines(temp$time, temp$O2.Ar, col='#00000080')\n",
    "            }\n",
    "            dev.off()\n",
    "        }\n",
    "        \n",
    "        if (length(names(temp)) == length(names(dat))) {\n",
    "            ## Do the column names match?\n",
    "            names(temp) = names(dat) # Force colname match (dangerous), but will check that lengths are the same\n",
    "            dat = rbind(dat, temp)\n",
    "            \n",
    "            if (verbose) { print(paste('  Added', nrow(temp),'to valve 1.')) }\n",
    "            \n",
    "        }\n",
    "        else {print('error'); print(i)}\n",
    "    }\n",
    "\n",
    "\n",
    "    ## Remove the first row used to initiate the table\n",
    "    dat = dat[-1,]\n",
    "    dat = dat[,-c(13, 14, 15, 23, 24, 25)]\n",
    "    \n",
    "    dat\n",
    "}"
   ]
  },
  {
   "cell_type": "markdown",
   "metadata": {},
   "source": [
    "## Run the parser\n",
    "This will initialize the parser for valve = 1 (sampling) and then valve = 2 (calibration). Included in this is the ___filter.eims()___ and ___take.avg()___ functions.\n",
    "\n",
    "__NB This will take a while...__"
   ]
  },
  {
   "cell_type": "code",
   "execution_count": 10,
   "metadata": {
    "scrolled": true
   },
   "outputs": [
    {
     "name": "stdout",
     "output_type": "stream",
     "text": [
      "[1] \"Loaded file: 2017-0601-1200 MID-valve corr.txt\"\n",
      "[1] \"  Added 42 to valve 1.\"\n",
      "[1] \"Loaded file: 2017-0601-2031 MID-valve corr.txt\"\n",
      "[1] \"  Added 76 to valve 1.\"\n",
      "[1] \"Loaded file: 2017-0602-0000 MID-valve corr.txt\"\n",
      "[1] \"  Added 320 to valve 1.\"\n",
      "[1] \"Loaded file: 2017-0602-1200 MID-valve corr.txt\"\n",
      "[1] \"  Added 82 to valve 1.\"\n",
      "[1] \"Loaded file: 2017-0602-1449 MID-valve corr.txt\"\n",
      "[1] \"  Added 251 to valve 1.\"\n",
      "[1] \"Loaded file: 2017-0603-1200 MID-valve corr.txt\"\n",
      "[1] \"  Added 49 to valve 1.\"\n",
      "[1] \"Loaded file: 2017-0603-1347 MID-valve corr.txt\"\n",
      "[1] \"  Added 58 to valve 1.\"\n",
      "[1] \"Loaded file: 2017-0603-1548 MID-valve corr.txt\"\n",
      "[1] \"  Added 145 to valve 1.\"\n"
     ]
    },
    {
     "name": "stderr",
     "output_type": "stream",
     "text": [
      "Warning message in min(x):\n",
      "\"no non-missing arguments to min; returning Inf\"Warning message in max(x):\n",
      "\"no non-missing arguments to max; returning -Inf\""
     ]
    },
    {
     "name": "stdout",
     "output_type": "stream",
     "text": [
      "[1] \"Loaded file: 2017-0603-2102 MID-valve corr.txt\"\n",
      "[1] \"  Added 5546 to valve 1.\"\n",
      "[1] \"Loaded file: 2017-0604-0000 MID-valve corr.txt\"\n",
      "[1] \"  Added 2669 to valve 1.\"\n",
      "[1] \"Loaded file: 2017-0604-0448 MID-valve corr.txt\"\n",
      "[1] \"  Added 218 to valve 1.\"\n",
      "[1] \"Loaded file: 2017-0604-1200 MID-valve corr.txt\"\n",
      "[1] \"  Added 211 to valve 1.\"\n",
      "[1] \"Loaded file: 2017-0605-0000 MID-valve corr.txt\"\n",
      "[1] \"  Added 2836 to valve 1.\"\n",
      "[1] \"Loaded file: 2017-0605-0440 MID-valve corr.txt\"\n",
      "[1] \"  Added 21 to valve 1.\"\n",
      "[1] \"Loaded file: 2017-0605-0528 MID-valve corr.txt\"\n",
      "[1] \"  Added 196 to valve 1.\"\n",
      "[1] \"Loaded file: 2017-0605-1200 MID-valve corr.txt\"\n",
      "[1] \"  Added 0 to valve 1.\"\n",
      "[1] \"Loaded file: 2017-0606-0000 MID-valve corr.txt\"\n",
      "[1] \"  Added 51 to valve 1.\"\n",
      "[1] \"Loaded file: 2017-0606-1200 MID-valve corr.txt\"\n",
      "[1] \"  Added 0 to valve 1.\"\n",
      "[1] \"Loaded file: 2017-0606-1243 MID-valve corr.txt\"\n",
      "[1] \"  Added 0 to valve 1.\"\n",
      "[1] \"Loaded file: 2017-0606-1259 MID-valve corr.txt\"\n",
      "[1] \"  Added 290 to valve 1.\"\n",
      "[1] \"Loaded file: 2017-0607-0000 MID-valve corr.txt\"\n",
      "[1] \"  Added 3092 to valve 1.\"\n",
      "[1] \"Loaded file: 2017-0607-1200 MID-valve corr.txt\"\n",
      "[1] \"  Added 341 to valve 1.\"\n",
      "[1] \"Loaded file: 2017-0608-0000 MID-valve corr.txt\"\n",
      "[1] \"  Added 324 to valve 1.\"\n",
      "[1] \"Loaded file: 2017-0608-1200 MID-valve-corr.txt\"\n",
      "[1] \"  Added 13226 to valve 1.\"\n",
      "[1] \"Loaded file: 2017-0609-0000 MID-valve corr.txt\"\n",
      "[1] \"  Added 3031 to valve 1.\"\n",
      "[1] \"Loaded file: 2017-0609-1200 MID-valve corr.txt\"\n",
      "[1] \"  Added 4372 to valve 1.\"\n",
      "[1] \"Loaded file: 2017-0610-0000 MID-valve corr.txt\"\n",
      "[1] \"  Added 1420 to valve 1.\"\n",
      "[1] \"Loaded file: 2017-0610-1200 MID-valve corr.txt\"\n",
      "[1] \"  Added 0 to valve 1.\"\n",
      "[1] \"Loaded file: 2017-0611-0000 MID-valve corr.txt\"\n",
      "[1] \"  Added 3073 to valve 1.\"\n",
      "[1] \"Loaded file: 2017-0611-1200 MID-valve corr.txt\"\n",
      "[1] \"  Added 807 to valve 1.\"\n",
      "[1] \"Loaded file: 2017-0611-1326 MID-valve corr.txt\"\n",
      "[1] \"  Added 1 to valve 1.\"\n"
     ]
    },
    {
     "name": "stderr",
     "output_type": "stream",
     "text": [
      "Warning message in min(x):\n",
      "\"no non-missing arguments to min; returning Inf\"Warning message in max(x):\n",
      "\"no non-missing arguments to max; returning -Inf\""
     ]
    },
    {
     "name": "stdout",
     "output_type": "stream",
     "text": [
      "[1] \"Loaded file: 2017-0611-1342 MID-valve corr.txt\"\n",
      "[1] \"  Added 16512 to valve 1.\"\n",
      "[1] \"Loaded file: 2017-0612-0000 MID-valve corr.txt\"\n",
      "[1] \"  Added 3056 to valve 1.\"\n",
      "[1] \"Loaded file: 2017-0612-1200 MID-valve corr.txt\"\n",
      "[1] \"  Added 28211 to valve 1.\"\n",
      "[1] \"Loaded file: 2017-0613-0000 MID-valve corr.txt\"\n",
      "[1] \"  Added 315 to valve 1.\"\n",
      "[1] \"Loaded file: 2017-0613-1200 MID-valve corr.txt\"\n",
      "[1] \"  Added 334 to valve 1.\"\n",
      "[1] \"Loaded file: 2017-0614-0000 MID-valve corr.txt\"\n",
      "[1] \"  Added 3050 to valve 1.\"\n",
      "[1] \"Loaded file: 2017-0614-1200 MID-valve corr.txt\"\n",
      "[1] \"  Added 215 to valve 1.\"\n"
     ]
    },
    {
     "name": "stderr",
     "output_type": "stream",
     "text": [
      "Warning message in min(x):\n",
      "\"no non-missing arguments to min; returning Inf\"Warning message in max(x):\n",
      "\"no non-missing arguments to max; returning -Inf\""
     ]
    },
    {
     "name": "stdout",
     "output_type": "stream",
     "text": [
      "[1] \"Loaded file: 2017-0614-2001 MID-valve corr.txt\"\n",
      "[1] \"  Added 10076 to valve 1.\"\n",
      "[1] \"Loaded file: 2017-0615-0000 MID-valve corr.txt\"\n",
      "[1] \"  Added 321 to valve 1.\"\n",
      "[1] \"Loaded file: 2017-0615-1200 MID-valve corr.txt\"\n",
      "[1] \"  Added 284 to valve 1.\"\n",
      "[1] \"Loaded file: 2017-0616-1200 MID-valve corr.txt\"\n",
      "[1] \"  Added 289 to valve 1.\"\n",
      "[1] \"Loaded file: 2017-0617-1200 MID-valve corr.txt\"\n",
      "[1] \"  Added 326 to valve 1.\"\n",
      "[1] \"Loaded file: 2017-0618-0000 MID-valve corr.txt\"\n",
      "[1] \"  Added 176 to valve 1.\"\n",
      "[1] \"Loaded file: 2017-0618-0620 MID-valve corr.txt\"\n",
      "[1] \"  Added 18 to valve 1.\"\n",
      "[1] \"Loaded file: 2017-0618-0722 MID-valve corr.txt\"\n",
      "[1] \"  Added 122 to valve 1.\"\n",
      "[1] \"Loaded file: 2017-0618-1200 MID-valve corr.txt\"\n",
      "[1] \"  Added 331 to valve 1.\"\n",
      "[1] \"Loaded file: 2017-0619-0000 MID-valve corr.txt\"\n",
      "[1] \"  Added 326 to valve 1.\"\n",
      "[1] \"Loaded file: 2017-0619-1200 MID-valve corr.txt\"\n",
      "[1] \"  Added 326 to valve 1.\"\n",
      "[1] \"Loaded file: 2017-0620-0000 MID valve corr.txt\"\n",
      "[1] \"  Added 338 to valve 1.\"\n",
      "[1] \"Loaded file: 2017-0620-1200 MID-vave corr.txt\"\n",
      "[1] \"  Added 326 to valve 1.\"\n",
      "[1] \"Loaded file: 2017-0621-0000 MID-valve corr.txt\"\n",
      "[1] \"  Added 326 to valve 1.\"\n",
      "[1] \"Loaded file: 2017-0621-1200 MID-valve corr.txt\"\n",
      "[1] \"  Added 330 to valve 1.\"\n",
      "[1] \"Loaded file: 2017-0622-0000 MID-valve corr.txt\"\n",
      "[1] \"  Added 333 to valve 1.\"\n",
      "[1] \"Loaded file: 2017-0622-1200 MID-valve corr.txt\"\n",
      "[1] \"  Added 326 to valve 1.\"\n",
      "[1] \"Loaded file: 2017-0623-0000 MID-valve corr.txt\"\n",
      "[1] \"  Added 324 to valve 1.\"\n",
      "[1] \"Loaded file: 2017-0623-1200 MID-valve corr.txt\"\n",
      "[1] \"  Added 338 to valve 1.\"\n",
      "[1] \"Loaded file: 2017-0624-0000 MID-valve corr.txt\"\n",
      "[1] \"  Added 338 to valve 1.\"\n",
      "[1] \"Loaded file: 2017-0624-1200 MID-valve corr.txt\"\n",
      "[1] \"  Added 337 to valve 1.\"\n",
      "[1] \"Loaded file: 2017-0625-0000 MID-valve corr.txt\"\n",
      "[1] \"  Added 182 to valve 1.\"\n",
      "[1] \"Loaded file: 2017-0625-0647 MID-valve corr.txt\"\n",
      "[1] \"  Added 56 to valve 1.\"\n",
      "[1] \"Loaded file: 2017-0625-1200 MID-valve corr.txt\"\n",
      "[1] \"  Added 335 to valve 1.\"\n",
      "[1] \"Loaded file: 2017-0626-0000 MID-valve corr.txt\"\n",
      "[1] \"  Added 326 to valve 1.\"\n",
      "[1] \"Loaded file: 2017-0626-1200 MID-valve corr.txt\"\n",
      "[1] \"  Added 149 to valve 1.\"\n",
      "[1] \"Loaded file: 2017-0627-0000 MID-valve corr.txt\"\n",
      "[1] \"  Added 326 to valve 1.\"\n",
      "[1] \"Loaded file: 2017-0627-1200 MID-valve corr.txt\"\n",
      "[1] \"  Added 326 to valve 1.\"\n",
      "[1] \"Loaded file: 2017-0628-0000 MID-valve corr.txt\"\n",
      "[1] \"  Added 3091 to valve 1.\"\n",
      "[1] \"Loaded file: 2017-0628-1200 MID-valve corr.txt\"\n",
      "[1] \"  Added 326 to valve 1.\"\n",
      "[1] \"Loaded file: 2017-0629-0000 MID-valve corr.txt\"\n",
      "[1] \"  Added 326 to valve 1.\"\n",
      "[1] \"Loaded file: 2017-0629-1200 MID-valve corr.txt\"\n",
      "[1] \"  Added 315 to valve 1.\"\n",
      "[1] \"Loaded file: 2017-0630-0000 MID-valve corr.txt\"\n",
      "[1] \"  Added 305 to valve 1.\"\n",
      "[1] \"Loaded file: 2017-0630-1200 MID-valve corr.txt\"\n",
      "[1] \"  Added 313 to valve 1.\"\n",
      "[1] \"Loaded file: 2017-0701-0000 MID-valve corr.txt\"\n",
      "[1] \"  Added 327 to valve 1.\"\n",
      "[1] \"Loaded file: 2017-0701-1200 MID-valve corr.txt\"\n",
      "[1] \"  Added 240 to valve 1.\"\n",
      "[1] \"Loaded file: 2017-0701-2058 MID-valve corr.txt\"\n",
      "[1] \"  Added 87 to valve 1.\"\n",
      "[1] \"Loaded file: 2017-0702-0000 MID-valve corr.txt\"\n",
      "[1] \"  Added 60 to valve 1.\"\n"
     ]
    }
   ],
   "source": [
    "data.v1 = read.eims(1, input.dir, file.list.2, N = 2, verbose = TRUE, template = data, make.img = TRUE)"
   ]
  },
  {
   "cell_type": "code",
   "execution_count": 9,
   "metadata": {
    "scrolled": true
   },
   "outputs": [
    {
     "name": "stdout",
     "output_type": "stream",
     "text": [
      "[1] \"Loaded file: 2017-0601-1200 MID-valve corr.txt\"\n",
      "[1] \"  Added 1 to valve 1.\"\n",
      "[1] \"Loaded file: 2017-0601-2031 MID-valve corr.txt\"\n",
      "[1] \"  Added 2 to valve 1.\"\n",
      "[1] \"Loaded file: 2017-0602-0000 MID-valve corr.txt\"\n",
      "[1] \"  Added 3 to valve 1.\"\n",
      "[1] \"Loaded file: 2017-0602-1200 MID-valve corr.txt\"\n",
      "[1] \"  Added 0 to valve 1.\"\n",
      "[1] \"Loaded file: 2017-0602-1449 MID-valve corr.txt\"\n",
      "[1] \"  Added 2 to valve 1.\"\n",
      "[1] \"Loaded file: 2017-0603-1200 MID-valve corr.txt\"\n",
      "[1] \"  Added 0 to valve 1.\"\n",
      "[1] \"Loaded file: 2017-0603-1347 MID-valve corr.txt\"\n",
      "[1] \"  Added 0 to valve 1.\"\n",
      "[1] \"Loaded file: 2017-0603-1548 MID-valve corr.txt\"\n",
      "[1] \"  Added 2 to valve 1.\"\n"
     ]
    },
    {
     "name": "stderr",
     "output_type": "stream",
     "text": [
      "Warning message in min(x):\n",
      "\"no non-missing arguments to min; returning Inf\"Warning message in max(x):\n",
      "\"no non-missing arguments to max; returning -Inf\""
     ]
    },
    {
     "name": "stdout",
     "output_type": "stream",
     "text": [
      "[1] \"Loaded file: 2017-0603-2102 MID-valve corr.txt\"\n",
      "[1] \"  Added 1310 to valve 1.\"\n",
      "[1] \"Loaded file: 2017-0604-0000 MID-valve corr.txt\"\n",
      "[1] \"  Added 0 to valve 1.\"\n",
      "[1] \"Loaded file: 2017-0604-0448 MID-valve corr.txt\"\n",
      "[1] \"  Added 0 to valve 1.\"\n",
      "[1] \"Loaded file: 2017-0604-1200 MID-valve corr.txt\"\n",
      "[1] \"  Added 2 to valve 1.\"\n",
      "[1] \"Loaded file: 2017-0605-0000 MID-valve corr.txt\"\n",
      "[1] \"  Added 1 to valve 1.\"\n",
      "[1] \"Loaded file: 2017-0605-0440 MID-valve corr.txt\"\n",
      "[1] \"  Added 0 to valve 1.\"\n",
      "[1] \"Loaded file: 2017-0605-0528 MID-valve corr.txt\"\n",
      "[1] \"  Added 0 to valve 1.\"\n",
      "[1] \"Loaded file: 2017-0605-1200 MID-valve corr.txt\"\n",
      "[1] \"  Added 0 to valve 1.\"\n",
      "[1] \"Loaded file: 2017-0606-0000 MID-valve corr.txt\"\n",
      "[1] \"  Added 0 to valve 1.\"\n",
      "[1] \"Loaded file: 2017-0606-1200 MID-valve corr.txt\"\n",
      "[1] \"  Added 0 to valve 1.\"\n",
      "[1] \"Loaded file: 2017-0606-1243 MID-valve corr.txt\"\n",
      "[1] \"  Added 0 to valve 1.\"\n",
      "[1] \"Loaded file: 2017-0606-1259 MID-valve corr.txt\"\n",
      "[1] \"  Added 3 to valve 1.\"\n",
      "[1] \"Loaded file: 2017-0607-0000 MID-valve corr.txt\"\n",
      "[1] \"  Added 2 to valve 1.\"\n",
      "[1] \"Loaded file: 2017-0607-1200 MID-valve corr.txt\"\n",
      "[1] \"  Added 2 to valve 1.\"\n",
      "[1] \"Loaded file: 2017-0608-0000 MID-valve corr.txt\"\n",
      "[1] \"  Added 3 to valve 1.\"\n",
      "[1] \"Loaded file: 2017-0608-1200 MID-valve-corr.txt\"\n",
      "[1] \"  Added 1538 to valve 1.\"\n",
      "[1] \"Loaded file: 2017-0609-0000 MID-valve corr.txt\"\n",
      "[1] \"  Added 3 to valve 1.\"\n",
      "[1] \"Loaded file: 2017-0609-1200 MID-valve corr.txt\"\n",
      "[1] \"  Added 1598 to valve 1.\"\n",
      "[1] \"Loaded file: 2017-0610-0000 MID-valve corr.txt\"\n",
      "[1] \"  Added 1542 to valve 1.\"\n",
      "[1] \"Loaded file: 2017-0610-1200 MID-valve corr.txt\"\n",
      "[1] \"  Added 0 to valve 1.\"\n",
      "[1] \"Loaded file: 2017-0611-0000 MID-valve corr.txt\"\n",
      "[1] \"  Added 2 to valve 1.\"\n",
      "[1] \"Loaded file: 2017-0611-1200 MID-valve corr.txt\"\n",
      "[1] \"  Added 1 to valve 1.\"\n",
      "[1] \"Loaded file: 2017-0611-1326 MID-valve corr.txt\"\n",
      "[1] \"  Added 1 to valve 1.\"\n"
     ]
    },
    {
     "name": "stderr",
     "output_type": "stream",
     "text": [
      "Warning message in min(x):\n",
      "\"no non-missing arguments to min; returning Inf\"Warning message in max(x):\n",
      "\"no non-missing arguments to max; returning -Inf\""
     ]
    },
    {
     "name": "stdout",
     "output_type": "stream",
     "text": [
      "[1] \"Loaded file: 2017-0611-1342 MID-valve corr.txt\"\n",
      "[1] \"  Added 3631 to valve 1.\"\n",
      "[1] \"Loaded file: 2017-0612-0000 MID-valve corr.txt\"\n",
      "[1] \"  Added 3 to valve 1.\"\n",
      "[1] \"Loaded file: 2017-0612-1200 MID-valve corr.txt\"\n",
      "[1] \"  Added 2514 to valve 1.\"\n",
      "[1] \"Loaded file: 2017-0613-0000 MID-valve corr.txt\"\n",
      "[1] \"  Added 3 to valve 1.\"\n",
      "[1] \"Loaded file: 2017-0613-1200 MID-valve corr.txt\"\n",
      "[1] \"  Added 3 to valve 1.\"\n",
      "[1] \"Loaded file: 2017-0614-0000 MID-valve corr.txt\"\n",
      "[1] \"  Added 3 to valve 1.\"\n",
      "[1] \"Loaded file: 2017-0614-1200 MID-valve corr.txt\"\n",
      "[1] \"  Added 2 to valve 1.\"\n"
     ]
    },
    {
     "name": "stderr",
     "output_type": "stream",
     "text": [
      "Warning message in min(x):\n",
      "\"no non-missing arguments to min; returning Inf\"Warning message in max(x):\n",
      "\"no non-missing arguments to max; returning -Inf\""
     ]
    },
    {
     "name": "stdout",
     "output_type": "stream",
     "text": [
      "[1] \"Loaded file: 2017-0614-2001 MID-valve corr.txt\"\n",
      "[1] \"  Added 0 to valve 1.\"\n",
      "[1] \"Loaded file: 2017-0615-0000 MID-valve corr.txt\"\n",
      "[1] \"  Added 3 to valve 1.\"\n",
      "[1] \"Loaded file: 2017-0615-1200 MID-valve corr.txt\"\n",
      "[1] \"  Added 3 to valve 1.\"\n",
      "[1] \"Loaded file: 2017-0616-1200 MID-valve corr.txt\"\n",
      "[1] \"  Added 2 to valve 1.\"\n",
      "[1] \"Loaded file: 2017-0617-1200 MID-valve corr.txt\"\n",
      "[1] \"  Added 3 to valve 1.\"\n",
      "[1] \"Loaded file: 2017-0618-0000 MID-valve corr.txt\"\n",
      "[1] \"  Added 2 to valve 1.\"\n",
      "[1] \"Loaded file: 2017-0618-0620 MID-valve corr.txt\"\n",
      "[1] \"  Added 1 to valve 1.\"\n",
      "[1] \"Loaded file: 2017-0618-0722 MID-valve corr.txt\"\n",
      "[1] \"  Added 2 to valve 1.\"\n",
      "[1] \"Loaded file: 2017-0618-1200 MID-valve corr.txt\"\n",
      "[1] \"  Added 3 to valve 1.\"\n",
      "[1] \"Loaded file: 2017-0619-0000 MID-valve corr.txt\"\n",
      "[1] \"  Added 3 to valve 1.\"\n",
      "[1] \"Loaded file: 2017-0619-1200 MID-valve corr.txt\"\n",
      "[1] \"  Added 3 to valve 1.\"\n",
      "[1] \"Loaded file: 2017-0620-0000 MID valve corr.txt\"\n",
      "[1] \"  Added 2 to valve 1.\"\n",
      "[1] \"Loaded file: 2017-0620-1200 MID-vave corr.txt\"\n",
      "[1] \"  Added 3 to valve 1.\"\n",
      "[1] \"Loaded file: 2017-0621-0000 MID-valve corr.txt\"\n",
      "[1] \"  Added 3 to valve 1.\"\n",
      "[1] \"Loaded file: 2017-0621-1200 MID-valve corr.txt\"\n",
      "[1] \"  Added 3 to valve 1.\"\n",
      "[1] \"Loaded file: 2017-0622-0000 MID-valve corr.txt\"\n",
      "[1] \"  Added 3 to valve 1.\"\n",
      "[1] \"Loaded file: 2017-0622-1200 MID-valve corr.txt\"\n",
      "[1] \"  Added 3 to valve 1.\"\n",
      "[1] \"Loaded file: 2017-0623-0000 MID-valve corr.txt\"\n",
      "[1] \"  Added 3 to valve 1.\"\n",
      "[1] \"Loaded file: 2017-0623-1200 MID-valve corr.txt\"\n",
      "[1] \"  Added 2 to valve 1.\"\n",
      "[1] \"Loaded file: 2017-0624-0000 MID-valve corr.txt\"\n",
      "[1] \"  Added 2 to valve 1.\"\n",
      "[1] \"Loaded file: 2017-0624-1200 MID-valve corr.txt\"\n",
      "[1] \"  Added 2 to valve 1.\"\n",
      "[1] \"Loaded file: 2017-0625-0000 MID-valve corr.txt\"\n",
      "[1] \"  Added 1 to valve 1.\"\n",
      "[1] \"Loaded file: 2017-0625-0647 MID-valve corr.txt\"\n",
      "[1] \"  Added 1 to valve 1.\"\n",
      "[1] \"Loaded file: 2017-0625-1200 MID-valve corr.txt\"\n",
      "[1] \"  Added 3 to valve 1.\"\n",
      "[1] \"Loaded file: 2017-0626-0000 MID-valve corr.txt\"\n",
      "[1] \"  Added 3 to valve 1.\"\n",
      "[1] \"Loaded file: 2017-0626-1200 MID-valve corr.txt\"\n",
      "[1] \"  Added 1 to valve 1.\"\n",
      "[1] \"Loaded file: 2017-0627-0000 MID-valve corr.txt\"\n",
      "[1] \"  Added 3 to valve 1.\"\n",
      "[1] \"Loaded file: 2017-0627-1200 MID-valve corr.txt\"\n",
      "[1] \"  Added 3 to valve 1.\"\n",
      "[1] \"Loaded file: 2017-0628-0000 MID-valve corr.txt\"\n",
      "[1] \"  Added 2 to valve 1.\"\n",
      "[1] \"Loaded file: 2017-0628-1200 MID-valve corr.txt\"\n",
      "[1] \"  Added 3 to valve 1.\"\n",
      "[1] \"Loaded file: 2017-0629-0000 MID-valve corr.txt\"\n",
      "[1] \"  Added 3 to valve 1.\"\n",
      "[1] \"Loaded file: 2017-0629-1200 MID-valve corr.txt\"\n",
      "[1] \"  Added 3 to valve 1.\"\n",
      "[1] \"Loaded file: 2017-0630-0000 MID-valve corr.txt\"\n",
      "[1] \"  Added 3 to valve 1.\"\n",
      "[1] \"Loaded file: 2017-0630-1200 MID-valve corr.txt\"\n",
      "[1] \"  Added 3 to valve 1.\"\n",
      "[1] \"Loaded file: 2017-0701-0000 MID-valve corr.txt\"\n",
      "[1] \"  Added 3 to valve 1.\"\n",
      "[1] \"Loaded file: 2017-0701-1200 MID-valve corr.txt\"\n",
      "[1] \"  Added 2 to valve 1.\"\n",
      "[1] \"Loaded file: 2017-0701-2058 MID-valve corr.txt\"\n",
      "[1] \"  Added 1 to valve 1.\"\n",
      "[1] \"Loaded file: 2017-0702-0000 MID-valve corr.txt\"\n",
      "[1] \"  Added 0 to valve 1.\"\n"
     ]
    }
   ],
   "source": [
    "data.v2 = read.eims(2, input.dir, file.list.2, N = 120, verbose = TRUE, template = data, make.img = TRUE)"
   ]
  },
  {
   "cell_type": "code",
   "execution_count": 7,
   "metadata": {
    "scrolled": true
   },
   "outputs": [
    {
     "name": "stdout",
     "output_type": "stream",
     "text": [
      "[1] \"Loaded file: 2017-0601-1200 MID-valve corr.txt\"\n",
      "[1] \"  Added 0 to valve 1.\"\n",
      "[1] \"Loaded file: 2017-0601-2031 MID-valve corr.txt\"\n",
      "[1] \"  Added 0 to valve 1.\"\n",
      "[1] \"Loaded file: 2017-0602-0000 MID-valve corr.txt\"\n",
      "[1] \"  Added 0 to valve 1.\"\n",
      "[1] \"Loaded file: 2017-0602-1200 MID-valve corr.txt\"\n",
      "[1] \"  Added 0 to valve 1.\"\n",
      "[1] \"Loaded file: 2017-0602-1449 MID-valve corr.txt\"\n",
      "[1] \"  Added 0 to valve 1.\"\n",
      "[1] \"Loaded file: 2017-0603-1200 MID-valve corr.txt\"\n",
      "[1] \"  Added 0 to valve 1.\"\n",
      "[1] \"Loaded file: 2017-0603-1347 MID-valve corr.txt\"\n",
      "[1] \"  Added 0 to valve 1.\"\n",
      "[1] \"Loaded file: 2017-0603-1548 MID-valve corr.txt\"\n",
      "[1] \"  Added 0 to valve 1.\"\n"
     ]
    },
    {
     "name": "stderr",
     "output_type": "stream",
     "text": [
      "Warning message in min(x):\n",
      "\"no non-missing arguments to min; returning Inf\"Warning message in max(x):\n",
      "\"no non-missing arguments to max; returning -Inf\""
     ]
    },
    {
     "name": "stdout",
     "output_type": "stream",
     "text": [
      "[1] \"Loaded file: 2017-0603-2102 MID-valve corr.txt\"\n",
      "[1] \"  Added 1403 to valve 1.\"\n",
      "[1] \"Loaded file: 2017-0604-0000 MID-valve corr.txt\"\n",
      "[1] \"  Added 225 to valve 1.\"\n",
      "[1] \"Loaded file: 2017-0604-0448 MID-valve corr.txt\"\n",
      "[1] \"  Added 0 to valve 1.\"\n",
      "[1] \"Loaded file: 2017-0604-1200 MID-valve corr.txt\"\n",
      "[1] \"  Added 0 to valve 1.\"\n",
      "[1] \"Loaded file: 2017-0605-0000 MID-valve corr.txt\"\n",
      "[1] \"  Added 32 to valve 1.\"\n",
      "[1] \"Loaded file: 2017-0605-0440 MID-valve corr.txt\"\n",
      "[1] \"  Added 0 to valve 1.\"\n",
      "[1] \"Loaded file: 2017-0605-0528 MID-valve corr.txt\"\n",
      "[1] \"  Added 0 to valve 1.\"\n",
      "[1] \"Loaded file: 2017-0605-1200 MID-valve corr.txt\"\n",
      "[1] \"  Added 0 to valve 1.\"\n",
      "[1] \"Loaded file: 2017-0606-0000 MID-valve corr.txt\"\n",
      "[1] \"  Added 0 to valve 1.\"\n",
      "[1] \"Loaded file: 2017-0606-1200 MID-valve corr.txt\"\n",
      "[1] \"  Added 19 to valve 1.\"\n",
      "[1] \"Loaded file: 2017-0606-1243 MID-valve corr.txt\"\n",
      "[1] \"  Added 8 to valve 1.\"\n",
      "[1] \"Loaded file: 2017-0606-1259 MID-valve corr.txt\"\n",
      "[1] \"  Added 0 to valve 1.\"\n",
      "[1] \"Loaded file: 2017-0607-0000 MID-valve corr.txt\"\n",
      "[1] \"  Added 0 to valve 1.\"\n",
      "[1] \"Loaded file: 2017-0607-1200 MID-valve corr.txt\"\n",
      "[1] \"  Added 0 to valve 1.\"\n",
      "[1] \"Loaded file: 2017-0608-0000 MID-valve corr.txt\"\n",
      "[1] \"  Added 0 to valve 1.\"\n",
      "[1] \"Loaded file: 2017-0608-1200 MID-valve-corr.txt\"\n",
      "[1] \"  Added 0 to valve 1.\"\n",
      "[1] \"Loaded file: 2017-0609-0000 MID-valve corr.txt\"\n",
      "[1] \"  Added 0 to valve 1.\"\n",
      "[1] \"Loaded file: 2017-0609-1200 MID-valve corr.txt\"\n",
      "[1] \"  Added 17826 to valve 1.\"\n",
      "[1] \"Loaded file: 2017-0610-0000 MID-valve corr.txt\"\n",
      "[1] \"  Added 40 to valve 1.\"\n"
     ]
    },
    {
     "name": "stderr",
     "output_type": "stream",
     "text": [
      "Warning message in min(x):\n",
      "\"no non-missing arguments to min; returning Inf\"Warning message in max(x):\n",
      "\"no non-missing arguments to max; returning -Inf\""
     ]
    },
    {
     "name": "stdout",
     "output_type": "stream",
     "text": [
      "[1] \"Loaded file: 2017-0610-1200 MID-valve corr.txt\"\n",
      "[1] \"  Added 0 to valve 1.\"\n",
      "[1] \"Loaded file: 2017-0611-0000 MID-valve corr.txt\"\n",
      "[1] \"  Added 0 to valve 1.\"\n",
      "[1] \"Loaded file: 2017-0611-1200 MID-valve corr.txt\"\n",
      "[1] \"  Added 0 to valve 1.\"\n",
      "[1] \"Loaded file: 2017-0611-1326 MID-valve corr.txt\"\n",
      "[1] \"  Added 0 to valve 1.\"\n"
     ]
    },
    {
     "name": "stderr",
     "output_type": "stream",
     "text": [
      "Warning message in min(x):\n",
      "\"no non-missing arguments to min; returning Inf\"Warning message in max(x):\n",
      "\"no non-missing arguments to max; returning -Inf\""
     ]
    },
    {
     "name": "stdout",
     "output_type": "stream",
     "text": [
      "[1] \"Loaded file: 2017-0611-1342 MID-valve corr.txt\"\n",
      "[1] \"  Added 901 to valve 1.\"\n",
      "[1] \"Loaded file: 2017-0612-0000 MID-valve corr.txt\"\n",
      "[1] \"  Added 0 to valve 1.\"\n",
      "[1] \"Loaded file: 2017-0612-1200 MID-valve corr.txt\"\n",
      "[1] \"  Added 0 to valve 1.\"\n",
      "[1] \"Loaded file: 2017-0613-0000 MID-valve corr.txt\"\n",
      "[1] \"  Added 0 to valve 1.\"\n",
      "[1] \"Loaded file: 2017-0613-1200 MID-valve corr.txt\"\n",
      "[1] \"  Added 0 to valve 1.\"\n",
      "[1] \"Loaded file: 2017-0614-0000 MID-valve corr.txt\"\n",
      "[1] \"  Added 0 to valve 1.\"\n",
      "[1] \"Loaded file: 2017-0614-1200 MID-valve corr.txt\"\n",
      "[1] \"  Added 0 to valve 1.\"\n"
     ]
    },
    {
     "name": "stderr",
     "output_type": "stream",
     "text": [
      "Warning message in min(x):\n",
      "\"no non-missing arguments to min; returning Inf\"Warning message in max(x):\n",
      "\"no non-missing arguments to max; returning -Inf\""
     ]
    },
    {
     "name": "stdout",
     "output_type": "stream",
     "text": [
      "[1] \"Loaded file: 2017-0614-2001 MID-valve corr.txt\"\n",
      "[1] \"  Added 731 to valve 1.\"\n",
      "[1] \"Loaded file: 2017-0615-0000 MID-valve corr.txt\"\n",
      "[1] \"  Added 0 to valve 1.\"\n",
      "[1] \"Loaded file: 2017-0615-1200 MID-valve corr.txt\"\n",
      "[1] \"  Added 0 to valve 1.\"\n",
      "[1] \"Loaded file: 2017-0616-1200 MID-valve corr.txt\"\n",
      "[1] \"  Added 0 to valve 1.\"\n",
      "[1] \"Loaded file: 2017-0617-1200 MID-valve corr.txt\"\n",
      "[1] \"  Added 0 to valve 1.\"\n",
      "[1] \"Loaded file: 2017-0618-0000 MID-valve corr.txt\"\n",
      "[1] \"  Added 0 to valve 1.\"\n",
      "[1] \"Loaded file: 2017-0618-0620 MID-valve corr.txt\"\n",
      "[1] \"  Added 0 to valve 1.\"\n",
      "[1] \"Loaded file: 2017-0618-0722 MID-valve corr.txt\"\n",
      "[1] \"  Added 0 to valve 1.\"\n",
      "[1] \"Loaded file: 2017-0618-1200 MID-valve corr.txt\"\n",
      "[1] \"  Added 0 to valve 1.\"\n",
      "[1] \"Loaded file: 2017-0619-0000 MID-valve corr.txt\"\n",
      "[1] \"  Added 0 to valve 1.\"\n",
      "[1] \"Loaded file: 2017-0619-1200 MID-valve corr.txt\"\n",
      "[1] \"  Added 0 to valve 1.\"\n",
      "[1] \"Loaded file: 2017-0620-0000 MID valve corr.txt\"\n",
      "[1] \"  Added 0 to valve 1.\"\n",
      "[1] \"Loaded file: 2017-0620-1200 MID-vave corr.txt\"\n",
      "[1] \"  Added 0 to valve 1.\"\n",
      "[1] \"Loaded file: 2017-0621-0000 MID-valve corr.txt\"\n",
      "[1] \"  Added 0 to valve 1.\"\n",
      "[1] \"Loaded file: 2017-0621-1200 MID-valve corr.txt\"\n",
      "[1] \"  Added 0 to valve 1.\"\n",
      "[1] \"Loaded file: 2017-0622-0000 MID-valve corr.txt\"\n",
      "[1] \"  Added 0 to valve 1.\"\n",
      "[1] \"Loaded file: 2017-0622-1200 MID-valve corr.txt\"\n",
      "[1] \"  Added 0 to valve 1.\"\n",
      "[1] \"Loaded file: 2017-0623-0000 MID-valve corr.txt\"\n",
      "[1] \"  Added 0 to valve 1.\"\n",
      "[1] \"Loaded file: 2017-0623-1200 MID-valve corr.txt\"\n",
      "[1] \"  Added 0 to valve 1.\"\n",
      "[1] \"Loaded file: 2017-0624-0000 MID-valve corr.txt\"\n",
      "[1] \"  Added 0 to valve 1.\"\n",
      "[1] \"Loaded file: 2017-0624-1200 MID-valve corr.txt\"\n",
      "[1] \"  Added 0 to valve 1.\"\n",
      "[1] \"Loaded file: 2017-0625-0000 MID-valve corr.txt\"\n",
      "[1] \"  Added 0 to valve 1.\"\n",
      "[1] \"Loaded file: 2017-0625-0647 MID-valve corr.txt\"\n",
      "[1] \"  Added 78 to valve 1.\"\n",
      "[1] \"Loaded file: 2017-0625-1200 MID-valve corr.txt\"\n",
      "[1] \"  Added 0 to valve 1.\"\n",
      "[1] \"Loaded file: 2017-0626-0000 MID-valve corr.txt\"\n",
      "[1] \"  Added 0 to valve 1.\"\n",
      "[1] \"Loaded file: 2017-0626-1200 MID-valve corr.txt\"\n",
      "[1] \"  Added 0 to valve 1.\"\n",
      "[1] \"Loaded file: 2017-0627-0000 MID-valve corr.txt\"\n",
      "[1] \"  Added 0 to valve 1.\"\n",
      "[1] \"Loaded file: 2017-0627-1200 MID-valve corr.txt\"\n",
      "[1] \"  Added 0 to valve 1.\"\n",
      "[1] \"Loaded file: 2017-0628-0000 MID-valve corr.txt\"\n",
      "[1] \"  Added 2 to valve 1.\"\n",
      "[1] \"Loaded file: 2017-0628-1200 MID-valve corr.txt\"\n",
      "[1] \"  Added 0 to valve 1.\"\n",
      "[1] \"Loaded file: 2017-0629-0000 MID-valve corr.txt\"\n",
      "[1] \"  Added 0 to valve 1.\"\n",
      "[1] \"Loaded file: 2017-0629-1200 MID-valve corr.txt\"\n",
      "[1] \"  Added 0 to valve 1.\"\n",
      "[1] \"Loaded file: 2017-0630-0000 MID-valve corr.txt\"\n",
      "[1] \"  Added 0 to valve 1.\"\n",
      "[1] \"Loaded file: 2017-0630-1200 MID-valve corr.txt\"\n",
      "[1] \"  Added 0 to valve 1.\"\n",
      "[1] \"Loaded file: 2017-0701-0000 MID-valve corr.txt\"\n",
      "[1] \"  Added 0 to valve 1.\"\n",
      "[1] \"Loaded file: 2017-0701-1200 MID-valve corr.txt\"\n",
      "[1] \"  Added 0 to valve 1.\"\n",
      "[1] \"Loaded file: 2017-0701-2058 MID-valve corr.txt\"\n",
      "[1] \"  Added 0 to valve 1.\"\n",
      "[1] \"Loaded file: 2017-0702-0000 MID-valve corr.txt\"\n",
      "[1] \"  Added 0 to valve 1.\"\n"
     ]
    }
   ],
   "source": [
    "data.v3 = read.eims(3, input.dir, file.list.2, N = 2, verbose = TRUE, template = data, make.img = TRUE)"
   ]
  },
  {
   "cell_type": "code",
   "execution_count": 11,
   "metadata": {},
   "outputs": [
    {
     "name": "stdout",
     "output_type": "stream",
     "text": [
      "[1] \"Valve 1 has 15485 entries with 441 flagged values.\"\n",
      "[1] \"Valve 2 has 142 entries with 2 flagged values.\"\n",
      "[1] \"Valve 3 has 220 entries with 129 flagged values.\"\n"
     ]
    }
   ],
   "source": [
    "## Also, correct the time since the year is not actually 2021...\n",
    "data.v1$time = data.v1$time - 4 * 365.25 * 86400 - 86400\n",
    "data.v2$time = data.v2$time - 4 * 365.25 * 86400 - 86400\n",
    "data.v3$time = data.v3$time - 4 * 365.25 * 86400 - 86400\n",
    "\n",
    "## Remove NA O2:Ar values\n",
    "data.v1 = data.v1[which(!is.na(data.v1$O2.Ar)),]\n",
    "data.v2 = data.v2[which(!is.na(data.v2$O2.Ar)),]\n",
    "data.v3 = data.v3[which(!is.na(data.v3$O2.Ar)),]\n",
    "\n",
    "## Number of entries, do they seem right?\n",
    "print(paste0('Valve 1 has ', nrow(data.v1), ' entries with ', length(which(data.v1$Flag == 3)), ' flagged values.'))\n",
    "print(paste0('Valve 2 has ', nrow(data.v2), ' entries with ', length(which(data.v2$Flag == 3)), ' flagged values.'))\n",
    "print(paste0('Valve 3 has ', nrow(data.v3), ' entries with ', length(which(data.v3$Flag == 3)), ' flagged values.'))\n",
    "\n",
    "eims = list(sample = data.v1, cal = data.v2, error = data.v3)"
   ]
  },
  {
   "cell_type": "markdown",
   "metadata": {},
   "source": [
    "## Review results"
   ]
  },
  {
   "cell_type": "code",
   "execution_count": 22,
   "metadata": {
    "scrolled": false
   },
   "outputs": [
    {
     "data": {
      "image/png": "[encoded data removed]",
      "text/plain": [
       "plot without title"
      ]
     },
     "metadata": {},
     "output_type": "display_data"
    },
    {
     "data": {
      "text/html": [
       "<strong>null device:</strong> 1"
      ],
      "text/latex": [
       "\\textbf{null device:} 1"
      ],
      "text/markdown": [
       "**null device:** 1"
      ],
      "text/plain": [
       "null device \n",
       "          1 "
      ]
     },
     "metadata": {},
     "output_type": "display_data"
    },
    {
     "data": {
      "image/png": "[encoded data removed]",
      "text/plain": [
       "plot without title"
      ]
     },
     "metadata": {},
     "output_type": "display_data"
    }
   ],
   "source": [
    "#pdf('./Output/Generate EIMS - Review 1.pdf')\n",
    "#png('./Output/Generate EIMS - Review 1.png')\n",
    "\n",
    "par(mfrow=c(2,1))\n",
    "cols = c('black', 'dark green', 'red')\n",
    "\n",
    "plot(eims$sample$time, eims$sample$O2.Ar, pch=16, cex=0.3, ylab='O2/Ar', xlab='', col=cols[eims$sample$Flag])\n",
    "points(eims$cal$time, eims$cal$O2.Ar, pch=16, cex=0.2, col=cols[eims$cal$Flag])\n",
    "\n",
    "legend(data.v1$time[1], 19, c('Measurements', 'Calibration'), col=c('black', 'green'), pch=16, cex=0.6)\n",
    "\n",
    "plot(eims$sample$time, eims$sample$N2.Ar, pch=16, cex=0.3, ylab='N2/Ar', xlab='', col=cols[eims$sample$Flag])\n",
    "points(eims$cal$time, eims$cal$N2.Ar, pch=16, cex=0.2, col=cols[eims$cal$Flag])\n",
    "\n",
    "plot(eims$sample$time, eims$sample$time, pch=16, cex=0.3, ylab='Time', xlab='', col=cols[eims$sample$Flag])\n",
    "points(eims$cal$time, eims$cal$time+86400, cex=0.2, col=cols[eims$cal$Flag])\n",
    "\n",
    "plot(eims$sample$time, eims$sample$O2..uM., pch=16, cex=0.3, ylab='O2', xlab='', col=cols[eims$sample$Flag])\n",
    "points(eims$cal$time, eims$cal$O2..uM., pch=16, cex=0.2, col=cols[eims$cal$Flag])\n",
    "\n",
    "legend(eims$cal$time[1], 470, c('Measurements', 'Calibration'), col=c('black', 'dark green'), pch=16, cex=0.6)\n",
    "\n",
    "dev.off()"
   ]
  },
  {
   "cell_type": "code",
   "execution_count": 25,
   "metadata": {},
   "outputs": [
    {
     "data": {
      "text/html": [
       "<strong>null device:</strong> 1"
      ],
      "text/latex": [
       "\\textbf{null device:} 1"
      ],
      "text/markdown": [
       "**null device:** 1"
      ],
      "text/plain": [
       "null device \n",
       "          1 "
      ]
     },
     "metadata": {},
     "output_type": "display_data"
    },
    {
     "data": {
      "image/png": "[encoded data removed]",
      "text/plain": [
       "plot without title"
      ]
     },
     "metadata": {},
     "output_type": "display_data"
    }
   ],
   "source": [
    "#pdf('./Output/Generate EIMS - Review 2.pdf')\n",
    "#png('./Output/Generate EIMS - Review 2.png')\n",
    "\n",
    "plot(eims$sample$time, eims$sample$time, pch=16, cex=0.3, ylab='Time', xlab='', col = cols[eims$sample$Flag])\n",
    "points(eims$cal$time, eims$cal$time+86400, pch=16, cex=0.5, col = cols[eims$cal$Flag])\n",
    "points(eims$error$time, eims$error$time+86400*2, pch=16, cex=0.5, col = cols[eims$error$Flag])\n",
    "legend(eims$sample$time[1], eims$sample$time[nrow(eims$sample)], c('Measurements', 'Calibration', 'Reject'),\n",
    "       col=cols, pch=16)\n",
    "\n",
    "dev.off()"
   ]
  },
  {
   "cell_type": "code",
   "execution_count": 26,
   "metadata": {},
   "outputs": [
    {
     "data": {
      "image/png": "[encoded data removed]",
      "text/plain": [
       "plot without title"
      ]
     },
     "metadata": {},
     "output_type": "display_data"
    }
   ],
   "source": [
    "plot(data.v1$time, data.v1$TP, col='white', ylim=c(3.2e-6, 5.5e-6), ylab='Total Pressure', xlab='')\n",
    "\n",
    "col = c('Black', 'blue', 'grey', 'dark green')\n",
    "\n",
    "for (i in 1:length(unique(eims$sample[,1]))) {\n",
    "    l = which(eims$sample[,1] == unique(data.v1[,1])[i])\n",
    "    points(eims$sample$time[l], eims$sample$TP[l], col=col[i %% 2 + 1], pch=20, cex=0.6)\n",
    "}\n",
    "\n",
    "for (i in 1:length(unique(eims$cal[,1]))) {\n",
    "    l = which(eims$cal[,1] == unique(eims$cal[,1])[i])\n",
    "    points(eims$cal$time[l], eims$cal$TP[l], col=col[i %% 2 + 3], pch=20, cex=0.6)\n",
    "}\n"
   ]
  },
  {
   "cell_type": "code",
   "execution_count": null,
   "metadata": {},
   "outputs": [],
   "source": [
    "#pdf('Output/Generate EIMS - Calibration Filter.pdf')\n",
    "\n",
    "plot(eims$cal$time, eims$cal$O2.Ar, pch=20, ylab='O2/Ar', xlab='', main='EIMS Calibration Filter')\n",
    "lines(eims$cal$time, runmed(eims$cal$O2.Ar, 5), col='red', lwd=2)\n",
    "\n",
    "delta = abs(runmed(eims$cal$O2.Ar, 5) - eims$cal$O2.Ar)\n",
    "l = which(delta > 0.05)\n",
    "points(eims$cal$time[l], eims$cal$O2.Ar[l], pch=16, col='red')\n",
    "\n",
    "lines(eims$cal$time[-l], runmed(eims$cal$O2.Ar[-l], 5))\n",
    "\n",
    "dev.off()"
   ]
  },
  {
   "cell_type": "code",
   "execution_count": null,
   "metadata": {},
   "outputs": [],
   "source": [
    "## Apply Calibration Filter\n",
    "eims$cal = eims$cal[-l,]"
   ]
  },
  {
   "cell_type": "markdown",
   "metadata": {},
   "source": [
    "---\n",
    "# Save"
   ]
  },
  {
   "cell_type": "code",
   "execution_count": 35,
   "metadata": {},
   "outputs": [],
   "source": [
    "## Save the data\n",
    "save(eims, file='./RStates/EIMS.2min.120min.rdata')\n",
    "\n",
    "## Optional\n",
    "#write.xlsx(data.v1, './Input Data/EIMS-Valve1.2min.xlsx')\n",
    "#write.xlsx(data.v2, './Input Data/EIMS-Valve2.60min.xlsx')"
   ]
  },
  {
   "cell_type": "markdown",
   "metadata": {},
   "source": [
    "---\n",
    "# Review"
   ]
  },
  {
   "cell_type": "code",
   "execution_count": 10,
   "metadata": {
    "ExecuteTime": {
     "end_time": "2018-01-31T16:41:45.156793Z",
     "start_time": "2018-01-31T16:41:44.568Z"
    }
   },
   "outputs": [],
   "source": [
    "load('./RStates/EIMS.2min.120min.rdata')"
   ]
  },
  {
   "cell_type": "code",
   "execution_count": 30,
   "metadata": {
    "ExecuteTime": {
     "end_time": "2018-01-31T16:43:05.966081Z",
     "start_time": "2018-01-31T16:43:03.971Z"
    },
    "scrolled": false
   },
   "outputs": [
    {
     "data": {
      "image/png": "[encoded data removed]",
      "text/plain": [
       "Plot with title \"Day 3 - 2017-06-04 16:25:00\""
      ]
     },
     "metadata": {},
     "output_type": "display_data"
    },
    {
     "data": {
      "image/png": "[encoded data removed]",
      "text/plain": [
       "Plot with title \"Day 6 - 2017-06-07 12:00:00\""
      ]
     },
     "metadata": {},
     "output_type": "display_data"
    },
    {
     "data": {
      "image/png": "[encoded data removed]",
      "text/plain": [
       "Plot with title \"Day 9 - 2017-06-11 01:00:00\""
      ]
     },
     "metadata": {},
     "output_type": "display_data"
    },
    {
     "data": {
      "image/png": "[encoded data removed]",
      "text/plain": [
       "Plot with title \"Day 12 - 2017-06-13 12:02:00\""
      ]
     },
     "metadata": {},
     "output_type": "display_data"
    },
    {
     "data": {
      "image/png": "[encoded data removed]",
      "text/plain": [
       "Plot with title \"Day 15 - 2017-06-16 12:00:00\""
      ]
     },
     "metadata": {},
     "output_type": "display_data"
    },
    {
     "data": {
      "image/png": "[encoded data removed]",
      "text/plain": [
       "Plot with title \"Day 18 - 2017-06-19 12:00:00\""
      ]
     },
     "metadata": {},
     "output_type": "display_data"
    },
    {
     "data": {
      "image/png": "[encoded data removed]",
      "text/plain": [
       "Plot with title \"Day 21 - 2017-06-22 12:00:00\""
      ]
     },
     "metadata": {},
     "output_type": "display_data"
    },
    {
     "data": {
      "image/png": "[encoded data removed]",
      "text/plain": [
       "Plot with title \"Day 24 - 2017-06-25 12:04:00\""
      ]
     },
     "metadata": {},
     "output_type": "display_data"
    },
    {
     "data": {
      "image/png": "[encoded data removed]",
      "text/plain": [
       "Plot with title \"Day 27 - 2017-06-28 12:23:00\""
      ]
     },
     "metadata": {},
     "output_type": "display_data"
    },
    {
     "data": {
      "text/html": [
       "<strong>null device:</strong> 1"
      ],
      "text/latex": [
       "\\textbf{null device:} 1"
      ],
      "text/markdown": [
       "**null device:** 1"
      ],
      "text/plain": [
       "null device \n",
       "          1 "
      ]
     },
     "metadata": {},
     "output_type": "display_data"
    },
    {
     "data": {
      "image/png": "[encoded data removed]",
      "text/plain": [
       "Plot with title \"Day 30 - 2017-07-01 12:02:00\""
      ]
     },
     "metadata": {},
     "output_type": "display_data"
    }
   ],
   "source": [
    "par(mfrow=c(3,1))\n",
    "\n",
    "#pdf('Output/Generate EIMS - 24H Plots.pdf')\n",
    "\n",
    "dt = floor(as.numeric(difftime(eims$sample$time, min(eims$sample$time, na.rm = TRUE), units='days')))\n",
    "\n",
    "for (i in 1:floor(max(dt, na.rm = TRUE))) {\n",
    "    k = which(dt ==i)\n",
    "    if(length(k) < 1) {\n",
    "        k = 1\n",
    "    }\n",
    "    plot(eims$sample$time[k], eims$sample$O2.Ar[k], pch=20, main=paste('Day', i, '-', eims$sample$time[k[1]]), xlab='',\n",
    "         ylab='O2/Ar', ylim=c(18,33), cex=0.5, yaxs='i')\n",
    "    points(eims$cal$time, eims$cal$O2.Ar, pch=4, col='red')\n",
    "}\n",
    "\n",
    "dev.off()"
   ]
  },
  {
   "cell_type": "code",
   "execution_count": null,
   "metadata": {},
   "outputs": [],
   "source": []
  }
 ],
 "metadata": {
  "anaconda-cloud": {},
  "kernelspec": {
   "display_name": "R",
   "language": "R",
   "name": "ir"
  },
  "language_info": {
   "codemirror_mode": "r",
   "file_extension": ".r",
   "mimetype": "text/x-r-source",
   "name": "R",
   "pygments_lexer": "r",
   "version": "3.4.2"
  },
  "toc": {
   "nav_menu": {},
   "number_sections": true,
   "sideBar": true,
   "skip_h1_title": false,
   "toc_cell": false,
   "toc_position": {},
   "toc_section_display": "block",
   "toc_window_display": false
  }
 },
 "nbformat": 4,
 "nbformat_minor": 2
}
