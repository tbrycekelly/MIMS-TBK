{
 "cells": [
  {
   "cell_type": "markdown",
   "metadata": {},
   "source": [
    "# EIMS Data\n",
    "This script will read in the individual EIMS data files from the given directory and compile/prase the data for the model."
   ]
  },
  {
   "cell_type": "code",
   "execution_count": 10,
   "metadata": {
    "collapsed": false
   },
   "outputs": [
    {
     "data": {
      "text/html": [
       "3"
      ],
      "text/latex": [
       "3"
      ],
      "text/markdown": [
       "3"
      ],
      "text/plain": [
       "[1] 3"
      ]
     },
     "metadata": {},
     "output_type": "display_data"
    }
   ],
   "source": [
    "## Install the package if needed:\n",
    "#install.packages('geosphere', repos='http://cran.us.r-project.org')\n",
    "\n",
    "## Load the relevent packages\n",
    "library(ncdf4)  # For reading in the NCEP wind fields\n",
    "#library(R.matlab)  # If you need to read in matlab .mat files\n",
    "library(openxlsx)  # If you need to read in .xlsx files\n",
    "#library(rNOMADS)  # For reading grib2 data files (NOMADS data for instance)\n",
    "#library(rGDAL)  #\n",
    "library(RColorBrewer)\n",
    "library(compiler)  # required for JIT (below)\n",
    "#library(lattice)\n",
    "#library(geosphere)\n",
    "\n",
    "## Enable compilation (speed gain?)\n",
    "enableJIT(3)\n",
    "\n",
    "## Helper function for converting the date time stamps.\n",
    "conv_excel_time = function(x, tz='GMT') {\n",
    "    as.POSIXct(as.Date(x, origin=\"1899-12-30\", tz=tz))\n",
    "}\n",
    "\n",
    "conv_roms_time = function(x, tz='UTC') {\n",
    "    as.POSIXct(x, origin=\"1900-01-01\")\n",
    "}\n",
    "\n",
    "get.qual.pal = function(n=100, pal='Accent') {\n",
    "    colorRampPalette(brewer.pal(8, pal))(n)\n",
    "}\n",
    "\n",
    "get.seq.pal = function(n=100, pal='YlOrRd') {\n",
    "    colorRampPalette(rev(brewer.pal(9, pal)))(n)\n",
    "}\n",
    "\n",
    "get.div.pal = function(n=100, pal='Spectral') {\n",
    "    colorRampPalette(rev(brewer.pal(11, pal)))(n)\n",
    "}\n",
    "\n",
    "make.div.pal = function(x=100, n, pal='Spectral') {\n",
    "    get.div.pal(n, pal=pal)[as.numeric(cut(x, breaks = n))]\n",
    "}"
   ]
  },
  {
   "cell_type": "markdown",
   "metadata": {},
   "source": [
    "# File Input\n",
    "\n",
    "First we need to set the directory and file name criteria of the data to load. We also set the date-time format that the parser will be expecting."
   ]
  },
  {
   "cell_type": "code",
   "execution_count": 11,
   "metadata": {
    "collapsed": false
   },
   "outputs": [
    {
     "name": "stdout",
     "output_type": "stream",
     "text": [
      "[1] \"Number of files in file.list: 177\"\n",
      "[1] \"Number of files in file.list.2: 67\"\n",
      "[1] \"Number of files in file.list.nu: 5\"\n"
     ]
    }
   ],
   "source": [
    "input.dir = './Raw Data/EIMS/'\n",
    "dt.format = \"%m/%d/%y %I:%M %p\"\n",
    "\n",
    "## Generate list of files in the directory\n",
    "file.list = list.files(input.dir)\n",
    "\n",
    "## split file.list into usable lists\n",
    "file.list.nu = file.list[grepl('not usable', file.list)] # not usable\n",
    "file.list.2 = file.list[grepl('corr.txt', file.list)] # usable\n",
    "\n",
    "## Print total number of files in each category\n",
    "print(paste('Number of files in file.list:', length(file.list)))\n",
    "print(paste('Number of files in file.list.2:', length(file.list.2)))\n",
    "print(paste('Number of files in file.list.nu:', length(file.list.nu)))\n"
   ]
  },
  {
   "cell_type": "code",
   "execution_count": 12,
   "metadata": {
    "collapsed": true
   },
   "outputs": [],
   "source": [
    "## Read in first data file and configure formatting around it\n",
    "data = read.csv(paste0(input.dir, file.list.2[1]), sep='\\t')\n",
    "data$time = strptime(data$time, format = dt.format, tz='GMT')"
   ]
  },
  {
   "cell_type": "markdown",
   "metadata": {},
   "source": [
    "# Main Functions\n",
    "\n",
    "These functions will do the heavy lifting for the EIMS preparation. The __avg.eims()__ generates the average of N minutes of samples while __filter.eims()__ goes QC type of work by removing high/low pressure samples and handles missing values."
   ]
  },
  {
   "cell_type": "code",
   "execution_count": 50,
   "metadata": {
    "collapsed": true
   },
   "outputs": [],
   "source": [
    "## Average\n",
    "avg.eims = function(x, N) {\n",
    "    i = 1\n",
    "    \n",
    "    while (i < nrow(x)) {\n",
    "        dt = as.numeric(difftime(x$time, x$time[i], unit='mins'))\n",
    "        l = which(dt >= 0 & dt < N)\n",
    "        \n",
    "        ## Calculate the mean of the relevant columns, removing na's\n",
    "        x[i, 3:ncol(x)] = apply(x[l, 3:ncol(x)], 2, function(x) {mean(x, na.rm = TRUE)})\n",
    "        \n",
    "        if (max(dt[l], na.rm = TRUE, 0) < N / 2) {\n",
    "            x$Flag[i] = 3\n",
    "        }\n",
    "    \n",
    "        if (length(l) > 1) {\n",
    "            l = l[l != i]\n",
    "            if (length(l) > 1) {\n",
    "                x = x[-l,]\n",
    "            }\n",
    "        }\n",
    "        i = i + 1\n",
    "    }\n",
    "    x\n",
    "}\n",
    "\n",
    "## Prepare filter function\n",
    "filter.eims = function(x) {\n",
    "    x$Flag = 1\n",
    "    \n",
    "    ## Remove entries where flow not within 5% of 100\n",
    "    x$Flag[x$flow > 105 | x$flow < 95] = 3 # Reject\n",
    "    x$Flag[x$O2.Ar > 35 | x$O2.Ar < 22] = 3 # Reject\n",
    "    \n",
    "    ## Remove first minute (safer to remove bad data than to keep it)\n",
    "    l = which(as.numeric(difftime(x$time, x$time[1], unit='mins'))^2 < 1)\n",
    "    x$Flag[l] = 3 # Reject\n",
    "    \n",
    "    ## Remove last minute (safer to remove bad data than to keep it)\n",
    "    l = which(as.numeric(difftime(x$time, x$time[nrow(x)], unit='mins'))^2 < 1)\n",
    "    x$Flag[l] = 3 # Reject\n",
    "    \n",
    "    ## find all valve switches and remove all entries within a miute of it.\n",
    "    l = which(diff(x$Valve) != 0)\n",
    "    for (i in l) {\n",
    "        dt = abs(as.numeric(difftime(x$time[i], x$time, unit='mins')))     \n",
    "        x$Flag[which(dt <= 1)] = 3 # Reject\n",
    "    }\n",
    "    ## Remove NA O2Ar entries\n",
    "    x$Flag[is.na(x$O2.Ar)] = 3 # Reject\n",
    "    \n",
    "    x$Flag[x$Valve == 2] = 2 # Calibration\n",
    "    #x$Flag[is.na(x$Valve)] = 3 # Reject unknown valve\n",
    "    \n",
    "    x\n",
    "}"
   ]
  },
  {
   "cell_type": "code",
   "execution_count": 51,
   "metadata": {
    "collapsed": true,
    "scrolled": false
   },
   "outputs": [],
   "source": [
    "read.eims = function(valve = 1, input.dir, file.list, N = 2, verbose = FALSE, template = data, make.img = FALSE) {\n",
    "    ## Create template data structure to add new entries to:\n",
    "    dat = template[1,] # valve = 1\n",
    "    dat$Flag = 0\n",
    "    \n",
    "    for (i in file.list) {\n",
    "        \n",
    "        #### load file and parse the time and filter the values\n",
    "        data = read.csv(paste0(input.dir, i), sep='\\t')\n",
    "        data$time = strptime(data$time, format = dt.format, tz='GMT')\n",
    "        data$Flag = 0\n",
    "        \n",
    "        ## Filter\n",
    "        data = filter.eims(data)\n",
    "        \n",
    "        if (make.img) {\n",
    "            cols = c('black', 'orange', 'red')\n",
    "    \n",
    "            png(file = paste0('Output/EIMS/', i, '.png'))\n",
    "            try({plot(data$time, data$O2.Ar, col=cols[data$Flag], pch=20, ylab='O2/Ar', xlab='', main=i, cex=0.2)})\n",
    "            dev.off()\n",
    "        }\n",
    "        \n",
    "        ## Verbose\n",
    "        if (verbose) { print(paste(\"Loaded file:\", i)) }\n",
    "        \n",
    "        #### determine valve  \n",
    "        l = which(data$Valve == valve)\n",
    "        temp = avg.eims(data[l,], N)\n",
    "        #temp = data[l,]\n",
    "        \n",
    "        if (length(names(temp)) == length(names(dat))) {\n",
    "            ## Do the column names match?\n",
    "            names(temp) = names(dat) # Force colname match (dangerous), but will check that lengths are the same\n",
    "            dat = rbind(dat, temp)\n",
    "            \n",
    "            if (verbose) { print(paste('  Added', nrow(temp),'to valve 1.')) }\n",
    "            \n",
    "        }\n",
    "        else {warning(i)}\n",
    "    }\n",
    "\n",
    "\n",
    "    ## Remove the first row used to initiate the table\n",
    "    dat = dat[-1,]\n",
    "    dat = dat[,-c(13, 14, 15, 23, 24, 25)]\n",
    "    \n",
    "    dat\n",
    "}"
   ]
  },
  {
   "cell_type": "markdown",
   "metadata": {},
   "source": [
    "## Run the parser\n",
    "This will initialize the parser for valve = 1 (sampling) and then valve = 2 (calibration). Included in this is the ___filter.eims()___ and ___take.avg()___ functions.\n",
    "\n",
    "__NB This will take a while...__"
   ]
  },
  {
   "cell_type": "code",
   "execution_count": 52,
   "metadata": {
    "collapsed": false
   },
   "outputs": [
    {
     "name": "stderr",
     "output_type": "stream",
     "text": [
      "Warning message in min(x):\n",
      "\"no non-missing arguments to min; returning Inf\"Warning message in max(x):\n",
      "\"no non-missing arguments to max; returning -Inf\"Warning message in min(x):\n",
      "\"no non-missing arguments to min; returning Inf\"Warning message in max(x):\n",
      "\"no non-missing arguments to max; returning -Inf\"Warning message in min(x):\n",
      "\"no non-missing arguments to min; returning Inf\"Warning message in max(x):\n",
      "\"no non-missing arguments to max; returning -Inf\"Warning message in min(x):\n",
      "\"no non-missing arguments to min; returning Inf\"Warning message in max(x):\n",
      "\"no non-missing arguments to max; returning -Inf\"Warning message in min(x):\n",
      "\"no non-missing arguments to min; returning Inf\"Warning message in max(x):\n",
      "\"no non-missing arguments to max; returning -Inf\"Warning message in min(x):\n",
      "\"no non-missing arguments to min; returning Inf\"Warning message in max(x):\n",
      "\"no non-missing arguments to max; returning -Inf\"Warning message in min(x):\n",
      "\"no non-missing arguments to min; returning Inf\"Warning message in max(x):\n",
      "\"no non-missing arguments to max; returning -Inf\"Warning message in min(x):\n",
      "\"no non-missing arguments to min; returning Inf\"Warning message in max(x):\n",
      "\"no non-missing arguments to max; returning -Inf\"Warning message in min(x):\n",
      "\"no non-missing arguments to min; returning Inf\"Warning message in max(x):\n",
      "\"no non-missing arguments to max; returning -Inf\"Warning message in min(x):\n",
      "\"no non-missing arguments to min; returning Inf\"Warning message in max(x):\n",
      "\"no non-missing arguments to max; returning -Inf\"Warning message in min(x):\n",
      "\"no non-missing arguments to min; returning Inf\"Warning message in max(x):\n",
      "\"no non-missing arguments to max; returning -Inf\"Warning message in min(x):\n",
      "\"no non-missing arguments to min; returning Inf\"Warning message in max(x):\n",
      "\"no non-missing arguments to max; returning -Inf\"Warning message in min(x):\n",
      "\"no non-missing arguments to min; returning Inf\"Warning message in max(x):\n",
      "\"no non-missing arguments to max; returning -Inf\"Warning message in min(x):\n",
      "\"no non-missing arguments to min; returning Inf\"Warning message in max(x):\n",
      "\"no non-missing arguments to max; returning -Inf\"Warning message in min(x):\n",
      "\"no non-missing arguments to min; returning Inf\"Warning message in max(x):\n",
      "\"no non-missing arguments to max; returning -Inf\""
     ]
    }
   ],
   "source": [
    "data.v1 = read.eims(1, input.dir, file.list.2, N = 2, verbose = FALSE, template = data, make.img = TRUE)"
   ]
  },
  {
   "cell_type": "code",
   "execution_count": 53,
   "metadata": {
    "collapsed": true
   },
   "outputs": [],
   "source": [
    "data.v2 = read.eims(2, input.dir, file.list.2, N = 2, verbose = FALSE, template = data, make.img = FALSE)"
   ]
  },
  {
   "cell_type": "code",
   "execution_count": 54,
   "metadata": {
    "collapsed": false
   },
   "outputs": [
    {
     "data": {
      "text/html": [
       "12446"
      ],
      "text/latex": [
       "12446"
      ],
      "text/markdown": [
       "12446"
      ],
      "text/plain": [
       "[1] 12446"
      ]
     },
     "metadata": {},
     "output_type": "display_data"
    },
    {
     "data": {
      "text/html": [
       "782"
      ],
      "text/latex": [
       "782"
      ],
      "text/markdown": [
       "782"
      ],
      "text/plain": [
       "[1] 782"
      ]
     },
     "metadata": {},
     "output_type": "display_data"
    },
    {
     "data": {
      "text/html": [
       "1404"
      ],
      "text/latex": [
       "1404"
      ],
      "text/markdown": [
       "1404"
      ],
      "text/plain": [
       "[1] 1404"
      ]
     },
     "metadata": {},
     "output_type": "display_data"
    },
    {
     "data": {
      "text/html": [
       "28"
      ],
      "text/latex": [
       "28"
      ],
      "text/markdown": [
       "28"
      ],
      "text/plain": [
       "[1] 28"
      ]
     },
     "metadata": {},
     "output_type": "display_data"
    }
   ],
   "source": [
    "## Also, correct the time since the year is not actually 2021...\n",
    "data.v1$time = data.v1$time - 4 * 365.25 * 86400 - 86400\n",
    "data.v2$time = data.v2$time - 4 * 365.25 * 86400 - 86400\n",
    "\n",
    "## Remove NA O2:Ar values\n",
    "data.v1 = data.v1[which(!is.na(data.v1$O2.Ar)),]\n",
    "data.v2 = data.v2[which(!is.na(data.v2$O2.Ar)),]\n",
    "\n",
    "## Number of entries, do they seem right?\n",
    "nrow(data.v1)\n",
    "length(which(data.v1$Flag == 3))\n",
    "nrow(data.v2)\n",
    "length(which(data.v2$Flag == 3))"
   ]
  },
  {
   "cell_type": "markdown",
   "metadata": {},
   "source": [
    "## Review results"
   ]
  },
  {
   "cell_type": "code",
   "execution_count": 63,
   "metadata": {
    "collapsed": false,
    "scrolled": false
   },
   "outputs": [
    {
     "data": {
      "image/png": "[encoded data removed]",
      "text/plain": [
       "plot without title"
      ]
     },
     "metadata": {},
     "output_type": "display_data"
    },
    {
     "data": {
      "image/png": "[encoded data removed]",
      "text/plain": [
       "plot without title"
      ]
     },
     "metadata": {},
     "output_type": "display_data"
    }
   ],
   "source": [
    "#pdf('./Output/Generate-EIMS-review1.pdf')\n",
    "\n",
    "par(mfrow=c(2,1))\n",
    "cols = c('black', 'green', 'red')\n",
    "\n",
    "plot(data.v1$time, data.v1$O2.Ar, pch=16, cex=0.3, ylab='O2/Ar', xlab='', col=cols[data.v1$Flag])\n",
    "points(data.v2$time, data.v2$O2.Ar, pch=16, cex=0.2, col=cols[data.v2$Flag])\n",
    "\n",
    "legend(data.v1$time[1], 19, c('Measurements', 'Calibration'), col=c('black', 'green'), pch=16, cex=0.6)\n",
    "\n",
    "plot(data.v1$time, data.v1$N2.Ar, pch=16, cex=0.3, ylab='N2/Ar', xlab='', col=cols[data.v1$Flag])\n",
    "points(data.v2$time, data.v2$N2.Ar, pch=16, cex=0.2, col=cols[data.v2$Flag])\n",
    "\n",
    "plot(data.v1$time, data.v1$time, pch=16, cex=0.3, ylab='Time', xlab='', col=cols[data.v1$Flag])\n",
    "points(data.v2$time, data.v2$time+86400, cex=0.2, col=cols[data.v2$Flag])\n",
    "\n",
    "plot(data.v1$time, data.v1$O2..uM., pch=16, cex=0.3, ylab='O2', xlab='', col=cols[data.v1$Flag])\n",
    "points(data.v2$time, data.v2$O2..uM., pch=16, cex=0.2, col=cols[data.v2$Flag])\n",
    "\n",
    "legend(data.v2$time[1], 470, c('Measurements', 'Calibration'), col=c('black', 'green'), pch=16, cex=0.6)\n",
    "\n",
    "#dev.off()"
   ]
  },
  {
   "cell_type": "code",
   "execution_count": 65,
   "metadata": {
    "collapsed": false
   },
   "outputs": [
    {
     "data": {
      "image/png": "[encoded data removed]",
      "text/plain": [
       "plot without title"
      ]
     },
     "metadata": {},
     "output_type": "display_data"
    }
   ],
   "source": [
    "#pdf('./Output/Generate-EIMS-review2.pdf')\n",
    "\n",
    "plot(data.v1$time, data.v1$time, pch=16, cex=0.3, ylab='Time', xlab='', col = cols[data.v1$Flag])\n",
    "points(data.v2$time, data.v2$time+86400/3, pch=16, cex=0.3, col = cols[data.v2$Flag])\n",
    "legend(data.v1$time[1], data.v1$time[nrow(data.v1)], c('Measurements', 'Calibration', 'Reject'),\n",
    "       col=cols, pch=16)\n",
    "\n",
    "#dev.off()"
   ]
  },
  {
   "cell_type": "code",
   "execution_count": null,
   "metadata": {
    "collapsed": true
   },
   "outputs": [],
   "source": [
    "plot(data.v1$time, data.v1$TP, col='white', ylim=c(3.2e-6, 5.5e-6), ylab='Total Pressure', xlab='')\n",
    "\n",
    "col = c('Black', 'blue', 'grey', 'dark green')\n",
    "\n",
    "for (i in 1:length(unique(data.v1[,1]))) {\n",
    "    l = which(data.v1[,1] == unique(data.v1[,1])[i])\n",
    "    points(data.v1$time[l], data.v1$TP[l], col=col[i %% 2 + 1], pch=20, cex=0.6)\n",
    "}\n",
    "\n",
    "for (i in 1:length(unique(data.v2[,1]))) {\n",
    "    l = which(data.v2[,1] == unique(data.v2[,1])[i])\n",
    "    points(data.v2$time[l], data.v2$TP[l], col=col[i %% 2 + 3], pch=20, cex=0.6)\n",
    "}\n"
   ]
  },
  {
   "cell_type": "markdown",
   "metadata": {},
   "source": [
    "# Save"
   ]
  },
  {
   "cell_type": "code",
   "execution_count": 66,
   "metadata": {
    "collapsed": true
   },
   "outputs": [],
   "source": [
    "## Save the data\n",
    "eims = list(sample = data.v1, cal = data.v2)\n",
    "save(eims, file='./RStates/EIMS.2min.2min.rdata')\n",
    "\n",
    "## Optional\n",
    "#write.csv(data.v1, './Input Data/EIMS-Valve1.2min.csv')\n",
    "#write.csv(data.v2, './Input Data/EIMS-Valve2.60min.csv')"
   ]
  },
  {
   "cell_type": "code",
   "execution_count": 9,
   "metadata": {
    "collapsed": true
   },
   "outputs": [],
   "source": [
    "load('./RStates/EIMS.2min.2min.rdata')"
   ]
  },
  {
   "cell_type": "code",
   "execution_count": 16,
   "metadata": {
    "collapsed": false,
    "scrolled": false
   },
   "outputs": [
    {
     "data": {
      "image/png": "[encoded data removed]",
      "text/plain": [
       "Plot with title \"Day - 3\""
      ]
     },
     "metadata": {},
     "output_type": "display_data"
    },
    {
     "data": {
      "image/png": "[encoded data removed]",
      "text/plain": [
       "Plot with title \"Day - 6\""
      ]
     },
     "metadata": {},
     "output_type": "display_data"
    },
    {
     "data": {
      "image/png": "[encoded data removed]",
      "text/plain": [
       "Plot with title \"Day - 9\""
      ]
     },
     "metadata": {},
     "output_type": "display_data"
    },
    {
     "data": {
      "image/png": "[encoded data removed]",
      "text/plain": [
       "Plot with title \"Day - 12\""
      ]
     },
     "metadata": {},
     "output_type": "display_data"
    },
    {
     "data": {
      "image/png": "[encoded data removed]",
      "text/plain": [
       "Plot with title \"Day - 15\""
      ]
     },
     "metadata": {},
     "output_type": "display_data"
    },
    {
     "data": {
      "image/png": "[encoded data removed]",
      "text/plain": [
       "Plot with title \"Day - 18\""
      ]
     },
     "metadata": {},
     "output_type": "display_data"
    },
    {
     "data": {
      "image/png": "[encoded data removed]",
      "text/plain": [
       "Plot with title \"Day - 21\""
      ]
     },
     "metadata": {},
     "output_type": "display_data"
    },
    {
     "data": {
      "image/png": "[encoded data removed]",
      "text/plain": [
       "Plot with title \"Day - 24\""
      ]
     },
     "metadata": {},
     "output_type": "display_data"
    },
    {
     "data": {
      "image/png": "[encoded data removed]",
      "text/plain": [
       "Plot with title \"Day - 27\""
      ]
     },
     "metadata": {},
     "output_type": "display_data"
    },
    {
     "data": {
      "image/png": "[encoded data removed]",
      "text/plain": [
       "Plot with title \"Day - 30\""
      ]
     },
     "metadata": {},
     "output_type": "display_data"
    }
   ],
   "source": [
    "par(mfrow=c(3,1))\n",
    "#pdf('Output/EIMS-24H Plots.pdf')\n",
    "eims.v1 = eims.v1[!is.na(eims.v1$time),]\n",
    "dt = floor(as.numeric(difftime(eims.v1$time, min(eims.v1$time), units='days')))\n",
    "dt2 = floor(as.numeric(difftime(eims.v2$time, min(eims.v2$time, na.rm = TRUE), units='days')))\n",
    "\n",
    "for (i in 1:floor(as.numeric(difftime(max(eims.v1$time), min(eims.v1$time), units='days')))) {\n",
    "    k = which(dt < i & dt >= i-1)\n",
    "    if(length(k) < 1) {\n",
    "        k = 1\n",
    "    }\n",
    "    k2 = which(dt2 < i & dt2 >= i-1)\n",
    "    plot(eims.v1$time[k], eims.v1$O2.Ar[k], pch=20, main=paste('Day -', i), xlab='', ylab='O2/Ar', ylim=c(20,30))\n",
    "    points(eims.v2$time[k2], eims.v2$O2.Ar[k2], pch=20, col='red')\n",
    "}\n",
    "#dev.off()"
   ]
  },
  {
   "cell_type": "markdown",
   "metadata": {},
   "source": [
    "---\n",
    "# Damaged/Unusable data file recovery"
   ]
  },
  {
   "cell_type": "code",
   "execution_count": null,
   "metadata": {
    "collapsed": true
   },
   "outputs": [],
   "source": [
    "2"
   ]
  },
  {
   "cell_type": "code",
   "execution_count": 100,
   "metadata": {
    "collapsed": false
   },
   "outputs": [
    {
     "name": "stdout",
     "output_type": "stream",
     "text": [
      "[1] \"2017-0603-2102 MID-valve corr not usable 2.txt\"\n",
      "[1] \"2017-0603-2102 MID-valve corr not usable.txt\"\n",
      "[1] \"2017-0604-0000 MID-valve corr - not usable 2.txt\"\n",
      "[1] \"2017-0604-0000 MID-valve corr - not usable.txt\"\n",
      "[1] \"2017-0604-0448 MID-valve corr not usable 2.txt\"\n",
      "[1] \"2017-0604-0448 MID-valve corr not usable.txt\"\n",
      "[1] \"2017-0605-0000 MID-valve corr not usable 2.txt\"\n",
      "[1] \"2017-0605-0000 MID-valve corr not usable.txt\"\n",
      "[1] \"2017-0605-0407 MID-valve corr - not usable short 2.txt\"\n",
      "[1] \"2017-0605-0407 MID-valve corr - not usable short.txt\"\n",
      "[1] \"2017-0605-0413 MID-valve corr not usable short 2.txt\"\n",
      "[1] \"2017-0605-0413 MID-valve corr not usable short.txt\"\n",
      "[1] \"2017-0605-0440 MID-valve corr- not usable 2.txt\"\n",
      "[1] \"Lower case Valve issue: 2017-0605-0440 MID-valve corr- not usable 2.txt\"\n",
      "[1] \"2017-0605-0440 MID-valve corr- not usable.txt\"\n",
      "[1] \"Lower case Valve issue: 2017-0605-0440 MID-valve corr- not usable.txt\"\n",
      "[1] \"2017-0606-1200 MID-valve corrnot usable 2.txt\"\n",
      "[1] \"2017-0606-1200 MID-valve corrnot usable.txt\"\n",
      "[1] \"2017-0606-1243 MID-valve corr - not usable 2.txt\"\n",
      "[1] \"2017-0606-1243 MID-valve corr - not usable.txt\"\n",
      "[1] \"2017-0609-1200 MID-valve corr - not usable.txt\"\n",
      "[1] \"2017-0609-1200 MID-valve corr - not usable.txt\"\n",
      "[1] \"Lower case Valve issue: 2017-0609-1200 MID-valve corr - not usable.txt\"\n",
      "[1] \"2017-0614-2001 MID-valve corr- not usable.txt\"\n"
     ]
    }
   ],
   "source": [
    "## Create template data structure to add new entries to:\n",
    "data.v3 = data[1,] # valve = 1\n",
    "data.v4 = data[1,] # valve = 2\n",
    "\n",
    "for (i in file.list.nu) {\n",
    "    ## load file and parse the time\n",
    "    data = read.csv(paste0(input.dir, i), sep='\\t')\n",
    "    data$time = strptime(data$time, format = dt.format, tz='')\n",
    "    \n",
    "    ## determine valve = 1 \n",
    "    l = which(data$Valve == 1)\n",
    "    temp = filter.eims(data[l,])\n",
    "    temp = avg.eims(temp, N)\n",
    "    \n",
    "    if (length(names(temp)) == length(names(data.v1))) {\n",
    "        names(temp) = names(data.v3) # Force colname match (dangerous), but will check that lengths are the same\n",
    "        data.v3 = rbind(data.v3, temp)\n",
    "    } else {\n",
    "        print(i)\n",
    "    }\n",
    "    \n",
    "    ## determine valve = 2\n",
    "    l = which(data$Valve == 2)\n",
    "    temp = filter.eims(data[l,])\n",
    "    temp = avg.eims(temp, N)\n",
    "    \n",
    "    if (length(names(temp)) == length(names(data.v4))) {\n",
    "        names(temp) = names(data.v4) # Force colname match (dangerous), but will check that lengths are the same\n",
    "        data.v4 = rbind(data.v4, temp)\n",
    "    } else {\n",
    "        print(i)\n",
    "    }\n",
    "    if (length(data$valve) > 1) {\n",
    "        print(paste(\"Lower case Valve issue:\", i))\n",
    "    }\n",
    "}\n",
    "\n",
    "\n",
    "## Remove the first row used to initiate the table\n",
    "data.v3 = data.v3[-1,]\n",
    "data.v4 = data.v4[-1,]\n",
    "data.v3 = data.v3[,-c(1, 13, 14, 15, 23, 24, 25)]\n",
    "data.v4 = data.v4[,-c(1, 13, 14, 15, 23, 24, 25)]"
   ]
  }
 ],
 "metadata": {
  "anaconda-cloud": {},
  "kernelspec": {
   "display_name": "R",
   "language": "R",
   "name": "ir"
  },
  "language_info": {
   "codemirror_mode": "r",
   "file_extension": ".r",
   "mimetype": "text/x-r-source",
   "name": "R",
   "pygments_lexer": "r",
   "version": "3.3.2"
  }
 },
 "nbformat": 4,
 "nbformat_minor": 2
}
