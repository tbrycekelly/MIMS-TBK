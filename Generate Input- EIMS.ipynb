{
 "cells": [
  {
   "cell_type": "markdown",
   "metadata": {},
   "source": [
    "# EIMS Data\n",
    "This script will read in the individual EIMS data files from the given directory and compile/prase the data for the model."
   ]
  },
  {
   "cell_type": "code",
   "execution_count": 1,
   "metadata": {},
   "outputs": [
    {
     "data": {
      "text/html": [
       "3"
      ],
      "text/latex": [
       "3"
      ],
      "text/markdown": [
       "3"
      ],
      "text/plain": [
       "[1] 3"
      ]
     },
     "metadata": {},
     "output_type": "display_data"
    }
   ],
   "source": [
    "## Install the package if needed:\n",
    "#install.packages('rgdal', repos='http://cran.us.r-project.org')\n",
    "\n",
    "## Load the relevent packages\n",
    "#library(R.matlab)  # If you need to read in matlab .mat files\n",
    "library(openxlsx)  # If you need to read in .xlsx files\n",
    "library(compiler)  # required for JIT (below)\n",
    "\n",
    "## Enable compilation (speed gain?)\n",
    "enableJIT(3)\n",
    "\n",
    "## Helper function for converting the date time stamps.\n",
    "conv_excel_time = function(x, tz='US/Pacific') {\n",
    "    as.POSIXct(as.Date(x,origin=\"1899-12-30\", tz=tz))\n",
    "}"
   ]
  },
  {
   "cell_type": "markdown",
   "metadata": {},
   "source": [
    "### File Input\n",
    "\n",
    "First we need to set the directory and file name criteria of the data to load. We also set the date-time format that the parser will be expecting."
   ]
  },
  {
   "cell_type": "code",
   "execution_count": 2,
   "metadata": {},
   "outputs": [
    {
     "name": "stdout",
     "output_type": "stream",
     "text": [
      "[1] \"Number of files in file.list: 179\"\n",
      "[1] \"Number of files in file.list.2: 70\"\n",
      "[1] \"Number of files in file.list.nu: 17\"\n"
     ]
    }
   ],
   "source": [
    "input.dir = './Raw Data/EIMS/'\n",
    "dt.format = \"%m/%d/%y %I:%M %p\"\n",
    "\n",
    "## Generate list of files in the directory\n",
    "file.list = list.files(input.dir)\n",
    "\n",
    "## split file.list into usable lists\n",
    "file.list.nu = file.list[grepl('not usable', file.list)] # not usable\n",
    "file.list.2 = file.list[grepl('corr.txt', file.list)] # usable\n",
    "\n",
    "## Print total number of files in each category\n",
    "print(paste('Number of files in file.list:', length(file.list)))\n",
    "print(paste('Number of files in file.list.2:', length(file.list.2)))\n",
    "print(paste('Number of files in file.list.nu:', length(file.list.nu)))\n"
   ]
  },
  {
   "cell_type": "code",
   "execution_count": 3,
   "metadata": {
    "collapsed": true
   },
   "outputs": [],
   "source": [
    "## Read in first data file and configure formatting around it\n",
    "data = read.csv(paste0(input.dir, file.list.2[1]), sep='\\t')\n",
    "data$time = strptime(data$time, format = dt.format, tz='')"
   ]
  },
  {
   "cell_type": "markdown",
   "metadata": {},
   "source": [
    "### Main Functions\n",
    "\n",
    "These functions will do the heavy lifting for the EIMS preparation. The __avg.eims()__ generates the average of N minutes of samples while __filter.eims()__ goes QC type of work by removing high/low pressure samples and handles missing values."
   ]
  },
  {
   "cell_type": "code",
   "execution_count": 4,
   "metadata": {
    "collapsed": true
   },
   "outputs": [],
   "source": [
    "## Average\n",
    "avg.eims = function(x, N) {\n",
    "    i = 1\n",
    "    \n",
    "    while (i < nrow(x)) {\n",
    "        dt = as.numeric(difftime(x$time, x$time[i], unit='mins'))\n",
    "        l = which(dt >= 0 & dt < N)\n",
    "        \n",
    "        ## Calculate the mean of the relevant columns, removing na's\n",
    "        x[i, 3:ncol(x)] = apply(x[l, 3:ncol(x)], 2, function(x) {mean(x, na.rm = TRUE)})\n",
    "    \n",
    "        if (length(l) > 1) {\n",
    "            l = l[l != i]\n",
    "            if (length(l) > 1) {\n",
    "                x = x[-l,]\n",
    "            }\n",
    "        }\n",
    "        i = i + 1\n",
    "    }\n",
    "    x\n",
    "}\n",
    "\n",
    "## Prepare filter function\n",
    "filter.eims = function(x, i='Unknown') {\n",
    "    ## Remove entries where flow within 5% of 100\n",
    "    x = x[x$flow < 105 & x$flow > 95,]\n",
    "    x = x[x$O2.Ar < 35 & x$O2.Ar > 15,]\n",
    "    x[,1] = i\n",
    "    \n",
    "    ## Remove first and last minute (safer to remove bad data than to keep it)\n",
    "    l = which(as.numeric(difftime(x$time, x$time[1], unit='mins'))^2 < 1)\n",
    "    if (length(l) > 1) {\n",
    "        x = x[-l,]\n",
    "    }\n",
    "    \n",
    "    l = which(as.numeric(difftime(x$time, x$time[nrow(x)], unit='mins'))^2 < 1)\n",
    "    if (length(l) > 1) {\n",
    "        x = x[-l,]\n",
    "    }\n",
    "    \n",
    "    ## find all valve switches and remove all entries within a miute of it.\n",
    "    l = which(diff(x$Valve) != 0)\n",
    "    for (i in l) {\n",
    "        dt = abs(as.numeric(difftime(x$time[i], x$time, unit='mins')))\n",
    "        k = which(dt <= 1)\n",
    "        if (length(k) > 1) {\n",
    "            x = x[-k,]\n",
    "        }\n",
    "    }\n",
    "    x = x[!is.na(x$O2.Ar),]\n",
    "    x\n",
    "}"
   ]
  },
  {
   "cell_type": "code",
   "execution_count": 12,
   "metadata": {},
   "outputs": [
    {
     "name": "stdout",
     "output_type": "stream",
     "text": [
      "[1] \"Loaded file: 2017-0601-1200 MID-valve corr.txt\"\n",
      "[1] \"  Added 41 to valve 1.\"\n",
      "[1] \"  Added 0 to valve 2.\"\n",
      "[1] \"Loaded file: 2017-0601-2031 MID-valve corr.txt\"\n",
      "[1] \"  Added 74 to valve 1.\"\n",
      "[1] \"  Added 2 to valve 2.\"\n",
      "[1] \"Loaded file: 2017-0602-0000 MID-valve corr.txt\"\n",
      "[1] \"  Added 311 to valve 1.\"\n",
      "[1] \"  Added 3 to valve 2.\"\n",
      "[1] \"Loaded file: 2017-0602-1200 MID-valve corr.txt\"\n",
      "[1] \"  Added 81 to valve 1.\"\n",
      "[1] \"  Added 0 to valve 2.\"\n",
      "[1] \"Loaded file: 2017-0602-1449 MID-valve corr.txt\"\n",
      "[1] \"  Added 230 to valve 1.\"\n",
      "[1] \"  Added 2 to valve 2.\"\n",
      "[1] \"Loaded file: 2017-0603-1200 MID-valve corr.txt\"\n",
      "[1] \"  Added 48 to valve 1.\"\n",
      "[1] \"  Added 0 to valve 2.\"\n",
      "[1] \"Loaded file: 2017-0603-1347 MID-valve corr.txt\"\n",
      "[1] \"  Added 56 to valve 1.\"\n",
      "[1] \"  Added 0 to valve 2.\"\n",
      "[1] \"Loaded file: 2017-0603-1548 MID-valve corr.txt\"\n",
      "[1] \"  Added 140 to valve 1.\"\n",
      "[1] \"  Added 2 to valve 2.\"\n",
      "[1] \"Loaded file: 2017-0604-0448 MID-TBK-valve corr.txt\"\n",
      "[1] \"  Added 935 to valve 1.\"\n",
      "[1] \"  Added 19156 to valve 2.\"\n",
      "[1] \"Loaded file: 2017-0604-1200 MID-valve corr.txt\"\n",
      "[1] \"  Added 176 to valve 1.\"\n",
      "[1] \"  Added 2 to valve 2.\"\n",
      "[1] \"Loaded file: 2017-0605-0528 MID-valve corr.txt\"\n",
      "[1] \"  Added 191 to valve 1.\"\n",
      "[1] \"  Added 0 to valve 2.\"\n",
      "[1] \"Loaded file: 2017-0605-1200 MID-valve corr.txt\"\n",
      "[1] \"  Added 0 to valve 1.\"\n",
      "[1] \"  Added 0 to valve 2.\"\n",
      "[1] \"Loaded file: 2017-0606-0000 MID-vamve corr.txt\"\n",
      "[1] \"  Added 50 to valve 1.\"\n",
      "[1] \"  Added 0 to valve 2.\"\n",
      "[1] \"Loaded file: 2017-0606-1259 MID-valve corr.txt\"\n",
      "[1] \"  Added 198 to valve 1.\"\n",
      "[1] \"  Added 3 to valve 2.\"\n",
      "[1] \"Loaded file: 2017-0607-0000 MID-valve corr.txt\"\n",
      "[1] \"  Added 0 to valve 1.\"\n",
      "[1] \"  Added 0 to valve 2.\"\n",
      "[1] \"Loaded file: 2017-0607-1200 MID-valve corr.txt\"\n",
      "[1] \"  Added 308 to valve 1.\"\n",
      "[1] \"  Added 2 to valve 2.\"\n",
      "[1] \"Loaded file: 2017-0608-0000 MID-valve corr.txt\"\n",
      "[1] \"  Added 242 to valve 1.\"\n",
      "[1] \"  Added 3 to valve 2.\"\n",
      "[1] \"Loaded file: 2017-0608-1200 MID-valve-corr.txt\"\n",
      "[1] \"  Added 1 to valve 1.\"\n",
      "[1] \"  Added 6 to valve 2.\"\n",
      "[1] \"Loaded file: 2017-0609-0000 MID-valve corr.txt\"\n",
      "[1] \"  Added 42 to valve 1.\"\n",
      "[1] \"  Added 11 to valve 2.\"\n",
      "[1] \"Loaded file: 2017-0610-0000 MID-cvalve corr.txt\"\n",
      "[1] \"  Added 5111 to valve 1.\"\n",
      "[1] \"  Added 19380 to valve 2.\"\n",
      "[1] \"Loaded file: 2017-0610-1200 MID-valve corr.txt\"\n",
      "[1] \"  Added 0 to valve 1.\"\n",
      "[1] \"  Added 0 to valve 2.\"\n",
      "[1] \"Loaded file: 2017-0611-0000 MID-valve corr.txt\"\n",
      "[1] \"  Added 2910 to valve 1.\"\n",
      "[1] \"  Added 30410 to valve 2.\"\n",
      "[1] \"Loaded file: 2017-0611-1200 MID-valve corr.txt\"\n",
      "[1] \"  Added 13 to valve 1.\"\n",
      "[1] \"  Added 2 to valve 2.\"\n",
      "[1] \"Loaded file: 2017-0611-1326 MID-valve corr.txt\"\n",
      "[1] \"  Added 0 to valve 1.\"\n",
      "[1] \"  Added 1 to valve 2.\"\n",
      "[1] \"Loaded file: 2017-0611-1342 MID-valve corr.txt\"\n",
      "[1] \"  Added 4351 to valve 1.\"\n",
      "[1] \"  Added 16668 to valve 2.\"\n",
      "[1] \"Loaded file: 2017-0612-0000 MID-valve-corr.txt\"\n",
      "[1] \"  Added 4383 to valve 1.\"\n",
      "[1] \"  Added 26446 to valve 2.\"\n",
      "[1] \"Loaded file: 2017-0612-1200 MID-valve corr.txt\"\n",
      "[1] \"  Added 2514 to valve 1.\"\n",
      "[1] \"  Added 30528 to valve 2.\"\n",
      "[1] \"Loaded file: 2017-0613-0000 MID-valve corr.txt\"\n",
      "[1] \"  Added 287 to valve 1.\"\n",
      "[1] \"  Added 3 to valve 2.\"\n",
      "[1] \"Loaded file: 2017-0613-1200 MID-valve corr.txt\"\n",
      "[1] \"  Added 268 to valve 1.\"\n",
      "[1] \"  Added 2 to valve 2.\"\n",
      "[1] \"Loaded file: 2017-0614-0000 MID-valve corr.txt\"\n",
      "[1] \"  Added 272 to valve 1.\"\n",
      "[1] \"  Added 3 to valve 2.\"\n",
      "[1] \"Loaded file: 2017-0614-1200 MID-valve corr.txt\"\n",
      "[1] \"  Added 210 to valve 1.\"\n",
      "[1] \"  Added 2 to valve 2.\"\n",
      "[1] \"Loaded file: 2017-0614-2001 MID-TBK-valve corr.txt\"\n",
      "[1] \"  Added 10374 to valve 1.\"\n",
      "[1] \"  Added 0 to valve 2.\"\n",
      "[1] \"Loaded file: 2017-0615-0000 MID-TBK-valve corr.txt\"\n",
      "[1] \"  Added 11916 to valve 1.\"\n",
      "[1] \"  Added 2704 to valve 2.\"\n",
      "[1] \"Loaded file: 2017-0615-1200 MID-valve corr.txt\"\n",
      "[1] \"  Added 279 to valve 1.\"\n",
      "[1] \"  Added 3 to valve 2.\"\n",
      "[1] \"Loaded file: 2017-0616-0000 MID-valve corr.txt\"\n",
      "[1] \"  Added 318 to valve 1.\"\n",
      "[1] \"  Added 3 to valve 2.\"\n",
      "[1] \"Loaded file: 2017-0616-1200 MID-valve corr.txt\"\n",
      "[1] \"  Added 284 to valve 1.\"\n",
      "[1] \"  Added 2 to valve 2.\"\n",
      "[1] \"Loaded file: 2017-0617-1200 MID-valve corr.txt\"\n",
      "[1] \"  Added 318 to valve 1.\"\n",
      "[1] \"  Added 3 to valve 2.\"\n",
      "[1] \"Loaded file: 2017-0618-0000 MID-valve corr.txt\"\n",
      "[1] \"  Added 172 to valve 1.\"\n",
      "[1] \"  Added 1 to valve 2.\"\n",
      "[1] \"Loaded file: 2017-0618-0620 MID-valve corr.txt\"\n",
      "[1] \"  Added 17 to valve 1.\"\n",
      "[1] \"  Added 1 to valve 2.\"\n",
      "[1] \"Loaded file: 2017-0618-0722 MID-valve corr.txt\"\n",
      "[1] \"  Added 119 to valve 1.\"\n",
      "[1] \"  Added 2 to valve 2.\"\n",
      "[1] \"Loaded file: 2017-0618-1200 MID-valve corr.txt\"\n",
      "[1] \"  Added 327 to valve 1.\"\n",
      "[1] \"  Added 3 to valve 2.\"\n",
      "[1] \"Loaded file: 2017-0619-0000 MID-valve corr.txt\"\n",
      "[1] \"  Added 318 to valve 1.\"\n",
      "[1] \"  Added 3 to valve 2.\"\n",
      "[1] \"Loaded file: 2017-0619-1200 MID-valve corr.txt\"\n",
      "[1] \"  Added 319 to valve 1.\"\n",
      "[1] \"  Added 3 to valve 2.\"\n",
      "[1] \"Loaded file: 2017-0620-0000 MID valve corr.txt\"\n",
      "[1] \"  Added 332 to valve 1.\"\n",
      "[1] \"  Added 2 to valve 2.\"\n",
      "[1] \"Loaded file: 2017-0620-1200 MID-vave corr.txt\"\n",
      "[1] \"  Added 318 to valve 1.\"\n",
      "[1] \"  Added 3 to valve 2.\"\n",
      "[1] \"Loaded file: 2017-0621-0000 MID-valve corr.txt\"\n",
      "[1] \"  Added 318 to valve 1.\"\n",
      "[1] \"  Added 3 to valve 2.\"\n",
      "[1] \"Loaded file: 2017-0621-1200 MID-valve corr.txt\"\n",
      "[1] \"  Added 324 to valve 1.\"\n",
      "[1] \"  Added 3 to valve 2.\"\n",
      "[1] \"Loaded file: 2017-0622-0000 MID-valve corr.txt\"\n",
      "[1] \"  Added 328 to valve 1.\"\n",
      "[1] \"  Added 3 to valve 2.\"\n",
      "[1] \"Loaded file: 2017-0622-1200 MID-valve corr.txt\"\n",
      "[1] \"  Added 318 to valve 1.\"\n",
      "[1] \"  Added 3 to valve 2.\"\n",
      "[1] \"Loaded file: 2017-0623-0000 MID-valve corr.txt\"\n",
      "[1] \"  Added 320 to valve 1.\"\n",
      "[1] \"  Added 3 to valve 2.\"\n",
      "[1] \"Loaded file: 2017-0623-1200 MID-valve corr.txt\"\n",
      "[1] \"  Added 332 to valve 1.\"\n",
      "[1] \"  Added 2 to valve 2.\"\n",
      "[1] \"Loaded file: 2017-0624-0000 MID-valve corr.txt\"\n",
      "[1] \"  Added 332 to valve 1.\"\n",
      "[1] \"  Added 2 to valve 2.\"\n",
      "[1] \"Loaded file: 2017-0624-1200 MID-valve corr.txt\"\n",
      "[1] \"  Added 332 to valve 1.\"\n",
      "[1] \"  Added 2 to valve 2.\"\n",
      "[1] \"Loaded file: 2017-0625-0000 MID-valve corr.txt\"\n",
      "[1] \"  Added 177 to valve 1.\"\n",
      "[1] \"  Added 1 to valve 2.\"\n",
      "[1] \"Loaded file: 2017-0625-0647 MID-TBK-valve corr.txt\"\n",
      "[1] \"  Added 5470 to valve 1.\"\n",
      "[1] \"  Added 2910 to valve 2.\"\n",
      "[1] \"Loaded file: 2017-0625-1200 MID-valve corr.txt\"\n",
      "[1] \"  Added 332 to valve 1.\"\n",
      "[1] \"  Added 3 to valve 2.\"\n",
      "[1] \"Loaded file: 2017-0626-0000 MID-valve corr.txt\"\n",
      "[1] \"  Added 315 to valve 1.\"\n",
      "[1] \"  Added 3 to valve 2.\"\n",
      "[1] \"Loaded file: 2017-0626-1200 MID-valve corr.txt\"\n",
      "[1] \"  Added 146 to valve 1.\"\n",
      "[1] \"  Added 1 to valve 2.\"\n",
      "[1] \"Loaded file: 2017-0627-0000 MID-valve corr.txt\"\n",
      "[1] \"  Added 319 to valve 1.\"\n",
      "[1] \"  Added 3 to valve 2.\"\n",
      "[1] \"Loaded file: 2017-0627-1200 MID-valve corr.txt\"\n",
      "[1] \"  Added 319 to valve 1.\"\n",
      "[1] \"  Added 3 to valve 2.\"\n",
      "[1] \"Loaded file: 2017-0628-0000 MID-valve corr.txt\"\n",
      "[1] \"  Added 331 to valve 1.\"\n",
      "[1] \"  Added 3 to valve 2.\"\n",
      "[1] \"Loaded file: 2017-0628-1200 MID-valve corr.txt\"\n",
      "[1] \"  Added 322 to valve 1.\"\n",
      "[1] \"  Added 3 to valve 2.\"\n",
      "[1] \"Loaded file: 2017-0629-0000 MID-valve corr.txt\"\n",
      "[1] \"  Added 319 to valve 1.\"\n",
      "[1] \"  Added 3 to valve 2.\"\n",
      "[1] \"Loaded file: 2017-0629-1200 MID-valve corr.txt\"\n",
      "[1] \"  Added 309 to valve 1.\"\n",
      "[1] \"  Added 3 to valve 2.\"\n",
      "[1] \"Loaded file: 2017-0630-0000 MID-valve corr.txt\"\n",
      "[1] \"  Added 292 to valve 1.\"\n",
      "[1] \"  Added 3 to valve 2.\"\n",
      "[1] \"Loaded file: 2017-0630-1200 MID-valve vcorr.txt\"\n",
      "[1] \"  Added 310 to valve 1.\"\n",
      "[1] \"  Added 3 to valve 2.\"\n",
      "[1] \"Loaded file: 2017-0701-0000 MID-valve corr.txt\"\n",
      "[1] \"  Added 320 to valve 1.\"\n",
      "[1] \"  Added 3 to valve 2.\"\n",
      "[1] \"Loaded file: 2017-0701-1200 MID-valve corr.txt\"\n",
      "[1] \"  Added 238 to valve 1.\"\n",
      "[1] \"  Added 1 to valve 2.\"\n",
      "[1] \"Loaded file: 2017-0701-2058 MID-valve corr.txt\"\n",
      "[1] \"  Added 85 to valve 1.\"\n",
      "[1] \"  Added 1 to valve 2.\"\n",
      "[1] \"Loaded file: 2017-0702-0000 MID-valve corr.txt\"\n",
      "[1] \"  Added 59 to valve 1.\"\n",
      "[1] \"  Added 0 to valve 2.\"\n"
     ]
    }
   ],
   "source": [
    "N = 2 ## Time to avg over (mins)\n",
    "N.cal = 60  ## Time to avg cal over (mins)\n",
    "\n",
    "\n",
    "## Create template data structure to add new entries to:\n",
    "data.v1 = data[1,] # valve = 1\n",
    "data.v2 = data[1,] # valve = 2\n",
    "\n",
    "for (i in file.list.2) {\n",
    "    ## load file and parse the time and filter the values\n",
    "    data = read.csv(paste0(input.dir, i), sep='\\t')\n",
    "    data$time = strptime(data$time, format = dt.format, tz='')\n",
    "    data = filter.eims(data)\n",
    "    print(paste(\"Loaded file:\", i))\n",
    "    \n",
    "    #### determine valve = 1 \n",
    "    l = which(data$Valve == 1)\n",
    "    temp = avg.eims(data[l,], N)\n",
    "    \n",
    "    if (length(names(temp)) == length(names(data.v1))) {\n",
    "        ## Do the column names match?\n",
    "        names(temp) = names(data.v1) # Force colname match (dangerous), but will check that lengths are the same\n",
    "        data.v1 = rbind(data.v1, temp)\n",
    "        print(paste('  Added', nrow(temp),'to valve 1.'))\n",
    "    } else {\n",
    "        print(i)\n",
    "    }\n",
    "    \n",
    "    #### determine valve = 2\n",
    "    l = which(data$Valve == 2)\n",
    "    temp = avg.eims(data[l,], N.cal)\n",
    "    \n",
    "    if (length(names(temp)) == length(names(data.v2))) {\n",
    "        ## Do the column names match?\n",
    "        names(temp) = names(data.v2) # Force colname match (dangerous), but will check that lengths are the same\n",
    "        data.v2 = rbind(data.v2, temp)\n",
    "        print(paste('  Added', nrow(temp),'to valve 2.'))\n",
    "    } else {\n",
    "        print(i)\n",
    "    }\n",
    "    if (length(data$valve) > 1) {\n",
    "        print(paste(\"Lower case Valve issue:\", i))\n",
    "    }\n",
    "}\n",
    "\n",
    "\n",
    "## Remove the first row used to initiate the table\n",
    "data.v1 = data.v1[-1,]\n",
    "data.v2 = data.v2[-1,]\n",
    "data.v1 = data.v1[,-c(13, 14, 15, 23, 24, 25)]\n",
    "data.v2 = data.v2[,-c(13, 14, 15, 23, 24, 25)]"
   ]
  },
  {
   "cell_type": "code",
   "execution_count": 6,
   "metadata": {},
   "outputs": [
    {
     "data": {
      "text/html": [
       "13166"
      ],
      "text/latex": [
       "13166"
      ],
      "text/markdown": [
       "13166"
      ],
      "text/plain": [
       "[1] 13166"
      ]
     },
     "metadata": {},
     "output_type": "display_data"
    },
    {
     "data": {
      "text/html": [
       "144"
      ],
      "text/latex": [
       "144"
      ],
      "text/markdown": [
       "144"
      ],
      "text/plain": [
       "[1] 144"
      ]
     },
     "metadata": {},
     "output_type": "display_data"
    }
   ],
   "source": [
    "## Also, correct the time since the year is not actuall 2021...\n",
    "data.v1$time = data.v1$time - 4 * 365.25 * 86400\n",
    "data.v2$time = data.v2$time - 4 * 365.25 * 86400\n",
    "\n",
    "## Remove NA O2:Ar values\n",
    "data.v1 = data.v1[which(!is.na(data.v1$O2.Ar)),]\n",
    "data.v2 = data.v2[which(!is.na(data.v2$O2.Ar)),]\n",
    "\n",
    "## Number of entries, do they seem right?\n",
    "nrow(data.v1)\n",
    "nrow(data.v2)"
   ]
  },
  {
   "cell_type": "code",
   "execution_count": 7,
   "metadata": {},
   "outputs": [
    {
     "data": {
      "text/html": [
       "<table>\n",
       "<thead><tr><th></th><th scope=col>used</th><th scope=col>(Mb)</th><th scope=col>gc trigger</th><th scope=col>(Mb)</th><th scope=col>max used</th><th scope=col>(Mb)</th></tr></thead>\n",
       "<tbody>\n",
       "\t<tr><th scope=row>Ncells</th><td> 554313 </td><td>29.7    </td><td> 1442291</td><td> 77.1   </td><td> 1442291</td><td> 77.1   </td></tr>\n",
       "\t<tr><th scope=row>Vcells</th><td>1634537 </td><td>12.5    </td><td>20124817</td><td>153.6   </td><td>25156022</td><td>192.0   </td></tr>\n",
       "</tbody>\n",
       "</table>\n"
      ],
      "text/latex": [
       "\\begin{tabular}{r|llllll}\n",
       "  & used & (Mb) & gc trigger & (Mb) & max used & (Mb)\\\\\n",
       "\\hline\n",
       "\tNcells &  554313  & 29.7     &  1442291 &  77.1    &  1442291 &  77.1   \\\\\n",
       "\tVcells & 1634537  & 12.5     & 20124817 & 153.6    & 25156022 & 192.0   \\\\\n",
       "\\end{tabular}\n"
      ],
      "text/markdown": [
       "\n",
       "| <!--/--> | used | (Mb) | gc trigger | (Mb) | max used | (Mb) | \n",
       "|---|---|\n",
       "| Ncells |  554313  | 29.7     |  1442291 |  77.1    |  1442291 |  77.1    | \n",
       "| Vcells | 1634537  | 12.5     | 20124817 | 153.6    | 25156022 | 192.0    | \n",
       "\n",
       "\n"
      ],
      "text/plain": [
       "       used    (Mb) gc trigger (Mb)  max used (Mb) \n",
       "Ncells  554313 29.7  1442291    77.1  1442291  77.1\n",
       "Vcells 1634537 12.5 20124817   153.6 25156022 192.0"
      ]
     },
     "metadata": {},
     "output_type": "display_data"
    }
   ],
   "source": [
    "gc()"
   ]
  },
  {
   "cell_type": "markdown",
   "metadata": {},
   "source": [
    "## Review results"
   ]
  },
  {
   "cell_type": "code",
   "execution_count": 8,
   "metadata": {
    "scrolled": false
   },
   "outputs": [
    {
     "data": {
      "image/png": "[encoded data removed]",
      "text/plain": [
       "plot without title"
      ]
     },
     "metadata": {},
     "output_type": "display_data"
    },
    {
     "data": {
      "image/png": "[encoded data removed]",
      "text/plain": [
       "plot without title"
      ]
     },
     "metadata": {},
     "output_type": "display_data"
    }
   ],
   "source": [
    "#pdf('./Output/Generate-EIMS-review1.pdf')\n",
    "\n",
    "par(mfrow=c(2,1))\n",
    "l = order(data.v1$time)\n",
    "ll = order(data.v2$time)\n",
    "\n",
    "plot(data.v1$time[l], data.v1$O2.Ar[l], pch=16, cex=0.3, ylab='O2/Ar', xlab='')\n",
    "points(data.v2$time[ll], data.v2$O2.Ar[ll], pch=16, cex=0.2, col='red')\n",
    "\n",
    "legend(data.v1$time[1], 19, c('Measurements', 'Calibration'), col=c('black', 'red'), pch=16, cex=0.6)\n",
    "\n",
    "plot(data.v1$time[l], data.v1$N2.Ar[l], pch=16, cex=0.3, ylab='N2/Ar', xlab='')\n",
    "points(data.v2$time[ll], data.v2$N2.Ar[ll], pch=16, cex=0.2, col='red')\n",
    "\n",
    "plot(data.v1$time[l], data.v1$time[l], pch=16, cex=0.3, ylab='Time', xlab='')\n",
    "points(data.v2$time[ll], data.v2$time[ll]+86400, cex=0.2, col='red')\n",
    "\n",
    "plot(data.v1$time[l], data.v1$O2..uM.[l], pch=16, cex=0.3, ylab='O2', xlab='')\n",
    "points(data.v2$time[ll], data.v2$O2..uM.[ll], pch=16, cex=0.2, col='red')\n",
    "\n",
    "legend(data.v2$time[1], 470, c('Measurements', 'Calibration'), col=c('black', 'red'), pch=16, cex=0.6)\n",
    "\n",
    "#dev.off()"
   ]
  },
  {
   "cell_type": "code",
   "execution_count": 9,
   "metadata": {},
   "outputs": [
    {
     "data": {
      "image/png": "[encoded data removed]",
      "text/plain": [
       "plot without title"
      ]
     },
     "metadata": {},
     "output_type": "display_data"
    }
   ],
   "source": [
    "#pdf('./Output/Generate-EIMS-review2.pdf')\n",
    "\n",
    "plot(data.v1$time[l], data.v1$time[l], pch=16, cex=0.3, ylab='Time', xlab='')\n",
    "points(data.v2$time[ll], data.v2$time[ll]+86400/3, pch=16, cex=0.3, col='red')\n",
    "legend(data.v1$time[1], data.v1$time[nrow(data.v1)], c('Measurements', 'Calibration'), col=c('black', 'red'), pch=16)\n",
    "\n",
    "#dev.off()"
   ]
  },
  {
   "cell_type": "code",
   "execution_count": 10,
   "metadata": {},
   "outputs": [
    {
     "data": {
      "image/png": "[encoded data removed]",
      "text/plain": [
       "plot without title"
      ]
     },
     "metadata": {},
     "output_type": "display_data"
    }
   ],
   "source": [
    "plot(data.v1$time, data.v1$TP, col='white', ylim=c(3.2e-6, 5.5e-6), ylab='Total Pressure', xlab='')\n",
    "\n",
    "col = c('Black', 'blue', 'grey', 'dark green')\n",
    "\n",
    "for (i in 1:length(unique(data.v1[,1]))) {\n",
    "    l = which(data.v1[,1] == unique(data.v1[,1])[i])\n",
    "    points(data.v1$time[l], data.v1$TP[l], col=col[i %% 2 + 1], pch=20, cex=0.6)\n",
    "}\n",
    "\n",
    "for (i in 1:length(unique(data.v2[,1]))) {\n",
    "    l = which(data.v2[,1] == unique(data.v2[,1])[i])\n",
    "    points(data.v2$time[l], data.v2$TP[l], col=col[i %% 2 + 3], pch=20, cex=0.6)\n",
    "}\n"
   ]
  },
  {
   "cell_type": "markdown",
   "metadata": {},
   "source": [
    "# Save"
   ]
  },
  {
   "cell_type": "code",
   "execution_count": 11,
   "metadata": {
    "collapsed": true
   },
   "outputs": [],
   "source": [
    "## Save the data\n",
    "eims.v1 = data.v1\n",
    "eims.v2 = data.v2\n",
    "save(eims.v1, file='./RStates/EIMS.v1.2min.rdata')\n",
    "save(eims.v2, file='./RStates/EIMS.v2.60min.rdata')\n",
    "\n",
    "## Optional\n",
    "write.csv(data.v1, './Input Data/EIMS-Valve1.2min.csv')\n",
    "write.csv(data.v2, './Input Data/EIMS-Valve2.60min.csv')"
   ]
  },
  {
   "cell_type": "markdown",
   "metadata": {},
   "source": [
    "---\n",
    "# Damaged/Unusable data file recovery"
   ]
  },
  {
   "cell_type": "code",
   "execution_count": null,
   "metadata": {
    "collapsed": true
   },
   "outputs": [],
   "source": []
  },
  {
   "cell_type": "code",
   "execution_count": 100,
   "metadata": {},
   "outputs": [
    {
     "name": "stdout",
     "output_type": "stream",
     "text": [
      "[1] \"2017-0603-2102 MID-valve corr not usable 2.txt\"\n",
      "[1] \"2017-0603-2102 MID-valve corr not usable.txt\"\n",
      "[1] \"2017-0604-0000 MID-valve corr - not usable 2.txt\"\n",
      "[1] \"2017-0604-0000 MID-valve corr - not usable.txt\"\n",
      "[1] \"2017-0604-0448 MID-valve corr not usable 2.txt\"\n",
      "[1] \"2017-0604-0448 MID-valve corr not usable.txt\"\n",
      "[1] \"2017-0605-0000 MID-valve corr not usable 2.txt\"\n",
      "[1] \"2017-0605-0000 MID-valve corr not usable.txt\"\n",
      "[1] \"2017-0605-0407 MID-valve corr - not usable short 2.txt\"\n",
      "[1] \"2017-0605-0407 MID-valve corr - not usable short.txt\"\n",
      "[1] \"2017-0605-0413 MID-valve corr not usable short 2.txt\"\n",
      "[1] \"2017-0605-0413 MID-valve corr not usable short.txt\"\n",
      "[1] \"2017-0605-0440 MID-valve corr- not usable 2.txt\"\n",
      "[1] \"Lower case Valve issue: 2017-0605-0440 MID-valve corr- not usable 2.txt\"\n",
      "[1] \"2017-0605-0440 MID-valve corr- not usable.txt\"\n",
      "[1] \"Lower case Valve issue: 2017-0605-0440 MID-valve corr- not usable.txt\"\n",
      "[1] \"2017-0606-1200 MID-valve corrnot usable 2.txt\"\n",
      "[1] \"2017-0606-1200 MID-valve corrnot usable.txt\"\n",
      "[1] \"2017-0606-1243 MID-valve corr - not usable 2.txt\"\n",
      "[1] \"2017-0606-1243 MID-valve corr - not usable.txt\"\n",
      "[1] \"2017-0609-1200 MID-valve corr - not usable.txt\"\n",
      "[1] \"2017-0609-1200 MID-valve corr - not usable.txt\"\n",
      "[1] \"Lower case Valve issue: 2017-0609-1200 MID-valve corr - not usable.txt\"\n",
      "[1] \"2017-0614-2001 MID-valve corr- not usable.txt\"\n"
     ]
    }
   ],
   "source": [
    "## Create template data structure to add new entries to:\n",
    "data.v3 = data[1,] # valve = 1\n",
    "data.v4 = data[1,] # valve = 2\n",
    "\n",
    "for (i in file.list.nu) {\n",
    "    ## load file and parse the time\n",
    "    data = read.csv(paste0(input.dir, i), sep='\\t')\n",
    "    data$time = strptime(data$time, format = dt.format, tz='')\n",
    "    \n",
    "    ## determine valve = 1 \n",
    "    l = which(data$Valve == 1)\n",
    "    temp = filter.eims(data[l,])\n",
    "    temp = avg.eims(temp, N)\n",
    "    \n",
    "    if (length(names(temp)) == length(names(data.v1))) {\n",
    "        names(temp) = names(data.v3) # Force colname match (dangerous), but will check that lengths are the same\n",
    "        data.v3 = rbind(data.v3, temp)\n",
    "    } else {\n",
    "        print(i)\n",
    "    }\n",
    "    \n",
    "    ## determine valve = 2\n",
    "    l = which(data$Valve == 2)\n",
    "    temp = filter.eims(data[l,])\n",
    "    temp = avg.eims(temp, N)\n",
    "    \n",
    "    if (length(names(temp)) == length(names(data.v4))) {\n",
    "        names(temp) = names(data.v4) # Force colname match (dangerous), but will check that lengths are the same\n",
    "        data.v4 = rbind(data.v4, temp)\n",
    "    } else {\n",
    "        print(i)\n",
    "    }\n",
    "    if (length(data$valve) > 1) {\n",
    "        print(paste(\"Lower case Valve issue:\", i))\n",
    "    }\n",
    "}\n",
    "\n",
    "\n",
    "## Remove the first row used to initiate the table\n",
    "data.v3 = data.v3[-1,]\n",
    "data.v4 = data.v4[-1,]\n",
    "data.v3 = data.v3[,-c(1, 13, 14, 15, 23, 24, 25)]\n",
    "data.v4 = data.v4[,-c(1, 13, 14, 15, 23, 24, 25)]"
   ]
  }
 ],
 "metadata": {
  "anaconda-cloud": {},
  "kernelspec": {
   "display_name": "R",
   "language": "R",
   "name": "ir"
  },
  "language_info": {
   "codemirror_mode": "r",
   "file_extension": ".r",
   "mimetype": "text/x-r-source",
   "name": "R",
   "pygments_lexer": "r",
   "version": "3.4.1"
  }
 },
 "nbformat": 4,
 "nbformat_minor": 2
}
