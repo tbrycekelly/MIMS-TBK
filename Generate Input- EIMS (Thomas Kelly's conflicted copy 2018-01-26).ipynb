{
 "cells": [
  {
   "cell_type": "markdown",
   "metadata": {},
   "source": [
    "# EIMS Data\n",
    "This script will read in the individual EIMS data files from the given directory and compile/prase the data for the model."
   ]
  },
  {
   "cell_type": "code",
   "execution_count": null,
   "metadata": {},
   "outputs": [],
   "source": [
    "source('source.r')"
   ]
  },
  {
   "cell_type": "code",
   "execution_count": null,
   "metadata": {
    "collapsed": true
   },
   "outputs": [],
   "source": []
  },
  {
   "cell_type": "markdown",
   "metadata": {},
   "source": [
    "# File Input\n",
    "\n",
    "First we need to set the directory and file name criteria of the data to load. We also set the date-time format that the parser will be expecting."
   ]
  },
  {
   "cell_type": "code",
   "execution_count": 24,
   "metadata": {},
   "outputs": [
    {
     "name": "stdout",
     "output_type": "stream",
     "text": [
      "[1] \"Number of files in file.list: 177\"\n",
      "[1] \"Number of files in file.list.2: 77\"\n",
      "[1] \"Number of files in file.list.nu: 5\"\n"
     ]
    }
   ],
   "source": [
    "input.dir = 'Raw Data/EIMS/'\n",
    "output.dir = 'RStates/EIMS/'\n",
    "dt.format = \"%m/%d/%y %I:%M %p\"\n",
    "dt.format2 = \"%m/%d/%y %I:%M\"\n",
    "\n",
    "## Generate list of files in the directory\n",
    "file.list = list.files(input.dir)\n",
    "\n",
    "## split file.list into usable lists\n",
    "file.list.nu = file.list[grepl('not usable', file.list)] # not usable\n",
    "file.list.2 = file.list[grepl('corr.txt', file.list)] # usable\n",
    "\n",
    "## Print total number of files in each category\n",
    "print(paste('Number of files in file.list:', length(file.list)))\n",
    "print(paste('Number of files in file.list.2:', length(file.list.2)))\n",
    "print(paste('Number of files in file.list.nu:', length(file.list.nu)))\n"
   ]
  },
  {
   "cell_type": "code",
   "execution_count": 27,
   "metadata": {},
   "outputs": [
    {
     "data": {
      "text/html": [
       "'2017-0604-0000 MID-valve corr.txt'"
      ],
      "text/latex": [
       "'2017-0604-0000 MID-valve corr.txt'"
      ],
      "text/markdown": [
       "'2017-0604-0000 MID-valve corr.txt'"
      ],
      "text/plain": [
       "[1] \"2017-0604-0000 MID-valve corr.txt\""
      ]
     },
     "metadata": {},
     "output_type": "display_data"
    },
    {
     "data": {
      "text/plain": [
       "[1] \"2021-06-05 04:49:00 UTC\""
      ]
     },
     "metadata": {},
     "output_type": "display_data"
    }
   ],
   "source": [
    "## Read in first data file and configure formatting around it\n",
    "data = read.csv(paste0(input.dir, file.list.2[12]), sep='\\t')\n",
    "file.list.2[10]\n",
    "data$time = strptime(data$time, format = dt.format2, tz='UTC')\n",
    "\n",
    "data$time[10]"
   ]
  },
  {
   "cell_type": "markdown",
   "metadata": {},
   "source": [
    "# Main Functions\n",
    "\n",
    "These functions will do the heavy lifting for the EIMS preparation. The __avg.eims()__ generates the average of N minutes of samples while __filter.eims()__ goes QC type of work by removing high/low pressure samples and handles missing values."
   ]
  },
  {
   "cell_type": "code",
   "execution_count": 44,
   "metadata": {
    "collapsed": true
   },
   "outputs": [],
   "source": [
    "## Average\n",
    "avg.eims = function(x, N) {\n",
    "    i = 1\n",
    "    \n",
    "    while (i < nrow(x)) {\n",
    "        dt = as.numeric(difftime(x$time, x$time[i], unit='secs'))\n",
    "        l = which(dt >= 0 & dt < N*60)\n",
    "        \n",
    "        ## Calculate the mean of the relevant columns, removing na's\n",
    "        x[i, 3:ncol(x)] = apply(x[l, 3:ncol(x)], 2, function(x) {mean(x, na.rm = TRUE)})\n",
    "        \n",
    "        if (max(dt[l], na.rm = TRUE, 0) <= N / 2) {\n",
    "            x$Flag[i] = 3\n",
    "        }\n",
    "    \n",
    "        if (length(l) > 1) {\n",
    "            l = l[l != i]\n",
    "            if (length(l) > 1) {\n",
    "                x = x[-l,]\n",
    "            }\n",
    "        }\n",
    "        i = i + 1\n",
    "    }\n",
    "    x\n",
    "}\n",
    "\n",
    "## Prepare filter function\n",
    "filter.eims = function(x) {\n",
    "    x$Flag = 1\n",
    "    \n",
    "    ## Remove entries where flow not within 5% of 100\n",
    "    x$Flag[x$flow > 105 | x$flow < 95] = 3 # Reject\n",
    "    x$Flag[x$O2.Ar > 35 | x$O2.Ar < 22] = 3 # Reject\n",
    "    \n",
    "    ## Remove first 2 minute (safer to remove bad data than to keep it)\n",
    "    l = which(as.numeric(difftime(x$time, x$time[1], unit='mins'))^2 < 2)\n",
    "    x$Flag[l] = 3 # Reject\n",
    "    \n",
    "    ## Remove last 2 minute (safer to remove bad data than to keep it)\n",
    "    l = which(as.numeric(difftime(x$time, x$time[nrow(x)], unit='mins'))^2 < 2)\n",
    "    x$Flag[l] = 3 # Reject\n",
    "    \n",
    "    ## find all valve switches and remove all entries within a miute of it.\n",
    "    l = which(diff(x$Valve) != 0)\n",
    "    for (i in l) {\n",
    "        dt = abs(as.numeric(difftime(x$time[i], x$time, unit='mins')))     \n",
    "        x$Flag[which(dt <= 1)] = 3 # Reject\n",
    "    }\n",
    "    ## Remove NA O2Ar entries\n",
    "    x$Flag[is.na(x$O2.Ar)] = 3 # Reject\n",
    "    \n",
    "    x$Flag[x$Valve == 2] = 2 # Calibration\n",
    "    #x$Flag[is.na(x$Valve)] = 3 # Reject unknown valve\n",
    "    \n",
    "    x\n",
    "}"
   ]
  },
  {
   "cell_type": "markdown",
   "metadata": {},
   "source": [
    "## Check the filter and avg functions"
   ]
  },
  {
   "cell_type": "code",
   "execution_count": 35,
   "metadata": {},
   "outputs": [
    {
     "data": {
      "text/html": [
       "20091"
      ],
      "text/latex": [
       "20091"
      ],
      "text/markdown": [
       "20091"
      ],
      "text/plain": [
       "[1] 20091"
      ]
     },
     "metadata": {},
     "output_type": "display_data"
    },
    {
     "data": {
      "text/html": [
       "215"
      ],
      "text/latex": [
       "215"
      ],
      "text/markdown": [
       "215"
      ],
      "text/plain": [
       "[1] 215"
      ]
     },
     "metadata": {},
     "output_type": "display_data"
    },
    {
     "data": {
      "image/png": "[encoded data removed]",
      "text/plain": [
       "plot without title"
      ]
     },
     "metadata": {},
     "output_type": "display_data"
    },
    {
     "data": {
      "image/png": "[encoded data removed]",
      "text/plain": [
       "plot without title"
      ]
     },
     "metadata": {},
     "output_type": "display_data"
    }
   ],
   "source": [
    "temp = data\n",
    "temp = filter.eims(temp)\n",
    "temp.avg = avg.eims(temp[temp$Flag == 1,], 120) # N = 2 min\n",
    "temp.cal = avg.eims(temp[temp$Flag == 2,], 120) # N = 2 min\n",
    "\n",
    "nrow(data)\n",
    "nrow(temp.avg)\n",
    "\n",
    "plot(temp$time, temp$O2.Ar, col = temp$Flag, pch=20)\n",
    "plot(temp.avg$time, temp.avg$O2.Ar, col = \"blue\", pch=16)\n",
    "points(temp$time, temp$O2.Ar, col = \"#00000020\", pch=20, cex=0.3)\n",
    "points(temp.cal$time, temp.cal$O2.Ar, col = \"red\", pch=20, cex=1.5)"
   ]
  },
  {
   "cell_type": "code",
   "execution_count": 12,
   "metadata": {},
   "outputs": [
    {
     "name": "stdout",
     "output_type": "stream",
     "text": [
      "'data.frame':\t10807 obs. of  30 variables:\n",
      " $ cycle..     : int  0 1 2 3 4 5 6 7 8 9 ...\n",
      " $ time        : POSIXlt, format: NA NA ...\n",
      " $ X18.06      : num  3.64e-09 4.25e-09 4.43e-09 4.50e-09 4.53e-09 4.55e-09 4.54e-09 4.56e-09 4.56e-09 4.55e-09 ...\n",
      " $ X28.06      : num  2.49e-07 2.72e-07 2.80e-07 2.82e-07 2.83e-07 2.84e-07 2.85e-07 2.86e-07 2.84e-07 2.85e-07 ...\n",
      " $ X32.03      : num  6.43e-08 6.69e-08 6.80e-08 6.84e-08 6.84e-08 6.85e-08 6.86e-08 6.86e-08 6.84e-08 6.84e-08 ...\n",
      " $ X40.06      : num  2.71e-09 2.76e-09 2.77e-09 2.77e-09 2.77e-09 2.78e-09 2.77e-09 2.77e-09 2.76e-09 2.76e-09 ...\n",
      " $ X44.09      : num  1.47e-10 1.51e-10 1.53e-10 1.53e-10 1.52e-10 1.51e-10 1.52e-10 1.51e-10 1.51e-10 1.51e-10 ...\n",
      " $ X45.09      : num  2.61e-12 2.08e-12 2.06e-12 2.32e-12 2.19e-12 ...\n",
      " $ TP          : num  4.76e-06 4.78e-06 4.76e-06 4.76e-06 4.76e-06 4.76e-06 4.78e-06 4.76e-06 4.76e-06 4.76e-06 ...\n",
      " $ N2.Ar       : num  92.1 98.4 100.9 101.9 102.3 ...\n",
      " $ O2.Ar       : num  23.8 24.2 24.5 24.6 24.7 ...\n",
      " $ N2.O2       : num  3.88 4.06 4.11 4.13 4.15 ...\n",
      " $ Valve       : int  1 1 1 1 1 1 1 1 1 1 ...\n",
      " $ ID          : int  4835 4835 4835 4835 4835 4835 4835 4835 4835 4835 ...\n",
      " $ S.          : int  159 159 159 159 159 159 159 159 159 159 ...\n",
      " $ O2..uM.     : num  345 345 345 345 345 ...\n",
      " $ O2.Sat....  : num  105 105 105 105 105 ...\n",
      " $ Temp..C.    : num  13.2 13.2 13.2 13.2 13.2 ...\n",
      " $ Calphase..C.: num  28.7 28.7 28.7 28.7 28.7 ...\n",
      " $ TCphase..C. : num  29.8 29.8 29.8 29.8 29.8 ...\n",
      " $ C1..C.      : num  34.2 34.2 34.2 34.2 34.2 ...\n",
      " $ C2..C.      : num  4.41 4.41 4.41 4.41 4.41 ...\n",
      " $ C1amp..mV.  : num  668 668 668 668 668 ...\n",
      " $ C2amp..mV.  : num  651 651 651 651 651 ...\n",
      " $ Temp..mV.   : num  381 381 381 381 381 ...\n",
      " $ inlet       : num  12.6 12.6 12.6 12.6 12.6 ...\n",
      " $ sock        : num  12.7 12.7 12.7 12.7 12.7 ...\n",
      " $ outlet      : num  12.6 12.7 12.7 12.7 12.7 ...\n",
      " $ MS          : num  45.9 45.9 45.9 45.9 45.9 ...\n",
      " $ flow        : num  100.2 99.8 100.6 100.4 101.7 ...\n"
     ]
    }
   ],
   "source": [
    "str(data)"
   ]
  },
  {
   "cell_type": "code",
   "execution_count": 29,
   "metadata": {
    "collapsed": true,
    "scrolled": false
   },
   "outputs": [],
   "source": [
    "read.eims = function(valve = 1, input.dir, file.list, N = 2, verbose = FALSE, template = data, make.img = FALSE) {\n",
    "    ## Create template data structure to add new entries to:\n",
    "    dat = template[1,] # valve = 1\n",
    "    dat$Flag = 0\n",
    "    \n",
    "    for (i in file.list) {\n",
    "        \n",
    "        #### load file and parse the time and filter the values\n",
    "        data = read.csv(paste0(input.dir, i), sep='\\t')\n",
    "        if (grepl('M', data$time[1])) {\n",
    "            data$time = strptime(data$time, format = dt.format, tz='GMT')\n",
    "        } else {\n",
    "            data$time = strptime(data$time, format = dt.format2, tz='GMT')\n",
    "        }\n",
    "        \n",
    "        data$Flag = 0\n",
    "        \n",
    "        ## Filter\n",
    "        data = filter.eims(data)\n",
    "        \n",
    "        if (make.img) {\n",
    "            cols = c('black', 'orange', 'red')\n",
    "    \n",
    "            png(file = paste0('Output/EIMS/', i, '.png'))\n",
    "            try({plot(data$time, data$O2.Ar, col=cols[data$Flag], pch=20, ylab='O2/Ar', xlab='', main=i, cex=0.2)})\n",
    "            dev.off()\n",
    "        }\n",
    "        \n",
    "        ## Verbose\n",
    "        if (verbose) { print(paste(\"Loaded file:\", i)) }\n",
    "        \n",
    "        #### determine valve  \n",
    "        l = which(data$Valve == valve)\n",
    "        temp = avg.eims(data[l,], N)\n",
    "        #temp = data[l,]\n",
    "        \n",
    "        if (length(names(temp)) == length(names(dat))) {\n",
    "            ## Do the column names match?\n",
    "            names(temp) = names(dat) # Force colname match (dangerous), but will check that lengths are the same\n",
    "            dat = rbind(dat, temp)\n",
    "            \n",
    "            if (verbose) { print(paste('  Added', nrow(temp),'to valve 1.')) }\n",
    "            \n",
    "        }\n",
    "        else {warning(i)}\n",
    "    }\n",
    "\n",
    "\n",
    "    ## Remove the first row used to initiate the table\n",
    "    dat = dat[-1,]\n",
    "    dat = dat[,-c(13, 14, 15, 23, 24, 25)]\n",
    "    \n",
    "    dat\n",
    "}"
   ]
  },
  {
   "cell_type": "markdown",
   "metadata": {},
   "source": [
    "## Run the parser\n",
    "This will initialize the parser for valve = 1 (sampling) and then valve = 2 (calibration). Included in this is the ___filter.eims()___ and ___take.avg()___ functions.\n",
    "\n",
    "__NB This will take a while...__"
   ]
  },
  {
   "cell_type": "code",
   "execution_count": 45,
   "metadata": {},
   "outputs": [
    {
     "name": "stderr",
     "output_type": "stream",
     "text": [
      "Warning message in min(x):\n",
      "\"no non-missing arguments to min; returning Inf\"Warning message in max(x):\n",
      "\"no non-missing arguments to max; returning -Inf\"Warning message in min(x):\n",
      "\"no non-missing arguments to min; returning Inf\"Warning message in max(x):\n",
      "\"no non-missing arguments to max; returning -Inf\"Warning message in min(x):\n",
      "\"no non-missing arguments to min; returning Inf\"Warning message in max(x):\n",
      "\"no non-missing arguments to max; returning -Inf\"Warning message in min(x):\n",
      "\"no non-missing arguments to min; returning Inf\"Warning message in max(x):\n",
      "\"no non-missing arguments to max; returning -Inf\"Warning message in min(x):\n",
      "\"no non-missing arguments to min; returning Inf\"Warning message in max(x):\n",
      "\"no non-missing arguments to max; returning -Inf\"Warning message in min(x):\n",
      "\"no non-missing arguments to min; returning Inf\"Warning message in max(x):\n",
      "\"no non-missing arguments to max; returning -Inf\"Warning message in min(x):\n",
      "\"no non-missing arguments to min; returning Inf\"Warning message in max(x):\n",
      "\"no non-missing arguments to max; returning -Inf\""
     ]
    }
   ],
   "source": [
    "data.v1 = read.eims(1, input.dir, file.list.2, N = 2, verbose = FALSE, template = data, make.img = TRUE)"
   ]
  },
  {
   "cell_type": "code",
   "execution_count": 46,
   "metadata": {
    "collapsed": true
   },
   "outputs": [],
   "source": [
    "data.v2 = read.eims(2, input.dir, file.list.2, N = 2, verbose = FALSE, template = data, make.img = FALSE)"
   ]
  },
  {
   "cell_type": "code",
   "execution_count": 47,
   "metadata": {},
   "outputs": [
    {
     "data": {
      "text/html": [
       "14577"
      ],
      "text/latex": [
       "14577"
      ],
      "text/markdown": [
       "14577"
      ],
      "text/plain": [
       "[1] 14577"
      ]
     },
     "metadata": {},
     "output_type": "display_data"
    },
    {
     "data": {
      "text/html": [
       "944"
      ],
      "text/latex": [
       "944"
      ],
      "text/markdown": [
       "944"
      ],
      "text/plain": [
       "[1] 944"
      ]
     },
     "metadata": {},
     "output_type": "display_data"
    },
    {
     "data": {
      "text/html": [
       "1746"
      ],
      "text/latex": [
       "1746"
      ],
      "text/markdown": [
       "1746"
      ],
      "text/plain": [
       "[1] 1746"
      ]
     },
     "metadata": {},
     "output_type": "display_data"
    },
    {
     "data": {
      "text/html": [
       "40"
      ],
      "text/latex": [
       "40"
      ],
      "text/markdown": [
       "40"
      ],
      "text/plain": [
       "[1] 40"
      ]
     },
     "metadata": {},
     "output_type": "display_data"
    }
   ],
   "source": [
    "## Also, correct the time since the year is not actually 2021...\n",
    "data.v1$time = data.v1$time - 4 * 365.25 * 86400 - 86400\n",
    "data.v2$time = data.v2$time - 4 * 365.25 * 86400 - 86400\n",
    "\n",
    "## Remove NA O2:Ar values\n",
    "data.v1 = data.v1[which(!is.na(data.v1$O2.Ar)),]\n",
    "data.v2 = data.v2[which(!is.na(data.v2$O2.Ar)),]\n",
    "\n",
    "## Number of entries, do they seem right?\n",
    "nrow(data.v1)\n",
    "length(which(data.v1$Flag == 3))\n",
    "nrow(data.v2)\n",
    "length(which(data.v2$Flag == 3))"
   ]
  },
  {
   "cell_type": "markdown",
   "metadata": {},
   "source": [
    "## Review results"
   ]
  },
  {
   "cell_type": "code",
   "execution_count": 48,
   "metadata": {
    "scrolled": false
   },
   "outputs": [
    {
     "data": {
      "image/png": "[encoded data removed]",
      "text/plain": [
       "plot without title"
      ]
     },
     "metadata": {},
     "output_type": "display_data"
    },
    {
     "data": {
      "image/png": "[encoded data removed]",
      "text/plain": [
       "plot without title"
      ]
     },
     "metadata": {},
     "output_type": "display_data"
    }
   ],
   "source": [
    "#pdf('./Output/Generate-EIMS-review1.pdf')\n",
    "\n",
    "par(mfrow=c(2,1))\n",
    "cols = c('black', 'green', 'red')\n",
    "\n",
    "plot(data.v1$time, data.v1$O2.Ar, pch=16, cex=0.3, ylab='O2/Ar', xlab='', col=cols[data.v1$Flag])\n",
    "points(data.v2$time, data.v2$O2.Ar, pch=16, cex=0.2, col=cols[data.v2$Flag])\n",
    "\n",
    "legend(data.v1$time[1], 19, c('Measurements', 'Calibration'), col=c('black', 'green'), pch=16, cex=0.6)\n",
    "\n",
    "plot(data.v1$time, data.v1$N2.Ar, pch=16, cex=0.3, ylab='N2/Ar', xlab='', col=cols[data.v1$Flag])\n",
    "points(data.v2$time, data.v2$N2.Ar, pch=16, cex=0.2, col=cols[data.v2$Flag])\n",
    "\n",
    "plot(data.v1$time, data.v1$time, pch=16, cex=0.3, ylab='Time', xlab='', col=cols[data.v1$Flag])\n",
    "points(data.v2$time, data.v2$time+86400, cex=0.2, col=cols[data.v2$Flag])\n",
    "\n",
    "plot(data.v1$time, data.v1$O2..uM., pch=16, cex=0.3, ylab='O2', xlab='', col=cols[data.v1$Flag])\n",
    "points(data.v2$time, data.v2$O2..uM., pch=16, cex=0.2, col=cols[data.v2$Flag])\n",
    "\n",
    "legend(data.v2$time[1], 470, c('Measurements', 'Calibration'), col=c('black', 'green'), pch=16, cex=0.6)\n",
    "\n",
    "#dev.off()"
   ]
  },
  {
   "cell_type": "code",
   "execution_count": 49,
   "metadata": {},
   "outputs": [
    {
     "data": {
      "image/png": "[encoded data removed]",
      "text/plain": [
       "plot without title"
      ]
     },
     "metadata": {},
     "output_type": "display_data"
    }
   ],
   "source": [
    "#pdf('./Output/Generate-EIMS-review2.pdf')\n",
    "\n",
    "plot(data.v1$time, data.v1$time, pch=16, cex=0.3, ylab='Time', xlab='', col = cols[data.v1$Flag])\n",
    "points(data.v2$time, data.v2$time+86400/3, pch=16, cex=0.3, col = cols[data.v2$Flag])\n",
    "legend(data.v1$time[1], data.v1$time[nrow(data.v1)], c('Measurements', 'Calibration', 'Reject'),\n",
    "       col=cols, pch=16)\n",
    "\n",
    "#dev.off()"
   ]
  },
  {
   "cell_type": "code",
   "execution_count": 50,
   "metadata": {},
   "outputs": [
    {
     "data": {
      "image/png": "[encoded data removed]",
      "text/plain": [
       "plot without title"
      ]
     },
     "metadata": {},
     "output_type": "display_data"
    }
   ],
   "source": [
    "plot(data.v1$time, data.v1$TP, col='white', ylim=c(3.2e-6, 5.5e-6), ylab='Total Pressure', xlab='')\n",
    "\n",
    "col = c('Black', 'blue', 'grey', 'dark green')\n",
    "\n",
    "for (i in 1:length(unique(data.v1[,1]))) {\n",
    "    l = which(data.v1[,1] == unique(data.v1[,1])[i])\n",
    "    points(data.v1$time[l], data.v1$TP[l], col=col[i %% 2 + 1], pch=20, cex=0.6)\n",
    "}\n",
    "\n",
    "for (i in 1:length(unique(data.v2[,1]))) {\n",
    "    l = which(data.v2[,1] == unique(data.v2[,1])[i])\n",
    "    points(data.v2$time[l], data.v2$TP[l], col=col[i %% 2 + 3], pch=20, cex=0.6)\n",
    "}\n"
   ]
  },
  {
   "cell_type": "markdown",
   "metadata": {},
   "source": [
    "# Save"
   ]
  },
  {
   "cell_type": "code",
   "execution_count": 51,
   "metadata": {
    "collapsed": true
   },
   "outputs": [],
   "source": [
    "## Save the data\n",
    "eims = list(sample = data.v1, cal = data.v2)\n",
    "save(eims, file='./RStates/EIMS.2min.2min.rdata')\n",
    "\n",
    "## Optional\n",
    "write.csv(data.v1, './Input Data/EIMS-Valve1.2min.csv')\n",
    "write.csv(data.v2, './Input Data/EIMS-Valve2.60min.csv')"
   ]
  },
  {
   "cell_type": "code",
   "execution_count": 31,
   "metadata": {
    "collapsed": true
   },
   "outputs": [],
   "source": [
    "load('./RStates/EIMS.2min.2min.rdata')"
   ]
  },
  {
   "cell_type": "code",
   "execution_count": 32,
   "metadata": {
    "scrolled": false
   },
   "outputs": [
    {
     "name": "stderr",
     "output_type": "stream",
     "text": [
      "Warning message in is.na(eims$sampletime):\n",
      "\"is.na() applied to non-(list or vector) of type 'NULL'\"Warning message in min.default(structure(numeric(0), class = c(\"POSIXct\", \"POSIXt\":\n",
      "\"no non-missing arguments to min; returning Inf\"Warning message in min.default(structure(numeric(0), class = c(\"POSIXct\", \"POSIXt\":\n",
      "\"no non-missing arguments to min; returning Inf\"Warning message in max.default(structure(numeric(0), class = c(\"POSIXct\", \"POSIXt\":\n",
      "\"no non-missing arguments to max; returning -Inf\"Warning message in min.default(structure(numeric(0), class = c(\"POSIXct\", \"POSIXt\":\n",
      "\"no non-missing arguments to min; returning Inf\""
     ]
    },
    {
     "ename": "ERROR",
     "evalue": "Error in 1:floor(as.numeric(difftime(max(eims$time), min(eims$time), units = \"days\"))): result would be too long a vector\n",
     "output_type": "error",
     "traceback": [
      "Error in 1:floor(as.numeric(difftime(max(eims$time), min(eims$time), units = \"days\"))): result would be too long a vector\nTraceback:\n"
     ]
    }
   ],
   "source": [
    "par(mfrow=c(3,1))\n",
    "\n",
    "#pdf('Output/EIMS-24H Plots.pdf')\n",
    "\n",
    "eims = eims$sample[!is.na(eims$sampletime),]\n",
    "dt = floor(as.numeric(difftime(eims$time, min(eims$time), units='days')))\n",
    "dt2 = floor(as.numeric(difftime(eims$time, min(eims$time, na.rm = TRUE), units='days')))\n",
    "\n",
    "for (i in 1:floor(as.numeric(difftime(max(eims$time), min(eims$time), units='days')))) {\n",
    "    k = which(dt < i & dt >= i-1)\n",
    "    if(length(k) < 1) {\n",
    "        k = 1\n",
    "    }\n",
    "    k2 = which(dt2 < i & dt2 >= i-1)\n",
    "    plot(eims$time[k], eims$O2.Ar[k], pch=20, main=paste('Day -', i), xlab='', ylab='O2/Ar', ylim=c(20,30))\n",
    "    points(eims$time[k2], eims$O2.Ar[k2], pch=20, col='red')\n",
    "}\n",
    "#dev.off()"
   ]
  },
  {
   "cell_type": "markdown",
   "metadata": {},
   "source": [
    "---\n",
    "# Damaged/Unusable data file recovery"
   ]
  },
  {
   "cell_type": "code",
   "execution_count": null,
   "metadata": {
    "collapsed": true
   },
   "outputs": [],
   "source": [
    "2"
   ]
  },
  {
   "cell_type": "code",
   "execution_count": 34,
   "metadata": {},
   "outputs": [
    {
     "name": "stdout",
     "output_type": "stream",
     "text": [
      "[1] \"2017-0603-2102 MID-valve corr not usable.txt\"\n",
      "[1] \"2017-0603-2102 MID-valve corr not usable.txt\"\n",
      "[1] \"2017-0604-0000 MID-valve corr - not usable.txt\"\n",
      "[1] \"2017-0604-0000 MID-valve corr - not usable.txt\"\n",
      "[1] \"2017-0604-0448 MID-valve corr not usable.txt\"\n",
      "[1] \"2017-0604-0448 MID-valve corr not usable.txt\"\n"
     ]
    },
    {
     "ename": "ERROR",
     "evalue": "Error in `$<-.data.frame`(`*tmp*`, \"Flag\", value = 1): replacement has 1 row, data has 0\n",
     "output_type": "error",
     "traceback": [
      "Error in `$<-.data.frame`(`*tmp*`, \"Flag\", value = 1): replacement has 1 row, data has 0\nTraceback:\n",
      "1. filter.eims(data[l, ])",
      "2. `$<-`(`*tmp*`, \"Flag\", value = 1)   # at line 29 of file <text>",
      "3. `$<-.data.frame`(`*tmp*`, \"Flag\", value = 1)   # at line 29 of file <text>",
      "4. stop(sprintf(ngettext(N, \"replacement has %d row, data has %d\", \n .     \"replacement has %d rows, data has %d\"), N, nrows), domain = NA)"
     ]
    }
   ],
   "source": [
    "## Create template data structure to add new entries to:\n",
    "data.v3 = data[1,] # valve = 1\n",
    "data.v4 = data[1,] # valve = 2\n",
    "N = 2\n",
    "\n",
    "for (i in file.list.nu) {\n",
    "    ## load file and parse the time\n",
    "    data = read.csv(paste0(input.dir, i), sep='\\t')\n",
    "    data$time = strptime(data$time, format = dt.format, tz='')\n",
    "    \n",
    "    ## determine valve = 1 \n",
    "    l = which(data$Valve == 1)\n",
    "    temp = filter.eims(data[l,])\n",
    "    temp = avg.eims(temp, N)\n",
    "    \n",
    "    if (length(names(temp)) == length(names(data.v1))) {\n",
    "        names(temp) = names(data.v3) # Force colname match (dangerous), but will check that lengths are the same\n",
    "        data.v3 = rbind(data.v3, temp)\n",
    "    } else {\n",
    "        print(i)\n",
    "    }\n",
    "    \n",
    "    ## determine valve = 2\n",
    "    l = which(data$Valve == 2)\n",
    "    temp = filter.eims(data[l,])\n",
    "    temp = avg.eims(temp, N)\n",
    "    \n",
    "    if (length(names(temp)) == length(names(data.v4))) {\n",
    "        names(temp) = names(data.v4) # Force colname match (dangerous), but will check that lengths are the same\n",
    "        data.v4 = rbind(data.v4, temp)\n",
    "    } else {\n",
    "        print(i)\n",
    "    }\n",
    "    if (length(data$valve) > 1) {\n",
    "        print(paste(\"Lower case Valve issue:\", i))\n",
    "    }\n",
    "}\n",
    "\n",
    "\n",
    "## Remove the first row used to initiate the table\n",
    "data.v3 = data.v3[-1,]\n",
    "data.v4 = data.v4[-1,]\n",
    "data.v3 = data.v3[,-c(1, 13, 14, 15, 23, 24, 25)]\n",
    "data.v4 = data.v4[,-c(1, 13, 14, 15, 23, 24, 25)]"
   ]
  },
  {
   "cell_type": "code",
   "execution_count": null,
   "metadata": {
    "collapsed": true
   },
   "outputs": [],
   "source": []
  }
 ],
 "metadata": {
  "anaconda-cloud": {},
  "kernelspec": {
   "display_name": "R",
   "language": "R",
   "name": "ir"
  },
  "language_info": {
   "codemirror_mode": "r",
   "file_extension": ".r",
   "mimetype": "text/x-r-source",
   "name": "R",
   "pygments_lexer": "r",
   "version": "3.4.2"
  }
 },
 "nbformat": 4,
 "nbformat_minor": 2
}
