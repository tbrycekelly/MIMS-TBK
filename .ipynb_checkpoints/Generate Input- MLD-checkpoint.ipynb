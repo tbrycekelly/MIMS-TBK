{
 "cells": [
  {
   "cell_type": "code",
   "execution_count": 1,
   "metadata": {},
   "outputs": [
    {
     "data": {
      "text/html": [
       "3"
      ],
      "text/latex": [
       "3"
      ],
      "text/markdown": [
       "3"
      ],
      "text/plain": [
       "[1] 3"
      ]
     },
     "metadata": {},
     "output_type": "display_data"
    }
   ],
   "source": [
    "## Install the package if needed:\n",
    "#install.packages('Mcomp', repos='http://cran.us.r-project.org')\n",
    "\n",
    "## Load the relevent packages\n",
    "library(ncdf4)  # For reading in the NCEP wind fields\n",
    "#library(R.matlab)  # If you need to read in matlab .mat files\n",
    "library(openxlsx)  # If you need to read in .xlsx files\n",
    "#library(rNOMADS)  # For reading grib2 data files (NOMADS data for instance)\n",
    "#library(rGDAL)  #\n",
    "library(RColorBrewer)\n",
    "library(compiler)  # required for JIT (below)\n",
    "\n",
    "## Enable compilation (speed gain?)\n",
    "enableJIT(3)\n",
    "\n",
    "## Helper function for converting the date time stamps.\n",
    "conv_excel_time = function(x, tz='US/Pacific') {\n",
    "    as.POSIXct(as.Date(x,origin=\"1899-12-30\", tz=tz))\n",
    "}\n",
    "\n",
    "get.qual.pal = function(n=100, pal='Accent') {\n",
    "    colorRampPalette(brewer.pal(8, pal))(n)\n",
    "}\n",
    "\n",
    "get.seq.pal = function(n=100, pal='YlOrRd') {\n",
    "    colorRampPalette(rev(brewer.pal(11, pal)))(n)\n",
    "}\n",
    "\n",
    "get.div.pal = function(n=100, pal='Spectral') {\n",
    "    colorRampPalette(rev(brewer.pal(11, pal)))(n)\n",
    "}\n",
    "\n",
    "make.div.pal = function(x=100, n, pal='Spectral') {\n",
    "    get.div.pal(n, pal=pal)[as.numeric(cut(x, breaks = n))]\n",
    "}"
   ]
  },
  {
   "cell_type": "markdown",
   "metadata": {},
   "source": [
    "---\n",
    "# 3. Determine MLD\n",
    "This section reads in the CTD downcast files and identifies the 0.03 density change to calculate the MLD. THe MLD is then linearly interpolated onto the ship's track."
   ]
  },
  {
   "cell_type": "code",
   "execution_count": 2,
   "metadata": {},
   "outputs": [
    {
     "name": "stdout",
     "output_type": "stream",
     "text": [
      "'data.frame':\t41780 obs. of  34 variables:\n",
      " $ Cruise      : chr  \"CCE-P1706\" \"CCE-P1706\" \"CCE-P1706\" \"CCE-P1706\" ...\n",
      " $ Cycle       : chr  \"Cycle0\" \"Cycle0\" \"Cycle0\" \"Cycle0\" ...\n",
      " $ EventNo     : num  3 3 3 3 3 3 3 3 3 3 ...\n",
      " $ Cast        : num  1 1 1 1 1 1 1 1 1 1 ...\n",
      " $ DateTime_GMT: num  42888 42888 42888 42888 42888 ...\n",
      " $ Direction   : chr  \"down\" \"down\" \"down\" \"down\" ...\n",
      " $ Pressure    : num  2 3 4 5 6 7 8 9 10 11 ...\n",
      " $ Depth       : num  1.99 2.98 3.97 4.96 5.96 ...\n",
      " $ T090C       : num  16.9 16.8 16.9 16.9 16.8 ...\n",
      " $ T190C       : num  16.8 16.8 16.9 16.9 16.8 ...\n",
      " $ Cond1       : num  4.3 4.29 4.3 4.3 4.29 ...\n",
      " $ Cond2       : num  4.29 4.29 4.3 4.3 4.3 ...\n",
      " $ Sal00       : num  33.4 33.4 33.4 33.4 33.4 ...\n",
      " $ Sal11       : num  33.4 33.4 33.4 33.4 33.4 ...\n",
      " $ OxymicroM   : num  195 196 195 195 195 ...\n",
      " $ OxyPerSat   : num  81 81.1 81 80.9 80.8 ...\n",
      " $ SurPAR      : num  8632 8632 8632 8632 8632 ...\n",
      " $ PAR         : num  1292 1053 887 775 688 ...\n",
      " $ Cpar        : num  0.1496 0.122 0.1028 0.0898 0.0797 ...\n",
      " $ Cpar_Flag   : num  1 1 1 1 1 1 1 1 1 1 ...\n",
      " $ Fluor       : num  0.196 0.208 0.207 0.215 0.225 ...\n",
      " $ TransTra    : num  94.2 94.4 94.5 94.7 94.7 ...\n",
      " $ TransAtt    : num  0.24 0.231 0.227 0.217 0.218 ...\n",
      " $ ISUS_V1     : num  0.436 0.518 0.571 0.553 0.427 ...\n",
      " $ ISUS_V2     : num  NA NA NA NA NA NA NA NA NA NA ...\n",
      " $ Rinko_O2    : num  NA NA NA NA NA NA NA NA NA NA ...\n",
      " $ Rinko_Temp  : num  NA NA NA NA NA NA NA NA NA NA ...\n",
      " $ SecS-PriS   : num  -0.0048 -0.0016 -0.0001 -0.0011 -0.0019 -0.0035 -0.012 0.0027 -0.0175 -0.0014 ...\n",
      " $ Sigma_00    : num  24.3 24.4 24.3 24.3 24.4 ...\n",
      " $ Sigma_11    : num  24.3 24.4 24.3 24.3 24.3 ...\n",
      " $ Potemp090C  : num  16.9 16.8 16.9 16.9 16.8 ...\n",
      " $ Potemp190C  : num  16.8 16.8 16.9 16.9 16.8 ...\n",
      " $ T2-T1_90C   : num  -0.0271 -0.0035 -0.0073 0.0007 0.017 -0.0024 0.0332 0.0133 -0.0433 -0.0038 ...\n",
      " $ C2-C1       : num  -0.00314 -0.000517 -0.00071 -0.000061 0.001403 ...\n"
     ]
    }
   ],
   "source": [
    "## Read in the data files and convert the excel time\n",
    "ctd.log = read.xlsx('./Raw Data/CTD/DataZoo - P1706 CTD Cast Log.xlsx', sheet = 'Data')\n",
    "ctd.data = read.xlsx('./Raw Data/CTD/DataZoo - P1706 CTD Downcast Data.xlsx')\n",
    "\n",
    "str(ctd.data)"
   ]
  },
  {
   "cell_type": "code",
   "execution_count": 16,
   "metadata": {},
   "outputs": [],
   "source": [
    "## this section calculates the mld for each cast\n",
    "mld = data.frame(Lat = 0, Long = 0, mld = 0)\n",
    "mld.times = c()\n",
    "\n",
    "ctd.data = ctd.data[ctd.data$Pressure >= 10,] ## Remove shallow data since mld will be defined as > 10m\n",
    "\n",
    "## Go through each cast and determine the MLD and then save that depth to a table.\n",
    "for (i in unique(ctd.data$Cast)){\n",
    "    \n",
    "    ## Select the relevent density profile\n",
    "    l = which(ctd.data$Cast == i)\n",
    "    rho = ctd.data$Sigma_00[l]\n",
    "    \n",
    "    if (length(rho) > 10) { ## make sure it was a real cast (i.e. more than 10 data points)\n",
    "        \n",
    "        l.log = which(ctd.log$Cast == i)  # Which entry is this cast in the ctd log?\n",
    "        rho.10 = rho[ctd.data$Pressure[l] == 10]  # density at 10 meters depth\n",
    "        \n",
    "        ll = which.min(abs(rho - (rho.10 + 0.05)))# What is the closest density to rho10 + 0.03?\n",
    "        #l = which.min((rho - (rho.10 + 0.03))^2)  # What is the closest density to rho10 + 0.03?\n",
    "        #ll = which.min((rho - (rho.10 + 0.125))^2)  # What is the closest density to rho10 + 0.125\n",
    "        \n",
    "        # Save the Data\n",
    "        mld = rbind(mld, c(ctd.log$Lat[l.log], ctd.log$Long[l.log], ctd.data$Pressure[l[ll]]) )\n",
    "        mld.times = c(mld.times, ctd.data$DateTime_GMT[l[ll]])\n",
    "    }\n",
    "}\n",
    "mld.times = conv_excel_time(mld.times)\n",
    "mld = mld[-1,]"
   ]
  },
  {
   "cell_type": "code",
   "execution_count": 17,
   "metadata": {},
   "outputs": [
    {
     "data": {
      "image/png": "[encoded data removed]",
      "text/plain": [
       "Plot with title \"Histogram of mld$mld\""
      ]
     },
     "metadata": {},
     "output_type": "display_data"
    }
   ],
   "source": [
    "#par(mfrow=c(2,2))\n",
    "hist(mld$mld, breaks = 20)"
   ]
  },
  {
   "cell_type": "markdown",
   "metadata": {},
   "source": [
    "## Save the results"
   ]
  },
  {
   "cell_type": "code",
   "execution_count": 18,
   "metadata": {
    "collapsed": true
   },
   "outputs": [],
   "source": [
    "save(mld, file='./RStates/mld.rdata')\n",
    "save(mld.times, file='./RStates/mld.times.rdata')"
   ]
  },
  {
   "cell_type": "code",
   "execution_count": null,
   "metadata": {
    "collapsed": true
   },
   "outputs": [],
   "source": []
  }
 ],
 "metadata": {
  "kernelspec": {
   "display_name": "R",
   "language": "R",
   "name": "ir"
  },
  "language_info": {
   "codemirror_mode": "r",
   "file_extension": ".r",
   "mimetype": "text/x-r-source",
   "name": "R",
   "pygments_lexer": "r",
   "version": "3.4.1"
  }
 },
 "nbformat": 4,
 "nbformat_minor": 2
}
