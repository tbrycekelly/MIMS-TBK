{
 "cells": [
  {
   "cell_type": "code",
   "execution_count": 1,
   "metadata": {},
   "outputs": [
    {
     "data": {
      "text/html": [
       "3"
      ],
      "text/latex": [
       "3"
      ],
      "text/markdown": [
       "3"
      ],
      "text/plain": [
       "[1] 3"
      ]
     },
     "metadata": {},
     "output_type": "display_data"
    }
   ],
   "source": [
    "## Install the package if needed:\n",
    "#install.packages('Mcomp', repos='http://cran.us.r-project.org')\n",
    "\n",
    "## Load the relevent packages\n",
    "library(ncdf4)  # For reading in the NCEP wind fields\n",
    "#library(R.matlab)  # If you need to read in matlab .mat files\n",
    "library(openxlsx)  # If you need to read in .xlsx files\n",
    "#library(rNOMADS)  # For reading grib2 data files (NOMADS data for instance)\n",
    "#library(rGDAL)  #\n",
    "library(RColorBrewer)\n",
    "library(compiler)  # required for JIT (below)\n",
    "\n",
    "## Enable compilation (speed gain?)\n",
    "enableJIT(3)\n",
    "\n",
    "## Helper function for converting the date time stamps.\n",
    "conv_excel_time = function(x, tz='US/Pacific') {\n",
    "    as.POSIXct(as.Date(x,origin=\"1899-12-30\", tz=tz))\n",
    "}\n",
    "\n",
    "get.qual.pal = function(n=100, pal='Accent') {\n",
    "    colorRampPalette(brewer.pal(8, pal))(n)\n",
    "}\n",
    "\n",
    "get.seq.pal = function(n=100, pal='YlOrRd') {\n",
    "    colorRampPalette(rev(brewer.pal(11, pal)))(n)\n",
    "}\n",
    "\n",
    "get.div.pal = function(n=100, pal='Spectral') {\n",
    "    colorRampPalette(rev(brewer.pal(11, pal)))(n)\n",
    "}\n",
    "\n",
    "make.div.pal = function(x=100, n, pal='Spectral') {\n",
    "    get.div.pal(n, pal=pal)[as.numeric(cut(x, breaks = n))]\n",
    "}"
   ]
  },
  {
   "cell_type": "markdown",
   "metadata": {},
   "source": [
    "---\n",
    "# 3. Determine MLD\n",
    "This section reads in the CTD downcast files and identifies the 0.03 density change to calculate the MLD. THe MLD is then linearly interpolated onto the ship's track."
   ]
  },
  {
   "cell_type": "code",
   "execution_count": null,
   "metadata": {
    "collapsed": true
   },
   "outputs": [],
   "source": [
    "## Read in the data files and convert the excel time\n",
    "ctd.log = read.xlsx('./Raw Data/CTD/DataZoo - P1706 CTD Cast Log.xlsx', sheet = 'Data')\n",
    "ctd.data = read.xlsx('./Raw Data/CTD/DataZoo - P1706 CTD Downcast Data.xlsx')\n",
    "\n",
    "str(ctd.data)"
   ]
  },
  {
   "cell_type": "code",
   "execution_count": null,
   "metadata": {
    "collapsed": true
   },
   "outputs": [],
   "source": [
    "## this section calculates the mld for each cast\n",
    "mld = data.frame(Lat = 0, Long = 0, mld = 0)\n",
    "mld.times = c()\n",
    "\n",
    "## Go through each cast and determine the MLD and then save that depth to a table.\n",
    "for (i in unique(ctd.data$Cast)){\n",
    "    \n",
    "    ## Select the relevent density profile\n",
    "    l = which(ctd.data$Cast == i)\n",
    "    rho = ctd.data$Sigma_00[l]\n",
    "    \n",
    "    if (length(rho) > 10) { ## make sure it was a real cast (i.e. more than 10 data points)\n",
    "        \n",
    "        l.log = which(ctd.log$Cast == i)  # Which entry is this cast in the ctd log?\n",
    "        rho.10 = rho[ctd.data$Pressure[l] == 10]  # density at 10 meters depth\n",
    "        ll = which.min((rho - (rho.10 + 0.03))^2)  # What is the closest density to rho10 + 0.03?\n",
    "        #ll = which.min((rho - (rho.10 + 0.125))^2)  # What is the closest density to rho10 + 0.03?\n",
    "        \n",
    "        # Save the Data\n",
    "        mld = rbind(mld, c(ctd.log$Lat[l.log], ctd.log$Long[l.log], ctd.data$Pressure[l[ll]]) )\n",
    "        mld.times = c(mld.times, ctd.data$DateTime_GMT[l[ll]])\n",
    "    }\n",
    "}\n",
    "mld.times = conv_excel_time(mld.times)\n",
    "mld = mld[-1,]"
   ]
  },
  {
   "cell_type": "code",
   "execution_count": null,
   "metadata": {
    "collapsed": true
   },
   "outputs": [],
   "source": [
    "par(mfrow=c(2,2))\n",
    "#mld.old = mld$mld\n",
    "hist(mld.old, breaks = 20)\n",
    "hist(mld$mld, breaks = 20)\n",
    "plot(mld.old - mld$mld)"
   ]
  },
  {
   "cell_type": "markdown",
   "metadata": {},
   "source": [
    "## Save the results"
   ]
  },
  {
   "cell_type": "code",
   "execution_count": null,
   "metadata": {
    "collapsed": true
   },
   "outputs": [],
   "source": [
    "save(mld, file='./RStates/mld.rdata')\n",
    "save(mld.times, file='./RStates/mld.times.rdata')"
   ]
  }
 ],
 "metadata": {
  "kernelspec": {
   "display_name": "R",
   "language": "R",
   "name": "ir"
  },
  "language_info": {
   "codemirror_mode": "r",
   "file_extension": ".r",
   "mimetype": "text/x-r-source",
   "name": "R",
   "pygments_lexer": "r",
   "version": "3.4.1"
  }
 },
 "nbformat": 4,
 "nbformat_minor": 2
}
