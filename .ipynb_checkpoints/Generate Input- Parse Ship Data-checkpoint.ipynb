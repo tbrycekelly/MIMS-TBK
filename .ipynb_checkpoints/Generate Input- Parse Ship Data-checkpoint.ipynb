{
 "cells": [
  {
   "cell_type": "markdown",
   "metadata": {},
   "source": [
    "# Generate Input- Parse Ship Met data\n",
    "\n",
    "This script will read in the raw _.MET_ data files to generate a merged dataset for use in the rest of the model.\n",
    "\n",
    "After this script is run, please run the ___Merge Ship Data___."
   ]
  },
  {
   "cell_type": "code",
   "execution_count": null,
   "metadata": {
    "collapsed": true
   },
   "outputs": [],
   "source": [
    "## Install the package if needed:\n",
    "#install.packages('Mcomp', repos='http://cran.us.r-project.org')\n",
    "\n",
    "## Load the relevent packages\n",
    "library(ncdf4)  # For reading in the NCEP wind fields\n",
    "#library(R.matlab)  # If you need to read in matlab .mat files\n",
    "library(openxlsx)  # If you need to read in .xlsx files\n",
    "#library(rNOMADS)  # For reading grib2 data files (NOMADS data for instance)\n",
    "#library(rGDAL)  #\n",
    "library(RColorBrewer)\n",
    "library(compiler)  # required for JIT (below)\n",
    "\n",
    "## Enable compilation (speed gain?)\n",
    "enableJIT(3)\n",
    "\n",
    "## Helper function for converting the date time stamps.\n",
    "conv_excel_time = function(x, tz='US/Pacific') {\n",
    "    as.POSIXct(as.Date(x,origin=\"1899-12-30\", tz=tz))\n",
    "}\n",
    "\n",
    "get.qual.pal = function(n=100, pal='Accent') {\n",
    "    colorRampPalette(brewer.pal(8, pal))(n)\n",
    "}\n",
    "\n",
    "get.seq.pal = function(n=100, pal='YlOrRd') {\n",
    "    colorRampPalette(rev(brewer.pal(11, pal)))(n)\n",
    "}\n",
    "\n",
    "get.div.pal = function(n=100, pal='Spectral') {\n",
    "    colorRampPalette(rev(brewer.pal(11, pal)))(n)\n",
    "}\n",
    "\n",
    "make.div.pal = function(x=100, n, pal='Spectral') {\n",
    "    get.div.pal(n, pal=pal)[as.numeric(cut(x, breaks = n))]\n",
    "}"
   ]
  },
  {
   "cell_type": "markdown",
   "metadata": {},
   "source": [
    "## Setup file information"
   ]
  },
  {
   "cell_type": "code",
   "execution_count": 44,
   "metadata": {},
   "outputs": [
    {
     "name": "stdout",
     "output_type": "stream",
     "text": [
      "[1] \"Number of files in file.list: 33\"\n"
     ]
    }
   ],
   "source": [
    "input.dir = '../Met-data - raw/'\n",
    "#input.dir = 'Raw Data/MET/'\n",
    "\n",
    "dt.format = \"%m/%d/%y %I:%M %p\"\n",
    "\n",
    "## Generate list of files in the directory\n",
    "file.list = list.files(input.dir)\n",
    "file.list = file.list[grepl('.MET', file.list)]\n",
    "\n",
    "## Print total number of files in each category\n",
    "print(paste('Number of files in file.list:', length(file.list)))"
   ]
  },
  {
   "cell_type": "code",
   "execution_count": 48,
   "metadata": {
    "collapsed": true
   },
   "outputs": [],
   "source": [
    "processFile = function(filepath) {\n",
    "    con = file(filepath, \"r\")\n",
    "    i = 0\n",
    "    \n",
    "    while ( TRUE ) {\n",
    "        i = i + 1\n",
    "        line = readLines(con, n = 1)\n",
    "        if ( length(line) == 0 ) {\n",
    "          break\n",
    "        }\n",
    "        \n",
    "        ## Get the header\n",
    "        if (i == 4) {\n",
    "            line = substring(line, 2)\n",
    "            header = strsplit(line, split = ' ')[[1]]\n",
    "            header = header[which(sapply(header, function(x) {nchar(x) > 0}))]\n",
    "        }\n",
    "        if (i > 4) {\n",
    "            if (nchar(line) > 5) {\n",
    "                s = strsplit(line, split = ' ')[[1]]\n",
    "                s = s[which(sapply(s, function(x) {nchar(x) > 0}))]\n",
    "                if(exists('dat')) {\n",
    "                    dat = rbind(dat, as.numeric(s))\n",
    "                } else {\n",
    "                    dat = data.frame(t(as.numeric(s)))\n",
    "                }\n",
    "            }\n",
    "        }\n",
    "    }\n",
    "    colnames(dat) = header\n",
    "    close(con)\n",
    "    return(dat)\n",
    "}"
   ]
  },
  {
   "cell_type": "markdown",
   "metadata": {},
   "source": [
    "## Read in the data"
   ]
  },
  {
   "cell_type": "code",
   "execution_count": 49,
   "metadata": {},
   "outputs": [],
   "source": [
    "data = processFile(paste0(input.dir, file.list[1]))"
   ]
  },
  {
   "cell_type": "code",
   "execution_count": 50,
   "metadata": {},
   "outputs": [
    {
     "name": "stdout",
     "output_type": "stream",
     "text": [
      "'data.frame':\t1002 obs. of  90 variables:\n",
      " $ Time: num  194749 194849 194904 194919 195004 ...\n",
      " $ AT  : num  -99 -99 -99 -99 -99 -99 -99 -99 -99 -99 ...\n",
      " $ BP  : num  -99 -99 -99 -99 -99 -99 -99 -99 -99 -99 ...\n",
      " $ BS  : num  -99 -99 -99 -99 -99 -99 -99 -99 -99 -99 ...\n",
      " $ PR  : num  -99 -99 -99 -99 -99 -99 -99 -99 -99 -99 ...\n",
      " $ RH  : num  -99 -99 -99 -99 -99 -99 -99 -99 -99 -99 ...\n",
      " $ RT  : num  -99 -99 -99 -99 -99 -99 -99 -99 -99 -99 ...\n",
      " $ DP  : num  -99 -99 -99 -99 -99 -99 -99 -99 -99 -99 ...\n",
      " $ LD  : num  -99 -99 -99 -99 -99 -99 -99 -99 -99 -99 ...\n",
      " $ LB  : num  -99 -99 -99 -99 -99 -99 -99 -99 -99 -99 ...\n",
      " $ LT  : num  -99 -99 -99 -99 -99 -99 -99 -99 -99 -99 ...\n",
      " $ LW  : num  -99 -99 -99 -99 -99 -99 -99 -99 -99 -99 ...\n",
      " $ SW  : num  -99 -99 -99 -99 -99 -99 -99 -99 -99 -99 ...\n",
      " $ PA  : num  -99 -99 -99 -99 -99 -99 -99 -99 -99 -99 ...\n",
      " $ WS  : num  -99 -99 -99 -99 -99 -99 -99 -99 -99 -99 ...\n",
      " $ WD  : num  -99 -99 -99 -99 -99 -99 -99 -99 -99 -99 ...\n",
      " $ TW  : num  -99 -99 -99 -99 -99 -99 -99 -99 -99 -99 ...\n",
      " $ TI  : num  -99 -99 -99 -99 -99 -99 -99 -99 -99 -99 ...\n",
      " $ WS-2: num  1.4 2.2 1.7 1.7 1 0.7 0.6 0.7 0.7 1.3 ...\n",
      " $ WD-2: num  274 277 270 269 256 ...\n",
      " $ TW-2: num  1.4 2.2 1.7 1.7 1 0.7 0.6 0.7 0.7 1.3 ...\n",
      " $ TI-2: num  221 224 218 216 204 ...\n",
      " $ TT  : num  -99 -99 -99 -99 -99 -99 -99 -99 -99 -99 ...\n",
      " $ TC  : num  -99 -99 -99 -99 -99 -99 -99 -99 -99 -99 ...\n",
      " $ SA  : num  -99 -99 -99 -99 -99 -99 -99 -99 -99 -99 ...\n",
      " $ SD  : num  -99 -99 -99 -99 -99 -99 -99 -99 -99 -99 ...\n",
      " $ SV  : num  -99 -99 -99 -99 -99 -99 -99 -99 -99 -99 ...\n",
      " $ TG  : num  -99 -99 -99 -99 -99 -99 -99 -99 -99 -99 ...\n",
      " $ FI  : num  -99 -99 -99 -99 -99 -99 -99 -99 -99 -99 ...\n",
      " $ TT-2: num  -99 -99 -99 -99 -99 -99 -99 -99 -99 -99 ...\n",
      " $ TC-2: num  -99 -99 -99 -99 -99 -99 -99 -99 -99 -99 ...\n",
      " $ SA-2: num  -99 -99 -99 -99 -99 -99 -99 -99 -99 -99 ...\n",
      " $ SD-2: num  -99 -99 -99 -99 -99 -99 -99 -99 -99 -99 ...\n",
      " $ SV-2: num  -99 -99 -99 -99 -99 -99 -99 -99 -99 -99 ...\n",
      " $ TG-2: num  -99 -99 -99 -99 -99 -99 -99 -99 -99 -99 ...\n",
      " $ OC  : num  -99 -99 -99 -99 -99 -99 -99 -99 -99 -99 ...\n",
      " $ OT  : num  -99 -99 -99 -99 -99 -99 -99 -99 -99 -99 ...\n",
      " $ OX  : num  -99 -99 -99 -99 -99 -99 -99 -99 -99 -99 ...\n",
      " $ OS  : num  -99 -99 -99 -99 -99 -99 -99 -99 -99 -99 ...\n",
      " $ FL  : num  -99 -99 -99 -99 -99 -99 -99 -99 -99 -99 ...\n",
      " $ FI-2: num  -99 -99 -99 -99 -99 -99 -99 -99 -99 -99 ...\n",
      " $ VP  : num  0.24 0.24 0.24 0.26 0.25 0.25 0.24 0.26 0.27 0.26 ...\n",
      " $ VR  : num  -0.88 -0.89 -1.05 -0.92 -1.05 -0.96 -0.9 -0.87 -0.83 -0.95 ...\n",
      " $ VH  : num  0.02 0 -0.02 -0.04 0.01 0.02 0.02 0 0 0 ...\n",
      " $ VX  : num  0.26 0.26 0.26 0.26 0.26 0.26 0.26 0.26 0.26 0.26 ...\n",
      " $ VY  : num  -0.88 -0.88 -0.91 -0.93 -0.93 -0.91 -0.92 -0.92 -0.92 -0.92 ...\n",
      " $ GY  : num  308 307 307 307 308 ...\n",
      " $ MB  : num  -99 -99 -99 -99 -99 -99 -99 -99 -99 -99 ...\n",
      " $ BT  : num  -99 -99 -99 -99 -99 -99 -99 -99 -99 -99 ...\n",
      " $ LF  : num  -99 -99 -99 -99 -99 -99 -99 -99 -99 -99 ...\n",
      " $ HF  : num  -99 -99 -99 -99 -99 -99 -99 -99 -99 -99 ...\n",
      " $ LA  : num  32.7 32.7 32.7 32.7 32.7 ...\n",
      " $ LO  : num  -117 -117 -117 -117 -117 ...\n",
      " $ GT  : num  71270 71330 71345 71360 71405 ...\n",
      " $ CR  : num  203.9 126.1 38.9 275.1 306.6 ...\n",
      " $ SP  : num  0 0 0 0 0 0 0 0 0 0 ...\n",
      " $ ZD  : num  1.5e+09 1.5e+09 1.5e+09 1.5e+09 1.5e+09 ...\n",
      " $ GA  : num  -4 -3.9 -3.8 -3.8 -3.8 -3.7 -3.5 -3.5 -3.6 -3.6 ...\n",
      " $ GS  : num  112 112 112 112 112 112 112 112 112 112 ...\n",
      " $ ZO  : num  -67.6 -67.6 -67.6 -67.9 -67.9 -67.9 -67.9 -67.9 -67.9 -99 ...\n",
      " $ ZS  : num  0 0 0 0 0 0 0 0 0 683 ...\n",
      " $ ZT  : num  6 -3 1 3426 3298 ...\n",
      " $ ZI  : num  2 2 2 2 2 2 2 2 2 0 ...\n",
      " $ ZO-2: num  0.1 0.1 0.1 0.1 0.1 0.1 0.1 0.1 0.1 0.1 ...\n",
      " $ ZS-2: num  0 0 0 0 0 0 0 0 0 0 ...\n",
      " $ ZT-2: num  722 722 722 726 719 726 725 721 722 721 ...\n",
      " $ ZI-2: num  3 3 3 3 3 3 3 3 3 3 ...\n",
      " $ PZ  : num  0 0 0 0 0 0 0 0 0 0 ...\n",
      " $ PZ-2: num  0 0 0 0 0 0 0 0 0 0 ...\n",
      " $ IP  : num  -99 -99 -99 -99 -99 -99 -99 -99 -99 -99 ...\n",
      " $ IV  : num  -99 -99 -99 -99 -99 -99 -99 -99 -99 -99 ...\n",
      " $ IA  : num  -99 -99 -99 -99 -99 -99 -99 -99 -99 -99 ...\n",
      " $ MG  : num  -99 -99 -99 -99 -99 -99 -99 -99 -99 -99 ...\n",
      " $ MD  : num  -99 -99 -99 -99 -99 -99 -99 -99 -99 -99 ...\n",
      " $ MS  : num  -99 -99 -99 -99 -99 -99 -99 -99 -99 -99 ...\n",
      " $ MG-2: num  -99 -99 -99 -99 -99 -99 -99 -99 -99 -99 ...\n",
      " $ MD-2: num  -99 -99 -99 -99 -99 -99 -99 -99 -99 -99 ...\n",
      " $ MS-2: num  -99 -99 -99 -99 -99 -99 -99 -99 -99 -99 ...\n",
      " $ GC  : num  -99 -99 -99 -99 -99 -99 -99 -99 -99 -99 ...\n",
      " $ TT-3: num  -99 -99 -99 -99 -99 -99 -99 -99 -99 -99 ...\n",
      " $ TC-3: num  -99 -99 -99 -99 -99 -99 -99 -99 -99 -99 ...\n",
      " $ SA-3: num  -99 -99 -99 -99 -99 -99 -99 -99 -99 -99 ...\n",
      " $ TT-4: num  -99 -99 -99 -99 -99 -99 -99 -99 -99 -99 ...\n",
      " $ TC-4: num  -99 -99 -99 -99 -99 -99 -99 -99 -99 -99 ...\n",
      " $ SA-4: num  -99 -99 -99 -99 -99 -99 -99 -99 -99 -99 ...\n",
      " $ SH  : num  305 304 304 304 304 ...\n",
      " $ SM  : num  0.69 -0.2 -0.44 0.04 0.22 -0.06 -0.13 0.68 -0.11 -0.32 ...\n",
      " $ SR  : num  -1.54 -1.6 -1.82 -2.12 -1.78 -1.86 -1.84 -2.62 -1.44 -1.66 ...\n",
      " $ SL  : num  -99 -99 -99 -99 -99 -99 -99 -99 -99 -99 ...\n",
      " $ SX  : num  -99 -99 -99 -99 -99 -99 -99 -99 -99 -99 ...\n"
     ]
    }
   ],
   "source": [
    "str(data)"
   ]
  },
  {
   "cell_type": "markdown",
   "metadata": {},
   "source": [
    "## Time the data columns"
   ]
  },
  {
   "cell_type": "code",
   "execution_count": null,
   "metadata": {
    "collapsed": true
   },
   "outputs": [],
   "source": []
  }
 ],
 "metadata": {
  "kernelspec": {
   "display_name": "R",
   "language": "R",
   "name": "ir"
  },
  "language_info": {
   "codemirror_mode": "r",
   "file_extension": ".r",
   "mimetype": "text/x-r-source",
   "name": "R",
   "pygments_lexer": "r",
   "version": "3.4.1"
  }
 },
 "nbformat": 4,
 "nbformat_minor": 2
}
