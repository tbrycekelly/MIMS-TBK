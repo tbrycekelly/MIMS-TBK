{
 "cells": [
  {
   "cell_type": "markdown",
   "metadata": {},
   "source": [
    "# EIMS Data\n",
    "This script will read in the individual EIMS data files from the given directory and compile/prase the data for the model."
   ]
  },
  {
   "cell_type": "code",
   "execution_count": 55,
   "metadata": {
    "collapsed": true
   },
   "outputs": [],
   "source": [
    "## Install the package if needed:\n",
    "#install.packages('rgdal', repos='http://cran.us.r-project.org')\n",
    "\n",
    "## Load the relevent packages\n",
    "#library(R.matlab)  # If you need to read in matlab .mat files\n",
    "library(openxlsx)  # If you need to read in .xlsx files\n",
    "\n",
    "\n",
    "## Helper function for converting the date time stamps.\n",
    "conv_excel_time = function(x, tz='US/Pacific') {\n",
    "    as.POSIXct(as.Date(x,origin=\"1899-12-30\", tz=tz))\n",
    "}"
   ]
  },
  {
   "cell_type": "code",
   "execution_count": 56,
   "metadata": {},
   "outputs": [
    {
     "name": "stdout",
     "output_type": "stream",
     "text": [
      "[1] \"Number of files in file.list: 178\"\n",
      "[1] \"Number of files in file.list.2: 66\"\n",
      "[1] \"Number of files in file.list.nu: 20\"\n"
     ]
    }
   ],
   "source": [
    "input.dir = './Raw Data/EIMS/'\n",
    "dt.format = \"%m/%d/%y %I:%M %p\"\n",
    "\n",
    "## Generate list of files in the directory\n",
    "file.list = list.files(input.dir)\n",
    "\n",
    "## split file.list into usable lists\n",
    "file.list.nu = file.list[grepl('not usable', file.list)] # not usable\n",
    "file.list.2 = file.list[grepl('corr.txt', file.list)] # usable\n",
    "\n",
    "## Print total number of files in each category\n",
    "print(paste('Number of files in file.list:', length(file.list)))\n",
    "print(paste('Number of files in file.list.2:', length(file.list.2)))\n",
    "print(paste('Number of files in file.list.nu:', length(file.list.nu)))\n"
   ]
  },
  {
   "cell_type": "code",
   "execution_count": 57,
   "metadata": {},
   "outputs": [],
   "source": [
    "## Read in first data file and configure formatting around it\n",
    "data = read.csv(paste0(input.dir, file.list.2[1]), sep='\\t')\n",
    "data$time = strptime(data$time, format = dt.format, tz='')"
   ]
  },
  {
   "cell_type": "code",
   "execution_count": 58,
   "metadata": {
    "collapsed": true
   },
   "outputs": [],
   "source": [
    "## Average\n",
    "\n",
    "avg.eims = function(temp.data, N) {\n",
    "    i = 1\n",
    "    while (i < nrow(temp.data)) {\n",
    "        dt = as.numeric(difftime(temp.data$time, temp.data$time[i], unit='mins'))\n",
    "        l = which(dt >= 0 & dt < N)\n",
    "    \n",
    "        temp = apply(temp.data[l, 3:ncol(temp.data)], 2, mean)\n",
    "    \n",
    "        temp.data[i, 3:ncol(temp.data)] = temp\n",
    "    \n",
    "        if (length(l) > 1) {\n",
    "            l = l[l != i]\n",
    "            temp.data = temp.data[-l,]\n",
    "        }\n",
    "        i = i + 1\n",
    "    }\n",
    "    temp.data\n",
    "}"
   ]
  },
  {
   "cell_type": "code",
   "execution_count": 59,
   "metadata": {},
   "outputs": [],
   "source": [
    "N = 10 ## Time to avg over (mins)\n",
    "\n",
    "## Prepare filter function\n",
    "filter.eims = function(x) {\n",
    "    \n",
    "    ## Remove entries where flow within 5% of 100\n",
    "    x = x[x$flow < 105 & x$flow > 95,]\n",
    "    \n",
    "    ## find all valve switches and remove all entries within a miute of it.\n",
    "    l = which(diff(x$Valve) != 0)\n",
    "    for (i in l) {\n",
    "        dt = abs(as.numeric(difftime(x$time[i], x$time, unit='mins')))\n",
    "        k = which(dt <= 1)\n",
    "        x = x[-k,]\n",
    "    }\n",
    "    x\n",
    "}\n",
    "\n",
    "## Create template data structure to add new entries to:\n",
    "data.v1 = data[1,] # valve = 1\n",
    "data.v2 = data[1,] # valve = 2\n",
    "\n",
    "for (i in file.list.2) {\n",
    "    ## load file and parse the time\n",
    "    data = read.csv(paste0(input.dir, i), sep='\\t')\n",
    "    data$time = strptime(data$time, format = dt.format, tz='')\n",
    "    \n",
    "    ## determine valve = 1 \n",
    "    l = which(data$Valve == 1)\n",
    "    temp = filter.eims(data[l,])\n",
    "    temp = avg.eims(temp, N)\n",
    "    \n",
    "    if (length(names(temp)) == length(names(data.v1))) {\n",
    "        names(temp) = names(data.v1) # Force colname match (dangerous), but will check that lengths are the same\n",
    "        data.v1 = rbind(data.v1, temp)\n",
    "    } else {\n",
    "        print(i)\n",
    "    }\n",
    "    \n",
    "    ## determine valve = 2\n",
    "    l = which(data$Valve == 2)\n",
    "    temp = filter.eims(data[l,])\n",
    "    temp = avg.eims(temp, N)\n",
    "    \n",
    "    if (length(names(temp)) == length(names(data.v2))) {\n",
    "        names(temp) = names(data.v2) # Force colname match (dangerous), but will check that lengths are the same\n",
    "        data.v2 = rbind(data.v2, temp)\n",
    "    } else {\n",
    "        print(i)\n",
    "    }\n",
    "    if (length(data$valve) > 1) {\n",
    "        print(paste(\"Lower case Valve issue:\", i))\n",
    "    }\n",
    "}\n",
    "\n",
    "\n",
    "## Remove the first row used to initiate the table\n",
    "data.v1 = data.v1[-1,]\n",
    "data.v2 = data.v2[-1,]\n",
    "data.v1 = data.v1[,-c(1, 13, 14, 15, 23, 24, 25)]\n",
    "data.v2 = data.v2[,-c(1, 13, 14, 15, 23, 24, 25)]"
   ]
  },
  {
   "cell_type": "code",
   "execution_count": 60,
   "metadata": {},
   "outputs": [
    {
     "data": {
      "text/html": [
       "22103"
      ],
      "text/latex": [
       "22103"
      ],
      "text/markdown": [
       "22103"
      ],
      "text/plain": [
       "[1] 22103"
      ]
     },
     "metadata": {},
     "output_type": "display_data"
    },
    {
     "data": {
      "text/html": [
       "123897"
      ],
      "text/latex": [
       "123897"
      ],
      "text/markdown": [
       "123897"
      ],
      "text/plain": [
       "[1] 123897"
      ]
     },
     "metadata": {},
     "output_type": "display_data"
    }
   ],
   "source": [
    "## Number of entries, do they seem right?\n",
    "nrow(data.v1)\n",
    "nrow(data.v2)\n",
    "\n",
    "## Also, correct the time since the year is not actuall 2021...\n",
    "data.v1$time = data.v1$time - 4 * 365.25 * 86400\n",
    "data.v2$time = data.v2$time - 4 * 365.25 * 86400\n",
    "\n",
    "data.v1 = data.v1[data.v1$time > data.v1$time[1], ]\n",
    "data.v2 = data.v2[data.v2$time > data.v2$time[1], ]"
   ]
  },
  {
   "cell_type": "code",
   "execution_count": null,
   "metadata": {},
   "outputs": [],
   "source": []
  },
  {
   "cell_type": "code",
   "execution_count": 49,
   "metadata": {},
   "outputs": [
    {
     "data": {
      "text/html": [
       "<table>\n",
       "<thead><tr><th></th><th scope=col>used</th><th scope=col>(Mb)</th><th scope=col>gc trigger</th><th scope=col>(Mb)</th><th scope=col>max used</th><th scope=col>(Mb)</th></tr></thead>\n",
       "<tbody>\n",
       "\t<tr><th scope=row>Ncells</th><td> 710039 </td><td>38.0    </td><td> 1442291</td><td> 77.1   </td><td> 1442291</td><td> 77.1   </td></tr>\n",
       "\t<tr><th scope=row>Vcells</th><td>5879147 </td><td>44.9    </td><td>16113972</td><td>123.0   </td><td>20142466</td><td>153.7   </td></tr>\n",
       "</tbody>\n",
       "</table>\n"
      ],
      "text/latex": [
       "\\begin{tabular}{r|llllll}\n",
       "  & used & (Mb) & gc trigger & (Mb) & max used & (Mb)\\\\\n",
       "\\hline\n",
       "\tNcells &  710039  & 38.0     &  1442291 &  77.1    &  1442291 &  77.1   \\\\\n",
       "\tVcells & 5879147  & 44.9     & 16113972 & 123.0    & 20142466 & 153.7   \\\\\n",
       "\\end{tabular}\n"
      ],
      "text/markdown": [
       "\n",
       "| <!--/--> | used | (Mb) | gc trigger | (Mb) | max used | (Mb) | \n",
       "|---|---|\n",
       "| Ncells |  710039  | 38.0     |  1442291 |  77.1    |  1442291 |  77.1    | \n",
       "| Vcells | 5879147  | 44.9     | 16113972 | 123.0    | 20142466 | 153.7    | \n",
       "\n",
       "\n"
      ],
      "text/plain": [
       "       used    (Mb) gc trigger (Mb)  max used (Mb) \n",
       "Ncells  710039 38.0  1442291    77.1  1442291  77.1\n",
       "Vcells 5879147 44.9 16113972   123.0 20142466 153.7"
      ]
     },
     "metadata": {},
     "output_type": "display_data"
    }
   ],
   "source": [
    "gc()"
   ]
  },
  {
   "cell_type": "markdown",
   "metadata": {},
   "source": [
    "## Review results"
   ]
  },
  {
   "cell_type": "code",
   "execution_count": 98,
   "metadata": {},
   "outputs": [
    {
     "data": {
      "text/html": [
       "<strong>png:</strong> 2"
      ],
      "text/latex": [
       "\\textbf{png:} 2"
      ],
      "text/markdown": [
       "**png:** 2"
      ],
      "text/plain": [
       "png \n",
       "  2 "
      ]
     },
     "metadata": {},
     "output_type": "display_data"
    }
   ],
   "source": [
    "pdf('./Output/Generate-EIMS-review1.pdf')\n",
    "\n",
    "par(mfrow=c(2,1))\n",
    "l = order(data.v1$time)\n",
    "ll = order(data.v2$time)\n",
    "\n",
    "plot(data.v1$time[l], data.v1$O2.Ar[l], pch=16, cex=0.3, ylab='O2/Ar', xlab='')\n",
    "points(data.v2$time[ll], data.v2$O2.Ar[ll], pch=16, cex=0.2, col='red')\n",
    "\n",
    "legend(data.v1$time[1], 19, c('Measurements', 'Calibration'), col=c('black', 'red'), pch=16, cex=0.6)\n",
    "\n",
    "plot(data.v1$time[l], data.v1$N2.Ar[l], pch=16, cex=0.3, ylab='N2/Ar', xlab='')\n",
    "points(data.v2$time[ll], data.v2$N2.Ar[ll], pch=16, cex=0.2, col='red')\n",
    "\n",
    "plot(data.v1$time[l], data.v1$time[l], pch=16, cex=0.3, ylab='Time', xlab='')\n",
    "\n",
    "plot(data.v1$time[l], data.v1$O2..uM.[l], pch=16, cex=0.3, ylab='O2', xlab='')\n",
    "points(data.v2$time[ll], data.v2$O2..uM.[ll], pch=16, cex=0.2, col='red')\n",
    "\n",
    "legend(data.v2$time[1], 470, c('Measurements', 'Calibration'), col=c('black', 'red'), pch=16, cex=0.6)\n",
    "\n",
    "dev.off()"
   ]
  },
  {
   "cell_type": "code",
   "execution_count": 80,
   "metadata": {},
   "outputs": [
    {
     "data": {
      "text/html": [
       "<strong>png:</strong> 2"
      ],
      "text/latex": [
       "\\textbf{png:} 2"
      ],
      "text/markdown": [
       "**png:** 2"
      ],
      "text/plain": [
       "png \n",
       "  2 "
      ]
     },
     "metadata": {},
     "output_type": "display_data"
    }
   ],
   "source": [
    "pdf('./Output/Generate-EIMS-review2.pdf')\n",
    "\n",
    "plot(data.v1$time[l], data.v1$time[l], pch=16, cex=0.3, ylab='Time', xlab='')\n",
    "points(data.v2$time[ll], data.v2$time[ll]+86400/3, pch=16, cex=0.3, col='red')\n",
    "legend(data.v1$time[1], data.v1$time[nrow(data.v1)], c('Measurements', 'Calibration'), col=c('black', 'red'), pch=16)\n",
    "\n",
    "dev.off()"
   ]
  },
  {
   "cell_type": "code",
   "execution_count": 99,
   "metadata": {
    "collapsed": true
   },
   "outputs": [],
   "source": [
    "## Save the data\n",
    "eims.v1 = data.v1\n",
    "eims.v2 = data.v2\n",
    "save(eims.v1, file='./RStates/EIMS.v1.rdata')\n",
    "save(eims.v2, file='./RStates/EIMS.v2.rdata')\n",
    "\n",
    "## Optional\n",
    "write.csv(data.v1, './Input Data/EIMS-Valve1.csv')\n",
    "write.csv(data.v2, './Input Data/EIMS-Valve2.csv')"
   ]
  }
 ],
 "metadata": {
  "anaconda-cloud": {},
  "kernelspec": {
   "display_name": "R",
   "language": "R",
   "name": "ir"
  }
 },
 "nbformat": 4,
 "nbformat_minor": 2
}
