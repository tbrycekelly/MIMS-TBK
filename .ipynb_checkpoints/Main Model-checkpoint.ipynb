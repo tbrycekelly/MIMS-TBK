{
 "cells": [
  {
   "cell_type": "markdown",
   "metadata": {},
   "source": [
    "# Structure of this file\n",
    "---\n",
    "\n",
    "## 1. Read Wind Data\n",
    "    i. Determine coordinates (lat, lon, time)\n",
    "    ii. Trim to study region\n",
    "\t\t\t\n",
    "\t\t\t\n",
    "## 2. Read Ship Data\n",
    "\ti. Average over N minutes\n",
    "\t\t\t\n",
    "\t\t\t\n",
    "## 3. Map wind data to ship\n",
    "\ti. Interpolate\n",
    "\tii. Calculate N-day average\n",
    "\t\t\t\n",
    "\t\t\t\n",
    "## 4. Read CTD Data\n",
    "\ti. Define and Calculate MLD\n",
    "\tii. Map MLD to ship data\n",
    "\t\t\t\n",
    "\t\t\t\n",
    "## 5. Preliminary Plots\n",
    "---\n",
    "\n",
    "### Introduction\n",
    "__First__ we need to load up the relevent libraries and define any helper functions."
   ]
  },
  {
   "cell_type": "code",
   "execution_count": 85,
   "metadata": {},
   "outputs": [
    {
     "name": "stdout",
     "output_type": "stream",
     "text": [
      "package 'Mcomp' successfully unpacked and MD5 sums checked\n",
      "\n",
      "The downloaded binary packages are in\n",
      "\tC:\\Users\\Tom\\AppData\\Local\\Temp\\RtmpG0u8wT\\downloaded_packages\n"
     ]
    },
    {
     "name": "stderr",
     "output_type": "stream",
     "text": [
      "Warning message:\n",
      "\"package 'Mcomp' was built under R version 3.4.2\"Loading required package: forecast\n",
      "Warning message:\n",
      "\"package 'forecast' was built under R version 3.4.2\""
     ]
    }
   ],
   "source": [
    "## Install the package if needed:\n",
    "#install.packages('Mcomp', repos='http://cran.us.r-project.org')\n",
    "\n",
    "## Load the relevent packages\n",
    "library(smooth)  # Moving Avg\n",
    "library(Mcomp)  # Moving Avg\n",
    "library(ncdf4)  # For reading in the NCEP wind fields\n",
    "#library(R.matlab)  # If you need to read in matlab .mat files\n",
    "library(openxlsx)  # If you need to read in .xlsx files\n",
    "#library(rNOMADS)  # For reading grib2 data files (NOMADS data for instance)\n",
    "#library(rGDAL)  #\n",
    "\n",
    "## Helper function for converting the date time stamps.\n",
    "conv_excel_time = function(x, tz='US/Pacific') {\n",
    "    as.POSIXct(as.Date(x,origin=\"1899-12-30\", tz=tz))\n",
    "}"
   ]
  },
  {
   "cell_type": "markdown",
   "metadata": {},
   "source": [
    "---\n",
    "# 1. Reading in the NCEP wind data (.nc files)\n",
    "This section will load in the wind data from two .nc files (u and v components). Once loaded, we need to determine how the x,y,z dimentions of the data matrix correspond to the lat, lon, time dimensions--this is done easily from the metadata contained within the file. Nothing else is required to complete this section.\n",
    "\n",
    "Wind data is available from a variety of sources with variable resolution (spatial and temporal) and difficulty in integrating with this script (easy to import .nc to custom binary formats).\n",
    "\n",
    "*  ~0.3 degree, 3hr, .nc format (N. America only) -- [NARR](https://www.esrl.noaa.gov/psd/data/gridded/data.narr.monolevel.html)\n",
    "* 2.5 degree, 6hr, .nc format -- [NCEP](https://www.esrl.noaa.gov/psd/data/gridded/data.ncep.reanalysis.derived.surface.html)\n",
    "* 0.25 degree, 6hr, .nc format (inc. cloud cover) -- [NCSS](https://www.ncei.noaa.gov/thredds/ncss/uv/6h_agg_rt/Preliminary_Aggregation_best.ncd/dataset.html)\n",
    "* 0.25 degree, hourly, .D binary format -- [NAVGEM](ftp://ftp.hycom.org/datasets/force/NAVGEM/navgem1.4_0.281c/1hourly/)"
   ]
  },
  {
   "cell_type": "code",
   "execution_count": 2,
   "metadata": {
    "collapsed": true
   },
   "outputs": [],
   "source": [
    "## If there are saved datasets, then run this to load them\n",
    "\n",
    "load('./RStates/wind.lat.rdata')\n",
    "load('./RStates/wind.lon.rdata')\n",
    "load('./RStates/wind.ncep.rdata')\n",
    "load('./RStates/time.actual.rdata')"
   ]
  },
  {
   "cell_type": "code",
   "execution_count": 3,
   "metadata": {
    "collapsed": true
   },
   "outputs": [],
   "source": [
    "## Load all the data files and check their format and naming scheme.\n",
    "\n",
    "u.nc = nc_open('C:/Users/Tom/Downloads/uwnd.10m.2017.nc', write=FALSE)\n",
    "v.nc = nc_open('C:/Users/Tom/Downloads/vwnd.10m.2017.nc', write=FALSE)"
   ]
  },
  {
   "cell_type": "code",
   "execution_count": 4,
   "metadata": {},
   "outputs": [
    {
     "data": {
      "text/plain": [
       "File C:/Users/Tom/Downloads/uwnd.10m.2017.nc (NC_FORMAT_NETCDF4_CLASSIC):\n",
       "\n",
       "     4 variables (excluding dimension variables):\n",
       "        float lat[x,y]   \n",
       "            axis: Y\n",
       "            coordinate_defines: point\n",
       "            long_name: Latitude\n",
       "            standard_name: latitude\n",
       "            units: degrees_north\n",
       "        float lon[x,y]   \n",
       "            axis: X\n",
       "            coordinate_defines: point\n",
       "            long_name: Longitude\n",
       "            standard_name: longitude\n",
       "            units: degrees_east\n",
       "        int Lambert_Conformal[]   \n",
       "            false_easting: 5632642.22547\n",
       "            false_northing: 4612545.65137\n",
       "            grid_mapping_name: lambert_conformal_conic\n",
       "            latitude_of_projection_origin: 50\n",
       "            longitude_of_central_meridian: -107\n",
       "            standard_parallel: 50\n",
       "             standard_parallel: 50\n",
       "        float uwnd[x,y,time]   \n",
       "            GRIB_id: 33\n",
       "            GRIB_name: UGRD\n",
       "            _FillValue: 9.96920996838687e+36\n",
       "            coordinates: lat lon\n",
       "            dataset: NARR 3-hourly\n",
       "            grid_mapping: Lambert_Conformal\n",
       "            level_desc: 10 m\n",
       "            long_name: 3-hourly u-wind at 10 m\n",
       "            parent_stat: Other\n",
       "            standard_name: eastward_wind\n",
       "            statistic: Individual Obs\n",
       "            units: m/s\n",
       "            valid_range: -100\n",
       "             valid_range: 100\n",
       "            var_desc: u-wind\n",
       "            missing_value: -9.96920996838687e+36\n",
       "            actual_range: -33.7135162353516\n",
       "             actual_range: 30.4515228271484\n",
       "\n",
       "     3 dimensions:\n",
       "        time  Size:1448   *** is unlimited ***\n",
       "            axis: T\n",
       "            coordinate_defines: point\n",
       "            delta_t: 0000-00-00 03:00:00\n",
       "            long_name: Time\n",
       "            standard_name: time\n",
       "            units: hours since 1800-1-1 00:00:0.0\n",
       "            actual_range: 1902192\n",
       "             actual_range: 1906533\n",
       "        y  Size:277\n",
       "            long_name: northward distance from southwest corner of domain in projection coordinates\n",
       "            standard_name: projection_y_coordinate\n",
       "            units: m\n",
       "        x  Size:349\n",
       "            long_name: eastward distance from southwest corner of domain in projection coordinates\n",
       "            standard_name: projection_x_coordinate\n",
       "            units: m\n",
       "\n",
       "    15 global attributes:\n",
       "        _NCProperties: version=1|netcdflibversion=4.4.1.1|hdf5libversion=1.10.1\n",
       "        Conventions: CF-1.2\n",
       "        centerlat: 50\n",
       "        centerlon: -107\n",
       "        comments: \n",
       "        institution: National Centers for Environmental Prediction\n",
       "        latcorners: 1.00000095367432\n",
       "         latcorners: 0.897944986820221\n",
       "         latcorners: 46.3544006347656\n",
       "         latcorners: 46.6343307495117\n",
       "        loncorners: -145.5\n",
       "         loncorners: -68.3200531005859\n",
       "         loncorners: -2.56989097595215\n",
       "         loncorners: 148.641799926758\n",
       "        platform: Model\n",
       "        standardpar1: 50\n",
       "        standardpar2: 50.000001\n",
       "        title: 8x Daily NARR\n",
       "        history: created Mon Jul 18 13:32:13 MDT 2016 by NOAA/ESRL/PSD\n",
       "        dataset_title: NCEP North American Regional Reanalysis (NARR)\n",
       "        references: https://www.esrl.noaa.gov/psd/data/gridded/data.narr.html\n",
       "http://www.emc.ncep.noaa.gov/mmb/rreanl/index.html"
      ]
     },
     "metadata": {},
     "output_type": "display_data"
    }
   ],
   "source": [
    "## Use the file metadata to populate ranges and coordinate mappings\n",
    "u.nc"
   ]
  },
  {
   "cell_type": "code",
   "execution_count": 5,
   "metadata": {},
   "outputs": [
    {
     "data": {
      "text/plain": [
       "                 Min.               1st Qu.                Median \n",
       "\"2016-12-31 19:00:00\" \"2017-02-15 00:15:00\" \"2017-04-01 06:30:00\" \n",
       "                 Mean               3rd Qu.                  Max. \n",
       "\"2017-04-01 06:30:00\" \"2017-05-16 11:45:00\" \"2017-06-30 17:00:00\" "
      ]
     },
     "metadata": {},
     "output_type": "display_data"
    }
   ],
   "source": [
    "## Setup the metadata \n",
    "time.bounds = c(1902192, 1906533)  # set based on file description above\n",
    "\n",
    "## Load the data into u,v, lat, lon\n",
    "wind.u = ncvar_get(u.nc, varid = 'uwnd')\n",
    "wind.v = ncvar_get(v.nc, varid = 'vwnd')\n",
    "wind.lat = ncvar_get(u.nc, varid = 'lat')\n",
    "wind.lon = ncvar_get(u.nc, varid = 'lon')\n",
    "#wind.lat = seq(88.5419998168945, 88.5419998168945, length.out=94)\n",
    "#wind.lon = seq(0, 358.125, length.out=192)\n",
    "\n",
    "dims = dim(wind.u)\n",
    "\n",
    "## Calculate the actual times\n",
    "time.actual = seq(time.bounds[1]*3600, time.bounds[2]*3600, length.out = dims[3])\n",
    "time.actual = as.POSIXct(time.actual, origin='1800-01-01 00:00:00')  # orgin is in the file metadata above\n",
    "\n",
    "## Check on time format/range\n",
    "summary(time.actual)"
   ]
  },
  {
   "cell_type": "code",
   "execution_count": 6,
   "metadata": {
    "collapsed": true
   },
   "outputs": [],
   "source": [
    "## Close the .nc files\n",
    "nc_close(u.nc)\n",
    "nc_close(v.nc)"
   ]
  },
  {
   "cell_type": "markdown",
   "metadata": {},
   "source": [
    "### Flatten the lat/lon dimensions\n",
    "Instead of sticking with the (x, y) -> lat (or longitude) coordinate mapping setup, let's flatten it out to make a list so that we have:\n",
    "\n",
    "`i -> lat\n",
    "i -> lon\n",
    "i -> wind(t)`   --- Wind is a function of time at every location\n",
    "\n",
    "Therefore we can simply the x-y grid to i = 1,2,3,4,5,6,7,8,..., x*y"
   ]
  },
  {
   "cell_type": "code",
   "execution_count": 7,
   "metadata": {},
   "outputs": [
    {
     "data": {
      "text/html": [
       "<table>\n",
       "<thead><tr><th></th><th scope=col>used</th><th scope=col>(Mb)</th><th scope=col>gc trigger</th><th scope=col>(Mb)</th><th scope=col>max used</th><th scope=col>(Mb)</th></tr></thead>\n",
       "<tbody>\n",
       "\t<tr><th scope=row>Ncells</th><td>   553302</td><td>  29.6   </td><td>   940480</td><td>  50.3   </td><td>   940480</td><td>  50.3   </td></tr>\n",
       "\t<tr><th scope=row>Vcells</th><td>141199995</td><td>1077.3   </td><td>582244552</td><td>4442.2   </td><td>606368204</td><td>4626.3   </td></tr>\n",
       "</tbody>\n",
       "</table>\n"
      ],
      "text/latex": [
       "\\begin{tabular}{r|llllll}\n",
       "  & used & (Mb) & gc trigger & (Mb) & max used & (Mb)\\\\\n",
       "\\hline\n",
       "\tNcells &    553302 &   29.6    &    940480 &   50.3    &    940480 &   50.3   \\\\\n",
       "\tVcells & 141199995 & 1077.3    & 582244552 & 4442.2    & 606368204 & 4626.3   \\\\\n",
       "\\end{tabular}\n"
      ],
      "text/markdown": [
       "\n",
       "| <!--/--> | used | (Mb) | gc trigger | (Mb) | max used | (Mb) | \n",
       "|---|---|\n",
       "| Ncells |    553302 |   29.6    |    940480 |   50.3    |    940480 |   50.3    | \n",
       "| Vcells | 141199995 | 1077.3    | 582244552 | 4442.2    | 606368204 | 4626.3    | \n",
       "\n",
       "\n"
      ],
      "text/plain": [
       "       used      (Mb)   gc trigger (Mb)   max used  (Mb)  \n",
       "Ncells    553302   29.6    940480    50.3    940480   50.3\n",
       "Vcells 141199995 1077.3 582244552  4442.2 606368204 4626.3"
      ]
     },
     "metadata": {},
     "output_type": "display_data"
    }
   ],
   "source": [
    "## Calculate wind speed & Flatten\n",
    "wind.ncep = array(NA, dim=c(dim(wind.u)[1] * dim(wind.u)[2], dim(wind.u)[3]))\n",
    "for (i in 1:dim(wind.u)[3]) {\n",
    "    wind.ncep[,i] = sqrt(as.numeric(wind.u[,,i]^2 + wind.v[,,i]^2))\n",
    "}\n",
    "\n",
    "## Flatten the lat and lon arrays as well\n",
    "wind.lat = as.numeric(wind.lat)\n",
    "wind.lom = as.numeric(wind.lon)\n",
    "\n",
    "## Free memory\n",
    "rm('wind.u')\n",
    "rm('wind.v')\n",
    "gc()"
   ]
  },
  {
   "cell_type": "markdown",
   "metadata": {},
   "source": [
    "### Trim the data\n",
    "Take the time now to trim the data  to a more reasonable domain to speed up later computations (looping is expensive)."
   ]
  },
  {
   "cell_type": "code",
   "execution_count": 8,
   "metadata": {},
   "outputs": [
    {
     "name": "stdout",
     "output_type": "stream",
     "text": [
      "[1] \"The minimum and maximum latitude in the NCEP data is 0.897944986820221 85.3325500488281\"\n",
      "[1] \"The minimum and maximum longitude in the NCEP data is -179.99690246582 179.992797851562\"\n",
      "[1] \"The minimum date in the NCEP data is 2016-12-31 19:00:00\"\n",
      "[1] \"The minimum date in the NCEP data is 2017-06-30 17:00:00\"\n"
     ]
    }
   ],
   "source": [
    "## First, check the domains of the data\n",
    "print(paste('The minimum and maximum latitude in the NCEP data is', min(wind.lat), max(wind.lat)))\n",
    "print(paste('The minimum and maximum longitude in the NCEP data is', min(wind.lon), max(wind.lon)))\n",
    "print(paste('The minimum date in the NCEP data is', min(time.actual)))\n",
    "print(paste('The minimum date in the NCEP data is', max(time.actual)))"
   ]
  },
  {
   "cell_type": "code",
   "execution_count": 9,
   "metadata": {},
   "outputs": [
    {
     "name": "stdout",
     "output_type": "stream",
     "text": [
      "[1] \"This cut removed 99.1486764660246 % of the data.\"\n"
     ]
    }
   ],
   "source": [
    "## First set some generic bounds\n",
    "lats = c(30, 40)\n",
    "lons = c(-126, -118)\n",
    "\n",
    "## Calcualte which entries should be kept (latitude)\n",
    "keep.lat = wind.lat > lats[1] & wind.lat < lats[2] # Which col to keep\n",
    "keep.lon = wind.lon > lons[1] & wind.lon < lons[2] # Which row to keep\n",
    "keepers = keep.lat & keep.lon\n",
    "\n",
    "## update all required variables\n",
    "before = length(wind.ncep)\n",
    "\n",
    "wind.lat = wind.lat[keepers]\n",
    "wind.lon = wind.lon[keepers]\n",
    "\n",
    "wind.ncep = wind.ncep[keepers, ]\n",
    "\n",
    "print(paste(\"This cut removed\", 100-length(wind.ncep)/before*100, '% of the data.'))"
   ]
  },
  {
   "cell_type": "code",
   "execution_count": 10,
   "metadata": {},
   "outputs": [
    {
     "data": {
      "text/html": [
       "<table>\n",
       "<thead><tr><th></th><th scope=col>used</th><th scope=col>(Mb)</th><th scope=col>gc trigger</th><th scope=col>(Mb)</th><th scope=col>max used</th><th scope=col>(Mb)</th></tr></thead>\n",
       "<tbody>\n",
       "\t<tr><th scope=row>Ncells</th><td> 557798  </td><td>29.8     </td><td>   940480</td><td>  50.3   </td><td>   940480</td><td>  50.3   </td></tr>\n",
       "\t<tr><th scope=row>Vcells</th><td>2370429  </td><td>18.1     </td><td>465795641</td><td>3553.8   </td><td>606368204</td><td>4626.3   </td></tr>\n",
       "</tbody>\n",
       "</table>\n"
      ],
      "text/latex": [
       "\\begin{tabular}{r|llllll}\n",
       "  & used & (Mb) & gc trigger & (Mb) & max used & (Mb)\\\\\n",
       "\\hline\n",
       "\tNcells &  557798   & 29.8      &    940480 &   50.3    &    940480 &   50.3   \\\\\n",
       "\tVcells & 2370429   & 18.1      & 465795641 & 3553.8    & 606368204 & 4626.3   \\\\\n",
       "\\end{tabular}\n"
      ],
      "text/markdown": [
       "\n",
       "| <!--/--> | used | (Mb) | gc trigger | (Mb) | max used | (Mb) | \n",
       "|---|---|\n",
       "| Ncells |  557798   | 29.8      |    940480 |   50.3    |    940480 |   50.3    | \n",
       "| Vcells | 2370429   | 18.1      | 465795641 | 3553.8    | 606368204 | 4626.3    | \n",
       "\n",
       "\n"
      ],
      "text/plain": [
       "       used    (Mb) gc trigger (Mb)   max used  (Mb)  \n",
       "Ncells  557798 29.8    940480    50.3    940480   50.3\n",
       "Vcells 2370429 18.1 465795641  3553.8 606368204 4626.3"
      ]
     },
     "metadata": {},
     "output_type": "display_data"
    }
   ],
   "source": [
    "gc()"
   ]
  },
  {
   "cell_type": "markdown",
   "metadata": {},
   "source": [
    "#### A good point to save"
   ]
  },
  {
   "cell_type": "code",
   "execution_count": 12,
   "metadata": {
    "collapsed": true
   },
   "outputs": [],
   "source": [
    "## Save wind data here -- can reload directly\n",
    "save(wind.lat, file = './RStates/wind.lat.rdata')\n",
    "save(wind.lon, file = './RStates/wind.lon.rdata')\n",
    "save(wind.ncep, file = './RStates/wind.ncep.rdata')\n",
    "save(time.actual, file = './RStates/time.actual.rdata')\n",
    "write.xlsx(time.actual, file='./Input Data/Wind data - list of times.xlsx')"
   ]
  },
  {
   "cell_type": "markdown",
   "metadata": {},
   "source": [
    "---\n",
    "# 2. Load and prepare ship data\n",
    "This section deals with the loading of the met-merge data. Once loaded and the structure is verified, a 2 minute average is taken for all parameters. Once completed, the next section will add the NCEP wind data and MLD to the data frame.The file structure which this script is looking for is as follows where Vars are in any order but with the proper abbreviations.\n",
    "\n",
    "``Datetime  Var1   Var2  Var3 ...``\n",
    "\n",
    "Variable Descriptions and Abbreviations\n",
    "* __DT -- Date Time__\n",
    "* __TW -- True Wind__\n",
    "* TI  -- Wind Dir\n",
    "* __LA -- Latitude__\n",
    "* __LO -- Longitude__\n",
    "* __AT -- Atm Temp__\n",
    "* __BP -- Pressure__\n",
    "* PA -- PAR\n",
    "* __TT (TT2*)  -- Water Temp__\n",
    "* __SA -- Salinity__\n",
    "* __OS -- Oxygen__\n",
    "* FL -- Fluorometer\n",
    "* BT -- Bottom Depth\n",
    "\n",
    "___NB___: Bold identies required columns while the others are used for additional analyses."
   ]
  },
  {
   "cell_type": "code",
   "execution_count": 3,
   "metadata": {
    "collapsed": true
   },
   "outputs": [],
   "source": [
    "## Load the data if already run:\n",
    "\n",
    "load('./RStates/ship.avg.rdata')"
   ]
  },
  {
   "cell_type": "code",
   "execution_count": 21,
   "metadata": {},
   "outputs": [
    {
     "name": "stderr",
     "output_type": "stream",
     "text": [
      "Warning message in eval(expr, envir, enclos):\n",
      "\"NAs introduced by coercion\""
     ]
    },
    {
     "name": "stdout",
     "output_type": "stream",
     "text": [
      "[1] \"Do the number of names in keep match the number of columns now? FALSE\"\n",
      "'data.frame':\t186490 obs. of  15 variables:\n",
      " $ DT  : POSIXct, format: \"2017-05-30 20:01:00\" \"2017-05-30 20:01:00\" ...\n",
      " $ TW  : num  2.54 2.17 2.83 3.01 3.01 ...\n",
      " $ TI  : num  209 214 216 224 226 ...\n",
      " $ TT  : num  19.4 19.4 19.4 19.4 19.4 ...\n",
      " $ SA  : num  33.2 33.2 33.2 33.2 33.2 ...\n",
      " $ OS  : num  5 5 5 5 5 ...\n",
      " $ FL  : num  0.079 0.08 0.077 0.076 0.076 0.077 0.076 0.076 0.076 0.074 ...\n",
      " $ AT  : num  16.7 16.7 16.7 16.8 16.8 ...\n",
      " $ BP  : num  1010 1010 1010 1010 1010 ...\n",
      " $ PA  : num  925 930 918 915 913 ...\n",
      " $ SA.1: num  33.2 33.2 33.2 33.2 33.2 ...\n",
      " $ OS.1: num  5 5 5 5 5 ...\n",
      " $ FL.1: num  0.079 0.08 0.077 0.076 0.076 0.077 0.076 0.076 0.076 0.074 ...\n",
      " $ LA  : num  32.7 32.7 32.7 32.7 32.7 ...\n",
      " $ LO  : num  -117 -117 -117 -117 -117 ...\n"
     ]
    }
   ],
   "source": [
    "## Load the xlsx file\n",
    "ship.data = read.xlsx('../Met-data - merged/merge 063100702-corrected.xlsx', )\n",
    "\n",
    "## Trim data to the following columns:\n",
    "keep = c('DT', 'TW', 'TI', 'LA', 'LO', 'AT', 'BP', 'PA', 'TT', 'SA', 'OS', 'FL', 'BT')\n",
    "# This call finds which columns match the names in keep and keeps them.\n",
    "ship.data = ship.data[, which(names(ship.data) %in% keep)]\n",
    "\n",
    "ship.data$DT = conv_excel_time(ship.data$DT) # Convert excel datetime numbers to actual datetimes.\n",
    "ship.data$TW = ship.data$TW * 0.942  # Calculated from Thomas et al.\n",
    "\n",
    "## Convert all columns (except date/time to numeric)\n",
    "for (i in 2:ncol(ship.data)) {\n",
    "    ship.data[,i] = as.numeric(ship.data[,i])\n",
    "}\n",
    "\n",
    "## Check that it loaded properly/correct data type (num)\n",
    "print(paste('Do the number of names in keep match the number of columns now?', ncol(ship.data) == length(keep)))\n",
    "str(ship.data)"
   ]
  },
  {
   "cell_type": "markdown",
   "metadata": {},
   "source": [
    "#### Remove bad wind data\n",
    "Here we simply remove the rows there wind speed is less than zero (TW < 0). We also report the number of rows affected (should be a relatively small amount)."
   ]
  },
  {
   "cell_type": "code",
   "execution_count": 22,
   "metadata": {},
   "outputs": [
    {
     "data": {
      "text/html": [
       "618"
      ],
      "text/latex": [
       "618"
      ],
      "text/markdown": [
       "618"
      ],
      "text/plain": [
       "[1] 618"
      ]
     },
     "metadata": {},
     "output_type": "display_data"
    }
   ],
   "source": [
    "bad.wind = which(ship.data$TW < 0)\n",
    "length(bad.wind)\n",
    "\n",
    "## Remove bad wind entries\n",
    "ship.data = ship.data[-bad.wind,]"
   ]
  },
  {
   "cell_type": "markdown",
   "metadata": {},
   "source": [
    "### The N minute average:\n",
    "1. Start with the first row, set ___current.time___ to that row's time\n",
    "2. Find all rows with times >= to the current time\n",
    "3. Remove all rows with times more than N minutes away from the ___current.time___.\n",
    "4. Take the column average of those rows and replace the current row.\n",
    "5. Remove all the other rows\n",
    "6. Repeat process on the next row."
   ]
  },
  {
   "cell_type": "code",
   "execution_count": 23,
   "metadata": {},
   "outputs": [
    {
     "name": "stdout",
     "output_type": "stream",
     "text": [
      "[1] \"The number of rows before was 185872 and now there are 4619\"\n"
     ]
    }
   ],
   "source": [
    "### N Minute Averaging section\n",
    "avg.length = 10  # minutes to avg\n",
    "\n",
    "before = nrow(ship.data)\n",
    "i = 1\n",
    "nc = ncol(ship.data)\n",
    "\n",
    "while (i < nrow(ship.data)) {  # Loop through each row in ship.data\n",
    "    current.time = ship.data$DT[i]\n",
    "    \n",
    "    ## Determine which rows are within N minutes of the current row and average the values together\n",
    "    in.range = which(ship.data$DT[1:(i+100)] >= current.time & difftime(ship.data$DT[1:(i+100)], current.time, units='mins') < avg.length)\n",
    "    ship.data[i, 2:nc] = apply(ship.data[in.range, 2:nc], 2, mean)\n",
    "    \n",
    "    ## Remove all rows used to make average except for row i\n",
    "    in.range = in.range[in.range != i]\n",
    "    ship.data = ship.data[-in.range,]\n",
    "    i = i + 1\n",
    "}\n",
    "\n",
    "print(paste('The number of rows before was', before, 'and now there are', nrow(ship.data)))"
   ]
  },
  {
   "cell_type": "markdown",
   "metadata": {},
   "source": [
    "#### A good point to save"
   ]
  },
  {
   "cell_type": "code",
   "execution_count": 24,
   "metadata": {},
   "outputs": [
    {
     "data": {
      "text/html": [
       "<table>\n",
       "<thead><tr><th></th><th scope=col>used</th><th scope=col>(Mb)</th><th scope=col>gc trigger</th><th scope=col>(Mb)</th><th scope=col>max used</th><th scope=col>(Mb)</th></tr></thead>\n",
       "<tbody>\n",
       "\t<tr><th scope=row>Ncells</th><td>  657857 </td><td> 35.2    </td><td> 1812793 </td><td> 96.9    </td><td>  9878615</td><td> 527.6   </td></tr>\n",
       "\t<tr><th scope=row>Vcells</th><td>19623983 </td><td>149.8    </td><td>53275371 </td><td>406.5    </td><td>606368204</td><td>4626.3   </td></tr>\n",
       "</tbody>\n",
       "</table>\n"
      ],
      "text/latex": [
       "\\begin{tabular}{r|llllll}\n",
       "  & used & (Mb) & gc trigger & (Mb) & max used & (Mb)\\\\\n",
       "\\hline\n",
       "\tNcells &   657857  &  35.2     &  1812793  &  96.9     &   9878615 &  527.6   \\\\\n",
       "\tVcells & 19623983  & 149.8     & 53275371  & 406.5     & 606368204 & 4626.3   \\\\\n",
       "\\end{tabular}\n"
      ],
      "text/markdown": [
       "\n",
       "| <!--/--> | used | (Mb) | gc trigger | (Mb) | max used | (Mb) | \n",
       "|---|---|\n",
       "| Ncells |   657857  |  35.2     |  1812793  |  96.9     |   9878615 |  527.6    | \n",
       "| Vcells | 19623983  | 149.8     | 53275371  | 406.5     | 606368204 | 4626.3    | \n",
       "\n",
       "\n"
      ],
      "text/plain": [
       "       used     (Mb)  gc trigger (Mb)  max used  (Mb)  \n",
       "Ncells   657857  35.2  1812793    96.9   9878615  527.6\n",
       "Vcells 19623983 149.8 53275371   406.5 606368204 4626.3"
      ]
     },
     "metadata": {},
     "output_type": "display_data"
    }
   ],
   "source": [
    "## Save point after loading ship data and averaging. \n",
    "save(ship.data, file='./RStates/ship.avg.rdata')\n",
    "write.xlsx(ship.data, file='./Input Data/Shipdata - Averaged.xlsx')\n",
    "\n",
    "gc() # Free up memory"
   ]
  },
  {
   "cell_type": "markdown",
   "metadata": {},
   "source": [
    "---\n",
    "# 3. Determine MLD\n",
    "This section reads in the CTD downcast files and identifies the 0.03 density change to calculate the MLD. THe MLD is then linearly interpolated onto the ship's track."
   ]
  },
  {
   "cell_type": "code",
   "execution_count": 4,
   "metadata": {
    "collapsed": true
   },
   "outputs": [],
   "source": [
    "load('./RStates/ship.avg.wind.mld.rdata')"
   ]
  },
  {
   "cell_type": "code",
   "execution_count": 29,
   "metadata": {},
   "outputs": [
    {
     "name": "stdout",
     "output_type": "stream",
     "text": [
      "'data.frame':\t41780 obs. of  34 variables:\n",
      " $ Cruise      : chr  \"CCE-P1706\" \"CCE-P1706\" \"CCE-P1706\" \"CCE-P1706\" ...\n",
      " $ Cycle       : chr  \"Cycle0\" \"Cycle0\" \"Cycle0\" \"Cycle0\" ...\n",
      " $ EventNo     : num  3 3 3 3 3 3 3 3 3 3 ...\n",
      " $ Cast        : num  1 1 1 1 1 1 1 1 1 1 ...\n",
      " $ DateTime_GMT: num  42888 42888 42888 42888 42888 ...\n",
      " $ Direction   : chr  \"down\" \"down\" \"down\" \"down\" ...\n",
      " $ Pressure    : num  2 3 4 5 6 7 8 9 10 11 ...\n",
      " $ Depth       : num  1.99 2.98 3.97 4.96 5.96 ...\n",
      " $ T090C       : num  16.9 16.8 16.9 16.9 16.8 ...\n",
      " $ T190C       : num  16.8 16.8 16.9 16.9 16.8 ...\n",
      " $ Cond1       : num  4.3 4.29 4.3 4.3 4.29 ...\n",
      " $ Cond2       : num  4.29 4.29 4.3 4.3 4.3 ...\n",
      " $ Sal00       : num  33.4 33.4 33.4 33.4 33.4 ...\n",
      " $ Sal11       : num  33.4 33.4 33.4 33.4 33.4 ...\n",
      " $ OxymicroM   : num  195 196 195 195 195 ...\n",
      " $ OxyPerSat   : num  81 81.1 81 80.9 80.8 ...\n",
      " $ SurPAR      : num  8632 8632 8632 8632 8632 ...\n",
      " $ PAR         : num  1292 1053 887 775 688 ...\n",
      " $ Cpar        : num  0.1496 0.122 0.1028 0.0898 0.0797 ...\n",
      " $ Cpar_Flag   : num  1 1 1 1 1 1 1 1 1 1 ...\n",
      " $ Fluor       : num  0.196 0.208 0.207 0.215 0.225 ...\n",
      " $ TransTra    : num  94.2 94.4 94.5 94.7 94.7 ...\n",
      " $ TransAtt    : num  0.24 0.231 0.227 0.217 0.218 ...\n",
      " $ ISUS_V1     : num  0.436 0.518 0.571 0.553 0.427 ...\n",
      " $ ISUS_V2     : num  NA NA NA NA NA NA NA NA NA NA ...\n",
      " $ Rinko_O2    : num  NA NA NA NA NA NA NA NA NA NA ...\n",
      " $ Rinko_Temp  : num  NA NA NA NA NA NA NA NA NA NA ...\n",
      " $ SecS-PriS   : num  -0.0048 -0.0016 -0.0001 -0.0011 -0.0019 -0.0035 -0.012 0.0027 -0.0175 -0.0014 ...\n",
      " $ Sigma_00    : num  24.3 24.4 24.3 24.3 24.4 ...\n",
      " $ Sigma_11    : num  24.3 24.4 24.3 24.3 24.3 ...\n",
      " $ Potemp090C  : num  16.9 16.8 16.9 16.9 16.8 ...\n",
      " $ Potemp190C  : num  16.8 16.8 16.9 16.9 16.8 ...\n",
      " $ T2-T1_90C   : num  -0.0271 -0.0035 -0.0073 0.0007 0.017 -0.0024 0.0332 0.0133 -0.0433 -0.0038 ...\n",
      " $ C2-C1       : num  -0.00314 -0.000517 -0.00071 -0.000061 0.001403 ...\n"
     ]
    }
   ],
   "source": [
    "## Read in the data files and convert the excel time\n",
    "ctd.log = read.xlsx('./Raw Data/CTD/DataZoo - P1706 CTD Cast Log.xlsx', sheet = 'Data')\n",
    "ctd.data = read.xlsx('./Raw Data/CTD/DataZoo - P1706 CTD Downcast Data.xlsx')\n",
    "\n",
    "str(ctd.data)"
   ]
  },
  {
   "cell_type": "code",
   "execution_count": 63,
   "metadata": {
    "collapsed": true
   },
   "outputs": [],
   "source": [
    "## this section calculates the mld for each cast\n",
    "mld = data.frame(Lat = 0, Long = 0, mld = 0)\n",
    "mld.times = c()\n",
    "\n",
    "## Go through each cast and determine the MLD and then save that depth to a table.\n",
    "for (i in unique(ctd.data$Cast)){\n",
    "    \n",
    "    ## Select the relevent density profile\n",
    "    l = which(ctd.data$Cast == i)\n",
    "    rho = ctd.data$Sigma_00[l]\n",
    "    \n",
    "    if (length(rho) > 10) { ## make sure it was a real cast (i.e. more than 10 data points)\n",
    "        \n",
    "        l.log = which(ctd.log$Cast == i)  # Which entry is this cast in the ctd log?\n",
    "        rho.10 = rho[ctd.data$Pressure[l] == 10]  # density at 10 meters depth\n",
    "        #ll = which.min((rho - (rho.10 + 0.03))^2)  # What is the closest density to rho10 + 0.03?\n",
    "        ll = which.min((rho - (rho.10 + 0.125))^2)  # What is the closest density to rho10 + 0.03?\n",
    "        \n",
    "        # Save the Data\n",
    "        mld = rbind(mld, c(ctd.log$Lat[l.log], ctd.log$Long[l.log], ctd.data$Pressure[l[ll]]) )\n",
    "        mld.times = c(mld.times, ctd.data$DateTime_GMT[l[ll]])\n",
    "    }\n",
    "}\n",
    "mld.times = conv_excel_time(mld.times)\n",
    "mld = mld[-1,]"
   ]
  },
  {
   "cell_type": "code",
   "execution_count": 64,
   "metadata": {},
   "outputs": [
    {
     "data": {
      "image/png": "[encoded data removed]",
      "text/plain": [
       "Plot with title \"Histogram of mld$mld\""
      ]
     },
     "metadata": {},
     "output_type": "display_data"
    }
   ],
   "source": [
    "par(mfrow=c(2,2))\n",
    "#mld.old = mld$mld\n",
    "hist(mld.old, breaks = 20)\n",
    "hist(mld$mld, breaks = 20)\n",
    "plot(mld.old - mld$mld)"
   ]
  },
  {
   "cell_type": "code",
   "execution_count": 31,
   "metadata": {
    "collapsed": true
   },
   "outputs": [],
   "source": [
    "## Time to add the MLD variable to the main data set and interpolate\n",
    "ship.data$MLD = 0\n",
    "\n",
    "for (i in 1:nrow(ship.data)) {\n",
    "    dt = abs(as.numeric(difftime(ship.data$DT[i], mld.times, units='hours')))\n",
    "    dt.order = order(dt)\n",
    "    \n",
    "    ## Calculate the linear interpolation of the 2 closest MLD measurements\n",
    "    w.1 = dt.order[1]\n",
    "    if (as.numeric(difftime(ship.data$DT[i], mld.times[w.1], units='hours')) > 0) { # Shiptime is after ctd time\n",
    "        w.2 = min(w.1 + 1, nrow(mld.times))\n",
    "    } else {\n",
    "        w.2 = max(1, w.1 - 1)\n",
    "    }\n",
    "    \n",
    "    dt.1 = dt[w.1]\n",
    "    dt.2 = dt[w.2]\n",
    "    dist.1 = sqrt( (mld$Lat[w.1] - ship.data$LA[i])^2 + (mld$Long[w.1] - ship.data$LO[i])^2 )\n",
    "    dist.2 = sqrt( (mld$Lat[w.2] - ship.data$LA[i])^2 + (mld$Long[w.2] - ship.data$LO[i])^2 )\n",
    "    mld.1 = mld$mld[w.1]\n",
    "    mld.2 = mld$mld[w.2]\n",
    "    \n",
    "    ## MLD is the linear interpolation from the two closest casts based on time (not distance).\n",
    "    ship.data$MLD[i] = mld.1 * (dist.2 / (dist.1 + dist.2)) + mld.2 * (dist.1 / (dist.1 + dist.2))\n",
    "}"
   ]
  },
  {
   "cell_type": "code",
   "execution_count": 32,
   "metadata": {},
   "outputs": [
    {
     "data": {
      "text/html": [
       "<table>\n",
       "<thead><tr><th></th><th scope=col>used</th><th scope=col>(Mb)</th><th scope=col>gc trigger</th><th scope=col>(Mb)</th><th scope=col>max used</th><th scope=col>(Mb)</th></tr></thead>\n",
       "<tbody>\n",
       "\t<tr><th scope=row>Ncells</th><td>  676470 </td><td> 36.2    </td><td> 2215351 </td><td>118.4    </td><td>  9878615</td><td> 527.6   </td></tr>\n",
       "\t<tr><th scope=row>Vcells</th><td>21202205 </td><td>161.8    </td><td>53275371 </td><td>406.5    </td><td>606368204</td><td>4626.3   </td></tr>\n",
       "</tbody>\n",
       "</table>\n"
      ],
      "text/latex": [
       "\\begin{tabular}{r|llllll}\n",
       "  & used & (Mb) & gc trigger & (Mb) & max used & (Mb)\\\\\n",
       "\\hline\n",
       "\tNcells &   676470  &  36.2     &  2215351  & 118.4     &   9878615 &  527.6   \\\\\n",
       "\tVcells & 21202205  & 161.8     & 53275371  & 406.5     & 606368204 & 4626.3   \\\\\n",
       "\\end{tabular}\n"
      ],
      "text/markdown": [
       "\n",
       "| <!--/--> | used | (Mb) | gc trigger | (Mb) | max used | (Mb) | \n",
       "|---|---|\n",
       "| Ncells |   676470  |  36.2     |  2215351  | 118.4     |   9878615 |  527.6    | \n",
       "| Vcells | 21202205  | 161.8     | 53275371  | 406.5     | 606368204 | 4626.3    | \n",
       "\n",
       "\n"
      ],
      "text/plain": [
       "       used     (Mb)  gc trigger (Mb)  max used  (Mb)  \n",
       "Ncells   676470  36.2  2215351   118.4   9878615  527.6\n",
       "Vcells 21202205 161.8 53275371   406.5 606368204 4626.3"
      ]
     },
     "metadata": {},
     "output_type": "display_data"
    }
   ],
   "source": [
    "save(ship.data, file='./RStates/ship.avg.wind.mld.rdata')\n",
    "write.xlsx(ship.data, file='./Input Data/Shipdata - MLD.xlsx')\n",
    "gc()"
   ]
  },
  {
   "cell_type": "markdown",
   "metadata": {},
   "source": [
    "---\n",
    "# 4. Wind Integration\n",
    "With the ship data loaded we must now interpolate the grid of the NCEP data ont othe ship's track. Here we simply do the average wind speed value for the 4 closest NCEP grid points (weighted such that the closer the grid point is the more important it is) for each track position. We then linearly interpolate this speed across the two closest times.\n",
    "\n",
    "The 5 day intergration is done as a simple average across the 5 days prior to the current ship time using the same 4 grid point average.\n",
    "\n",
    "Interpolations to consider\n",
    "* Simple average (n points considered; quick to compute, ignorant of space or time)\n",
    "* Based on distance to point (can be 2, 3, 4, or n point average)\n",
    "* Bilinear (takes into account the spatial structure, likely to be identical to distance with n=4)\n",
    "* Non-standard distance metric (weigths based on other than euclidean distance)\n",
    "* Lienar interpolation (special case on distance with n=2, seems like the ideal for temporal interpolation)"
   ]
  },
  {
   "cell_type": "code",
   "execution_count": null,
   "metadata": {
    "collapsed": true
   },
   "outputs": [],
   "source": [
    "## Load the data if already present\n",
    "load('./RStates/ship.avg.wind.rdata')"
   ]
  },
  {
   "cell_type": "code",
   "execution_count": 5,
   "metadata": {
    "collapsed": true
   },
   "outputs": [],
   "source": [
    "schmidt.number = function(SST) {\n",
    "    \n",
    "    ## Parameters of fit from Wannikhof 1992.\n",
    "    a = 1953.4\n",
    "    b = 128.00\n",
    "    c = 3.9918\n",
    "    d = 0.050091\n",
    "    \n",
    "    ## Calculate teh Schmidt Number\n",
    "    a - b*SST + c*(SST^2) - d*(SST^3)\n",
    "}\n",
    "\n",
    "k.calc = function(u, SST) {\n",
    "   # 0.31 * u^2 / sqrt(schmidt.number(SST)/660)\n",
    "    0.074 * u^2 / sqrt(schmidt.number(SST)/660)  # m/d\n",
    "}\n",
    "\n",
    "#### Ventilation\n",
    "##\n",
    "## This function calculates the temporal length scale of the NCP measurement. Essentially it \n",
    "## calculates the ventilation based on water column and wind speed over a sequence of measurements (equally spaced).\n",
    "##\n",
    "##\n",
    "ventilation = function(ws, mld, SST, dt) {\n",
    "    weights = 1\n",
    "    k.result = k.calc(ws, SST)\n",
    "    \n",
    "    if (length(ws) == 1) {\n",
    "        return(k.result / mld)\n",
    "    }\n",
    "    \n",
    "    #### Loop through and sequentially calculate the transfer velocities and weighting of ventilation\n",
    "    ##\n",
    "    for (i in 2:length(ws)) {\n",
    "        ## Calculate the weighting per Reuer et al.\n",
    "        f.temp = min(k.result[i-1] * dt[i] / mld, 1)\n",
    "        weights[i] = weights[i-1] * (1 - f.temp)\n",
    "    }\n",
    "    \n",
    "    #### Final Calculations\n",
    "    k.final = sum(weights * k.result) / (1-weights[length(weights)])\n",
    "    k.final / sum(weights) ## Normalize\n",
    "}"
   ]
  },
  {
   "cell_type": "code",
   "execution_count": 6,
   "metadata": {
    "collapsed": true
   },
   "outputs": [],
   "source": [
    "## How many points to interpolate from?\n",
    "N = 4\n",
    "Int.t = 6 # days\n",
    "\n",
    "## First start by creating some new variables\n",
    "ship.data$NCEP = 0\n",
    "#ship.data$NCEP.5 = 0\n",
    "ship.data$TW.5 = 0\n",
    "ship.data$k = 0\n",
    "\n",
    "\n",
    "## Loop through and populate the variables one row at a time\n",
    "for (i in 1:nrow(ship.data)) {\n",
    "    \n",
    "    #######################\n",
    "    ##### Time section ####\n",
    "    #######################\n",
    "    \n",
    "    ## Calculate the difference in time between the ship data and the NCEP times (time.actual)\n",
    "    dt = abs(as.numeric(difftime(ship.data$DT[i], time.actual, units = 'days')))\n",
    "    \n",
    "    time.order = order(dt) # smallest 2 values are the two closest times\n",
    "    time.1 = time.order[1]\n",
    "    time.2 = time.order[2]\n",
    "    \n",
    "    ## Find the N previous days to average\n",
    "    # Which days are before time i and less than N days away?\n",
    "    day.5 = which(time.actual < ship.data$DT[i] & as.numeric(difftime(ship.data$DT[i], time.actual, units = 'days')) < Int.t)\n",
    "    \n",
    "    ## Calculate the ship N day average\n",
    "    ship.5 = which(ship.data$DT < ship.data$DT[i] & as.numeric(difftime(ship.data$DT[i], ship.data$DT, units = 'days')) < Int.t)\n",
    "    ship.data$TW.5[i] = mean(ship.data$TW[ship.5])\n",
    "    \n",
    "    #########################\n",
    "    ##### Space section #####\n",
    "    ##########################\n",
    "    \n",
    "    ## Calculate the separation betweeen the ship and NCEP grid points\n",
    "    dy = (ship.data$LA[i] - wind.lat)^2\n",
    "    dx = (ship.data$LO[i] - wind.lon)^2\n",
    "    \n",
    "    dd = dx + dy\n",
    "    d.order = order(dd)\n",
    "    \n",
    "    ####\n",
    "    ## The N closest grid points in the NCEP data will be the 1st ... N smallest dx \n",
    "    # and dy indices\n",
    "    #\n",
    "    # From the distance vector we will generate the weights such that sum(weights) = 1 \n",
    "    # and if distance1 = 0 than weight = 1.\n",
    "    ###\n",
    "    \n",
    "    ll = d.order[c(1:N)] # which grid cells are closest?\n",
    "    dd = dd[ll] ## Calculate the distance vector\n",
    "    \n",
    "    ## Normalize the distance matrix if using n > 1 interpolation and transform to weights\n",
    "    dd = 1 - dd / sum(dd)\n",
    "    dd = dd / sum(dd)\n",
    "    \n",
    "    if (length(dd) == 1) { ## If N = 1 then the normalization above wont work.\n",
    "        dd = 1\n",
    "    }\n",
    "    \n",
    "    ## Calculate the wind at position for the 2 closest times\n",
    "    # (NB. assumes t1 < t.ship < t2 or t2 < t.ship < t1)\n",
    "    #\n",
    "    wind = c(sum(wind.ncep[ll, time.1] * dd), sum(wind.ncep[ll, time.2] * dd))\n",
    "     \n",
    "    ## Linear interpolation with time (sum of weights = 1 and weight = 1 when dt is 0)\n",
    "    ship.data$NCEP[i] = wind[1] * dt[time.2] / sum(dt[c(time.1, time.2)]) + wind[2] * dt[time.1] / sum(dt[c(time.1, time.2)])\n",
    "    \n",
    "    ## 5 days previous are calculated as wind1 and wind2 above but summed for each day and averaged\n",
    "    wind.temp = 0\n",
    "    \n",
    "    for (previous.day in 1:length(day.5)) {\n",
    "        wind.temp[previous.day] = sum(wind.ncep[ll, day.5[previous.day]] * dd)\n",
    "    }\n",
    "    \n",
    "    ## Determine the time seperation between each wind measurement\n",
    "    delta.t = abs(c(0, as.numeric(difftime(ship.data$DT[i], time.actual[day.5], unit='days'))))\n",
    "    \n",
    "    ## run the ventilation algorithm on the data.\n",
    "    ship.data$k[i] = ventilation(wind.temp, ship.data$MLD[i], ship.data$TT[i], delta.t)\n",
    "    \n",
    "}\n"
   ]
  },
  {
   "cell_type": "code",
   "execution_count": 7,
   "metadata": {},
   "outputs": [
    {
     "data": {
      "text/plain": [
       "   Min. 1st Qu.  Median    Mean 3rd Qu.    Max.    NA's \n",
       " 0.2951  1.8975  4.2368  4.7381  6.9287 13.5112      11 "
      ]
     },
     "metadata": {},
     "output_type": "display_data"
    }
   ],
   "source": [
    "#hist(ship.data$k, breaks = 2000)\n",
    "summary(ship.data$k)\n"
   ]
  },
  {
   "cell_type": "code",
   "execution_count": 8,
   "metadata": {
    "collapsed": true
   },
   "outputs": [],
   "source": [
    "save(ship.data, file='./RStates/ship.avg.wind.rdata')\n",
    "write.xlsx(ship.data, file='./Input Data/Shipdata - Wind.xlsx')"
   ]
  },
  {
   "cell_type": "markdown",
   "metadata": {},
   "source": [
    "---\n",
    "# 5. Review and check data\n",
    "Let's plot up some of the data now:"
   ]
  },
  {
   "cell_type": "code",
   "execution_count": 9,
   "metadata": {
    "scrolled": false
   },
   "outputs": [
    {
     "data": {
      "image/png": "[encoded data removed]",
      "text/plain": [
       "Plot with title \"NCEP Data\""
      ]
     },
     "metadata": {},
     "output_type": "display_data"
    },
    {
     "data": {
      "image/png": "[encoded data removed]",
      "text/plain": [
       "Plot with title \"Mixed Layer Depth\""
      ]
     },
     "metadata": {},
     "output_type": "display_data"
    },
    {
     "data": {
      "text/html": [
       "<dl class=dl-horizontal>\n",
       "\t<dt>(Intercept)</dt>\n",
       "\t\t<dd>1.52853934067844</dd>\n",
       "\t<dt>TW</dt>\n",
       "\t\t<dd>0.782510134495228</dd>\n",
       "</dl>\n"
      ],
      "text/latex": [
       "\\begin{description*}\n",
       "\\item[(Intercept)] 1.52853934067844\n",
       "\\item[TW] 0.782510134495228\n",
       "\\end{description*}\n"
      ],
      "text/markdown": [
       "(Intercept)\n",
       ":   1.52853934067844TW\n",
       ":   0.782510134495228\n",
       "\n"
      ],
      "text/plain": [
       "(Intercept)          TW \n",
       "  1.5285393   0.7825101 "
      ]
     },
     "metadata": {},
     "output_type": "display_data"
    },
    {
     "data": {
      "image/png": "[encoded data removed]",
      "text/plain": [
       "plot without title"
      ]
     },
     "metadata": {},
     "output_type": "display_data"
    }
   ],
   "source": [
    "#pdf('./Output/Latest Wind.pdf')\n",
    "par(mfrow=c(2,1))\n",
    "plot(ship.data$DT, ship.data$TW, ylim=c(0,20), main='Ship-based Wind', xlab='', ylab='Wind Speed (m/s)', type='l')\n",
    "lines(ship.data$DT, ship.data$TW.5, col='red', lwd=2)\n",
    "\n",
    "plot(ship.data$DT, ship.data$NCEP, ylim=c(0,20), main='NCEP Data', xlab='' , ylab='Wind Speed (m/s)', type='l')\n",
    "lines(ship.data$DT, ship.data$NCEP.5, col='red', lwd=2)\n",
    "\n",
    "\n",
    "plot(ship.data$DT, ship.data$NCEP.5, pch=16, cex=0.2, ylim=c(0,20), main='NCEP 5-Day Average', xlab='' , ylab='Wind Speed (m/s)')\n",
    "points(ship.data$DT, ship.data$TW.5, pch=16, cex=0.2, col='red')\n",
    "\n",
    "plot(ship.data$DT, ship.data$MLD, type='l', ylab='Depth (m)', main='Mixed Layer Depth')\n",
    "\n",
    "\n",
    "############################\n",
    "### Plot of region       ###\n",
    "############################\n",
    "## Plot showing the ship's track along with the grid points in the NCEP/NCAR data set\n",
    "\n",
    "plot(ship.data$LO, ship.data$LA, type='l', ylim=c(32,38), xlab='Longitude', ylab='Latitude')\n",
    "\n",
    "## Add grid points\n",
    "for (i in 1:length(wind.lat)) {\n",
    "    points(wind.lon[i], wind.lat[i], col='red', pch=16)\n",
    "}\n",
    "\n",
    "\n",
    "############################\n",
    "### Plot with regression ###\n",
    "############################\n",
    "plot(ship.data$TW, ship.data$NCEP, col='#000020', pch=16, xlab='Ship Avg Wind', ylab='NCEP Avg Wind')\n",
    "model = lm(NCEP ~ TW, data = ship.data)\n",
    "\n",
    "lines(c(1:100), predict(model, newdata = data.frame(TW = c(1:100))), col='red')\n",
    "coefficients(model)\n",
    "#dev.off()"
   ]
  },
  {
   "cell_type": "markdown",
   "metadata": {},
   "source": [
    "---\n",
    "\n",
    "# O2 Argon Data (EIMS)"
   ]
  },
  {
   "cell_type": "code",
   "execution_count": 10,
   "metadata": {
    "collapsed": true
   },
   "outputs": [],
   "source": [
    "load('./RStates/EIMS.v1.rdata')\n",
    "load('./RStates/EIMS.v2.rdata')"
   ]
  },
  {
   "cell_type": "code",
   "execution_count": 11,
   "metadata": {},
   "outputs": [
    {
     "data": {
      "text/html": [
       "<ol class=list-inline>\n",
       "\t<li>'time'</li>\n",
       "\t<li>'X18.03'</li>\n",
       "\t<li>'X28.03'</li>\n",
       "\t<li>'X32'</li>\n",
       "\t<li>'X40'</li>\n",
       "\t<li>'X44.06'</li>\n",
       "\t<li>'X45.06'</li>\n",
       "\t<li>'TP'</li>\n",
       "\t<li>'N2.Ar'</li>\n",
       "\t<li>'O2.Ar'</li>\n",
       "\t<li>'N2.O2'</li>\n",
       "\t<li>'O2..uM.'</li>\n",
       "\t<li>'O2.Sat....'</li>\n",
       "\t<li>'Temp..C.'</li>\n",
       "\t<li>'Calphase..C.'</li>\n",
       "\t<li>'TCphase..C.'</li>\n",
       "\t<li>'C1..C.'</li>\n",
       "\t<li>'C2..C.'</li>\n",
       "\t<li>'inlet'</li>\n",
       "\t<li>'sock'</li>\n",
       "\t<li>'outlet'</li>\n",
       "\t<li>'MS'</li>\n",
       "\t<li>'flow'</li>\n",
       "</ol>\n"
      ],
      "text/latex": [
       "\\begin{enumerate*}\n",
       "\\item 'time'\n",
       "\\item 'X18.03'\n",
       "\\item 'X28.03'\n",
       "\\item 'X32'\n",
       "\\item 'X40'\n",
       "\\item 'X44.06'\n",
       "\\item 'X45.06'\n",
       "\\item 'TP'\n",
       "\\item 'N2.Ar'\n",
       "\\item 'O2.Ar'\n",
       "\\item 'N2.O2'\n",
       "\\item 'O2..uM.'\n",
       "\\item 'O2.Sat....'\n",
       "\\item 'Temp..C.'\n",
       "\\item 'Calphase..C.'\n",
       "\\item 'TCphase..C.'\n",
       "\\item 'C1..C.'\n",
       "\\item 'C2..C.'\n",
       "\\item 'inlet'\n",
       "\\item 'sock'\n",
       "\\item 'outlet'\n",
       "\\item 'MS'\n",
       "\\item 'flow'\n",
       "\\end{enumerate*}\n"
      ],
      "text/markdown": [
       "1. 'time'\n",
       "2. 'X18.03'\n",
       "3. 'X28.03'\n",
       "4. 'X32'\n",
       "5. 'X40'\n",
       "6. 'X44.06'\n",
       "7. 'X45.06'\n",
       "8. 'TP'\n",
       "9. 'N2.Ar'\n",
       "10. 'O2.Ar'\n",
       "11. 'N2.O2'\n",
       "12. 'O2..uM.'\n",
       "13. 'O2.Sat....'\n",
       "14. 'Temp..C.'\n",
       "15. 'Calphase..C.'\n",
       "16. 'TCphase..C.'\n",
       "17. 'C1..C.'\n",
       "18. 'C2..C.'\n",
       "19. 'inlet'\n",
       "20. 'sock'\n",
       "21. 'outlet'\n",
       "22. 'MS'\n",
       "23. 'flow'\n",
       "\n",
       "\n"
      ],
      "text/plain": [
       " [1] \"time\"         \"X18.03\"       \"X28.03\"       \"X32\"          \"X40\"         \n",
       " [6] \"X44.06\"       \"X45.06\"       \"TP\"           \"N2.Ar\"        \"O2.Ar\"       \n",
       "[11] \"N2.O2\"        \"O2..uM.\"      \"O2.Sat....\"   \"Temp..C.\"     \"Calphase..C.\"\n",
       "[16] \"TCphase..C.\"  \"C1..C.\"       \"C2..C.\"       \"inlet\"        \"sock\"        \n",
       "[21] \"outlet\"       \"MS\"           \"flow\"        "
      ]
     },
     "metadata": {},
     "output_type": "display_data"
    }
   ],
   "source": [
    "names(eims.v1)"
   ]
  },
  {
   "cell_type": "code",
   "execution_count": 12,
   "metadata": {
    "collapsed": true
   },
   "outputs": [],
   "source": [
    "#avg.length = 10\n",
    "\n",
    "ship.data$O2.Ar = 0\n",
    "ship.data$O2.Sat = 0\n",
    "ship.data$Inlet.T = 0\n",
    "\n",
    "for (i in 1:nrow(ship.data)) {\n",
    "    dt = abs(as.numeric(difftime(ship.data$DT[i], eims.v1$time, unit='mins')))\n",
    "    dt.cal = abs(as.numeric(difftime(ship.data$DT[i], eims.v2$time, unit='mins')))\n",
    "    \n",
    "    l = which.min(dt)\n",
    "    l.cal = which.min(dt.cal)\n",
    "    \n",
    "    ship.data$O2.Ar[i] = 1 - eims.v1$O2.Ar[l] / eims.v2$O2.Ar[l.cal]\n",
    "    ship.data$O2.Sat[i] = eims.v1$O2.Sat....[l]\n",
    "    ship.data$Inlet.T[i] = eims.v1$inlet[l]\n",
    "}\n"
   ]
  },
  {
   "cell_type": "code",
   "execution_count": 13,
   "metadata": {
    "collapsed": true
   },
   "outputs": [],
   "source": [
    "O2sol = function(S, T) {\n",
    "# convert T to scaled temperature\n",
    "temp_S = log((298.15 - T) / (273.15 + T))\n",
    "\n",
    "# constants from Table 1 of Garcia & Gordon for the fit to Benson and Krause (1984)\n",
    "A0_o2 = 5.80871\n",
    "A1_o2 = 3.20291\n",
    "A2_o2 = 4.17887\n",
    "A3_o2 = 5.10006\n",
    "A4_o2 = -9.86643e-2\n",
    "A5_o2 = 3.80369\n",
    "B0_o2 = -7.01577e-3\n",
    "B1_o2 = -7.70028e-3\n",
    "B2_o2 = -1.13864e-2\n",
    "B3_o2 = -9.51519e-3\n",
    "C0_o2 = -2.75915e-7\n",
    "\n",
    "# Corrected Eqn (8) of Garcia and Gordon 1992 (umol / kg)\n",
    "exp(A0_o2 + A1_o2*temp_S + A2_o2*temp_S^2 + A3_o2*temp_S^3 + \n",
    "              A4_o2*temp_S^4 + A5_o2*temp_S^5 + S*(B0_o2 + B1_o2*temp_S + \n",
    "                                                   B2_o2*temp_S^2 + B3_o2*temp_S^3) + C0_o2*S^2)\n",
    "}"
   ]
  },
  {
   "cell_type": "code",
   "execution_count": 14,
   "metadata": {
    "collapsed": true
   },
   "outputs": [],
   "source": [
    "## calculating NCP from O2/Ar\n",
    "# NCP in mmol m-2 d-1; seawater density in kg m-3, O2sol in microL kg-1\n",
    "#ncp = (ship.data$O2.Ar/100) * (O2sol(ship.data$SA, ship.data$TT) / 1000) * ship.data$sw_dens0(salt, temp) * wpv;\n",
    "ncp = (-ship.data$O2.Ar) * (O2sol(ship.data$SA, ship.data$TT) / 1000) * 1030 * ship.data$k"
   ]
  },
  {
   "cell_type": "code",
   "execution_count": 103,
   "metadata": {
    "scrolled": false
   },
   "outputs": [
    {
     "data": {
      "text/plain": [
       "   Min. 1st Qu.  Median    Mean 3rd Qu.    Max.    NA's \n",
       " 0.6708  4.0047  7.6632  7.1581 10.3273 13.2232      11 "
      ]
     },
     "metadata": {},
     "output_type": "display_data"
    },
    {
     "data": {
      "image/png": "[encoded data removed]",
      "text/plain": [
       "plot without title"
      ]
     },
     "metadata": {},
     "output_type": "display_data"
    },
    {
     "data": {
      "image/png": "[encoded data removed]",
      "text/plain": [
       "plot without title"
      ]
     },
     "metadata": {},
     "output_type": "display_data"
    }
   ],
   "source": [
    "#pdf('Output/NCP Diagnostics.pdf')\n",
    "\n",
    "par(mfrow=c(2,1))\n",
    "\n",
    "summary(ship.data$NCEP)\n",
    "plot(ship.data$DT, O2sol(ship.data$SA, ship.data$TT) / 1000, type='l', ylab='O2 Solubility', ylim=c(0.23, 0.30))\n",
    "lines(ship.data$DT, ship.data$TT/300 + 0.235, col='red', lwd=1)\n",
    "legend(ship.data$DT[1], 0.30, c('Temp', 'Sol.'), col=c('red', 'black'), cex=0.6, lwd=2)\n",
    "\n",
    "plot(ship.data$DT,  (-ship.data$O2.Ar), type='l', ylab='Biological O2 Ar Signal')\n",
    "\n",
    "plot(ship.data$DT, ship.data$k, type='l', ylab='Ventilation Rate')\n",
    "lines(ship.data$DT, ship.data$NCEP.5, col='red', lwd=2)\n",
    "legend(ship.data$DT[1], 13, c('K', 'Wind'), col=c('black', 'red'), cex=0.6, lwd=2)\n",
    "\n",
    "plot(ship.data$DT, ma(ncp, 15), type='l', ylab='Smoothed NCP')\n",
    "\n",
    "#dev.off()"
   ]
  },
  {
   "cell_type": "code",
   "execution_count": 104,
   "metadata": {},
   "outputs": [
    {
     "data": {
      "image/png": "[encoded data removed]",
      "text/plain": [
       "Plot with title \"Preliminary NCP Values\""
      ]
     },
     "metadata": {},
     "output_type": "display_data"
    }
   ],
   "source": [
    "#pdf('Output/Spatial NCP.pdf')\n",
    "rbPal <- colorRampPalette(c('blue', 'red'))\n",
    "\n",
    "#This adds a column of color values\n",
    "# based on the y values\n",
    "ncp2 = ncp\n",
    "ncp2[ncp < -400] = -400\n",
    "ncp2[ncp > 150] = 150\n",
    "\n",
    "Col <- rbPal(100)[as.numeric(cut(ncp2, breaks = 100))]\n",
    "\n",
    "plot(ship.data$LO, ship.data$LA, pch = 20, col = Col, main='Preliminary NCP Values', ylab='Latitude', xlab='Longitude')\n",
    "\n",
    "## Legend\n",
    "points(x = rep(-118, 101), y = seq(34, 36, 1/50), col=rbPal(100), pch=16)\n",
    "text(-117.6, 36, '+150')\n",
    "text(-117.6, 34, '-400')\n",
    "\n",
    "#dev.off()"
   ]
  },
  {
   "cell_type": "code",
   "execution_count": 87,
   "metadata": {},
   "outputs": [],
   "source": [
    "ma <- function(x, n=5){filter(x,rep(1/n,n), sides=2)}"
   ]
  }
 ],
 "metadata": {
  "kernelspec": {
   "display_name": "R",
   "language": "R",
   "name": "ir"
  },
  "language_info": {
   "codemirror_mode": "r",
   "file_extension": ".r",
   "mimetype": "text/x-r-source",
   "name": "R",
   "pygments_lexer": "r",
   "version": "3.4.1"
  }
 },
 "nbformat": 4,
 "nbformat_minor": 2
}
