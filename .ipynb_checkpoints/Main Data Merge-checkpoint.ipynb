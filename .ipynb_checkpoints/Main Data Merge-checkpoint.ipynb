{
 "cells": [
  {
   "cell_type": "markdown",
   "metadata": {},
   "source": [
    "# Structure of this file\n",
    "---\n",
    "\n",
    "## 1. Read Wind Data _(external)_\n",
    "    i. Determine coordinates (lat, lon, time)\n",
    "    ii. Trim to study region\n",
    "\t\t\t\n",
    "\t\t\t\n",
    "## 2. Read Ship Data _(external)_\n",
    "\ti. Average over N minutes\n",
    "\t\t\t\n",
    "\t\t\t\n",
    "## 3. Map wind data to ship\n",
    "\ti. Interpolate\n",
    "\tii. Calculate N-day average\n",
    "\t\t\t\n",
    "\t\t\t\n",
    "## 4. Read CTD Data _(external)_\n",
    "\ti. Define and Calculate MLD\n",
    "\tii. Map MLD to ship data\n",
    "\t\t\t\n",
    "\t\t\t\n",
    "## 5. Review Data\n",
    "    i. Plot Wind\n",
    "    ii. Plot MLD and wind grid\n",
    "    iii. Plot ship vs NCEP wind\n",
    "\n",
    "\n",
    "## 6. EIMS Data _(internal & external)_\n",
    "    i. 6a: Interpolate EIMS Data\n",
    "    ii. 6b: Check EIMS Interpolation\n",
    "\n",
    "\n",
    "## 7. Cycle Information\n",
    "    i. Read CTD Data\n",
    "    ii. Add cycles to ship.data\n",
    "    iii. Interpolate drifter location\n",
    "\n",
    "---\n",
    "\n",
    "### Introduction\n",
    "__First__ we need to load up the relevent libraries and define any helper functions."
   ]
  },
  {
   "cell_type": "code",
   "execution_count": 46,
   "metadata": {
    "scrolled": false
   },
   "outputs": [
    {
     "name": "stdout",
     "output_type": "stream",
     "text": [
      "Packages Loaded:\n",
      "ncdf4 R.matlab openxlsx RColorBrewer compiler lattice geosphere readxl data.table rworldmap rworldxtra\n"
     ]
    }
   ],
   "source": [
    "source('source.r')"
   ]
  },
  {
   "cell_type": "markdown",
   "metadata": {},
   "source": [
    "# 1. Load the Wind Data"
   ]
  },
  {
   "cell_type": "code",
   "execution_count": 47,
   "metadata": {},
   "outputs": [],
   "source": [
    "load('./RStates/wind.rdata')\n",
    "\n",
    "## Correction for offset\n",
    "wind$ncep = (wind$ncep - 1.53) / 0.783"
   ]
  },
  {
   "cell_type": "markdown",
   "metadata": {},
   "source": [
    "---\n",
    "# 2. Load and prepare ship data\n",
    "This section deals with the loading of the met-merge data. Once loaded and the structure is verified, a 2 minute average is taken for all parameters. Once completed, the next section will add the NCEP wind data and MLD to the data frame.The file structure which this script is looking for is as follows where Vars are in any order but with the proper abbreviations.\n",
    "\n",
    "``Datetime  Var1   Var2  Var3 ...``\n",
    "\n",
    "Variable Descriptions and Abbreviations\n",
    "* __DT -- Date Time__\n",
    "* __TW -- True Wind__\n",
    "* TI  -- Wind Dir\n",
    "* __LA -- Latitude__\n",
    "* __LO -- Longitude__\n",
    "* __AT -- Atm Temp__\n",
    "* __BP -- Pressure__\n",
    "* PA -- PAR\n",
    "* __TT (TT2*)  -- Water Temp__\n",
    "* __SA -- Salinity__\n",
    "* __OS -- Oxygen__\n",
    "* FL -- Fluorometer\n",
    "* BT -- Bottom Depth\n",
    "\n",
    "___NB___: Bold identies required columns while the others are used for additional analyses."
   ]
  },
  {
   "cell_type": "code",
   "execution_count": 48,
   "metadata": {},
   "outputs": [],
   "source": [
    "load('./RStates/ship.1min.avg.rdata')"
   ]
  },
  {
   "cell_type": "markdown",
   "metadata": {},
   "source": [
    "---\n",
    "# 3. Determine MLD\n",
    "This section reads in the CTD downcast files and identifies the 0.03 density change to calculate the MLD. THe MLD is then linearly interpolated onto the ship's track."
   ]
  },
  {
   "cell_type": "code",
   "execution_count": 49,
   "metadata": {},
   "outputs": [],
   "source": [
    "## Time to add the MLD variable to the main data set and interpolate\n",
    "\n",
    "interp.mld = function(data, k.val = '0.1') {\n",
    "    \n",
    "    load(paste0('./RStates/mld-', k.val, '.rdata'))\n",
    "    \n",
    "    data$MLD = 0\n",
    "\n",
    "    for (i in 1:nrow(data)) {\n",
    "        dt = abs(as.numeric(difftime(data$DT[i], mld$time, units='hours')))\n",
    "        dt.order = order(dt)\n",
    "\n",
    "        ## Calculate the linear interpolation of the 2 closest MLD measurements\n",
    "        w.1 = dt.order[1]\n",
    "        if (as.numeric(difftime(data$DT[i], mld$time[w.1], units='hours')) > 0) { # Shiptime is after ctd time\n",
    "            w.2 = min(w.1 + 1, nrow(mld$time))\n",
    "        } else {\n",
    "            w.2 = max(1, w.1 - 1)\n",
    "        }\n",
    "\n",
    "        dt.1 = dt[w.1]\n",
    "        dt.2 = dt[w.2]\n",
    "        dist.1 = sqrt( (mld$Lat[w.1] - data$LA[i])^2 + (mld$Long[w.1] - data$LO[i])^2 )\n",
    "        dist.2 = sqrt( (mld$Lat[w.2] - data$LA[i])^2 + (mld$Long[w.2] - data$LO[i])^2 )\n",
    "        mld.1 = mld$mld[w.1]\n",
    "        mld.2 = mld$mld[w.2]\n",
    "\n",
    "        ## MLD is the linear interpolation from the two closest casts based on time (not distance).\n",
    "        data$MLD[i] = mld.1 * (dist.2 / (dist.1 + dist.2)) + mld.2 * (dist.1 / (dist.1 + dist.2))\n",
    "    }\n",
    "    data\n",
    "}\n",
    "\n",
    "ship.data = interp.mld(ship.data)"
   ]
  },
  {
   "cell_type": "markdown",
   "metadata": {},
   "source": [
    "---\n",
    "# 4. Wind Integration\n",
    "With the ship data loaded we must now interpolate the grid of the NCEP data ont othe ship's track. Here we simply do the average wind speed value for the 4 closest NCEP grid points (weighted such that the closer the grid point is the more important it is) for each track position. We then linearly interpolate this speed across the two closest times.\n",
    "\n",
    "The 5 day intergration is done as a simple average across the 5 days prior to the current ship time using the same 4 grid point average.\n",
    "\n",
    "Interpolations to consider\n",
    "* Simple average (n points considered; quick to compute, ignorant of space or time)\n",
    "* Based on distance to point (can be 2, 3, 4, or n point average)\n",
    "* Bilinear (takes into account the spatial structure, likely to be identical to distance with n=4)\n",
    "* Non-standard distance metric (weigths based on other than euclidean distance)\n",
    "* Lienar interpolation (special case on distance with n=2, seems like the ideal for temporal interpolation)"
   ]
  },
  {
   "cell_type": "code",
   "execution_count": 50,
   "metadata": {},
   "outputs": [],
   "source": [
    "#### Calcualtes the schmidt Number\n",
    "schmidt.number = function(SST) {\n",
    "    \n",
    "    ## Parameters of fit from Wannikhof 1992.\n",
    "    a = 1953.4\n",
    "    b = 128.00\n",
    "    c = 3.9918\n",
    "    d = 0.050091\n",
    "    \n",
    "    ## Calculate teh Schmidt Number\n",
    "    a - b*SST + c*(SST^2) - d*(SST^3)\n",
    "}\n",
    "\n",
    "#### Calcualtes k\n",
    "k.calc = function(u, SST) {\n",
    "    0.27 * u^2 / sqrt(schmidt.number(SST)/660) * (24/100)  ## Sweeny et al\n",
    "    #0.074 * u^2 / sqrt(schmidt.number(SST)/660)  # m/d\n",
    "}\n",
    "\n",
    "#### Ventilation\n",
    "##\n",
    "## This function calculates the temporal length scale of the NCP measurement. Essentially it \n",
    "## calculates the ventilation based on water column and wind speed over a sequence of measurements (equally spaced).\n",
    "##\n",
    "ventilation = function(ws, mld, SST, dt) {\n",
    "    weights = 1\n",
    "    k.result = k.calc(ws, SST)\n",
    "    \n",
    "    if (length(ws) == 1) {\n",
    "        return(k.result / mld)\n",
    "    }\n",
    "    \n",
    "    #### Loop through and sequentially calculate the transfer velocities and weighting of ventilation\n",
    "    ##\n",
    "    for (i in 2:length(ws)) {\n",
    "        ## Calculate the weighting per Reuer et al.\n",
    "        f = max(0, min(k.result[i-1] * dt[i] / mld, 1))\n",
    "        weights[i] = weights[i-1] * (1 - f)\n",
    "    }\n",
    "    \n",
    "    #### Final Calculations\n",
    "    k.final = sum(weights * k.result) / (1-weights[length(weights)])\n",
    "    k.final / sum(weights) ## Normalize\n",
    "}"
   ]
  },
  {
   "cell_type": "code",
   "execution_count": 51,
   "metadata": {
    "scrolled": true
   },
   "outputs": [],
   "source": [
    "ventilation.check = function() {\n",
    "    ###########################\n",
    "    ## Schmidt Number Review ##\n",
    "    ###########################\n",
    "    #par(mfrow=c(2,2))\n",
    "    sst = seq(5, 25, 0.1)\n",
    "    plot(sst, schmidt.number(sst), type='l', lwd=3)\n",
    "\n",
    "    ###################\n",
    "    ## k.calc review ##\n",
    "    ###################\n",
    "    library(lattice)\n",
    "    u = seq(0, 20, 0.1)\n",
    "\n",
    "    temp = expand.grid(u=u, sst=sst)\n",
    "    temp$k = k.calc(temp$u, temp$sst)\n",
    "    levelplot(k ~ u * sst, data=temp, )\n",
    "\n",
    "    #################\n",
    "    ## Ventilation ##\n",
    "    #################\n",
    "    ws = rep(7, 400)\n",
    "    dt = rep(0.425, 400)\n",
    "    ans = NULL\n",
    "    for (i in 1:400) {\n",
    "        ans = c(ans, ventilation(ws[1:i], mld = 20, SST = 15, dt[1:i]))\n",
    "    }\n",
    "\n",
    "    plot(ans, ylab='k value', xlab='Integration time', ylim=c(0,20), type='l')\n",
    "    lines(x=c(0,10000), y=rep(k.calc(ws[1], sst[1]), 2))\n",
    "}"
   ]
  },
  {
   "cell_type": "code",
   "execution_count": 52,
   "metadata": {},
   "outputs": [],
   "source": [
    "add.wind = function(data, wind, N = 4, Int.t = 90) {\n",
    "    ## First start by creating some new variables\n",
    "    data$NCEP = 0\n",
    "    data$k = 0\n",
    "    \n",
    "    ## Loop through and populate the variables one row at a time\n",
    "    for (i in 1:nrow(data)) {\n",
    "\n",
    "        #######################\n",
    "        ##### Time section ####\n",
    "        #######################\n",
    "\n",
    "        ## Calculate the difference in time between the ship data and the NCEP times (time.actual)\n",
    "        dt = abs(as.numeric(difftime(data$DT[i], wind$time, units = 'days')))\n",
    "        time.order = order(dt) # smallest 2 values are the two closest times\n",
    "        time.1 = time.order[1]\n",
    "        time.2 = time.order[2]\n",
    "\n",
    "        #########################\n",
    "        ##### Space section #####\n",
    "        ##########################\n",
    "\n",
    "        ## Calculate the separation betweeen the ship and NCEP grid points\n",
    "        dy = (data$LA[i] - wind$lat)^2\n",
    "        dx = (data$LO[i] - wind$lon)^2\n",
    "\n",
    "        dd = dx + dy\n",
    "        d.order = order(dd)\n",
    "\n",
    "        ####\n",
    "        ## The N closest grid points in the NCEP data will be the 1st ... N smallest dx \n",
    "        # and dy indices\n",
    "        #\n",
    "        # From the distance vector, dd, we will generate the weights such that sum(weights) = 1 \n",
    "        # and if distance = 0 than weight = 1.\n",
    "        ###\n",
    "\n",
    "        ll = d.order[c(1:N)] # which grid cells are closest?\n",
    "        dd = dd[ll] ## Calculate the distance vector\n",
    "\n",
    "        ## Normalize the distance vector if using n > 1 interpolation and transform to weights\n",
    "        dd = 1 - dd / sum(dd)\n",
    "        dd = dd / sum(dd)\n",
    "\n",
    "        if (length(dd) == 1) { ## If N = 1 then the normalization above wont work.\n",
    "            dd = 1\n",
    "        }\n",
    "\n",
    "        ## Calculate the wind at position for the 2 closest times\n",
    "        # (NB. assumes t1 < t.ship < t2 or t2 < t.ship < t1)\n",
    "        #\n",
    "        winds = c(sum(wind$ncep[ll, time.1] * dd), sum(wind$ncep[ll, time.2] * dd))\n",
    "\n",
    "        ## Linear interpolation with time (sum of weights = 1 and weight = 1 when dt is 0)\n",
    "        data$NCEP[i] = winds[1] * dt[time.2] / sum(dt[c(time.1, time.2)]) +\n",
    "                            winds[2] * dt[time.1] / sum(dt[c(time.1, time.2)])\n",
    "\n",
    "        ####################\n",
    "        ## k calc section ##\n",
    "        ####################\n",
    "        ## Determine which times are available and within range.\n",
    "        dt = as.numeric(difftime(data$DT[i], wind$time, units = 'days'))\n",
    "        l.vent = which(dt < Int.t & dt >= 0)\n",
    "\n",
    "        ## Generate the wind series\n",
    "        temp = c()\n",
    "        for (j in l.vent) {\n",
    "            temp = c(temp, sum(abs(wind$ncep[ll, j]) * dd))\n",
    "        }\n",
    "\n",
    "        ## Determine the time seperation between each wind measurement\n",
    "        #delta.t = abs(c(0, as.numeric(difftime(ship.data$DT[i], time.actual, unit='days'))))\n",
    "        delta.t = -c(diff(dt), 0)\n",
    "        #delta.t = rep (1, length(temp))\n",
    "\n",
    "        ## run the ventilation algorithm on the data.\n",
    "        data$k[i] = ventilation(temp, data$MLD[i], data$TT[i], delta.t)\n",
    "\n",
    "        ## Institaneous\n",
    "        ship.data$k.inst[i] = ventilation(temp[1], data$MLD[i], data$TT[i], delta.t[1])\n",
    "    }\n",
    "    data\n",
    "}"
   ]
  },
  {
   "cell_type": "code",
   "execution_count": 53,
   "metadata": {},
   "outputs": [],
   "source": [
    "ship.data = add.wind(ship.data, wind)"
   ]
  },
  {
   "cell_type": "markdown",
   "metadata": {},
   "source": [
    "---\n",
    "# 5. Review and check data\n",
    "Let's plot up some of the data now:"
   ]
  },
  {
   "cell_type": "code",
   "execution_count": 54,
   "metadata": {
    "scrolled": false
   },
   "outputs": [],
   "source": [
    "pdf('./Output/Merge - Wind.pdf')\n",
    "#png('./Output/Merge - Wind.png')\n",
    "\n",
    "par(mfrow=c(2,1))\n",
    "\n",
    "################\n",
    "## Plot Winds ##\n",
    "################\n",
    "plot(ship.data$DT, ship.data$TW, ylim=c(0,20), main='Ship-based Wind', xlab='', ylab='Wind Speed (m/s)',\n",
    "     type='l', yaxs='i')\n",
    "lines(ship.data$DT, ship.data$NCEP, col='red', lwd=2)\n",
    "\n",
    "##############\n",
    "## MLD Plot ##\n",
    "##############\n",
    "plot(ship.data$DT, ship.data$MLD, type='l', ylab='Depth (m)', main='Mixed Layer Depth', xlab='', yaxs='i')\n",
    "\n",
    "\n",
    "######################\n",
    "### Plot of region ###\n",
    "######################\n",
    "## Plot showing the ship's track along with the grid points in the NCEP/NCAR data set\n",
    "\n",
    "plot(ship.data$LO, ship.data$LA, type='l', ylim=c(32,38), xlab='Longitude', ylab='Latitude', yaxs='i', xaxs='i')\n",
    "\n",
    "## Add grid points\n",
    "for (i in 1:length(wind$lat)) {\n",
    "    points(wind$lon[i], wind$lat[i], col='red', pch=16)\n",
    "}\n",
    "\n",
    "\n",
    "############################\n",
    "### Plot with regression ###\n",
    "############################\n",
    "plot(ship.data$TW, ship.data$NCEP, col='#000020', pch=16, xlab='Ship Avg Wind', ylab='NCEP Avg Wind',\n",
    "     yaxs='i', xaxs='i')\n",
    "model = lm(NCEP ~ TW, data = ship.data)\n",
    "\n",
    "lines(c(1:100), predict(model, newdata = data.frame(TW = c(1:100))), col='red')\n",
    "\n",
    "#dev.off()"
   ]
  },
  {
   "cell_type": "code",
   "execution_count": 55,
   "metadata": {},
   "outputs": [
    {
     "data": {
      "text/html": [
       "<dl class=dl-horizontal>\n",
       "\t<dt>(Intercept)</dt>\n",
       "\t\t<dd>0.227509476576024</dd>\n",
       "\t<dt>TW</dt>\n",
       "\t\t<dd>0.970476834957062</dd>\n",
       "</dl>\n"
      ],
      "text/latex": [
       "\\begin{description*}\n",
       "\\item[(Intercept)] 0.227509476576024\n",
       "\\item[TW] 0.970476834957062\n",
       "\\end{description*}\n"
      ],
      "text/markdown": [
       "(Intercept)\n",
       ":   0.227509476576024TW\n",
       ":   0.970476834957062\n",
       "\n"
      ],
      "text/plain": [
       "(Intercept)          TW \n",
       "  0.2275095   0.9704768 "
      ]
     },
     "metadata": {},
     "output_type": "display_data"
    }
   ],
   "source": [
    "## TODO: do this correction before calculating k !!!! \n",
    "model = lm(NCEP ~ TW, data = ship.data)\n",
    "coefficients(model)\n",
    "\n",
    "#ship.data$NCEP = (ship.data$NCEP - coefficients(model)[[1]]) / coefficients(model)[[2]]"
   ]
  },
  {
   "cell_type": "markdown",
   "metadata": {},
   "source": [
    "---\n",
    "\n",
    "# 6. O2 Argon Data (EIMS)\n",
    "This section will load the EIMS data and merge the useful columns with ship.data. The merge is done with linear interpolations baed on time.\n",
    "\n",
    "Additionally, a new FLAG column will be added in order to monitor the sources & assumptions of the data going into the NCP calculations."
   ]
  },
  {
   "cell_type": "code",
   "execution_count": 56,
   "metadata": {},
   "outputs": [],
   "source": [
    "load('RStates/EIMS.2min.60min.rdata')"
   ]
  },
  {
   "cell_type": "code",
   "execution_count": 57,
   "metadata": {},
   "outputs": [
    {
     "data": {
      "text/html": [
       "<dl class=dl-horizontal>\n",
       "\t<dt>(Intercept)</dt>\n",
       "\t\t<dd>8.50653400890974</dd>\n",
       "\t<dt>eims$sample$O2.Sat....</dt>\n",
       "\t\t<dd>0.155907293486843</dd>\n",
       "</dl>\n"
      ],
      "text/latex": [
       "\\begin{description*}\n",
       "\\item[(Intercept)] 8.50653400890974\n",
       "\\item[eims\\textbackslash{}\\$sample\\textbackslash{}\\$O2.Sat....] 0.155907293486843\n",
       "\\end{description*}\n"
      ],
      "text/markdown": [
       "(Intercept)\n",
       ":   8.50653400890974eims$sample$O2.Sat....\n",
       ":   0.155907293486843\n",
       "\n"
      ],
      "text/plain": [
       "           (Intercept) eims$sample$O2.Sat.... \n",
       "             8.5065340              0.1559073 "
      ]
     },
     "metadata": {},
     "output_type": "display_data"
    },
    {
     "data": {
      "image/png": "[encoded data removed]",
      "text/plain": [
       "plot without title"
      ]
     },
     "metadata": {},
     "output_type": "display_data"
    }
   ],
   "source": [
    "par(mfrow=c(2,2))\n",
    "plot(eims$sample$O2.Ar, eims$sample$O2.Sat....)\n",
    "mod = lm(eims$sample$O2.Ar ~ eims$sample$O2.Sat....)\n",
    "coefficients(mod)"
   ]
  },
  {
   "cell_type": "markdown",
   "metadata": {},
   "source": [
    "## 6a. Interpolate EIMS Data\n",
    "\n",
    "This script deals with each variable separately (will be rolled into a function at some point).\n",
    "\n",
    "1. O2:Ar measurements\n",
    " * Determine if during a gab in data (e.g. calibration, missing values, etc)\n",
    " * If not, then use closest value. FLAG = 1\n",
    " * If so, then check if for times are before and after.\n",
    "  + Both sides: linear interp. FLAG = 2\n",
    "  + One side, use that value (constant). FLAG = 3\n",
    "\n",
    "2. O2:Ar Calibration\n",
    " * Determine if during a gab in data (e.g. non-calibration, missing values, etc)\n",
    " * If not, then use closest value. FLAG = 1\n",
    " * If so, then check if for times are before and after.\n",
    "  + Both sides: linear interp. FLAG = 2\n",
    "  + One side, use that value (constant). FLAG = 3"
   ]
  },
  {
   "cell_type": "code",
   "execution_count": 58,
   "metadata": {},
   "outputs": [],
   "source": [
    "eims.interp = function(ship.time, eims.time, ship.var, eims.var, FLAG) {\n",
    "    ## First let's add the O2:Ar measurments\n",
    "    for (i in 1:length(ship.time)) {\n",
    "    \n",
    "        ## Collect all the data points in the EIMS data within 2 minutes\n",
    "        dt = as.numeric(difftime(eims.time, ship.time[i], unit='mins'))\n",
    "        l = which(dt^2 < 3^2) ## check within X minutes\n",
    "    \n",
    "        ## Make sure there are enough data points (i.e. not during a calibration period)\n",
    "        if (length(l) > 2) { \n",
    "        \n",
    "            ## During a high-requency sampling period just use the closest in time value\n",
    "            l.near = which.min(dt^2)\n",
    "            ship.var[i] = mean(eims.var[l.near])\n",
    "            FLAG[i] = 1 # Normal\n",
    "        } \n",
    "    \n",
    "        ## During a break in the data\n",
    "        else {  \n",
    "            ## TODO: Use O2 relationship instead\n",
    "            if (all(dt < 0, na.rm = TRUE)) { # all times are before (negative)\n",
    "                l = which.min(-dt)\n",
    "                ship.var[i] = eims.var[l]\n",
    "                FLAG[i] = 3  # Interp (1 sided)\n",
    "            }\n",
    "            else if (all(dt > 0, na.rm = TRUE)) { # al ltimes are after (pos)\n",
    "                l = which.min(dt)\n",
    "                ship.var[i] = eims.var[l]\n",
    "                FLAG[i] = 3  # Interp (1 sided)\n",
    "            }\n",
    "            else {\n",
    "                dt.left = -dt[dt < 0] # before\n",
    "                dt.right = dt[dt > 0] # after\n",
    "\n",
    "                l1 = which.min(dt.left) # left/before\n",
    "                l2 = which.min(dt.right) # rigth/after\n",
    "\n",
    "                y1 = eims.var[dt < 0][l1]\n",
    "                y2 = eims.var[dt > 0][l2]\n",
    "\n",
    "                m = (y2 - y1) / (dt[dt>0][l2] - dt[dt<0][l1])\n",
    "                ans = m * -dt[dt < 0][l1] + y1\n",
    "\n",
    "                if (length(ans) != 1) {\n",
    "                    ship.var[i] = 0\n",
    "                    FLAG[i] = 99  # Error\n",
    "                } else{\n",
    "                    ship.var[i] = ans\n",
    "                    FLAG[i] = 2  # Interp (2 sided)\n",
    "                }\n",
    "            }\n",
    "        }\n",
    "    }\n",
    "    return(list(var = ship.var, FLAG = FLAG))\n",
    "}"
   ]
  },
  {
   "cell_type": "code",
   "execution_count": 59,
   "metadata": {},
   "outputs": [],
   "source": [
    "eims.interp.o2 = function(ship.time, eims.time, ship.var, eims.var, FLAG) {\n",
    "    ## First let's add the O2:Ar measurments\n",
    "    for (i in 1:length(ship.time)) {\n",
    "    \n",
    "        ## Collect all the data points in the EIMS data within 2 minutes\n",
    "        dt = as.numeric(difftime(ship.time[i], eims.time, unit='mins'))\n",
    "        l = which(dt^2 < 3^2) ## check within X minutes\n",
    "    \n",
    "        ## Make sure there are enough data points (i.e. not during a calibration period)\n",
    "        if (length(l) > 2) { \n",
    "        \n",
    "            ## During a high-requency sampling period just use the closest in time value\n",
    "            l.near = which.min(dt^2)\n",
    "            ship.var[i] = mean(eims.var[l.near])\n",
    "            FLAG[i] = 1 # Normal\n",
    "        } \n",
    "    \n",
    "        ## During a break in the data\n",
    "        else {  \n",
    "            ## TODO: Use O2 relationship instead\n",
    "            if (all(dt < 0, na.rm = TRUE)) {\n",
    "                l = which.min(-dt)\n",
    "                ship.var[i] = eims.var[l]\n",
    "                FLAG[i] = 3  # Interp (1 sided)\n",
    "            }\n",
    "            else if (all(dt > 0, na.rm = TRUE)) {\n",
    "                l = which.min(dt)\n",
    "                ship.var[i] = eims.var[l]\n",
    "                FLAG[i] = 3  # Interp (1 sided)\n",
    "            }\n",
    "            else {\n",
    "                dt.left = -dt[dt < 0]\n",
    "                dt.right = dt[dt > 0]\n",
    "\n",
    "                #l1 = which.min(dt.left) # left\n",
    "                #l2 = which.min(dt.right) # rigth\n",
    "                \n",
    "                l1 = which.min((dt.left)) # left\n",
    "                l2 = which.min(dt.right)  # rigth\n",
    "\n",
    "                y1 = mean(eims.var[dt < 0][l1]) # O2 argon signal\n",
    "                y2 = mean(eims.var[dt > 0][l2]) # O2 argon signal\n",
    "                \n",
    "                ## get O2 concentration\n",
    "                #x1 = which.min(as.numeric(difftime(eims.time[dt < 0][l1], ship.data$DT, unit='mins'))^2)\n",
    "                #x2 = which.min(as.numeric(difftime(eims.time[dt > 0][l2], ship.data$DT, unit='mins'))^2)\n",
    "                \n",
    "                #x1 = which(order(as.numeric(difftime(eims.time[dt < 0][l1[1]], ship.data$DT, unit='mins'))^2) < 5)\n",
    "                #x2 = which(order(as.numeric(difftime(eims.time[dt > 0][l2[1]], ship.data$DT, unit='mins'))^2) < 5)\n",
    "                \n",
    "                #oxy.1 = mean(ship.data$OS[x1])\n",
    "                #oxy.2 = mean(ship.data$OS[x2])\n",
    "\n",
    "                #m.oxy = (y2 - y1) / (oxy.2 - oxy.1)\n",
    "                m.t = (y2 - y1) / (dt[dt>0][l2] - dt[dt<0][l1])\n",
    "                m = m.t\n",
    "                \n",
    "                ans = m * ship.data$OS[i] + y1\n",
    "\n",
    "                if (length(ans) != 1) {\n",
    "                    ship.var[i] = 0\n",
    "                    FLAG[i] = 99  # Error\n",
    "                } else{\n",
    "                    ship.var[i] = ans\n",
    "                    FLAG[i] = 2  # Interp (2 sided)\n",
    "                }\n",
    "            }\n",
    "        }\n",
    "    }\n",
    "    return(list(var = ship.var, FLAG = FLAG))\n",
    "}"
   ]
  },
  {
   "cell_type": "code",
   "execution_count": 60,
   "metadata": {},
   "outputs": [],
   "source": [
    "ze = rep(0, nrow(ship.data))\n",
    "\n",
    "l = eims$sample$Flag == 1\n",
    "\n",
    "temp = eims.interp(ship.data$DT, eims$sample$time[l], ze, eims$sample$O2.Ar[l], ze)\n",
    "ship.data$EIMS.O2.Ar = temp[[1]]\n",
    "ship.data$EIMS.O2.Ar.FLAG = temp[[2]]\n",
    "\n",
    "temp = eims.interp(ship.data$DT, eims$sample$time[l], ze, eims$sample$X32.03[l], ze)\n",
    "ship.data$EIMS.32 = temp[[1]]\n",
    "ship.data$EIMS.32.FLAG = temp[[2]]\n",
    "\n",
    "temp = eims.interp(ship.data$DT, eims$sample$time[l], ze, eims$sample$X40.03[l], ze)\n",
    "ship.data$EIMS.40 = temp[[1]]\n",
    "ship.data$EIMS.40.FLAG = temp[[2]]\n",
    "\n",
    "# Inlet Temperature\n",
    "temp = eims.interp(ship.data$DT, eims$sample$time[l], ze, eims$sample$inlet[l], ze)\n",
    "ship.data$EIMS.Inlet.T = temp[[1]]\n",
    "ship.data$EIMS.Inlet.T.FLAG = temp[[2]]\n",
    "\n",
    "# Oxygen EIMS 32\n",
    "temp = eims.interp(ship.data$DT, eims$sample$time[l], ze, eims$sample$X32[l], ze)\n",
    "ship.data$EIMS.32 = temp[[1]]\n",
    "ship.data$EIMS.32.FLAG = temp[[2]]\n",
    "\n",
    "# Oxygen Conc\n",
    "temp = eims.interp(ship.data$DT, eims$sample$time[l], ze, eims$sample$O2..uM.[l], ze)\n",
    "ship.data$EIMS.O2 = temp[[1]]\n",
    "ship.data$EIMS.O2.FLAG = temp[[2]]\n",
    "\n",
    "# Oxygen Sat\n",
    "temp = eims.interp(ship.data$DT, eims$sample$time[l], ze, eims$sample$O2.Sat....[l], ze)\n",
    "ship.data$EIMS.O2.sat = temp[[1]]\n",
    "ship.data$EIMS.O2.sat.FLAG = temp[[2]]\n",
    "\n",
    "\n",
    "## Calibration\n",
    "l = eims$cal$Flag == 2\n",
    "\n",
    "temp = eims.interp(ship.data$DT, eims$cal$time[l], ze, eims$cal$O2.Ar[l], ze)\n",
    "ship.data$EIMS.O2.Ar.cal = temp[[1]]\n",
    "ship.data$EIMS.O2.Ar.cal.FLAG = temp[[2]]\n",
    "\n",
    "## 32\n",
    "temp = eims.interp(ship.data$DT, eims$cal$time[l], ze, eims$cal$X32.03[l], ze)\n",
    "ship.data$EIMS.32.cal = temp[[1]] \n",
    "ship.data$EIMS.32.cal.FLAG = temp[[2]]\n",
    "\n",
    "## 40\n",
    "temp = eims.interp(ship.data$DT, eims$cal$time[l], ze, eims$cal$X40.03[l], ze)\n",
    "ship.data$EIMS.40.cal = temp[[1]]\n",
    "ship.data$EIMS.40.cal.FLAG = temp[[2]]\n",
    "\n",
    "# Inlet Temperature\n",
    "temp = eims.interp(ship.data$DT, eims$cal$time[l], ze, eims$cal$inlet[l], ze)\n",
    "ship.data$EIMS.Inlet.T.cal = temp[[1]]\n",
    "ship.data$EIMS.Inlet.T.cal.FLAG = temp[[2]]\n",
    "\n",
    "# Oxygen EIMS 32\n",
    "temp = eims.interp(ship.data$DT, eims$cal$time[l], ze, eims$cal$X32[l], ze)\n",
    "ship.data$EIMS.32.cal = temp[[1]]\n",
    "ship.data$EIMS.32.cal.FLAG = temp[[2]]\n",
    "\n",
    "# Oxygen Conc\n",
    "temp = eims.interp(ship.data$DT, eims$cal$time[l], ze, eims$cal$O2..uM.[l], ze)\n",
    "ship.data$EIMS.O2.cal = temp[[1]]\n",
    "ship.data$EIMS.O2.cal.FLAG = temp[[2]]\n",
    "\n",
    "# Oxygen Sat\n",
    "temp = eims.interp(ship.data$DT, eims$cal$time[l], ze, eims$cal$O2.Sat....[l], ze)\n",
    "ship.data$EIMS.O2.sat.cal = temp[[1]]\n",
    "ship.data$EIMS.O2.sat.cal.FLAG = temp[[2]]"
   ]
  },
  {
   "cell_type": "markdown",
   "metadata": {},
   "source": [
    "## 6b. Check EIMS Data"
   ]
  },
  {
   "cell_type": "code",
   "execution_count": 61,
   "metadata": {
    "scrolled": false
   },
   "outputs": [
    {
     "data": {
      "text/html": [
       "<strong>png:</strong> 2"
      ],
      "text/latex": [
       "\\textbf{png:} 2"
      ],
      "text/markdown": [
       "**png:** 2"
      ],
      "text/plain": [
       "png \n",
       "  2 "
      ]
     },
     "metadata": {},
     "output_type": "display_data"
    }
   ],
   "source": [
    "pdf('Output/Merge - EIMS Summary.pdf')\n",
    "#png('Output/Merge - EIMS Summary.png')\n",
    "\n",
    "par(mfrow=c(2,2))\n",
    "flag.color = c('black', 'red', 'orange', 'orange')\n",
    "\n",
    "## O2 argon verification\n",
    "plot(ship.data$DT, ship.data$EIMS.O2.Ar, col=flag.color[ship.data$EIMS.O2.Ar.FLAG], ylim=c(20,30),\n",
    "     pch=16, cex=0.3, ylab='O2:Ar (Measured)', xlab='', main='O2:Ar Data Summary', yaxs='i')\n",
    "legend(ship.data$DT[1], 18, col=flag.color, c('Normal', 'Interpolated', 'One Sided'), pch=16, cex=0.55)\n",
    "\n",
    "## Calibration verification\n",
    "plot(ship.data$DT, ship.data$EIMS.O2.Ar.cal, col=flag.color[ship.data$EIMS.O2.Ar.cal.FLAG], yaxs='i',\n",
    "     pch=16, cex=0.3, ylab='O2:Ar (calibration)', xlab='', main='O2:Ar Calibration Summary')\n",
    "legend(ship.data$DT[1], 18, col=flag.color, c('Normal', 'Interpolated', 'One Sided'), pch=16)\n",
    "\n",
    "## Time validation\n",
    "plot(ship.data$DT, ship.data$DT, pch=16, cex=1, ylab='Time', xlab='Time',\n",
    "     main='Temporal Verification for EIMS & SHIP Times')\n",
    "points(eims$sample$time, eims$sample$time, col='red', pch=16, cex=0.5)\n",
    "\n",
    "## Oxygen Comparison\n",
    "plot(ship.data$OX / ship.data$OS, ship.data$EIMS.O2.sat, pch=20, cex=0.2, ylim=c(50,150), xlim=c(0.5,1.5),\n",
    "     xlab='Ship O2', ylab='EIMS O2', yaxs='i', yaxs='i')\n",
    "\n",
    "## Oxygen\n",
    "par(mfrow=c(1,1))\n",
    "plot(ship.data$DT, ship.data$EIMS.O2.sat / 100, pch=20, cex=0.2, main='Ship vs EIMS O2', ylab='O2 (sat)',\n",
    "     xlab='', xaxs='i', ylim=c(0.45, 1.45))\n",
    "points(ship.data$DT, ship.data$OX / ship.data$OS, pch=20, cex=0.2, col='dark green')\n",
    "legend(ship.data$DT[1000], 0.6, c('Ship', 'EIMS'), col=c('dark green', 'black'), pch=c(20,20))\n",
    "\n",
    "dev.off()"
   ]
  },
  {
   "cell_type": "markdown",
   "metadata": {},
   "source": [
    "# MIMS Data"
   ]
  },
  {
   "cell_type": "code",
   "execution_count": 62,
   "metadata": {},
   "outputs": [],
   "source": [
    "load('RStates/MIMS.10sec.15min.rdata')"
   ]
  },
  {
   "cell_type": "code",
   "execution_count": 63,
   "metadata": {},
   "outputs": [],
   "source": [
    "ze = rep(0, nrow(ship.data))\n",
    "\n",
    "## O2 Argon from MIMS\n",
    "temp = eims.interp(ship.data$DT, mims$sample$time, ze, mims$sample$O2.Ar, ze)\n",
    "ship.data$MIMS.O2.Ar = temp[[1]]\n",
    "ship.data$MIMS.O2.Ar.FLAG = temp[[2]]\n",
    "\n",
    "# Oxygen MIMS 32\n",
    "temp = eims.interp(ship.data$DT, mims$sample$time, ze, mims$sample$X32, ze)\n",
    "ship.data$MIMS.32 = temp[[1]]\n",
    "ship.data$MIMS.32.FLAG = temp[[2]]\n",
    "\n",
    "# Argon MIMS 40\n",
    "temp = eims.interp(ship.data$DT, mims$sample$time, ze, mims$sample$X40, ze)\n",
    "ship.data$MIMS.40 = temp[[1]]\n",
    "ship.data$MIMS.40.FLAG = temp[[2]]\n",
    "\n",
    "# CO2 MIMS 44\n",
    "temp = eims.interp(ship.data$DT, mims$sample$time, ze, mims$sample$X44, ze)\n",
    "ship.data$MIMS.44 = temp[[1]]\n",
    "ship.data$MIMS.44.FLAG = temp[[2]]\n",
    "\n",
    "# Heavy CO2 MIMS 45\n",
    "temp = eims.interp(ship.data$DT, mims$sample$time, ze, mims$sample$X45, ze)\n",
    "ship.data$MIMS.45 = temp[[1]]\n",
    "ship.data$MIMS.45.FLAG = temp[[2]]\n",
    "\n",
    "# N2/Ar\n",
    "temp = eims.interp(ship.data$DT, mims$sample$time, ze, mims$sample$N2.Ar, ze)\n",
    "ship.data$MIMS.N2Ar = temp[[1]]\n",
    "ship.data$MIMS.N2Ar.FLAG = temp[[2]]\n",
    "\n",
    "# MIMS 44\n",
    "temp = eims.interp(ship.data$DT, mims$sample$time, ze, mims$sample$X44, ze)\n",
    "ship.data$MIMS.CO2 = temp[[1]] \n",
    "ship.data$MIMS.CO2.FLAG = temp[[2]]\n",
    "\n",
    "###########################################################################\n",
    "## Calibration MIMS\n",
    "temp = eims.interp(ship.data$DT, mims$cal$time, ze, mims$cal$O2.Ar, ze)\n",
    "ship.data$MIMS.O2.Ar.cal = temp[[1]]\n",
    "ship.data$MIMS.O2.Ar.cal.FLAG = temp[[2]]\n",
    "\n",
    "# Oxygen MIMS 32\n",
    "temp = eims.interp(ship.data$DT, mims$cal$time, ze, mims$cal$X32, ze)\n",
    "ship.data$MIMS.32.cal = temp[[1]]\n",
    "ship.data$MIMS.32.cal.FLAG = temp[[2]]\n",
    "\n",
    "# Argon MIMS 40\n",
    "temp = eims.interp(ship.data$DT, mims$cal$time, ze, mims$cal$X40, ze)\n",
    "ship.data$MIMS.40.cal = temp[[1]]\n",
    "ship.data$MIMS.40.cal.FLAG = temp[[2]]\n",
    "\n",
    "# CO2 MIMS 44\n",
    "temp = eims.interp(ship.data$DT, mims$cal$time, ze, mims$cal$X44, ze)\n",
    "ship.data$MIMS.44.cal = temp[[1]]\n",
    "ship.data$MIMS.44.cal.FLAG = temp[[2]]\n",
    "\n",
    "# Heavy CO2 MIMS 45\n",
    "temp = eims.interp(ship.data$DT, mims$cal$time, ze, mims$cal$X45, ze)\n",
    "ship.data$MIMS.45.cal = temp[[1]]\n",
    "ship.data$MIMS.45.cal.FLAG = temp[[2]]\n",
    "\n",
    "# N2/Ar\n",
    "temp = eims.interp(ship.data$DT, mims$cal$time, ze, mims$cal$N2.Ar, ze)\n",
    "ship.data$MIMS.N2Ar.cal = temp[[1]]\n",
    "ship.data$MIMS.N2Ar.cal.FLAG = temp[[2]]\n",
    "\n",
    "# MIMS 44\n",
    "temp = eims.interp(ship.data$DT, mims$cal$time, ze, mims$cal$X44, ze)\n",
    "ship.data$MIMS.CO2 = temp[[1]]\n",
    "ship.data$MIMS.CO2.FLAG = temp[[2]]"
   ]
  },
  {
   "cell_type": "markdown",
   "metadata": {},
   "source": [
    "## 7b. Check MIMS data"
   ]
  },
  {
   "cell_type": "code",
   "execution_count": 64,
   "metadata": {
    "scrolled": false
   },
   "outputs": [
    {
     "data": {
      "text/html": [
       "<strong>png:</strong> 2"
      ],
      "text/latex": [
       "\\textbf{png:} 2"
      ],
      "text/markdown": [
       "**png:** 2"
      ],
      "text/plain": [
       "png \n",
       "  2 "
      ]
     },
     "metadata": {},
     "output_type": "display_data"
    }
   ],
   "source": [
    "pdf('Output/Merge - MIMS Summary.pdf')\n",
    "#png('Output/Merge - MIMS Summary.png')\n",
    "\n",
    "par(mfrow=c(2,2))\n",
    "flag.color = c('black', 'red', 'orange', 'orange')\n",
    "\n",
    "## O2 argon verification\n",
    "plot(ship.data$DT, ship.data$MIMS.O2.Ar, col=flag.color[ship.data$MIMS.O2.Ar.FLAG], ylim=c(15,33),\n",
    "     pch=16, cex=0.3, ylab='O2:Ar (Measured)', xlab='', main='O2:Ar Data Summary', yaxs='i')\n",
    "legend(ship.data$DT[1], 18, col=flag.color, c('Normal', 'Interpolated', 'One Sided'), pch=16, cex=0.55)\n",
    "\n",
    "## Calibration verification\n",
    "plot(ship.data$DT, ship.data$MIMS.O2.Ar.cal, col=flag.color[ship.data$MIMS.O2.Ar.cal.FLAG], yaxs='i',\n",
    "     pch=16, cex=0.3, ylab='O2:Ar (calibration)', xlab='', main='O2:Ar Calibration Summary')\n",
    "legend(ship.data$DT[1], 22, col=flag.color, c('Normal', 'Interpolated', 'One Sided'), pch=16)\n",
    "\n",
    "## Time validation\n",
    "plot(ship.data$DT, ship.data$DT, pch=16, cex=1, ylab='Time', xlab='Time', yaxs='i',\n",
    "     main='Temporal Verification for EIMS & SHIP Times')\n",
    "points(mims$sample$time, mims$sample$time, col='red', pch=16, cex=0.5)\n",
    "legend(ship.data$DT[1], ship.data$DT[5000], c('Ship', 'MIMS'), col=c('black', 'red'), pch=16)\n",
    "\n",
    "## Oxygen Comparison\n",
    "plot(ship.data$DT, ship.data$EIMS.O2.Ar / ship.data$EIMS.O2.Ar.cal - 1, pch=20, cex=0.2, ylim=c(-0.6, 0.6),\n",
    "     yaxs='i', main='Biological O2 Signal')\n",
    "points(ship.data$DT, ship.data$MIMS.O2.Ar / ship.data$MIMS.O2.Ar.cal - 1,\n",
    "       pch=20, cex=0.2, col='red')\n",
    "legend(ship.data$DT[100], -0.4, c('EIMS', 'MIMS'), col=c('black', 'red'), pch=20)\n",
    "\n",
    "par(mfrow=c(1,1))\n",
    "plot(ship.data$DT, ship.data$EIMS.O2.Ar / ship.data$EIMS.O2.Ar.cal - 1, pch=20, cex=0.2, ylim=c(-0.5, 0.5),\n",
    "     ylab='Biological Oxygen Signal', xlab='', col='black', yaxs='i')\n",
    "points(ship.data$DT, ship.data$MIMS.O2.Ar / ship.data$MIMS.O2.Ar.cal - 1,\n",
    "       pch=20, cex=0.1, col='red')\n",
    "\n",
    "dev.off()"
   ]
  },
  {
   "cell_type": "markdown",
   "metadata": {},
   "source": [
    "## 8c. Optode Data"
   ]
  },
  {
   "cell_type": "code",
   "execution_count": 65,
   "metadata": {},
   "outputs": [],
   "source": [
    "load('RStates/Optode-01.23.18.rdata')"
   ]
  },
  {
   "cell_type": "code",
   "execution_count": 66,
   "metadata": {},
   "outputs": [],
   "source": [
    "ze = rep(0, nrow(ship.data))\n",
    "\n",
    "## Oxygen ch 1\n",
    "temp = eims.interp(ship.data$DT, optode$Time[optode$Oxy.ch1.flag == 1], ze,\n",
    "                   optode$Oxy.ch1[optode$Oxy.ch1.flag == 1], ze)\n",
    "ship.data$Optode.ch1 = temp[[1]]\n",
    "ship.data$Optode.ch1.FLAG = temp[[2]]\n",
    "\n",
    "## Oxygen ch 2\n",
    "temp = eims.interp(ship.data$DT, optode$Time[optode$Oxy.ch2.flag == 1], ze,\n",
    "                   optode$Oxy.ch2[optode$Oxy.ch2.flag == 1], ze)\n",
    "ship.data$Optode.ch2 = temp[[1]]\n",
    "ship.data$Optode.ch2.FLAG = temp[[2]]\n",
    "\n",
    "## Oxygen ch 3\n",
    "temp = eims.interp(ship.data$DT, optode$Time[optode$Oxy.ch3.flag == 1], ze,\n",
    "                   optode$Oxy.ch3[optode$Oxy.ch3.flag == 1], ze)\n",
    "ship.data$Optode.ch3 = temp[[1]]\n",
    "ship.data$Optode.ch3.FLAG = temp[[2]]\n",
    "\n",
    "## Oxygen ch 4\n",
    "temp = eims.interp(ship.data$DT, optode$Time[optode$Oxy.ch4.flag == 1], ze,\n",
    "                   optode$Oxy.ch4[optode$Oxy.ch4.flag == 1], ze)\n",
    "ship.data$Optode.ch4 = temp[[1]]\n",
    "ship.data$Optode.ch4.FLAG = temp[[2]]"
   ]
  },
  {
   "cell_type": "code",
   "execution_count": 67,
   "metadata": {},
   "outputs": [],
   "source": [
    "## Oxygen T 1\n",
    "temp = eims.interp(ship.data$DT, optode$Time[optode$Temp.ch1.flag == 1], ze,\n",
    "                   optode$Temp.ch1[optode$Temp.ch1.flag == 1], ze)\n",
    "ship.data$Optode.temp1 = temp[[1]]\n",
    "ship.data$Optode.temp1.FLAG = temp[[2]]\n",
    "\n",
    "## Oxygen T 2\n",
    "temp = eims.interp(ship.data$DT, optode$Time[optode$Temp.ch2.flag == 1], ze,\n",
    "                   optode$Temp.ch2[optode$Temp.ch2.flag == 1], ze)\n",
    "ship.data$Optode.temp2 = temp[[1]]\n",
    "ship.data$Optode.temp2.FLAG = temp[[2]]\n",
    "\n",
    "## Oxygen T 3\n",
    "temp = eims.interp(ship.data$DT, optode$Time[optode$Temp.ch3.flag == 1], ze,\n",
    "                   optode$Temp.ch3[optode$Temp.ch3.flag == 1], ze)\n",
    "ship.data$Optode.temp3 = temp[[1]]\n",
    "ship.data$Optode.temp3.FLAG = temp[[2]]\n",
    "\n",
    "## Oxygen T 4\n",
    "temp = eims.interp(ship.data$DT, optode$Time[optode$Temp.ch4.flag == 1], ze,\n",
    "                   optode$Temp.ch4[optode$Temp.ch4.flag == 1], ze)\n",
    "ship.data$Optode.temp4 = temp[[1]]\n",
    "ship.data$Optode.temp4.FLAG = temp[[2]]\n",
    "\n",
    "## Optode Pressure\n",
    "temp = eims.interp(ship.data$DT, optode$Time[optode$Pressure.flag == 1], ze,\n",
    "                   optode$Pressure[optode$Pressure.flag == 1], ze)\n",
    "ship.data$Optode.pressure = temp[[1]]\n",
    "ship.data$Optode.pressure.FLAG = temp[[2]]"
   ]
  },
  {
   "cell_type": "code",
   "execution_count": 68,
   "metadata": {},
   "outputs": [
    {
     "data": {
      "text/html": [
       "<strong>png:</strong> 2"
      ],
      "text/latex": [
       "\\textbf{png:} 2"
      ],
      "text/markdown": [
       "**png:** 2"
      ],
      "text/plain": [
       "png \n",
       "  2 "
      ]
     },
     "metadata": {},
     "output_type": "display_data"
    }
   ],
   "source": [
    "pdf('Output/Merge - Optode Review.pdf')\n",
    "\n",
    "par(mfrow=c(2,1))\n",
    "cols = get.qual.pal(5)\n",
    "\n",
    "plot(ship.data$DT, ship.data$Optode.ch1, type='l', col = cols[1], xlab = '', ylab = 'Oxygen')\n",
    "lines(ship.data$DT, ship.data$Optode.ch2-30, col = cols[2])\n",
    "lines(ship.data$DT, ship.data$Optode.ch3-60, col = cols[3])\n",
    "lines(ship.data$DT, ship.data$Optode.ch4-80, col = cols[4])\n",
    "\n",
    "plot(ship.data$DT, ship.data$Optode.temp1, type='l', col = cols[1], xlab = '', ylab = 'Temperature')\n",
    "lines(ship.data$DT, ship.data$Optode.temp2+5, col = cols[2])\n",
    "lines(ship.data$DT, ship.data$Optode.temp3+10, col = cols[3])\n",
    "lines(ship.data$DT, ship.data$Optode.temp4+15, col = cols[4])\n",
    "\n",
    "dev.off()"
   ]
  },
  {
   "cell_type": "markdown",
   "metadata": {},
   "source": [
    "## Ensure alignment"
   ]
  },
  {
   "cell_type": "code",
   "execution_count": null,
   "metadata": {},
   "outputs": [],
   "source": [
    "par(mfrow=c(2,2))\n",
    "\n",
    "ccf(ship.data$EIMS.O2.Ar/ship.data$EIMS.O2.Ar.cal, ship.data$MIMS.O2.Ar/ship.data$MIMS.O2.Ar.cal, lag.max = 5000, ylim=c(0,1))\n",
    "ccf(ship.data$EIMS.O2.Ar, ship.data$Optode.ch1, lag.max = 5000)\n",
    "ccf(ship.data$EIMS.O2, ship.data$EIMS.32, lag.max = 5000)\n",
    "ccf(ship.data$OS, ship.data$MIMS.32, lag.max = 5000)"
   ]
  },
  {
   "cell_type": "code",
   "execution_count": null,
   "metadata": {
    "scrolled": false
   },
   "outputs": [],
   "source": [
    "ma <- function(x, n=5){\n",
    "    a = filter(x, rep(1/n,n), sides=2)\n",
    "    a[is.na(a)] = 0\n",
    "    a\n",
    "}\n",
    "\n",
    "par(mfrow=c(2,2))\n",
    "\n",
    "ccf(ma(ship.data$EIMS.O2.Ar, 300), ma(ship.data$MIMS.O2.Ar, 300), lag.max = 100)\n",
    "ccf(ma(ship.data$EIMS.O2.Ar, 300), ma(ship.data$Optode.ch2, 300), lag.max = 100)\n",
    "ccf(ma(ship.data$EIMS.O2, 300), ma(ship.data$EIMS.32, 300), lag.max = 100)\n",
    "ccf(ma(ship.data$OX/ship.data$OS, 300), ma(ship.data$MIMS.32, 300), lag.max = 100)"
   ]
  },
  {
   "cell_type": "markdown",
   "metadata": {},
   "source": [
    "---\n",
    "# 7. Cycle Information\n",
    "\n",
    "This section simply fined the nearest timestamp in the ship's log and adds the \"Cycle\" entry to the ship.data."
   ]
  },
  {
   "cell_type": "code",
   "execution_count": 69,
   "metadata": {},
   "outputs": [],
   "source": [
    "cycles = read.xlsx('Raw Data/CCEP1706 Event Log.xlsx')\n",
    "cycles$Datetime.UTC = conv_excel_time(cycles$Datetime.UTC, tz='UTC')\n",
    "\n",
    "ship.data$Cycle = NULL\n",
    "\n",
    "for (i in 1:nrow(ship.data)) {\n",
    "    dt = abs(as.numeric(difftime(ship.data$DT[i], cycles$Datetime.UTC, unit='mins')))\n",
    "    ship.data$Cycle[i] = cycles$Cycle[which.min(dt)]\n",
    "}"
   ]
  },
  {
   "cell_type": "code",
   "execution_count": 70,
   "metadata": {},
   "outputs": [
    {
     "data": {
      "text/html": [
       "<strong>png:</strong> 2"
      ],
      "text/latex": [
       "\\textbf{png:} 2"
      ],
      "text/markdown": [
       "**png:** 2"
      ],
      "text/plain": [
       "png \n",
       "  2 "
      ]
     },
     "metadata": {},
     "output_type": "display_data"
    }
   ],
   "source": [
    "pdf('Output/Sequence ofEvents.pdf')\n",
    "\n",
    "l = unique(ship.data$Cycle)\n",
    "cols = sapply(ship.data$Cycle, function(x) {which(l == x)} )\n",
    "\n",
    "plot(ship.data$DT, cols, col=get.qual.pal(length(l))[cols], pch=16, cex=0.5, ylab='Stage', xlab='')\n",
    "legend(ship.data$DT[1], length(l), l, col=get.qual.pal(length(l)), lwd=2, cex=0.7)\n",
    "\n",
    "dev.off()"
   ]
  },
  {
   "cell_type": "code",
   "execution_count": 71,
   "metadata": {},
   "outputs": [
    {
     "name": "stdout",
     "output_type": "stream",
     "text": [
      "'data.frame':\t1697 obs. of  13 variables:\n",
      " $ Cycle       : num  1 1 1 1 1 1 1 1 1 1 ...\n",
      " $ Device      : chr  \"OHM-MS-0001\" \"OHM-MS-0001\" \"OHM-MS-0001\" \"OHM-MS-0001\" ...\n",
      " $ Array       : chr  \"DriftArray\" \"DriftArray\" \"DriftArray\" \"DriftArray\" ...\n",
      " $ DeviceTime  : num  42896 42896 42896 42896 42896 ...\n",
      " $ X5          : num  42896 42896 42896 42896 42896 ...\n",
      " $ X6          : num  43236 43808 44408 45008 45608 ...\n",
      " $ X7          : num  3 3 3 3 3 3 3 3 3 3 ...\n",
      " $ Lat         : num  35.1 35.1 35.1 35.1 35.1 ...\n",
      " $ Lon         : num  -121 -121 -121 -121 -121 ...\n",
      " $ Temp        : num  NA NA NA NA NA NA NA NA NA NA ...\n",
      " $ Batt.Voltage: num  11.5 11.5 11.5 11.5 11.5 11.5 11.5 11.5 11.5 11.5 ...\n",
      " $ Submerged   : num  1 1 1 1 1 1 1 1 1 1 ...\n",
      " $ time        : POSIXct, format: \"2017-06-09 08:00:36\" \"2017-06-09 08:10:08\" ...\n"
     ]
    },
    {
     "data": {
      "image/png": "[encoded data removed]",
      "text/plain": [
       "plot without title"
      ]
     },
     "metadata": {},
     "output_type": "display_data"
    }
   ],
   "source": [
    "drifter = read.xlsx('Raw Data/CCEP1706 - DrifterTracks.xlsx')\n",
    "drifter$time = conv_excel_time(drifter$DeviceTime, tz = 'PDT')\n",
    "drifter = drifter[which(drifter$Array == 'DriftArray'),] ## Only want drifter array locations\n",
    "str(drifter)\n",
    "plot(drifter$time, drifter$Cycle)"
   ]
  },
  {
   "cell_type": "code",
   "execution_count": 72,
   "metadata": {},
   "outputs": [],
   "source": [
    "add.drifter = function(data, drifter) {\n",
    "    \n",
    "    data$Drifter.lat = 0\n",
    "    data$Drifter.lon = 0\n",
    "    data$Dist.to.Drifter = 0\n",
    "\n",
    "    for (i in 1:nrow(data)) {\n",
    "        dt = as.numeric(difftime(drifter$time, data$DT[i], units='hours')) ## hours\n",
    "        l = which(abs(dt) < 1)\n",
    "\n",
    "        ## No (or just 1) drifter times within 1 hr, skip\n",
    "        if (length(l) > 1) {\n",
    "            dt.pos = dt[dt > 0]\n",
    "            dt.neg = dt[dt < 0]\n",
    "\n",
    "            if (length(dt.neg) < 1) { # all close times are afterwards\n",
    "\n",
    "                data$Drifter.lat[i] = drifter$Lat[which.min(dt)]\n",
    "                data$Drifter.lon[i] = drifter$Lon[which.min(dt)]\n",
    "            }\n",
    "            else if (length(dt.pos) < 1) { # all close times are before\n",
    "                data$Drifter.lat[i] = drifter$Lat[which.min(-dt)]\n",
    "                data$Drifter.lon[i] = drifter$Lon[which.min(-dt)]\n",
    "            }\n",
    "            else { ## Interpolate\n",
    "                t1 = which.min(dt[dt > 0])\n",
    "                t2 = which.min(-dt[dt < 0])\n",
    "\n",
    "                lats = c(drifter$Lat[which(dt < 0)[t2]], drifter$Lat[which(dt > 0)[t1]])\n",
    "                lons = c(drifter$Lon[which(dt < 0)[t2]], drifter$Lon[which(dt > 0)[t1]])\n",
    "                times = c(-dt[dt < 0][t2], dt[dt > 0][t1])\n",
    "\n",
    "                data$Drifter.lat[i] = lats[1] * (1 - times[1]/sum(times)) + lats[2] * (1-times[2]/sum(times))\n",
    "                data$Drifter.lon[i] = lons[1] * (1 - times[1]/sum(times)) + lons[2] * (1-times[2]/sum(times))\n",
    "            }\n",
    "        }\n",
    "        data$Dist.to.Drifter[i] = distm(c(data$Drifter.lon[i], data$Drifter.lat[i]), c(data$LO[i], data$LA[i])) / 1000\n",
    "    }\n",
    "    \n",
    "    data\n",
    "}"
   ]
  },
  {
   "cell_type": "code",
   "execution_count": 73,
   "metadata": {},
   "outputs": [],
   "source": [
    "ship.data = add.drifter(ship.data, drifter)"
   ]
  },
  {
   "cell_type": "markdown",
   "metadata": {},
   "source": [
    "## Spatial Plots"
   ]
  },
  {
   "cell_type": "code",
   "execution_count": 74,
   "metadata": {},
   "outputs": [
    {
     "data": {
      "text/html": [
       "<strong>png:</strong> 2"
      ],
      "text/latex": [
       "\\textbf{png:} 2"
      ],
      "text/markdown": [
       "**png:** 2"
      ],
      "text/plain": [
       "png \n",
       "  2 "
      ]
     },
     "metadata": {},
     "output_type": "display_data"
    }
   ],
   "source": [
    "pdf('Output/Merge - Spatial Cruise Overview.pdf')\n",
    "\n",
    "newmap <- getMap(resolution = \"high\")\n",
    "plot(newmap, xlim = c(-124, -119.5), ylim = c(32, 37), asp = 1, ylab='Latitude', xlab='Longitude')\n",
    "\n",
    "points(ship.data$Drifter.lon, ship.data$Drifter.lat, pch=16, cex=0.3)\n",
    "points(ship.data$LO, ship.data$LA, pch=16, cex=0.1, col='#00aa0020')\n",
    "\n",
    "dev.off()"
   ]
  },
  {
   "cell_type": "markdown",
   "metadata": {},
   "source": [
    "## Save"
   ]
  },
  {
   "cell_type": "code",
   "execution_count": 75,
   "metadata": {},
   "outputs": [],
   "source": [
    "save(ship.data, file='./RStates/ship.final.2min.rdata')\n",
    "#write.xlsx(ship.data, file='./Input Data/Shipdata - Final.xlsx')"
   ]
  },
  {
   "cell_type": "code",
   "execution_count": null,
   "metadata": {},
   "outputs": [],
   "source": [
    "load(file='./RStates/ship.final.2min.rdata')"
   ]
  }
 ],
 "metadata": {
  "anaconda-cloud": {},
  "kernelspec": {
   "display_name": "R",
   "language": "R",
   "name": "ir"
  },
  "language_info": {
   "codemirror_mode": "r",
   "file_extension": ".r",
   "mimetype": "text/x-r-source",
   "name": "R",
   "pygments_lexer": "r",
   "version": "3.4.2"
  },
  "toc": {
   "nav_menu": {},
   "number_sections": true,
   "sideBar": true,
   "skip_h1_title": false,
   "toc_cell": false,
   "toc_position": {},
   "toc_section_display": "block",
   "toc_window_display": true
  }
 },
 "nbformat": 4,
 "nbformat_minor": 2
}
