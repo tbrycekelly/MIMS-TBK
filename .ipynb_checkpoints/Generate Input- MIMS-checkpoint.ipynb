{
 "cells": [
  {
   "cell_type": "markdown",
   "metadata": {},
   "source": [
    "# Generate Input - MIMS\n",
    "\n",
    "This script will read in the raw .xlh MIMS files and calculate the 30 sec average. It also prefilters the raw data to remove outliers."
   ]
  },
  {
   "cell_type": "code",
   "execution_count": 47,
   "metadata": {},
   "outputs": [
    {
     "data": {
      "text/html": [
       "3"
      ],
      "text/latex": [
       "3"
      ],
      "text/markdown": [
       "3"
      ],
      "text/plain": [
       "[1] 3"
      ]
     },
     "metadata": {},
     "output_type": "display_data"
    }
   ],
   "source": [
    "## Install the package if needed:\n",
    "#install.packages('Mcomp', repos='http://cran.us.r-project.org')\n",
    "\n",
    "## Load the relevent packages\n",
    "#library(ncdf4)  # For reading in the NCEP wind fields\n",
    "#library(R.matlab)  # If you need to read in matlab .mat files\n",
    "library(openxlsx)  # If you need to read in .xlsx files\n",
    "#library(rNOMADS)  # For reading grib2 data files (NOMADS data for instance)\n",
    "#library(rGDAL)  #\n",
    "library(RColorBrewer)\n",
    "library(compiler)  # required for JIT (below)\n",
    "\n",
    "## Enable compilation (speed gain?)\n",
    "enableJIT(3)\n",
    "\n",
    "## Helper function for converting the date time stamps.\n",
    "conv_excel_time = function(x, tz='US/Pacific') {\n",
    "    as.POSIXct(as.Date(x, origin=\"1899-12-30\", tz=tz))\n",
    "}\n",
    "\n",
    "get.qual.pal = function(n=100, pal='Accent') {\n",
    "    colorRampPalette(brewer.pal(8, pal))(n)\n",
    "}\n",
    "\n",
    "get.seq.pal = function(n=100, pal='YlOrRd') {\n",
    "    colorRampPalette(rev(brewer.pal(11, pal)))(n)\n",
    "}\n",
    "\n",
    "get.div.pal = function(n=100, pal='Spectral') {\n",
    "    colorRampPalette(rev(brewer.pal(11, pal)))(n)\n",
    "}\n",
    "\n",
    "make.div.pal = function(x=100, n, pal='Spectral') {\n",
    "    get.div.pal(n, pal=pal)[as.numeric(cut(x, breaks = n))]\n",
    "}"
   ]
  },
  {
   "cell_type": "code",
   "execution_count": 48,
   "metadata": {
    "collapsed": true
   },
   "outputs": [],
   "source": [
    "processFile = function(filepath) {\n",
    "  con = file(filepath, \"r\")\n",
    "    i = 0\n",
    "    \n",
    "    dat = data.frame(cycle = 0, time = 0, X18 = 0, X28 = 0, X32 = 0, X40 = 0, X44 = 0, \n",
    "                      X45 = 0, TP = 0, N2.Ar = 0, O2.Ar = 0, N2.O2 = 0, BK.v = 0, BK.a = 0, BK.w = 0)\n",
    "    \n",
    "  while ( TRUE ) {\n",
    "    i = i + 1\n",
    "    line = readLines(con, n = 1)\n",
    "    if ( length(line) == 0 ) {\n",
    "      break\n",
    "    }\n",
    "    if (i > 9) {\n",
    "        if (nchar(line) > 5) {\n",
    "            s = strsplit(line, split = '\\t')[[1]]\n",
    "            if (length(s) == 15) {\n",
    "                dat[nrow(dat)+1,] =  as.numeric(s)\n",
    "            }\n",
    "            \n",
    "        }\n",
    "        \n",
    "        }\n",
    "    }\n",
    "    dat$time = conv_excel_time(dat$time)\n",
    "    dat = take.avg(dat)\n",
    "    close(con)\n",
    "    return(dat)\n",
    "}\n",
    "\n",
    "#### take.avg\n",
    "##\n",
    "## This Function accepts a data.frame (x) and returns a 30 second averaged output.\n",
    "## It assumes only columns 3 and up should be averaged (e.g. column 2 is time). It\n",
    "## Also removes gross outliers (O2/Ar ratios over 40 and less than 10).\n",
    "\n",
    "take.avg = function(x) {\n",
    "    x = x[which(x$O2.Ar > 10 & x$O2.Ar < 40),]\n",
    "    i = 1\n",
    "    while (i < nrow(x)) {\n",
    "        dt = as.numeric(difftime(x$time[1], x$time, units = 'sec'))\n",
    "        l = which(dt > dt[i] & dt - dt[i] <= 30)\n",
    "        temp = apply(x[l,3:ncol(x)], 2, function(x) {mean(x, na.rm = TRUE)})\n",
    "        x[i,3:ncol(x)] = temp\n",
    "        l = l[l != i]\n",
    "        if (length(l) > 1) {\n",
    "            x = x[-l,]\n",
    "        }\n",
    "        i = i + 1\n",
    "    }\n",
    "    x\n",
    "}"
   ]
  },
  {
   "cell_type": "code",
   "execution_count": 49,
   "metadata": {},
   "outputs": [
    {
     "data": {
      "text/html": [
       "79"
      ],
      "text/latex": [
       "79"
      ],
      "text/markdown": [
       "79"
      ],
      "text/plain": [
       "[1] 79"
      ]
     },
     "metadata": {},
     "output_type": "display_data"
    }
   ],
   "source": [
    "input.dir = 'Raw data/MIMS/'\n",
    "\n",
    "## Generate list of files in the directory\n",
    "file.list = list.files(input.dir)\n",
    "\n",
    "## split file.list into usable lists\n",
    "file.list = file.list[grepl('.xlh', file.list)]\n",
    "length(file.list)"
   ]
  },
  {
   "cell_type": "code",
   "execution_count": 50,
   "metadata": {},
   "outputs": [
    {
     "name": "stderr",
     "output_type": "stream",
     "text": [
      "Warning message in file(filepath, \"r\"):\n",
      "\"cannot open file 'Raw data/MIMS/NA': No such file or directory\""
     ]
    },
    {
     "ename": "ERROR",
     "evalue": "Error in file(filepath, \"r\"): cannot open the connection\n",
     "output_type": "error",
     "traceback": [
      "Error in file(filepath, \"r\"): cannot open the connection\nTraceback:\n",
      "1. rbind(data, processFile(paste0(input.dir, file.list[i + 1])))",
      "2. processFile(paste0(input.dir, file.list[i + 1]))",
      "3. file(filepath, \"r\")   # at line 2 of file <text>"
     ]
    }
   ],
   "source": [
    "data = processFile(paste0(input.dir, file.list[1]))\n",
    "i = 1\n",
    "while (TRUE) {\n",
    "    gc()\n",
    "    data = rbind(data, processFile(paste0(input.dir, file.list[i+1])))\n",
    "    i = i + 1\n",
    "    \n",
    "    data = write.summary(data)\n",
    "    if (i > length(file.list)) {\n",
    "        break\n",
    "    }\n",
    "} "
   ]
  },
  {
   "cell_type": "markdown",
   "metadata": {},
   "source": [
    "## Save"
   ]
  },
  {
   "cell_type": "code",
   "execution_count": 52,
   "metadata": {
    "collapsed": true
   },
   "outputs": [],
   "source": [
    "save(data, file='RStates/MIMS-Preliminary.rdata')\n",
    "\n",
    "write.xlsx(data, 'Input Data/MIMS-Preliminary.xlsx')"
   ]
  },
  {
   "cell_type": "code",
   "execution_count": null,
   "metadata": {
    "collapsed": true
   },
   "outputs": [],
   "source": [
    "load(file='RStates/MIMS-Preliminary.rdata')"
   ]
  },
  {
   "cell_type": "markdown",
   "metadata": {},
   "source": [
    "---\n",
    "## Visualize Data"
   ]
  },
  {
   "cell_type": "code",
   "execution_count": 6,
   "metadata": {},
   "outputs": [
    {
     "data": {
      "image/png": "[encoded data removed]",
      "text/plain": [
       "plot without title"
      ]
     },
     "metadata": {},
     "output_type": "display_data"
    },
    {
     "data": {
      "image/png": "[encoded data removed]",
      "text/plain": [
       "plot without title"
      ]
     },
     "metadata": {},
     "output_type": "display_data"
    }
   ],
   "source": [
    "#pdf('Output/MIMS-Overview.pdf')\n",
    "\n",
    "par(mfrow=c(2,1))\n",
    "plot(data$time, data$O2.Ar, pch=16, cex=0.2, ylab='O2/Ar', xlab='')\n",
    "plot(data$time, data$TP, pch=16, cex=0.2, ylab='Pressure', xlab='')\n",
    "\n",
    "l = c(10000:18000)\n",
    "plot(data$time[l], data$O2.Ar[l], pch=16, cex=0.2, ylab='O2/Ar', xlab='')\n",
    "plot(data$time[l], data$TP[l], pch=16, cex=0.2, ylab='Pressure', xlab='')\n",
    "\n",
    "#dev.off()"
   ]
  },
  {
   "cell_type": "code",
   "execution_count": 1,
   "metadata": {
    "collapsed": true
   },
   "outputs": [],
   "source": []
  },
  {
   "cell_type": "code",
   "execution_count": 2,
   "metadata": {},
   "outputs": [
    {
     "data": {
      "text/html": [
       "79729"
      ],
      "text/latex": [
       "79729"
      ],
      "text/markdown": [
       "79729"
      ],
      "text/plain": [
       "[1] 79729"
      ]
     },
     "metadata": {},
     "output_type": "display_data"
    }
   ],
   "source": [
    "nrow(data)"
   ]
  },
  {
   "cell_type": "code",
   "execution_count": null,
   "metadata": {
    "collapsed": true
   },
   "outputs": [],
   "source": []
  }
 ],
 "metadata": {
  "anaconda-cloud": {},
  "kernelspec": {
   "display_name": "R",
   "language": "R",
   "name": "ir"
  },
  "language_info": {
   "codemirror_mode": "r",
   "file_extension": ".r",
   "mimetype": "text/x-r-source",
   "name": "R",
   "pygments_lexer": "r",
   "version": "3.4.1"
  }
 },
 "nbformat": 4,
 "nbformat_minor": 1
}
