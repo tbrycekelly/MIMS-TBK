{
 "cells": [
  {
   "cell_type": "code",
   "execution_count": 1,
   "metadata": {},
   "outputs": [
    {
     "data": {
      "text/html": [
       "3"
      ],
      "text/latex": [
       "3"
      ],
      "text/markdown": [
       "3"
      ],
      "text/plain": [
       "[1] 3"
      ]
     },
     "metadata": {},
     "output_type": "display_data"
    }
   ],
   "source": [
    "## Install the package if needed:\n",
    "#install.packages('Mcomp', repos='http://cran.us.r-project.org')\n",
    "\n",
    "## Load the relevent packages\n",
    "#library(ncdf4)  # For reading in the NCEP wind fields\n",
    "#library(R.matlab)  # If you need to read in matlab .mat files\n",
    "library(openxlsx)  # If you need to read in .xlsx files\n",
    "#library(rNOMADS)  # For reading grib2 data files (NOMADS data for instance)\n",
    "#library(rGDAL)  #\n",
    "library(RColorBrewer)\n",
    "library(compiler)  # required for JIT (below)\n",
    "\n",
    "## Enable compilation (speed gain?)\n",
    "enableJIT(3)\n",
    "\n",
    "## Helper function for converting the date time stamps.\n",
    "conv_excel_time = function(x, tz='US/Pacific') {\n",
    "    as.POSIXct(as.Date(x, origin=\"1899-12-30\", tz=tz))\n",
    "}\n",
    "\n",
    "get.qual.pal = function(n=100, pal='Accent') {\n",
    "    colorRampPalette(brewer.pal(8, pal))(n)\n",
    "}\n",
    "\n",
    "get.seq.pal = function(n=100, pal='YlOrRd') {\n",
    "    colorRampPalette(rev(brewer.pal(11, pal)))(n)\n",
    "}\n",
    "\n",
    "get.div.pal = function(n=100, pal='Spectral') {\n",
    "    colorRampPalette(rev(brewer.pal(11, pal)))(n)\n",
    "}\n",
    "\n",
    "make.div.pal = function(x=100, n, pal='Spectral') {\n",
    "    get.div.pal(n, pal=pal)[as.numeric(cut(x, breaks = n))]\n",
    "}"
   ]
  },
  {
   "cell_type": "code",
   "execution_count": 28,
   "metadata": {
    "collapsed": true
   },
   "outputs": [],
   "source": [
    "processFile = function(filepath) {\n",
    "  con = file(filepath, \"r\")\n",
    "    i = 0\n",
    "    \n",
    "    dat = data.frame(cycle = 0, time = 0, X18 = 0, X28 = 0, X32 = 0, X40 = 0, X44 = 0, \n",
    "                      X45 = 0, TP = 0, N2.Ar = 0, O2.Ar = 0, N2.O2 = 0, BK.v = 0, BK.a = 0, BK.w = 0)\n",
    "    \n",
    "  while ( TRUE ) {\n",
    "    i = i + 1\n",
    "    line = readLines(con, n = 1)\n",
    "    if ( length(line) == 0 ) {\n",
    "      break\n",
    "    }\n",
    "    if (i > 9) {\n",
    "        if (nchar(line) > 5) {\n",
    "            s = strsplit(line, split = '\\t')[[1]]\n",
    "            if (length(s) == 15) {\n",
    "                dat[nrow(dat)+1,] =  as.numeric(s)\n",
    "            }\n",
    "            \n",
    "        }\n",
    "        \n",
    "        }\n",
    "    }\n",
    "    dat$time = conv_excel_time(dat$time)\n",
    "    dat = take.avg(dat)\n",
    "    close(con)\n",
    "    return(dat)\n",
    "}\n",
    "\n",
    "take.avg = function(x) {\n",
    "    i = 1\n",
    "    while (i < nrow(x)) {\n",
    "        dt = as.numeric(difftime(x$time[1], x$time, units = 'sec'))\n",
    "        l = which(dt > dt[i] & dt - dt[i] <= 30)\n",
    "        temp = apply(x[l,3:ncol(x)], 2, function(x) {mean(x, na.rm = TRUE)})\n",
    "        x[i,3:ncol(x)] = temp\n",
    "        l = l[l != i]\n",
    "        if (length(l) > 1) {\n",
    "            x = x[-l,]\n",
    "        }\n",
    "        i = i + 1\n",
    "    }\n",
    "    x\n",
    "}\n",
    "\n",
    "write.summary = function(x) {\n",
    "    \n",
    "    dt = abs(as.numeric(difftime(x$time[1], x$time, units = 'days')))\n",
    "    \n",
    "    if (max(dt) < 1) {\n",
    "        return(x)\n",
    "    }\n",
    "    else { # Else write output file\n",
    "    }\n",
    "    return(x)\n",
    "}"
   ]
  },
  {
   "cell_type": "code",
   "execution_count": 29,
   "metadata": {},
   "outputs": [
    {
     "data": {
      "text/html": [
       "79"
      ],
      "text/latex": [
       "79"
      ],
      "text/markdown": [
       "79"
      ],
      "text/plain": [
       "[1] 79"
      ]
     },
     "metadata": {},
     "output_type": "display_data"
    }
   ],
   "source": [
    "input.dir = 'Raw data -MIMS sven/xlh data MIMS/'\n",
    "\n",
    "## Generate list of files in the directory\n",
    "file.list = list.files(input.dir)\n",
    "\n",
    "## split file.list into usable lists\n",
    "file.list = file.list[grepl('.xlh', file.list)]\n",
    "length(file.list)"
   ]
  },
  {
   "cell_type": "code",
   "execution_count": 32,
   "metadata": {},
   "outputs": [
    {
     "name": "stderr",
     "output_type": "stream",
     "text": [
      "Warning message in if (char.i <- is.character(i)) {:\n",
      "\"closing unused connection 6 (Raw data -MIMS sven/xlh data MIMS/2017-0531-1354 MID.xlh)\""
     ]
    }
   ],
   "source": [
    "data = processFile(paste0(input.dir, file.list[2]))"
   ]
  },
  {
   "cell_type": "code",
   "execution_count": null,
   "metadata": {},
   "outputs": [],
   "source": [
    "data = processFile(paste0(input.dir, file.list[1]))\n",
    "i = 1\n",
    "while (TRUE) {\n",
    "    gc()\n",
    "    data = rbind(data, processFile(paste0(input.dir, file.list[i+1])))\n",
    "    i = i + 1\n",
    "    \n",
    "    data = write.summary(data)\n",
    "    if (i > length(file.list)) {\n",
    "        break\n",
    "    }\n",
    "}"
   ]
  },
  {
   "cell_type": "code",
   "execution_count": null,
   "metadata": {},
   "outputs": [],
   "source": [
    "str(data)\n"
   ]
  },
  {
   "cell_type": "code",
   "execution_count": null,
   "metadata": {
    "collapsed": true
   },
   "outputs": [],
   "source": []
  },
  {
   "cell_type": "raw",
   "metadata": {},
   "source": []
  },
  {
   "cell_type": "code",
   "execution_count": null,
   "metadata": {
    "collapsed": true
   },
   "outputs": [],
   "source": []
  }
 ],
 "metadata": {
  "anaconda-cloud": {},
  "kernelspec": {
   "display_name": "R",
   "language": "R",
   "name": "ir"
  },
  "language_info": {
   "codemirror_mode": "r",
   "file_extension": ".r",
   "mimetype": "text/x-r-source",
   "name": "R",
   "pygments_lexer": "r",
   "version": "3.4.1"
  }
 },
 "nbformat": 4,
 "nbformat_minor": 1
}
