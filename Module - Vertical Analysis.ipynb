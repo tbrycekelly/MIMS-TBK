{
 "cells": [
  {
   "cell_type": "code",
   "execution_count": 1,
   "metadata": {
    "collapsed": false
   },
   "outputs": [
    {
     "name": "stdout",
     "output_type": "stream",
     "text": [
      "Packages Loaded:\n",
      "ncdf4 R.matlab openxlsx RColorBrewer compiler lattice geosphere readxl data.table rworldmap\n"
     ]
    },
    {
     "name": "stderr",
     "output_type": "stream",
     "text": [
      "Loading required package: ncdf4\n",
      "Loading required package: R.matlab\n",
      "Warning message in library(package, lib.loc = lib.loc, character.only = TRUE, logical.return = TRUE, :\n",
      "“there is no package called ‘R.matlab’”Loading required package: openxlsx\n",
      "Loading required package: RColorBrewer\n",
      "Loading required package: compiler\n",
      "Loading required package: lattice\n",
      "Loading required package: geosphere\n",
      "Warning message in library(package, lib.loc = lib.loc, character.only = TRUE, logical.return = TRUE, :\n",
      "“there is no package called ‘geosphere’”Loading required package: readxl\n",
      "Loading required package: data.table\n",
      "Loading required package: rworldmap\n",
      "Warning message in library(package, lib.loc = lib.loc, character.only = TRUE, logical.return = TRUE, :\n",
      "“there is no package called ‘rworldmap’”"
     ]
    }
   ],
   "source": [
    "source('source.r')"
   ]
  },
  {
   "cell_type": "markdown",
   "metadata": {},
   "source": [
    "# Vertical Analysis Module"
   ]
  },
  {
   "cell_type": "code",
   "execution_count": 2,
   "metadata": {
    "collapsed": false
   },
   "outputs": [
    {
     "data": {
      "text/html": [
       "<ol class=list-inline>\n",
       "\t<li>'Cycle0'</li>\n",
       "\t<li>'SeaSoar1'</li>\n",
       "\t<li>'Transect1'</li>\n",
       "\t<li>'MVP Transect 1'</li>\n",
       "\t<li>'Cycle1'</li>\n",
       "\t<li>'Cycle1-vertical'</li>\n",
       "\t<li>'MVP Transect 3'</li>\n",
       "\t<li>'Cycle2'</li>\n",
       "\t<li>'Cycle2 Vertical'</li>\n",
       "\t<li>'MVP Transect 4'</li>\n",
       "\t<li>'Transect2'</li>\n",
       "\t<li>'MVP Transect 5'</li>\n",
       "\t<li>'Cycle3'</li>\n",
       "\t<li>'Bowtie 1'</li>\n",
       "\t<li>'Transect3'</li>\n",
       "\t<li>'Bowtie 2'</li>\n",
       "\t<li>'Cycle4'</li>\n",
       "\t<li>'Cycle4-Vertical'</li>\n",
       "\t<li>'SeaSoar2'</li>\n",
       "\t<li>'BBL'</li>\n",
       "\t<li>'Santa Cruz Basin 1'</li>\n",
       "\t<li>'TransComp'</li>\n",
       "\t<li>'Santa Cruz Basin 2'</li>\n",
       "</ol>\n"
      ],
      "text/latex": [
       "\\begin{enumerate*}\n",
       "\\item 'Cycle0'\n",
       "\\item 'SeaSoar1'\n",
       "\\item 'Transect1'\n",
       "\\item 'MVP Transect 1'\n",
       "\\item 'Cycle1'\n",
       "\\item 'Cycle1-vertical'\n",
       "\\item 'MVP Transect 3'\n",
       "\\item 'Cycle2'\n",
       "\\item 'Cycle2 Vertical'\n",
       "\\item 'MVP Transect 4'\n",
       "\\item 'Transect2'\n",
       "\\item 'MVP Transect 5'\n",
       "\\item 'Cycle3'\n",
       "\\item 'Bowtie 1'\n",
       "\\item 'Transect3'\n",
       "\\item 'Bowtie 2'\n",
       "\\item 'Cycle4'\n",
       "\\item 'Cycle4-Vertical'\n",
       "\\item 'SeaSoar2'\n",
       "\\item 'BBL'\n",
       "\\item 'Santa Cruz Basin 1'\n",
       "\\item 'TransComp'\n",
       "\\item 'Santa Cruz Basin 2'\n",
       "\\end{enumerate*}\n"
      ],
      "text/markdown": [
       "1. 'Cycle0'\n",
       "2. 'SeaSoar1'\n",
       "3. 'Transect1'\n",
       "4. 'MVP Transect 1'\n",
       "5. 'Cycle1'\n",
       "6. 'Cycle1-vertical'\n",
       "7. 'MVP Transect 3'\n",
       "8. 'Cycle2'\n",
       "9. 'Cycle2 Vertical'\n",
       "10. 'MVP Transect 4'\n",
       "11. 'Transect2'\n",
       "12. 'MVP Transect 5'\n",
       "13. 'Cycle3'\n",
       "14. 'Bowtie 1'\n",
       "15. 'Transect3'\n",
       "16. 'Bowtie 2'\n",
       "17. 'Cycle4'\n",
       "18. 'Cycle4-Vertical'\n",
       "19. 'SeaSoar2'\n",
       "20. 'BBL'\n",
       "21. 'Santa Cruz Basin 1'\n",
       "22. 'TransComp'\n",
       "23. 'Santa Cruz Basin 2'\n",
       "\n",
       "\n"
      ],
      "text/plain": [
       " [1] \"Cycle0\"             \"SeaSoar1\"           \"Transect1\"         \n",
       " [4] \"MVP Transect 1\"     \"Cycle1\"             \"Cycle1-vertical\"   \n",
       " [7] \"MVP Transect 3\"     \"Cycle2\"             \"Cycle2 Vertical\"   \n",
       "[10] \"MVP Transect 4\"     \"Transect2\"          \"MVP Transect 5\"    \n",
       "[13] \"Cycle3\"             \"Bowtie 1\"           \"Transect3\"         \n",
       "[16] \"Bowtie 2\"           \"Cycle4\"             \"Cycle4-Vertical\"   \n",
       "[19] \"SeaSoar2\"           \"BBL\"                \"Santa Cruz Basin 1\"\n",
       "[22] \"TransComp\"          \"Santa Cruz Basin 2\""
      ]
     },
     "metadata": {},
     "output_type": "display_data"
    }
   ],
   "source": [
    "load(file='./RStates/ship.final.rdata')\n",
    "unique(ship.data$Cycle)"
   ]
  },
  {
   "cell_type": "code",
   "execution_count": null,
   "metadata": {
    "collapsed": false
   },
   "outputs": [],
   "source": [
    "winch = read.xlsx('Raw Data/Profiles/winch-depth profiles.xlsx', sheet='All')\n",
    "winch$DateTime = conv_excel_time(winch$DateTime, tz = 'UTC')\n",
    "str(winch)"
   ]
  },
  {
   "cell_type": "code",
   "execution_count": 10,
   "metadata": {
    "collapsed": false
   },
   "outputs": [
    {
     "ename": "ERROR",
     "evalue": "Error in parse(text = x, srcfile = src): <text>:14:9: unexpected '}'\n13:             ship.data$Vertical.Depth[i] = m * \n14:         }\n            ^\n",
     "output_type": "error",
     "traceback": [
      "Error in parse(text = x, srcfile = src): <text>:14:9: unexpected '}'\n13:             ship.data$Vertical.Depth[i] = m * \n14:         }\n            ^\nTraceback:\n"
     ]
    }
   ],
   "source": [
    "ship.data$Vertical = 0\n",
    "ship.data$Vertical.Depth = 0\n",
    "\n",
    "for (j in unique(winch$Cycle)) {\n",
    "    for (i in 1:nrow(ship.data)) {\n",
    "        dt = as.numeric(difftime(ship.data$DT[i], winch$DateTime[which$Cycle == j], units = 'minutes'))\n",
    "        if (any(dt < 0) & any(dt > 0)) {\n",
    "            ship.data$Vertical[i] = 1\n",
    "            l1 = which.min(-dt[dt<0])\n",
    "            l2 = which.min(dt[dt > 0])\n",
    "            \n",
    "            m = (winch$Depth[dt > 0][l2] - winch$Depth[dt < 0][l1]) / (dt[dt < 0][l1] + dt[dt > 0][l2])\n",
    "            ship.data$Vertical.Depth[i] = m * \n",
    "        }\n",
    "    }\n",
    "}"
   ]
  },
  {
   "cell_type": "code",
   "execution_count": 18,
   "metadata": {
    "collapsed": true
   },
   "outputs": [],
   "source": [
    "plot.profile = function(name) {\n",
    "    l = which(winch$ == name)\n",
    "    \n",
    "    plot(ship.data$DT[l], ship.data$Optode.ch2[l], pch=20, col='red', main=name, ylab='NCP', xlab='')\n",
    "    points(ship.data$DT[l], ship.data$MIMS.O2.Ar[l], pch=20, col='blue')\n",
    "}"
   ]
  },
  {
   "cell_type": "code",
   "execution_count": 19,
   "metadata": {
    "collapsed": false
   },
   "outputs": [
    {
     "data": {
      "image/png": "[encoded data removed]",
      "text/plain": [
       "Plot with title \"Cycle4-Vertical\""
      ]
     },
     "metadata": {},
     "output_type": "display_data"
    }
   ],
   "source": [
    "par(mfrow=c(2,2))\n",
    "plot.profile('Cycle1')\n",
    "plot.profile(vp.names[1])\n",
    "plot.profile(vp.names[2])\n",
    "plot.profile(vp.names[3])"
   ]
  },
  {
   "cell_type": "code",
   "execution_count": null,
   "metadata": {
    "collapsed": true
   },
   "outputs": [],
   "source": []
  }
 ],
 "metadata": {
  "kernelspec": {
   "display_name": "R",
   "language": "R",
   "name": "ir"
  },
  "language_info": {
   "codemirror_mode": "r",
   "file_extension": ".r",
   "mimetype": "text/x-r-source",
   "name": "R",
   "pygments_lexer": "r",
   "version": "3.3.2"
  }
 },
 "nbformat": 4,
 "nbformat_minor": 2
}
