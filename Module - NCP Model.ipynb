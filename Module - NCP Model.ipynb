{
 "cells": [
  {
   "cell_type": "markdown",
   "metadata": {},
   "source": [
    "# NCP Model\n",
    "This script will oad the data compilation file (ship.data) and then setup and run the NCP model. Finally, it will produce graphs and plots based on NCP and the cycle/transect/stations."
   ]
  },
  {
   "cell_type": "code",
   "execution_count": null,
   "metadata": {
    "ExecuteTime": {
     "end_time": "2018-01-31T16:35:31.647510Z",
     "start_time": "2018-01-31T16:35:31.571Z"
    },
    "scrolled": false
   },
   "outputs": [],
   "source": [
    "source('source.r')\n",
    "source('source.equations.r')"
   ]
  },
  {
   "cell_type": "code",
   "execution_count": null,
   "metadata": {
    "ExecuteTime": {
     "end_time": "2018-01-31T16:43:49.967417Z",
     "start_time": "2018-01-31T16:43:49.171Z"
    }
   },
   "outputs": [],
   "source": [
    "#setwd('/Volumes/Repository/Dropbox/CCE-shipdata/MIMS-TBK/')\n",
    "# Load the data\n",
    "load(file='RStates/ship.final.2min.rdata')\n",
    "#load(file='RStates/ship.final.30min.rdata')\n",
    "\n",
    "## Verify the loaded data\n",
    "ship.data = ship.data[!is.na(ship.data$LO), ]\n",
    "ship.data = ship.data[!is.na(ship.data$Cycle), ]"
   ]
  },
  {
   "cell_type": "code",
   "execution_count": null,
   "metadata": {
    "ExecuteTime": {
     "end_time": "2018-01-31T16:47:00.619278Z",
     "start_time": "2018-01-31T16:47:00.579Z"
    },
    "scrolled": false
   },
   "outputs": [],
   "source": [
    "# Method here refers to the method used to normalize, 1 = std, 2 = IQR\n",
    "\n",
    "plot.timeseries = function(cycle = 'Cycle1', method = 2) {    \n",
    "    if (cycle == 'all') {\n",
    "        l = 1:nrow(ship.data)\n",
    "    } else {\n",
    "        l = which(ship.data$Cycle == cycle)\n",
    "        l.op = which(ship.data$Cycle == cycle & ship.data$MIMS.O2.Ar.FLAG == 1)  ## Remove calibration cycling artefacts\n",
    "    }\n",
    "    \n",
    "    plot(ship.data$DT[l], rep(0, nrow(ship.data[l,])), col = 'white', ylim=c(1, 12), main=cycle)\n",
    "\n",
    "    ## EIMS 32\n",
    "    text(ship.data$DT[l[1]] + 13000, 3, 'EIMS 32', cex=0.7)\n",
    "    add.normalized.line(ship.data$DT[l], ship.data$EIMS.32[l] / ship.data$EIMS.32.cal[l], offset = 2,\n",
    "                        scale = 0.3, col='dark green', method = method)\n",
    "    \n",
    "    ## Optode\n",
    "    text(ship.data$DT[l[1]] + 13000, 11, 'Optode Ch2', cex=0.7)\n",
    "    add.normalized.line(ship.data$DT[l.op], ship.data$Optode.ch2[l.op], offset = 10, scale = 0.6, col='blue',\n",
    "                        method = method)\n",
    "    \n",
    "    ## Ship Data\n",
    "    text(ship.data$DT[l[1]] + 13000, 7, 'Ship O2', cex=0.7)\n",
    "    add.normalized.line(ship.data$DT[l], ship.data$OX[l], offset = 5, scale = 0.5, method = method)\n",
    "    \n",
    "    ## MIMS 32\n",
    "    text(ship.data$DT[l[1]] + 13000, 9, 'MIMS 32', cex=0.7)\n",
    "    add.normalized.line(ship.data$DT[l], ship.data$MIMS.32[l] / ship.data$MIMS.32.cal[l], offset = 8,\n",
    "                        scale = 0.3, col='dark green', method = method)\n",
    "    \n",
    "    ## EIMS Optode\n",
    "    text(ship.data$DT[l[1]] + 13000, 5, 'EIMS O2', cex=0.7)\n",
    "    add.normalized.line(ship.data$DT[l], ship.data$EIMS.O2[l], offset = 4, scale = 0.3, col='blue', method = method)\n",
    "}"
   ]
  },
  {
   "cell_type": "code",
   "execution_count": null,
   "metadata": {
    "ExecuteTime": {
     "end_time": "2018-01-31T16:48:12.430125Z",
     "start_time": "2018-01-31T16:48:03.446Z"
    },
    "scrolled": true
   },
   "outputs": [],
   "source": [
    "pdf('Output/NCP Module - Timeseries Review (Individual Oxygen).pdf')\n",
    "\n",
    "par(mfrow=c(2,2))\n",
    "for (i in unique(ship.data$Cycle)) {\n",
    "    plot.timeseries(i)\n",
    "}\n",
    "\n",
    "dev.off()"
   ]
  },
  {
   "cell_type": "code",
   "execution_count": null,
   "metadata": {
    "ExecuteTime": {
     "end_time": "2018-01-31T16:48:14.561136Z",
     "start_time": "2018-01-31T16:48:08.033Z"
    },
    "scrolled": false
   },
   "outputs": [],
   "source": [
    "plot(ship.data$OS, O2sol(ship.data$SA, ship.data$TT)/1000, pch=16, cex=0.4, col='#00000010')"
   ]
  },
  {
   "cell_type": "markdown",
   "metadata": {},
   "source": [
    "# NCP Calculation"
   ]
  },
  {
   "cell_type": "code",
   "execution_count": null,
   "metadata": {
    "ExecuteTime": {
     "end_time": "2018-01-31T16:48:29.422039Z",
     "start_time": "2018-01-31T16:48:29.028Z"
    }
   },
   "outputs": [],
   "source": [
    "# NCP in mmol O2 m-2 d-1; seawater density in kg m-3, O2sol in microL kg-1\n",
    "#ncp = (ship.data$O2.Ar/100) * (O2sol(ship.data$SA, ship.data$TT) / 1000) * ship.data$sw_dens0(salt, temp) * wpv;\n",
    "\n",
    "calc.ncp = function(o2ar, o2ar.cal, S, T, k) {\n",
    "    ncp = (o2ar / o2ar.cal - 1) * O2sol(S, T) / 1000 * rho(S, T) * k\n",
    "}\n",
    "\n",
    "ship.data$BOS.EIMS = ship.data$EIMS.O2.Ar / ship.data$EIMS.O2.Ar.cal - 1\n",
    "ship.data$NCP.EIMS = calc.ncp(ship.data$EIMS.O2.Ar, ship.data$EIMS.O2.Ar.cal, ship.data$SA,\n",
    "                              ship.data$TT, ship.data$k)\n",
    "\n",
    "ship.data$BOS.MIMS = ship.data$MIMS.O2.Ar / ship.data$MIMS.O2.Ar.cal - 1\n",
    "ship.data$NCP.MIMS = calc.ncp(ship.data$MIMS.O2.Ar, ship.data$MIMS.O2.Ar.cal, ship.data$SA,\n",
    "                              ship.data$TT, ship.data$k)\n",
    "\n",
    "ship.data = ship.data[!is.na(ship.data$NCP.EIMS),]\n",
    "ship.data = ship.data[!is.na(ship.data$NCP.MIMS),]\n",
    "ship.data = ship.data[!is.na(ship.data$BOS.EIMS),]\n",
    "ship.data = ship.data[!is.na(ship.data$BOS.MIMS),]"
   ]
  },
  {
   "cell_type": "markdown",
   "metadata": {},
   "source": [
    "# Preliminary Review"
   ]
  },
  {
   "cell_type": "code",
   "execution_count": null,
   "metadata": {
    "ExecuteTime": {
     "end_time": "2018-01-31T16:49:27.962718Z",
     "start_time": "2018-01-31T16:48:50.185Z"
    },
    "scrolled": false
   },
   "outputs": [],
   "source": [
    "#pdf('Output/NCP Module - NCP Diagnostics.pdf')\n",
    "\n",
    "par(mfrow=c(2,1))\n",
    "\n",
    "################################\n",
    "## O2 solubility and temperature\n",
    "################################\n",
    "plot(ship.data$DT, O2sol(ship.data$SA, ship.data$TT) / 1000, type='l', ylab='O2 Solubility',\n",
    "     ylim=c(0.23, 0.30), xlab='', main='Solubility and Temperature')\n",
    "#add.daynight()\n",
    "lines(ship.data$DT, ship.data$TT/300 + 0.235, col='red', lwd=1)\n",
    "legend(ship.data$DT[1], 0.30, c('Temp', 'Sol.'), col=c('red', 'black'), cex=0.6, lwd=2)\n",
    "\n",
    "################################\n",
    "## Biological O2 argon singal\n",
    "################################\n",
    "plot(ship.data$DT, ship.data$BOS.EIMS, pch=20, cex=0.1, ylab='Biological O2 Ar Signal (EIMS)', xlab='',\n",
    "     main='Delta O2/Ar - EIMS', ylim=c(-0.35, 0.35))\n",
    "#add.daynight()\n",
    "lines(c(min(ship.data$DT), max(ship.data$DT)), c(0, 0), lty=2)\n",
    "\n",
    "\n",
    "plot(ship.data$DT,  ship.data$BOS.MIMS, pch=20, cex=0.1, ylab='Biological O2 Ar Signal (MIMS)', xlab='',\n",
    "     main='Delta O2/Ar - MIMS', ylim=c(-0.35, 0.35))\n",
    "#add.daynight()\n",
    "lines(c(min(ship.data$DT), max(ship.data$DT)), c(0, 0), lty=2)\n",
    "\n",
    "################################\n",
    "## Wind speed and k values\n",
    "################################\n",
    "plot(ship.data$DT, ship.data$k, type='l', ylab='Ventilation Rate', main='k Value', xlab='', yaxs='i', ylim=c(0,5))\n",
    "#add.daynight()\n",
    "\n",
    "plot(ship.data$DT, ship.data$NCEP, ylim=c(0, 50), pch=20, cex=0.1, xaxs='i', ylab='Wind Speed (MLD)',\n",
    "     xlab='', main='NCEP Wind Speed (MLD in Orange)')\n",
    "points(ship.data$DT, ship.data$MLD, col='orange', pch=20, cex=0.1)\n",
    "#legend(ship.data$DT[1], 10, c('K', 'Wind'), col=c('black', 'red'), cex=0.6, lwd=2)\n",
    "\n",
    "################################\n",
    "## NCP plot (smoothed)\n",
    "################################\n",
    "plot(ship.data$DT, ma(ship.data$NCP.EIMS, 25), type='l', ylab='Smoothed EIMS NCP (mmol O2 m-1 d-1)',\n",
    "     ylim=c(-100, 100), xlab='')\n",
    "#add.daynight()\n",
    "lines(c(min(ship.data$DT), max(ship.data$DT)), c(0, 0), lty=2)\n",
    "\n",
    "\n",
    "plot(ship.data$DT, ma(ship.data$NCP.MIMS, 25), type='l', ylab='Smoothed MIMS NCP (mmol O2 m-1 d-1)',\n",
    "     ylim=c(-100, 100), xlab='')\n",
    "#add.daynight()\n",
    "lines(c(min(ship.data$DT), max(ship.data$DT)), c(0, 0), lty=2)\n",
    "\n",
    "\n",
    "dev.off()"
   ]
  },
  {
   "cell_type": "code",
   "execution_count": null,
   "metadata": {},
   "outputs": [],
   "source": [
    "par(mfrow=c(2,1))\n",
    "\n",
    "plot(ship.data$DT,runmed(ship.data$MIMS.32.cal, 31), pch=20, cex=0.1, ylab='MIMS 32 cal',\n",
    "     xlab='', col = get.qual.pal(5)[ship.data$MIMS.32.cal.FLAG])\n",
    "\n",
    "plot(ship.data$DT,runmed(ship.data$EIMS.32.cal, 31), pch=20, cex=0.1, ylab='EIMS 32 cal',\n",
    "     xlab='')\n",
    "\n",
    "plot(ship.data$DT, runmed(ship.data$MIMS.32, 31) / runmed(ship.data$MIMS.32.cal, 31) - 1, pch=20, cex=0.1, ylab='MIMS 32 sat',\n",
    "     xlab='', ylim=c(-.5,.5))\n",
    "lines(c(min(ship.data$DT), max(ship.data$DT)), c(0,0), lty=2, col='red')\n",
    "\n",
    "plot(ship.data$DT, ship.data$EIMS.32 / ship.data$EIMS.32.cal - 1, pch=20, cex=0.1, ylab='EIMS 32 sat',\n",
    "     xlab='', ylim=c(-0.5,0.5))\n",
    "lines(c(min(ship.data$DT), max(ship.data$DT)), c(0,0), lty=2, col='red')"
   ]
  },
  {
   "cell_type": "code",
   "execution_count": null,
   "metadata": {},
   "outputs": [],
   "source": [
    "plot(ship.data$DT, runmed(ship.data$BOS.EIMS, 821), pch=16, cex=0.2, ylim=c(-0.4,0.4), ylab='Biological Oxygen Signal',\n",
    "     xlab='')\n",
    "\n",
    "points(ship.data$DT, runmed(ship.data$BOS.MIMS, 811), pch=16, cex=0.2, col='red')\n",
    "#points(ship.data$DT, runmed(ship.data$NCP.MIMS2, 2011), pch=16, cex=0.2, col='blue')\n",
    "lines(c(ship.data$DT[1], max(ship.data$DT)), c(0,0), lty=2)"
   ]
  },
  {
   "cell_type": "code",
   "execution_count": null,
   "metadata": {},
   "outputs": [],
   "source": [
    "unique(ship.data$Cycle)"
   ]
  },
  {
   "cell_type": "code",
   "execution_count": null,
   "metadata": {
    "ExecuteTime": {
     "end_time": "2018-01-31T16:49:28.156761Z",
     "start_time": "2018-01-31T16:49:25.762Z"
    }
   },
   "outputs": [],
   "source": [
    "#pdf('Output/NCP Module - Spatial NCP (MIMS, z2, SS1).pdf')\n",
    "#png('Output/NCP Module - Spatial NCP (MIMS, z2, SS1).png')\n",
    "\n",
    "l = which(ship.data$Cycle %in% c('SeaSoar2'))\n",
    "\n",
    "col = make.div.pal2(runmed(ship.data$NCP.MIMS[l], 21), 100, min = -50, max = 150)\n",
    "\n",
    "plot.map(ship.data$LO[l], ship.data$LA[l], col = col, main='Preliminary NCP Values', zoom = 2, cex = 1.5)\n",
    "\n",
    "## Legend\n",
    "points(x = rep(-120, 101), y = seq(35, 37, 1/50), col=get.div.pal(101), pch=16, cex=1.5)\n",
    "text(-119.6, 37, '150 mmol O2 m-2 d-1')\n",
    "text(-119.6, 35, '-50 mmol O2 m-2 d-1')\n",
    "\n",
    "dev.off()"
   ]
  },
  {
   "cell_type": "code",
   "execution_count": null,
   "metadata": {},
   "outputs": [],
   "source": [
    "save(ship.data, file='./RStates/ship.ncp.2min.rdata')\n",
    "#save(ship.data, file='./RStates/ship.ncp.30min.rdata')\n",
    "#write.xlsx(ship.data, file='./Input Data/Shipdata - NCP.xlsx')"
   ]
  },
  {
   "cell_type": "code",
   "execution_count": null,
   "metadata": {},
   "outputs": [],
   "source": [
    "for (i in unique(ship.data$Cycle)) {\n",
    "    l = which(ship.data$Cycle == i)\n",
    "    write.xlsx(ship.data[l,], file = paste0('Output/Ship.data Output - ', i, '.xlsx'))\n",
    "}"
   ]
  },
  {
   "cell_type": "code",
   "execution_count": null,
   "metadata": {},
   "outputs": [],
   "source": [
    "summary(ship.data$LO)\n",
    "#Sys.setenv(\"R_ZIPCMD\" = \"C:/RBuildTools/3.4/bin/zip.exe\")"
   ]
  },
  {
   "cell_type": "code",
   "execution_count": null,
   "metadata": {},
   "outputs": [],
   "source": [
    "l = which(ship.data$MIMS.O2.Ar.FLAG == 2)\n",
    "plot(ship.data$DT[l], runmed(ship.data$Optode.ch2[l], 401), pch=16, cex=0.2, ylim=c(95, 110), ylab='Optode Oxygen (%sat)', xlab='')\n"
   ]
  },
  {
   "cell_type": "markdown",
   "metadata": {},
   "source": [
    "# Cycles Analysis"
   ]
  },
  {
   "cell_type": "code",
   "execution_count": null,
   "metadata": {
    "scrolled": false
   },
   "outputs": [],
   "source": [
    "pdf('Output/NCP Module - NCP Cycles Preliminary.pdf')\n",
    "\n",
    "par(mfrow=c(2,2))\n",
    "\n",
    "for (i in unique(ship.data$Cycle)) {\n",
    "    l = which(ship.data$Cycle == i)\n",
    "    \n",
    "    ## Set colors\n",
    "    col = make.div.pal2(ship.data$BOS.MIMS[l], 110, min = -0.3, max = 0.3)\n",
    "    flag.col = get.qual.pal(n = 4)\n",
    "    \n",
    "    ##########################\n",
    "    ## Plot the Timesseries ##\n",
    "    ##########################\n",
    "    plot(ship.data$DT[l], ship.data$BOS.MIMS[l], main=i, pch=16, cex=1.2, lwd=2,\n",
    "         ylab='NCP', xlab='', col=flag.col[ship.data$MIMS.O2.Ar.FLAG[l]], ylim=c(-0.4,0.4))\n",
    "    \n",
    "    add.daynight('#00000008')\n",
    "    \n",
    "    ## Add trendline and legend\n",
    "    mod = lowess(x = ship.data$DT[l], ship.data$BOS.MIMS[l], f = 0.05)\n",
    "    lines(mod, col='#ff000050', lwd=2)\n",
    "    lines(x=c(min(ship.data$DT), max(ship.data$DT)), y= c(0, 0), lty=2) # Zero line\n",
    "    legend(ship.data$DT[l[1]], mean(ship.data$BOS.MIMS[l]), c('Normal', 'Interp 2', 'Interp 1'),\n",
    "           col=flag.col[1:3], cex=0.7, lwd=4, bg='#00000010')\n",
    "    \n",
    "    \n",
    "    #########################\n",
    "    ## Plot Spatial Extent ##\n",
    "    #########################\n",
    "    plot.map(ship.data$LO[l], ship.data$LA[l], col=col)\n",
    "    points(x = rep(min(ship.data$LO[l]), 101), y = seq(min(ship.data$LA[l]), max(ship.data$LA[l]), length.out=101),\n",
    "           col=get.div.pal(100), pch=16)\n",
    "    text(min(ship.data$LO[l])+0.08, max(ship.data$LA[l]), 0.3)\n",
    "    text(min(ship.data$LO[l])+0.08, min(ship.data$LA[l])+0.02, -0.3)\n",
    "}\n",
    "\n",
    "dev.off()"
   ]
  },
  {
   "cell_type": "code",
   "execution_count": null,
   "metadata": {
    "scrolled": true
   },
   "outputs": [],
   "source": [
    "#pdf('Output/NCP Module - NCP Cycles Preliminary pt2.pdf')\n",
    "\n",
    "par(mfrow=c(2,2))\n",
    "\n",
    "for (i in unique(ship.data$Cycle)) {\n",
    "    l = which(ship.data$Cycle == i)\n",
    "    #l = l[ship.data$NCP[l] > -10000 & ship.data$NCP[l] < 10000]\n",
    "    \n",
    "    ## Set colors\n",
    "    col = make.div.pal(ship.data$k[l], 100)\n",
    "    flag.col = get.qual.pal(4)\n",
    "    \n",
    "    ######################\n",
    "    ## Plot Time series ##\n",
    "    ######################\n",
    "    plot(ship.data$DT[l], ship.data$EIMS.O2.Ar[l], main=i, pch=16, cex=1.2, lwd=2, ylab='O2:Ar', xlab='',\n",
    "        col=flag.col[ship.data$EIMS.O2.Ar.FLAG[l]])\n",
    "    add.daynight('#00000004')\n",
    "    \n",
    "    ## Add trendline and legend\n",
    "    mod = lowess(x = ship.data$DT[l], ship.data$EIMS.O2.Ar[l], f = 0.05)\n",
    "    lines(mod, col='#ff0000', lwd=1)\n",
    "    legend(ship.data$DT[l[1]], max(ship.data$EIMS.O2.Ar[l]), c('Normal', 'Interp 2', 'Interp 1'),\n",
    "           col=flag.col[1:3], cex=0.6, lwd=4, bg='#00000010')\n",
    "    \n",
    "    col = make.div.pal(ship.data$NCP.MIMS[l], 110)\n",
    "    \n",
    "     #########################\n",
    "    ## Plot Spatial Extent ##\n",
    "    #########################\n",
    "    plot.map(ship.data$LO[l], ship.data$LA[l], col=col)\n",
    "    points(x = rep(min(ship.data$LO[l]), 101), y = seq(min(ship.data$LA[l]), max(ship.data$LA[l]), length.out=101),\n",
    "           col=get.div.pal(100), pch=16)\n",
    "    text(min(ship.data$LO[l])+0.08, max(ship.data$LA[l]), floor(max(ship.data$NCP.MIMS[l])))\n",
    "    text(min(ship.data$LO[l])+0.08, min(ship.data$LA[l])+0.02, floor(min(ship.data$NCP.MIMS[l])))\n",
    "}\n",
    "\n",
    "dev.off()"
   ]
  },
  {
   "cell_type": "code",
   "execution_count": null,
   "metadata": {},
   "outputs": [],
   "source": [
    "#png('Output/NCP Module - Cycle Map.png')\n",
    "\n",
    "col = get.qual.pal(length(unique(ship.data$Cycle)))\n",
    "cols = sapply(ship.data$Cycle, function(x) {which(unique(ship.data$Cycle) == x)})\n",
    "\n",
    "plot.map(ship.data$LO, ship.data$LA, col=col[cols], pch=16, cex = 0.6)\n",
    "legend(-119, 37.5, c(unique(ship.data$Cycle)), col=col[unique(cols)], lwd=6, cex=0.7)\n",
    "\n",
    "#dev.off()"
   ]
  },
  {
   "cell_type": "code",
   "execution_count": null,
   "metadata": {},
   "outputs": [],
   "source": []
  }
 ],
 "metadata": {
  "anaconda-cloud": {},
  "kernelspec": {
   "display_name": "R",
   "language": "R",
   "name": "ir"
  },
  "language_info": {
   "codemirror_mode": "r",
   "file_extension": ".r",
   "mimetype": "text/x-r-source",
   "name": "R",
   "pygments_lexer": "r",
   "version": "3.4.2"
  },
  "toc": {
   "nav_menu": {},
   "number_sections": true,
   "sideBar": true,
   "skip_h1_title": false,
   "toc_cell": false,
   "toc_position": {},
   "toc_section_display": "block",
   "toc_window_display": false
  }
 },
 "nbformat": 4,
 "nbformat_minor": 2
}
