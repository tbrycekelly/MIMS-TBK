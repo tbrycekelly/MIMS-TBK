{
 "cells": [
  {
   "cell_type": "markdown",
   "metadata": {},
   "source": [
    "# CTD Module\n",
    "\n",
    "This module is the only module to ingest the CTD data files from the cruise. It is currently setup for a CTD downcast file and a CTD Log file but is easily adaptable for a single CTD data file. This module creates rdata structures for use with the other scripts in this suite."
   ]
  },
  {
   "cell_type": "code",
   "execution_count": null,
   "metadata": {},
   "outputs": [],
   "source": [
    "source('source.r')"
   ]
  },
  {
   "cell_type": "code",
   "execution_count": null,
   "metadata": {},
   "outputs": [],
   "source": [
    "## Downcast file\n",
    "ctd = read.xlsx('Raw Data/CTD/DataZoo - P1706 CTD Downcast Data.xlsx')\n",
    "ctd$Time = conv_excel_time(ctd$DateTime, tz = 'UTC')\n",
    "\n",
    "## CTD Log file\n",
    "ctd.log = read.xlsx('Raw Data/CTD/DataZoo - P1706 CTD Cast Log.xlsx', sheet='Data')\n",
    "ctd.log$time = conv_excel_time(ctd.log$DateTime, tz = 'GMT')\n",
    "\n",
    "## Check file structures and variaible types\n",
    "str(ctd)\n",
    "str(ctd.log)"
   ]
  },
  {
   "cell_type": "code",
   "execution_count": null,
   "metadata": {},
   "outputs": [],
   "source": [
    "## A function to take the log file position and add it to the downcast data.\n",
    "add.position = function(ctd, ctd.log) {\n",
    "    ctd$Lat = NA\n",
    "    ctd$Lon = NA\n",
    "    ctd$Type = NA\n",
    "    \n",
    "    rej = c()\n",
    "    for (i in 1:nrow(ctd)) {\n",
    "        l = which(ctd.log$EventNo == ctd$EventNo[i])\n",
    "\n",
    "        if (length(l) == 1) {\n",
    "            ctd$Lat[i] = ctd.log$Lat[l]\n",
    "            ctd$Lon[i] = ctd.log$Lon[l]\n",
    "            ctd$Type = ctd.log$Station.Type[l]\n",
    "        } else {\n",
    "            rej = c(rej, i)\n",
    "        }\n",
    "    }\n",
    "    print(paste0('Number of unmatched bins: ', length(rej)))\n",
    "    ctd\n",
    "}\n",
    "\n",
    "ctd = add.position(ctd, ctd.log)"
   ]
  },
  {
   "cell_type": "code",
   "execution_count": null,
   "metadata": {},
   "outputs": [],
   "source": [
    "save(ctd, file = 'RStates/CTD.all.rdata')"
   ]
  },
  {
   "cell_type": "markdown",
   "metadata": {},
   "source": [
    "---\n",
    "\n",
    "# Par and Transmission analysis"
   ]
  },
  {
   "cell_type": "code",
   "execution_count": null,
   "metadata": {
    "scrolled": false
   },
   "outputs": [],
   "source": [
    "pt.comparison.plot = function(cast){\n",
    "    l = which(ctd$Cast == cast)\n",
    "    \n",
    "    if (max(ctd$PAR[l], na.rm = TRUE) < 100) {\n",
    "        return()\n",
    "    }\n",
    "    PAR = ctd$PAR[l] / ctd$PAR[l[1]]\n",
    "    TRANS = cumprod(ctd$Trans[l]/100)\n",
    "    Depth = ctd$Pressure[l]\n",
    "    \n",
    "    plot(PAR, Depth, ylim=c(200, 0), yaxs='i', main=paste('Cast -', cast), pch=16, cex=0.6)\n",
    "    points(TRANS, Depth, col='blue', pch=16, cex=0.3)\n",
    "    \n",
    "    plot(PAR, TRANS^2)\n",
    "    lm.log = lm(TRANS^2 ~ PAR)\n",
    "    lines(PAR, predict(lm.log)[1:length(PAR)])\n",
    "}\n",
    "\n",
    "unique(ctd$Cast)"
   ]
  },
  {
   "cell_type": "code",
   "execution_count": null,
   "metadata": {
    "scrolled": false
   },
   "outputs": [],
   "source": [
    "pdf('Output/CTD - Transmission and PAR analysis.pdf')\n",
    "par(mfrow=c(2,2))\n",
    "\n",
    "for (i in unique(ctd$Cast)) {\n",
    "    pt.comparison.plot(i)\n",
    "}\n",
    "\n",
    "dev.off()"
   ]
  },
  {
   "cell_type": "code",
   "execution_count": null,
   "metadata": {},
   "outputs": [],
   "source": [
    "tchl.comparison.plot = function(cast){\n",
    "    l = which(ctd$Cast == cast & ctd$Pressure < 100)\n",
    "    \n",
    "    if (max(ctd$Fluor[l], na.rm = TRUE) < 1) {\n",
    "        return()\n",
    "    }\n",
    "    \n",
    "    CHL = ctd$Fluor[l] / max(ctd$Fluor[l], na.rm = TRUE)\n",
    "    TRANS = ctd$Trans[l]/100\n",
    "    Depth = ctd$Pressure[l]\n",
    "    \n",
    "    plot(CHL, Depth, ylim=c(200, 0), yaxs='i', main=paste('Cast -', cast), pch=16, cex=0.6, xlim=c(0,2))\n",
    "    points(TRANS, Depth, col='blue', pch=16, cex=0.3)\n",
    "    \n",
    "    plot(CHL, TRANS, col=make.div.pal(ctd$Pressure[l], n = 100), pch=16, ylim=c(0.8,1), xlim=c(0,1))\n",
    "    lm.log = lm(TRANS ~ CHL)\n",
    "    points(CHL, predict(lm.log)[1:length(CHL)], pch=16, cex=0.5, col='red')\n",
    "}\n",
    "\n",
    "unique(ctd$Cast)"
   ]
  },
  {
   "cell_type": "code",
   "execution_count": null,
   "metadata": {
    "scrolled": false
   },
   "outputs": [],
   "source": [
    "pdf('Output/CTD - Transmission and CHL analysis.pdf')\n",
    "\n",
    "par(mfrow=c(2,2))\n",
    "\n",
    "for (i in unique(ctd$Cast)) {\n",
    "    try(tchl.comparison.plot(i))\n",
    "}\n",
    "\n",
    "dev.off()"
   ]
  },
  {
   "cell_type": "markdown",
   "metadata": {},
   "source": [
    "## Plot Transmission Profiles"
   ]
  },
  {
   "cell_type": "code",
   "execution_count": null,
   "metadata": {
    "scrolled": false
   },
   "outputs": [],
   "source": [
    "par(mfrow=c(3,3))\n",
    "for (i in unique(ctd$Cast)) {\n",
    "    l = which(ctd$Cast == i)\n",
    "    plot(ctd$Trans[l], ctd$Depth[l], ylim=c(100,0), yaxs='i', xlab='Transmission', xlim=c(80,100), main=i, pch=16, cex=0.4)\n",
    "}"
   ]
  },
  {
   "cell_type": "code",
   "execution_count": null,
   "metadata": {},
   "outputs": [],
   "source": []
  }
 ],
 "metadata": {
  "kernelspec": {
   "display_name": "R",
   "language": "R",
   "name": "ir"
  },
  "language_info": {
   "codemirror_mode": "r",
   "file_extension": ".r",
   "mimetype": "text/x-r-source",
   "name": "R",
   "pygments_lexer": "r",
   "version": "3.4.2"
  }
 },
 "nbformat": 4,
 "nbformat_minor": 2
}
