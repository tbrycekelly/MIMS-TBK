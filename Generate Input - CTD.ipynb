{
 "cells": [
  {
   "cell_type": "code",
   "execution_count": 1,
   "metadata": {},
   "outputs": [
    {
     "name": "stdout",
     "output_type": "stream",
     "text": [
      "Packages Loaded:\n",
      "ncdf4 R.matlab openxlsx RColorBrewer compiler lattice geosphere readxl data.table rworldmap rworldxtra\n"
     ]
    },
    {
     "name": "stderr",
     "output_type": "stream",
     "text": [
      "Loading required package: ncdf4\n",
      "Loading required package: R.matlab\n",
      "Warning message:\n",
      "\"package 'R.matlab' was built under R version 3.4.3\"R.matlab v3.6.1 (2016-10-19) successfully loaded. See ?R.matlab for help.\n",
      "\n",
      "Attaching package: 'R.matlab'\n",
      "\n",
      "The following objects are masked from 'package:base':\n",
      "\n",
      "    getOption, isOpen\n",
      "\n",
      "Loading required package: openxlsx\n",
      "Warning message:\n",
      "\"package 'openxlsx' was built under R version 3.4.3\"Loading required package: RColorBrewer\n",
      "Loading required package: compiler\n",
      "Loading required package: lattice\n",
      "Warning message:\n",
      "\"package 'lattice' was built under R version 3.4.3\"Loading required package: geosphere\n",
      "Warning message:\n",
      "\"package 'geosphere' was built under R version 3.4.3\"Loading required package: readxl\n",
      "Loading required package: data.table\n",
      "Warning message:\n",
      "\"package 'data.table' was built under R version 3.4.3\"Loading required package: rworldmap\n",
      "Warning message:\n",
      "\"package 'rworldmap' was built under R version 3.4.3\"Loading required package: sp\n",
      "Warning message:\n",
      "\"package 'sp' was built under R version 3.4.3\"### Welcome to rworldmap ###\n",
      "For a short introduction type : \t vignette('rworldmap')\n",
      "Loading required package: rworldxtra\n",
      "Warning message:\n",
      "\"package 'rworldxtra' was built under R version 3.4.3\""
     ]
    }
   ],
   "source": [
    "source('source.r')"
   ]
  },
  {
   "cell_type": "code",
   "execution_count": 2,
   "metadata": {},
   "outputs": [
    {
     "name": "stdout",
     "output_type": "stream",
     "text": [
      "'data.frame':\t41780 obs. of  35 variables:\n",
      " $ Cruise          : chr  \"CCE-P1706\" \"CCE-P1706\" \"CCE-P1706\" \"CCE-P1706\" ...\n",
      " $ Cycle           : chr  \"Cycle0\" \"Cycle0\" \"Cycle0\" \"Cycle0\" ...\n",
      " $ EventNo         : num  3 3 3 3 3 3 3 3 3 3 ...\n",
      " $ Cast            : num  1 1 1 1 1 1 1 1 1 1 ...\n",
      " $ DateTime        : num  42888 42888 42888 42888 42888 ...\n",
      " $ Direction       : chr  \"down\" \"down\" \"down\" \"down\" ...\n",
      " $ Pressure        : num  2 3 4 5 6 7 8 9 10 11 ...\n",
      " $ Depth           : num  1.99 2.98 3.97 4.96 5.96 ...\n",
      " $ T090C           : num  16.9 16.8 16.9 16.9 16.8 ...\n",
      " $ T190C           : num  16.8 16.8 16.9 16.9 16.8 ...\n",
      " $ Cond1           : num  4.3 4.29 4.3 4.3 4.29 ...\n",
      " $ Cond2           : num  4.29 4.29 4.3 4.3 4.3 ...\n",
      " $ Sal00           : num  33.4 33.4 33.4 33.4 33.4 ...\n",
      " $ Sal11           : num  33.4 33.4 33.4 33.4 33.4 ...\n",
      " $ O2              : num  195 196 195 195 195 ...\n",
      " $ O2.Sat          : num  81 81.1 81 80.9 80.8 ...\n",
      " $ PAR.surface     : num  8632 8632 8632 8632 8632 ...\n",
      " $ PAR             : num  1292 1053 887 775 688 ...\n",
      " $ Par.percent     : num  0.1496 0.122 0.1028 0.0898 0.0797 ...\n",
      " $ Par.percent.FLAG: num  1 1 1 1 1 1 1 1 1 1 ...\n",
      " $ Fluor           : num  0.196 0.208 0.207 0.215 0.225 ...\n",
      " $ Trans           : num  94.2 94.4 94.5 94.7 94.7 ...\n",
      " $ Trans.atten     : num  0.24 0.231 0.227 0.217 0.218 ...\n",
      " $ ISUS.1          : num  0.436 0.518 0.571 0.553 0.427 ...\n",
      " $ ISUS.2          : num  NA NA NA NA NA NA NA NA NA NA ...\n",
      " $ Rinko.O2        : num  NA NA NA NA NA NA NA NA NA NA ...\n",
      " $ Rinko.T         : num  NA NA NA NA NA NA NA NA NA NA ...\n",
      " $ S.delta         : num  -0.0048 -0.0016 -0.0001 -0.0011 -0.0019 -0.0035 -0.012 0.0027 -0.0175 -0.0014 ...\n",
      " $ Sigma.00        : num  24.3 24.4 24.3 24.3 24.4 ...\n",
      " $ Sigma.11        : num  24.3 24.4 24.3 24.3 24.3 ...\n",
      " $ PT.0            : num  16.9 16.8 16.9 16.9 16.8 ...\n",
      " $ PT.1            : num  16.8 16.8 16.9 16.9 16.8 ...\n",
      " $ T.delta         : num  -0.0271 -0.0035 -0.0073 0.0007 0.017 -0.0024 0.0332 0.0133 -0.0433 -0.0038 ...\n",
      " $ C.delta         : num  -0.00314 -0.000517 -0.00071 -0.000061 0.001403 ...\n",
      " $ Time            : POSIXct, format: \"2017-06-01 17:16:19\" \"2017-06-01 17:16:19\" ...\n"
     ]
    }
   ],
   "source": [
    "ctd = read.xlsx('Raw Data/CTD/DataZoo - P1706 CTD Downcast Data.xlsx')\n",
    "ctd$Time = conv_excel_time(ctd$DateTime, tz = 'UTC')\n",
    "\n",
    "str(ctd)"
   ]
  },
  {
   "cell_type": "code",
   "execution_count": 3,
   "metadata": {},
   "outputs": [
    {
     "name": "stdout",
     "output_type": "stream",
     "text": [
      "'data.frame':\t90 obs. of  11 variables:\n",
      " $ Cruise      : chr  \"CCE-P1706\" \"CCE-P1706\" \"CCE-P1706\" \"CCE-P1706\" ...\n",
      " $ Cycle       : chr  \"Cycle0\" \"Cycle0\" \"Cycle0\" \"Transect1\" ...\n",
      " $ EventNo     : num  3 14 127 130 136 141 146 154 161 168 ...\n",
      " $ Cast        : num  1 2 3 4 5 6 7 8 9 10 ...\n",
      " $ Station.Type: chr  \"test\" \"test\" \"experimental\" \"transect\" ...\n",
      " $ DateTime    : num  42888 42889 42893 42894 42894 ...\n",
      " $ Lat         : num  33.1 34.3 33.9 34.9 34.9 ...\n",
      " $ Lon         : num  -118 -120 -122 -121 -121 ...\n",
      " $ Notes       : chr  \"SPAR off\" \"Santa Barbara Basin (Nuts are off at depth). no PAR sensor SPAR off\" \"no PAR sensor\" NA ...\n",
      " $ Actions     : chr  \"deleted SPAR values\" \"deleted SPAR values\" NA NA ...\n",
      " $ time        : POSIXct, format: \"2017-06-01 17:16:19\" \"2017-06-02 12:10:50\" ...\n"
     ]
    }
   ],
   "source": [
    "ctd.log = read.xlsx('Raw Data/CTD/DataZoo - P1706 CTD Cast Log.xlsx', sheet='Data')\n",
    "ctd.log$time = conv_excel_time(ctd.log$DateTime, tz = 'GMT')\n",
    "\n",
    "str(ctd.log)"
   ]
  },
  {
   "cell_type": "code",
   "execution_count": 4,
   "metadata": {},
   "outputs": [],
   "source": [
    "add.position = function(ctd, ctd.log) {\n",
    "    ctd$Lat = NA\n",
    "    ctd$Lon = NA\n",
    "    ctd$Type = NA\n",
    "    \n",
    "    rej = c()\n",
    "    for (i in 1:nrow(ctd)) {\n",
    "        l = which(ctd.log$EventNo == ctd$EventNo[i])\n",
    "\n",
    "        if (length(l) == 1) {\n",
    "            ctd$Lat[i] = ctd.log$Lat[l]\n",
    "            ctd$Lon[i] = ctd.log$Lon[l]\n",
    "            ctd$Type = ctd.log$Station.Type[l]\n",
    "        } else {\n",
    "            rej = c(rej, i)\n",
    "        }\n",
    "    }\n",
    "    print(paste0('Number of unmatched bins: ', length(rej)))\n",
    "    ctd\n",
    "}"
   ]
  },
  {
   "cell_type": "code",
   "execution_count": 5,
   "metadata": {},
   "outputs": [
    {
     "name": "stdout",
     "output_type": "stream",
     "text": [
      "[1] \"Number of unmatched bins: 3440\"\n"
     ]
    }
   ],
   "source": [
    "ctd = add.position(ctd, ctd.log)"
   ]
  },
  {
   "cell_type": "code",
   "execution_count": 15,
   "metadata": {},
   "outputs": [],
   "source": [
    "save(ctd, file = 'RStates/CTD.all.rdata')"
   ]
  },
  {
   "cell_type": "code",
   "execution_count": 16,
   "metadata": {},
   "outputs": [],
   "source": [
    "ctd = ctd[!is.na(ctd$Lat),]\n",
    "save(ctd, file = 'RStates/CTD.pos.rdata')"
   ]
  },
  {
   "cell_type": "code",
   "execution_count": 17,
   "metadata": {},
   "outputs": [
    {
     "data": {
      "text/html": [
       "38340"
      ],
      "text/latex": [
       "38340"
      ],
      "text/markdown": [
       "38340"
      ],
      "text/plain": [
       "[1] 38340"
      ]
     },
     "metadata": {},
     "output_type": "display_data"
    }
   ],
   "source": [
    "nrow(ctd)"
   ]
  },
  {
   "cell_type": "code",
   "execution_count": 24,
   "metadata": {},
   "outputs": [
    {
     "data": {
      "text/html": [
       "'down'"
      ],
      "text/latex": [
       "'down'"
      ],
      "text/markdown": [
       "'down'"
      ],
      "text/plain": [
       "[1] \"down\""
      ]
     },
     "metadata": {},
     "output_type": "display_data"
    }
   ],
   "source": [
    "ctd = "
   ]
  },
  {
   "cell_type": "markdown",
   "metadata": {},
   "source": [
    "---\n",
    "# Par and Transmission analysis"
   ]
  },
  {
   "cell_type": "code",
   "execution_count": 84,
   "metadata": {
    "scrolled": false
   },
   "outputs": [
    {
     "data": {
      "text/html": [
       "<ol class=list-inline>\n",
       "\t<li>1</li>\n",
       "\t<li>2</li>\n",
       "\t<li>3</li>\n",
       "\t<li>4</li>\n",
       "\t<li>5</li>\n",
       "\t<li>6</li>\n",
       "\t<li>7</li>\n",
       "\t<li>8</li>\n",
       "\t<li>9</li>\n",
       "\t<li>10</li>\n",
       "\t<li>11</li>\n",
       "\t<li>12</li>\n",
       "\t<li>13</li>\n",
       "\t<li>14</li>\n",
       "\t<li>15</li>\n",
       "\t<li>16</li>\n",
       "\t<li>17</li>\n",
       "\t<li>18</li>\n",
       "\t<li>19</li>\n",
       "\t<li>20</li>\n",
       "\t<li>21</li>\n",
       "\t<li>22</li>\n",
       "\t<li>23</li>\n",
       "\t<li>24</li>\n",
       "\t<li>25</li>\n",
       "\t<li>26</li>\n",
       "\t<li>27</li>\n",
       "\t<li>28</li>\n",
       "\t<li>29</li>\n",
       "\t<li>30</li>\n",
       "\t<li>31</li>\n",
       "\t<li>32</li>\n",
       "\t<li>33</li>\n",
       "\t<li>34</li>\n",
       "\t<li>35</li>\n",
       "\t<li>36</li>\n",
       "\t<li>37</li>\n",
       "\t<li>38</li>\n",
       "\t<li>39</li>\n",
       "\t<li>40</li>\n",
       "\t<li>41</li>\n",
       "\t<li>42</li>\n",
       "\t<li>43</li>\n",
       "\t<li>44</li>\n",
       "\t<li>45</li>\n",
       "\t<li>46</li>\n",
       "\t<li>47</li>\n",
       "\t<li>48</li>\n",
       "\t<li>49</li>\n",
       "\t<li>50</li>\n",
       "\t<li>51</li>\n",
       "\t<li>52</li>\n",
       "\t<li>53</li>\n",
       "\t<li>54</li>\n",
       "\t<li>55</li>\n",
       "\t<li>56</li>\n",
       "\t<li>57</li>\n",
       "\t<li>59</li>\n",
       "\t<li>60</li>\n",
       "\t<li>61</li>\n",
       "\t<li>62</li>\n",
       "\t<li>63</li>\n",
       "\t<li>64</li>\n",
       "\t<li>65</li>\n",
       "\t<li>66</li>\n",
       "\t<li>67</li>\n",
       "\t<li>68</li>\n",
       "\t<li>69</li>\n",
       "\t<li>70</li>\n",
       "\t<li>71</li>\n",
       "\t<li>72</li>\n",
       "\t<li>73</li>\n",
       "\t<li>74</li>\n",
       "\t<li>75</li>\n",
       "\t<li>76</li>\n",
       "\t<li>77</li>\n",
       "\t<li>78</li>\n",
       "\t<li>79</li>\n",
       "\t<li>80</li>\n",
       "\t<li>81</li>\n",
       "\t<li>82</li>\n",
       "\t<li>83</li>\n",
       "\t<li>84</li>\n",
       "</ol>\n"
      ],
      "text/latex": [
       "\\begin{enumerate*}\n",
       "\\item 1\n",
       "\\item 2\n",
       "\\item 3\n",
       "\\item 4\n",
       "\\item 5\n",
       "\\item 6\n",
       "\\item 7\n",
       "\\item 8\n",
       "\\item 9\n",
       "\\item 10\n",
       "\\item 11\n",
       "\\item 12\n",
       "\\item 13\n",
       "\\item 14\n",
       "\\item 15\n",
       "\\item 16\n",
       "\\item 17\n",
       "\\item 18\n",
       "\\item 19\n",
       "\\item 20\n",
       "\\item 21\n",
       "\\item 22\n",
       "\\item 23\n",
       "\\item 24\n",
       "\\item 25\n",
       "\\item 26\n",
       "\\item 27\n",
       "\\item 28\n",
       "\\item 29\n",
       "\\item 30\n",
       "\\item 31\n",
       "\\item 32\n",
       "\\item 33\n",
       "\\item 34\n",
       "\\item 35\n",
       "\\item 36\n",
       "\\item 37\n",
       "\\item 38\n",
       "\\item 39\n",
       "\\item 40\n",
       "\\item 41\n",
       "\\item 42\n",
       "\\item 43\n",
       "\\item 44\n",
       "\\item 45\n",
       "\\item 46\n",
       "\\item 47\n",
       "\\item 48\n",
       "\\item 49\n",
       "\\item 50\n",
       "\\item 51\n",
       "\\item 52\n",
       "\\item 53\n",
       "\\item 54\n",
       "\\item 55\n",
       "\\item 56\n",
       "\\item 57\n",
       "\\item 59\n",
       "\\item 60\n",
       "\\item 61\n",
       "\\item 62\n",
       "\\item 63\n",
       "\\item 64\n",
       "\\item 65\n",
       "\\item 66\n",
       "\\item 67\n",
       "\\item 68\n",
       "\\item 69\n",
       "\\item 70\n",
       "\\item 71\n",
       "\\item 72\n",
       "\\item 73\n",
       "\\item 74\n",
       "\\item 75\n",
       "\\item 76\n",
       "\\item 77\n",
       "\\item 78\n",
       "\\item 79\n",
       "\\item 80\n",
       "\\item 81\n",
       "\\item 82\n",
       "\\item 83\n",
       "\\item 84\n",
       "\\end{enumerate*}\n"
      ],
      "text/markdown": [
       "1. 1\n",
       "2. 2\n",
       "3. 3\n",
       "4. 4\n",
       "5. 5\n",
       "6. 6\n",
       "7. 7\n",
       "8. 8\n",
       "9. 9\n",
       "10. 10\n",
       "11. 11\n",
       "12. 12\n",
       "13. 13\n",
       "14. 14\n",
       "15. 15\n",
       "16. 16\n",
       "17. 17\n",
       "18. 18\n",
       "19. 19\n",
       "20. 20\n",
       "21. 21\n",
       "22. 22\n",
       "23. 23\n",
       "24. 24\n",
       "25. 25\n",
       "26. 26\n",
       "27. 27\n",
       "28. 28\n",
       "29. 29\n",
       "30. 30\n",
       "31. 31\n",
       "32. 32\n",
       "33. 33\n",
       "34. 34\n",
       "35. 35\n",
       "36. 36\n",
       "37. 37\n",
       "38. 38\n",
       "39. 39\n",
       "40. 40\n",
       "41. 41\n",
       "42. 42\n",
       "43. 43\n",
       "44. 44\n",
       "45. 45\n",
       "46. 46\n",
       "47. 47\n",
       "48. 48\n",
       "49. 49\n",
       "50. 50\n",
       "51. 51\n",
       "52. 52\n",
       "53. 53\n",
       "54. 54\n",
       "55. 55\n",
       "56. 56\n",
       "57. 57\n",
       "58. 59\n",
       "59. 60\n",
       "60. 61\n",
       "61. 62\n",
       "62. 63\n",
       "63. 64\n",
       "64. 65\n",
       "65. 66\n",
       "66. 67\n",
       "67. 68\n",
       "68. 69\n",
       "69. 70\n",
       "70. 71\n",
       "71. 72\n",
       "72. 73\n",
       "73. 74\n",
       "74. 75\n",
       "75. 76\n",
       "76. 77\n",
       "77. 78\n",
       "78. 79\n",
       "79. 80\n",
       "80. 81\n",
       "81. 82\n",
       "82. 83\n",
       "83. 84\n",
       "\n",
       "\n"
      ],
      "text/plain": [
       " [1]  1  2  3  4  5  6  7  8  9 10 11 12 13 14 15 16 17 18 19 20 21 22 23 24 25\n",
       "[26] 26 27 28 29 30 31 32 33 34 35 36 37 38 39 40 41 42 43 44 45 46 47 48 49 50\n",
       "[51] 51 52 53 54 55 56 57 59 60 61 62 63 64 65 66 67 68 69 70 71 72 73 74 75 76\n",
       "[76] 77 78 79 80 81 82 83 84"
      ]
     },
     "metadata": {},
     "output_type": "display_data"
    }
   ],
   "source": [
    "pt.comparison.plot = function(cast){\n",
    "    l = which(ctd$Cast == cast)\n",
    "    \n",
    "    if (max(ctd$PAR[l], na.rm = TRUE) < 100) {\n",
    "        return()\n",
    "    }\n",
    "    PAR = ctd$PAR[l] / ctd$PAR[l[1]]\n",
    "    TRANS = cumprod(ctd$Trans[l]/100)\n",
    "    Depth = ctd$Pressure[l]\n",
    "    \n",
    "    plot(PAR, Depth, ylim=c(200, 0), yaxs='i', main=paste('Cast -', cast), pch=16, cex=0.6)\n",
    "    points(TRANS, Depth, col='blue', pch=16, cex=0.3)\n",
    "    \n",
    "    plot(PAR, TRANS^2)\n",
    "    lm.log = lm(TRANS^2 ~ PAR)\n",
    "    lines(PAR, predict(lm.log)[1:length(PAR)])\n",
    "}\n",
    "\n",
    "unique(ctd$Cast)"
   ]
  },
  {
   "cell_type": "code",
   "execution_count": 122,
   "metadata": {
    "scrolled": false
   },
   "outputs": [
    {
     "name": "stderr",
     "output_type": "stream",
     "text": [
      "Warning message in max(ctd$PAR[l], na.rm = TRUE):\n",
      "\"no non-missing arguments to max; returning -Inf\"Warning message in max(ctd$PAR[l], na.rm = TRUE):\n",
      "\"no non-missing arguments to max; returning -Inf\"Warning message in max(ctd$PAR[l], na.rm = TRUE):\n",
      "\"no non-missing arguments to max; returning -Inf\"Warning message in max(ctd$PAR[l], na.rm = TRUE):\n",
      "\"no non-missing arguments to max; returning -Inf\"Warning message in max(ctd$PAR[l], na.rm = TRUE):\n",
      "\"no non-missing arguments to max; returning -Inf\"Warning message in max(ctd$PAR[l], na.rm = TRUE):\n",
      "\"no non-missing arguments to max; returning -Inf\"Warning message in max(ctd$PAR[l], na.rm = TRUE):\n",
      "\"no non-missing arguments to max; returning -Inf\"Warning message in max(ctd$PAR[l], na.rm = TRUE):\n",
      "\"no non-missing arguments to max; returning -Inf\"Warning message in max(ctd$PAR[l], na.rm = TRUE):\n",
      "\"no non-missing arguments to max; returning -Inf\"Warning message in max(ctd$PAR[l], na.rm = TRUE):\n",
      "\"no non-missing arguments to max; returning -Inf\"Warning message in max(ctd$PAR[l], na.rm = TRUE):\n",
      "\"no non-missing arguments to max; returning -Inf\"Warning message in max(ctd$PAR[l], na.rm = TRUE):\n",
      "\"no non-missing arguments to max; returning -Inf\"Warning message in max(ctd$PAR[l], na.rm = TRUE):\n",
      "\"no non-missing arguments to max; returning -Inf\"Warning message in max(ctd$PAR[l], na.rm = TRUE):\n",
      "\"no non-missing arguments to max; returning -Inf\"Warning message in max(ctd$PAR[l], na.rm = TRUE):\n",
      "\"no non-missing arguments to max; returning -Inf\"Warning message in max(ctd$PAR[l], na.rm = TRUE):\n",
      "\"no non-missing arguments to max; returning -Inf\"Warning message in max(ctd$PAR[l], na.rm = TRUE):\n",
      "\"no non-missing arguments to max; returning -Inf\"Warning message in max(ctd$PAR[l], na.rm = TRUE):\n",
      "\"no non-missing arguments to max; returning -Inf\""
     ]
    },
    {
     "data": {
      "text/html": [
       "<strong>png:</strong> 2"
      ],
      "text/latex": [
       "\\textbf{png:} 2"
      ],
      "text/markdown": [
       "**png:** 2"
      ],
      "text/plain": [
       "png \n",
       "  2 "
      ]
     },
     "metadata": {},
     "output_type": "display_data"
    }
   ],
   "source": [
    "pdf('Output/CTD - Transmission and PAR analysis.pdf')\n",
    "par(mfrow=c(2,2))\n",
    "\n",
    "for (i in unique(ctd$Cast)) {\n",
    "    pt.comparison.plot(i)\n",
    "}\n",
    "\n",
    "dev.off()"
   ]
  },
  {
   "cell_type": "code",
   "execution_count": 120,
   "metadata": {},
   "outputs": [
    {
     "data": {
      "text/html": [
       "<ol class=list-inline>\n",
       "\t<li>1</li>\n",
       "\t<li>2</li>\n",
       "\t<li>3</li>\n",
       "\t<li>4</li>\n",
       "\t<li>5</li>\n",
       "\t<li>6</li>\n",
       "\t<li>7</li>\n",
       "\t<li>8</li>\n",
       "\t<li>9</li>\n",
       "\t<li>10</li>\n",
       "\t<li>11</li>\n",
       "\t<li>12</li>\n",
       "\t<li>13</li>\n",
       "\t<li>14</li>\n",
       "\t<li>15</li>\n",
       "\t<li>16</li>\n",
       "\t<li>17</li>\n",
       "\t<li>18</li>\n",
       "\t<li>19</li>\n",
       "\t<li>20</li>\n",
       "\t<li>21</li>\n",
       "\t<li>22</li>\n",
       "\t<li>23</li>\n",
       "\t<li>24</li>\n",
       "\t<li>25</li>\n",
       "\t<li>26</li>\n",
       "\t<li>27</li>\n",
       "\t<li>28</li>\n",
       "\t<li>29</li>\n",
       "\t<li>30</li>\n",
       "\t<li>31</li>\n",
       "\t<li>32</li>\n",
       "\t<li>33</li>\n",
       "\t<li>34</li>\n",
       "\t<li>35</li>\n",
       "\t<li>36</li>\n",
       "\t<li>37</li>\n",
       "\t<li>38</li>\n",
       "\t<li>39</li>\n",
       "\t<li>40</li>\n",
       "\t<li>41</li>\n",
       "\t<li>42</li>\n",
       "\t<li>43</li>\n",
       "\t<li>44</li>\n",
       "\t<li>45</li>\n",
       "\t<li>46</li>\n",
       "\t<li>47</li>\n",
       "\t<li>48</li>\n",
       "\t<li>49</li>\n",
       "\t<li>50</li>\n",
       "\t<li>51</li>\n",
       "\t<li>52</li>\n",
       "\t<li>53</li>\n",
       "\t<li>54</li>\n",
       "\t<li>55</li>\n",
       "\t<li>56</li>\n",
       "\t<li>57</li>\n",
       "\t<li>59</li>\n",
       "\t<li>60</li>\n",
       "\t<li>61</li>\n",
       "\t<li>62</li>\n",
       "\t<li>63</li>\n",
       "\t<li>64</li>\n",
       "\t<li>65</li>\n",
       "\t<li>66</li>\n",
       "\t<li>67</li>\n",
       "\t<li>68</li>\n",
       "\t<li>69</li>\n",
       "\t<li>70</li>\n",
       "\t<li>71</li>\n",
       "\t<li>72</li>\n",
       "\t<li>73</li>\n",
       "\t<li>74</li>\n",
       "\t<li>75</li>\n",
       "\t<li>76</li>\n",
       "\t<li>77</li>\n",
       "\t<li>78</li>\n",
       "\t<li>79</li>\n",
       "\t<li>80</li>\n",
       "\t<li>81</li>\n",
       "\t<li>82</li>\n",
       "\t<li>83</li>\n",
       "\t<li>84</li>\n",
       "</ol>\n"
      ],
      "text/latex": [
       "\\begin{enumerate*}\n",
       "\\item 1\n",
       "\\item 2\n",
       "\\item 3\n",
       "\\item 4\n",
       "\\item 5\n",
       "\\item 6\n",
       "\\item 7\n",
       "\\item 8\n",
       "\\item 9\n",
       "\\item 10\n",
       "\\item 11\n",
       "\\item 12\n",
       "\\item 13\n",
       "\\item 14\n",
       "\\item 15\n",
       "\\item 16\n",
       "\\item 17\n",
       "\\item 18\n",
       "\\item 19\n",
       "\\item 20\n",
       "\\item 21\n",
       "\\item 22\n",
       "\\item 23\n",
       "\\item 24\n",
       "\\item 25\n",
       "\\item 26\n",
       "\\item 27\n",
       "\\item 28\n",
       "\\item 29\n",
       "\\item 30\n",
       "\\item 31\n",
       "\\item 32\n",
       "\\item 33\n",
       "\\item 34\n",
       "\\item 35\n",
       "\\item 36\n",
       "\\item 37\n",
       "\\item 38\n",
       "\\item 39\n",
       "\\item 40\n",
       "\\item 41\n",
       "\\item 42\n",
       "\\item 43\n",
       "\\item 44\n",
       "\\item 45\n",
       "\\item 46\n",
       "\\item 47\n",
       "\\item 48\n",
       "\\item 49\n",
       "\\item 50\n",
       "\\item 51\n",
       "\\item 52\n",
       "\\item 53\n",
       "\\item 54\n",
       "\\item 55\n",
       "\\item 56\n",
       "\\item 57\n",
       "\\item 59\n",
       "\\item 60\n",
       "\\item 61\n",
       "\\item 62\n",
       "\\item 63\n",
       "\\item 64\n",
       "\\item 65\n",
       "\\item 66\n",
       "\\item 67\n",
       "\\item 68\n",
       "\\item 69\n",
       "\\item 70\n",
       "\\item 71\n",
       "\\item 72\n",
       "\\item 73\n",
       "\\item 74\n",
       "\\item 75\n",
       "\\item 76\n",
       "\\item 77\n",
       "\\item 78\n",
       "\\item 79\n",
       "\\item 80\n",
       "\\item 81\n",
       "\\item 82\n",
       "\\item 83\n",
       "\\item 84\n",
       "\\end{enumerate*}\n"
      ],
      "text/markdown": [
       "1. 1\n",
       "2. 2\n",
       "3. 3\n",
       "4. 4\n",
       "5. 5\n",
       "6. 6\n",
       "7. 7\n",
       "8. 8\n",
       "9. 9\n",
       "10. 10\n",
       "11. 11\n",
       "12. 12\n",
       "13. 13\n",
       "14. 14\n",
       "15. 15\n",
       "16. 16\n",
       "17. 17\n",
       "18. 18\n",
       "19. 19\n",
       "20. 20\n",
       "21. 21\n",
       "22. 22\n",
       "23. 23\n",
       "24. 24\n",
       "25. 25\n",
       "26. 26\n",
       "27. 27\n",
       "28. 28\n",
       "29. 29\n",
       "30. 30\n",
       "31. 31\n",
       "32. 32\n",
       "33. 33\n",
       "34. 34\n",
       "35. 35\n",
       "36. 36\n",
       "37. 37\n",
       "38. 38\n",
       "39. 39\n",
       "40. 40\n",
       "41. 41\n",
       "42. 42\n",
       "43. 43\n",
       "44. 44\n",
       "45. 45\n",
       "46. 46\n",
       "47. 47\n",
       "48. 48\n",
       "49. 49\n",
       "50. 50\n",
       "51. 51\n",
       "52. 52\n",
       "53. 53\n",
       "54. 54\n",
       "55. 55\n",
       "56. 56\n",
       "57. 57\n",
       "58. 59\n",
       "59. 60\n",
       "60. 61\n",
       "61. 62\n",
       "62. 63\n",
       "63. 64\n",
       "64. 65\n",
       "65. 66\n",
       "66. 67\n",
       "67. 68\n",
       "68. 69\n",
       "69. 70\n",
       "70. 71\n",
       "71. 72\n",
       "72. 73\n",
       "73. 74\n",
       "74. 75\n",
       "75. 76\n",
       "76. 77\n",
       "77. 78\n",
       "78. 79\n",
       "79. 80\n",
       "80. 81\n",
       "81. 82\n",
       "82. 83\n",
       "83. 84\n",
       "\n",
       "\n"
      ],
      "text/plain": [
       " [1]  1  2  3  4  5  6  7  8  9 10 11 12 13 14 15 16 17 18 19 20 21 22 23 24 25\n",
       "[26] 26 27 28 29 30 31 32 33 34 35 36 37 38 39 40 41 42 43 44 45 46 47 48 49 50\n",
       "[51] 51 52 53 54 55 56 57 59 60 61 62 63 64 65 66 67 68 69 70 71 72 73 74 75 76\n",
       "[76] 77 78 79 80 81 82 83 84"
      ]
     },
     "metadata": {},
     "output_type": "display_data"
    }
   ],
   "source": [
    "tchl.comparison.plot = function(cast){\n",
    "    l = which(ctd$Cast == cast & ctd$Pressure < 100)\n",
    "    \n",
    "    if (max(ctd$Fluor[l], na.rm = TRUE) < 1) {\n",
    "        return()\n",
    "    }\n",
    "    \n",
    "    CHL = ctd$Fluor[l] / max(ctd$Fluor[l], na.rm = TRUE)\n",
    "    TRANS = ctd$Trans[l]/100\n",
    "    Depth = ctd$Pressure[l]\n",
    "    \n",
    "    plot(CHL, Depth, ylim=c(200, 0), yaxs='i', main=paste('Cast -', cast), pch=16, cex=0.6, xlim=c(0,2))\n",
    "    points(TRANS, Depth, col='blue', pch=16, cex=0.3)\n",
    "    \n",
    "    plot(CHL, TRANS, col=make.div.pal(ctd$Pressure[l], n = 100), pch=16, ylim=c(0.8,1), xlim=c(0,1))\n",
    "    lm.log = lm(TRANS ~ CHL)\n",
    "    points(CHL, predict(lm.log)[1:length(CHL)], pch=16, cex=0.5, col='red')\n",
    "}\n",
    "\n",
    "unique(ctd$Cast)"
   ]
  },
  {
   "cell_type": "code",
   "execution_count": 123,
   "metadata": {
    "scrolled": false
   },
   "outputs": [
    {
     "name": "stderr",
     "output_type": "stream",
     "text": [
      "Warning message in max(ctd$Fluor[l], na.rm = TRUE):\n",
      "\"no non-missing arguments to max; returning -Inf\"Warning message in max(ctd$Fluor[l], na.rm = TRUE):\n",
      "\"no non-missing arguments to max; returning -Inf\""
     ]
    },
    {
     "data": {
      "text/html": [
       "<strong>png:</strong> 2"
      ],
      "text/latex": [
       "\\textbf{png:} 2"
      ],
      "text/markdown": [
       "**png:** 2"
      ],
      "text/plain": [
       "png \n",
       "  2 "
      ]
     },
     "metadata": {},
     "output_type": "display_data"
    }
   ],
   "source": [
    "pdf('Output/CTD - Transmission and CHL analysis.pdf')\n",
    "\n",
    "par(mfrow=c(2,2))\n",
    "\n",
    "for (i in unique(ctd$Cast)) {\n",
    "    try(tchl.comparison.plot(i))\n",
    "}\n",
    "\n",
    "dev.off()"
   ]
  },
  {
   "cell_type": "markdown",
   "metadata": {},
   "source": [
    "## Plot Transmission Profiles"
   ]
  },
  {
   "cell_type": "code",
   "execution_count": 13,
   "metadata": {
    "scrolled": false
   },
   "outputs": [
    {
     "data": {
      "image/png": "[encoded data removed]",
      "text/plain": [
       "Plot with title \"9\""
      ]
     },
     "metadata": {},
     "output_type": "display_data"
    },
    {
     "data": {
      "image/png": "[encoded data removed]",
      "text/plain": [
       "Plot with title \"18\""
      ]
     },
     "metadata": {},
     "output_type": "display_data"
    },
    {
     "data": {
      "image/png": "[encoded data removed]",
      "text/plain": [
       "Plot with title \"27\""
      ]
     },
     "metadata": {},
     "output_type": "display_data"
    },
    {
     "data": {
      "image/png": "[encoded data removed]",
      "text/plain": [
       "Plot with title \"36\""
      ]
     },
     "metadata": {},
     "output_type": "display_data"
    },
    {
     "data": {
      "image/png": "[encoded data removed]",
      "text/plain": [
       "Plot with title \"45\""
      ]
     },
     "metadata": {},
     "output_type": "display_data"
    },
    {
     "data": {
      "image/png": "[encoded data removed]",
      "text/plain": [
       "Plot with title \"54\""
      ]
     },
     "metadata": {},
     "output_type": "display_data"
    },
    {
     "data": {
      "image/png": "[encoded data removed]",
      "text/plain": [
       "Plot with title \"63\""
      ]
     },
     "metadata": {},
     "output_type": "display_data"
    },
    {
     "data": {
      "image/png": "[encoded data removed]",
      "text/plain": [
       "Plot with title \"72\""
      ]
     },
     "metadata": {},
     "output_type": "display_data"
    },
    {
     "data": {
      "image/png": "[encoded data removed]",
      "text/plain": [
       "Plot with title \"81\""
      ]
     },
     "metadata": {},
     "output_type": "display_data"
    },
    {
     "data": {
      "image/png": "[encoded data removed]",
      "text/plain": [
       "Plot with title \"90\""
      ]
     },
     "metadata": {},
     "output_type": "display_data"
    }
   ],
   "source": [
    "par(mfrow=c(3,3))\n",
    "for (i in unique(ctd$Cast)) {\n",
    "    l = which(ctd$Cast == i)\n",
    "    plot(ctd$Trans[l], ctd$Depth[l], ylim=c(100,0), yaxs='i', xlab='Transmission', xlim=c(80,100), main=i, pch=16, cex=0.4)\n",
    "}"
   ]
  },
  {
   "cell_type": "code",
   "execution_count": null,
   "metadata": {},
   "outputs": [],
   "source": []
  }
 ],
 "metadata": {
  "kernelspec": {
   "display_name": "R",
   "language": "R",
   "name": "ir"
  },
  "language_info": {
   "codemirror_mode": "r",
   "file_extension": ".r",
   "mimetype": "text/x-r-source",
   "name": "R",
   "pygments_lexer": "r",
   "version": "3.4.2"
  }
 },
 "nbformat": 4,
 "nbformat_minor": 2
}
