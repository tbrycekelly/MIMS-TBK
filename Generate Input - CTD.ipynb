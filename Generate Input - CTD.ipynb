{
 "cells": [
  {
   "cell_type": "code",
   "execution_count": 10,
   "metadata": {},
   "outputs": [
    {
     "name": "stdout",
     "output_type": "stream",
     "text": [
      "Packages Loaded:\n",
      "ncdf4 R.matlab openxlsx RColorBrewer compiler lattice geosphere readxl data.table rworldmap rworldxtra\n"
     ]
    }
   ],
   "source": [
    "source('source.r')"
   ]
  },
  {
   "cell_type": "code",
   "execution_count": 11,
   "metadata": {},
   "outputs": [
    {
     "name": "stdout",
     "output_type": "stream",
     "text": [
      "'data.frame':\t41780 obs. of  35 variables:\n",
      " $ Cruise          : chr  \"CCE-P1706\" \"CCE-P1706\" \"CCE-P1706\" \"CCE-P1706\" ...\n",
      " $ Cycle           : chr  \"Cycle0\" \"Cycle0\" \"Cycle0\" \"Cycle0\" ...\n",
      " $ EventNo         : num  3 3 3 3 3 3 3 3 3 3 ...\n",
      " $ Cast            : num  1 1 1 1 1 1 1 1 1 1 ...\n",
      " $ DateTime        : num  42888 42888 42888 42888 42888 ...\n",
      " $ Direction       : chr  \"down\" \"down\" \"down\" \"down\" ...\n",
      " $ Pressure        : num  2 3 4 5 6 7 8 9 10 11 ...\n",
      " $ Depth           : num  1.99 2.98 3.97 4.96 5.96 ...\n",
      " $ T090C           : num  16.9 16.8 16.9 16.9 16.8 ...\n",
      " $ T190C           : num  16.8 16.8 16.9 16.9 16.8 ...\n",
      " $ Cond1           : num  4.3 4.29 4.3 4.3 4.29 ...\n",
      " $ Cond2           : num  4.29 4.29 4.3 4.3 4.3 ...\n",
      " $ Sal00           : num  33.4 33.4 33.4 33.4 33.4 ...\n",
      " $ Sal11           : num  33.4 33.4 33.4 33.4 33.4 ...\n",
      " $ O2              : num  195 196 195 195 195 ...\n",
      " $ O2.Sat          : num  81 81.1 81 80.9 80.8 ...\n",
      " $ PAR.surface     : num  8632 8632 8632 8632 8632 ...\n",
      " $ PAR             : num  1292 1053 887 775 688 ...\n",
      " $ Par.percent     : num  0.1496 0.122 0.1028 0.0898 0.0797 ...\n",
      " $ Par.percent.FLAG: num  1 1 1 1 1 1 1 1 1 1 ...\n",
      " $ Fluor           : num  0.196 0.208 0.207 0.215 0.225 ...\n",
      " $ Trans           : num  94.2 94.4 94.5 94.7 94.7 ...\n",
      " $ Trans.atten     : num  0.24 0.231 0.227 0.217 0.218 ...\n",
      " $ ISUS.1          : num  0.436 0.518 0.571 0.553 0.427 ...\n",
      " $ ISUS.2          : num  NA NA NA NA NA NA NA NA NA NA ...\n",
      " $ Rinko.O2        : num  NA NA NA NA NA NA NA NA NA NA ...\n",
      " $ Rinko.T         : num  NA NA NA NA NA NA NA NA NA NA ...\n",
      " $ S.delta         : num  -0.0048 -0.0016 -0.0001 -0.0011 -0.0019 -0.0035 -0.012 0.0027 -0.0175 -0.0014 ...\n",
      " $ Sigma.00        : num  24.3 24.4 24.3 24.3 24.4 ...\n",
      " $ Sigma.11        : num  24.3 24.4 24.3 24.3 24.3 ...\n",
      " $ PT.0            : num  16.9 16.8 16.9 16.9 16.8 ...\n",
      " $ PT.1            : num  16.8 16.8 16.9 16.9 16.8 ...\n",
      " $ T.delta         : num  -0.0271 -0.0035 -0.0073 0.0007 0.017 -0.0024 0.0332 0.0133 -0.0433 -0.0038 ...\n",
      " $ C.delta         : num  -0.00314 -0.000517 -0.00071 -0.000061 0.001403 ...\n",
      " $ Time            : POSIXct, format: \"2017-06-01 17:16:19\" \"2017-06-01 17:16:19\" ...\n"
     ]
    }
   ],
   "source": [
    "ctd = read.xlsx('Raw Data/CTD/DataZoo - P1706 CTD Downcast Data.xlsx')\n",
    "ctd$Time = conv_excel_time(ctd$DateTime, tz = 'UTC')\n",
    "\n",
    "str(ctd)"
   ]
  },
  {
   "cell_type": "code",
   "execution_count": 12,
   "metadata": {},
   "outputs": [
    {
     "name": "stdout",
     "output_type": "stream",
     "text": [
      "'data.frame':\t90 obs. of  11 variables:\n",
      " $ Cruise      : chr  \"CCE-P1706\" \"CCE-P1706\" \"CCE-P1706\" \"CCE-P1706\" ...\n",
      " $ Cycle       : chr  \"Cycle0\" \"Cycle0\" \"Cycle0\" \"Transect1\" ...\n",
      " $ EventNo     : num  3 14 127 130 136 141 146 154 161 168 ...\n",
      " $ Cast        : num  1 2 3 4 5 6 7 8 9 10 ...\n",
      " $ Station.Type: chr  \"test\" \"test\" \"experimental\" \"transect\" ...\n",
      " $ DateTime    : num  42888 42889 42893 42894 42894 ...\n",
      " $ Lat         : num  33.1 34.3 33.9 34.9 34.9 ...\n",
      " $ Lon         : num  -118 -120 -122 -121 -121 ...\n",
      " $ Notes       : chr  \"SPAR off\" \"Santa Barbara Basin (Nuts are off at depth). no PAR sensor SPAR off\" \"no PAR sensor\" NA ...\n",
      " $ Actions     : chr  \"deleted SPAR values\" \"deleted SPAR values\" NA NA ...\n",
      " $ time        : POSIXct, format: \"2017-06-01 17:16:19\" \"2017-06-02 12:10:50\" ...\n"
     ]
    }
   ],
   "source": [
    "ctd.log = read.xlsx('Raw Data/CTD/DataZoo - P1706 CTD Cast Log.xlsx', sheet='Data')\n",
    "ctd.log$time = conv_excel_time(ctd.log$DateTime, tz = 'GMT')\n",
    "\n",
    "str(ctd.log)"
   ]
  },
  {
   "cell_type": "code",
   "execution_count": 13,
   "metadata": {},
   "outputs": [],
   "source": [
    "add.position = function(ctd, ctd.log) {\n",
    "    ctd$Lat = NA\n",
    "    ctd$Lon = NA\n",
    "    ctd$Type = NA\n",
    "    \n",
    "    rej = c()\n",
    "    for (i in 1:nrow(ctd)) {\n",
    "        l = which(ctd.log$EventNo == ctd$EventNo[i])\n",
    "\n",
    "        if (length(l) == 1) {\n",
    "            ctd$Lat[i] = ctd.log$Lat[l]\n",
    "            ctd$Lon[i] = ctd.log$Lon[l]\n",
    "            ctd$Type = ctd.log$Station.Type[l]\n",
    "        } else {\n",
    "            rej = c(rej, i)\n",
    "        }\n",
    "    }\n",
    "    print(paste0('Number of unmatched bins: ', length(rej)))\n",
    "    ctd\n",
    "}"
   ]
  },
  {
   "cell_type": "code",
   "execution_count": 14,
   "metadata": {},
   "outputs": [
    {
     "name": "stdout",
     "output_type": "stream",
     "text": [
      "[1] \"Number of unmatched bins: 3440\"\n"
     ]
    }
   ],
   "source": [
    "ctd = add.position(ctd, ctd.log)"
   ]
  },
  {
   "cell_type": "code",
   "execution_count": 15,
   "metadata": {},
   "outputs": [],
   "source": [
    "save(ctd, file = 'RStates/CTD.all.rdata')"
   ]
  },
  {
   "cell_type": "code",
   "execution_count": 16,
   "metadata": {},
   "outputs": [],
   "source": [
    "ctd = ctd[!is.na(ctd$Lat),]\n",
    "save(ctd, file = 'RStates/CTD.pos.rdata')"
   ]
  },
  {
   "cell_type": "code",
   "execution_count": 17,
   "metadata": {},
   "outputs": [
    {
     "data": {
      "text/html": [
       "38340"
      ],
      "text/latex": [
       "38340"
      ],
      "text/markdown": [
       "38340"
      ],
      "text/plain": [
       "[1] 38340"
      ]
     },
     "metadata": {},
     "output_type": "display_data"
    }
   ],
   "source": [
    "nrow(ctd)"
   ]
  },
  {
   "cell_type": "code",
   "execution_count": 23,
   "metadata": {},
   "outputs": [
    {
     "data": {
      "image/png": "[encoded data removed]",
      "text/plain": [
       "Plot with title \"density.default(x = ctd$PAR.surface[!is.na(ctd$PAR.surface)])\""
      ]
     },
     "metadata": {},
     "output_type": "display_data"
    }
   ],
   "source": [
    "plot(density(ctd$PAR.surface[!is.na(ctd$PAR.surface)]))"
   ]
  },
  {
   "cell_type": "code",
   "execution_count": null,
   "metadata": {},
   "outputs": [],
   "source": []
  }
 ],
 "metadata": {
  "kernelspec": {
   "display_name": "R",
   "language": "R",
   "name": "ir"
  },
  "language_info": {
   "codemirror_mode": "r",
   "file_extension": ".r",
   "mimetype": "text/x-r-source",
   "name": "R",
   "pygments_lexer": "r",
   "version": "3.4.2"
  }
 },
 "nbformat": 4,
 "nbformat_minor": 2
}
