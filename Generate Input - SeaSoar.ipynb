{
 "cells": [
  {
   "cell_type": "markdown",
   "metadata": {},
   "source": [
    "# SeaSoar Processing\n",
    "\n",
    "1. Load data\n",
    "2. Identify upcasts and downcasts\n",
    "3. Flag spurious pressure/data points by moving median filter\n",
    "4. Bin sensor data to regular pressures\n",
    "5. Flag outliers in signals"
   ]
  },
  {
   "cell_type": "code",
   "execution_count": null,
   "metadata": {
    "ExecuteTime": {
     "end_time": "2018-02-05T19:50:00.423822Z",
     "start_time": "2018-02-05T19:49:58.664Z"
    },
    "cell_style": "center"
   },
   "outputs": [],
   "source": [
    "source('source.r')"
   ]
  },
  {
   "cell_type": "code",
   "execution_count": 13,
   "metadata": {
    "ExecuteTime": {
     "end_time": "2018-02-05T19:50:00.928488Z",
     "start_time": "2018-02-05T19:50:00.812Z"
    },
    "cell_style": "center"
   },
   "outputs": [
    {
     "data": {
      "text/html": [
       "46"
      ],
      "text/latex": [
       "46"
      ],
      "text/markdown": [
       "46"
      ],
      "text/plain": [
       "[1] 46"
      ]
     },
     "metadata": {},
     "output_type": "display_data"
    }
   ],
   "source": [
    "input.dir = '../../Models/SeaSoar/SeaSoar2/'\n",
    "\n",
    "files = list.files(input.dir)\n",
    "files = files[grepl('.mat', files)]\n",
    "files = files[!grepl('.rdata', files)]\n",
    "length(files)"
   ]
  },
  {
   "cell_type": "code",
   "execution_count": 30,
   "metadata": {
    "ExecuteTime": {
     "end_time": "2018-02-05T19:50:07.324717Z",
     "start_time": "2018-02-05T19:50:07.142Z"
    }
   },
   "outputs": [],
   "source": [
    "get.data = function(input.dir, file) {\n",
    "    data = readMat(paste0(input.dir, file), fixNames = TRUE)\n",
    "    names = unlist(dimnames(data$data)[1])\n",
    "\n",
    "    ## Partition up datea\n",
    "    eng = as.data.frame(data$data[2:12])\n",
    "    sensor = as.data.frame(data$data[13:36])\n",
    "    colnames(sensor) = names[13:36]\n",
    "    colnames(eng) = names[2:12]\n",
    "    \n",
    "    sensor$time = seq(from = eng$time[1], by = 1/24, length.out = nrow(sensor))\n",
    "    \n",
    "    return(list(eng = eng, sensor = sensor))\n",
    "}\n",
    "\n",
    "#### Flag Outliers in pressure\n",
    "flag.p.outliers = function(data, dp = 0.5, verbose = TRUE, window = 25) {\n",
    "    l = which(abs(data$sensor$p - runmed(data$sensor$p, window)) > dp)\n",
    "    \n",
    "    data$sensor$p.FLAG = 1 # keep\n",
    "    data$sensor$p.FLAG[l] = 3 # reject\n",
    "    \n",
    "    if (verbose) {\n",
    "        n = length(l)\n",
    "        perc = floor(length(l) / nrow(data$sensor)*1000)/10\n",
    "        \n",
    "        print(paste0('Flagging identified ', n, ' (', perc, '%) outliers.'))\n",
    "    }\n",
    "    data\n",
    "}\n",
    "\n",
    "#### Bin Data by pressure and time\n",
    "bin.pt = function(data, dp = 1, secs = 10) {\n",
    "    i = 1\n",
    "    while (i < nrow(data$sensor)) {\n",
    "        l = which(abs(data$sensor$p - data$sensor$p[i]) + abs(data$sensor$time - data$sensor$time[i]) / secs < dp / 2 &\n",
    "                 data$sensor$p.FLAG == 1)\n",
    "        temp = apply(data$sensor[l,], 2, function(x) {mean(x, na.rm = TRUE)})\n",
    "        \n",
    "        if (length(l) > 1) {\n",
    "            data$sensor[i,] = temp\n",
    "            l = l[l != i]\n",
    "            \n",
    "            data$sensor = data$sensor[-l,]\n",
    "        }\n",
    "        i = i + 1\n",
    "    }\n",
    "    \n",
    "    data\n",
    "}\n",
    "\n",
    "#### Bin Data by pressure\n",
    "bin.p = function(data, dp = 1) {\n",
    "    data$sensor$p = floor((data$sensor$p + 0.5) / dp)\n",
    "    data$sensor$n.bin = 1\n",
    "    \n",
    "    i = 1\n",
    "    while (i < nrow(data$sensor)) {\n",
    "        delta.p = abs(diff(data$sensor$p))\n",
    "        \n",
    "        ## Find entries to average across\n",
    "        l = which(cumsum(delta.p[i:length(delta.p)]) == 0)\n",
    "        \n",
    "        ## Remove unreliable values\n",
    "        l = l[data$sensor$p.FLAG[l+i-1] == 1]\n",
    "        temp = as.numeric(apply(data$sensor[l+i-1,], 2, function(x) {mean(x, na.rm = TRUE)}))\n",
    "        \n",
    "        ##\n",
    "        ## Update values and some housekepping\n",
    "        ##\n",
    "        l = l + i - 1 ## Remap to full vector length\n",
    "        if (length(l) > 1 & length(temp) == ncol(data$sensor)) { ## Need to update values\n",
    "            data$sensor[l,] = temp\n",
    "            data$sensor$n.bin[i] = length(l)\n",
    "            \n",
    "            l = l[l != i]\n",
    "            data$sensor = data$sensor[-l,] ## Remove other values\n",
    "            delta.p = delta.p[-l]\n",
    "        }\n",
    "        i = i + 1\n",
    "    }\n",
    "    ## Finalize and return averaged data\n",
    "    data$sensor$p = data$sensor$p * dp\n",
    "    data\n",
    "}"
   ]
  },
  {
   "cell_type": "code",
   "execution_count": null,
   "metadata": {
    "ExecuteTime": {
     "end_time": "2018-02-05T19:50:51.534380Z",
     "start_time": "2018-02-05T19:50:51.510Z"
    }
   },
   "outputs": [],
   "source": [
    "check.bin = function(data, l = c(0000:135000)) {\n",
    "    plot(data$sensor$time[l], data$sensor$p[l], type='l', ylab='Pressure', xlab='Time', ylim=c(100,0), yaxs='i')\n",
    "    points(bin.data$sensor$time, bin.data$sensor$p, pch=4, cex=1.5, col='blue')\n",
    "}"
   ]
  },
  {
   "cell_type": "code",
   "execution_count": 28,
   "metadata": {
    "ExecuteTime": {
     "end_time": "2018-02-05T19:50:59.746394Z",
     "start_time": "2018-02-05T19:50:59.718Z"
    }
   },
   "outputs": [],
   "source": [
    "preprocess.files = function(input.dir, files, verbose = FALSE) {\n",
    "    for (f in 1:length(files)) {\n",
    "        if (verbose) {\n",
    "            print(paste0('Starting file: ', files[f], ' (', f, ' of ', length(files), ')'))\n",
    "        }\n",
    "        \n",
    "        data = get.data(input.dir, files[f])\n",
    "        data = flag.p.outliers(data)\n",
    "        n.before = nrow(data$sensor)\n",
    "        \n",
    "        if (verbose) {print('Binning the data.')}\n",
    "        data = bin.p(data)\n",
    "        \n",
    "        if (verbose) {print('Checkpoint Saved.')}\n",
    "        if (verbose) {print('')}\n",
    "        \n",
    "        save(data, file = paste0('RStates/SeaSoar/Seasoar2-pbinned-', files[f], '.rdata'))\n",
    "        \n",
    "        if (verbose) {\n",
    "            print(paste0('Number of Sensor Records before binning: ', n.before))\n",
    "            print(paste0('Number of Sensor Records after binning: ', nrow(data$sensor)))\n",
    "            print(paste0('(', floor(nrow(data$sensor)/n.before * 1000) / 10, '%)'))\n",
    "        }\n",
    "        print('')\n",
    "    }\n",
    "}\n",
    "\n",
    "load.rstate = function(input.dir, files, verbose = TRUE) {\n",
    "    compiled.data = NULL\n",
    "    \n",
    "    for (f in 1:length(files)) {\n",
    "        if (verbose) {print(paste0('Starting file: ', files[f], ' (', f, ' of ', length(files), ')'))}\n",
    "        load(file = paste0('RStates/SeaSoar/Seasoar2-pbinned-', files[f], '.rdata'))\n",
    "        \n",
    "        if (is.null(compiled.data)) {\n",
    "            compiled.data = data\n",
    "        } else {\n",
    "            compiled.data$sensor = rbind(compiled.data$sensor, data$sensor)\n",
    "            compiled.data$eng = rbind(compiled.data$eng, data$eng)\n",
    "        }\n",
    "        print(nrow(data$sensor))\n",
    "    }\n",
    "    compiled.data\n",
    "}"
   ]
  },
  {
   "cell_type": "code",
   "execution_count": null,
   "metadata": {
    "ExecuteTime": {
     "end_time": "2018-01-31T21:16:34.245848Z",
     "start_time": "2018-01-30T21:56:10.483Z"
    }
   },
   "outputs": [],
   "source": [
    "preprocess.files(input.dir, files[1], verbose = TRUE)"
   ]
  },
  {
   "cell_type": "code",
   "execution_count": null,
   "metadata": {
    "scrolled": true
   },
   "outputs": [],
   "source": [
    "data = load.rstate(input.dir, files[1])"
   ]
  },
  {
   "cell_type": "code",
   "execution_count": 11,
   "metadata": {},
   "outputs": [],
   "source": [
    "conv.time = function(x, tz = 'UTC') {\n",
    "    as.POSIXct(x, origin=\"1970-01-01\", tz = tz)\n",
    "}\n",
    "\n",
    "add.times = function(data, tz = 'UTC') {\n",
    "    data$sensor$time.real = as.POSIXct(data$sensor$time, origin=\"1970-01-01\", tz = tz)\n",
    "    data$eng$time.real = as.POSIXct(data$eng$time, origin=\"1970-01-01\", tz = tz)\n",
    "    \n",
    "    data\n",
    "}"
   ]
  },
  {
   "cell_type": "code",
   "execution_count": 15,
   "metadata": {},
   "outputs": [
    {
     "name": "stdout",
     "output_type": "stream",
     "text": [
      "List of 2\n",
      " $ eng   :'data.frame':\t294146 obs. of  11 variables:\n",
      "  ..$ lat        : num [1:294146] 33.5 33.5 33.5 33.5 33.5 ...\n",
      "  ..$ lon        : num [1:294146] -123 -123 -123 -123 -123 ...\n",
      "  ..$ time       : num [1:294146] 1.5e+09 1.5e+09 1.5e+09 1.5e+09 1.5e+09 ...\n",
      "  ..$ cog        : num [1:294146] 342 340 339 338 338 ...\n",
      "  ..$ sog        : num [1:294146] 1.6 1.5 1.5 1.5 1.7 1.7 1.8 1.7 1.6 1.5 ...\n",
      "  ..$ heading    : num [1:294146] 345 345 345 345 345 ...\n",
      "  ..$ sow        : num [1:294146] -99 -99 -99 -99 -99 -99 -99 -99 -99 -99 ...\n",
      "  ..$ bottomdepth: num [1:294146] 3277 3277 3277 3277 3277 ...\n",
      "  ..$ moogdrive  : num [1:294146] 42 42 42 42 42 42 42 42 42 42 ...\n",
      "  ..$ moogmonitor: num [1:294146] -108 -108 -108 -108 -108 ...\n",
      "  ..$ tension    : num [1:294146] 4572 5199 5437 5502 5502 ...\n",
      " $ sensor:'data.frame':\t2255707 obs. of  26 variables:\n",
      "  ..$ t1         : num [1:2255707] 17.2 17.2 17.2 17.2 17.2 ...\n",
      "  ..$ t2         : num [1:2255707] 17.2 17.2 17.2 17.3 17.3 ...\n",
      "  ..$ p          : num [1:2255707] 6.54 6.49 6.54 6.54 6.49 ...\n",
      "  ..$ c1         : num [1:2255707] 4.3 4.3 4.3 4.3 4.3 ...\n",
      "  ..$ c2         : num [1:2255707] 4.3 4.3 4.3 4.3 4.3 ...\n",
      "  ..$ trans      : num [1:2255707] 4.57 4.57 4.57 4.57 4.58 ...\n",
      "  ..$ v2         : num [1:2255707] 0.0379 0.0342 0.1013 0.138 0.1087 ...\n",
      "  ..$ fl         : num [1:2255707] 1.42 1.42 1.42 1.42 1.42 ...\n",
      "  ..$ v4         : num [1:2255707] 1.58 1.58 1.58 1.58 1.58 ...\n",
      "  ..$ v5         : num [1:2255707] 1.94 1.94 1.94 1.94 1.94 ...\n",
      "  ..$ v6         : num [1:2255707] 3.97 3.97 3.97 3.97 3.96 ...\n",
      "  ..$ wingpitch  : num [1:2255707] 71.7 71.6 71.5 71.5 71.5 ...\n",
      "  ..$ roll       : num [1:2255707] 1.4 1.46 1.51 1.57 1.68 ...\n",
      "  ..$ fishpitch  : num [1:2255707] 54.1 54 53.9 53.8 53.8 ...\n",
      "  ..$ proprpm    : num [1:2255707] 0.611 0.611 0.916 0.916 0.611 ...\n",
      "  ..$ modcount   : num [1:2255707] 76 77 78 79 80 ...\n",
      "  ..$ s1         : cplx [1:2255707] 33.1+0i 33.1+0i 33.1+0i ...\n",
      "  ..$ s2         : cplx [1:2255707] 33.2+0i 33.2+0i 33.2+0i ...\n",
      "  ..$ theta1     : cplx [1:2255707] 17.2+0i 17.2+0i 17.2+0i ...\n",
      "  ..$ theta2     : cplx [1:2255707] 17.2+0i 17.2+0i 17.2+0i ...\n",
      "  ..$ sigma1     : cplx [1:2255707] 1024+0i 1024+0i 1024+0i ...\n",
      "  ..$ sigma2     : cplx [1:2255707] 1024+0i 1024+0i 1024+0i ...\n",
      "  ..$ soundspeed1: cplx [1:2255707] 1511+0i 1511+0i 1511+0i ...\n",
      "  ..$ soundspeed2: cplx [1:2255707] 1512+0i 1512+0i 1512+0i ...\n",
      "  ..$ time       : num [1:2255707] 1.5e+09 1.5e+09 1.5e+09 1.5e+09 1.5e+09 ...\n",
      "  ..$ p.FLAG     : num [1:2255707] 1 1 1 1 1 ...\n"
     ]
    }
   ],
   "source": [
    "#for (i in 1:ncol(data$sensor)) {\n",
    "#    data$sensor[,i] = as.numeric(data$sensor[,i])\n",
    "#}\n",
    "str(data)"
   ]
  },
  {
   "cell_type": "code",
   "execution_count": 16,
   "metadata": {},
   "outputs": [],
   "source": [
    "data = add.times(data)"
   ]
  },
  {
   "cell_type": "code",
   "execution_count": 17,
   "metadata": {},
   "outputs": [],
   "source": [
    "find.stops = function(data, p.min = 0, p.max = 250) {\n",
    "    p = ma(data$sensor$p, 24)\n",
    "    l.min = which(p < p.min)\n",
    "    l.max = which(p > p.max)\n",
    "    \n",
    "    counter = 1\n",
    "    \n",
    "    if (1 %in% l.min) {\n",
    "        state = -1  # Surface\n",
    "    } else if (1 %in% l.max) {\n",
    "        state = 1  # Depth\n",
    "    } else {\n",
    "        state = 0  # Profile\n",
    "    }\n",
    "    \n",
    "    for (i in 2:nrow(data)) {\n",
    "        if (i %in% l.min) {\n",
    "            new.state = -1  # Surface\n",
    "        } else if (i %in% l.max) {\n",
    "            new.state = 1  # Depth\n",
    "        } else {\n",
    "            new.state = 0  # Profile\n",
    "        }\n",
    "        \n",
    "        if (state != new.state) {\n",
    "            \n",
    "        }\n",
    "    }\n",
    "}"
   ]
  },
  {
   "cell_type": "code",
   "execution_count": 18,
   "metadata": {},
   "outputs": [],
   "source": [
    "add.direction = function(data, p.min = 8, p.max = 250) {\n",
    "    data$sensor$direction = NA\n",
    "    \n",
    "    for (i in 1:nrow(data$sensor)) {\n",
    "        previous.surface = which(data$sensor$p <= p.min)\n",
    "        previous.depth = which(data$sensor$p >= p.max)\n",
    "        \n",
    "        ## Identify if it is not at the top or bottom of profile\n",
    "        if (data$sensor$p[i] > p.min & data$sensor$p[i] < p.max) {\n",
    "            l.surf = previous.surface[previous.surface < i]\n",
    "            l.deep = previous.depth[previous.depth < i]\n",
    "            \n",
    "            if (max(l.surf, 0) < max(l.deep, 0)) { # it was at depth more recently, must be going up\n",
    "                data$sensor$direction[i] = 1\n",
    "            } else {\n",
    "                data$sensor$direction[i] = -1  ## This setup assumes it is going down by default.\n",
    "            }\n",
    "        }\n",
    "    }\n",
    "    \n",
    "    data$sensor$direction[is.na(data$sensor$direction)] = 0\n",
    "    data\n",
    "}\n",
    "\n",
    "add.direction = function(data, p.min = 8, p.max = 250) {\n",
    "    ## value codes\n",
    "    ##   -1 = downcast\n",
    "    ##   +1 = upcast\n",
    "    ##    0 = ambiguous/outside bounds\n",
    "    \n",
    "    data$sensor$direction = 0\n",
    "    dp = diff(data$sensor$p)\n",
    "    \n",
    "    l = which(dp < 0) # getting shallower\n",
    "    data$sensor$direction[l+1] = 1\n",
    "    \n",
    "    l = which(dp > 0) # getting depper\n",
    "    data$sensor$direction[l+1] = -1\n",
    "    \n",
    "    data\n",
    "}"
   ]
  },
  {
   "cell_type": "code",
   "execution_count": 19,
   "metadata": {},
   "outputs": [],
   "source": [
    "#data = find.stops(data)\n",
    "data = add.direction(data)"
   ]
  },
  {
   "cell_type": "code",
   "execution_count": 24,
   "metadata": {},
   "outputs": [
    {
     "data": {
      "text/html": [
       "<table>\n",
       "<thead><tr><th scope=col>t1</th><th scope=col>t2</th><th scope=col>p</th><th scope=col>c1</th><th scope=col>c2</th><th scope=col>trans</th><th scope=col>v2</th><th scope=col>fl</th><th scope=col>v4</th><th scope=col>v5</th><th scope=col>...</th><th scope=col>theta1</th><th scope=col>theta2</th><th scope=col>sigma1</th><th scope=col>sigma2</th><th scope=col>soundspeed1</th><th scope=col>soundspeed2</th><th scope=col>time</th><th scope=col>p.FLAG</th><th scope=col>time.real</th><th scope=col>direction</th></tr></thead>\n",
       "<tbody>\n",
       "\t<tr><td>17.22221           </td><td>17.23353           </td><td>6.541408           </td><td>4.297312           </td><td>4.300985           </td><td>4.572650           </td><td>0.03785104         </td><td>1.422466           </td><td>1.58486            </td><td>1.942613           </td><td>...                </td><td>17.22114+0i        </td><td>17.23246+0i        </td><td>1024.035+0i        </td><td>1024.049+0i        </td><td>1511.476+0i        </td><td>1511.535+0i        </td><td>1498507112         </td><td>1                  </td><td>2017-06-26 19:58:32</td><td> 0                 </td></tr>\n",
       "\t<tr><td>17.22239           </td><td>17.23963           </td><td>6.492116           </td><td>4.297461           </td><td>4.301108           </td><td>4.572650           </td><td>0.03418803         </td><td>1.422466           </td><td>1.58486            </td><td>1.942613           </td><td>...                </td><td>17.22132+0i        </td><td>17.23857+0i        </td><td>1024.035+0i        </td><td>1024.045+0i        </td><td>1511.477+0i        </td><td>1511.548+0i        </td><td>1498507112         </td><td>1                  </td><td>2017-06-26 19:58:32</td><td> 1                 </td></tr>\n",
       "\t<tr><td>17.22312           </td><td>17.24893           </td><td>6.541408           </td><td>4.297532           </td><td>4.301293           </td><td>4.573871           </td><td>0.10134310         </td><td>1.422466           </td><td>1.58486            </td><td>1.942613           </td><td>...                </td><td>17.22205+0i        </td><td>17.24785+0i        </td><td>1024.035+0i        </td><td>1024.038+0i        </td><td>1511.480+0i        </td><td>1511.570+0i        </td><td>1498507112         </td><td>1                  </td><td>2017-06-26 19:58:32</td><td>-1                 </td></tr>\n",
       "\t<tr><td>17.22460           </td><td>17.25494           </td><td>6.541408           </td><td>4.297500           </td><td>4.301547           </td><td>4.573871           </td><td>0.13797314         </td><td>1.422466           </td><td>1.58486            </td><td>1.942613           </td><td>...                </td><td>17.22353+0i        </td><td>17.25387+0i        </td><td>1024.034+0i        </td><td>1024.034+0i        </td><td>1511.483+0i        </td><td>1511.585+0i        </td><td>1498507112         </td><td>1                  </td><td>2017-06-26 19:58:32</td><td> 0                 </td></tr>\n",
       "\t<tr><td>17.22442           </td><td>17.25451           </td><td>6.492116           </td><td>4.297351           </td><td>4.301842           </td><td>4.575092           </td><td>0.10866911         </td><td>1.422466           </td><td>1.58486            </td><td>1.942613           </td><td>...                </td><td>17.22336+0i        </td><td>17.25345+0i        </td><td>1024.033+0i        </td><td>1024.037+0i        </td><td>1511.480+0i        </td><td>1511.586+0i        </td><td>1498507112         </td><td>1                  </td><td>2017-06-26 19:58:32</td><td> 1                 </td></tr>\n",
       "\t<tr><td>17.23979           </td><td>17.24539           </td><td>6.541408           </td><td>4.297305           </td><td>4.302020           </td><td>4.576313           </td><td>0.07570208         </td><td>1.422466           </td><td>1.58486            </td><td>1.942613           </td><td>...                </td><td>17.23872+0i        </td><td>17.24431+0i        </td><td>1024.019+0i        </td><td>1024.046+0i        </td><td>1511.512+0i        </td><td>1511.570+0i        </td><td>1498507112         </td><td>1                  </td><td>2017-06-26 19:58:32</td><td>-1                 </td></tr>\n",
       "</tbody>\n",
       "</table>\n"
      ],
      "text/latex": [
       "\\begin{tabular}{r|llllllllllllllllllllllllllll}\n",
       " t1 & t2 & p & c1 & c2 & trans & v2 & fl & v4 & v5 & ... & theta1 & theta2 & sigma1 & sigma2 & soundspeed1 & soundspeed2 & time & p.FLAG & time.real & direction\\\\\n",
       "\\hline\n",
       "\t 17.22221            & 17.23353            & 6.541408            & 4.297312            & 4.300985            & 4.572650            & 0.03785104          & 1.422466            & 1.58486             & 1.942613            & ...                 & 17.22114+0i         & 17.23246+0i         & 1024.035+0i         & 1024.049+0i         & 1511.476+0i         & 1511.535+0i         & 1498507112          & 1                   & 2017-06-26 19:58:32 &  0                 \\\\\n",
       "\t 17.22239            & 17.23963            & 6.492116            & 4.297461            & 4.301108            & 4.572650            & 0.03418803          & 1.422466            & 1.58486             & 1.942613            & ...                 & 17.22132+0i         & 17.23857+0i         & 1024.035+0i         & 1024.045+0i         & 1511.477+0i         & 1511.548+0i         & 1498507112          & 1                   & 2017-06-26 19:58:32 &  1                 \\\\\n",
       "\t 17.22312            & 17.24893            & 6.541408            & 4.297532            & 4.301293            & 4.573871            & 0.10134310          & 1.422466            & 1.58486             & 1.942613            & ...                 & 17.22205+0i         & 17.24785+0i         & 1024.035+0i         & 1024.038+0i         & 1511.480+0i         & 1511.570+0i         & 1498507112          & 1                   & 2017-06-26 19:58:32 & -1                 \\\\\n",
       "\t 17.22460            & 17.25494            & 6.541408            & 4.297500            & 4.301547            & 4.573871            & 0.13797314          & 1.422466            & 1.58486             & 1.942613            & ...                 & 17.22353+0i         & 17.25387+0i         & 1024.034+0i         & 1024.034+0i         & 1511.483+0i         & 1511.585+0i         & 1498507112          & 1                   & 2017-06-26 19:58:32 &  0                 \\\\\n",
       "\t 17.22442            & 17.25451            & 6.492116            & 4.297351            & 4.301842            & 4.575092            & 0.10866911          & 1.422466            & 1.58486             & 1.942613            & ...                 & 17.22336+0i         & 17.25345+0i         & 1024.033+0i         & 1024.037+0i         & 1511.480+0i         & 1511.586+0i         & 1498507112          & 1                   & 2017-06-26 19:58:32 &  1                 \\\\\n",
       "\t 17.23979            & 17.24539            & 6.541408            & 4.297305            & 4.302020            & 4.576313            & 0.07570208          & 1.422466            & 1.58486             & 1.942613            & ...                 & 17.23872+0i         & 17.24431+0i         & 1024.019+0i         & 1024.046+0i         & 1511.512+0i         & 1511.570+0i         & 1498507112          & 1                   & 2017-06-26 19:58:32 & -1                 \\\\\n",
       "\\end{tabular}\n"
      ],
      "text/markdown": [
       "\n",
       "t1 | t2 | p | c1 | c2 | trans | v2 | fl | v4 | v5 | ... | theta1 | theta2 | sigma1 | sigma2 | soundspeed1 | soundspeed2 | time | p.FLAG | time.real | direction | \n",
       "|---|---|---|---|---|---|\n",
       "| 17.22221            | 17.23353            | 6.541408            | 4.297312            | 4.300985            | 4.572650            | 0.03785104          | 1.422466            | 1.58486             | 1.942613            | ...                 | 17.22114+0i         | 17.23246+0i         | 1024.035+0i         | 1024.049+0i         | 1511.476+0i         | 1511.535+0i         | 1498507112          | 1                   | 2017-06-26 19:58:32 |  0                  | \n",
       "| 17.22239            | 17.23963            | 6.492116            | 4.297461            | 4.301108            | 4.572650            | 0.03418803          | 1.422466            | 1.58486             | 1.942613            | ...                 | 17.22132+0i         | 17.23857+0i         | 1024.035+0i         | 1024.045+0i         | 1511.477+0i         | 1511.548+0i         | 1498507112          | 1                   | 2017-06-26 19:58:32 |  1                  | \n",
       "| 17.22312            | 17.24893            | 6.541408            | 4.297532            | 4.301293            | 4.573871            | 0.10134310          | 1.422466            | 1.58486             | 1.942613            | ...                 | 17.22205+0i         | 17.24785+0i         | 1024.035+0i         | 1024.038+0i         | 1511.480+0i         | 1511.570+0i         | 1498507112          | 1                   | 2017-06-26 19:58:32 | -1                  | \n",
       "| 17.22460            | 17.25494            | 6.541408            | 4.297500            | 4.301547            | 4.573871            | 0.13797314          | 1.422466            | 1.58486             | 1.942613            | ...                 | 17.22353+0i         | 17.25387+0i         | 1024.034+0i         | 1024.034+0i         | 1511.483+0i         | 1511.585+0i         | 1498507112          | 1                   | 2017-06-26 19:58:32 |  0                  | \n",
       "| 17.22442            | 17.25451            | 6.492116            | 4.297351            | 4.301842            | 4.575092            | 0.10866911          | 1.422466            | 1.58486             | 1.942613            | ...                 | 17.22336+0i         | 17.25345+0i         | 1024.033+0i         | 1024.037+0i         | 1511.480+0i         | 1511.586+0i         | 1498507112          | 1                   | 2017-06-26 19:58:32 |  1                  | \n",
       "| 17.23979            | 17.24539            | 6.541408            | 4.297305            | 4.302020            | 4.576313            | 0.07570208          | 1.422466            | 1.58486             | 1.942613            | ...                 | 17.23872+0i         | 17.24431+0i         | 1024.019+0i         | 1024.046+0i         | 1511.512+0i         | 1511.570+0i         | 1498507112          | 1                   | 2017-06-26 19:58:32 | -1                  | \n",
       "\n",
       "\n"
      ],
      "text/plain": [
       "  t1       t2       p        c1       c2       trans    v2         fl      \n",
       "1 17.22221 17.23353 6.541408 4.297312 4.300985 4.572650 0.03785104 1.422466\n",
       "2 17.22239 17.23963 6.492116 4.297461 4.301108 4.572650 0.03418803 1.422466\n",
       "3 17.22312 17.24893 6.541408 4.297532 4.301293 4.573871 0.10134310 1.422466\n",
       "4 17.22460 17.25494 6.541408 4.297500 4.301547 4.573871 0.13797314 1.422466\n",
       "5 17.22442 17.25451 6.492116 4.297351 4.301842 4.575092 0.10866911 1.422466\n",
       "6 17.23979 17.24539 6.541408 4.297305 4.302020 4.576313 0.07570208 1.422466\n",
       "  v4      v5       ... theta1      theta2      sigma1      sigma2     \n",
       "1 1.58486 1.942613 ... 17.22114+0i 17.23246+0i 1024.035+0i 1024.049+0i\n",
       "2 1.58486 1.942613 ... 17.22132+0i 17.23857+0i 1024.035+0i 1024.045+0i\n",
       "3 1.58486 1.942613 ... 17.22205+0i 17.24785+0i 1024.035+0i 1024.038+0i\n",
       "4 1.58486 1.942613 ... 17.22353+0i 17.25387+0i 1024.034+0i 1024.034+0i\n",
       "5 1.58486 1.942613 ... 17.22336+0i 17.25345+0i 1024.033+0i 1024.037+0i\n",
       "6 1.58486 1.942613 ... 17.23872+0i 17.24431+0i 1024.019+0i 1024.046+0i\n",
       "  soundspeed1 soundspeed2 time       p.FLAG time.real           direction\n",
       "1 1511.476+0i 1511.535+0i 1498507112 1      2017-06-26 19:58:32  0       \n",
       "2 1511.477+0i 1511.548+0i 1498507112 1      2017-06-26 19:58:32  1       \n",
       "3 1511.480+0i 1511.570+0i 1498507112 1      2017-06-26 19:58:32 -1       \n",
       "4 1511.483+0i 1511.585+0i 1498507112 1      2017-06-26 19:58:32  0       \n",
       "5 1511.480+0i 1511.586+0i 1498507112 1      2017-06-26 19:58:32  1       \n",
       "6 1511.512+0i 1511.570+0i 1498507112 1      2017-06-26 19:58:32 -1       "
      ]
     },
     "metadata": {},
     "output_type": "display_data"
    }
   ],
   "source": [
    "head(data$sensor)"
   ]
  },
  {
   "cell_type": "code",
   "execution_count": 23,
   "metadata": {
    "ExecuteTime": {
     "end_time": "2018-01-31T21:35:51.139938Z",
     "start_time": "2018-01-31T21:35:50.939Z"
    },
    "scrolled": true
   },
   "outputs": [
    {
     "data": {
      "image/png": "[encoded data removed]",
      "text/plain": [
       "plot without title"
      ]
     },
     "metadata": {},
     "output_type": "display_data"
    }
   ],
   "source": [
    "l = seq(1, nrow(data$sensor), length.out = 1e5)\n",
    "plot(data$sensor$time.real[l], data$sensor$p[l], cex=0.1, pch=20, col=get.qual.pal(3)[data$sensor$direction[l]+2],\n",
    "     ylim=c(300,0), yaxs='i', ylab='Depth', xlab='')\n",
    "\n",
    "#points(data$sensor$time[data$sensor$p.FLAG == 3], data$sensor$p[data$sensor$p.FLAG == 3], pch=4, col='red', cex=0.5)"
   ]
  },
  {
   "cell_type": "code",
   "execution_count": null,
   "metadata": {},
   "outputs": [],
   "source": [
    "data$sensor$p[1:20]\n",
    "data$sensor$time.real[1:20]"
   ]
  },
  {
   "cell_type": "code",
   "execution_count": null,
   "metadata": {
    "ExecuteTime": {
     "end_time": "2018-01-31T21:36:43.303791Z",
     "start_time": "2018-01-31T21:36:41.783Z"
    }
   },
   "outputs": [],
   "source": [
    "get.mld = function(data, rho = 0.1) {\n",
    "    \n",
    "    data$sensor = data$sensor[data$sensor$p > 5 & data$sensor$p < 100,]\n",
    "    \n",
    "    ## Smooth Signal\n",
    "    data$sensor$sigma1 = runmed(data$sensor$sigma1, 5)\n",
    "    \n",
    "    mld = data.frame(time = 0, lat = 0, lon = 0, mld = 0, stringsAsFactors = FALSE)\n",
    "    \n",
    "    ## Find all the 10meter points on the downcast\n",
    "    l = which((data$sensor$p - 10)^2 < 0.1 & data$sensor$direction == -1)\n",
    "    \n",
    "    ## For each 10m point, take one, remove others close to it (one per cast)\n",
    "    i = 1\n",
    "    while (i < length(l)) {\n",
    "        dt = as.numeric(difftime(data$sensor$time.real[l], data$sensor$time.real[l[i]], units='mins'))\n",
    "        k = which(dt^2 < 3^2 & dt > 0) # which entries overlap (same cast)?\n",
    "        \n",
    "        if(length(k) > 1) {\n",
    "            data$sensor$sigma1[l[k]] = median(data$sensor$sigma1[l[k]])\n",
    "            k = k[l[i] != k] # remove l[i] from overlap entries (k)\n",
    "            l = l[-k]\n",
    "        }\n",
    "        i = i + 1\n",
    "    }\n",
    "    print(length(l))\n",
    "    \n",
    "    ## calcualte mld add to dataframe\n",
    "    for (i in 1:length(l)) {\n",
    "        t.10 = data$sensor$time.real[l[i]]\n",
    "        rho.10 = mean(data$sensor$sigma1[c((l[i]-1):(l[i]+1))], na.rm = TRUE) # rho10 = avergae of 3 points closests to 10db\n",
    "        \n",
    "        \n",
    "        l.time = which(as.numeric(difftime(data$sensor$time.real, t.10, unit='mins'))^2 < 3^2 &\n",
    "                       data$sensor$direction == -1 & data$sensor$p > 10 &\n",
    "                       as.numeric(difftime(data$sensor$time.real, t.10, unit='mins')) > 0)\n",
    "        \n",
    "        l.mld = min(which(data$sensor$sigma1[l.time] > rho.10 + rho & data$sensor$p[l.time] > 10))\n",
    "        t.mld = data$sensor$time.real[l.time[l.mld]]\n",
    "        \n",
    "        eng = which.min(as.numeric(difftime(data$eng$time.real, t.10, units = 'mins'))^2)\n",
    "        mld = rbind(mld, c(t.mld, data$eng$lat[eng], data$eng$lon[eng], data$sensor$p[l.mld]))\n",
    "    }\n",
    "    \n",
    "    mld = mld[-1,]\n",
    "    mld$time = conv.time(mld$time)\n",
    "    mld\n",
    "}"
   ]
  },
  {
   "cell_type": "code",
   "execution_count": null,
   "metadata": {},
   "outputs": [],
   "source": [
    "mld = get.mld(data, 0.1)\n",
    "mld2 = get.mld(data, 0.2)"
   ]
  },
  {
   "cell_type": "code",
   "execution_count": null,
   "metadata": {},
   "outputs": [],
   "source": [
    "#plot(data$sensor$time.real, data$sensor$p, cex=0.1, pch=20, col=get.qual.pal(3)[data$sensor$direction+2],\n",
    "#     ylim=c(300,0), yaxs='i', ylab='Depth', xlab='')\n",
    "plot(data$sensor$time.real[c(1, nrow(data$sensor))], data$sensor$p[c(1, nrow(data$sensor))], cex=0.1, pch=20, col='white',\n",
    "     ylim=c(300,0), yaxs='i', ylab='Depth', xlab='')\n",
    "\n",
    "points(mld$time, mld$mld, pch=4, col='dark red')\n",
    "points(mld2$time, mld2$mld, pch=1, col='dark blue', cex=0.3)\n",
    "#points(data$sensor$time[data$sensor$p.FLAG == 3], data$sensor$p[data$sensor$p.FLAG == 3], pch=4, col='red', cex=0.5)"
   ]
  },
  {
   "cell_type": "code",
   "execution_count": null,
   "metadata": {},
   "outputs": [],
   "source": [
    "plot.map(lon = mld$lon, lat = mld$lat, main = 'SeaSoar MLDs', col = make.div.pal(mld$mld, 100))"
   ]
  },
  {
   "cell_type": "code",
   "execution_count": null,
   "metadata": {},
   "outputs": [],
   "source": [
    "seasoar2 = mld\n",
    "save(seasoar2, file = 'RStates/SeaSoar2.MLD (0.1).rdata')"
   ]
  },
  {
   "cell_type": "code",
   "execution_count": null,
   "metadata": {},
   "outputs": [],
   "source": [
    "save(data, file='RStates/SeaSoar2.final.rdata')"
   ]
  },
  {
   "cell_type": "markdown",
   "metadata": {},
   "source": [
    "---\n",
    "# Review"
   ]
  },
  {
   "cell_type": "code",
   "execution_count": null,
   "metadata": {},
   "outputs": [],
   "source": [
    "plot.mld = function(i, window = 3) {\n",
    "    l = which(as.numeric(difftime(data$sensor$time.real, mld$time[i], units = 'mins')) < window &\n",
    "              as.numeric(difftime(data$sensor$time.real, mld$time[i], units = 'mins')) >= -0.5)\n",
    "    \n",
    "    plot(data$sensor$sigma1[l], data$sensor$p[l], ylim=c(100,0), xlim=c(1023,1027), yaxs='i',\n",
    "         pch=20, col='#00000050', cex=1, main=i, ylab='Depth', xlab='Density')\n",
    "    lines(c(0,10000), rep(mld$mld[i], 2), lty=2, col='red')\n",
    "    lines(c(0,10000), rep(mld2$mld[i], 2), lty=1, col='red')\n",
    "    lines(c(0,10000), rep(10, 2), lty=2, col='blue')\n",
    "}"
   ]
  },
  {
   "cell_type": "code",
   "execution_count": null,
   "metadata": {
    "scrolled": false
   },
   "outputs": [],
   "source": [
    "par(mfrow=c(2,2))\n",
    "\n",
    "for(i in 1:nrow(mld)) {\n",
    "    plot.mld(i)\n",
    "}"
   ]
  },
  {
   "cell_type": "code",
   "execution_count": null,
   "metadata": {},
   "outputs": [],
   "source": []
  }
 ],
 "metadata": {
  "kernelspec": {
   "display_name": "R",
   "language": "R",
   "name": "ir"
  },
  "language_info": {
   "codemirror_mode": "r",
   "file_extension": ".r",
   "mimetype": "text/x-r-source",
   "name": "R",
   "pygments_lexer": "r",
   "version": "3.4.2"
  },
  "toc": {
   "nav_menu": {},
   "number_sections": true,
   "sideBar": true,
   "skip_h1_title": false,
   "toc_cell": false,
   "toc_position": {},
   "toc_section_display": "block",
   "toc_window_display": false
  },
  "varInspector": {
   "cols": {
    "lenName": 16,
    "lenType": 16,
    "lenVar": 40
   },
   "kernels_config": {
    "python": {
     "delete_cmd_postfix": "",
     "delete_cmd_prefix": "del ",
     "library": "var_list.py",
     "varRefreshCmd": "print(var_dic_list())"
    },
    "r": {
     "delete_cmd_postfix": ") ",
     "delete_cmd_prefix": "rm(",
     "library": "var_list.r",
     "varRefreshCmd": "cat(var_dic_list()) "
    }
   },
   "types_to_exclude": [
    "module",
    "function",
    "builtin_function_or_method",
    "instance",
    "_Feature"
   ],
   "window_display": false
  }
 },
 "nbformat": 4,
 "nbformat_minor": 2
}
