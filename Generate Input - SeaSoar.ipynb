{
 "cells": [
  {
   "cell_type": "markdown",
   "metadata": {},
   "source": [
    "# SeaSoar Processing\n",
    "\n",
    "1. Load data\n",
    "2. Identify upcasts and downcasts\n",
    "3. Flag spurious pressure/data points by moving median filter\n",
    "4. Bin sensor data to regular pressures\n",
    "5. Flag outliers in signals"
   ]
  },
  {
   "cell_type": "code",
   "execution_count": 1,
   "metadata": {
    "ExecuteTime": {
     "end_time": "2018-02-02T16:26:11.311964Z",
     "start_time": "2018-02-02T16:26:10.016Z"
    },
    "cell_style": "center"
   },
   "outputs": [
    {
     "name": "stdout",
     "output_type": "stream",
     "text": [
      "Packages Loaded:\n",
      "ncdf4 R.matlab openxlsx RColorBrewer compiler lattice geosphere readxl data.table rworldmap rworldxtra\n"
     ]
    },
    {
     "name": "stderr",
     "output_type": "stream",
     "text": [
      "Loading required package: ncdf4\n",
      "Loading required package: R.matlab\n",
      "R.matlab v3.6.1 (2016-10-19) successfully loaded. See ?R.matlab for help.\n",
      "\n",
      "Attaching package: ‘R.matlab’\n",
      "\n",
      "The following objects are masked from ‘package:base’:\n",
      "\n",
      "    getOption, isOpen\n",
      "\n",
      "Loading required package: openxlsx\n",
      "Loading required package: RColorBrewer\n",
      "Loading required package: compiler\n",
      "Loading required package: lattice\n",
      "Loading required package: geosphere\n",
      "Loading required package: readxl\n",
      "Loading required package: data.table\n",
      "Loading required package: rworldmap\n",
      "Loading required package: sp\n",
      "Error: package or namespace load failed for ‘rworldmap’ in loadNamespace(j <- i[[1L]], c(lib.loc, .libPaths()), versionCheck = vI[[j]]):\n",
      " there is no package called ‘fields’\n",
      "Loading required package: rworldxtra\n"
     ]
    }
   ],
   "source": [
    "source('source.r')"
   ]
  },
  {
   "cell_type": "code",
   "execution_count": 2,
   "metadata": {
    "ExecuteTime": {
     "end_time": "2018-02-02T16:26:13.838595Z",
     "start_time": "2018-02-02T16:26:13.751Z"
    },
    "cell_style": "center"
   },
   "outputs": [
    {
     "data": {
      "text/html": [
       "50"
      ],
      "text/latex": [
       "50"
      ],
      "text/markdown": [
       "50"
      ],
      "text/plain": [
       "[1] 50"
      ]
     },
     "metadata": {},
     "output_type": "display_data"
    }
   ],
   "source": [
    "input.dir = '../../Models/SeaSoar/SeaSoar1/'\n",
    "\n",
    "files = list.files(input.dir)\n",
    "files = files[grepl('.mat', files)]\n",
    "length(files)"
   ]
  },
  {
   "cell_type": "code",
   "execution_count": 3,
   "metadata": {
    "ExecuteTime": {
     "end_time": "2018-02-02T16:26:57.729331Z",
     "start_time": "2018-02-02T16:26:57.702Z"
    }
   },
   "outputs": [],
   "source": [
    "get.data = function(input.dir, file) {\n",
    "    data = readMat('../../Models/SeaSoar/SeaSoar1/FLT_DAT001.mat', fixNames = TRUE)\n",
    "    names = unlist(dimnames(data$data)[1])\n",
    "\n",
    "    ## Partition up datea\n",
    "    eng = as.data.frame(data$data[2:12])\n",
    "    sensor = as.data.frame(data$data[13:36])\n",
    "    colnames(sensor) = names[13:36]\n",
    "    colnames(eng) = names[2:12]\n",
    "    \n",
    "    sensor$time = seq(from = eng$time[1], by = 1/24, length.out = nrow(sensor))\n",
    "    \n",
    "    return(list(eng = eng, sensor = sensor))\n",
    "}\n",
    "\n",
    "#### Flag Outliers in pressure\n",
    "flag.p.outliers = function(data, dp = 0.5, verbose = FALSE, window = 25) {\n",
    "    l = which(abs(data$sensor$p - runmed(data$sensor$p, window)) > dp)\n",
    "    \n",
    "    data$p.FLAG = 1 # keep\n",
    "    data$p.FLAG[l] = 3 # reject\n",
    "    \n",
    "    if (verbose) {\n",
    "        n = length(l)\n",
    "        perc = floor(length(l) / nrow(data$sensor)*1000)/10\n",
    "        \n",
    "        print(paste0('Flagging identified ', n, ' (', perc, ') outliers.'))\n",
    "    }\n",
    "    data\n",
    "}"
   ]
  },
  {
   "cell_type": "code",
   "execution_count": 157,
   "metadata": {},
   "outputs": [
    {
     "name": "stdout",
     "output_type": "stream",
     "text": [
      "List of 2\n",
      " $ eng   :'data.frame':\t6494 obs. of  11 variables:\n",
      "  ..$ lat        : num [1:6494] 34.2 34.2 34.2 34.2 34.2 ...\n",
      "  ..$ lon        : num [1:6494] -121 -121 -121 -121 -121 ...\n",
      "  ..$ time       : num [1:6494] 1.5e+09 1.5e+09 1.5e+09 1.5e+09 1.5e+09 ...\n",
      "  ..$ cog        : num [1:6494] 314 305 304 310 318 ...\n",
      "  ..$ sog        : num [1:6494] 1.4 1.6 1.6 1.4 1.4 1.5 1.5 1.3 1 0.8 ...\n",
      "  ..$ heading    : num [1:6494] 325 325 325 326 326 ...\n",
      "  ..$ sow        : num [1:6494] -99 -99 -99 -99 -99 -99 -99 -99 -99 -99 ...\n",
      "  ..$ bottomdepth: num [1:6494] 729 729 729 732 732 ...\n",
      "  ..$ moogdrive  : num [1:6494] 42 42 42 42 42 42 42 42 42 42 ...\n",
      "  ..$ moogmonitor: num [1:6494] -108 -108 -108 -108 -108 ...\n",
      "  ..$ tension    : num [1:6494] -1 2 -1 7 8 0 9 3 8 3 ...\n",
      " $ sensor:'data.frame':\t155856 obs. of  25 variables:\n",
      "  ..$ t1         : num [1:155856] 12.8 12.8 12.7 12.7 12.7 ...\n",
      "  ..$ t2         : num [1:155856] 12.7 12.7 12.7 12.7 12.7 ...\n",
      "  ..$ p          : num [1:155856] 10.8 10.8 10.8 10.9 10.9 ...\n",
      "  ..$ c1         : num [1:155856] 3.94 3.94 3.94 3.94 3.94 ...\n",
      "  ..$ c2         : num [1:155856] 3.94 3.94 3.94 3.94 3.94 ...\n",
      "  ..$ trans      : num [1:155856] 4.22 4.21 4.21 4.21 4.21 ...\n",
      "  ..$ v2         : num [1:155856] 0.188 0.181 0.177 0.17 0.166 ...\n",
      "  ..$ fl         : num [1:155856] 1.58 1.58 1.58 1.58 1.58 ...\n",
      "  ..$ v4         : num [1:155856] 1.25 1.25 1.25 1.25 1.25 ...\n",
      "  ..$ v5         : num [1:155856] 2.74 2.74 2.74 2.74 2.74 ...\n",
      "  ..$ v6         : num [1:155856] 4 4 3.99 3.99 3.99 ...\n",
      "  ..$ wingpitch  : num [1:155856] 36 35.9 35.7 35.5 35.2 ...\n",
      "  ..$ roll       : num [1:155856] -4.15 -4.09 -4.04 -3.98 -3.98 ...\n",
      "  ..$ fishpitch  : num [1:155856] 47.7 47.6 47.4 47.2 47 ...\n",
      "  ..$ proprpm    : num [1:155856] 0.916 0.611 0.916 0.916 0.916 ...\n",
      "  ..$ modcount   : int [1:155856] 54 55 56 57 58 59 60 61 62 63 ...\n",
      "  ..$ s1         : num [1:155856] 33.7 33.7 33.7 33.7 33.7 ...\n",
      "  ..$ s2         : num [1:155856] 33.8 33.8 33.7 33.7 33.7 ...\n",
      "  ..$ theta1     : num [1:155856] 12.8 12.8 12.7 12.7 12.7 ...\n",
      "  ..$ theta2     : num [1:155856] 12.7 12.7 12.7 12.7 12.7 ...\n",
      "  ..$ sigma1     : num [1:155856] 1025 1025 1025 1025 1025 ...\n",
      "  ..$ sigma2     : num [1:155856] 1025 1025 1025 1025 1025 ...\n",
      "  ..$ soundspeed1: num [1:155856] 1498 1498 1498 1498 1498 ...\n",
      "  ..$ soundspeed2: num [1:155856] 1498 1498 1498 1498 1498 ...\n",
      "  ..$ time       : num [1:155856] 1.5e+09 1.5e+09 1.5e+09 1.5e+09 1.5e+09 ...\n"
     ]
    }
   ],
   "source": [
    "data = get.data(input.dir, files[10])\n",
    "data = flag.p.outliers(data)\n",
    "str(data)"
   ]
  },
  {
   "cell_type": "code",
   "execution_count": 4,
   "metadata": {
    "ExecuteTime": {
     "end_time": "2018-02-02T16:27:04.502490Z",
     "start_time": "2018-02-02T16:27:04.479Z"
    }
   },
   "outputs": [],
   "source": [
    "bin.p = function(data, dp = 1, secs = 10) {\n",
    "    \n",
    "    i = 1\n",
    "    while (i < nrow(data$sensor)) {\n",
    "        l = which(abs(data$sensor$p - data$sensor$p[i]) + abs(data$sensor$time - data$sensor$time[i]) / secs < dp / 2)\n",
    "        temp = apply(data$sensor[l,], 2, function(x) {mean(x, na.rm = TRUE)})\n",
    "        \n",
    "        if (length(l) > 1) {\n",
    "            data$sensor[i,] = temp\n",
    "            l = l[l != i]\n",
    "            \n",
    "            data$sensor = data$sensor[-l,]\n",
    "        }\n",
    "        i = i + 1\n",
    "    }\n",
    "    \n",
    "    data\n",
    "}"
   ]
  },
  {
   "cell_type": "code",
   "execution_count": null,
   "metadata": {},
   "outputs": [],
   "source": [
    "bin.data = bin.p(data)\n",
    "\n",
    "print(paste0('Number of Sensor Records before binning: ', nrow(data$sensor)))\n",
    "print(paste0('Number of Sensor Records after binning: ', nrow(bin.data$sensor)))\n",
    "print(paste0('(', floor(nrow(bin.data$sensor)*1000) / 10, '%)'))"
   ]
  },
  {
   "cell_type": "code",
   "execution_count": null,
   "metadata": {},
   "outputs": [],
   "source": [
    "check.bin = function(data), l = c(0000:135000)) {\n",
    "    plot(data$sensor$time[l], data$sensor$p[l], type='l', ylab='Pressure', xlab='Time', ylim=c(100,0), yaxs='i')\n",
    "    points(bin.data$sensor$time, bin.data$sensor$p, pch=4, cex=1.5, col='blue')\n",
    "}"
   ]
  },
  {
   "cell_type": "code",
   "execution_count": 5,
   "metadata": {
    "ExecuteTime": {
     "end_time": "2018-02-02T16:27:08.137693Z",
     "start_time": "2018-02-02T16:27:08.098Z"
    }
   },
   "outputs": [],
   "source": [
    "process.files = function(input.dir, files, verbose = FALSE, bin = TRUE) {\n",
    "    \n",
    "    ## First data file\n",
    "    if (verbose) {print(paste('Starting file:', files[1]))}\n",
    "    data = get.data(input.dir, files[1])\n",
    "    data = flag.p.outliers(data)\n",
    "    n.before = nrow(data$sensor)\n",
    "    \n",
    "    if (verbose) {print('Binning the data.')}\n",
    "    data = bin.p(data)\n",
    "    if (verbose) {\n",
    "        print(paste0('Number of Sensor Records before binning: ', n.before))\n",
    "        print(paste0('Number of Sensor Records after binning: ', nrow(data$sensor)))\n",
    "        print(paste0('(', floor(nrow(data$sensor) / n.before * 1000) / 10, '%)'))\n",
    "    }\n",
    "    print('-----')\n",
    "    print('')\n",
    "    \n",
    "    for (f in 2:length(files)) {\n",
    "        if (verbose) {print(paste0('Starting file: ', files[f], ' (', f, ' of ', length(files), ')'))}\n",
    "        temp = get.data(input.dir, f)\n",
    "        temp = flag.p.outliers(temp)\n",
    "        n.before = nrow(temp$sensor)\n",
    "        \n",
    "        if (verbose) {print('Binning the data.')}\n",
    "        temp = bin.p(temp)\n",
    "        \n",
    "        if (verbose) {print('Checkpoint Saved.')}\n",
    "        if (verbose) {print('')}\n",
    "        \n",
    "        save(temp, file = paste0('RStates/Seasoar-binned-', files[f], '.rdata'))\n",
    "        if (verbose) {\n",
    "            print(paste0('Number of Sensor Records before binning: ', n.before))\n",
    "            print(paste0('Number of Sensor Records after binning: ', nrow(temp$sensor)))\n",
    "            print(paste0('(', floor(nrow(temp$sensor)/n.before * 1000) / 10, '%)'))\n",
    "        }\n",
    "        data$sensor = rbind(data$sensor, temp$sensor)\n",
    "        data$eng = rbind(data$eng, temp$eng)\n",
    "        print('-----')\n",
    "        print('')\n",
    "    }\n",
    "    data\n",
    "}\n",
    "\n",
    "process.files.rstate = function(input.dir, files, verbose = FALSE, bin = TRUE) {\n",
    "    \n",
    "    ## First data file\n",
    "    if (verbose) {print(paste('Starting file:', files[1]))}\n",
    "    data = get.data(input.dir, files[1])\n",
    "    data = flag.p.outliers(data)\n",
    "    n.before = nrow(data$sensor)\n",
    "    \n",
    "    if (verbose) {print('Binning the data.')}\n",
    "    data = bin.p(data)\n",
    "    print('-----')\n",
    "    print('')\n",
    "    \n",
    "    for (f in 2:length(files)) {\n",
    "        if (verbose) {print(paste0('Starting file: ', files[f], ' (', f, ' of ', length(files), ')'))}\n",
    "        load(file = paste0('RStates/Seasoar-binned-', files[f], '.rdata'))\n",
    "        \n",
    "        data$sensor = rbind(data$sensor, temp$sensor)\n",
    "        data$eng = rbind(data$eng, temp$eng)\n",
    "        print('-----')\n",
    "        print('')\n",
    "    }\n",
    "    data\n",
    "}"
   ]
  },
  {
   "cell_type": "code",
   "execution_count": 13,
   "metadata": {
    "ExecuteTime": {
     "end_time": "2018-01-31T21:16:34.245848Z",
     "start_time": "2018-01-30T21:56:10.483Z"
    }
   },
   "outputs": [
    {
     "name": "stdout",
     "output_type": "stream",
     "text": [
      "[1] \"Starting file: FLT_DAT001.mat\"\n",
      "[1] \"Binning the data.\"\n",
      "[1] \"Number of Sensor Records before binning: 155856\"\n",
      "[1] \"Number of Sensor Records after binning: 7631\"\n",
      "[1] \"(4.8%)\"\n",
      "[1] \"-----\"\n",
      "[1] \"\"\n",
      "[1] \"Starting file: FLT_DAT002.mat (2 of 50)\"\n",
      "[1] \"Binning the data.\"\n",
      "[1] \"Checkpoint Saved.\"\n",
      "[1] \"\"\n",
      "[1] \"Number of Sensor Records before binning: 155856\"\n",
      "[1] \"Number of Sensor Records after binning: 7631\"\n",
      "[1] \"(4.8%)\"\n",
      "[1] \"-----\"\n",
      "[1] \"\"\n",
      "[1] \"Starting file: FLT_DAT003.mat (3 of 50)\"\n",
      "[1] \"Binning the data.\"\n",
      "[1] \"Checkpoint Saved.\"\n",
      "[1] \"\"\n",
      "[1] \"Number of Sensor Records before binning: 155856\"\n",
      "[1] \"Number of Sensor Records after binning: 7631\"\n",
      "[1] \"(4.8%)\"\n",
      "[1] \"-----\"\n",
      "[1] \"\"\n",
      "[1] \"Starting file: FLT_DAT004.mat (4 of 50)\"\n",
      "[1] \"Binning the data.\"\n",
      "[1] \"Checkpoint Saved.\"\n",
      "[1] \"\"\n",
      "[1] \"Number of Sensor Records before binning: 155856\"\n",
      "[1] \"Number of Sensor Records after binning: 7631\"\n",
      "[1] \"(4.8%)\"\n",
      "[1] \"-----\"\n",
      "[1] \"\"\n",
      "[1] \"Starting file: FLT_DAT005.mat (5 of 50)\"\n",
      "[1] \"Binning the data.\"\n",
      "[1] \"Checkpoint Sav"
     ]
    },
    {
     "data": {
      "text/html": [
       "<b>limit_output extension: Maximum message size of 1000 exceeded with 11900 characters</b>"
      ]
     },
     "metadata": {},
     "output_type": "display_data"
    }
   ],
   "source": [
    "data = process.files(input.dir, files, verbose = TRUE)"
   ]
  },
  {
   "cell_type": "code",
   "execution_count": 6,
   "metadata": {
    "ExecuteTime": {
     "end_time": "2018-02-02T16:36:31.109777Z",
     "start_time": "2018-02-02T16:27:14.769Z"
    }
   },
   "outputs": [
    {
     "name": "stdout",
     "output_type": "stream",
     "text": [
      "[1] \"-----\"\n",
      "[1] \"\"\n",
      "[1] \"-----\"\n",
      "[1] \"\"\n",
      "[1] \"-----\"\n",
      "[1] \"\"\n",
      "[1] \"-----\"\n",
      "[1] \"\"\n",
      "[1] \"-----\"\n",
      "[1] \"\"\n",
      "[1] \"-----\"\n",
      "[1] \"\"\n",
      "[1] \"-----\"\n",
      "[1] \"\"\n",
      "[1] \"-----\"\n",
      "[1] \"\"\n",
      "[1] \"-----\"\n",
      "[1] \"\"\n",
      "[1] \"-----\"\n",
      "[1] \"\"\n",
      "[1] \"-----\"\n",
      "[1] \"\"\n",
      "[1] \"-----\"\n",
      "[1] \"\"\n",
      "[1] \"-----\"\n",
      "[1] \"\"\n",
      "[1] \"-----\"\n",
      "[1] \"\"\n",
      "[1] \"-----\"\n",
      "[1] \"\"\n",
      "[1] \"-----\"\n",
      "[1] \"\"\n",
      "[1] \"-----\"\n",
      "[1] \"\"\n",
      "[1] \"-----\"\n",
      "[1] \"\"\n",
      "[1] \"-----\"\n",
      "[1] \"\"\n",
      "[1] \"-----\"\n",
      "[1] \"\"\n",
      "[1] \"-----\"\n",
      "[1] \"\"\n",
      "[1] \"-----\"\n",
      "[1] \"\"\n",
      "[1] \"-----\"\n",
      "[1] \"\"\n",
      "[1] \"-----\"\n",
      "[1] \"\"\n",
      "[1] \"-----\"\n",
      "[1] \"\"\n",
      "[1] \"-----\"\n",
      "[1] \"\"\n",
      "[1] \"-----\"\n",
      "[1] \"\"\n",
      "[1] \"-----\"\n",
      "[1] \"\"\n",
      "[1] \"-----\"\n",
      "[1] \"\"\n",
      "[1] \"-----\"\n",
      "[1] \"\"\n",
      "[1] \"-----\"\n",
      "[1] \"\"\n",
      "[1] \"-----\"\n",
      "[1] \"\"\n",
      "[1] \"-----\"\n",
      "[1] \"\"\n",
      "[1] \"-----\"\n",
      "[1] \"\"\n",
      "[1] \"-----\"\n",
      "[1] \"\"\n",
      "[1] \"-----\"\n",
      "[1] \"\"\n",
      "[1] \"-----\"\n",
      "[1] \"\"\n",
      "[1] \"-----\"\n",
      "[1] \"\"\n",
      "[1] \"-----\"\n",
      "[1] \"\"\n",
      "[1] \"-----\"\n",
      "[1] \"\"\n",
      "[1] \"-----\"\n",
      "[1] \"\"\n",
      "[1] \"-----\"\n",
      "[1] \"\"\n",
      "[1] \"-----\"\n",
      "[1] \"\"\n",
      "[1] \"-----\"\n",
      "[1] \"\"\n",
      "[1] \"-----\"\n",
      "[1] \"\"\n",
      "[1] \"-----\"\n",
      "[1] \"\"\n",
      "[1] \"-----\"\n",
      "[1] \"\"\n",
      "[1] \"-----\"\n",
      "[1] \"\"\n",
      "[1] \"-----\"\n",
      "[1] \"\"\n",
      "[1] \"-----\"\n",
      "[1] \"\"\n"
     ]
    }
   ],
   "source": [
    "data = process.files.rstate(input.dir, files)"
   ]
  },
  {
   "cell_type": "code",
   "execution_count": 1,
   "metadata": {
    "ExecuteTime": {
     "end_time": "2018-02-02T22:07:58.936714Z",
     "start_time": "2018-02-02T22:07:58.385Z"
    }
   },
   "outputs": [
    {
     "ename": "ERROR",
     "evalue": "Error in data$sensor: object of type 'closure' is not subsettable\n",
     "output_type": "error",
     "traceback": [
      "Error in data$sensor: object of type 'closure' is not subsettable\nTraceback:\n",
      "1. str(data$sensor)"
     ]
    }
   ],
   "source": [
    "str(data$sensor)"
   ]
  },
  {
   "cell_type": "code",
   "execution_count": null,
   "metadata": {},
   "outputs": [],
   "source": [
    "find.stops = function(data, p.min = 0, p.max = 250) {\n",
    "    p = ma(data$p, 24)\n",
    "    l.min = which(p < p.min)\n",
    "    l.max = which(p > p.max)\n",
    "    \n",
    "    counter = 1\n",
    "    \n",
    "    if (1 %in% l.min) {\n",
    "        state = -1  # Surface\n",
    "    } else if (1 %in% l.max) {\n",
    "        state = 1  # Depth\n",
    "    } else {\n",
    "        state = 0  # Profile\n",
    "    }\n",
    "    \n",
    "    for (i in 2:nrow(data)) {\n",
    "        if (i %in% l.min) {\n",
    "            new.state = -1  # Surface\n",
    "        } else if (i %in% l.max) {\n",
    "            new.state = 1  # Depth\n",
    "        } else {\n",
    "            new.state = 0  # Profile\n",
    "        }\n",
    "        \n",
    "        if (state != new.state) {\n",
    "            \n",
    "        }\n",
    "    }\n",
    "}"
   ]
  },
  {
   "cell_type": "code",
   "execution_count": 158,
   "metadata": {},
   "outputs": [],
   "source": [
    "add.direction = function(data, p.min = 10, p.max = 250) {\n",
    "    data$direction = NA\n",
    "    \n",
    "    for (i in 1:nrow(data$sensor)) {\n",
    "        previous.surface = which(data$sensor$p <= p.min)\n",
    "        previous.depth = which(data$sensor$p >= p.max)\n",
    "        \n",
    "        ## Identify if it is not at the top or bottom of profile\n",
    "        if (data$sensor$p[i] > p.min & data$sensor$p[i] < p.max) {\n",
    "            l.surf = previous.surface[previous.surface < i]\n",
    "            l.deep = previous.depth[previous.depth < i]\n",
    "            \n",
    "            if (max(l.surf, 0) < max(l.deep, 0)) { # it was at depth more recently, must be going up\n",
    "                data$sensor$direction[i] = 1\n",
    "            } else {\n",
    "                data$sensor$direction[i] = -1  ## This setup assumes it is going down by default.\n",
    "            }\n",
    "        }\n",
    "    }\n",
    "    \n",
    "    data$sensor$direction[is.na(data$sensor$direction)] = 0\n",
    "    data\n",
    "}"
   ]
  },
  {
   "cell_type": "code",
   "execution_count": 14,
   "metadata": {
    "ExecuteTime": {
     "end_time": "2018-01-31T21:35:51.139938Z",
     "start_time": "2018-01-31T21:35:50.939Z"
    }
   },
   "outputs": [
    {
     "name": "stderr",
     "output_type": "stream",
     "text": [
      "Warning message in min(x):\n",
      "“no non-missing arguments to min; returning Inf”Warning message in max(x):\n",
      "“no non-missing arguments to max; returning -Inf”"
     ]
    },
    {
     "ename": "ERROR",
     "evalue": "Error in plot.window(...): need finite 'xlim' values\n",
     "output_type": "error",
     "traceback": [
      "Error in plot.window(...): need finite 'xlim' values\nTraceback:\n",
      "1. plot(data$sensor$time, data$sensor$p, cex = 0.1, pch = 20, col = get.qual.pal(3)[data$sensor$direction + \n .     2], ylim = c(300, 0), yaxs = \"i\", ylab = \"Depth\", xlab = \"\")",
      "2. plot(data$sensor$time, data$sensor$p, cex = 0.1, pch = 20, col = get.qual.pal(3)[data$sensor$direction + \n .     2], ylim = c(300, 0), yaxs = \"i\", ylab = \"Depth\", xlab = \"\")",
      "3. plot.default(data$sensor$time, data$sensor$p, cex = 0.1, pch = 20, \n .     col = get.qual.pal(3)[data$sensor$direction + 2], ylim = c(300, \n .         0), yaxs = \"i\", ylab = \"Depth\", xlab = \"\")",
      "4. localWindow(xlim, ylim, log, asp, ...)",
      "5. plot.window(...)"
     ]
    },
    {
     "data": {
      "image/png": "[encoded data removed]",
      "text/plain": [
       "plot without title"
      ]
     },
     "metadata": {},
     "output_type": "display_data"
    }
   ],
   "source": [
    "plot(data$sensor$time, data$sensor$p, cex=0.1, pch=20, col=get.qual.pal(3)[data$sensor$direction+2],\n",
    "     ylim=c(300,0), yaxs='i', ylab='Depth', xlab='')\n",
    "\n",
    "#points(data$sensor$time[data$sensor$p.FLAG == 3], data$sensor$p[data$sensor$p.FLAG == 3], pch=4, col='red', cex=0.5)"
   ]
  },
  {
   "cell_type": "code",
   "execution_count": 15,
   "metadata": {
    "ExecuteTime": {
     "end_time": "2018-01-31T21:36:43.303791Z",
     "start_time": "2018-01-31T21:36:41.783Z"
    }
   },
   "outputs": [
    {
     "name": "stdout",
     "output_type": "stream",
     "text": [
      "List of 150\n",
      " $ :'data.frame':\t6494 obs. of  11 variables:\n",
      "  ..$ lat        : num [1:6494] 34.2 34.2 34.2 34.2 34.2 ...\n",
      "  ..$ lon        : num [1:6494] -121 -121 -121 -121 -121 ...\n",
      "  ..$ time       : num [1:6494] 1.5e+09 1.5e+09 1.5e+09 1.5e+09 1.5e+09 ...\n",
      "  ..$ cog        : num [1:6494] 314 305 304 310 318 ...\n",
      "  ..$ sog        : num [1:6494] 1.4 1.6 1.6 1.4 1.4 1.5 1.5 1.3 1 0.8 ...\n",
      "  ..$ heading    : num [1:6494] 325 325 325 326 326 ...\n",
      "  ..$ sow        : num [1:6494] -99 -99 -99 -99 -99 -99 -99 -99 -99 -99 ...\n",
      "  ..$ bottomdepth: num [1:6494] 729 729 729 732 732 ...\n",
      "  ..$ moogdrive  : num [1:6494] 42 42 42 42 42 42 42 42 42 42 ...\n",
      "  ..$ moogmonitor: num [1:6494] -108 -108 -108 -108 -108 ...\n",
      "  ..$ tension    : num [1:6494] -1 2 -1 7 8 0 9 3 8 3 ...\n",
      " $ :'data.frame':\t6494 obs. of  11 variables:\n",
      "  ..$ lat        : num [1:6494] 34.2 34.2 34.2 34.2 34.2 ...\n",
      "  ..$ lon        : num [1:6494] -121 -121 -121 -121 -121 ...\n",
      "  ..$ time       : num [1:6494] 1.5e+09 1.5e+09 1.5e+09 1.5e+09 1.5e+09 ."
     ]
    },
    {
     "data": {
      "text/html": [
       "<b>limit_output extension: Maximum message size of 1000 exceeded with 115409 characters</b>"
      ]
     },
     "metadata": {},
     "output_type": "display_data"
    }
   ],
   "source": [
    "str(data)"
   ]
  },
  {
   "cell_type": "code",
   "execution_count": null,
   "metadata": {},
   "outputs": [],
   "source": []
  }
 ],
 "metadata": {
  "kernelspec": {
   "display_name": "R",
   "language": "R",
   "name": "ir"
  },
  "language_info": {
   "codemirror_mode": "r",
   "file_extension": ".r",
   "mimetype": "text/x-r-source",
   "name": "R",
   "pygments_lexer": "r",
   "version": "3.4.2"
  },
  "toc": {
   "nav_menu": {},
   "number_sections": true,
   "sideBar": true,
   "skip_h1_title": false,
   "toc_cell": false,
   "toc_position": {},
   "toc_section_display": "block",
   "toc_window_display": false
  },
  "varInspector": {
   "cols": {
    "lenName": 16,
    "lenType": 16,
    "lenVar": 40
   },
   "kernels_config": {
    "python": {
     "delete_cmd_postfix": "",
     "delete_cmd_prefix": "del ",
     "library": "var_list.py",
     "varRefreshCmd": "print(var_dic_list())"
    },
    "r": {
     "delete_cmd_postfix": ") ",
     "delete_cmd_prefix": "rm(",
     "library": "var_list.r",
     "varRefreshCmd": "cat(var_dic_list()) "
    }
   },
   "types_to_exclude": [
    "module",
    "function",
    "builtin_function_or_method",
    "instance",
    "_Feature"
   ],
   "window_display": false
  }
 },
 "nbformat": 4,
 "nbformat_minor": 2
}
