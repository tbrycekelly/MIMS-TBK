{
 "cells": [
  {
   "cell_type": "markdown",
   "metadata": {},
   "source": [
    "# Structure of this file\n",
    "---\n",
    "\n",
    "## 1. Read Wind Data _(external)_\n",
    "    i. Determine coordinates (lat, lon, time)\n",
    "    ii. Trim to study region\n",
    "\t\t\t\n",
    "\t\t\t\n",
    "## 2. Read Ship Data _(external)_\n",
    "\ti. Average over N minutes\n",
    "\t\t\t\n",
    "\t\t\t\n",
    "## 3. Map wind data to ship\n",
    "\ti. Interpolate\n",
    "\tii. Calculate N-day average\n",
    "\t\t\t\n",
    "\t\t\t\n",
    "## 4. Read CTD Data _(external)_\n",
    "\ti. Define and Calculate MLD\n",
    "\tii. Map MLD to ship data\n",
    "\t\t\t\n",
    "\t\t\t\n",
    "## 5. Review Data\n",
    "    i. Plot Wind\n",
    "    ii. Plot MLD and wind grid\n",
    "    iii. Plot ship vs NCEP wind\n",
    "\n",
    "\n",
    "## 6. EIMS Data _(internal & external)_\n",
    "    i. 6a: Interpolate EIMS Data\n",
    "    ii. 6b: Check EIMS Interpolation\n",
    "\n",
    "\n",
    "## 7. Cycle Information\n",
    "    i. Read CTD Data\n",
    "    ii. Add cycles to ship.data\n",
    "\n",
    "---\n",
    "\n",
    "### Introduction\n",
    "__First__ we need to load up the relevent libraries and define any helper functions."
   ]
  },
  {
   "cell_type": "code",
   "execution_count": 89,
   "metadata": {},
   "outputs": [
    {
     "data": {
      "text/html": [
       "3"
      ],
      "text/latex": [
       "3"
      ],
      "text/markdown": [
       "3"
      ],
      "text/plain": [
       "[1] 3"
      ]
     },
     "metadata": {},
     "output_type": "display_data"
    }
   ],
   "source": [
    "## Install the package if needed:\n",
    "#install.packages('Mcomp', repos='http://cran.us.r-project.org')\n",
    "\n",
    "## Load the relevent packages\n",
    "library(ncdf4)  # For reading in the NCEP wind fields\n",
    "#library(R.matlab)  # If you need to read in matlab .mat files\n",
    "library(openxlsx)  # If you need to read in .xlsx files\n",
    "#library(rNOMADS)  # For reading grib2 data files (NOMADS data for instance)\n",
    "#library(rGDAL)  #\n",
    "library(RColorBrewer)\n",
    "library(compiler)  # required for JIT (below)\n",
    "\n",
    "## Enable compilation (speed gain?)\n",
    "enableJIT(3)\n",
    "\n",
    "## Helper function for converting the date time stamps.\n",
    "conv_excel_time = function(x, tz='US/Pacific') {\n",
    "    as.POSIXct(as.Date(x,origin=\"1899-12-30\", tz=tz))\n",
    "}\n",
    "\n",
    "get.qual.pal = function(n=100, pal='Accent') {\n",
    "    colorRampPalette(brewer.pal(8, pal))(n)\n",
    "}\n",
    "\n",
    "get.seq.pal = function(n=100, pal='YlOrRd') {\n",
    "    colorRampPalette(rev(brewer.pal(11, pal)))(n)\n",
    "}\n",
    "\n",
    "get.div.pal = function(n=100, pal='Spectral') {\n",
    "    colorRampPalette(rev(brewer.pal(11, pal)))(n)\n",
    "}\n",
    "\n",
    "make.div.pal = function(x=100, n, pal='Spectral') {\n",
    "    get.div.pal(n, pal=pal)[as.numeric(cut(x, breaks = n))]\n",
    "}"
   ]
  },
  {
   "cell_type": "markdown",
   "metadata": {},
   "source": [
    "# 1. Load the Wind Data"
   ]
  },
  {
   "cell_type": "code",
   "execution_count": 123,
   "metadata": {
    "collapsed": true
   },
   "outputs": [],
   "source": [
    "load('./RStates/wind.lat.rdata')\n",
    "load('./RStates/wind.lon.rdata')\n",
    "load('./RStates/wind.ncep.rdata')\n",
    "load('./RStates/time.actual.rdata')"
   ]
  },
  {
   "cell_type": "markdown",
   "metadata": {},
   "source": [
    "---\n",
    "# 2. Load and prepare ship data\n",
    "This section deals with the loading of the met-merge data. Once loaded and the structure is verified, a 2 minute average is taken for all parameters. Once completed, the next section will add the NCEP wind data and MLD to the data frame.The file structure which this script is looking for is as follows where Vars are in any order but with the proper abbreviations.\n",
    "\n",
    "``Datetime  Var1   Var2  Var3 ...``\n",
    "\n",
    "Variable Descriptions and Abbreviations\n",
    "* __DT -- Date Time__\n",
    "* __TW -- True Wind__\n",
    "* TI  -- Wind Dir\n",
    "* __LA -- Latitude__\n",
    "* __LO -- Longitude__\n",
    "* __AT -- Atm Temp__\n",
    "* __BP -- Pressure__\n",
    "* PA -- PAR\n",
    "* __TT (TT2*)  -- Water Temp__\n",
    "* __SA -- Salinity__\n",
    "* __OS -- Oxygen__\n",
    "* FL -- Fluorometer\n",
    "* BT -- Bottom Depth\n",
    "\n",
    "___NB___: Bold identies required columns while the others are used for additional analyses."
   ]
  },
  {
   "cell_type": "code",
   "execution_count": 124,
   "metadata": {
    "collapsed": true
   },
   "outputs": [],
   "source": [
    "## Load the data if already run:\n",
    "\n",
    "load('./RStates/ship.avg.rdata')"
   ]
  },
  {
   "cell_type": "markdown",
   "metadata": {},
   "source": [
    "---\n",
    "# 3. Determine MLD\n",
    "This section reads in the CTD downcast files and identifies the 0.03 density change to calculate the MLD. THe MLD is then linearly interpolated onto the ship's track."
   ]
  },
  {
   "cell_type": "code",
   "execution_count": 125,
   "metadata": {
    "collapsed": true
   },
   "outputs": [],
   "source": [
    "load('./RStates/mld.rdata')\n",
    "load('./RStates/mld.times.rdata')"
   ]
  },
  {
   "cell_type": "code",
   "execution_count": 126,
   "metadata": {
    "collapsed": true
   },
   "outputs": [],
   "source": [
    "## Time to add the MLD variable to the main data set and interpolate\n",
    "ship.data$MLD = 0\n",
    "\n",
    "for (i in 1:nrow(ship.data)) {\n",
    "    dt = abs(as.numeric(difftime(ship.data$DT[i], mld.times, units='hours')))\n",
    "    dt.order = order(dt)\n",
    "    \n",
    "    ## Calculate the linear interpolation of the 2 closest MLD measurements\n",
    "    w.1 = dt.order[1]\n",
    "    if (as.numeric(difftime(ship.data$DT[i], mld.times[w.1], units='hours')) > 0) { # Shiptime is after ctd time\n",
    "        w.2 = min(w.1 + 1, nrow(mld.times))\n",
    "    } else {\n",
    "        w.2 = max(1, w.1 - 1)\n",
    "    }\n",
    "    \n",
    "    dt.1 = dt[w.1]\n",
    "    dt.2 = dt[w.2]\n",
    "    dist.1 = sqrt( (mld$Lat[w.1] - ship.data$LA[i])^2 + (mld$Long[w.1] - ship.data$LO[i])^2 )\n",
    "    dist.2 = sqrt( (mld$Lat[w.2] - ship.data$LA[i])^2 + (mld$Long[w.2] - ship.data$LO[i])^2 )\n",
    "    mld.1 = mld$mld[w.1]\n",
    "    mld.2 = mld$mld[w.2]\n",
    "    \n",
    "    ## MLD is the linear interpolation from the two closest casts based on time (not distance).\n",
    "    ship.data$MLD[i] = mld.1 * (dist.2 / (dist.1 + dist.2)) + mld.2 * (dist.1 / (dist.1 + dist.2))\n",
    "}"
   ]
  },
  {
   "cell_type": "markdown",
   "metadata": {},
   "source": [
    "---\n",
    "# 4. Wind Integration\n",
    "With the ship data loaded we must now interpolate the grid of the NCEP data ont othe ship's track. Here we simply do the average wind speed value for the 4 closest NCEP grid points (weighted such that the closer the grid point is the more important it is) for each track position. We then linearly interpolate this speed across the two closest times.\n",
    "\n",
    "The 5 day intergration is done as a simple average across the 5 days prior to the current ship time using the same 4 grid point average.\n",
    "\n",
    "Interpolations to consider\n",
    "* Simple average (n points considered; quick to compute, ignorant of space or time)\n",
    "* Based on distance to point (can be 2, 3, 4, or n point average)\n",
    "* Bilinear (takes into account the spatial structure, likely to be identical to distance with n=4)\n",
    "* Non-standard distance metric (weigths based on other than euclidean distance)\n",
    "* Lienar interpolation (special case on distance with n=2, seems like the ideal for temporal interpolation)"
   ]
  },
  {
   "cell_type": "code",
   "execution_count": 127,
   "metadata": {
    "collapsed": true
   },
   "outputs": [],
   "source": [
    "## Load the data if already present\n",
    "load('./RStates/ship.avg.wind.rdata')"
   ]
  },
  {
   "cell_type": "code",
   "execution_count": 128,
   "metadata": {
    "collapsed": true
   },
   "outputs": [],
   "source": [
    "#### Calcualtes the schmidt Number\n",
    "## \n",
    "## \n",
    "## \n",
    "schmidt.number = function(SST) {\n",
    "    \n",
    "    ## Parameters of fit from Wannikhof 1992.\n",
    "    a = 1953.4\n",
    "    b = 128.00\n",
    "    c = 3.9918\n",
    "    d = 0.050091\n",
    "    \n",
    "    ## Calculate teh Schmidt Number\n",
    "    a - b*SST + c*(SST^2) - d*(SST^3)\n",
    "}\n",
    "\n",
    "#### Calcualtes k\n",
    "## \n",
    "## \n",
    "## \n",
    "k.calc = function(u, SST) {\n",
    "   # 0.31 * u^2 / sqrt(schmidt.number(SST)/660)\n",
    "    0.074 * u^2 / sqrt(schmidt.number(SST)/660)  # m/d\n",
    "}\n",
    "\n",
    "#### Ventilation\n",
    "##\n",
    "## This function calculates the temporal length scale of the NCP measurement. Essentially it \n",
    "## calculates the ventilation based on water column and wind speed over a sequence of measurements (equally spaced).\n",
    "##\n",
    "##\n",
    "ventilation = function(ws, mld, SST, dt) {\n",
    "    weights = 1\n",
    "    k.result = k.calc(ws, SST)\n",
    "    \n",
    "    if (length(ws) == 1) {\n",
    "        return(k.result / mld)\n",
    "    }\n",
    "    \n",
    "    #### Loop through and sequentially calculate the transfer velocities and weighting of ventilation\n",
    "    ##\n",
    "    for (i in 2:length(ws)) {\n",
    "        ## Calculate the weighting per Reuer et al.\n",
    "        f.temp = min(k.result[i-1] * dt[i] / mld, 1)\n",
    "        weights[i] = weights[i-1] * (1 - f.temp)\n",
    "        \n",
    "    }\n",
    "    \n",
    "    #### Final Calculations\n",
    "    k.final = sum(weights * k.result) / (1-weights[length(weights)])\n",
    "    k.final / sum(weights) ## Normalize\n",
    "}"
   ]
  },
  {
   "cell_type": "code",
   "execution_count": null,
   "metadata": {
    "scrolled": false
   },
   "outputs": [],
   "source": [
    "###########################\n",
    "## Schmidt Number Review ##\n",
    "###########################\n",
    "par(mfrow=c(2,2))\n",
    "sst = seq(5, 25, 0.1)\n",
    "plot(sst, schmidt.number(sst), type='l', lwd=3)\n",
    "\n",
    "###################\n",
    "## k.calc review ##\n",
    "###################\n",
    "library(lattice)\n",
    "u = seq(0, 20, 0.1)\n",
    "\n",
    "temp = expand.grid(u=u, sst=sst)\n",
    "temp$k = k.calc(temp$u, temp$sst)\n",
    "levelplot(k ~ u * sst, data=temp, )\n",
    "\n",
    "#################\n",
    "## Ventilation ##\n",
    "#################\n",
    "ws = rep(2, 40)\n",
    "dt = rep(0.25, 40)\n",
    "ans = NULL\n",
    "for (i in 1:40) {\n",
    "    ans = c(ans, ventilation(ws[1:i], mld = 15, SST = 15, dt[1:i]))\n",
    "}\n",
    "\n",
    "plot(ans, ylab='k value', xlab='Integration time')\n",
    "lines(x=c(0,100), y=rep(k.calc(ws[1], sst[1])))"
   ]
  },
  {
   "cell_type": "code",
   "execution_count": 129,
   "metadata": {
    "collapsed": true
   },
   "outputs": [],
   "source": [
    "## How many points to interpolate from?\n",
    "N = 4\n",
    "Int.t = 30 # days\n",
    "\n",
    "## First start by creating some new variables\n",
    "ship.data$NCEP = 0\n",
    "ship.data$k = 0\n",
    "\n",
    "## Correction for offset\n",
    "wind.ncep = (wind.ncep - 1.53) / 0.783\n",
    "\n",
    "## Loop through and populate the variables one row at a time\n",
    "for (i in 1:nrow(ship.data)) {\n",
    "    \n",
    "    #######################\n",
    "    ##### Time section ####\n",
    "    #######################\n",
    "    \n",
    "    ## Calculate the difference in time between the ship data and the NCEP times (time.actual)\n",
    "    dt = abs(as.numeric(difftime(ship.data$DT[i], time.actual, units = 'days')))\n",
    "    \n",
    "    time.order = order(dt) # smallest 2 values are the two closest times\n",
    "    time.1 = time.order[1]\n",
    "    time.2 = time.order[2]\n",
    "    \n",
    "    #########################\n",
    "    ##### Space section #####\n",
    "    ##########################\n",
    "    \n",
    "    ## Calculate the separation betweeen the ship and NCEP grid points\n",
    "    dy = (ship.data$LA[i] - wind.lat)^2\n",
    "    dx = (ship.data$LO[i] - wind.lon)^2\n",
    "    \n",
    "    dd = dx + dy\n",
    "    d.order = order(dd)\n",
    "    \n",
    "    ####\n",
    "    ## The N closest grid points in the NCEP data will be the 1st ... N smallest dx \n",
    "    # and dy indices\n",
    "    #\n",
    "    # From the distance vector, dd, we will generate the weights such that sum(weights) = 1 \n",
    "    # and if distance = 0 than weight = 1.\n",
    "    ###\n",
    "    \n",
    "    ll = d.order[c(1:N)] # which grid cells are closest?\n",
    "    dd = dd[ll] ## Calculate the distance vector\n",
    "    \n",
    "    ## Normalize the distance vector if using n > 1 interpolation and transform to weights\n",
    "    dd = 1 - dd / sum(dd)\n",
    "    dd = dd / sum(dd)\n",
    "    \n",
    "    if (length(dd) == 1) { ## If N = 1 then the normalization above wont work.\n",
    "        dd = 1\n",
    "    }\n",
    "    \n",
    "    ## Calculate the wind at position for the 2 closest times\n",
    "    # (NB. assumes t1 < t.ship < t2 or t2 < t.ship < t1)\n",
    "    #\n",
    "    wind = c(sum(wind.ncep[ll, time.1] * dd), sum(wind.ncep[ll, time.2] * dd))\n",
    "     \n",
    "    ## Linear interpolation with time (sum of weights = 1 and weight = 1 when dt is 0)\n",
    "    ship.data$NCEP[i] = wind[1] * dt[time.2] / sum(dt[c(time.1, time.2)]) + wind[2] * dt[time.1] / sum(dt[c(time.1, time.2)])\n",
    "    \n",
    "    ####################\n",
    "    ## k calc section ##\n",
    "    ####################\n",
    "    ## Determine the time seperation between each wind measurement\n",
    "    delta.t = abs(c(0, as.numeric(difftime(ship.data$DT[i], time.actual[day.5], unit='days'))))\n",
    "    \n",
    "    ## run the ventilation algorithm on the data.\n",
    "    ship.data$k[i] = ventilation(wind.temp, ship.data$MLD[i], ship.data$TT[i], delta.t)\n",
    "    \n",
    "}"
   ]
  },
  {
   "cell_type": "code",
   "execution_count": 130,
   "metadata": {},
   "outputs": [
    {
     "data": {
      "text/plain": [
       "   Min. 1st Qu.  Median    Mean 3rd Qu.    Max.    NA's \n",
       " 0.1099  0.1321  0.1376  0.1581  0.1732  0.3873      11 "
      ]
     },
     "metadata": {},
     "output_type": "display_data"
    }
   ],
   "source": [
    "## Check on k distribution\n",
    "summary(ship.data$k)"
   ]
  },
  {
   "cell_type": "code",
   "execution_count": 131,
   "metadata": {
    "collapsed": true
   },
   "outputs": [],
   "source": [
    "save(ship.data, file='./RStates/ship.avg.wind.rdata')\n",
    "write.xlsx(ship.data, file='./Input Data/Shipdata - Wind.xlsx')"
   ]
  },
  {
   "cell_type": "markdown",
   "metadata": {},
   "source": [
    "---\n",
    "# 5. Review and check data\n",
    "Let's plot up some of the data now:"
   ]
  },
  {
   "cell_type": "code",
   "execution_count": 132,
   "metadata": {
    "scrolled": false
   },
   "outputs": [
    {
     "data": {
      "image/png": "[encoded data removed]",
      "text/plain": [
       "Plot with title \"Mixed Layer Depth\""
      ]
     },
     "metadata": {},
     "output_type": "display_data"
    },
    {
     "data": {
      "image/png": "[encoded data removed]",
      "text/plain": [
       "plot without title"
      ]
     },
     "metadata": {},
     "output_type": "display_data"
    }
   ],
   "source": [
    "#pdf('./Output/Latest Wind.pdf')\n",
    "par(mfrow=c(2,1))\n",
    "\n",
    "################\n",
    "## Plot Winds ##\n",
    "################\n",
    "plot(ship.data$DT, ship.data$TW, ylim=c(0,20), main='Ship-based Wind', xlab='', ylab='Wind Speed (m/s)', type='l')\n",
    "lines(ship.data$DT, ship.data$NCEP, col='red', lwd=2)\n",
    "\n",
    "##############\n",
    "## MLD Plot ##\n",
    "##############\n",
    "plot(ship.data$DT, ship.data$MLD, type='l', ylab='Depth (m)', main='Mixed Layer Depth')\n",
    "\n",
    "\n",
    "######################\n",
    "### Plot of region ###\n",
    "######################\n",
    "## Plot showing the ship's track along with the grid points in the NCEP/NCAR data set\n",
    "\n",
    "plot(ship.data$LO, ship.data$LA, type='l', ylim=c(32,38), xlab='Longitude', ylab='Latitude')\n",
    "\n",
    "## Add grid points\n",
    "for (i in 1:length(wind.lat)) {\n",
    "    points(wind.lon[i], wind.lat[i], col='red', pch=16)\n",
    "}\n",
    "\n",
    "\n",
    "############################\n",
    "### Plot with regression ###\n",
    "############################\n",
    "plot(ship.data$TW, ship.data$NCEP, col='#000020', pch=16, xlab='Ship Avg Wind', ylab='NCEP Avg Wind')\n",
    "model = lm(NCEP ~ TW, data = ship.data)\n",
    "\n",
    "lines(c(1:100), predict(model, newdata = data.frame(TW = c(1:100))), col='red')\n",
    "#dev.off()"
   ]
  },
  {
   "cell_type": "code",
   "execution_count": 133,
   "metadata": {},
   "outputs": [
    {
     "data": {
      "text/html": [
       "<dl class=dl-horizontal>\n",
       "\t<dt>(Intercept)</dt>\n",
       "\t\t<dd>-0.00186546528937176</dd>\n",
       "\t<dt>TW</dt>\n",
       "\t\t<dd>0.999374373557125</dd>\n",
       "</dl>\n"
      ],
      "text/latex": [
       "\\begin{description*}\n",
       "\\item[(Intercept)] -0.00186546528937176\n",
       "\\item[TW] 0.999374373557125\n",
       "\\end{description*}\n"
      ],
      "text/markdown": [
       "(Intercept)\n",
       ":   -0.00186546528937176TW\n",
       ":   0.999374373557125\n",
       "\n"
      ],
      "text/plain": [
       " (Intercept)           TW \n",
       "-0.001865465  0.999374374 "
      ]
     },
     "metadata": {},
     "output_type": "display_data"
    }
   ],
   "source": [
    "## TODO: do this correction before calculating k !!!! \n",
    "model = lm(NCEP ~ TW, data = ship.data)\n",
    "coefficients(model)\n",
    "\n",
    "#ship.data$NCEP = (ship.data$NCEP - coefficients(model)[[1]]) / coefficients(model)[[2]]"
   ]
  },
  {
   "cell_type": "markdown",
   "metadata": {},
   "source": [
    "---\n",
    "\n",
    "# 6. O2 Argon Data (EIMS)\n",
    "This section will load the EIMS data and merge the useful columns with ship.data. The merge is done with linear interpolations baed on time.\n",
    "\n",
    "Additionally, a new FLAG column will be added in order to monitor the sources & assumptions of the data going into the NCP calculations."
   ]
  },
  {
   "cell_type": "code",
   "execution_count": 102,
   "metadata": {
    "collapsed": true
   },
   "outputs": [],
   "source": [
    "load(file='./RStates/ship.final.rdata') # Includes EIMS data, but don;t need another copy"
   ]
  },
  {
   "cell_type": "code",
   "execution_count": 134,
   "metadata": {
    "collapsed": true
   },
   "outputs": [],
   "source": [
    "load('./RStates/EIMS.v1.rdata')\n",
    "load('./RStates/EIMS.v2.rdata')"
   ]
  },
  {
   "cell_type": "code",
   "execution_count": 135,
   "metadata": {},
   "outputs": [
    {
     "data": {
      "text/html": [
       "<table>\n",
       "<thead><tr><th></th><th scope=col>cycle..</th><th scope=col>time</th><th scope=col>X18.03</th><th scope=col>X28.03</th><th scope=col>X32</th><th scope=col>X40</th><th scope=col>X44.06</th><th scope=col>X45.06</th><th scope=col>TP</th><th scope=col>N2.Ar</th><th scope=col>...</th><th scope=col>Temp..C.</th><th scope=col>Calphase..C.</th><th scope=col>TCphase..C.</th><th scope=col>C1..C.</th><th scope=col>C2..C.</th><th scope=col>inlet</th><th scope=col>sock</th><th scope=col>outlet</th><th scope=col>MS</th><th scope=col>flow</th></tr></thead>\n",
       "<tbody>\n",
       "\t<tr><th scope=row>47</th><td>Unknown            </td><td>2017-06-02 12:01:00</td><td>8.919043e-09       </td><td>4.490319e-07       </td><td>1.120532e-07       </td><td>4.362128e-09       </td><td>2.954149e-10       </td><td>4.164681e-12       </td><td>4.106383e-06       </td><td>102.9309           </td><td>...                </td><td>17.75898           </td><td>27.43879           </td><td>28.69430           </td><td>33.28246           </td><td>4.588745           </td><td>16.95098           </td><td>17.06763           </td><td>17.02437           </td><td>46.47928           </td><td> 99.98373          </td></tr>\n",
       "\t<tr><th scope=row>141</th><td>Unknown            </td><td>2017-06-02 12:03:00</td><td>8.976559e-09       </td><td>4.480323e-07       </td><td>1.120323e-07       </td><td>4.359570e-09       </td><td>2.956344e-10       </td><td>4.160645e-12       </td><td>4.101613e-06       </td><td>102.7690           </td><td>...                </td><td>17.73992           </td><td>27.42549           </td><td>28.68258           </td><td>33.26848           </td><td>4.585903           </td><td>16.93328           </td><td>17.05330           </td><td>17.00675           </td><td>46.50524           </td><td>100.07391          </td></tr>\n",
       "\t<tr><th scope=row>234</th><td>Unknown            </td><td>2017-06-02 12:05:00</td><td>9.031075e-09       </td><td>4.477527e-07       </td><td>1.120108e-07       </td><td>4.360215e-09       </td><td>2.946882e-10       </td><td>4.099892e-12       </td><td>4.099247e-06       </td><td>102.6906           </td><td>...                </td><td>17.71471           </td><td>27.40387           </td><td>28.66320           </td><td>33.24838           </td><td>4.585172           </td><td>16.90185           </td><td>17.03439           </td><td>16.97514           </td><td>46.54549           </td><td>100.00705          </td></tr>\n",
       "\t<tr><th scope=row>327</th><td>Unknown            </td><td>2017-06-02 12:07:00</td><td>9.076882e-09       </td><td>4.478817e-07       </td><td>1.122043e-07       </td><td>4.363548e-09       </td><td>2.941075e-10       </td><td>4.114839e-12       </td><td>4.099677e-06       </td><td>102.6284           </td><td>...                </td><td>17.67248           </td><td>27.38199           </td><td>28.64373           </td><td>33.22881           </td><td>4.585075           </td><td>16.86569           </td><td>16.99800           </td><td>16.93933           </td><td>46.55198           </td><td>100.01501          </td></tr>\n",
       "\t<tr><th scope=row>420</th><td>Unknown            </td><td>2017-06-02 12:09:00</td><td>9.100213e-09       </td><td>4.474255e-07       </td><td>1.122979e-07       </td><td>4.360957e-09       </td><td>2.936277e-10       </td><td>4.099043e-12       </td><td>4.099149e-06       </td><td>102.5924           </td><td>...                </td><td>17.70650           </td><td>27.38843           </td><td>28.64951           </td><td>33.23594           </td><td>4.586840           </td><td>16.92677           </td><td>17.00330           </td><td>17.00117           </td><td>46.51763           </td><td> 99.97772          </td></tr>\n",
       "\t<tr><th scope=row>514</th><td>Unknown            </td><td>2017-06-02 12:11:00</td><td>9.118280e-09       </td><td>4.467419e-07       </td><td>1.121398e-07       </td><td>4.357097e-09       </td><td>2.934409e-10       </td><td>4.100968e-12       </td><td>4.094731e-06       </td><td>102.5334           </td><td>...                </td><td>17.74858           </td><td>27.41048           </td><td>28.66882           </td><td>33.25456           </td><td>4.585828           </td><td>16.94481           </td><td>17.04127           </td><td>17.01824           </td><td>46.58072           </td><td> 99.95608          </td></tr>\n",
       "</tbody>\n",
       "</table>\n"
      ],
      "text/latex": [
       "\\begin{tabular}{r|llllllllllllllllllllllll}\n",
       "  & cycle.. & time & X18.03 & X28.03 & X32 & X40 & X44.06 & X45.06 & TP & N2.Ar & ... & Temp..C. & Calphase..C. & TCphase..C. & C1..C. & C2..C. & inlet & sock & outlet & MS & flow\\\\\n",
       "\\hline\n",
       "\t47 & Unknown             & 2017-06-02 12:01:00 & 8.919043e-09        & 4.490319e-07        & 1.120532e-07        & 4.362128e-09        & 2.954149e-10        & 4.164681e-12        & 4.106383e-06        & 102.9309            & ...                 & 17.75898            & 27.43879            & 28.69430            & 33.28246            & 4.588745            & 16.95098            & 17.06763            & 17.02437            & 46.47928            &  99.98373          \\\\\n",
       "\t141 & Unknown             & 2017-06-02 12:03:00 & 8.976559e-09        & 4.480323e-07        & 1.120323e-07        & 4.359570e-09        & 2.956344e-10        & 4.160645e-12        & 4.101613e-06        & 102.7690            & ...                 & 17.73992            & 27.42549            & 28.68258            & 33.26848            & 4.585903            & 16.93328            & 17.05330            & 17.00675            & 46.50524            & 100.07391          \\\\\n",
       "\t234 & Unknown             & 2017-06-02 12:05:00 & 9.031075e-09        & 4.477527e-07        & 1.120108e-07        & 4.360215e-09        & 2.946882e-10        & 4.099892e-12        & 4.099247e-06        & 102.6906            & ...                 & 17.71471            & 27.40387            & 28.66320            & 33.24838            & 4.585172            & 16.90185            & 17.03439            & 16.97514            & 46.54549            & 100.00705          \\\\\n",
       "\t327 & Unknown             & 2017-06-02 12:07:00 & 9.076882e-09        & 4.478817e-07        & 1.122043e-07        & 4.363548e-09        & 2.941075e-10        & 4.114839e-12        & 4.099677e-06        & 102.6284            & ...                 & 17.67248            & 27.38199            & 28.64373            & 33.22881            & 4.585075            & 16.86569            & 16.99800            & 16.93933            & 46.55198            & 100.01501          \\\\\n",
       "\t420 & Unknown             & 2017-06-02 12:09:00 & 9.100213e-09        & 4.474255e-07        & 1.122979e-07        & 4.360957e-09        & 2.936277e-10        & 4.099043e-12        & 4.099149e-06        & 102.5924            & ...                 & 17.70650            & 27.38843            & 28.64951            & 33.23594            & 4.586840            & 16.92677            & 17.00330            & 17.00117            & 46.51763            &  99.97772          \\\\\n",
       "\t514 & Unknown             & 2017-06-02 12:11:00 & 9.118280e-09        & 4.467419e-07        & 1.121398e-07        & 4.357097e-09        & 2.934409e-10        & 4.100968e-12        & 4.094731e-06        & 102.5334            & ...                 & 17.74858            & 27.41048            & 28.66882            & 33.25456            & 4.585828            & 16.94481            & 17.04127            & 17.01824            & 46.58072            &  99.95608          \\\\\n",
       "\\end{tabular}\n"
      ],
      "text/markdown": [
       "\n",
       "| <!--/--> | cycle.. | time | X18.03 | X28.03 | X32 | X40 | X44.06 | X45.06 | TP | N2.Ar | ... | Temp..C. | Calphase..C. | TCphase..C. | C1..C. | C2..C. | inlet | sock | outlet | MS | flow | \n",
       "|---|---|---|---|---|---|\n",
       "| 47 | Unknown             | 2017-06-02 12:01:00 | 8.919043e-09        | 4.490319e-07        | 1.120532e-07        | 4.362128e-09        | 2.954149e-10        | 4.164681e-12        | 4.106383e-06        | 102.9309            | ...                 | 17.75898            | 27.43879            | 28.69430            | 33.28246            | 4.588745            | 16.95098            | 17.06763            | 17.02437            | 46.47928            |  99.98373           | \n",
       "| 141 | Unknown             | 2017-06-02 12:03:00 | 8.976559e-09        | 4.480323e-07        | 1.120323e-07        | 4.359570e-09        | 2.956344e-10        | 4.160645e-12        | 4.101613e-06        | 102.7690            | ...                 | 17.73992            | 27.42549            | 28.68258            | 33.26848            | 4.585903            | 16.93328            | 17.05330            | 17.00675            | 46.50524            | 100.07391           | \n",
       "| 234 | Unknown             | 2017-06-02 12:05:00 | 9.031075e-09        | 4.477527e-07        | 1.120108e-07        | 4.360215e-09        | 2.946882e-10        | 4.099892e-12        | 4.099247e-06        | 102.6906            | ...                 | 17.71471            | 27.40387            | 28.66320            | 33.24838            | 4.585172            | 16.90185            | 17.03439            | 16.97514            | 46.54549            | 100.00705           | \n",
       "| 327 | Unknown             | 2017-06-02 12:07:00 | 9.076882e-09        | 4.478817e-07        | 1.122043e-07        | 4.363548e-09        | 2.941075e-10        | 4.114839e-12        | 4.099677e-06        | 102.6284            | ...                 | 17.67248            | 27.38199            | 28.64373            | 33.22881            | 4.585075            | 16.86569            | 16.99800            | 16.93933            | 46.55198            | 100.01501           | \n",
       "| 420 | Unknown             | 2017-06-02 12:09:00 | 9.100213e-09        | 4.474255e-07        | 1.122979e-07        | 4.360957e-09        | 2.936277e-10        | 4.099043e-12        | 4.099149e-06        | 102.5924            | ...                 | 17.70650            | 27.38843            | 28.64951            | 33.23594            | 4.586840            | 16.92677            | 17.00330            | 17.00117            | 46.51763            |  99.97772           | \n",
       "| 514 | Unknown             | 2017-06-02 12:11:00 | 9.118280e-09        | 4.467419e-07        | 1.121398e-07        | 4.357097e-09        | 2.934409e-10        | 4.100968e-12        | 4.094731e-06        | 102.5334            | ...                 | 17.74858            | 27.41048            | 28.66882            | 33.25456            | 4.585828            | 16.94481            | 17.04127            | 17.01824            | 46.58072            |  99.95608           | \n",
       "\n",
       "\n"
      ],
      "text/plain": [
       "    cycle.. time                X18.03       X28.03       X32         \n",
       "47  Unknown 2017-06-02 12:01:00 8.919043e-09 4.490319e-07 1.120532e-07\n",
       "141 Unknown 2017-06-02 12:03:00 8.976559e-09 4.480323e-07 1.120323e-07\n",
       "234 Unknown 2017-06-02 12:05:00 9.031075e-09 4.477527e-07 1.120108e-07\n",
       "327 Unknown 2017-06-02 12:07:00 9.076882e-09 4.478817e-07 1.122043e-07\n",
       "420 Unknown 2017-06-02 12:09:00 9.100213e-09 4.474255e-07 1.122979e-07\n",
       "514 Unknown 2017-06-02 12:11:00 9.118280e-09 4.467419e-07 1.121398e-07\n",
       "    X40          X44.06       X45.06       TP           N2.Ar    ... Temp..C.\n",
       "47  4.362128e-09 2.954149e-10 4.164681e-12 4.106383e-06 102.9309 ... 17.75898\n",
       "141 4.359570e-09 2.956344e-10 4.160645e-12 4.101613e-06 102.7690 ... 17.73992\n",
       "234 4.360215e-09 2.946882e-10 4.099892e-12 4.099247e-06 102.6906 ... 17.71471\n",
       "327 4.363548e-09 2.941075e-10 4.114839e-12 4.099677e-06 102.6284 ... 17.67248\n",
       "420 4.360957e-09 2.936277e-10 4.099043e-12 4.099149e-06 102.5924 ... 17.70650\n",
       "514 4.357097e-09 2.934409e-10 4.100968e-12 4.094731e-06 102.5334 ... 17.74858\n",
       "    Calphase..C. TCphase..C. C1..C.   C2..C.   inlet    sock     outlet  \n",
       "47  27.43879     28.69430    33.28246 4.588745 16.95098 17.06763 17.02437\n",
       "141 27.42549     28.68258    33.26848 4.585903 16.93328 17.05330 17.00675\n",
       "234 27.40387     28.66320    33.24838 4.585172 16.90185 17.03439 16.97514\n",
       "327 27.38199     28.64373    33.22881 4.585075 16.86569 16.99800 16.93933\n",
       "420 27.38843     28.64951    33.23594 4.586840 16.92677 17.00330 17.00117\n",
       "514 27.41048     28.66882    33.25456 4.585828 16.94481 17.04127 17.01824\n",
       "    MS       flow     \n",
       "47  46.47928  99.98373\n",
       "141 46.50524 100.07391\n",
       "234 46.54549 100.00705\n",
       "327 46.55198 100.01501\n",
       "420 46.51763  99.97772\n",
       "514 46.58072  99.95608"
      ]
     },
     "metadata": {},
     "output_type": "display_data"
    },
    {
     "name": "stdout",
     "output_type": "stream",
     "text": [
      "'data.frame':\t13166 obs. of  24 variables:\n",
      " $ cycle..     : chr  \"Unknown\" \"Unknown\" \"Unknown\" \"Unknown\" ...\n",
      " $ time        : POSIXct, format: \"2017-06-02 12:01:00\" \"2017-06-02 12:03:00\" ...\n",
      " $ X18.03      : num  8.92e-09 8.98e-09 9.03e-09 9.08e-09 9.10e-09 ...\n",
      " $ X28.03      : num  4.49e-07 4.48e-07 4.48e-07 4.48e-07 4.47e-07 ...\n",
      " $ X32         : num  1.12e-07 1.12e-07 1.12e-07 1.12e-07 1.12e-07 ...\n",
      " $ X40         : num  4.36e-09 4.36e-09 4.36e-09 4.36e-09 4.36e-09 ...\n",
      " $ X44.06      : num  2.95e-10 2.96e-10 2.95e-10 2.94e-10 2.94e-10 ...\n",
      " $ X45.06      : num  4.16e-12 4.16e-12 4.10e-12 4.11e-12 4.10e-12 ...\n",
      " $ TP          : num  4.11e-06 4.10e-06 4.10e-06 4.10e-06 4.10e-06 ...\n",
      " $ N2.Ar       : num  103 103 103 103 103 ...\n",
      " $ O2.Ar       : num  25.7 25.7 25.7 25.7 25.8 ...\n",
      " $ N2.O2       : num  4.01 4 4 3.99 3.98 ...\n",
      " $ O2..uM.     : num  323 323 324 325 325 ...\n",
      " $ O2.Sat....  : num  109 109 109 109 109 ...\n",
      " $ Temp..C.    : num  17.8 17.7 17.7 17.7 17.7 ...\n",
      " $ Calphase..C.: num  27.4 27.4 27.4 27.4 27.4 ...\n",
      " $ TCphase..C. : num  28.7 28.7 28.7 28.6 28.6 ...\n",
      " $ C1..C.      : num  33.3 33.3 33.2 33.2 33.2 ...\n",
      " $ C2..C.      : num  4.59 4.59 4.59 4.59 4.59 ...\n",
      " $ inlet       : num  17 16.9 16.9 16.9 16.9 ...\n",
      " $ sock        : num  17.1 17.1 17 17 17 ...\n",
      " $ outlet      : num  17 17 17 16.9 17 ...\n",
      " $ MS          : num  46.5 46.5 46.5 46.6 46.5 ...\n",
      " $ flow        : num  100 100 100 100 100 ...\n"
     ]
    }
   ],
   "source": [
    "head(eims.v1)\n",
    "str(eims.v1)"
   ]
  },
  {
   "cell_type": "code",
   "execution_count": 136,
   "metadata": {},
   "outputs": [
    {
     "data": {
      "text/html": [
       "<dl class=dl-horizontal>\n",
       "\t<dt>(Intercept)</dt>\n",
       "\t\t<dd>9.99937819911307</dd>\n",
       "\t<dt>eims.v1$O2.Sat....</dt>\n",
       "\t\t<dd>0.141513025220786</dd>\n",
       "</dl>\n"
      ],
      "text/latex": [
       "\\begin{description*}\n",
       "\\item[(Intercept)] 9.99937819911307\n",
       "\\item[eims.v1\\textbackslash{}\\$O2.Sat....] 0.141513025220786\n",
       "\\end{description*}\n"
      ],
      "text/markdown": [
       "(Intercept)\n",
       ":   9.99937819911307eims.v1$O2.Sat....\n",
       ":   0.141513025220786\n",
       "\n"
      ],
      "text/plain": [
       "       (Intercept) eims.v1$O2.Sat.... \n",
       "          9.999378           0.141513 "
      ]
     },
     "metadata": {},
     "output_type": "display_data"
    },
    {
     "data": {
      "image/png": "[encoded data removed]",
      "text/plain": [
       "plot without title"
      ]
     },
     "metadata": {},
     "output_type": "display_data"
    }
   ],
   "source": [
    "plot(eims.v1$O2.Ar, eims.v1$O2.Sat....)\n",
    "mod = lm(eims.v1$O2.Ar ~ eims.v1$O2.Sat....)\n",
    "coefficients(mod)"
   ]
  },
  {
   "cell_type": "markdown",
   "metadata": {},
   "source": [
    "## 6a. Interpolate EIMS Data\n",
    "\n",
    "This script deals with each variable separately (will be rolled into a function at some point).\n",
    "\n",
    "1. O2:Ar measurements\n",
    " * Determine if during a gab in data (e.g. calibration, missing values, etc)\n",
    " * If not, then use closest value. FLAG = 1\n",
    " * If so, then check if for times are before and after.\n",
    "  + Both sides: linear interp. FLAG = 2\n",
    "  + One side, use that value (constant). FLAG = 3\n",
    "\n",
    "2. O2:Ar Calibration\n",
    " * Determine if during a gab in data (e.g. non-calibration, missing values, etc)\n",
    " * If not, then use closest value. FLAG = 1\n",
    " * If so, then check if for times are before and after.\n",
    "  + Both sides: linear interp. FLAG = 2\n",
    "  + One side, use that value (constant). FLAG = 3"
   ]
  },
  {
   "cell_type": "code",
   "execution_count": 137,
   "metadata": {
    "collapsed": true
   },
   "outputs": [],
   "source": [
    "ship.data$O2.Ar.cal.FLAG = NULL\n",
    "ship.data$O2.Ar.cal = NULL\n",
    "ship.data$FLAG = NULL\n",
    "ship.data$Cycle = NULL"
   ]
  },
  {
   "cell_type": "code",
   "execution_count": 138,
   "metadata": {
    "collapsed": true
   },
   "outputs": [],
   "source": [
    "eims.interp = function(ship.time, eims.time, ship.var, eims.var, FLAG) {\n",
    "    ## First let's add the O2:Ar measurments\n",
    "    for (i in 1:length(ship.time)) {\n",
    "    \n",
    "        ## Collect all the data points in the EIMS data within 2 minutes\n",
    "        dt = as.numeric(difftime(ship.time[i], eims.time, unit='mins'))\n",
    "        l = which(dt^2 < 40^2) \n",
    "    \n",
    "        ## Make sure there are enough data points (i.e. not during a calibration period)\n",
    "        if (length(l) > 2) { \n",
    "        \n",
    "            ## During a high-requency sampling period just use the closest in time value\n",
    "            l.near = which.min(dt^2)\n",
    "            ship.var[i] = mean(eims.var[l.near])\n",
    "            FLAG[i] = 1 # Normal\n",
    "        } \n",
    "    \n",
    "        ## During a break in the data\n",
    "        else {  \n",
    "            ## TODO: Use O2 relationship instead\n",
    "            if (all(dt < 0, na.rm = TRUE)) {\n",
    "                l = which.min(-dt)\n",
    "                ship.var[i] = eims.var[l]\n",
    "                FLAG[i] = 3  # Interp (1 sided)\n",
    "            }\n",
    "            else if (all(dt > 0, na.rm = TRUE)) {\n",
    "                l = which.min(dt)\n",
    "                ship.var[i] = eims.var[l]\n",
    "                FLAG[i] = 3  # Interp (1 sided)\n",
    "            }\n",
    "            else {\n",
    "                dt.left = -dt[dt < 0]\n",
    "                dt.right = dt[dt > 0]\n",
    "\n",
    "                l1 = which.min(dt.left) # left\n",
    "                l2 = which.min(dt.right) # rigth\n",
    "\n",
    "                y1 = eims.var[dt < 0][l1]\n",
    "                y2 = eims.var[dt > 0][l2]\n",
    "\n",
    "                m = (y2 - y1) / (dt[dt>0][l2] - dt[dt<0][l1])\n",
    "                ans = m * -dt[dt<0][l1] + y1\n",
    "\n",
    "                if (length(ans) != 1) {\n",
    "                    ship.var[i] = 0\n",
    "                    FLAG[i] = 99  # Error\n",
    "                } else{\n",
    "                    ship.var[i] = ans\n",
    "                    FLAG[i] = 2  # Interp (2 sided)\n",
    "                }\n",
    "            }\n",
    "        }\n",
    "    }\n",
    "    return(list(var = ship.var, FLAG = FLAG))\n",
    "}"
   ]
  },
  {
   "cell_type": "code",
   "execution_count": 139,
   "metadata": {
    "collapsed": true
   },
   "outputs": [],
   "source": [
    "ze = rep(0, nrow(ship.data))\n",
    "\n",
    "## O2 Argon from EIMS\n",
    "temp = eims.interp(ship.data$DT, eims.v1$time, ze, eims.v1$O2.Ar, ze)\n",
    "ship.data$O2.Ar = temp[[1]]\n",
    "ship.data$FLAG.O2.Ar = temp[[2]]\n",
    "\n",
    "## Calibration\n",
    "temp = eims.interp(ship.data$DT, eims.v2$time, ze, eims.v2$O2.Ar, ze)\n",
    "ship.data$O2.Ar.cal = temp[[1]]\n",
    "ship.data$FLAG.O2.Ar.cal = temp[[2]]\n",
    "\n",
    "# Inlet Temperature\n",
    "#temp = eims.interp(ship.data$DT, rbind(eims.v1$time, eims.v2$time), ze, rbind(eims.v1$inlet, eims.v2$inlet), ze)\n",
    "temp = eims.interp(ship.data$DT, eims.v1$time, ze, eims.v1$inlet, ze)\n",
    "ship.data$Inlet.T = temp[[1]]\n",
    "ship.data$FLAG.Inlet.T = temp[[2]]\n",
    "\n",
    "# Oxygen EIMS 32\n",
    "temp = eims.interp(ship.data$DT, eims.v1$time, ze, eims.v1$X32, ze)\n",
    "ship.data$EIMS.32 = temp[[1]]\n",
    "ship.data$FLAG.EIMS.32 = temp[[2]]\n",
    "\n",
    "# Oxygen Conc\n",
    "temp = eims.interp(ship.data$DT, eims.v1$time, ze, eims.v1$O2.Sat...., ze)\n",
    "ship.data$EIMS.O2 = temp[[1]]\n",
    "ship.data$FLAG.EIMS.O2 = temp[[2]]\n",
    "\n",
    "# Oxygen Sat\n",
    "temp = eims.interp(ship.data$DT, eims.v1$time, ze, eims.v1$O2.Sat...., ze)\n",
    "ship.data$EIMS.O2.sat = temp[[1]]\n",
    "ship.data$FLAG.EIMS.O2.sat = temp[[2]]"
   ]
  },
  {
   "cell_type": "markdown",
   "metadata": {},
   "source": [
    "## 6b. Check EIMS Data"
   ]
  },
  {
   "cell_type": "code",
   "execution_count": 140,
   "metadata": {
    "scrolled": false
   },
   "outputs": [
    {
     "data": {
      "image/png": "[encoded data removed]",
      "text/plain": [
       "Plot with title \"O2:Ar Data Summary\""
      ]
     },
     "metadata": {},
     "output_type": "display_data"
    },
    {
     "data": {
      "image/png": "[encoded data removed]",
      "text/plain": [
       "Plot with title \"O2:Ar Calibration Summary\""
      ]
     },
     "metadata": {},
     "output_type": "display_data"
    },
    {
     "data": {
      "image/png": "[encoded data removed]",
      "text/plain": [
       "Plot with title \"Temporal Verification for EIMS & SHIP Times\""
      ]
     },
     "metadata": {},
     "output_type": "display_data"
    }
   ],
   "source": [
    "#par(mfrow=c(2,1))\n",
    "#pdf('Output/EIMS_Data Summary.pdf')\n",
    "\n",
    "flag.color = c('black', 'red', 'orange', 'orange')\n",
    "\n",
    "## O2 argon verification\n",
    "plot(ship.data$DT, ship.data$O2.Ar, col=flag.color[ship.data$FLAG.O2.Ar],\n",
    "     pch=16, cex=0.3, ylab='O2:Ar (Measured)', xlab='', main='O2:Ar Data Summary')\n",
    "legend(ship.data$DT[1], 18, col=flag.color, c('Normal', 'Interpolated', 'One Sided'), pch=16, cex=0.55)\n",
    "\n",
    "## Calibration verification\n",
    "plot(ship.data$DT, ship.data$O2.Ar.cal, col=flag.color[ship.data$FLAG.O2.Ar.cal],\n",
    "     pch=16, cex=0.3, ylab='O2:Ar (calibration)', xlab='', main='O2:Ar Calibration Summary')\n",
    "legend(ship.data$DT[1], 18, col=flag.color, c('Normal', 'Interpolated', 'One Sided'), pch=16)\n",
    "\n",
    "## Time validation\n",
    "plot(ship.data$DT, ship.data$DT, pch=16, cex=1, ylab='Time', xlab='Time', main='Temporal Verification for EIMS & SHIP Times')\n",
    "points(eims.v1$time, eims.v1$time, col='red', pch=16, cex=0.5)\n",
    "legend(ship.data$DT[1], ship.data$DT[2000], c('Ship', 'EIMS'), col=c('black', 'red'), pch=16)\n",
    "\n",
    "#dev.off()"
   ]
  },
  {
   "cell_type": "markdown",
   "metadata": {},
   "source": [
    "---\n",
    "# 7. Cycle Information\n",
    "\n",
    "This section simply fined the nearest timestamp in the ship's log and adds the \"Cycle\" entry to the ship.data."
   ]
  },
  {
   "cell_type": "code",
   "execution_count": 141,
   "metadata": {
    "collapsed": true
   },
   "outputs": [],
   "source": [
    "cycles = read.xlsx('Raw Data/1706events-updated .xlsx')\n",
    "cycles$Datetime.UTC = conv_excel_time(cycles$Datetime.UTC, tz='UTC')\n",
    "\n",
    "ship.data$Cycle = NULL\n",
    "\n",
    "for (i in 1:nrow(ship.data)) {\n",
    "    dt = abs(as.numeric(difftime(ship.data$DT[i], cycles$Datetime.UTC, unit='mins')))\n",
    "    ship.data$Cycle[i] = cycles$Cycle[which.min(dt)]\n",
    "}"
   ]
  },
  {
   "cell_type": "code",
   "execution_count": 142,
   "metadata": {},
   "outputs": [
    {
     "data": {
      "image/png": "[encoded data removed]",
      "text/plain": [
       "plot without title"
      ]
     },
     "metadata": {},
     "output_type": "display_data"
    }
   ],
   "source": [
    "#pdf('Output/Sequence ofEvents.pdf')\n",
    "\n",
    "l = unique(ship.data$Cycle)\n",
    "cols = sapply(ship.data$Cycle, function(x) {which(l == x)} )\n",
    "\n",
    "plot(ship.data$DT, cols, col=get.qual.pal(length(l))[cols], pch=16, cex=0.5, ylab='Stage', xlab='')\n",
    "legend(ship.data$DT[1], length(l), l, col=get.qual.pal(length(l)), lwd=2, cex=0.7)\n",
    "\n",
    "#dev.off()"
   ]
  },
  {
   "cell_type": "markdown",
   "metadata": {},
   "source": [
    "## Save"
   ]
  },
  {
   "cell_type": "code",
   "execution_count": 143,
   "metadata": {
    "collapsed": true
   },
   "outputs": [],
   "source": [
    "save(ship.data, file='./RStates/ship.final.rdata')\n",
    "write.xlsx(ship.data, file='./Input Data/Shipdata - Final.xlsx')"
   ]
  },
  {
   "cell_type": "code",
   "execution_count": 144,
   "metadata": {},
   "outputs": [
    {
     "data": {
      "text/plain": [
       "   Min. 1st Qu.  Median    Mean 3rd Qu.    Max.    NA's \n",
       " 0.1099  0.1321  0.1376  0.1581  0.1732  0.3873      11 "
      ]
     },
     "metadata": {},
     "output_type": "display_data"
    }
   ],
   "source": [
    "summary(ship.data$k)"
   ]
  },
  {
   "cell_type": "code",
   "execution_count": null,
   "metadata": {
    "collapsed": true
   },
   "outputs": [],
   "source": []
  }
 ],
 "metadata": {
  "anaconda-cloud": {},
  "kernelspec": {
   "display_name": "R",
   "language": "R",
   "name": "ir"
  },
  "language_info": {
   "codemirror_mode": "r",
   "file_extension": ".r",
   "mimetype": "text/x-r-source",
   "name": "R",
   "pygments_lexer": "r",
   "version": "3.4.1"
  }
 },
 "nbformat": 4,
 "nbformat_minor": 2
}
