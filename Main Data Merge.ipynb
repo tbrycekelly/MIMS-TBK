{
 "cells": [
  {
   "cell_type": "markdown",
   "metadata": {},
   "source": [
    "# Structure of this file\n",
    "---\n",
    "\n",
    "## 1. Read Wind Data\n",
    "    i. Determine coordinates (lat, lon, time)\n",
    "    ii. Trim to study region\n",
    "\t\t\t\n",
    "\t\t\t\n",
    "## 2. Read Ship Data\n",
    "\ti. Average over N minutes\n",
    "\t\t\t\n",
    "\t\t\t\n",
    "## 3. Map wind data to ship\n",
    "\ti. Interpolate\n",
    "\tii. Calculate N-day average\n",
    "\t\t\t\n",
    "\t\t\t\n",
    "## 4. Read CTD Data\n",
    "\ti. Define and Calculate MLD\n",
    "\tii. Map MLD to ship data\n",
    "\t\t\t\n",
    "\t\t\t\n",
    "## 5. Preliminary Plots\n",
    "---\n",
    "\n",
    "### Introduction\n",
    "__First__ we need to load up the relevent libraries and define any helper functions."
   ]
  },
  {
   "cell_type": "code",
   "execution_count": 4,
   "metadata": {},
   "outputs": [],
   "source": [
    "## Install the package if needed:\n",
    "#install.packages('Mcomp', repos='http://cran.us.r-project.org')\n",
    "\n",
    "## Load the relevent packages\n",
    "library(ncdf4)  # For reading in the NCEP wind fields\n",
    "#library(R.matlab)  # If you need to read in matlab .mat files\n",
    "library(openxlsx)  # If you need to read in .xlsx files\n",
    "#library(rNOMADS)  # For reading grib2 data files (NOMADS data for instance)\n",
    "#library(rGDAL)  #\n",
    "library(RColorBrewer)\n",
    "\n",
    "## Helper function for converting the date time stamps.\n",
    "conv_excel_time = function(x, tz='US/Pacific') {\n",
    "    as.POSIXct(as.Date(x,origin=\"1899-12-30\", tz=tz))\n",
    "}\n",
    "\n",
    "get.qual.pal = function(n=100, pal='Accent') {\n",
    "    colorRampPalette(brewer.pal(8, pal))(n)\n",
    "}\n",
    "\n",
    "get.seq.pal = function(n=100, pal='YlOrRd') {\n",
    "    colorRampPalette(rev(brewer.pal(11, pal)))(n)\n",
    "}\n",
    "\n",
    "get.div.pal = function(n=100, pal='Spectral') {\n",
    "    colorRampPalette(rev(brewer.pal(11, pal)))(n)\n",
    "}\n",
    "\n",
    "make.div.pal = function(x=100, n, pal='Spectral') {\n",
    "    get.div.pal(n, pal=pal)[as.numeric(cut(x, breaks = n))]\n",
    "}"
   ]
  },
  {
   "cell_type": "markdown",
   "metadata": {},
   "source": [
    "---\n",
    "# 1. Reading in the NCEP wind data (.nc files)\n",
    "This section will load in the wind data from two .nc files (u and v components). Once loaded, we need to determine how the x,y,z dimentions of the data matrix correspond to the lat, lon, time dimensions--this is done easily from the metadata contained within the file. Nothing else is required to complete this section.\n",
    "\n",
    "Wind data is available from a variety of sources with variable resolution (spatial and temporal) and difficulty in integrating with this script (easy to import .nc to custom binary formats).\n",
    "\n",
    "*  ~0.3 degree, 3hr, .nc format (N. America only) -- [NARR](https://www.esrl.noaa.gov/psd/data/gridded/data.narr.monolevel.html)\n",
    "* 2.5 degree, 6hr, .nc format -- [NCEP](https://www.esrl.noaa.gov/psd/data/gridded/data.ncep.reanalysis.derived.surface.html)\n",
    "* 0.25 degree, 6hr, .nc format (inc. cloud cover) -- [NCSS](https://www.ncei.noaa.gov/thredds/ncss/uv/6h_agg_rt/Preliminary_Aggregation_best.ncd/dataset.html)\n",
    "* 0.25 degree, hourly, .D binary format -- [NAVGEM](ftp://ftp.hycom.org/datasets/force/NAVGEM/navgem1.4_0.281c/1hourly/)"
   ]
  },
  {
   "cell_type": "code",
   "execution_count": 64,
   "metadata": {
    "collapsed": true
   },
   "outputs": [],
   "source": [
    "## If there are saved datasets, then run this to load them\n",
    "\n",
    "load('./RStates/wind.lat.rdata')\n",
    "load('./RStates/wind.lon.rdata')\n",
    "load('./RStates/wind.ncep.rdata')\n",
    "load('./RStates/time.actual.rdata')"
   ]
  },
  {
   "cell_type": "code",
   "execution_count": 3,
   "metadata": {
    "collapsed": true
   },
   "outputs": [],
   "source": [
    "## Load all the data files and check their format and naming scheme.\n",
    "\n",
    "u.nc = nc_open('C:/Users/Tom/Downloads/uwnd.10m.2017.nc', write=FALSE)\n",
    "v.nc = nc_open('C:/Users/Tom/Downloads/vwnd.10m.2017.nc', write=FALSE)"
   ]
  },
  {
   "cell_type": "code",
   "execution_count": 4,
   "metadata": {},
   "outputs": [
    {
     "data": {
      "text/plain": [
       "File C:/Users/Tom/Downloads/uwnd.10m.2017.nc (NC_FORMAT_NETCDF4_CLASSIC):\n",
       "\n",
       "     4 variables (excluding dimension variables):\n",
       "        float lat[x,y]   \n",
       "            axis: Y\n",
       "            coordinate_defines: point\n",
       "            long_name: Latitude\n",
       "            standard_name: latitude\n",
       "            units: degrees_north\n",
       "        float lon[x,y]   \n",
       "            axis: X\n",
       "            coordinate_defines: point\n",
       "            long_name: Longitude\n",
       "            standard_name: longitude\n",
       "            units: degrees_east\n",
       "        int Lambert_Conformal[]   \n",
       "            false_easting: 5632642.22547\n",
       "            false_northing: 4612545.65137\n",
       "            grid_mapping_name: lambert_conformal_conic\n",
       "            latitude_of_projection_origin: 50\n",
       "            longitude_of_central_meridian: -107\n",
       "            standard_parallel: 50\n",
       "             standard_parallel: 50\n",
       "        float uwnd[x,y,time]   \n",
       "            GRIB_id: 33\n",
       "            GRIB_name: UGRD\n",
       "            _FillValue: 9.96920996838687e+36\n",
       "            coordinates: lat lon\n",
       "            dataset: NARR 3-hourly\n",
       "            grid_mapping: Lambert_Conformal\n",
       "            level_desc: 10 m\n",
       "            long_name: 3-hourly u-wind at 10 m\n",
       "            parent_stat: Other\n",
       "            standard_name: eastward_wind\n",
       "            statistic: Individual Obs\n",
       "            units: m/s\n",
       "            valid_range: -100\n",
       "             valid_range: 100\n",
       "            var_desc: u-wind\n",
       "            missing_value: -9.96920996838687e+36\n",
       "            actual_range: -33.7135162353516\n",
       "             actual_range: 30.4515228271484\n",
       "\n",
       "     3 dimensions:\n",
       "        time  Size:1448   *** is unlimited ***\n",
       "            axis: T\n",
       "            coordinate_defines: point\n",
       "            delta_t: 0000-00-00 03:00:00\n",
       "            long_name: Time\n",
       "            standard_name: time\n",
       "            units: hours since 1800-1-1 00:00:0.0\n",
       "            actual_range: 1902192\n",
       "             actual_range: 1906533\n",
       "        y  Size:277\n",
       "            long_name: northward distance from southwest corner of domain in projection coordinates\n",
       "            standard_name: projection_y_coordinate\n",
       "            units: m\n",
       "        x  Size:349\n",
       "            long_name: eastward distance from southwest corner of domain in projection coordinates\n",
       "            standard_name: projection_x_coordinate\n",
       "            units: m\n",
       "\n",
       "    15 global attributes:\n",
       "        _NCProperties: version=1|netcdflibversion=4.4.1.1|hdf5libversion=1.10.1\n",
       "        Conventions: CF-1.2\n",
       "        centerlat: 50\n",
       "        centerlon: -107\n",
       "        comments: \n",
       "        institution: National Centers for Environmental Prediction\n",
       "        latcorners: 1.00000095367432\n",
       "         latcorners: 0.897944986820221\n",
       "         latcorners: 46.3544006347656\n",
       "         latcorners: 46.6343307495117\n",
       "        loncorners: -145.5\n",
       "         loncorners: -68.3200531005859\n",
       "         loncorners: -2.56989097595215\n",
       "         loncorners: 148.641799926758\n",
       "        platform: Model\n",
       "        standardpar1: 50\n",
       "        standardpar2: 50.000001\n",
       "        title: 8x Daily NARR\n",
       "        history: created Mon Jul 18 13:32:13 MDT 2016 by NOAA/ESRL/PSD\n",
       "        dataset_title: NCEP North American Regional Reanalysis (NARR)\n",
       "        references: https://www.esrl.noaa.gov/psd/data/gridded/data.narr.html\n",
       "http://www.emc.ncep.noaa.gov/mmb/rreanl/index.html"
      ]
     },
     "metadata": {},
     "output_type": "display_data"
    }
   ],
   "source": [
    "## Use the file metadata to populate ranges and coordinate mappings\n",
    "u.nc"
   ]
  },
  {
   "cell_type": "code",
   "execution_count": 5,
   "metadata": {},
   "outputs": [
    {
     "data": {
      "text/plain": [
       "                 Min.               1st Qu.                Median \n",
       "\"2016-12-31 19:00:00\" \"2017-02-15 00:15:00\" \"2017-04-01 06:30:00\" \n",
       "                 Mean               3rd Qu.                  Max. \n",
       "\"2017-04-01 06:30:00\" \"2017-05-16 11:45:00\" \"2017-06-30 17:00:00\" "
      ]
     },
     "metadata": {},
     "output_type": "display_data"
    }
   ],
   "source": [
    "## Setup the metadata \n",
    "time.bounds = c(1902192, 1906533)  # set based on file description above\n",
    "\n",
    "## Load the data into u,v, lat, lon\n",
    "wind.u = ncvar_get(u.nc, varid = 'uwnd')\n",
    "wind.v = ncvar_get(v.nc, varid = 'vwnd')\n",
    "wind.lat = ncvar_get(u.nc, varid = 'lat')\n",
    "wind.lon = ncvar_get(u.nc, varid = 'lon')\n",
    "#wind.lat = seq(88.5419998168945, 88.5419998168945, length.out=94)\n",
    "#wind.lon = seq(0, 358.125, length.out=192)\n",
    "\n",
    "dims = dim(wind.u)\n",
    "\n",
    "## Calculate the actual times\n",
    "time.actual = seq(time.bounds[1]*3600, time.bounds[2]*3600, length.out = dims[3])\n",
    "time.actual = as.POSIXct(time.actual, origin='1800-01-01 00:00:00')  # orgin is in the file metadata above\n",
    "\n",
    "## Check on time format/range\n",
    "summary(time.actual)"
   ]
  },
  {
   "cell_type": "code",
   "execution_count": 6,
   "metadata": {
    "collapsed": true
   },
   "outputs": [],
   "source": [
    "## Close the .nc files\n",
    "nc_close(u.nc)\n",
    "nc_close(v.nc)"
   ]
  },
  {
   "cell_type": "markdown",
   "metadata": {},
   "source": [
    "### Flatten the lat/lon dimensions\n",
    "Instead of sticking with the (x, y) -> lat (or longitude) coordinate mapping setup, let's flatten it out to make a list so that we have:\n",
    "\n",
    "`i -> lat\n",
    "i -> lon\n",
    "i -> wind(t)`   --- Wind is a function of time at every location\n",
    "\n",
    "Therefore we can simply the x-y grid to i = 1,2,3,4,5,6,7,8,..., x*y"
   ]
  },
  {
   "cell_type": "code",
   "execution_count": 7,
   "metadata": {},
   "outputs": [
    {
     "data": {
      "text/html": [
       "<table>\n",
       "<thead><tr><th></th><th scope=col>used</th><th scope=col>(Mb)</th><th scope=col>gc trigger</th><th scope=col>(Mb)</th><th scope=col>max used</th><th scope=col>(Mb)</th></tr></thead>\n",
       "<tbody>\n",
       "\t<tr><th scope=row>Ncells</th><td>   553302</td><td>  29.6   </td><td>   940480</td><td>  50.3   </td><td>   940480</td><td>  50.3   </td></tr>\n",
       "\t<tr><th scope=row>Vcells</th><td>141199995</td><td>1077.3   </td><td>582244552</td><td>4442.2   </td><td>606368204</td><td>4626.3   </td></tr>\n",
       "</tbody>\n",
       "</table>\n"
      ],
      "text/latex": [
       "\\begin{tabular}{r|llllll}\n",
       "  & used & (Mb) & gc trigger & (Mb) & max used & (Mb)\\\\\n",
       "\\hline\n",
       "\tNcells &    553302 &   29.6    &    940480 &   50.3    &    940480 &   50.3   \\\\\n",
       "\tVcells & 141199995 & 1077.3    & 582244552 & 4442.2    & 606368204 & 4626.3   \\\\\n",
       "\\end{tabular}\n"
      ],
      "text/markdown": [
       "\n",
       "| <!--/--> | used | (Mb) | gc trigger | (Mb) | max used | (Mb) | \n",
       "|---|---|\n",
       "| Ncells |    553302 |   29.6    |    940480 |   50.3    |    940480 |   50.3    | \n",
       "| Vcells | 141199995 | 1077.3    | 582244552 | 4442.2    | 606368204 | 4626.3    | \n",
       "\n",
       "\n"
      ],
      "text/plain": [
       "       used      (Mb)   gc trigger (Mb)   max used  (Mb)  \n",
       "Ncells    553302   29.6    940480    50.3    940480   50.3\n",
       "Vcells 141199995 1077.3 582244552  4442.2 606368204 4626.3"
      ]
     },
     "metadata": {},
     "output_type": "display_data"
    }
   ],
   "source": [
    "## Calculate wind speed & Flatten\n",
    "wind.ncep = array(NA, dim=c(dim(wind.u)[1] * dim(wind.u)[2], dim(wind.u)[3]))\n",
    "for (i in 1:dim(wind.u)[3]) {\n",
    "    wind.ncep[,i] = sqrt(as.numeric(wind.u[,,i]^2 + wind.v[,,i]^2))\n",
    "}\n",
    "\n",
    "## Flatten the lat and lon arrays as well\n",
    "wind.lat = as.numeric(wind.lat)\n",
    "wind.lom = as.numeric(wind.lon)\n",
    "\n",
    "## Free memory\n",
    "rm('wind.u')\n",
    "rm('wind.v')\n",
    "gc()"
   ]
  },
  {
   "cell_type": "markdown",
   "metadata": {},
   "source": [
    "### Trim the data\n",
    "Take the time now to trim the data  to a more reasonable domain to speed up later computations (looping is expensive)."
   ]
  },
  {
   "cell_type": "code",
   "execution_count": 8,
   "metadata": {},
   "outputs": [
    {
     "name": "stdout",
     "output_type": "stream",
     "text": [
      "[1] \"The minimum and maximum latitude in the NCEP data is 0.897944986820221 85.3325500488281\"\n",
      "[1] \"The minimum and maximum longitude in the NCEP data is -179.99690246582 179.992797851562\"\n",
      "[1] \"The minimum date in the NCEP data is 2016-12-31 19:00:00\"\n",
      "[1] \"The minimum date in the NCEP data is 2017-06-30 17:00:00\"\n"
     ]
    }
   ],
   "source": [
    "## First, check the domains of the data\n",
    "print(paste('The minimum and maximum latitude in the NCEP data is', min(wind.lat), max(wind.lat)))\n",
    "print(paste('The minimum and maximum longitude in the NCEP data is', min(wind.lon), max(wind.lon)))\n",
    "print(paste('The minimum date in the NCEP data is', min(time.actual)))\n",
    "print(paste('The minimum date in the NCEP data is', max(time.actual)))"
   ]
  },
  {
   "cell_type": "code",
   "execution_count": 9,
   "metadata": {},
   "outputs": [
    {
     "name": "stdout",
     "output_type": "stream",
     "text": [
      "[1] \"This cut removed 99.1486764660246 % of the data.\"\n"
     ]
    }
   ],
   "source": [
    "## First set some generic bounds\n",
    "lats = c(30, 40)\n",
    "lons = c(-126, -118)\n",
    "\n",
    "## Calcualte which entries should be kept (latitude)\n",
    "keep.lat = wind.lat > lats[1] & wind.lat < lats[2] # Which col to keep\n",
    "keep.lon = wind.lon > lons[1] & wind.lon < lons[2] # Which row to keep\n",
    "keepers = keep.lat & keep.lon\n",
    "\n",
    "## update all required variables\n",
    "before = length(wind.ncep)\n",
    "\n",
    "wind.lat = wind.lat[keepers]\n",
    "wind.lon = wind.lon[keepers]\n",
    "\n",
    "wind.ncep = wind.ncep[keepers, ]\n",
    "\n",
    "print(paste(\"This cut removed\", 100-length(wind.ncep)/before*100, '% of the data.'))"
   ]
  },
  {
   "cell_type": "code",
   "execution_count": 10,
   "metadata": {},
   "outputs": [
    {
     "data": {
      "text/html": [
       "<table>\n",
       "<thead><tr><th></th><th scope=col>used</th><th scope=col>(Mb)</th><th scope=col>gc trigger</th><th scope=col>(Mb)</th><th scope=col>max used</th><th scope=col>(Mb)</th></tr></thead>\n",
       "<tbody>\n",
       "\t<tr><th scope=row>Ncells</th><td> 557798  </td><td>29.8     </td><td>   940480</td><td>  50.3   </td><td>   940480</td><td>  50.3   </td></tr>\n",
       "\t<tr><th scope=row>Vcells</th><td>2370429  </td><td>18.1     </td><td>465795641</td><td>3553.8   </td><td>606368204</td><td>4626.3   </td></tr>\n",
       "</tbody>\n",
       "</table>\n"
      ],
      "text/latex": [
       "\\begin{tabular}{r|llllll}\n",
       "  & used & (Mb) & gc trigger & (Mb) & max used & (Mb)\\\\\n",
       "\\hline\n",
       "\tNcells &  557798   & 29.8      &    940480 &   50.3    &    940480 &   50.3   \\\\\n",
       "\tVcells & 2370429   & 18.1      & 465795641 & 3553.8    & 606368204 & 4626.3   \\\\\n",
       "\\end{tabular}\n"
      ],
      "text/markdown": [
       "\n",
       "| <!--/--> | used | (Mb) | gc trigger | (Mb) | max used | (Mb) | \n",
       "|---|---|\n",
       "| Ncells |  557798   | 29.8      |    940480 |   50.3    |    940480 |   50.3    | \n",
       "| Vcells | 2370429   | 18.1      | 465795641 | 3553.8    | 606368204 | 4626.3    | \n",
       "\n",
       "\n"
      ],
      "text/plain": [
       "       used    (Mb) gc trigger (Mb)   max used  (Mb)  \n",
       "Ncells  557798 29.8    940480    50.3    940480   50.3\n",
       "Vcells 2370429 18.1 465795641  3553.8 606368204 4626.3"
      ]
     },
     "metadata": {},
     "output_type": "display_data"
    }
   ],
   "source": [
    "gc()"
   ]
  },
  {
   "cell_type": "markdown",
   "metadata": {},
   "source": [
    "#### A good point to save"
   ]
  },
  {
   "cell_type": "code",
   "execution_count": 12,
   "metadata": {
    "collapsed": true
   },
   "outputs": [],
   "source": [
    "## Save wind data here -- can reload directly\n",
    "save(wind.lat, file = './RStates/wind.lat.rdata')\n",
    "save(wind.lon, file = './RStates/wind.lon.rdata')\n",
    "save(wind.ncep, file = './RStates/wind.ncep.rdata')\n",
    "save(time.actual, file = './RStates/time.actual.rdata')\n",
    "write.xlsx(time.actual, file='./Input Data/Wind data - list of times.xlsx')"
   ]
  },
  {
   "cell_type": "markdown",
   "metadata": {},
   "source": [
    "---\n",
    "# 2. Load and prepare ship data\n",
    "This section deals with the loading of the met-merge data. Once loaded and the structure is verified, a 2 minute average is taken for all parameters. Once completed, the next section will add the NCEP wind data and MLD to the data frame.The file structure which this script is looking for is as follows where Vars are in any order but with the proper abbreviations.\n",
    "\n",
    "``Datetime  Var1   Var2  Var3 ...``\n",
    "\n",
    "Variable Descriptions and Abbreviations\n",
    "* __DT -- Date Time__\n",
    "* __TW -- True Wind__\n",
    "* TI  -- Wind Dir\n",
    "* __LA -- Latitude__\n",
    "* __LO -- Longitude__\n",
    "* __AT -- Atm Temp__\n",
    "* __BP -- Pressure__\n",
    "* PA -- PAR\n",
    "* __TT (TT2*)  -- Water Temp__\n",
    "* __SA -- Salinity__\n",
    "* __OS -- Oxygen__\n",
    "* FL -- Fluorometer\n",
    "* BT -- Bottom Depth\n",
    "\n",
    "___NB___: Bold identies required columns while the others are used for additional analyses."
   ]
  },
  {
   "cell_type": "code",
   "execution_count": 3,
   "metadata": {
    "collapsed": true
   },
   "outputs": [],
   "source": [
    "## Load the data if already run:\n",
    "\n",
    "load('./RStates/ship.avg.rdata')"
   ]
  },
  {
   "cell_type": "code",
   "execution_count": 21,
   "metadata": {},
   "outputs": [
    {
     "name": "stderr",
     "output_type": "stream",
     "text": [
      "Warning message in eval(expr, envir, enclos):\n",
      "\"NAs introduced by coercion\""
     ]
    },
    {
     "name": "stdout",
     "output_type": "stream",
     "text": [
      "[1] \"Do the number of names in keep match the number of columns now? FALSE\"\n",
      "'data.frame':\t186490 obs. of  15 variables:\n",
      " $ DT  : POSIXct, format: \"2017-05-30 20:01:00\" \"2017-05-30 20:01:00\" ...\n",
      " $ TW  : num  2.54 2.17 2.83 3.01 3.01 ...\n",
      " $ TI  : num  209 214 216 224 226 ...\n",
      " $ TT  : num  19.4 19.4 19.4 19.4 19.4 ...\n",
      " $ SA  : num  33.2 33.2 33.2 33.2 33.2 ...\n",
      " $ OS  : num  5 5 5 5 5 ...\n",
      " $ FL  : num  0.079 0.08 0.077 0.076 0.076 0.077 0.076 0.076 0.076 0.074 ...\n",
      " $ AT  : num  16.7 16.7 16.7 16.8 16.8 ...\n",
      " $ BP  : num  1010 1010 1010 1010 1010 ...\n",
      " $ PA  : num  925 930 918 915 913 ...\n",
      " $ SA.1: num  33.2 33.2 33.2 33.2 33.2 ...\n",
      " $ OS.1: num  5 5 5 5 5 ...\n",
      " $ FL.1: num  0.079 0.08 0.077 0.076 0.076 0.077 0.076 0.076 0.076 0.074 ...\n",
      " $ LA  : num  32.7 32.7 32.7 32.7 32.7 ...\n",
      " $ LO  : num  -117 -117 -117 -117 -117 ...\n"
     ]
    }
   ],
   "source": [
    "## Load the xlsx file\n",
    "ship.data = read.xlsx('../Met-data - merged/merge 063100702-corrected.xlsx', )\n",
    "\n",
    "## Trim data to the following columns:\n",
    "keep = c('DT', 'TW', 'TI', 'LA', 'LO', 'AT', 'BP', 'PA', 'TT', 'SA', 'OS', 'FL', 'BT')\n",
    "# This call finds which columns match the names in keep and keeps them.\n",
    "ship.data = ship.data[, which(names(ship.data) %in% keep)]\n",
    "\n",
    "ship.data$DT = conv_excel_time(ship.data$DT) # Convert excel datetime numbers to actual datetimes.\n",
    "ship.data$TW = ship.data$TW * 0.942  # Calculated from Thomas et al.\n",
    "\n",
    "## Convert all columns (except date/time to numeric)\n",
    "for (i in 2:ncol(ship.data)) {\n",
    "    ship.data[,i] = as.numeric(ship.data[,i])\n",
    "}\n",
    "\n",
    "## Check that it loaded properly/correct data type (num)\n",
    "print(paste('Do the number of names in keep match the number of columns now?', ncol(ship.data) == length(keep)))\n",
    "str(ship.data)"
   ]
  },
  {
   "cell_type": "markdown",
   "metadata": {},
   "source": [
    "#### Remove bad wind data\n",
    "Here we simply remove the rows there wind speed is less than zero (TW < 0). We also report the number of rows affected (should be a relatively small amount)."
   ]
  },
  {
   "cell_type": "code",
   "execution_count": 22,
   "metadata": {},
   "outputs": [
    {
     "data": {
      "text/html": [
       "618"
      ],
      "text/latex": [
       "618"
      ],
      "text/markdown": [
       "618"
      ],
      "text/plain": [
       "[1] 618"
      ]
     },
     "metadata": {},
     "output_type": "display_data"
    }
   ],
   "source": [
    "bad.wind = which(ship.data$TW < 0)\n",
    "length(bad.wind)\n",
    "\n",
    "## Remove bad wind entries\n",
    "ship.data = ship.data[-bad.wind,]"
   ]
  },
  {
   "cell_type": "markdown",
   "metadata": {},
   "source": [
    "### The N minute average:\n",
    "1. Start with the first row, set ___current.time___ to that row's time\n",
    "2. Find all rows with times >= to the current time\n",
    "3. Remove all rows with times more than N minutes away from the ___current.time___.\n",
    "4. Take the column average of those rows and replace the current row.\n",
    "5. Remove all the other rows\n",
    "6. Repeat process on the next row."
   ]
  },
  {
   "cell_type": "code",
   "execution_count": 23,
   "metadata": {},
   "outputs": [
    {
     "name": "stdout",
     "output_type": "stream",
     "text": [
      "[1] \"The number of rows before was 185872 and now there are 4619\"\n"
     ]
    }
   ],
   "source": [
    "### N Minute Averaging section\n",
    "avg.length = 10  # minutes to avg\n",
    "\n",
    "before = nrow(ship.data)\n",
    "i = 1\n",
    "nc = ncol(ship.data)\n",
    "\n",
    "while (i < nrow(ship.data)) {  # Loop through each row in ship.data\n",
    "    current.time = ship.data$DT[i]\n",
    "    \n",
    "    ## Determine which rows are within N minutes of the current row and average the values together\n",
    "    in.range = which(ship.data$DT[1:(i+100)] >= current.time & difftime(ship.data$DT[1:(i+100)], current.time, units='mins') < avg.length)\n",
    "    ship.data[i, 2:nc] = apply(ship.data[in.range, 2:nc], 2, mean)\n",
    "    \n",
    "    ## Remove all rows used to make average except for row i\n",
    "    in.range = in.range[in.range != i]\n",
    "    ship.data = ship.data[-in.range,]\n",
    "    i = i + 1\n",
    "}\n",
    "\n",
    "print(paste('The number of rows before was', before, 'and now there are', nrow(ship.data)))"
   ]
  },
  {
   "cell_type": "markdown",
   "metadata": {},
   "source": [
    "#### A good point to save"
   ]
  },
  {
   "cell_type": "code",
   "execution_count": 24,
   "metadata": {},
   "outputs": [
    {
     "data": {
      "text/html": [
       "<table>\n",
       "<thead><tr><th></th><th scope=col>used</th><th scope=col>(Mb)</th><th scope=col>gc trigger</th><th scope=col>(Mb)</th><th scope=col>max used</th><th scope=col>(Mb)</th></tr></thead>\n",
       "<tbody>\n",
       "\t<tr><th scope=row>Ncells</th><td>  657857 </td><td> 35.2    </td><td> 1812793 </td><td> 96.9    </td><td>  9878615</td><td> 527.6   </td></tr>\n",
       "\t<tr><th scope=row>Vcells</th><td>19623983 </td><td>149.8    </td><td>53275371 </td><td>406.5    </td><td>606368204</td><td>4626.3   </td></tr>\n",
       "</tbody>\n",
       "</table>\n"
      ],
      "text/latex": [
       "\\begin{tabular}{r|llllll}\n",
       "  & used & (Mb) & gc trigger & (Mb) & max used & (Mb)\\\\\n",
       "\\hline\n",
       "\tNcells &   657857  &  35.2     &  1812793  &  96.9     &   9878615 &  527.6   \\\\\n",
       "\tVcells & 19623983  & 149.8     & 53275371  & 406.5     & 606368204 & 4626.3   \\\\\n",
       "\\end{tabular}\n"
      ],
      "text/markdown": [
       "\n",
       "| <!--/--> | used | (Mb) | gc trigger | (Mb) | max used | (Mb) | \n",
       "|---|---|\n",
       "| Ncells |   657857  |  35.2     |  1812793  |  96.9     |   9878615 |  527.6    | \n",
       "| Vcells | 19623983  | 149.8     | 53275371  | 406.5     | 606368204 | 4626.3    | \n",
       "\n",
       "\n"
      ],
      "text/plain": [
       "       used     (Mb)  gc trigger (Mb)  max used  (Mb)  \n",
       "Ncells   657857  35.2  1812793    96.9   9878615  527.6\n",
       "Vcells 19623983 149.8 53275371   406.5 606368204 4626.3"
      ]
     },
     "metadata": {},
     "output_type": "display_data"
    }
   ],
   "source": [
    "## Save point after loading ship data and averaging. \n",
    "save(ship.data, file='./RStates/ship.avg.rdata')\n",
    "write.xlsx(ship.data, file='./Input Data/Shipdata - Averaged.xlsx')\n",
    "\n",
    "gc() # Free up memory"
   ]
  },
  {
   "cell_type": "markdown",
   "metadata": {},
   "source": [
    "---\n",
    "# 3. Determine MLD\n",
    "This section reads in the CTD downcast files and identifies the 0.03 density change to calculate the MLD. THe MLD is then linearly interpolated onto the ship's track."
   ]
  },
  {
   "cell_type": "code",
   "execution_count": 63,
   "metadata": {
    "collapsed": true
   },
   "outputs": [],
   "source": [
    "load('./RStates/ship.avg.wind.mld.rdata')"
   ]
  },
  {
   "cell_type": "code",
   "execution_count": 29,
   "metadata": {},
   "outputs": [
    {
     "name": "stdout",
     "output_type": "stream",
     "text": [
      "'data.frame':\t41780 obs. of  34 variables:\n",
      " $ Cruise      : chr  \"CCE-P1706\" \"CCE-P1706\" \"CCE-P1706\" \"CCE-P1706\" ...\n",
      " $ Cycle       : chr  \"Cycle0\" \"Cycle0\" \"Cycle0\" \"Cycle0\" ...\n",
      " $ EventNo     : num  3 3 3 3 3 3 3 3 3 3 ...\n",
      " $ Cast        : num  1 1 1 1 1 1 1 1 1 1 ...\n",
      " $ DateTime_GMT: num  42888 42888 42888 42888 42888 ...\n",
      " $ Direction   : chr  \"down\" \"down\" \"down\" \"down\" ...\n",
      " $ Pressure    : num  2 3 4 5 6 7 8 9 10 11 ...\n",
      " $ Depth       : num  1.99 2.98 3.97 4.96 5.96 ...\n",
      " $ T090C       : num  16.9 16.8 16.9 16.9 16.8 ...\n",
      " $ T190C       : num  16.8 16.8 16.9 16.9 16.8 ...\n",
      " $ Cond1       : num  4.3 4.29 4.3 4.3 4.29 ...\n",
      " $ Cond2       : num  4.29 4.29 4.3 4.3 4.3 ...\n",
      " $ Sal00       : num  33.4 33.4 33.4 33.4 33.4 ...\n",
      " $ Sal11       : num  33.4 33.4 33.4 33.4 33.4 ...\n",
      " $ OxymicroM   : num  195 196 195 195 195 ...\n",
      " $ OxyPerSat   : num  81 81.1 81 80.9 80.8 ...\n",
      " $ SurPAR      : num  8632 8632 8632 8632 8632 ...\n",
      " $ PAR         : num  1292 1053 887 775 688 ...\n",
      " $ Cpar        : num  0.1496 0.122 0.1028 0.0898 0.0797 ...\n",
      " $ Cpar_Flag   : num  1 1 1 1 1 1 1 1 1 1 ...\n",
      " $ Fluor       : num  0.196 0.208 0.207 0.215 0.225 ...\n",
      " $ TransTra    : num  94.2 94.4 94.5 94.7 94.7 ...\n",
      " $ TransAtt    : num  0.24 0.231 0.227 0.217 0.218 ...\n",
      " $ ISUS_V1     : num  0.436 0.518 0.571 0.553 0.427 ...\n",
      " $ ISUS_V2     : num  NA NA NA NA NA NA NA NA NA NA ...\n",
      " $ Rinko_O2    : num  NA NA NA NA NA NA NA NA NA NA ...\n",
      " $ Rinko_Temp  : num  NA NA NA NA NA NA NA NA NA NA ...\n",
      " $ SecS-PriS   : num  -0.0048 -0.0016 -0.0001 -0.0011 -0.0019 -0.0035 -0.012 0.0027 -0.0175 -0.0014 ...\n",
      " $ Sigma_00    : num  24.3 24.4 24.3 24.3 24.4 ...\n",
      " $ Sigma_11    : num  24.3 24.4 24.3 24.3 24.3 ...\n",
      " $ Potemp090C  : num  16.9 16.8 16.9 16.9 16.8 ...\n",
      " $ Potemp190C  : num  16.8 16.8 16.9 16.9 16.8 ...\n",
      " $ T2-T1_90C   : num  -0.0271 -0.0035 -0.0073 0.0007 0.017 -0.0024 0.0332 0.0133 -0.0433 -0.0038 ...\n",
      " $ C2-C1       : num  -0.00314 -0.000517 -0.00071 -0.000061 0.001403 ...\n"
     ]
    }
   ],
   "source": [
    "## Read in the data files and convert the excel time\n",
    "ctd.log = read.xlsx('./Raw Data/CTD/DataZoo - P1706 CTD Cast Log.xlsx', sheet = 'Data')\n",
    "ctd.data = read.xlsx('./Raw Data/CTD/DataZoo - P1706 CTD Downcast Data.xlsx')\n",
    "\n",
    "str(ctd.data)"
   ]
  },
  {
   "cell_type": "code",
   "execution_count": 63,
   "metadata": {
    "collapsed": true
   },
   "outputs": [],
   "source": [
    "## this section calculates the mld for each cast\n",
    "mld = data.frame(Lat = 0, Long = 0, mld = 0)\n",
    "mld.times = c()\n",
    "\n",
    "## Go through each cast and determine the MLD and then save that depth to a table.\n",
    "for (i in unique(ctd.data$Cast)){\n",
    "    \n",
    "    ## Select the relevent density profile\n",
    "    l = which(ctd.data$Cast == i)\n",
    "    rho = ctd.data$Sigma_00[l]\n",
    "    \n",
    "    if (length(rho) > 10) { ## make sure it was a real cast (i.e. more than 10 data points)\n",
    "        \n",
    "        l.log = which(ctd.log$Cast == i)  # Which entry is this cast in the ctd log?\n",
    "        rho.10 = rho[ctd.data$Pressure[l] == 10]  # density at 10 meters depth\n",
    "        #ll = which.min((rho - (rho.10 + 0.03))^2)  # What is the closest density to rho10 + 0.03?\n",
    "        ll = which.min((rho - (rho.10 + 0.125))^2)  # What is the closest density to rho10 + 0.03?\n",
    "        \n",
    "        # Save the Data\n",
    "        mld = rbind(mld, c(ctd.log$Lat[l.log], ctd.log$Long[l.log], ctd.data$Pressure[l[ll]]) )\n",
    "        mld.times = c(mld.times, ctd.data$DateTime_GMT[l[ll]])\n",
    "    }\n",
    "}\n",
    "mld.times = conv_excel_time(mld.times)\n",
    "mld = mld[-1,]"
   ]
  },
  {
   "cell_type": "code",
   "execution_count": 64,
   "metadata": {},
   "outputs": [
    {
     "data": {
      "image/png": "[encoded data removed]",
      "text/plain": [
       "Plot with title \"Histogram of mld$mld\""
      ]
     },
     "metadata": {},
     "output_type": "display_data"
    }
   ],
   "source": [
    "par(mfrow=c(2,2))\n",
    "#mld.old = mld$mld\n",
    "hist(mld.old, breaks = 20)\n",
    "hist(mld$mld, breaks = 20)\n",
    "plot(mld.old - mld$mld)"
   ]
  },
  {
   "cell_type": "code",
   "execution_count": 31,
   "metadata": {
    "collapsed": true
   },
   "outputs": [],
   "source": [
    "## Time to add the MLD variable to the main data set and interpolate\n",
    "ship.data$MLD = 0\n",
    "\n",
    "for (i in 1:nrow(ship.data)) {\n",
    "    dt = abs(as.numeric(difftime(ship.data$DT[i], mld.times, units='hours')))\n",
    "    dt.order = order(dt)\n",
    "    \n",
    "    ## Calculate the linear interpolation of the 2 closest MLD measurements\n",
    "    w.1 = dt.order[1]\n",
    "    if (as.numeric(difftime(ship.data$DT[i], mld.times[w.1], units='hours')) > 0) { # Shiptime is after ctd time\n",
    "        w.2 = min(w.1 + 1, nrow(mld.times))\n",
    "    } else {\n",
    "        w.2 = max(1, w.1 - 1)\n",
    "    }\n",
    "    \n",
    "    dt.1 = dt[w.1]\n",
    "    dt.2 = dt[w.2]\n",
    "    dist.1 = sqrt( (mld$Lat[w.1] - ship.data$LA[i])^2 + (mld$Long[w.1] - ship.data$LO[i])^2 )\n",
    "    dist.2 = sqrt( (mld$Lat[w.2] - ship.data$LA[i])^2 + (mld$Long[w.2] - ship.data$LO[i])^2 )\n",
    "    mld.1 = mld$mld[w.1]\n",
    "    mld.2 = mld$mld[w.2]\n",
    "    \n",
    "    ## MLD is the linear interpolation from the two closest casts based on time (not distance).\n",
    "    ship.data$MLD[i] = mld.1 * (dist.2 / (dist.1 + dist.2)) + mld.2 * (dist.1 / (dist.1 + dist.2))\n",
    "}"
   ]
  },
  {
   "cell_type": "code",
   "execution_count": 32,
   "metadata": {},
   "outputs": [
    {
     "data": {
      "text/html": [
       "<table>\n",
       "<thead><tr><th></th><th scope=col>used</th><th scope=col>(Mb)</th><th scope=col>gc trigger</th><th scope=col>(Mb)</th><th scope=col>max used</th><th scope=col>(Mb)</th></tr></thead>\n",
       "<tbody>\n",
       "\t<tr><th scope=row>Ncells</th><td>  676470 </td><td> 36.2    </td><td> 2215351 </td><td>118.4    </td><td>  9878615</td><td> 527.6   </td></tr>\n",
       "\t<tr><th scope=row>Vcells</th><td>21202205 </td><td>161.8    </td><td>53275371 </td><td>406.5    </td><td>606368204</td><td>4626.3   </td></tr>\n",
       "</tbody>\n",
       "</table>\n"
      ],
      "text/latex": [
       "\\begin{tabular}{r|llllll}\n",
       "  & used & (Mb) & gc trigger & (Mb) & max used & (Mb)\\\\\n",
       "\\hline\n",
       "\tNcells &   676470  &  36.2     &  2215351  & 118.4     &   9878615 &  527.6   \\\\\n",
       "\tVcells & 21202205  & 161.8     & 53275371  & 406.5     & 606368204 & 4626.3   \\\\\n",
       "\\end{tabular}\n"
      ],
      "text/markdown": [
       "\n",
       "| <!--/--> | used | (Mb) | gc trigger | (Mb) | max used | (Mb) | \n",
       "|---|---|\n",
       "| Ncells |   676470  |  36.2     |  2215351  | 118.4     |   9878615 |  527.6    | \n",
       "| Vcells | 21202205  | 161.8     | 53275371  | 406.5     | 606368204 | 4626.3    | \n",
       "\n",
       "\n"
      ],
      "text/plain": [
       "       used     (Mb)  gc trigger (Mb)  max used  (Mb)  \n",
       "Ncells   676470  36.2  2215351   118.4   9878615  527.6\n",
       "Vcells 21202205 161.8 53275371   406.5 606368204 4626.3"
      ]
     },
     "metadata": {},
     "output_type": "display_data"
    }
   ],
   "source": [
    "save(ship.data, file='./RStates/ship.avg.wind.mld.rdata')\n",
    "write.xlsx(ship.data, file='./Input Data/Shipdata - MLD.xlsx')\n",
    "gc()"
   ]
  },
  {
   "cell_type": "markdown",
   "metadata": {},
   "source": [
    "---\n",
    "# 4. Wind Integration\n",
    "With the ship data loaded we must now interpolate the grid of the NCEP data ont othe ship's track. Here we simply do the average wind speed value for the 4 closest NCEP grid points (weighted such that the closer the grid point is the more important it is) for each track position. We then linearly interpolate this speed across the two closest times.\n",
    "\n",
    "The 5 day intergration is done as a simple average across the 5 days prior to the current ship time using the same 4 grid point average.\n",
    "\n",
    "Interpolations to consider\n",
    "* Simple average (n points considered; quick to compute, ignorant of space or time)\n",
    "* Based on distance to point (can be 2, 3, 4, or n point average)\n",
    "* Bilinear (takes into account the spatial structure, likely to be identical to distance with n=4)\n",
    "* Non-standard distance metric (weigths based on other than euclidean distance)\n",
    "* Lienar interpolation (special case on distance with n=2, seems like the ideal for temporal interpolation)"
   ]
  },
  {
   "cell_type": "code",
   "execution_count": null,
   "metadata": {
    "collapsed": true
   },
   "outputs": [],
   "source": [
    "## Load the data if already present\n",
    "load('./RStates/ship.avg.wind.rdata')"
   ]
  },
  {
   "cell_type": "code",
   "execution_count": 65,
   "metadata": {
    "collapsed": true
   },
   "outputs": [],
   "source": [
    "schmidt.number = function(SST) {\n",
    "    \n",
    "    ## Parameters of fit from Wannikhof 1992.\n",
    "    a = 1953.4\n",
    "    b = 128.00\n",
    "    c = 3.9918\n",
    "    d = 0.050091\n",
    "    \n",
    "    ## Calculate teh Schmidt Number\n",
    "    a - b*SST + c*(SST^2) - d*(SST^3)\n",
    "}\n",
    "\n",
    "k.calc = function(u, SST) {\n",
    "   # 0.31 * u^2 / sqrt(schmidt.number(SST)/660)\n",
    "    0.074 * u^2 / sqrt(schmidt.number(SST)/660)  # m/d\n",
    "}\n",
    "\n",
    "#### Ventilation\n",
    "##\n",
    "## This function calculates the temporal length scale of the NCP measurement. Essentially it \n",
    "## calculates the ventilation based on water column and wind speed over a sequence of measurements (equally spaced).\n",
    "##\n",
    "##\n",
    "ventilation = function(ws, mld, SST, dt) {\n",
    "    weights = 1\n",
    "    k.result = k.calc(ws, SST)\n",
    "    \n",
    "    if (length(ws) == 1) {\n",
    "        return(k.result / mld)\n",
    "    }\n",
    "    \n",
    "    #### Loop through and sequentially calculate the transfer velocities and weighting of ventilation\n",
    "    ##\n",
    "    for (i in 2:length(ws)) {\n",
    "        ## Calculate the weighting per Reuer et al.\n",
    "        f.temp = min(k.result[i-1] * dt[i] / mld, 1)\n",
    "        weights[i] = weights[i-1] * (1 - f.temp)\n",
    "        \n",
    "    }\n",
    "    \n",
    "    #### Final Calculations\n",
    "    k.final = sum(weights * k.result) / (1-weights[length(weights)])\n",
    "    k.final / sum(weights) ## Normalize\n",
    "}"
   ]
  },
  {
   "cell_type": "code",
   "execution_count": 62,
   "metadata": {
    "scrolled": false
   },
   "outputs": [
    {
     "data": {},
     "metadata": {},
     "output_type": "display_data"
    },
    {
     "data": {
      "image/png": "[encoded data removed]",
      "text/plain": [
       "plot without title"
      ]
     },
     "metadata": {},
     "output_type": "display_data"
    },
    {
     "data": {
      "image/png": "[encoded data removed]",
      "text/plain": [
       "plot without title"
      ]
     },
     "metadata": {},
     "output_type": "display_data"
    },
    {
     "data": {
      "image/png": "[encoded data removed]",
      "text/plain": [
       "plot without title"
      ]
     },
     "metadata": {},
     "output_type": "display_data"
    }
   ],
   "source": [
    "## Schmidt Number Review\n",
    "sst = seq(5, 25, 0.1)\n",
    "plot(sst, schmidt.number(sst), type='l', lwd=3)\n",
    "\n",
    "## k.calc review\n",
    "library(lattice)\n",
    "u = seq(0, 20, 0.1)\n",
    "\n",
    "temp = expand.grid(u=u, sst=sst)\n",
    "temp$k = k.calc(temp$u, temp$sst)\n",
    "levelplot(k ~ u * sst, data=temp, )\n",
    "\n",
    "## Ventilation\n",
    "ws = rep(2, 40)\n",
    "dt = rep(0.25, 40)\n",
    "SST = 15\n",
    "mld = 15\n",
    "ans = NULL\n",
    "for (i in 1:40) {\n",
    "    ans = c(ans, ventilation(ws[1:i], mld, SST, dt[1:i]))\n",
    "}\n",
    "\n",
    "plot(ans)"
   ]
  },
  {
   "cell_type": "code",
   "execution_count": 66,
   "metadata": {
    "collapsed": true
   },
   "outputs": [],
   "source": [
    "## How many points to interpolate from?\n",
    "N = 4\n",
    "Int.t = 30 # days\n",
    "\n",
    "## First start by creating some new variables\n",
    "ship.data$NCEP = 0\n",
    "ship.data$TW.5 = 0\n",
    "ship.data$k = 0\n",
    "\n",
    "## Correction for offset\n",
    "wind.ncep = (wind.ncep - 1.53) / 0.783\n",
    "\n",
    "## Loop through and populate the variables one row at a time\n",
    "for (i in 1:nrow(ship.data)) {\n",
    "    \n",
    "    #######################\n",
    "    ##### Time section ####\n",
    "    #######################\n",
    "    \n",
    "    ## Calculate the difference in time between the ship data and the NCEP times (time.actual)\n",
    "    dt = abs(as.numeric(difftime(ship.data$DT[i], time.actual, units = 'days')))\n",
    "    \n",
    "    time.order = order(dt) # smallest 2 values are the two closest times\n",
    "    time.1 = time.order[1]\n",
    "    time.2 = time.order[2]\n",
    "    \n",
    "    ## Find the N previous days to average\n",
    "    # Which days are before time i and less than N days away?\n",
    "    day.5 = which(time.actual < ship.data$DT[i] & as.numeric(difftime(ship.data$DT[i], time.actual, units = 'days')) < Int.t)\n",
    "    \n",
    "    ## Calculate the ship N day average\n",
    "    ship.5 = which(ship.data$DT < ship.data$DT[i] & as.numeric(difftime(ship.data$DT[i], ship.data$DT, units = 'days')) < Int.t)\n",
    "    ship.data$TW.5[i] = mean(ship.data$TW[ship.5])\n",
    "    \n",
    "    #########################\n",
    "    ##### Space section #####\n",
    "    ##########################\n",
    "    \n",
    "    ## Calculate the separation betweeen the ship and NCEP grid points\n",
    "    dy = (ship.data$LA[i] - wind.lat)^2\n",
    "    dx = (ship.data$LO[i] - wind.lon)^2\n",
    "    \n",
    "    dd = dx + dy\n",
    "    d.order = order(dd)\n",
    "    \n",
    "    ####\n",
    "    ## The N closest grid points in the NCEP data will be the 1st ... N smallest dx \n",
    "    # and dy indices\n",
    "    #\n",
    "    # From the distance vector we will generate the weights such that sum(weights) = 1 \n",
    "    # and if distance1 = 0 than weight = 1.\n",
    "    ###\n",
    "    \n",
    "    ll = d.order[c(1:N)] # which grid cells are closest?\n",
    "    dd = dd[ll] ## Calculate the distance vector\n",
    "    \n",
    "    ## Normalize the distance matrix if using n > 1 interpolation and transform to weights\n",
    "    dd = 1 - dd / sum(dd)\n",
    "    dd = dd / sum(dd)\n",
    "    \n",
    "    if (length(dd) == 1) { ## If N = 1 then the normalization above wont work.\n",
    "        dd = 1\n",
    "    }\n",
    "    \n",
    "    ## Calculate the wind at position for the 2 closest times\n",
    "    # (NB. assumes t1 < t.ship < t2 or t2 < t.ship < t1)\n",
    "    #\n",
    "    wind = c(sum(wind.ncep[ll, time.1] * dd), sum(wind.ncep[ll, time.2] * dd))\n",
    "     \n",
    "    ## Linear interpolation with time (sum of weights = 1 and weight = 1 when dt is 0)\n",
    "    ship.data$NCEP[i] = wind[1] * dt[time.2] / sum(dt[c(time.1, time.2)]) + wind[2] * dt[time.1] / sum(dt[c(time.1, time.2)])\n",
    "    \n",
    "    ## 5 days previous are calculated as wind1 and wind2 above but summed for each day and averaged\n",
    "    wind.temp = 0\n",
    "    \n",
    "    for (previous.day in 1:length(day.5)) {\n",
    "        wind.temp[previous.day] = sum(wind.ncep[ll, day.5[previous.day]] * dd)\n",
    "    }\n",
    "    \n",
    "    ## Determine the time seperation between each wind measurement\n",
    "    delta.t = abs(c(0, as.numeric(difftime(ship.data$DT[i], time.actual[day.5], unit='days'))))\n",
    "    \n",
    "    ## run the ventilation algorithm on the data.\n",
    "    ship.data$k[i] = ventilation(wind.temp, ship.data$MLD[i], ship.data$TT[i], delta.t)\n",
    "    \n",
    "}\n"
   ]
  },
  {
   "cell_type": "code",
   "execution_count": 67,
   "metadata": {},
   "outputs": [
    {
     "data": {
      "text/plain": [
       "    Min.  1st Qu.   Median     Mean  3rd Qu.     Max.     NA's \n",
       " 0.04574  0.49400  2.37004  4.41880  7.27132 24.04031       11 "
      ]
     },
     "metadata": {},
     "output_type": "display_data"
    }
   ],
   "source": [
    "#hist(ship.data$k, breaks = 2000)\n",
    "summary(ship.data$k)\n",
    "\n"
   ]
  },
  {
   "cell_type": "code",
   "execution_count": 68,
   "metadata": {
    "collapsed": true
   },
   "outputs": [],
   "source": [
    "save(ship.data, file='./RStates/ship.avg.wind.rdata')\n",
    "write.xlsx(ship.data, file='./Input Data/Shipdata - Wind.xlsx')"
   ]
  },
  {
   "cell_type": "markdown",
   "metadata": {},
   "source": [
    "---\n",
    "# 5. Review and check data\n",
    "Let's plot up some of the data now:"
   ]
  },
  {
   "cell_type": "code",
   "execution_count": 69,
   "metadata": {
    "scrolled": false
   },
   "outputs": [
    {
     "data": {
      "image/png": "[encoded data removed]",
      "text/plain": [
       "Plot with title \"NCEP Data\""
      ]
     },
     "metadata": {},
     "output_type": "display_data"
    },
    {
     "data": {
      "image/png": "[encoded data removed]",
      "text/plain": [
       "Plot with title \"Mixed Layer Depth\""
      ]
     },
     "metadata": {},
     "output_type": "display_data"
    },
    {
     "data": {
      "image/png": "[encoded data removed]",
      "text/plain": [
       "plot without title"
      ]
     },
     "metadata": {},
     "output_type": "display_data"
    }
   ],
   "source": [
    "#pdf('./Output/Latest Wind.pdf')\n",
    "par(mfrow=c(2,1))\n",
    "plot(ship.data$DT, ship.data$TW, ylim=c(0,20), main='Ship-based Wind', xlab='', ylab='Wind Speed (m/s)', type='l')\n",
    "lines(ship.data$DT, ship.data$TW.5, col='red', lwd=2)\n",
    "\n",
    "plot(ship.data$DT, ship.data$NCEP, ylim=c(0,20), main='NCEP Data', xlab='' , ylab='Wind Speed (m/s)', type='l')\n",
    "lines(ship.data$DT, ship.data$NCEP.5, col='red', lwd=2)\n",
    "\n",
    "\n",
    "plot(ship.data$DT, ship.data$NCEP.5, pch=16, cex=0.2, ylim=c(0,20), main='NCEP 5-Day Average', xlab='' , ylab='Wind Speed (m/s)')\n",
    "points(ship.data$DT, ship.data$TW.5, pch=16, cex=0.2, col='red')\n",
    "\n",
    "plot(ship.data$DT, ship.data$MLD, type='l', ylab='Depth (m)', main='Mixed Layer Depth')\n",
    "\n",
    "\n",
    "############################\n",
    "### Plot of region       ###\n",
    "############################\n",
    "## Plot showing the ship's track along with the grid points in the NCEP/NCAR data set\n",
    "\n",
    "plot(ship.data$LO, ship.data$LA, type='l', ylim=c(32,38), xlab='Longitude', ylab='Latitude')\n",
    "\n",
    "## Add grid points\n",
    "for (i in 1:length(wind.lat)) {\n",
    "    points(wind.lon[i], wind.lat[i], col='red', pch=16)\n",
    "}\n",
    "\n",
    "\n",
    "############################\n",
    "### Plot with regression ###\n",
    "############################\n",
    "plot(ship.data$TW, ship.data$NCEP, col='#000020', pch=16, xlab='Ship Avg Wind', ylab='NCEP Avg Wind')\n",
    "model = lm(NCEP ~ TW, data = ship.data)\n",
    "\n",
    "lines(c(1:100), predict(model, newdata = data.frame(TW = c(1:100))), col='red')\n",
    "#dev.off()"
   ]
  },
  {
   "cell_type": "code",
   "execution_count": 70,
   "metadata": {},
   "outputs": [
    {
     "data": {
      "text/html": [
       "<dl class=dl-horizontal>\n",
       "\t<dt>(Intercept)</dt>\n",
       "\t\t<dd>-0.00186546528937176</dd>\n",
       "\t<dt>TW</dt>\n",
       "\t\t<dd>0.999374373557125</dd>\n",
       "</dl>\n"
      ],
      "text/latex": [
       "\\begin{description*}\n",
       "\\item[(Intercept)] -0.00186546528937176\n",
       "\\item[TW] 0.999374373557125\n",
       "\\end{description*}\n"
      ],
      "text/markdown": [
       "(Intercept)\n",
       ":   -0.00186546528937176TW\n",
       ":   0.999374373557125\n",
       "\n"
      ],
      "text/plain": [
       " (Intercept)           TW \n",
       "-0.001865465  0.999374374 "
      ]
     },
     "metadata": {},
     "output_type": "display_data"
    }
   ],
   "source": [
    "## TODO: do this correction before calculating k !!!! \n",
    "\n",
    "model = lm(NCEP ~ TW, data = ship.data)\n",
    "coefficients(model)\n",
    "\n",
    "#ship.data$NCEP = (ship.data$NCEP - coefficients(model)[[1]]) / coefficients(model)[[2]]"
   ]
  },
  {
   "cell_type": "markdown",
   "metadata": {},
   "source": [
    "---\n",
    "\n",
    "# O2 Argon Data (EIMS)\n",
    "This section will load the EIMS data and merge the useful columns with ship.data. The merge is done with linear interpolations baed on time.\n",
    "\n",
    "Additionally, a new FLAG column will be added in order to monitor the sources & assumptions of the data going into the NCP calculations."
   ]
  },
  {
   "cell_type": "code",
   "execution_count": 2,
   "metadata": {
    "collapsed": true
   },
   "outputs": [],
   "source": [
    "load(file='./RStates/ship.final.rdata') # Includes EIMS data, but don;t need another copy"
   ]
  },
  {
   "cell_type": "code",
   "execution_count": 71,
   "metadata": {
    "collapsed": true
   },
   "outputs": [],
   "source": [
    "load('./RStates/EIMS.v1.rdata')\n",
    "load('./RStates/EIMS.v2.rdata')"
   ]
  },
  {
   "cell_type": "code",
   "execution_count": 72,
   "metadata": {},
   "outputs": [
    {
     "data": {
      "text/html": [
       "<table>\n",
       "<thead><tr><th></th><th scope=col>time</th><th scope=col>X18.03</th><th scope=col>X28.03</th><th scope=col>X32</th><th scope=col>X40</th><th scope=col>X44.06</th><th scope=col>X45.06</th><th scope=col>TP</th><th scope=col>N2.Ar</th><th scope=col>O2.Ar</th><th scope=col>...</th><th scope=col>Temp..C.</th><th scope=col>Calphase..C.</th><th scope=col>TCphase..C.</th><th scope=col>C1..C.</th><th scope=col>C2..C.</th><th scope=col>inlet</th><th scope=col>sock</th><th scope=col>outlet</th><th scope=col>MS</th><th scope=col>flow</th></tr></thead>\n",
       "<tbody>\n",
       "\t<tr><th scope=row>11</th><td>2017-06-02 12:00:00</td><td>8.995880e-09       </td><td>4.482618e-07       </td><td>1.120987e-07       </td><td>4.361953e-09       </td><td>2.949270e-10       </td><td>4.124506e-12       </td><td>4.102961e-06       </td><td>102.7617           </td><td>25.70481           </td><td>...                </td><td>17.72212           </td><td>27.41073           </td><td>28.66935           </td><td>33.25557           </td><td>4.586352           </td><td>16.91760           </td><td>17.03646           </td><td>16.99120           </td><td>46.51336           </td><td> 99.96728          </td></tr>\n",
       "\t<tr><th scope=row>467</th><td>2017-06-02 12:10:00</td><td>9.146030e-09       </td><td>4.468004e-07       </td><td>1.122060e-07       </td><td>4.360815e-09       </td><td>2.938348e-10       </td><td>4.145172e-12       </td><td>4.098970e-06       </td><td>102.4616           </td><td>25.73600           </td><td>...                </td><td>17.64799           </td><td>27.39771           </td><td>28.65767           </td><td>33.24315           </td><td>4.585500           </td><td>16.83095           </td><td>16.97213           </td><td>16.90390           </td><td>46.59118           </td><td> 99.99120          </td></tr>\n",
       "\t<tr><th scope=row>933</th><td>2017-06-02 12:20:00</td><td>9.217923e-09       </td><td>4.492441e-07       </td><td>1.140942e-07       </td><td>4.389293e-09       </td><td>2.927666e-10       </td><td>4.127473e-12       </td><td>4.132355e-06       </td><td>102.3511           </td><td>25.98875           </td><td>...                </td><td>17.42241           </td><td>27.16849           </td><td>28.45320           </td><td>33.03881           </td><td>4.585522           </td><td>16.63121           </td><td>16.74761           </td><td>16.70466           </td><td>46.51317           </td><td> 99.98328          </td></tr>\n",
       "\t<tr><th scope=row>1400</th><td>2017-06-02 12:30:00</td><td>9.239485e-09       </td><td>4.506438e-07       </td><td>1.155644e-07       </td><td>4.413240e-09       </td><td>2.933283e-10       </td><td>4.105672e-12       </td><td>4.157425e-06       </td><td>102.1159           </td><td>26.18836           </td><td>...                </td><td>17.22977           </td><td>27.06677           </td><td>28.36250           </td><td>32.94587           </td><td>4.583633           </td><td>16.42347           </td><td>16.58212           </td><td>16.49569           </td><td>46.51522           </td><td> 99.96215          </td></tr>\n",
       "\t<tr><th scope=row>1866</th><td>2017-06-02 12:40:00</td><td>9.634399e-09       </td><td>4.500429e-07       </td><td>1.155494e-07       </td><td>4.410215e-09       </td><td>2.904807e-10       </td><td>4.156159e-12       </td><td>4.145536e-06       </td><td>102.0466           </td><td>26.20629           </td><td>...                </td><td>17.23295           </td><td>27.18371           </td><td>28.46682           </td><td>33.04838           </td><td>4.581624           </td><td>16.48452           </td><td>16.52437           </td><td>16.56012           </td><td>46.58621           </td><td>100.00287          </td></tr>\n",
       "\t<tr><th scope=row>2332</th><td>2017-06-02 12:50:00</td><td>9.415570e-09       </td><td>4.475312e-07       </td><td>1.138108e-07       </td><td>4.384602e-09       </td><td>2.930538e-10       </td><td>4.173774e-12       </td><td>4.110129e-06       </td><td>102.0687           </td><td>25.94934           </td><td>...                </td><td>17.64378           </td><td>27.32361           </td><td>28.59149           </td><td>33.17472           </td><td>4.583004           </td><td>16.83220           </td><td>16.94163           </td><td>16.90481           </td><td>46.53061           </td><td> 99.99603          </td></tr>\n",
       "</tbody>\n",
       "</table>\n"
      ],
      "text/latex": [
       "\\begin{tabular}{r|lllllllllllllllllllllll}\n",
       "  & time & X18.03 & X28.03 & X32 & X40 & X44.06 & X45.06 & TP & N2.Ar & O2.Ar & ... & Temp..C. & Calphase..C. & TCphase..C. & C1..C. & C2..C. & inlet & sock & outlet & MS & flow\\\\\n",
       "\\hline\n",
       "\t11 & 2017-06-02 12:00:00 & 8.995880e-09        & 4.482618e-07        & 1.120987e-07        & 4.361953e-09        & 2.949270e-10        & 4.124506e-12        & 4.102961e-06        & 102.7617            & 25.70481            & ...                 & 17.72212            & 27.41073            & 28.66935            & 33.25557            & 4.586352            & 16.91760            & 17.03646            & 16.99120            & 46.51336            &  99.96728          \\\\\n",
       "\t467 & 2017-06-02 12:10:00 & 9.146030e-09        & 4.468004e-07        & 1.122060e-07        & 4.360815e-09        & 2.938348e-10        & 4.145172e-12        & 4.098970e-06        & 102.4616            & 25.73600            & ...                 & 17.64799            & 27.39771            & 28.65767            & 33.24315            & 4.585500            & 16.83095            & 16.97213            & 16.90390            & 46.59118            &  99.99120          \\\\\n",
       "\t933 & 2017-06-02 12:20:00 & 9.217923e-09        & 4.492441e-07        & 1.140942e-07        & 4.389293e-09        & 2.927666e-10        & 4.127473e-12        & 4.132355e-06        & 102.3511            & 25.98875            & ...                 & 17.42241            & 27.16849            & 28.45320            & 33.03881            & 4.585522            & 16.63121            & 16.74761            & 16.70466            & 46.51317            &  99.98328          \\\\\n",
       "\t1400 & 2017-06-02 12:30:00 & 9.239485e-09        & 4.506438e-07        & 1.155644e-07        & 4.413240e-09        & 2.933283e-10        & 4.105672e-12        & 4.157425e-06        & 102.1159            & 26.18836            & ...                 & 17.22977            & 27.06677            & 28.36250            & 32.94587            & 4.583633            & 16.42347            & 16.58212            & 16.49569            & 46.51522            &  99.96215          \\\\\n",
       "\t1866 & 2017-06-02 12:40:00 & 9.634399e-09        & 4.500429e-07        & 1.155494e-07        & 4.410215e-09        & 2.904807e-10        & 4.156159e-12        & 4.145536e-06        & 102.0466            & 26.20629            & ...                 & 17.23295            & 27.18371            & 28.46682            & 33.04838            & 4.581624            & 16.48452            & 16.52437            & 16.56012            & 46.58621            & 100.00287          \\\\\n",
       "\t2332 & 2017-06-02 12:50:00 & 9.415570e-09        & 4.475312e-07        & 1.138108e-07        & 4.384602e-09        & 2.930538e-10        & 4.173774e-12        & 4.110129e-06        & 102.0687            & 25.94934            & ...                 & 17.64378            & 27.32361            & 28.59149            & 33.17472            & 4.583004            & 16.83220            & 16.94163            & 16.90481            & 46.53061            &  99.99603          \\\\\n",
       "\\end{tabular}\n"
      ],
      "text/markdown": [
       "\n",
       "| <!--/--> | time | X18.03 | X28.03 | X32 | X40 | X44.06 | X45.06 | TP | N2.Ar | O2.Ar | ... | Temp..C. | Calphase..C. | TCphase..C. | C1..C. | C2..C. | inlet | sock | outlet | MS | flow | \n",
       "|---|---|---|---|---|---|\n",
       "| 11 | 2017-06-02 12:00:00 | 8.995880e-09        | 4.482618e-07        | 1.120987e-07        | 4.361953e-09        | 2.949270e-10        | 4.124506e-12        | 4.102961e-06        | 102.7617            | 25.70481            | ...                 | 17.72212            | 27.41073            | 28.66935            | 33.25557            | 4.586352            | 16.91760            | 17.03646            | 16.99120            | 46.51336            |  99.96728           | \n",
       "| 467 | 2017-06-02 12:10:00 | 9.146030e-09        | 4.468004e-07        | 1.122060e-07        | 4.360815e-09        | 2.938348e-10        | 4.145172e-12        | 4.098970e-06        | 102.4616            | 25.73600            | ...                 | 17.64799            | 27.39771            | 28.65767            | 33.24315            | 4.585500            | 16.83095            | 16.97213            | 16.90390            | 46.59118            |  99.99120           | \n",
       "| 933 | 2017-06-02 12:20:00 | 9.217923e-09        | 4.492441e-07        | 1.140942e-07        | 4.389293e-09        | 2.927666e-10        | 4.127473e-12        | 4.132355e-06        | 102.3511            | 25.98875            | ...                 | 17.42241            | 27.16849            | 28.45320            | 33.03881            | 4.585522            | 16.63121            | 16.74761            | 16.70466            | 46.51317            |  99.98328           | \n",
       "| 1400 | 2017-06-02 12:30:00 | 9.239485e-09        | 4.506438e-07        | 1.155644e-07        | 4.413240e-09        | 2.933283e-10        | 4.105672e-12        | 4.157425e-06        | 102.1159            | 26.18836            | ...                 | 17.22977            | 27.06677            | 28.36250            | 32.94587            | 4.583633            | 16.42347            | 16.58212            | 16.49569            | 46.51522            |  99.96215           | \n",
       "| 1866 | 2017-06-02 12:40:00 | 9.634399e-09        | 4.500429e-07        | 1.155494e-07        | 4.410215e-09        | 2.904807e-10        | 4.156159e-12        | 4.145536e-06        | 102.0466            | 26.20629            | ...                 | 17.23295            | 27.18371            | 28.46682            | 33.04838            | 4.581624            | 16.48452            | 16.52437            | 16.56012            | 46.58621            | 100.00287           | \n",
       "| 2332 | 2017-06-02 12:50:00 | 9.415570e-09        | 4.475312e-07        | 1.138108e-07        | 4.384602e-09        | 2.930538e-10        | 4.173774e-12        | 4.110129e-06        | 102.0687            | 25.94934            | ...                 | 17.64378            | 27.32361            | 28.59149            | 33.17472            | 4.583004            | 16.83220            | 16.94163            | 16.90481            | 46.53061            |  99.99603           | \n",
       "\n",
       "\n"
      ],
      "text/plain": [
       "     time                X18.03       X28.03       X32          X40         \n",
       "11   2017-06-02 12:00:00 8.995880e-09 4.482618e-07 1.120987e-07 4.361953e-09\n",
       "467  2017-06-02 12:10:00 9.146030e-09 4.468004e-07 1.122060e-07 4.360815e-09\n",
       "933  2017-06-02 12:20:00 9.217923e-09 4.492441e-07 1.140942e-07 4.389293e-09\n",
       "1400 2017-06-02 12:30:00 9.239485e-09 4.506438e-07 1.155644e-07 4.413240e-09\n",
       "1866 2017-06-02 12:40:00 9.634399e-09 4.500429e-07 1.155494e-07 4.410215e-09\n",
       "2332 2017-06-02 12:50:00 9.415570e-09 4.475312e-07 1.138108e-07 4.384602e-09\n",
       "     X44.06       X45.06       TP           N2.Ar    O2.Ar    ... Temp..C.\n",
       "11   2.949270e-10 4.124506e-12 4.102961e-06 102.7617 25.70481 ... 17.72212\n",
       "467  2.938348e-10 4.145172e-12 4.098970e-06 102.4616 25.73600 ... 17.64799\n",
       "933  2.927666e-10 4.127473e-12 4.132355e-06 102.3511 25.98875 ... 17.42241\n",
       "1400 2.933283e-10 4.105672e-12 4.157425e-06 102.1159 26.18836 ... 17.22977\n",
       "1866 2.904807e-10 4.156159e-12 4.145536e-06 102.0466 26.20629 ... 17.23295\n",
       "2332 2.930538e-10 4.173774e-12 4.110129e-06 102.0687 25.94934 ... 17.64378\n",
       "     Calphase..C. TCphase..C. C1..C.   C2..C.   inlet    sock     outlet  \n",
       "11   27.41073     28.66935    33.25557 4.586352 16.91760 17.03646 16.99120\n",
       "467  27.39771     28.65767    33.24315 4.585500 16.83095 16.97213 16.90390\n",
       "933  27.16849     28.45320    33.03881 4.585522 16.63121 16.74761 16.70466\n",
       "1400 27.06677     28.36250    32.94587 4.583633 16.42347 16.58212 16.49569\n",
       "1866 27.18371     28.46682    33.04838 4.581624 16.48452 16.52437 16.56012\n",
       "2332 27.32361     28.59149    33.17472 4.583004 16.83220 16.94163 16.90481\n",
       "     MS       flow     \n",
       "11   46.51336  99.96728\n",
       "467  46.59118  99.99120\n",
       "933  46.51317  99.98328\n",
       "1400 46.51522  99.96215\n",
       "1866 46.58621 100.00287\n",
       "2332 46.53061  99.99603"
      ]
     },
     "metadata": {},
     "output_type": "display_data"
    },
    {
     "name": "stdout",
     "output_type": "stream",
     "text": [
      "'data.frame':\t2838 obs. of  23 variables:\n",
      " $ time        : POSIXct, format: \"2017-06-02 12:00:00\" \"2017-06-02 12:10:00\" ...\n",
      " $ X18.03      : num  9.00e-09 9.15e-09 9.22e-09 9.24e-09 9.63e-09 ...\n",
      " $ X28.03      : num  4.48e-07 4.47e-07 4.49e-07 4.51e-07 4.50e-07 ...\n",
      " $ X32         : num  1.12e-07 1.12e-07 1.14e-07 1.16e-07 1.16e-07 ...\n",
      " $ X40         : num  4.36e-09 4.36e-09 4.39e-09 4.41e-09 4.41e-09 ...\n",
      " $ X44.06      : num  2.95e-10 2.94e-10 2.93e-10 2.93e-10 2.90e-10 ...\n",
      " $ X45.06      : num  4.12e-12 4.15e-12 4.13e-12 4.11e-12 4.16e-12 ...\n",
      " $ TP          : num  4.10e-06 4.10e-06 4.13e-06 4.16e-06 4.15e-06 ...\n",
      " $ N2.Ar       : num  103 102 102 102 102 ...\n",
      " $ O2.Ar       : num  25.7 25.7 26 26.2 26.2 ...\n",
      " $ N2.O2       : num  4 3.98 3.94 3.9 3.89 ...\n",
      " $ O2..uM.     : num  324 325 335 341 337 ...\n",
      " $ O2.Sat....  : num  109 109 112 114 112 ...\n",
      " $ Temp..C.    : num  17.7 17.6 17.4 17.2 17.2 ...\n",
      " $ Calphase..C.: num  27.4 27.4 27.2 27.1 27.2 ...\n",
      " $ TCphase..C. : num  28.7 28.7 28.5 28.4 28.5 ...\n",
      " $ C1..C.      : num  33.3 33.2 33 32.9 33 ...\n",
      " $ C2..C.      : num  4.59 4.59 4.59 4.58 4.58 ...\n",
      " $ inlet       : num  16.9 16.8 16.6 16.4 16.5 ...\n",
      " $ sock        : num  17 17 16.7 16.6 16.5 ...\n",
      " $ outlet      : num  17 16.9 16.7 16.5 16.6 ...\n",
      " $ MS          : num  46.5 46.6 46.5 46.5 46.6 ...\n",
      " $ flow        : num  100 100 100 100 100 ...\n"
     ]
    }
   ],
   "source": [
    "head(eims.v1)\n",
    "str(eims.v1)"
   ]
  },
  {
   "cell_type": "code",
   "execution_count": 73,
   "metadata": {},
   "outputs": [
    {
     "data": {
      "text/html": [
       "<dl class=dl-horizontal>\n",
       "\t<dt>(Intercept)</dt>\n",
       "\t\t<dd>9.92431376916144</dd>\n",
       "\t<dt>eims.v1$O2.Sat....</dt>\n",
       "\t\t<dd>0.14225306884605</dd>\n",
       "</dl>\n"
      ],
      "text/latex": [
       "\\begin{description*}\n",
       "\\item[(Intercept)] 9.92431376916144\n",
       "\\item[eims.v1\\textbackslash{}\\$O2.Sat....] 0.14225306884605\n",
       "\\end{description*}\n"
      ],
      "text/markdown": [
       "(Intercept)\n",
       ":   9.92431376916144eims.v1$O2.Sat....\n",
       ":   0.14225306884605\n",
       "\n"
      ],
      "text/plain": [
       "       (Intercept) eims.v1$O2.Sat.... \n",
       "         9.9243138          0.1422531 "
      ]
     },
     "metadata": {},
     "output_type": "display_data"
    },
    {
     "data": {
      "image/png": "[encoded data removed]",
      "text/plain": [
       "plot without title"
      ]
     },
     "metadata": {},
     "output_type": "display_data"
    }
   ],
   "source": [
    "plot(eims.v1$O2.Ar, eims.v1$O2.Sat....)\n",
    "mod = lm(eims.v1$O2.Ar ~ eims.v1$O2.Sat....)\n",
    "coefficients(mod)"
   ]
  },
  {
   "cell_type": "markdown",
   "metadata": {},
   "source": [
    "## Interpolate EIMS Data\n",
    "\n",
    "This script deals with each variable separately (will be rolled into a function at some point).\n",
    "\n",
    "1. O2:Ar measurements\n",
    " * Determine if during a gab in data (e.g. calibration, missing values, etc)\n",
    " * If not, then use closest value. FLAG = 1\n",
    " * If so, then check if for times are before and after.\n",
    "  + Both sides: linear interp. FLAG = 2\n",
    "  + One side, use that value (constant). FLAG = 3\n",
    "\n",
    "2. O2:Ar Calibration\n",
    " * Determine if during a gab in data (e.g. non-calibration, missing values, etc)\n",
    " * If not, then use closest value. FLAG = 1\n",
    " * If so, then check if for times are before and after.\n",
    "  + Both sides: linear interp. FLAG = 2\n",
    "  + One side, use that value (constant). FLAG = 3"
   ]
  },
  {
   "cell_type": "code",
   "execution_count": 74,
   "metadata": {
    "collapsed": true
   },
   "outputs": [],
   "source": [
    "ship.data$O2.Ar.cal.FLAG = NULL\n",
    "ship.data$O2.Ar.cal = NULL\n",
    "ship.data$FLAG = NULL\n",
    "ship.data$Cycle = NULL"
   ]
  },
  {
   "cell_type": "code",
   "execution_count": 75,
   "metadata": {
    "collapsed": true
   },
   "outputs": [],
   "source": [
    "eims.interp = function(ship.time, eims.time, ship.var, eims.var, FLAG) {\n",
    "    ## First let's add the O2:Ar measurments\n",
    "    for (i in 1:length(ship.time)) {\n",
    "    \n",
    "        ## Collect all the data points in the EIMS data within 2 minutes\n",
    "        dt = as.numeric(difftime(ship.time[i], eims.time, unit='mins'))\n",
    "        l = which(dt^2 < 40^2) \n",
    "    \n",
    "        ## Make sure there are enough data points (i.e. not during a calibration period)\n",
    "        if (length(l) > 2) { \n",
    "        \n",
    "            ## During a high-requency sampling period just use the closest in time value\n",
    "            l.near = which.min(dt^2)\n",
    "            ship.var[i] = mean(eims.var[l.near])\n",
    "            FLAG[i] = 1 # Normal\n",
    "        } \n",
    "    \n",
    "        ## During a break in the data\n",
    "        else {  \n",
    "            ## TODO: Use O2 relationship instead\n",
    "            if (all(dt < 0, na.rm = TRUE)) {\n",
    "                l = which.min(-dt)\n",
    "                ship.var[i] = eims.var[l]\n",
    "                FLAG[i] = 3  # Interp (1 sided)\n",
    "            }\n",
    "            else if (all(dt > 0, na.rm = TRUE)) {\n",
    "                l = which.min(dt)\n",
    "                ship.var[i] = eims.var[l]\n",
    "                FLAG[i] = 3  # Interp (1 sided)\n",
    "            }\n",
    "            else {\n",
    "                dt.left = -dt[dt < 0]\n",
    "                dt.right = dt[dt > 0]\n",
    "\n",
    "                l1 = which.min(dt.left) # left\n",
    "                l2 = which.min(dt.right) # rigth\n",
    "\n",
    "                y1 = eims.var[dt < 0][l1]\n",
    "                y2 = eims.var[dt > 0][l2]\n",
    "\n",
    "                m = (y2 - y1) / (dt[dt>0][l2] - dt[dt<0][l1])\n",
    "                ans = m * -dt[dt<0][l1] + y1\n",
    "\n",
    "                if (length(ans) != 1) {\n",
    "                    ship.var[i] = 0\n",
    "                    FLAG[i] = 99  # Error\n",
    "                } else{\n",
    "                    ship.var[i] = ans\n",
    "                    FLAG[i] = 2  # Interp (2 sided)\n",
    "                }\n",
    "            }\n",
    "        }\n",
    "    }\n",
    "    return(list(var = ship.var, FLAG = FLAG))\n",
    "}"
   ]
  },
  {
   "cell_type": "code",
   "execution_count": 76,
   "metadata": {
    "collapsed": true
   },
   "outputs": [],
   "source": [
    "ze = rep(0, nrow(ship.data))\n",
    "\n",
    "## O2 Argon from EIMS\n",
    "temp = eims.interp(ship.data$DT, eims.v1$time, ze, eims.v1$O2.Ar, ze)\n",
    "ship.data$O2.Ar = temp[[1]]\n",
    "ship.data$FLAG.O2.Ar = temp[[2]]\n",
    "\n",
    "## Calibration\n",
    "temp = eims.interp(ship.data$DT, eims.v2$time, ze, eims.v2$O2.Ar, ze)\n",
    "ship.data$O2.Ar.cal = temp[[1]]\n",
    "ship.data$FLAG.O2.Ar.cal = temp[[2]]\n",
    "\n",
    "# Inlet Temperature\n",
    "#temp = eims.interp(ship.data$DT, rbind(eims.v1$time, eims.v2$time), ze, rbind(eims.v1$inlet, eims.v2$inlet), ze)\n",
    "temp = eims.interp(ship.data$DT, eims.v1$time, ze, eims.v1$inlet, ze)\n",
    "ship.data$Inlet.T = temp[[1]]\n",
    "ship.data$FLAG.Inlet.T = temp[[2]]"
   ]
  },
  {
   "cell_type": "code",
   "execution_count": 77,
   "metadata": {
    "scrolled": false
   },
   "outputs": [
    {
     "data": {
      "image/png": "[encoded data removed]",
      "text/plain": [
       "Plot with title \"O2:Ar Data Summary\""
      ]
     },
     "metadata": {},
     "output_type": "display_data"
    },
    {
     "data": {
      "image/png": "[encoded data removed]",
      "text/plain": [
       "Plot with title \"O2:Ar Calibration Summary\""
      ]
     },
     "metadata": {},
     "output_type": "display_data"
    },
    {
     "data": {
      "image/png": "[encoded data removed]",
      "text/plain": [
       "Plot with title \"Temporal Verification for EIMS & SHIP Times\""
      ]
     },
     "metadata": {},
     "output_type": "display_data"
    }
   ],
   "source": [
    "\n",
    "#par(mfrow=c(2,1))\n",
    "#pdf('Output/EIMS_Data Summary.pdf')\n",
    "\n",
    "flag.color = c('black', 'red', 'orange', 'orange')\n",
    "\n",
    "## O2 argon verification\n",
    "plot(ship.data$DT, ship.data$O2.Ar, col=flag.color[ship.data$FLAG.O2.Ar],\n",
    "     pch=16, cex=0.3, ylab='O2:Ar (Measured)', xlab='', main='O2:Ar Data Summary')\n",
    "legend(ship.data$DT[1], 18, col=flag.color, c('Normal', 'Interpolated', 'One Sided'), pch=16, cex=0.55)\n",
    "\n",
    "## Calibration verification\n",
    "plot(ship.data$DT, ship.data$O2.Ar.cal, col=flag.color[ship.data$FLAG.O2.Ar.cal],\n",
    "     pch=16, cex=0.3, ylab='O2:Ar (calibration)', xlab='', main='O2:Ar Calibration Summary')\n",
    "legend(ship.data$DT[1], 18, col=flag.color, c('Normal', 'Interpolated', 'One Sided'), pch=16)\n",
    "\n",
    "## Time validation\n",
    "plot(ship.data$DT, ship.data$DT, pch=16, cex=1, ylab='Time', xlab='Time', main='Temporal Verification for EIMS & SHIP Times')\n",
    "points(eims.v1$time, eims.v1$time, col='red', pch=16, cex=0.5)\n",
    "legend(ship.data$DT[1], ship.data$DT[2000], c('Ship', 'EIMS'), col=c('black', 'red'), pch=16)\n",
    "\n",
    "#dev.off()"
   ]
  },
  {
   "cell_type": "markdown",
   "metadata": {},
   "source": [
    "---\n",
    "# Cycle Information\n",
    "\n",
    "This section simply fined the nearest timestamp in the ship's log and adds the \"Cycle\" entry to the ship.data."
   ]
  },
  {
   "cell_type": "code",
   "execution_count": 78,
   "metadata": {
    "collapsed": true
   },
   "outputs": [],
   "source": [
    "cycles = read.xlsx('Raw Data/1706events-updated .xlsx')\n",
    "cycles$Datetime.UTC = conv_excel_time(cycles$Datetime.UTC, tz='UTC')\n",
    "\n",
    "ship.data$Cycle = NULL\n",
    "\n",
    "for (i in 1:nrow(ship.data)) {\n",
    "    dt = abs(as.numeric(difftime(ship.data$DT[i], cycles$Datetime.UTC, unit='mins')))\n",
    "    ship.data$Cycle[i] = cycles$Cycle[which.min(dt)]\n",
    "}"
   ]
  },
  {
   "cell_type": "code",
   "execution_count": 79,
   "metadata": {},
   "outputs": [
    {
     "data": {
      "image/png": "[encoded data removed]",
      "text/plain": [
       "plot without title"
      ]
     },
     "metadata": {},
     "output_type": "display_data"
    }
   ],
   "source": [
    "#pdf('Output/Sequence ofEvents.pdf')\n",
    "\n",
    "l = unique(ship.data$Cycle)\n",
    "cols = sapply(ship.data$Cycle, function(x) {which(l == x)} )\n",
    "\n",
    "plot(ship.data$DT, cols, col=get.qual.pal(length(l))[cols], pch=16, cex=0.5, ylab='Stage', xlab='')\n",
    "legend(ship.data$DT[1], length(l), l, col=get.qual.pal(length(l)), lwd=2, cex=0.7)\n",
    "\n",
    "#dev.off()"
   ]
  },
  {
   "cell_type": "code",
   "execution_count": 80,
   "metadata": {
    "collapsed": true
   },
   "outputs": [],
   "source": [
    "save(ship.data, file='./RStates/ship.final.rdata')\n",
    "write.xlsx(ship.data, file='./Input Data/Shipdata - Final.xlsx')"
   ]
  },
  {
   "cell_type": "code",
   "execution_count": null,
   "metadata": {
    "collapsed": true
   },
   "outputs": [],
   "source": []
  }
 ],
 "metadata": {
  "kernelspec": {
   "display_name": "R",
   "language": "R",
   "name": "ir"
  },
  "language_info": {
   "codemirror_mode": "r",
   "file_extension": ".r",
   "mimetype": "text/x-r-source",
   "name": "R",
   "pygments_lexer": "r",
   "version": "3.4.1"
  }
 },
 "nbformat": 4,
 "nbformat_minor": 2
}
